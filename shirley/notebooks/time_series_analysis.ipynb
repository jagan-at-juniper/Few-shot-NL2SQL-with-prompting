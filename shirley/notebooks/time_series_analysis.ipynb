{
 "cells": [
  {
   "cell_type": "code",
   "execution_count": 210,
   "id": "d2decbb4",
   "metadata": {},
   "outputs": [],
   "source": [
    "# es_client_events MARVIS_EVENT_CLIENT_FBT_FAILURE\n",
    "# from datetime import datetime\n",
    "\n",
    "# date_list = [8, 9, 10]\n",
    "# for d in date_list:\n",
    "#     for hr in range(0, 24):\n",
    "        \n",
    "#         dt_hr_str = '2022-05-{:02d} {:02d}:00:00'.format(d, hr)\n",
    "#         dt = datetime.strptime(dt_hr_str, \"%Y-%m-%d %H:%M:%S\")\n",
    "#         cc = spark.read.orc('s3://mist-secorapp-production/es-client-event/es-client-event-production/dt=2022-05-{:02d}/hr={:02d}/'.format(d, hr))\\\n",
    "#                                .filter('ev_type == \"MARVIS_EVENT_CLIENT_FBT_FAILURE\"').count()\n",
    "    \n",
    "#         print('\"{}\": {},'.format(dt_hr_str, cc))\n",
    "\n",
    "data_dict = {\n",
    "\"2022-04-28 00:00:00\": 264094,                                                  \n",
    "\"2022-04-28 01:00:00\": 245471,                                                  \n",
    "\"2022-04-28 02:00:00\": 259161,                                                  \n",
    "\"2022-04-28 03:00:00\": 229439,                                                  \n",
    "\"2022-04-28 04:00:00\": 213946,                                                  \n",
    "\"2022-04-28 05:00:00\": 203683,                                                  \n",
    "\"2022-04-28 06:00:00\": 204622,                                                  \n",
    "\"2022-04-28 07:00:00\": 195347,                                                  \n",
    "\"2022-04-28 08:00:00\": 205345,                                                  \n",
    "\"2022-04-28 09:00:00\": 203434,                                                  \n",
    "\"2022-04-28 10:00:00\": 197852,                                                  \n",
    "\"2022-04-28 11:00:00\": 229294,                                                  \n",
    "\"2022-04-28 12:00:00\": 307584,                                                  \n",
    "\"2022-04-28 13:00:00\": 414704,                                                  \n",
    "\"2022-04-28 14:00:00\": 416391,                                                  \n",
    "\"2022-04-28 15:00:00\": 443198,                                                  \n",
    "\"2022-04-28 16:00:00\": 515121,                                                  \n",
    "\"2022-04-28 17:00:00\": 475893,                                                  \n",
    "\"2022-04-28 18:00:00\": 433389,                                                  \n",
    "\"2022-04-28 19:00:00\": 416165,                                                  \n",
    "\"2022-04-28 20:00:00\": 379366,                                                  \n",
    "\"2022-04-28 21:00:00\": 336425,                                                  \n",
    "\"2022-04-28 22:00:00\": 317787,                                                  \n",
    "\"2022-04-28 23:00:00\": 261386,\n",
    "\"2022-04-29 00:00:00\": 213817,                                                   \n",
    "\"2022-04-29 01:00:00\": 196116,                                                   \n",
    "\"2022-04-29 02:00:00\": 209374,                                                   \n",
    "\"2022-04-29 03:00:00\": 218193,                                                   \n",
    "\"2022-04-29 04:00:00\": 203825,                                                   \n",
    "\"2022-04-29 05:00:00\": 195927,                                                   \n",
    "\"2022-04-29 06:00:00\": 185944,                                                   \n",
    "\"2022-04-29 07:00:00\": 192155,                                                   \n",
    "\"2022-04-29 08:00:00\": 213439,                                                   \n",
    "\"2022-04-29 09:00:00\": 212737,                                                   \n",
    "\"2022-04-29 10:00:00\": 217182,                                                   \n",
    "\"2022-04-29 11:00:00\": 231286,                                                   \n",
    "\"2022-04-29 12:00:00\": 309887,                                                   \n",
    "\"2022-04-29 13:00:00\": 408328,                                                   \n",
    "\"2022-04-29 14:00:00\": 458844,                                                   \n",
    "\"2022-04-29 15:00:00\": 494331,                                                   \n",
    "\"2022-04-29 16:00:00\": 515419,                                                   \n",
    "\"2022-04-29 17:00:00\": 473551,                                                   \n",
    "\"2022-04-29 18:00:00\": 440334,                                                   \n",
    "\"2022-04-29 19:00:00\": 419758,                                                   \n",
    "\"2022-04-29 20:00:00\": 368849,                                                   \n",
    "\"2022-04-29 21:00:00\": 351512,                                                   \n",
    "\"2022-04-29 22:00:00\": 330680,                                                   \n",
    "\"2022-04-29 23:00:00\": 268691, \n",
    "\"2022-04-30 00:00:00\": 241878,                                                   \n",
    "\"2022-04-30 01:00:00\": 239664,                                                   \n",
    "\"2022-04-30 02:00:00\": 256850,                                                   \n",
    "\"2022-04-30 03:00:00\": 243329,                                                   \n",
    "\"2022-04-30 04:00:00\": 222210,                                                   \n",
    "\"2022-04-30 05:00:00\": 206610,                                                   \n",
    "\"2022-04-30 06:00:00\": 196432,                                                   \n",
    "\"2022-04-30 07:00:00\": 201146,                                                   \n",
    "\"2022-04-30 08:00:00\": 191787,                                                   \n",
    "\"2022-04-30 09:00:00\": 182483,                                                   \n",
    "\"2022-04-30 10:00:00\": 192411,                                                   \n",
    "\"2022-04-30 11:00:00\": 195365,                                                   \n",
    "\"2022-04-30 12:00:00\": 236520,                                                   \n",
    "\"2022-04-30 13:00:00\": 308096,                                                   \n",
    "\"2022-04-30 14:00:00\": 292057,                                                   \n",
    "\"2022-04-30 15:00:00\": 283640,                                                   \n",
    "\"2022-04-30 16:00:00\": 303995,                                                   \n",
    "\"2022-04-30 17:00:00\": 294162,                                                   \n",
    "\"2022-04-30 18:00:00\": 276078,                                                   \n",
    "\"2022-04-30 19:00:00\": 246357,                                                   \n",
    "\"2022-04-30 20:00:00\": 224896,                                                   \n",
    "\"2022-04-30 21:00:00\": 221528,                                                   \n",
    "\"2022-04-30 22:00:00\": 216633,                                                   \n",
    "\"2022-04-30 23:00:00\": 218381,\n",
    "\"2022-05-01 00:00:00\": 206214,                                                   \n",
    "\"2022-05-01 01:00:00\": 207536,                                                   \n",
    "\"2022-05-01 02:00:00\": 237276,                                                   \n",
    "\"2022-05-01 03:00:00\": 208244,                                                   \n",
    "\"2022-05-01 04:00:00\": 183706,                                                   \n",
    "\"2022-05-01 05:00:00\": 161090,                                                   \n",
    "\"2022-05-01 06:00:00\": 154394,                                                   \n",
    "\"2022-05-01 07:00:00\": 148261,                                                   \n",
    "\"2022-05-01 08:00:00\": 160235,                                                   \n",
    "\"2022-05-01 09:00:00\": 162150,                                                   \n",
    "\"2022-05-01 10:00:00\": 156707,                                                   \n",
    "\"2022-05-01 11:00:00\": 155552,                                                   \n",
    "\"2022-05-01 12:00:00\": 201415,                                                   \n",
    "\"2022-05-01 13:00:00\": 275012,                                                   \n",
    "\"2022-05-01 14:00:00\": 242464,                                                   \n",
    "\"2022-05-01 15:00:00\": 239155,                                                   \n",
    "\"2022-05-01 16:00:00\": 237590,                                                   \n",
    "\"2022-05-01 17:00:00\": 208386,                                                   \n",
    "\"2022-05-01 18:00:00\": 218933,                                                   \n",
    "\"2022-05-01 19:00:00\": 207653,                                                   \n",
    "\"2022-05-01 20:00:00\": 198632,                                                   \n",
    "\"2022-05-01 21:00:00\": 199356,                                                   \n",
    "\"2022-05-01 22:00:00\": 202555,                                                   \n",
    "\"2022-05-01 23:00:00\": 187548,\n",
    "\"2022-05-02 00:00:00\": 158901,                                                   \n",
    "\"2022-05-02 01:00:00\": 158251,                                                   \n",
    "\"2022-05-02 02:00:00\": 188681,                                                   \n",
    "\"2022-05-02 03:00:00\": 193117,                                                   \n",
    "\"2022-05-02 04:00:00\": 212038,                                                   \n",
    "\"2022-05-02 05:00:00\": 197442,                                                   \n",
    "\"2022-05-02 06:00:00\": 206912,                                                   \n",
    "\"2022-05-02 07:00:00\": 209190,                                                   \n",
    "\"2022-05-02 08:00:00\": 227753,                                                   \n",
    "\"2022-05-02 09:00:00\": 242181,                                                   \n",
    "\"2022-05-02 10:00:00\": 254165,                                                   \n",
    "\"2022-05-02 11:00:00\": 285035,                                                   \n",
    "\"2022-05-02 12:00:00\": 346962,                                                   \n",
    "\"2022-05-02 13:00:00\": 432520,                                                   \n",
    "\"2022-05-02 14:00:00\": 448444,                                                   \n",
    "\"2022-05-02 15:00:00\": 495809,                                                   \n",
    "\"2022-05-02 16:00:00\": 531078,                                                   \n",
    "\"2022-05-02 17:00:00\": 472321,                                                   \n",
    "\"2022-05-02 18:00:00\": 463481,                                                   \n",
    "\"2022-05-02 19:00:00\": 429698,                                                   \n",
    "\"2022-05-02 20:00:00\": 390095,                                                   \n",
    "\"2022-05-02 21:00:00\": 356785,                                                   \n",
    "\"2022-05-02 22:00:00\": 338915,                                                   \n",
    "\"2022-05-02 23:00:00\": 283479,\n",
    "\"2022-05-03 00:00:00\": 244343,                                                   \n",
    "\"2022-05-03 01:00:00\": 237291,                                                   \n",
    "\"2022-05-03 02:00:00\": 256642,                                                   \n",
    "\"2022-05-03 03:00:00\": 236906,                                                   \n",
    "\"2022-05-03 04:00:00\": 213609,                                                   \n",
    "\"2022-05-03 05:00:00\": 207104,                                                   \n",
    "\"2022-05-03 06:00:00\": 218812,                                                   \n",
    "\"2022-05-03 07:00:00\": 235367,                                                   \n",
    "\"2022-05-03 08:00:00\": 240838,                                                   \n",
    "\"2022-05-03 09:00:00\": 227917,                                                   \n",
    "\"2022-05-03 10:00:00\": 249795,                                                   \n",
    "\"2022-05-03 11:00:00\": 267792,                                                   \n",
    "\"2022-05-03 12:00:00\": 351667,                                                   \n",
    "\"2022-05-03 13:00:00\": 464218,                                                   \n",
    "\"2022-05-03 14:00:00\": 469370,                                                   \n",
    "\"2022-05-03 15:00:00\": 480234,                                                   \n",
    "\"2022-05-03 16:00:00\": 606446,                                                   \n",
    "\"2022-05-03 17:00:00\": 600772,                                                   \n",
    "\"2022-05-03 18:00:00\": 536461,                                                   \n",
    "\"2022-05-03 19:00:00\": 507472,                                                   \n",
    "\"2022-05-03 20:00:00\": 482906,                                                   \n",
    "\"2022-05-03 21:00:00\": 452085,                                                   \n",
    "\"2022-05-03 22:00:00\": 433249,                                                   \n",
    "\"2022-05-03 23:00:00\": 370156,\n",
    "\"2022-05-04 00:00:00\": 297989,                                                \n",
    "\"2022-05-04 01:00:00\": 282087,                                                  \n",
    "\"2022-05-04 02:00:00\": 295097,                                                   \n",
    "\"2022-05-04 03:00:00\": 257877,                                                   \n",
    "\"2022-05-04 04:00:00\": 234240,                                                   \n",
    "\"2022-05-04 05:00:00\": 234241,                                                   \n",
    "\"2022-05-04 06:00:00\": 237742,                                                   \n",
    "\"2022-05-04 07:00:00\": 233097,                                                   \n",
    "\"2022-05-04 08:00:00\": 250268,                                                   \n",
    "\"2022-05-04 09:00:00\": 236672,                                                   \n",
    "\"2022-05-04 10:00:00\": 222604,                                                   \n",
    "\"2022-05-04 11:00:00\": 261255,                                                   \n",
    "\"2022-05-04 12:00:00\": 338845,                                                   \n",
    "\"2022-05-04 13:00:00\": 429223,                                                   \n",
    "\"2022-05-04 14:00:00\": 449202,                                                   \n",
    "\"2022-05-04 15:00:00\": 476252,                                                   \n",
    "\"2022-05-04 16:00:00\": 496230,                                                   \n",
    "\"2022-05-04 17:00:00\": 468568,                                                   \n",
    "\"2022-05-04 18:00:00\": 462544,                                                   \n",
    "\"2022-05-04 19:00:00\": 715362,                                                   \n",
    "\"2022-05-04 20:00:00\": 482290,                                                   \n",
    "\"2022-05-04 21:00:00\": 482964,                                                   \n",
    "\"2022-05-04 22:00:00\": 563938,                                                   \n",
    "\"2022-05-04 23:00:00\": 522573,\n",
    "\"2022-05-05 00:00:00\": 478610, \n",
    "\"2022-05-05 01:00:00\": 462464,\n",
    "\"2022-05-05 02:00:00\": 395771,\n",
    "\"2022-05-05 03:00:00\": 333660,\n",
    "\"2022-05-05 04:00:00\": 311197,\n",
    "\"2022-05-05 05:00:00\": 292741,\n",
    "\"2022-05-05 06:00:00\": 271798,\n",
    "\"2022-05-05 07:00:00\": 280157,\n",
    "\"2022-05-05 08:00:00\": 295836,\n",
    "\"2022-05-05 09:00:00\": 279394,\n",
    "\"2022-05-05 10:00:00\": 267760,\n",
    "\"2022-05-05 11:00:00\": 288778,\n",
    "\"2022-05-05 12:00:00\": 369419,\n",
    "\"2022-05-05 13:00:00\": 466294,\n",
    "\"2022-05-05 14:00:00\": 462163,\n",
    "\"2022-05-05 15:00:00\": 482274,\n",
    "\"2022-05-05 16:00:00\": 536950,\n",
    "\"2022-05-05 17:00:00\": 481697,\n",
    "\"2022-05-05 18:00:00\": 421388,\n",
    "\"2022-05-05 19:00:00\": 399778,\n",
    "\"2022-05-05 20:00:00\": 380373,\n",
    "\"2022-05-05 21:00:00\": 345607,\n",
    "\"2022-05-05 22:00:00\": 324106,\n",
    "\"2022-05-05 23:00:00\": 261877,\n",
    "\"2022-05-06 00:00:00\": 213425,\n",
    "\"2022-05-06 01:00:00\": 254735,\n",
    "\"2022-05-06 02:00:00\": 259034,                                     \n",
    "\"2022-05-06 03:00:00\": 285722,                                             \n",
    "\"2022-05-06 04:00:00\": 261604,                                             \n",
    "\"2022-05-06 05:00:00\": 252787,                                             \n",
    "\"2022-05-06 06:00:00\": 269578,                                             \n",
    "\"2022-05-06 07:00:00\": 282969,                                             \n",
    "\"2022-05-06 08:00:00\": 285398,                                             \n",
    "\"2022-05-06 09:00:00\": 274133,                                             \n",
    "\"2022-05-06 10:00:00\": 264786,                                             \n",
    "\"2022-05-06 11:00:00\": 295637,                                             \n",
    "\"2022-05-06 12:00:00\": 354550,                                             \n",
    "\"2022-05-06 13:00:00\": 448199,                                             \n",
    "\"2022-05-06 14:00:00\": 440843,                                             \n",
    "\"2022-05-06 15:00:00\": 477683,                                             \n",
    "\"2022-05-06 16:00:00\": 517613,                                             \n",
    "\"2022-05-06 17:00:00\": 481222,                                             \n",
    "\"2022-05-06 18:00:00\": 431416,                                             \n",
    "\"2022-05-06 19:00:00\": 391853,                                             \n",
    "\"2022-05-06 20:00:00\": 329054,                                             \n",
    "\"2022-05-06 21:00:00\": 318194,                                             \n",
    "\"2022-05-06 22:00:00\": 278607,                                             \n",
    "\"2022-05-06 23:00:00\": 227013,\n",
    "}\n",
    "\n",
    "validation_data = {\n",
    "\"2022-05-07 00:00:00\": 203290  ,   \n",
    "\"2022-05-07 01:00:00\": 201666  ,   \n",
    "\"2022-05-07 02:00:00\": 243641  ,   \n",
    "\"2022-05-07 03:00:00\": 271605  ,             \n",
    "\"2022-05-07 04:00:00\": 276639  ,   \n",
    "\"2022-05-07 05:00:00\": 281781  ,  \n",
    "\"2022-05-07 06:00:00\": 401194  ,\n",
    "\"2022-05-07 07:00:00\": 523784  ,   \n",
    "\"2022-05-07 08:00:00\": 614344  ,   \n",
    "\"2022-05-07 09:00:00\": 784469  ,                            \n",
    "\"2022-05-07 10:00:00\": 873496  ,          \n",
    "\"2022-05-07 11:00:00\": 1057520 ,    \n",
    "\"2022-05-07 12:00:00\": 1327834 ,    \n",
    "\"2022-05-07 13:00:00\": 1794098 ,                   \n",
    "\"2022-05-07 14:00:00\": 2088191 ,    \n",
    "\"2022-05-07 15:00:00\": 2246512 ,    \n",
    "\"2022-05-07 16:00:00\": 2440796 ,                            \n",
    "\"2022-05-07 17:00:00\": 2529105 ,          \n",
    "\"2022-05-07 18:00:00\": 2568472 ,    \n",
    "\"2022-05-07 19:00:00\": 2704518 ,    \n",
    "\"2022-05-07 20:00:00\": 2624128 ,                   \n",
    "\"2022-05-07 21:00:00\": 2641280 ,    \n",
    "\"2022-05-07 22:00:00\": 2557751 ,    \n",
    "\"2022-05-07 23:00:00\": 2552923 ,\n",
    "\"2022-05-08 00:00:00\": 2507903,                                                  \n",
    "\"2022-05-08 01:00:00\": 2443768,                                                  \n",
    "\"2022-05-08 02:00:00\": 2459083,                                                  \n",
    "\"2022-05-08 03:00:00\": 2473973,                                                  \n",
    "\"2022-05-08 04:00:00\": 2507584,                                                  \n",
    "\"2022-05-08 05:00:00\": 2570062,                                                  \n",
    "\"2022-05-08 06:00:00\": 2816961,                                                  \n",
    "\"2022-05-08 07:00:00\": 2975294,                                                  \n",
    "\"2022-05-08 08:00:00\": 3282495,                                                  \n",
    "\"2022-05-08 09:00:00\": 3529780,                                                  \n",
    "\"2022-05-08 10:00:00\": 3908378,                                                  \n",
    "\"2022-05-08 11:00:00\": 4264616,                                                  \n",
    "\"2022-05-08 12:00:00\": 4669552,                                                  \n",
    "\"2022-05-08 13:00:00\": 5466396,                                                  \n",
    "\"2022-05-08 14:00:00\": 5848237,                                                  \n",
    "\"2022-05-08 15:00:00\": 5852361,                                                  \n",
    "\"2022-05-08 16:00:00\": 5983584,                                                  \n",
    "\"2022-05-08 17:00:00\": 5828260,                                                  \n",
    "\"2022-05-08 18:00:00\": 5678846,                                                  \n",
    "\"2022-05-08 19:00:00\": 5525741,                                                  \n",
    "\"2022-05-08 20:00:00\": 5433127,                                                  \n",
    "\"2022-05-08 21:00:00\": 5387970,                                                  \n",
    "\"2022-05-08 22:00:00\": 5372698,                                                  \n",
    "\"2022-05-08 23:00:00\": 5332265,\n",
    "\"2022-05-09 00:00:00\": 5177023,                                                  \n",
    "\"2022-05-09 01:00:00\": 5463630,                                                  \n",
    "\"2022-05-09 02:00:00\": 5495802,                                                  \n",
    "\"2022-05-09 03:00:00\": 5903417,                                                  \n",
    "\"2022-05-09 04:00:00\": 6211361,                                                  \n",
    "\"2022-05-09 05:00:00\": 6679268,                                                  \n",
    "\"2022-05-09 06:00:00\": 7323762,                                                  \n",
    "\"2022-05-09 07:00:00\": 7900924,                                                  \n",
    "\"2022-05-09 08:00:00\": 8397227,                                                  \n",
    "\"2022-05-09 09:00:00\": 8667465,                                                  \n",
    "\"2022-05-09 10:00:00\": 8945859,                                                  \n",
    "\"2022-05-09 11:00:00\": 9346881,                                                  \n",
    "\"2022-05-09 12:00:00\": 10428850,                                                 \n",
    "\"2022-05-09 13:00:00\": 11885067,                                                 \n",
    "\"2022-05-09 14:00:00\": 12485398,                                                 \n",
    "\"2022-05-09 15:00:00\": 12041112,                                                 \n",
    "\"2022-05-09 16:00:00\": 10425220,                                                 \n",
    "\"2022-05-09 17:00:00\": 9186851,                                                  \n",
    "\"2022-05-09 18:00:00\": 8458588,                                                  \n",
    "\"2022-05-09 19:00:00\": 7956468,                                                  \n",
    "\"2022-05-09 20:00:00\": 7643133,                                                  \n",
    "\"2022-05-09 21:00:00\": 7340228,                                                  \n",
    "\"2022-05-09 22:00:00\": 7046706,                                                  \n",
    "\"2022-05-09 23:00:00\": 6685451, \n",
    "\"2022-05-10 00:00:00\": 6519550,                                                  \n",
    "\"2022-05-10 01:00:00\": 6310026,                                                  \n",
    "\"2022-05-10 02:00:00\": 6509654,                                                  \n",
    "\"2022-05-10 03:00:00\": 6504343,                                                  \n",
    "\"2022-05-10 04:00:00\": 6483951,                                                  \n",
    "\"2022-05-10 05:00:00\": 6372713,                                                  \n",
    "\"2022-05-10 06:00:00\": 6135400,                                                  \n",
    "\"2022-05-10 07:00:00\": 5585741,                                                  \n",
    "\"2022-05-10 08:00:00\": 4948830,                                                  \n",
    "\"2022-05-10 09:00:00\": 4331981,                                                  \n",
    "\"2022-05-10 10:00:00\": 3866837,                                                  \n",
    "\"2022-05-10 11:00:00\": 3408347,                                                  \n",
    "\"2022-05-10 12:00:00\": 2918923,                                                  \n",
    "\"2022-05-10 13:00:00\": 2026982,                                                  \n",
    "\"2022-05-10 14:00:00\": 1289272,                                                  \n",
    "\"2022-05-10 15:00:00\": 736528,                                                   \n",
    "\"2022-05-10 16:00:00\": 465675,                                                   \n",
    "\"2022-05-10 17:00:00\": 428917,                                                   \n",
    "\"2022-05-10 18:00:00\": 408240,                                                   \n",
    "\"2022-05-10 19:00:00\": 370994,                                                   \n",
    "\"2022-05-10 20:00:00\": 341746,                                                   \n",
    "\"2022-05-10 21:00:00\": 342491,                                                   \n",
    "\"2022-05-10 22:00:00\": 303183,                                                   \n",
    "\"2022-05-10 23:00:00\": 230901,\n",
    "\"2022-05-11 00:00:00\": 207620,\n",
    "\"2022-05-11 01:00:00\": 184169,\n",
    "\"2022-05-11 02:00:00\": 198858,\n",
    "\"2022-05-11 03:00:00\": 202829,\n",
    "\"2022-05-11 04:00:00\": 186169,\n",
    "\"2022-05-11 05:00:00\": 176336,\n",
    "\"2022-05-11 06:00:00\": 168198,\n",
    "\"2022-05-11 07:00:00\": 177352,\n",
    "\"2022-05-11 08:00:00\": 205528,\n",
    "\"2022-05-11 09:00:00\": 184978,\n",
    "\"2022-05-11 10:00:00\": 194643,\n",
    "\"2022-05-11 11:00:00\": 213200,\n",
    "\"2022-05-11 12:00:00\": 301416,\n",
    "\"2022-05-11 13:00:00\": 395134,\n",
    "\"2022-05-11 14:00:00\": 391225,\n",
    "\"2022-05-11 15:00:00\": 432931,\n",
    "\"2022-05-11 16:00:00\": 482613,\n",
    "\"2022-05-11 17:00:00\": 419556,\n",
    "\"2022-05-11 18:00:00\": 402907,\n",
    "\"2022-05-11 19:00:00\": 377694,\n",
    "\"2022-05-11 20:00:00\": 342604,\n",
    "\"2022-05-11 21:00:00\": 318610,\n",
    "\"2022-05-11 22:00:00\": 270738,\n",
    "\"2022-05-11 23:00:00\": 227139,\n",
    "}\n",
    "\n",
    "import pandas as pd\n",
    "import numpy as np\n",
    "from datetime import datetime\n",
    "\n",
    "data = {datetime.strptime(k, '%Y-%m-%d %H:%M:%S'): v for k, v in data_dict.items()}\n",
    "test_data = {datetime.strptime(k, '%Y-%m-%d %H:%M:%S'): v for k, v in validation_data.items()}\n",
    "\n",
    "df = pd.DataFrame(data.items()).rename(columns={0:'date', 1:'y'})\n",
    "\n",
    "test_df = pd.DataFrame(test_data.items()).rename(columns={0:'date', 1:'y'})"
   ]
  },
  {
   "cell_type": "code",
   "execution_count": 211,
   "id": "9f5a7f9d",
   "metadata": {},
   "outputs": [],
   "source": [
    "import pandas as pd\n",
    "from datetime import datetime, timedelta\n",
    "import numpy as np\n",
    "import matplotlib.pyplot as plt\n",
    "\n",
    "import re\n",
    "import random\n",
    "import plotly.express as px\n",
    "from plotly.subplots import make_subplots\n",
    "import plotly.graph_objects as go\n",
    "\n",
    "def plot_ts(df, metric, color=None):\n",
    "    \"\"\"Takes in dataframe with \n",
    "    epoch time as indices and generates\n",
    "    time series plot with one\n",
    "    metric\"\"\"\n",
    "    reset_df = df.reset_index()\n",
    "    reset_df = reset_df.sort_values(by=['date'])\n",
    "    plt.rc('font', size=12)\n",
    "    fig, ax = plt.subplots(figsize=(16, 6))\n",
    "    ax.set_xlabel('Time')\n",
    "    ax.set_ylabel('Stats')\n",
    "    ax.set_title(metric + ' Time Series')\n",
    "    ax.grid(True)\n",
    "    return ax.plot(reset_df.date, reset_df[metric], color=None)"
   ]
  },
  {
   "cell_type": "code",
   "execution_count": 212,
   "id": "e9cc85e4",
   "metadata": {},
   "outputs": [
    {
     "data": {
      "text/plain": [
       "[<matplotlib.lines.Line2D at 0x13afae2e0>]"
      ]
     },
     "execution_count": 212,
     "metadata": {},
     "output_type": "execute_result"
    },
    {
     "data": {
      "image/png": "[encoded data removed]",
      "text/plain": [
       "<Figure size 1152x432 with 1 Axes>"
      ]
     },
     "metadata": {
      "needs_background": "light"
     },
     "output_type": "display_data"
    }
   ],
   "source": [
    "plot_ts(df, 'y')"
   ]
  },
  {
   "cell_type": "code",
   "execution_count": 213,
   "id": "5ad68e22",
   "metadata": {},
   "outputs": [],
   "source": [
    "\n",
    "import pandas as pd\n",
    "from datetime import datetime, timedelta\n",
    "import numpy as np\n",
    "import matplotlib.pyplot as plt\n",
    "import re\n",
    "import random\n",
    "import plotly.express as px\n",
    "from plotly.subplots import make_subplots\n",
    "import plotly.graph_objects as go\n",
    "import warnings\n",
    "warnings.filterwarnings(\"ignore\")\n",
    "\n",
    "from statsmodels.tsa.api import ExponentialSmoothing\n",
    "\n",
    "def fit_sm_ExponentialSmoothing(df, date_col, metric_col, resample, resamp_freq=None):\n",
    "    \"\"\"\n",
    "    Takes in dataframe,\n",
    "    metric (string), resample frequency (string).\n",
    "    Fits and returns two dataframes. One is\n",
    "    the original dataframne after resampling.\n",
    "    The other is a dataframe of the data's\n",
    "    decomposition.\n",
    "\n",
    "    Parameters:\n",
    "        df (pandas dataframe): dataframe we want to analyze\n",
    "        date_col (str): name of date/time column\n",
    "        metric_col (str): name of column we want to analyze\n",
    "        resample (bool): True if resampling needed, False to keep current timestamp\n",
    "        resamp_freq (str): resample frequency if necessary\n",
    "\n",
    "        NOTE: resamp_freq must be higher than original frequency\n",
    "\n",
    "    Returns:\n",
    "        df_resample (pandas dataframe): dataframe after resampling - later used to forecast & detect anomalies\n",
    "        states (pandas dataftame): dataframe with time series decomposition (level, seasonality, residual)\n",
    "    \"\"\"\n",
    "    df = df[[date_col, metric_col]]\n",
    "    df[date_col] = pd.to_datetime(df.date)\n",
    "    df = df.sort_values([date_col])\n",
    "    df = df.set_index(date_col)\n",
    "    df.columns = ['value']\n",
    "    # if we want to resample\n",
    "    if resample:\n",
    "        df_resample = df.resample(resamp_freq).mean()\n",
    "        if 'T' in str(resamp_freq):\n",
    "            period = 60 / (int(re.findall(\"\\d+\", resamp_freq)[0]))\n",
    "        elif 'S' in str(resamp_freq):\n",
    "            period = (60 / (int(re.findall(\"\\d+\", resamp_freq)[0]))) * 60\n",
    "    else:\n",
    "        df_resample = df\n",
    "        \n",
    "        freqs = pd.infer_freq(df_resample.index)\n",
    "        # if isinstance(freqs, list):\n",
    "        #    period = (int(re.findall(\"\\d+\", pd.infer_freq(df_resample.index))[0]))\n",
    "        period = 1\n",
    "    # period = number of data points per hour after resampling\n",
    "    # seasonal_periods = (24 hours in a day)*period+1(make odd number as needed from statsmodels)\n",
    "    mod = ExponentialSmoothing(df_resample, seasonal_periods=24 * period + 1,\n",
    "                               trend='add', seasonal='add',\n",
    "                               use_boxcox=None, initialization_method=\"estimated\",\n",
    "                               missing='drop')\n",
    "\n",
    "    res = mod.fit()\n",
    "    states = pd.DataFrame(np.c_[res.level, res.season, res.resid, res.trend],\n",
    "                          columns=['level', 'seasonal', 'resid', 'trend'], index=res.level.index)\n",
    "    return (df_resample, states)\n",
    "\n",
    "def sm_detect_anomalies(df_resample, states, stdev=5):\n",
    "    \"\"\"\n",
    "    Takes in the two dataframes from fit_sm_ExponentialSmoothing()\n",
    "    and determines if a datapoint is an anomaly. Returns a dataframe.\n",
    "\n",
    "    Parameters:\n",
    "        df_resample (pandas dataframe): dataframe we want to analyze\n",
    "        states (pandas dataframe): name of date/time column\n",
    "        stdev (int): the amount of standard deviations away the confidence bands should be set\n",
    "                    * prediction +/- stdev*residual.std()\n",
    "    Returns:\n",
    "        anomalies (pandas dataframe): dataframe with resampled value, upper & lower limit,\n",
    "                                      anomaly (0 false / 1 true), and anomaly importance\n",
    "    \"\"\"\n",
    "\n",
    "    total = states['level'].mean() + states['seasonal']\n",
    "    resid = df_resample['value'] - total\n",
    "    upper_limit = total + (stdev * resid.std())\n",
    "    lower_limit = total - (stdev * resid.std())\n",
    "    lower_limit = lower_limit.apply(lambda x: max(x, 0))\n",
    "\n",
    "    df_resample['upper_limit'] = upper_limit\n",
    "    df_resample['lower_limit'] = lower_limit\n",
    "    df_resample['anomaly'] = 0\n",
    "    df_resample.loc[df_resample['value'] > df_resample['upper_limit'], 'anomaly'] = 1\n",
    "    df_resample.loc[df_resample['value'] < df_resample['lower_limit'], 'anomaly'] = -1\n",
    "\n",
    "    df_resample['importance'] = 0\n",
    "    df_resample.loc[df_resample['anomaly'] == 1, 'importance'] = \\\n",
    "        (df_resample['value'] - df_resample['upper_limit']) / df_resample['value']\n",
    "    df_resample.loc[df_resample['anomaly'] == -1, 'importance'] = \\\n",
    "        (df_resample['lower_limit'] - df_resample['value']) / df_resample['value']\n",
    "    anomalies = df_resample.copy()\n",
    "    return anomalies\n",
    "\n",
    "def sm_plot_anomalies(anomalies, states):\n",
    "    \"\"\"\n",
    "    Takes in dataframe from sm_detect_anomalies()\n",
    "    and decomposition dataframe from fit_sm_ExponentialSmoothing()\n",
    "    to plot anomalies if they exist.\n",
    "\n",
    "     Parameters:\n",
    "         anomalies (pandas dataframe): dataframe/output from sm_detect_anomalies()\n",
    "         states (pandas dataframe): dataframe with time series decomposition from fit_sm_ExponentialSmoothing()\n",
    "\n",
    "    Returns:\n",
    "        fig (plotly visualization): visualization with true points, upper & lower bands, and anomalies\n",
    "                                    if they exists (marked in red) as well as time series decomposition\n",
    "    \"\"\"\n",
    "    fig = make_subplots(rows=4, cols=1,\n",
    "                        subplot_titles=(\"Level\", \"Sesonality\", \"Residual\", \"Anomaly Detection\"))\n",
    "\n",
    "    fig.add_trace(\n",
    "        go.Scatter(x=states.index, y=states.level, name='Level'),\n",
    "        row=1, col=1)\n",
    "\n",
    "    fig.add_trace(\n",
    "        go.Scatter(x=states.index, y=states.seasonal, name='Seasonal'),\n",
    "        row=2, col=1)\n",
    "\n",
    "    fig.add_trace(\n",
    "        go.Scatter(x=states.index, y=states.resid, name='Residual'),\n",
    "        row=3, col=1)\n",
    "\n",
    "    anoms = anomalies[anomalies.anomaly != 0]\n",
    "\n",
    "    marker_sizes = []\n",
    "\n",
    "    for i in list(anoms.importance):\n",
    "        marker_sizes.append(i * 50)\n",
    "\n",
    "    fig.add_trace(\n",
    "        go.Scatter(x=anomalies[anomalies.anomaly == 0].index, y=anomalies[anomalies.anomaly == 0]['value'],\n",
    "                   mode='markers', opacity=0.5, marker={'color': 'purple'}, name='Metric'),\n",
    "        row=4, col=1)\n",
    "\n",
    "    fig.add_trace(\n",
    "        go.Scatter(x=anomalies[anomalies.anomaly != 0].index, y=anomalies[anomalies.anomaly != 0]['value'],\n",
    "                   mode='markers', opacity=0.7, marker={'color': 'red', 'size': marker_sizes}, name='Anomalies'),\n",
    "        row=4, col=1)\n",
    "\n",
    "    fig.add_trace(\n",
    "        go.Scatter(x=anomalies.index, y=anomalies['upper_limit'].rolling(window=5, win_type='gaussian', center=True).mean(std=1.0),\n",
    "                   name='Upper Limit'),\n",
    "        row=4, col=1)\n",
    "\n",
    "    fig.add_trace(\n",
    "        go.Scatter(x=anomalies.index, y=anomalies['lower_limit'].rolling(window=5, win_type='gaussian', center=True).mean(std=1.0),\n",
    "                   name='Lower Limit'),\n",
    "        row=4, col=1)\n",
    "\n",
    "    fig.update_layout(width=1300, height=1300)\n",
    "\n",
    "    return fig.show()\n",
    "\n",
    "def plot_importance(pred, date_col):\n",
    "    \"\"\"\n",
    "    Takes in prediction\n",
    "    and return line plot of anomaly\n",
    "    importance.\n",
    "\n",
    "    Parameters:\n",
    "        pred (pandas dataframe): dataframe from sm_detect_anomalies()\n",
    "        date_col (str): name of date/time column\n",
    "\n",
    "    Returns:\n",
    "        fig (plotly visualization): visualization of anomalies' importance if they exist\n",
    "    \"\"\"\n",
    "    df = pred.copy()\n",
    "    df.reset_index(inplace=True)\n",
    "    fig = px.line(df, x=date_col, y=\"importance\",\n",
    "                  title=\"Line Chart of Anomaly Importance\")\n",
    "    return fig.show()"
   ]
  },
  {
   "cell_type": "code",
   "execution_count": 224,
   "id": "7eb7609d",
   "metadata": {},
   "outputs": [
    {
     "data": {
      "text/plain": [
       "[<matplotlib.lines.Line2D at 0x13f6880d0>]"
      ]
     },
     "execution_count": 224,
     "metadata": {},
     "output_type": "execute_result"
    },
    {
     "data": {
      "image/png": "[encoded data removed]",
      "text/plain": [
       "<Figure size 1152x432 with 1 Axes>"
      ]
     },
     "metadata": {
      "needs_background": "light"
     },
     "output_type": "display_data"
    }
   ],
   "source": [
    "\n",
    "date_col = 'date'\n",
    "metric_col = 'y'\n",
    "pred2 = fit_sm_ExponentialSmoothing(df, date_col, metric_col, False)\n",
    "pred2[1]\n",
    "\n",
    "plot_ts(pred2[1], 'level')"
   ]
  },
  {
   "cell_type": "code",
   "execution_count": 225,
   "id": "cf1987e2",
   "metadata": {},
   "outputs": [
    {
     "data": {
      "text/plain": [
       "[<matplotlib.lines.Line2D at 0x13f672340>]"
      ]
     },
     "execution_count": 225,
     "metadata": {},
     "output_type": "execute_result"
    },
    {
     "data": {
      "image/png": "[encoded data removed]",
      "text/plain": [
       "<Figure size 1152x432 with 1 Axes>"
      ]
     },
     "metadata": {
      "needs_background": "light"
     },
     "output_type": "display_data"
    }
   ],
   "source": [
    "plot_ts(pred2[1], 'trend')"
   ]
  },
  {
   "cell_type": "code",
   "execution_count": 226,
   "id": "d5c0ef63",
   "metadata": {},
   "outputs": [
    {
     "data": {
      "text/plain": [
       "[<matplotlib.lines.Line2D at 0x13f744fd0>]"
      ]
     },
     "execution_count": 226,
     "metadata": {},
     "output_type": "execute_result"
    },
    {
     "data": {
      "image/png": "[encoded data removed]",
      "text/plain": [
       "<Figure size 1152x432 with 1 Axes>"
      ]
     },
     "metadata": {
      "needs_background": "light"
     },
     "output_type": "display_data"
    }
   ],
   "source": [
    "plot_ts(pred2[1], 'seasonal')"
   ]
  },
  {
   "cell_type": "code",
   "execution_count": 227,
   "id": "4bddeacb",
   "metadata": {},
   "outputs": [
    {
     "data": {
      "text/plain": [
       "[<matplotlib.lines.Line2D at 0x13f7b1190>]"
      ]
     },
     "execution_count": 227,
     "metadata": {},
     "output_type": "execute_result"
    },
    {
     "data": {
      "image/png": "[encoded data removed]",
      "text/plain": [
       "<Figure size 1152x432 with 1 Axes>"
      ]
     },
     "metadata": {
      "needs_background": "light"
     },
     "output_type": "display_data"
    }
   ],
   "source": [
    "plot_ts(pred2[1], 'resid')"
   ]
  },
  {
   "cell_type": "code",
   "execution_count": 228,
   "id": "fba655db",
   "metadata": {},
   "outputs": [],
   "source": [
    "date_col = 'date'\n",
    "metric_col = 'y'\n",
    "traing_df = df.copy()\n",
    "\n",
    "traing_df = traing_df[[date_col, metric_col]]\n",
    "traing_df[date_col] = pd.to_datetime(traing_df.date)\n",
    "traing_df = traing_df.sort_values([date_col])\n",
    "traing_df = traing_df.set_index(date_col)\n",
    "traing_df.columns = ['value']\n",
    "\n",
    "\n",
    "\n",
    "# period = number of data points per hour after resampling\n",
    "# seasonal_periods = (24 hours in a day)*period+1(make odd number as needed from statsmodels)\n",
    "period = 3\n",
    "mod = ExponentialSmoothing(traing_df, seasonal_periods=24 * period + 1,\n",
    "                           trend='add', seasonal='add',\n",
    "                           use_boxcox=None, initialization_method=\"estimated\",\n",
    "                           missing='drop')\n"
   ]
  },
  {
   "cell_type": "code",
   "execution_count": 229,
   "id": "5cd8e5ef",
   "metadata": {},
   "outputs": [],
   "source": [
    "res = mod.fit()\n",
    "\n",
    "states = pd.DataFrame(np.c_[res.level, res.season, res.resid, res.trend],\n",
    "                          columns=['level', 'seasonal', 'resid', 'trend'], index=res.level.index)"
   ]
  },
  {
   "cell_type": "code",
   "execution_count": 235,
   "id": "dbdc4b15",
   "metadata": {},
   "outputs": [],
   "source": [
    "predictions = res.predict(start=\"2022-05-07 00:00:00\", end=\"2022-05-11 23:00:00\")"
   ]
  },
  {
   "cell_type": "code",
   "execution_count": 236,
   "id": "49d6b8e9",
   "metadata": {},
   "outputs": [],
   "source": [
    "import plotly.express as px\n",
    "\n",
    "# create prediction DF indexed by date \n",
    "predict_df = pd.DataFrame({'date': predictions.index, 'y': predictions.values})\n",
    "predict_df['date'] = pd.to_datetime(predict_df.date)\n",
    "predict_df['status'] = 'prediction'\n",
    "\n",
    "# actual value of the same date\n",
    "bb_df = test_df.copy()\n",
    "bb_df['status'] = 'actual'\n",
    "bb_df['date'] = pd.to_datetime(bb_df.date)\n",
    "\n",
    "# combine prediction with actual to plot the data\n",
    "final_df = pd.concat([predict_df, bb_df])\n"
   ]
  },
  {
   "cell_type": "code",
   "execution_count": 237,
   "id": "69ba5a58",
   "metadata": {},
   "outputs": [
    {
     "data": {
      "application/vnd.plotly.v1+json": {
       "config": {
        "plotlyServerURL": "https://plot.ly"
       },
       "data": [
        {
         "hovertemplate": "status=prediction<br>date=%{x}<br>y=%{y}<extra></extra>",
         "legendgroup": "prediction",
         "line": {
          "color": "#636efa",
          "dash": "solid"
         },
         "mode": "lines",
         "name": "prediction",
         "orientation": "v",
         "showlegend": true,
         "type": "scatter",
         "x": [
          "2022-05-07T00:00:00",
          "2022-05-07T01:00:00",
          "2022-05-07T02:00:00",
          "2022-05-07T03:00:00",
          "2022-05-07T04:00:00",
          "2022-05-07T05:00:00",
          "2022-05-07T06:00:00",
          "2022-05-07T07:00:00",
          "2022-05-07T08:00:00",
          "2022-05-07T09:00:00",
          "2022-05-07T10:00:00",
          "2022-05-07T11:00:00",
          "2022-05-07T12:00:00",
          "2022-05-07T13:00:00",
          "2022-05-07T14:00:00",
          "2022-05-07T15:00:00",
          "2022-05-07T16:00:00",
          "2022-05-07T17:00:00",
          "2022-05-07T18:00:00",
          "2022-05-07T19:00:00",
          "2022-05-07T20:00:00",
          "2022-05-07T21:00:00",
          "2022-05-07T22:00:00",
          "2022-05-07T23:00:00",
          "2022-05-08T00:00:00",
          "2022-05-08T01:00:00",
          "2022-05-08T02:00:00",
          "2022-05-08T03:00:00",
          "2022-05-08T04:00:00",
          "2022-05-08T05:00:00",
          "2022-05-08T06:00:00",
          "2022-05-08T07:00:00",
          "2022-05-08T08:00:00",
          "2022-05-08T09:00:00",
          "2022-05-08T10:00:00",
          "2022-05-08T11:00:00",
          "2022-05-08T12:00:00",
          "2022-05-08T13:00:00",
          "2022-05-08T14:00:00",
          "2022-05-08T15:00:00",
          "2022-05-08T16:00:00",
          "2022-05-08T17:00:00",
          "2022-05-08T18:00:00",
          "2022-05-08T19:00:00",
          "2022-05-08T20:00:00",
          "2022-05-08T21:00:00",
          "2022-05-08T22:00:00",
          "2022-05-08T23:00:00",
          "2022-05-09T00:00:00",
          "2022-05-09T01:00:00",
          "2022-05-09T02:00:00",
          "2022-05-09T03:00:00",
          "2022-05-09T04:00:00",
          "2022-05-09T05:00:00",
          "2022-05-09T06:00:00",
          "2022-05-09T07:00:00",
          "2022-05-09T08:00:00",
          "2022-05-09T09:00:00",
          "2022-05-09T10:00:00",
          "2022-05-09T11:00:00",
          "2022-05-09T12:00:00",
          "2022-05-09T13:00:00",
          "2022-05-09T14:00:00",
          "2022-05-09T15:00:00",
          "2022-05-09T16:00:00",
          "2022-05-09T17:00:00",
          "2022-05-09T18:00:00",
          "2022-05-09T19:00:00",
          "2022-05-09T20:00:00",
          "2022-05-09T21:00:00",
          "2022-05-09T22:00:00",
          "2022-05-09T23:00:00",
          "2022-05-10T00:00:00",
          "2022-05-10T01:00:00",
          "2022-05-10T02:00:00",
          "2022-05-10T03:00:00",
          "2022-05-10T04:00:00",
          "2022-05-10T05:00:00",
          "2022-05-10T06:00:00",
          "2022-05-10T07:00:00",
          "2022-05-10T08:00:00",
          "2022-05-10T09:00:00",
          "2022-05-10T10:00:00",
          "2022-05-10T11:00:00",
          "2022-05-10T12:00:00",
          "2022-05-10T13:00:00",
          "2022-05-10T14:00:00",
          "2022-05-10T15:00:00",
          "2022-05-10T16:00:00",
          "2022-05-10T17:00:00",
          "2022-05-10T18:00:00",
          "2022-05-10T19:00:00",
          "2022-05-10T20:00:00",
          "2022-05-10T21:00:00",
          "2022-05-10T22:00:00",
          "2022-05-10T23:00:00",
          "2022-05-11T00:00:00",
          "2022-05-11T01:00:00",
          "2022-05-11T02:00:00",
          "2022-05-11T03:00:00",
          "2022-05-11T04:00:00",
          "2022-05-11T05:00:00",
          "2022-05-11T06:00:00",
          "2022-05-11T07:00:00",
          "2022-05-11T08:00:00",
          "2022-05-11T09:00:00",
          "2022-05-11T10:00:00",
          "2022-05-11T11:00:00",
          "2022-05-11T12:00:00",
          "2022-05-11T13:00:00",
          "2022-05-11T14:00:00",
          "2022-05-11T15:00:00",
          "2022-05-11T16:00:00",
          "2022-05-11T17:00:00",
          "2022-05-11T18:00:00",
          "2022-05-11T19:00:00",
          "2022-05-11T20:00:00",
          "2022-05-11T21:00:00",
          "2022-05-11T22:00:00",
          "2022-05-11T23:00:00"
         ],
         "xaxis": "x",
         "y": [
          221613.13390454868,
          218689.81029907602,
          214333.31658560765,
          218668.99083176453,
          230083.970042991,
          215873.93443895242,
          192686.23115326272,
          170591.15152966467,
          159118.85581998047,
          155854.79936052687,
          158107.10322584884,
          161972.59466481896,
          165496.87011756626,
          169826.8989881183,
          209981.18022823054,
          269652.60943263525,
          265928.2520833217,
          251101.1747486751,
          239628.01742940667,
          223634.56822514682,
          253816.57281521254,
          174354.52571128955,
          190388.11539346387,
          201698.66483289876,
          185275.5927638769,
          172421.63983403513,
          146742.19672262616,
          129603.04746518379,
          150343.37288796745,
          166190.47630201507,
          181116.34439664648,
          167395.81631975216,
          172626.55638843952,
          173166.57300440583,
          181144.30297851778,
          194187.62594012407,
          206575.7105588602,
          239015.04258869722,
          294454.0313502757,
          327549.3169277208,
          365498.75140145014,
          415117.6764431922,
          435508.4098320699,
          445535.6502584993,
          429602.19903696864,
          396944.6527496095,
          369815.87427434,
          328475.194559567,
          299980.1198623033,
          275556.4524441409,
          238721.39343543415,
          205443.7128179714,
          202124.43849965182,
          202653.05701121985,
          197201.91040240193,
          187289.8437810961,
          176830.5395955887,
          167809.03252219167,
          167532.71637527877,
          160849.98426093836,
          163725.78525970684,
          175674.87706971687,
          194855.7762650484,
          218871.85682930434,
          273042.76613995613,
          276638.2817447296,
          273289.7768400339,
          269882.3579082648,
          255873.7221707127,
          238934.9842155715,
          220624.14088481627,
          193109.3387834027,
          189659.51630915247,
          177209.36528382415,
          174286.04167835152,
          169929.54796488312,
          174265.22221104,
          185680.20142226646,
          171470.16581822792,
          148282.4625325382,
          126187.38290894014,
          114715.08719925594,
          111451.03073980234,
          113703.33460512431,
          117568.82604409443,
          121093.10149684173,
          125423.13036739378,
          165577.411607506,
          225248.84081191075,
          221524.48346259716,
          206697.40612795058,
          195224.24880868214,
          179230.79960442227,
          209412.80419448804,
          129950.757090565,
          145984.3467727393,
          157294.8962121742,
          140871.82414315233,
          128017.87121331057,
          102338.42810190159,
          85199.27884445923,
          105939.60426724292,
          121786.7076812905,
          136712.57577592193,
          122992.04769902761,
          128222.787767715,
          128762.80438368127,
          136740.53435779325,
          149783.8573193995,
          162171.9419381357,
          194611.27396797267,
          250050.26272955115,
          283145.54830699624,
          321094.9827807256,
          370713.9078224676,
          391104.6412113454,
          401131.88163777476,
          385198.4304162441,
          352540.884128885,
          325412.10565361544
         ],
         "yaxis": "y"
        },
        {
         "hovertemplate": "status=actual<br>date=%{x}<br>y=%{y}<extra></extra>",
         "legendgroup": "actual",
         "line": {
          "color": "#EF553B",
          "dash": "solid"
         },
         "mode": "lines",
         "name": "actual",
         "orientation": "v",
         "showlegend": true,
         "type": "scatter",
         "x": [
          "2022-05-07T00:00:00",
          "2022-05-07T01:00:00",
          "2022-05-07T02:00:00",
          "2022-05-07T03:00:00",
          "2022-05-07T04:00:00",
          "2022-05-07T05:00:00",
          "2022-05-07T06:00:00",
          "2022-05-07T07:00:00",
          "2022-05-07T08:00:00",
          "2022-05-07T09:00:00",
          "2022-05-07T10:00:00",
          "2022-05-07T11:00:00",
          "2022-05-07T12:00:00",
          "2022-05-07T13:00:00",
          "2022-05-07T14:00:00",
          "2022-05-07T15:00:00",
          "2022-05-07T16:00:00",
          "2022-05-07T17:00:00",
          "2022-05-07T18:00:00",
          "2022-05-07T19:00:00",
          "2022-05-07T20:00:00",
          "2022-05-07T21:00:00",
          "2022-05-07T22:00:00",
          "2022-05-07T23:00:00",
          "2022-05-08T00:00:00",
          "2022-05-08T01:00:00",
          "2022-05-08T02:00:00",
          "2022-05-08T03:00:00",
          "2022-05-08T04:00:00",
          "2022-05-08T05:00:00",
          "2022-05-08T06:00:00",
          "2022-05-08T07:00:00",
          "2022-05-08T08:00:00",
          "2022-05-08T09:00:00",
          "2022-05-08T10:00:00",
          "2022-05-08T11:00:00",
          "2022-05-08T12:00:00",
          "2022-05-08T13:00:00",
          "2022-05-08T14:00:00",
          "2022-05-08T15:00:00",
          "2022-05-08T16:00:00",
          "2022-05-08T17:00:00",
          "2022-05-08T18:00:00",
          "2022-05-08T19:00:00",
          "2022-05-08T20:00:00",
          "2022-05-08T21:00:00",
          "2022-05-08T22:00:00",
          "2022-05-08T23:00:00",
          "2022-05-09T00:00:00",
          "2022-05-09T01:00:00",
          "2022-05-09T02:00:00",
          "2022-05-09T03:00:00",
          "2022-05-09T04:00:00",
          "2022-05-09T05:00:00",
          "2022-05-09T06:00:00",
          "2022-05-09T07:00:00",
          "2022-05-09T08:00:00",
          "2022-05-09T09:00:00",
          "2022-05-09T10:00:00",
          "2022-05-09T11:00:00",
          "2022-05-09T12:00:00",
          "2022-05-09T13:00:00",
          "2022-05-09T14:00:00",
          "2022-05-09T15:00:00",
          "2022-05-09T16:00:00",
          "2022-05-09T17:00:00",
          "2022-05-09T18:00:00",
          "2022-05-09T19:00:00",
          "2022-05-09T20:00:00",
          "2022-05-09T21:00:00",
          "2022-05-09T22:00:00",
          "2022-05-09T23:00:00",
          "2022-05-10T00:00:00",
          "2022-05-10T01:00:00",
          "2022-05-10T02:00:00",
          "2022-05-10T03:00:00",
          "2022-05-10T04:00:00",
          "2022-05-10T05:00:00",
          "2022-05-10T06:00:00",
          "2022-05-10T07:00:00",
          "2022-05-10T08:00:00",
          "2022-05-10T09:00:00",
          "2022-05-10T10:00:00",
          "2022-05-10T11:00:00",
          "2022-05-10T12:00:00",
          "2022-05-10T13:00:00",
          "2022-05-10T14:00:00",
          "2022-05-10T15:00:00",
          "2022-05-10T16:00:00",
          "2022-05-10T17:00:00",
          "2022-05-10T18:00:00",
          "2022-05-10T19:00:00",
          "2022-05-10T20:00:00",
          "2022-05-10T21:00:00",
          "2022-05-10T22:00:00",
          "2022-05-10T23:00:00",
          "2022-05-11T00:00:00",
          "2022-05-11T01:00:00",
          "2022-05-11T02:00:00",
          "2022-05-11T03:00:00",
          "2022-05-11T04:00:00",
          "2022-05-11T05:00:00",
          "2022-05-11T06:00:00",
          "2022-05-11T07:00:00",
          "2022-05-11T08:00:00",
          "2022-05-11T09:00:00",
          "2022-05-11T10:00:00",
          "2022-05-11T11:00:00",
          "2022-05-11T12:00:00",
          "2022-05-11T13:00:00",
          "2022-05-11T14:00:00",
          "2022-05-11T15:00:00",
          "2022-05-11T16:00:00",
          "2022-05-11T17:00:00",
          "2022-05-11T18:00:00",
          "2022-05-11T19:00:00",
          "2022-05-11T20:00:00",
          "2022-05-11T21:00:00",
          "2022-05-11T22:00:00",
          "2022-05-11T23:00:00"
         ],
         "xaxis": "x",
         "y": [
          203290,
          201666,
          243641,
          271605,
          276639,
          281781,
          401194,
          523784,
          614344,
          784469,
          873496,
          1057520,
          1327834,
          1794098,
          2088191,
          2246512,
          2440796,
          2529105,
          2568472,
          2704518,
          2624128,
          2641280,
          2557751,
          2552923,
          2507903,
          2443768,
          2459083,
          2473973,
          2507584,
          2570062,
          2816961,
          2975294,
          3282495,
          3529780,
          3908378,
          4264616,
          4669552,
          5466396,
          5848237,
          5852361,
          5983584,
          5828260,
          5678846,
          5525741,
          5433127,
          5387970,
          5372698,
          5332265,
          5177023,
          5463630,
          5495802,
          5903417,
          6211361,
          6679268,
          7323762,
          7900924,
          8397227,
          8667465,
          8945859,
          9346881,
          10428850,
          11885067,
          12485398,
          12041112,
          10425220,
          9186851,
          8458588,
          7956468,
          7643133,
          7340228,
          7046706,
          6685451,
          6519550,
          6310026,
          6509654,
          6504343,
          6483951,
          6372713,
          6135400,
          5585741,
          4948830,
          4331981,
          3866837,
          3408347,
          2918923,
          2026982,
          1289272,
          736528,
          465675,
          428917,
          408240,
          370994,
          341746,
          342491,
          303183,
          230901,
          207620,
          184169,
          198858,
          202829,
          186169,
          176336,
          168198,
          177352,
          205528,
          184978,
          194643,
          213200,
          301416,
          395134,
          391225,
          432931,
          482613,
          419556,
          402907,
          377694,
          342604,
          318610,
          270738,
          227139
         ],
         "yaxis": "y"
        }
       ],
       "layout": {
        "legend": {
         "title": {
          "text": "status"
         },
         "tracegroupgap": 0
        },
        "template": {
         "data": {
          "bar": [
           {
            "error_x": {
             "color": "#2a3f5f"
            },
            "error_y": {
             "color": "#2a3f5f"
            },
            "marker": {
             "line": {
              "color": "#E5ECF6",
              "width": 0.5
             }
            },
            "type": "bar"
           }
          ],
          "barpolar": [
           {
            "marker": {
             "line": {
              "color": "#E5ECF6",
              "width": 0.5
             }
            },
            "type": "barpolar"
           }
          ],
          "carpet": [
           {
            "aaxis": {
             "endlinecolor": "#2a3f5f",
             "gridcolor": "white",
             "linecolor": "white",
             "minorgridcolor": "white",
             "startlinecolor": "#2a3f5f"
            },
            "baxis": {
             "endlinecolor": "#2a3f5f",
             "gridcolor": "white",
             "linecolor": "white",
             "minorgridcolor": "white",
             "startlinecolor": "#2a3f5f"
            },
            "type": "carpet"
           }
          ],
          "choropleth": [
           {
            "colorbar": {
             "outlinewidth": 0,
             "ticks": ""
            },
            "type": "choropleth"
           }
          ],
          "contour": [
           {
            "colorbar": {
             "outlinewidth": 0,
             "ticks": ""
            },
            "colorscale": [
             [
              0,
              "#0d0887"
             ],
             [
              0.1111111111111111,
              "#46039f"
             ],
             [
              0.2222222222222222,
              "#7201a8"
             ],
             [
              0.3333333333333333,
              "#9c179e"
             ],
             [
              0.4444444444444444,
              "#bd3786"
             ],
             [
              0.5555555555555556,
              "#d8576b"
             ],
             [
              0.6666666666666666,
              "#ed7953"
             ],
             [
              0.7777777777777778,
              "#fb9f3a"
             ],
             [
              0.8888888888888888,
              "#fdca26"
             ],
             [
              1,
              "#f0f921"
             ]
            ],
            "type": "contour"
           }
          ],
          "contourcarpet": [
           {
            "colorbar": {
             "outlinewidth": 0,
             "ticks": ""
            },
            "type": "contourcarpet"
           }
          ],
          "heatmap": [
           {
            "colorbar": {
             "outlinewidth": 0,
             "ticks": ""
            },
            "colorscale": [
             [
              0,
              "#0d0887"
             ],
             [
              0.1111111111111111,
              "#46039f"
             ],
             [
              0.2222222222222222,
              "#7201a8"
             ],
             [
              0.3333333333333333,
              "#9c179e"
             ],
             [
              0.4444444444444444,
              "#bd3786"
             ],
             [
              0.5555555555555556,
              "#d8576b"
             ],
             [
              0.6666666666666666,
              "#ed7953"
             ],
             [
              0.7777777777777778,
              "#fb9f3a"
             ],
             [
              0.8888888888888888,
              "#fdca26"
             ],
             [
              1,
              "#f0f921"
             ]
            ],
            "type": "heatmap"
           }
          ],
          "heatmapgl": [
           {
            "colorbar": {
             "outlinewidth": 0,
             "ticks": ""
            },
            "colorscale": [
             [
              0,
              "#0d0887"
             ],
             [
              0.1111111111111111,
              "#46039f"
             ],
             [
              0.2222222222222222,
              "#7201a8"
             ],
             [
              0.3333333333333333,
              "#9c179e"
             ],
             [
              0.4444444444444444,
              "#bd3786"
             ],
             [
              0.5555555555555556,
              "#d8576b"
             ],
             [
              0.6666666666666666,
              "#ed7953"
             ],
             [
              0.7777777777777778,
              "#fb9f3a"
             ],
             [
              0.8888888888888888,
              "#fdca26"
             ],
             [
              1,
              "#f0f921"
             ]
            ],
            "type": "heatmapgl"
           }
          ],
          "histogram": [
           {
            "marker": {
             "colorbar": {
              "outlinewidth": 0,
              "ticks": ""
             }
            },
            "type": "histogram"
           }
          ],
          "histogram2d": [
           {
            "colorbar": {
             "outlinewidth": 0,
             "ticks": ""
            },
            "colorscale": [
             [
              0,
              "#0d0887"
             ],
             [
              0.1111111111111111,
              "#46039f"
             ],
             [
              0.2222222222222222,
              "#7201a8"
             ],
             [
              0.3333333333333333,
              "#9c179e"
             ],
             [
              0.4444444444444444,
              "#bd3786"
             ],
             [
              0.5555555555555556,
              "#d8576b"
             ],
             [
              0.6666666666666666,
              "#ed7953"
             ],
             [
              0.7777777777777778,
              "#fb9f3a"
             ],
             [
              0.8888888888888888,
              "#fdca26"
             ],
             [
              1,
              "#f0f921"
             ]
            ],
            "type": "histogram2d"
           }
          ],
          "histogram2dcontour": [
           {
            "colorbar": {
             "outlinewidth": 0,
             "ticks": ""
            },
            "colorscale": [
             [
              0,
              "#0d0887"
             ],
             [
              0.1111111111111111,
              "#46039f"
             ],
             [
              0.2222222222222222,
              "#7201a8"
             ],
             [
              0.3333333333333333,
              "#9c179e"
             ],
             [
              0.4444444444444444,
              "#bd3786"
             ],
             [
              0.5555555555555556,
              "#d8576b"
             ],
             [
              0.6666666666666666,
              "#ed7953"
             ],
             [
              0.7777777777777778,
              "#fb9f3a"
             ],
             [
              0.8888888888888888,
              "#fdca26"
             ],
             [
              1,
              "#f0f921"
             ]
            ],
            "type": "histogram2dcontour"
           }
          ],
          "mesh3d": [
           {
            "colorbar": {
             "outlinewidth": 0,
             "ticks": ""
            },
            "type": "mesh3d"
           }
          ],
          "parcoords": [
           {
            "line": {
             "colorbar": {
              "outlinewidth": 0,
              "ticks": ""
             }
            },
            "type": "parcoords"
           }
          ],
          "pie": [
           {
            "automargin": true,
            "type": "pie"
           }
          ],
          "scatter": [
           {
            "marker": {
             "colorbar": {
              "outlinewidth": 0,
              "ticks": ""
             }
            },
            "type": "scatter"
           }
          ],
          "scatter3d": [
           {
            "line": {
             "colorbar": {
              "outlinewidth": 0,
              "ticks": ""
             }
            },
            "marker": {
             "colorbar": {
              "outlinewidth": 0,
              "ticks": ""
             }
            },
            "type": "scatter3d"
           }
          ],
          "scattercarpet": [
           {
            "marker": {
             "colorbar": {
              "outlinewidth": 0,
              "ticks": ""
             }
            },
            "type": "scattercarpet"
           }
          ],
          "scattergeo": [
           {
            "marker": {
             "colorbar": {
              "outlinewidth": 0,
              "ticks": ""
             }
            },
            "type": "scattergeo"
           }
          ],
          "scattergl": [
           {
            "marker": {
             "colorbar": {
              "outlinewidth": 0,
              "ticks": ""
             }
            },
            "type": "scattergl"
           }
          ],
          "scattermapbox": [
           {
            "marker": {
             "colorbar": {
              "outlinewidth": 0,
              "ticks": ""
             }
            },
            "type": "scattermapbox"
           }
          ],
          "scatterpolar": [
           {
            "marker": {
             "colorbar": {
              "outlinewidth": 0,
              "ticks": ""
             }
            },
            "type": "scatterpolar"
           }
          ],
          "scatterpolargl": [
           {
            "marker": {
             "colorbar": {
              "outlinewidth": 0,
              "ticks": ""
             }
            },
            "type": "scatterpolargl"
           }
          ],
          "scatterternary": [
           {
            "marker": {
             "colorbar": {
              "outlinewidth": 0,
              "ticks": ""
             }
            },
            "type": "scatterternary"
           }
          ],
          "surface": [
           {
            "colorbar": {
             "outlinewidth": 0,
             "ticks": ""
            },
            "colorscale": [
             [
              0,
              "#0d0887"
             ],
             [
              0.1111111111111111,
              "#46039f"
             ],
             [
              0.2222222222222222,
              "#7201a8"
             ],
             [
              0.3333333333333333,
              "#9c179e"
             ],
             [
              0.4444444444444444,
              "#bd3786"
             ],
             [
              0.5555555555555556,
              "#d8576b"
             ],
             [
              0.6666666666666666,
              "#ed7953"
             ],
             [
              0.7777777777777778,
              "#fb9f3a"
             ],
             [
              0.8888888888888888,
              "#fdca26"
             ],
             [
              1,
              "#f0f921"
             ]
            ],
            "type": "surface"
           }
          ],
          "table": [
           {
            "cells": {
             "fill": {
              "color": "#EBF0F8"
             },
             "line": {
              "color": "white"
             }
            },
            "header": {
             "fill": {
              "color": "#C8D4E3"
             },
             "line": {
              "color": "white"
             }
            },
            "type": "table"
           }
          ]
         },
         "layout": {
          "annotationdefaults": {
           "arrowcolor": "#2a3f5f",
           "arrowhead": 0,
           "arrowwidth": 1
          },
          "autotypenumbers": "strict",
          "coloraxis": {
           "colorbar": {
            "outlinewidth": 0,
            "ticks": ""
           }
          },
          "colorscale": {
           "diverging": [
            [
             0,
             "#8e0152"
            ],
            [
             0.1,
             "#c51b7d"
            ],
            [
             0.2,
             "#de77ae"
            ],
            [
             0.3,
             "#f1b6da"
            ],
            [
             0.4,
             "#fde0ef"
            ],
            [
             0.5,
             "#f7f7f7"
            ],
            [
             0.6,
             "#e6f5d0"
            ],
            [
             0.7,
             "#b8e186"
            ],
            [
             0.8,
             "#7fbc41"
            ],
            [
             0.9,
             "#4d9221"
            ],
            [
             1,
             "#276419"
            ]
           ],
           "sequential": [
            [
             0,
             "#0d0887"
            ],
            [
             0.1111111111111111,
             "#46039f"
            ],
            [
             0.2222222222222222,
             "#7201a8"
            ],
            [
             0.3333333333333333,
             "#9c179e"
            ],
            [
             0.4444444444444444,
             "#bd3786"
            ],
            [
             0.5555555555555556,
             "#d8576b"
            ],
            [
             0.6666666666666666,
             "#ed7953"
            ],
            [
             0.7777777777777778,
             "#fb9f3a"
            ],
            [
             0.8888888888888888,
             "#fdca26"
            ],
            [
             1,
             "#f0f921"
            ]
           ],
           "sequentialminus": [
            [
             0,
             "#0d0887"
            ],
            [
             0.1111111111111111,
             "#46039f"
            ],
            [
             0.2222222222222222,
             "#7201a8"
            ],
            [
             0.3333333333333333,
             "#9c179e"
            ],
            [
             0.4444444444444444,
             "#bd3786"
            ],
            [
             0.5555555555555556,
             "#d8576b"
            ],
            [
             0.6666666666666666,
             "#ed7953"
            ],
            [
             0.7777777777777778,
             "#fb9f3a"
            ],
            [
             0.8888888888888888,
             "#fdca26"
            ],
            [
             1,
             "#f0f921"
            ]
           ]
          },
          "colorway": [
           "#636efa",
           "#EF553B",
           "#00cc96",
           "#ab63fa",
           "#FFA15A",
           "#19d3f3",
           "#FF6692",
           "#B6E880",
           "#FF97FF",
           "#FECB52"
          ],
          "font": {
           "color": "#2a3f5f"
          },
          "geo": {
           "bgcolor": "white",
           "lakecolor": "white",
           "landcolor": "#E5ECF6",
           "showlakes": true,
           "showland": true,
           "subunitcolor": "white"
          },
          "hoverlabel": {
           "align": "left"
          },
          "hovermode": "closest",
          "mapbox": {
           "style": "light"
          },
          "paper_bgcolor": "white",
          "plot_bgcolor": "#E5ECF6",
          "polar": {
           "angularaxis": {
            "gridcolor": "white",
            "linecolor": "white",
            "ticks": ""
           },
           "bgcolor": "#E5ECF6",
           "radialaxis": {
            "gridcolor": "white",
            "linecolor": "white",
            "ticks": ""
           }
          },
          "scene": {
           "xaxis": {
            "backgroundcolor": "#E5ECF6",
            "gridcolor": "white",
            "gridwidth": 2,
            "linecolor": "white",
            "showbackground": true,
            "ticks": "",
            "zerolinecolor": "white"
           },
           "yaxis": {
            "backgroundcolor": "#E5ECF6",
            "gridcolor": "white",
            "gridwidth": 2,
            "linecolor": "white",
            "showbackground": true,
            "ticks": "",
            "zerolinecolor": "white"
           },
           "zaxis": {
            "backgroundcolor": "#E5ECF6",
            "gridcolor": "white",
            "gridwidth": 2,
            "linecolor": "white",
            "showbackground": true,
            "ticks": "",
            "zerolinecolor": "white"
           }
          },
          "shapedefaults": {
           "line": {
            "color": "#2a3f5f"
           }
          },
          "ternary": {
           "aaxis": {
            "gridcolor": "white",
            "linecolor": "white",
            "ticks": ""
           },
           "baxis": {
            "gridcolor": "white",
            "linecolor": "white",
            "ticks": ""
           },
           "bgcolor": "#E5ECF6",
           "caxis": {
            "gridcolor": "white",
            "linecolor": "white",
            "ticks": ""
           }
          },
          "title": {
           "x": 0.05
          },
          "xaxis": {
           "automargin": true,
           "gridcolor": "white",
           "linecolor": "white",
           "ticks": "",
           "title": {
            "standoff": 15
           },
           "zerolinecolor": "white",
           "zerolinewidth": 2
          },
          "yaxis": {
           "automargin": true,
           "gridcolor": "white",
           "linecolor": "white",
           "ticks": "",
           "title": {
            "standoff": 15
           },
           "zerolinecolor": "white",
           "zerolinewidth": 2
          }
         }
        },
        "title": {
         "text": "actual vs prediction"
        },
        "xaxis": {
         "anchor": "y",
         "domain": [
          0,
          1
         ],
         "title": {
          "text": "date"
         }
        },
        "yaxis": {
         "anchor": "x",
         "domain": [
          0,
          1
         ],
         "title": {
          "text": "y"
         }
        }
       }
      },
      "text/html": [
       "<div>                            <div id=\"d991fc13-13f1-448e-9fe0-3e7bbc8cc71c\" class=\"plotly-graph-div\" style=\"height:525px; width:100%;\"></div>            <script type=\"text/javascript\">                require([\"plotly\"], function(Plotly) {                    window.PLOTLYENV=window.PLOTLYENV || {};                                    if (document.getElementById(\"d991fc13-13f1-448e-9fe0-3e7bbc8cc71c\")) {                    Plotly.newPlot(                        \"d991fc13-13f1-448e-9fe0-3e7bbc8cc71c\",                        [{\"hovertemplate\": \"status=prediction<br>date=%{x}<br>y=%{y}<extra></extra>\", \"legendgroup\": \"prediction\", \"line\": {\"color\": \"#636efa\", \"dash\": \"solid\"}, \"mode\": \"lines\", \"name\": \"prediction\", \"orientation\": \"v\", \"showlegend\": true, \"type\": \"scatter\", \"x\": [\"2022-05-07T00:00:00\", \"2022-05-07T01:00:00\", \"2022-05-07T02:00:00\", \"2022-05-07T03:00:00\", \"2022-05-07T04:00:00\", \"2022-05-07T05:00:00\", \"2022-05-07T06:00:00\", \"2022-05-07T07:00:00\", \"2022-05-07T08:00:00\", \"2022-05-07T09:00:00\", \"2022-05-07T10:00:00\", \"2022-05-07T11:00:00\", \"2022-05-07T12:00:00\", \"2022-05-07T13:00:00\", \"2022-05-07T14:00:00\", \"2022-05-07T15:00:00\", \"2022-05-07T16:00:00\", \"2022-05-07T17:00:00\", \"2022-05-07T18:00:00\", \"2022-05-07T19:00:00\", \"2022-05-07T20:00:00\", \"2022-05-07T21:00:00\", \"2022-05-07T22:00:00\", \"2022-05-07T23:00:00\", \"2022-05-08T00:00:00\", \"2022-05-08T01:00:00\", \"2022-05-08T02:00:00\", \"2022-05-08T03:00:00\", \"2022-05-08T04:00:00\", \"2022-05-08T05:00:00\", \"2022-05-08T06:00:00\", \"2022-05-08T07:00:00\", \"2022-05-08T08:00:00\", \"2022-05-08T09:00:00\", \"2022-05-08T10:00:00\", \"2022-05-08T11:00:00\", \"2022-05-08T12:00:00\", \"2022-05-08T13:00:00\", \"2022-05-08T14:00:00\", \"2022-05-08T15:00:00\", \"2022-05-08T16:00:00\", \"2022-05-08T17:00:00\", \"2022-05-08T18:00:00\", \"2022-05-08T19:00:00\", \"2022-05-08T20:00:00\", \"2022-05-08T21:00:00\", \"2022-05-08T22:00:00\", \"2022-05-08T23:00:00\", \"2022-05-09T00:00:00\", \"2022-05-09T01:00:00\", \"2022-05-09T02:00:00\", \"2022-05-09T03:00:00\", \"2022-05-09T04:00:00\", \"2022-05-09T05:00:00\", \"2022-05-09T06:00:00\", \"2022-05-09T07:00:00\", \"2022-05-09T08:00:00\", \"2022-05-09T09:00:00\", \"2022-05-09T10:00:00\", \"2022-05-09T11:00:00\", \"2022-05-09T12:00:00\", \"2022-05-09T13:00:00\", \"2022-05-09T14:00:00\", \"2022-05-09T15:00:00\", \"2022-05-09T16:00:00\", \"2022-05-09T17:00:00\", \"2022-05-09T18:00:00\", \"2022-05-09T19:00:00\", \"2022-05-09T20:00:00\", \"2022-05-09T21:00:00\", \"2022-05-09T22:00:00\", \"2022-05-09T23:00:00\", \"2022-05-10T00:00:00\", \"2022-05-10T01:00:00\", \"2022-05-10T02:00:00\", \"2022-05-10T03:00:00\", \"2022-05-10T04:00:00\", \"2022-05-10T05:00:00\", \"2022-05-10T06:00:00\", \"2022-05-10T07:00:00\", \"2022-05-10T08:00:00\", \"2022-05-10T09:00:00\", \"2022-05-10T10:00:00\", \"2022-05-10T11:00:00\", \"2022-05-10T12:00:00\", \"2022-05-10T13:00:00\", \"2022-05-10T14:00:00\", \"2022-05-10T15:00:00\", \"2022-05-10T16:00:00\", \"2022-05-10T17:00:00\", \"2022-05-10T18:00:00\", \"2022-05-10T19:00:00\", \"2022-05-10T20:00:00\", \"2022-05-10T21:00:00\", \"2022-05-10T22:00:00\", \"2022-05-10T23:00:00\", \"2022-05-11T00:00:00\", \"2022-05-11T01:00:00\", \"2022-05-11T02:00:00\", \"2022-05-11T03:00:00\", \"2022-05-11T04:00:00\", \"2022-05-11T05:00:00\", \"2022-05-11T06:00:00\", \"2022-05-11T07:00:00\", \"2022-05-11T08:00:00\", \"2022-05-11T09:00:00\", \"2022-05-11T10:00:00\", \"2022-05-11T11:00:00\", \"2022-05-11T12:00:00\", \"2022-05-11T13:00:00\", \"2022-05-11T14:00:00\", \"2022-05-11T15:00:00\", \"2022-05-11T16:00:00\", \"2022-05-11T17:00:00\", \"2022-05-11T18:00:00\", \"2022-05-11T19:00:00\", \"2022-05-11T20:00:00\", \"2022-05-11T21:00:00\", \"2022-05-11T22:00:00\", \"2022-05-11T23:00:00\"], \"xaxis\": \"x\", \"y\": [221613.13390454868, 218689.81029907602, 214333.31658560765, 218668.99083176453, 230083.970042991, 215873.93443895242, 192686.23115326272, 170591.15152966467, 159118.85581998047, 155854.79936052687, 158107.10322584884, 161972.59466481896, 165496.87011756626, 169826.8989881183, 209981.18022823054, 269652.60943263525, 265928.2520833217, 251101.1747486751, 239628.01742940667, 223634.56822514682, 253816.57281521254, 174354.52571128955, 190388.11539346387, 201698.66483289876, 185275.5927638769, 172421.63983403513, 146742.19672262616, 129603.04746518379, 150343.37288796745, 166190.47630201507, 181116.34439664648, 167395.81631975216, 172626.55638843952, 173166.57300440583, 181144.30297851778, 194187.62594012407, 206575.7105588602, 239015.04258869722, 294454.0313502757, 327549.3169277208, 365498.75140145014, 415117.6764431922, 435508.4098320699, 445535.6502584993, 429602.19903696864, 396944.6527496095, 369815.87427434, 328475.194559567, 299980.1198623033, 275556.4524441409, 238721.39343543415, 205443.7128179714, 202124.43849965182, 202653.05701121985, 197201.91040240193, 187289.8437810961, 176830.5395955887, 167809.03252219167, 167532.71637527877, 160849.98426093836, 163725.78525970684, 175674.87706971687, 194855.7762650484, 218871.85682930434, 273042.76613995613, 276638.2817447296, 273289.7768400339, 269882.3579082648, 255873.7221707127, 238934.9842155715, 220624.14088481627, 193109.3387834027, 189659.51630915247, 177209.36528382415, 174286.04167835152, 169929.54796488312, 174265.22221104, 185680.20142226646, 171470.16581822792, 148282.4625325382, 126187.38290894014, 114715.08719925594, 111451.03073980234, 113703.33460512431, 117568.82604409443, 121093.10149684173, 125423.13036739378, 165577.411607506, 225248.84081191075, 221524.48346259716, 206697.40612795058, 195224.24880868214, 179230.79960442227, 209412.80419448804, 129950.757090565, 145984.3467727393, 157294.8962121742, 140871.82414315233, 128017.87121331057, 102338.42810190159, 85199.27884445923, 105939.60426724292, 121786.7076812905, 136712.57577592193, 122992.04769902761, 128222.787767715, 128762.80438368127, 136740.53435779325, 149783.8573193995, 162171.9419381357, 194611.27396797267, 250050.26272955115, 283145.54830699624, 321094.9827807256, 370713.9078224676, 391104.6412113454, 401131.88163777476, 385198.4304162441, 352540.884128885, 325412.10565361544], \"yaxis\": \"y\"}, {\"hovertemplate\": \"status=actual<br>date=%{x}<br>y=%{y}<extra></extra>\", \"legendgroup\": \"actual\", \"line\": {\"color\": \"#EF553B\", \"dash\": \"solid\"}, \"mode\": \"lines\", \"name\": \"actual\", \"orientation\": \"v\", \"showlegend\": true, \"type\": \"scatter\", \"x\": [\"2022-05-07T00:00:00\", \"2022-05-07T01:00:00\", \"2022-05-07T02:00:00\", \"2022-05-07T03:00:00\", \"2022-05-07T04:00:00\", \"2022-05-07T05:00:00\", \"2022-05-07T06:00:00\", \"2022-05-07T07:00:00\", \"2022-05-07T08:00:00\", \"2022-05-07T09:00:00\", \"2022-05-07T10:00:00\", \"2022-05-07T11:00:00\", \"2022-05-07T12:00:00\", \"2022-05-07T13:00:00\", \"2022-05-07T14:00:00\", \"2022-05-07T15:00:00\", \"2022-05-07T16:00:00\", \"2022-05-07T17:00:00\", \"2022-05-07T18:00:00\", \"2022-05-07T19:00:00\", \"2022-05-07T20:00:00\", \"2022-05-07T21:00:00\", \"2022-05-07T22:00:00\", \"2022-05-07T23:00:00\", \"2022-05-08T00:00:00\", \"2022-05-08T01:00:00\", \"2022-05-08T02:00:00\", \"2022-05-08T03:00:00\", \"2022-05-08T04:00:00\", \"2022-05-08T05:00:00\", \"2022-05-08T06:00:00\", \"2022-05-08T07:00:00\", \"2022-05-08T08:00:00\", \"2022-05-08T09:00:00\", \"2022-05-08T10:00:00\", \"2022-05-08T11:00:00\", \"2022-05-08T12:00:00\", \"2022-05-08T13:00:00\", \"2022-05-08T14:00:00\", \"2022-05-08T15:00:00\", \"2022-05-08T16:00:00\", \"2022-05-08T17:00:00\", \"2022-05-08T18:00:00\", \"2022-05-08T19:00:00\", \"2022-05-08T20:00:00\", \"2022-05-08T21:00:00\", \"2022-05-08T22:00:00\", \"2022-05-08T23:00:00\", \"2022-05-09T00:00:00\", \"2022-05-09T01:00:00\", \"2022-05-09T02:00:00\", \"2022-05-09T03:00:00\", \"2022-05-09T04:00:00\", \"2022-05-09T05:00:00\", \"2022-05-09T06:00:00\", \"2022-05-09T07:00:00\", \"2022-05-09T08:00:00\", \"2022-05-09T09:00:00\", \"2022-05-09T10:00:00\", \"2022-05-09T11:00:00\", \"2022-05-09T12:00:00\", \"2022-05-09T13:00:00\", \"2022-05-09T14:00:00\", \"2022-05-09T15:00:00\", \"2022-05-09T16:00:00\", \"2022-05-09T17:00:00\", \"2022-05-09T18:00:00\", \"2022-05-09T19:00:00\", \"2022-05-09T20:00:00\", \"2022-05-09T21:00:00\", \"2022-05-09T22:00:00\", \"2022-05-09T23:00:00\", \"2022-05-10T00:00:00\", \"2022-05-10T01:00:00\", \"2022-05-10T02:00:00\", \"2022-05-10T03:00:00\", \"2022-05-10T04:00:00\", \"2022-05-10T05:00:00\", \"2022-05-10T06:00:00\", \"2022-05-10T07:00:00\", \"2022-05-10T08:00:00\", \"2022-05-10T09:00:00\", \"2022-05-10T10:00:00\", \"2022-05-10T11:00:00\", \"2022-05-10T12:00:00\", \"2022-05-10T13:00:00\", \"2022-05-10T14:00:00\", \"2022-05-10T15:00:00\", \"2022-05-10T16:00:00\", \"2022-05-10T17:00:00\", \"2022-05-10T18:00:00\", \"2022-05-10T19:00:00\", \"2022-05-10T20:00:00\", \"2022-05-10T21:00:00\", \"2022-05-10T22:00:00\", \"2022-05-10T23:00:00\", \"2022-05-11T00:00:00\", \"2022-05-11T01:00:00\", \"2022-05-11T02:00:00\", \"2022-05-11T03:00:00\", \"2022-05-11T04:00:00\", \"2022-05-11T05:00:00\", \"2022-05-11T06:00:00\", \"2022-05-11T07:00:00\", \"2022-05-11T08:00:00\", \"2022-05-11T09:00:00\", \"2022-05-11T10:00:00\", \"2022-05-11T11:00:00\", \"2022-05-11T12:00:00\", \"2022-05-11T13:00:00\", \"2022-05-11T14:00:00\", \"2022-05-11T15:00:00\", \"2022-05-11T16:00:00\", \"2022-05-11T17:00:00\", \"2022-05-11T18:00:00\", \"2022-05-11T19:00:00\", \"2022-05-11T20:00:00\", \"2022-05-11T21:00:00\", \"2022-05-11T22:00:00\", \"2022-05-11T23:00:00\"], \"xaxis\": \"x\", \"y\": [203290.0, 201666.0, 243641.0, 271605.0, 276639.0, 281781.0, 401194.0, 523784.0, 614344.0, 784469.0, 873496.0, 1057520.0, 1327834.0, 1794098.0, 2088191.0, 2246512.0, 2440796.0, 2529105.0, 2568472.0, 2704518.0, 2624128.0, 2641280.0, 2557751.0, 2552923.0, 2507903.0, 2443768.0, 2459083.0, 2473973.0, 2507584.0, 2570062.0, 2816961.0, 2975294.0, 3282495.0, 3529780.0, 3908378.0, 4264616.0, 4669552.0, 5466396.0, 5848237.0, 5852361.0, 5983584.0, 5828260.0, 5678846.0, 5525741.0, 5433127.0, 5387970.0, 5372698.0, 5332265.0, 5177023.0, 5463630.0, 5495802.0, 5903417.0, 6211361.0, 6679268.0, 7323762.0, 7900924.0, 8397227.0, 8667465.0, 8945859.0, 9346881.0, 10428850.0, 11885067.0, 12485398.0, 12041112.0, 10425220.0, 9186851.0, 8458588.0, 7956468.0, 7643133.0, 7340228.0, 7046706.0, 6685451.0, 6519550.0, 6310026.0, 6509654.0, 6504343.0, 6483951.0, 6372713.0, 6135400.0, 5585741.0, 4948830.0, 4331981.0, 3866837.0, 3408347.0, 2918923.0, 2026982.0, 1289272.0, 736528.0, 465675.0, 428917.0, 408240.0, 370994.0, 341746.0, 342491.0, 303183.0, 230901.0, 207620.0, 184169.0, 198858.0, 202829.0, 186169.0, 176336.0, 168198.0, 177352.0, 205528.0, 184978.0, 194643.0, 213200.0, 301416.0, 395134.0, 391225.0, 432931.0, 482613.0, 419556.0, 402907.0, 377694.0, 342604.0, 318610.0, 270738.0, 227139.0], \"yaxis\": \"y\"}],                        {\"legend\": {\"title\": {\"text\": \"status\"}, \"tracegroupgap\": 0}, \"template\": {\"data\": {\"bar\": [{\"error_x\": {\"color\": \"#2a3f5f\"}, \"error_y\": {\"color\": \"#2a3f5f\"}, \"marker\": {\"line\": {\"color\": \"#E5ECF6\", \"width\": 0.5}}, \"type\": \"bar\"}], \"barpolar\": [{\"marker\": {\"line\": {\"color\": \"#E5ECF6\", \"width\": 0.5}}, \"type\": \"barpolar\"}], \"carpet\": [{\"aaxis\": {\"endlinecolor\": \"#2a3f5f\", \"gridcolor\": \"white\", \"linecolor\": \"white\", \"minorgridcolor\": \"white\", \"startlinecolor\": \"#2a3f5f\"}, \"baxis\": {\"endlinecolor\": \"#2a3f5f\", \"gridcolor\": \"white\", \"linecolor\": \"white\", \"minorgridcolor\": \"white\", \"startlinecolor\": \"#2a3f5f\"}, \"type\": \"carpet\"}], \"choropleth\": [{\"colorbar\": {\"outlinewidth\": 0, \"ticks\": \"\"}, \"type\": \"choropleth\"}], \"contour\": [{\"colorbar\": {\"outlinewidth\": 0, \"ticks\": \"\"}, \"colorscale\": [[0.0, \"#0d0887\"], [0.1111111111111111, \"#46039f\"], [0.2222222222222222, \"#7201a8\"], [0.3333333333333333, \"#9c179e\"], [0.4444444444444444, \"#bd3786\"], [0.5555555555555556, \"#d8576b\"], [0.6666666666666666, \"#ed7953\"], [0.7777777777777778, \"#fb9f3a\"], [0.8888888888888888, \"#fdca26\"], [1.0, \"#f0f921\"]], \"type\": \"contour\"}], \"contourcarpet\": [{\"colorbar\": {\"outlinewidth\": 0, \"ticks\": \"\"}, \"type\": \"contourcarpet\"}], \"heatmap\": [{\"colorbar\": {\"outlinewidth\": 0, \"ticks\": \"\"}, \"colorscale\": [[0.0, \"#0d0887\"], [0.1111111111111111, \"#46039f\"], [0.2222222222222222, \"#7201a8\"], [0.3333333333333333, \"#9c179e\"], [0.4444444444444444, \"#bd3786\"], [0.5555555555555556, \"#d8576b\"], [0.6666666666666666, \"#ed7953\"], [0.7777777777777778, \"#fb9f3a\"], [0.8888888888888888, \"#fdca26\"], [1.0, \"#f0f921\"]], \"type\": \"heatmap\"}], \"heatmapgl\": [{\"colorbar\": {\"outlinewidth\": 0, \"ticks\": \"\"}, \"colorscale\": [[0.0, \"#0d0887\"], [0.1111111111111111, \"#46039f\"], [0.2222222222222222, \"#7201a8\"], [0.3333333333333333, \"#9c179e\"], [0.4444444444444444, \"#bd3786\"], [0.5555555555555556, \"#d8576b\"], [0.6666666666666666, \"#ed7953\"], [0.7777777777777778, \"#fb9f3a\"], [0.8888888888888888, \"#fdca26\"], [1.0, \"#f0f921\"]], \"type\": \"heatmapgl\"}], \"histogram\": [{\"marker\": {\"colorbar\": {\"outlinewidth\": 0, \"ticks\": \"\"}}, \"type\": \"histogram\"}], \"histogram2d\": [{\"colorbar\": {\"outlinewidth\": 0, \"ticks\": \"\"}, \"colorscale\": [[0.0, \"#0d0887\"], [0.1111111111111111, \"#46039f\"], [0.2222222222222222, \"#7201a8\"], [0.3333333333333333, \"#9c179e\"], [0.4444444444444444, \"#bd3786\"], [0.5555555555555556, \"#d8576b\"], [0.6666666666666666, \"#ed7953\"], [0.7777777777777778, \"#fb9f3a\"], [0.8888888888888888, \"#fdca26\"], [1.0, \"#f0f921\"]], \"type\": \"histogram2d\"}], \"histogram2dcontour\": [{\"colorbar\": {\"outlinewidth\": 0, \"ticks\": \"\"}, \"colorscale\": [[0.0, \"#0d0887\"], [0.1111111111111111, \"#46039f\"], [0.2222222222222222, \"#7201a8\"], [0.3333333333333333, \"#9c179e\"], [0.4444444444444444, \"#bd3786\"], [0.5555555555555556, \"#d8576b\"], [0.6666666666666666, \"#ed7953\"], [0.7777777777777778, \"#fb9f3a\"], [0.8888888888888888, \"#fdca26\"], [1.0, \"#f0f921\"]], \"type\": \"histogram2dcontour\"}], \"mesh3d\": [{\"colorbar\": {\"outlinewidth\": 0, \"ticks\": \"\"}, \"type\": \"mesh3d\"}], \"parcoords\": [{\"line\": {\"colorbar\": {\"outlinewidth\": 0, \"ticks\": \"\"}}, \"type\": \"parcoords\"}], \"pie\": [{\"automargin\": true, \"type\": \"pie\"}], \"scatter\": [{\"marker\": {\"colorbar\": {\"outlinewidth\": 0, \"ticks\": \"\"}}, \"type\": \"scatter\"}], \"scatter3d\": [{\"line\": {\"colorbar\": {\"outlinewidth\": 0, \"ticks\": \"\"}}, \"marker\": {\"colorbar\": {\"outlinewidth\": 0, \"ticks\": \"\"}}, \"type\": \"scatter3d\"}], \"scattercarpet\": [{\"marker\": {\"colorbar\": {\"outlinewidth\": 0, \"ticks\": \"\"}}, \"type\": \"scattercarpet\"}], \"scattergeo\": [{\"marker\": {\"colorbar\": {\"outlinewidth\": 0, \"ticks\": \"\"}}, \"type\": \"scattergeo\"}], \"scattergl\": [{\"marker\": {\"colorbar\": {\"outlinewidth\": 0, \"ticks\": \"\"}}, \"type\": \"scattergl\"}], \"scattermapbox\": [{\"marker\": {\"colorbar\": {\"outlinewidth\": 0, \"ticks\": \"\"}}, \"type\": \"scattermapbox\"}], \"scatterpolar\": [{\"marker\": {\"colorbar\": {\"outlinewidth\": 0, \"ticks\": \"\"}}, \"type\": \"scatterpolar\"}], \"scatterpolargl\": [{\"marker\": {\"colorbar\": {\"outlinewidth\": 0, \"ticks\": \"\"}}, \"type\": \"scatterpolargl\"}], \"scatterternary\": [{\"marker\": {\"colorbar\": {\"outlinewidth\": 0, \"ticks\": \"\"}}, \"type\": \"scatterternary\"}], \"surface\": [{\"colorbar\": {\"outlinewidth\": 0, \"ticks\": \"\"}, \"colorscale\": [[0.0, \"#0d0887\"], [0.1111111111111111, \"#46039f\"], [0.2222222222222222, \"#7201a8\"], [0.3333333333333333, \"#9c179e\"], [0.4444444444444444, \"#bd3786\"], [0.5555555555555556, \"#d8576b\"], [0.6666666666666666, \"#ed7953\"], [0.7777777777777778, \"#fb9f3a\"], [0.8888888888888888, \"#fdca26\"], [1.0, \"#f0f921\"]], \"type\": \"surface\"}], \"table\": [{\"cells\": {\"fill\": {\"color\": \"#EBF0F8\"}, \"line\": {\"color\": \"white\"}}, \"header\": {\"fill\": {\"color\": \"#C8D4E3\"}, \"line\": {\"color\": \"white\"}}, \"type\": \"table\"}]}, \"layout\": {\"annotationdefaults\": {\"arrowcolor\": \"#2a3f5f\", \"arrowhead\": 0, \"arrowwidth\": 1}, \"autotypenumbers\": \"strict\", \"coloraxis\": {\"colorbar\": {\"outlinewidth\": 0, \"ticks\": \"\"}}, \"colorscale\": {\"diverging\": [[0, \"#8e0152\"], [0.1, \"#c51b7d\"], [0.2, \"#de77ae\"], [0.3, \"#f1b6da\"], [0.4, \"#fde0ef\"], [0.5, \"#f7f7f7\"], [0.6, \"#e6f5d0\"], [0.7, \"#b8e186\"], [0.8, \"#7fbc41\"], [0.9, \"#4d9221\"], [1, \"#276419\"]], \"sequential\": [[0.0, \"#0d0887\"], [0.1111111111111111, \"#46039f\"], [0.2222222222222222, \"#7201a8\"], [0.3333333333333333, \"#9c179e\"], [0.4444444444444444, \"#bd3786\"], [0.5555555555555556, \"#d8576b\"], [0.6666666666666666, \"#ed7953\"], [0.7777777777777778, \"#fb9f3a\"], [0.8888888888888888, \"#fdca26\"], [1.0, \"#f0f921\"]], \"sequentialminus\": [[0.0, \"#0d0887\"], [0.1111111111111111, \"#46039f\"], [0.2222222222222222, \"#7201a8\"], [0.3333333333333333, \"#9c179e\"], [0.4444444444444444, \"#bd3786\"], [0.5555555555555556, \"#d8576b\"], [0.6666666666666666, \"#ed7953\"], [0.7777777777777778, \"#fb9f3a\"], [0.8888888888888888, \"#fdca26\"], [1.0, \"#f0f921\"]]}, \"colorway\": [\"#636efa\", \"#EF553B\", \"#00cc96\", \"#ab63fa\", \"#FFA15A\", \"#19d3f3\", \"#FF6692\", \"#B6E880\", \"#FF97FF\", \"#FECB52\"], \"font\": {\"color\": \"#2a3f5f\"}, \"geo\": {\"bgcolor\": \"white\", \"lakecolor\": \"white\", \"landcolor\": \"#E5ECF6\", \"showlakes\": true, \"showland\": true, \"subunitcolor\": \"white\"}, \"hoverlabel\": {\"align\": \"left\"}, \"hovermode\": \"closest\", \"mapbox\": {\"style\": \"light\"}, \"paper_bgcolor\": \"white\", \"plot_bgcolor\": \"#E5ECF6\", \"polar\": {\"angularaxis\": {\"gridcolor\": \"white\", \"linecolor\": \"white\", \"ticks\": \"\"}, \"bgcolor\": \"#E5ECF6\", \"radialaxis\": {\"gridcolor\": \"white\", \"linecolor\": \"white\", \"ticks\": \"\"}}, \"scene\": {\"xaxis\": {\"backgroundcolor\": \"#E5ECF6\", \"gridcolor\": \"white\", \"gridwidth\": 2, \"linecolor\": \"white\", \"showbackground\": true, \"ticks\": \"\", \"zerolinecolor\": \"white\"}, \"yaxis\": {\"backgroundcolor\": \"#E5ECF6\", \"gridcolor\": \"white\", \"gridwidth\": 2, \"linecolor\": \"white\", \"showbackground\": true, \"ticks\": \"\", \"zerolinecolor\": \"white\"}, \"zaxis\": {\"backgroundcolor\": \"#E5ECF6\", \"gridcolor\": \"white\", \"gridwidth\": 2, \"linecolor\": \"white\", \"showbackground\": true, \"ticks\": \"\", \"zerolinecolor\": \"white\"}}, \"shapedefaults\": {\"line\": {\"color\": \"#2a3f5f\"}}, \"ternary\": {\"aaxis\": {\"gridcolor\": \"white\", \"linecolor\": \"white\", \"ticks\": \"\"}, \"baxis\": {\"gridcolor\": \"white\", \"linecolor\": \"white\", \"ticks\": \"\"}, \"bgcolor\": \"#E5ECF6\", \"caxis\": {\"gridcolor\": \"white\", \"linecolor\": \"white\", \"ticks\": \"\"}}, \"title\": {\"x\": 0.05}, \"xaxis\": {\"automargin\": true, \"gridcolor\": \"white\", \"linecolor\": \"white\", \"ticks\": \"\", \"title\": {\"standoff\": 15}, \"zerolinecolor\": \"white\", \"zerolinewidth\": 2}, \"yaxis\": {\"automargin\": true, \"gridcolor\": \"white\", \"linecolor\": \"white\", \"ticks\": \"\", \"title\": {\"standoff\": 15}, \"zerolinecolor\": \"white\", \"zerolinewidth\": 2}}}, \"title\": {\"text\": \"actual vs prediction\"}, \"xaxis\": {\"anchor\": \"y\", \"domain\": [0.0, 1.0], \"title\": {\"text\": \"date\"}}, \"yaxis\": {\"anchor\": \"x\", \"domain\": [0.0, 1.0], \"title\": {\"text\": \"y\"}}},                        {\"responsive\": true}                    ).then(function(){\n",
       "                            \n",
       "var gd = document.getElementById('d991fc13-13f1-448e-9fe0-3e7bbc8cc71c');\n",
       "var x = new MutationObserver(function (mutations, observer) {{\n",
       "        var display = window.getComputedStyle(gd).display;\n",
       "        if (!display || display === 'none') {{\n",
       "            console.log([gd, 'removed!']);\n",
       "            Plotly.purge(gd);\n",
       "            observer.disconnect();\n",
       "        }}\n",
       "}});\n",
       "\n",
       "// Listen for the removal of the full notebook cells\n",
       "var notebookContainer = gd.closest('#notebook-container');\n",
       "if (notebookContainer) {{\n",
       "    x.observe(notebookContainer, {childList: true});\n",
       "}}\n",
       "\n",
       "// Listen for the clearing of the current output cell\n",
       "var outputEl = gd.closest('.output');\n",
       "if (outputEl) {{\n",
       "    x.observe(outputEl, {childList: true});\n",
       "}}\n",
       "\n",
       "                        })                };                });            </script>        </div>"
      ]
     },
     "metadata": {},
     "output_type": "display_data"
    }
   ],
   "source": [
    "\n",
    "fig = px.line(final_df, x=\"date\", y=\"y\", title='actual vs prediction', color='status')\n",
    "fig.show()\n",
    "\n",
    "\n",
    "# prediction_fig = px.line(predict_df, x=\"date\", y=\"y\", title='prediction')\n",
    "# prediction_fig.show()\n",
    "\n",
    "\n",
    "# actual_fig = px.line(bb_df, x=\"date\", y=\"y\", title='actual')\n",
    "# actual_fig.show()"
   ]
  },
  {
   "cell_type": "code",
   "execution_count": 233,
   "id": "9d26312a",
   "metadata": {},
   "outputs": [
    {
     "data": {
      "text/plain": [
       "(535.1028759808646, 40153.369890227164)"
      ]
     },
     "execution_count": 233,
     "metadata": {},
     "output_type": "execute_result"
    }
   ],
   "source": [
    "(states['resid'].mean(), states['resid'].std())"
   ]
  },
  {
   "cell_type": "code",
   "execution_count": 234,
   "id": "063bb84c",
   "metadata": {},
   "outputs": [
    {
     "data": {
      "application/vnd.plotly.v1+json": {
       "config": {
        "plotlyServerURL": "https://plot.ly"
       },
       "data": [
        {
         "name": "bound_1",
         "type": "scatter",
         "x": [
          "2022-05-07T00:00:00",
          "2022-05-07T01:00:00",
          "2022-05-07T02:00:00",
          "2022-05-07T03:00:00",
          "2022-05-07T04:00:00",
          "2022-05-07T05:00:00",
          "2022-05-07T06:00:00",
          "2022-05-07T07:00:00",
          "2022-05-07T08:00:00",
          "2022-05-07T09:00:00",
          "2022-05-07T10:00:00",
          "2022-05-07T11:00:00",
          "2022-05-07T12:00:00",
          "2022-05-07T13:00:00",
          "2022-05-07T14:00:00",
          "2022-05-07T15:00:00",
          "2022-05-07T16:00:00",
          "2022-05-07T17:00:00",
          "2022-05-07T18:00:00",
          "2022-05-07T19:00:00",
          "2022-05-07T20:00:00",
          "2022-05-07T21:00:00",
          "2022-05-07T22:00:00",
          "2022-05-07T23:00:00",
          "2022-05-08T00:00:00",
          "2022-05-08T01:00:00",
          "2022-05-08T02:00:00",
          "2022-05-08T03:00:00",
          "2022-05-08T04:00:00",
          "2022-05-08T05:00:00",
          "2022-05-08T06:00:00",
          "2022-05-08T07:00:00",
          "2022-05-08T08:00:00",
          "2022-05-08T09:00:00",
          "2022-05-08T10:00:00",
          "2022-05-08T11:00:00",
          "2022-05-08T12:00:00",
          "2022-05-08T13:00:00",
          "2022-05-08T14:00:00",
          "2022-05-08T15:00:00",
          "2022-05-08T16:00:00",
          "2022-05-08T17:00:00",
          "2022-05-08T18:00:00",
          "2022-05-08T19:00:00",
          "2022-05-08T20:00:00",
          "2022-05-08T21:00:00",
          "2022-05-08T22:00:00",
          "2022-05-08T23:00:00",
          "2022-05-09T00:00:00",
          "2022-05-09T01:00:00",
          "2022-05-09T02:00:00",
          "2022-05-09T03:00:00",
          "2022-05-09T04:00:00",
          "2022-05-09T05:00:00",
          "2022-05-09T06:00:00",
          "2022-05-09T07:00:00",
          "2022-05-09T08:00:00",
          "2022-05-09T09:00:00",
          "2022-05-09T10:00:00",
          "2022-05-09T11:00:00",
          "2022-05-09T12:00:00",
          "2022-05-09T13:00:00",
          "2022-05-09T14:00:00",
          "2022-05-09T15:00:00",
          "2022-05-09T16:00:00",
          "2022-05-09T17:00:00",
          "2022-05-09T18:00:00",
          "2022-05-09T19:00:00",
          "2022-05-09T20:00:00",
          "2022-05-09T21:00:00",
          "2022-05-09T22:00:00",
          "2022-05-09T23:00:00",
          "2022-05-10T00:00:00",
          "2022-05-10T01:00:00",
          "2022-05-10T02:00:00",
          "2022-05-10T03:00:00",
          "2022-05-10T04:00:00",
          "2022-05-10T05:00:00",
          "2022-05-10T06:00:00",
          "2022-05-10T07:00:00",
          "2022-05-10T08:00:00",
          "2022-05-10T09:00:00",
          "2022-05-10T10:00:00",
          "2022-05-10T11:00:00",
          "2022-05-10T12:00:00",
          "2022-05-10T13:00:00",
          "2022-05-10T14:00:00",
          "2022-05-10T15:00:00",
          "2022-05-10T16:00:00",
          "2022-05-10T17:00:00",
          "2022-05-10T18:00:00",
          "2022-05-10T19:00:00",
          "2022-05-10T20:00:00",
          "2022-05-10T21:00:00",
          "2022-05-10T22:00:00",
          "2022-05-10T23:00:00",
          "2022-05-11T00:00:00",
          "2022-05-11T01:00:00",
          "2022-05-11T02:00:00",
          "2022-05-11T03:00:00",
          "2022-05-11T04:00:00",
          "2022-05-11T05:00:00",
          "2022-05-11T06:00:00",
          "2022-05-11T07:00:00",
          "2022-05-11T08:00:00",
          "2022-05-11T09:00:00",
          "2022-05-11T10:00:00",
          "2022-05-11T11:00:00",
          "2022-05-11T12:00:00",
          "2022-05-11T13:00:00",
          "2022-05-11T14:00:00",
          "2022-05-11T15:00:00",
          "2022-05-11T16:00:00",
          "2022-05-11T17:00:00",
          "2022-05-11T18:00:00",
          "2022-05-11T19:00:00",
          "2022-05-11T20:00:00",
          "2022-05-11T21:00:00",
          "2022-05-11T22:00:00",
          "2022-05-11T23:00:00",
          "2022-05-12T00:00:00",
          "2022-05-12T01:00:00",
          "2022-05-12T02:00:00",
          "2022-05-12T03:00:00",
          "2022-05-12T04:00:00",
          "2022-05-12T05:00:00",
          "2022-05-12T06:00:00",
          "2022-05-12T07:00:00",
          "2022-05-12T08:00:00",
          "2022-05-12T09:00:00",
          "2022-05-12T10:00:00",
          "2022-05-12T11:00:00",
          "2022-05-12T12:00:00",
          "2022-05-12T13:00:00",
          "2022-05-12T14:00:00",
          "2022-05-12T15:00:00",
          "2022-05-12T16:00:00",
          "2022-05-12T17:00:00",
          "2022-05-12T18:00:00",
          "2022-05-12T19:00:00",
          "2022-05-12T20:00:00",
          "2022-05-12T21:00:00",
          "2022-05-12T22:00:00",
          "2022-05-12T23:00:00",
          "2022-05-13T00:00:00",
          "2022-05-13T01:00:00",
          "2022-05-13T02:00:00",
          "2022-05-13T03:00:00",
          "2022-05-13T04:00:00",
          "2022-05-13T05:00:00",
          "2022-05-13T06:00:00",
          "2022-05-13T07:00:00",
          "2022-05-13T08:00:00",
          "2022-05-13T09:00:00",
          "2022-05-13T10:00:00",
          "2022-05-13T11:00:00",
          "2022-05-13T12:00:00",
          "2022-05-13T13:00:00",
          "2022-05-13T14:00:00",
          "2022-05-13T15:00:00",
          "2022-05-13T16:00:00",
          "2022-05-13T17:00:00",
          "2022-05-13T18:00:00",
          "2022-05-13T19:00:00",
          "2022-05-13T20:00:00",
          "2022-05-13T21:00:00",
          "2022-05-13T22:00:00",
          "2022-05-13T23:00:00",
          "2022-05-14T00:00:00",
          "2022-05-14T01:00:00",
          "2022-05-14T02:00:00",
          "2022-05-14T03:00:00",
          "2022-05-14T04:00:00",
          "2022-05-14T05:00:00",
          "2022-05-14T06:00:00",
          "2022-05-14T07:00:00",
          "2022-05-14T08:00:00",
          "2022-05-14T09:00:00",
          "2022-05-14T10:00:00",
          "2022-05-14T11:00:00",
          "2022-05-14T12:00:00",
          "2022-05-14T13:00:00",
          "2022-05-14T14:00:00",
          "2022-05-14T15:00:00",
          "2022-05-14T16:00:00",
          "2022-05-14T17:00:00",
          "2022-05-14T18:00:00",
          "2022-05-14T19:00:00",
          "2022-05-14T20:00:00",
          "2022-05-14T21:00:00",
          "2022-05-14T22:00:00",
          "2022-05-14T23:00:00"
         ],
         "y": [
          422379.9833556845,
          419456.65975021187,
          415100.16603674344,
          419435.8402829004,
          430850.81949412683,
          416640.7838900882,
          393453.0806043985,
          371358.0009808005,
          359885.7052711163,
          356621.6488116627,
          358873.95267698466,
          362739.4441159548,
          366263.71956870204,
          370593.7484392541,
          410748.0296793664,
          470419.4588837711,
          466695.1015344575,
          451868.0241998109,
          440394.8668805425,
          424401.41767628264,
          454583.4222663484,
          375121.37516242533,
          391154.9648445997,
          402465.5142840346,
          386042.44221501274,
          373188.4892851709,
          347509.04617376195,
          330369.8969163196,
          351110.22233910323,
          366957.32575315086,
          381883.1938477823,
          368162.665770888,
          373393.40583957534,
          373933.4224555417,
          381911.15242965356,
          394954.4753912599,
          407342.56000999606,
          439781.892039833,
          495220.88080141146,
          528316.1663788566,
          566265.600852586,
          615884.525894328,
          636275.2592832057,
          646302.4997096352,
          630369.0484881045,
          597711.5022007453,
          570582.7237254758,
          529242.0440107029,
          500746.9693134391,
          476323.30189527676,
          439488.24288656993,
          406210.5622691072,
          402891.28795078764,
          403419.90646235563,
          397968.7598535378,
          388056.6932322319,
          377597.38904672454,
          368575.8819733275,
          368299.5658264146,
          361616.8337120742,
          364492.6347108426,
          376441.72652085265,
          395622.6257161842,
          419638.70628044015,
          473809.6155910919,
          477405.13119586546,
          474056.62629116967,
          470649.2073594006,
          456640.5716218485,
          439701.8336667073,
          421390.9903359521,
          393876.18823453854,
          390426.3657602883,
          377976.21473496,
          375052.8911294873,
          370696.39741601894,
          375032.0716621758,
          386447.0508734023,
          372237.01526936376,
          349049.311983674,
          326954.2323600759,
          315481.9366503918,
          312217.8801909381,
          314470.18405626016,
          318335.67549523024,
          321859.95094797754,
          326189.97981852957,
          366344.26105864183,
          426015.69026304653,
          422291.332913733,
          407464.25557908637,
          395991.0982598179,
          379997.6490555581,
          410179.6536456238,
          330717.60654170084,
          346751.19622387516,
          358061.74566331005,
          341638.6735942882,
          328784.72066444636,
          303105.2775530374,
          285966.12829559506,
          306706.45371837873,
          322553.5571324263,
          337479.42522705777,
          323758.8971501634,
          328989.6372188508,
          329529.6538348171,
          337507.38380892907,
          350550.7067705353,
          362938.7913892715,
          395378.12341910845,
          450817.11218068696,
          483912.3977581321,
          521861.8322318614,
          571480.7572736035,
          591871.4906624812,
          601898.7310889106,
          585965.2798673799,
          553307.7335800208,
          526178.9551047513,
          484838.2753899783,
          456343.2006927146,
          431919.5332745522,
          395084.47426584543,
          361806.79364838265,
          358487.51933006314,
          359016.13784163113,
          353564.9912328132,
          343652.9246115074,
          333193.620426,
          324172.11335260293,
          323895.79720569006,
          317213.06509134965,
          320088.8660901181,
          332037.9579001281,
          351218.85709545965,
          375234.93765971565,
          429405.84697036736,
          433001.3625751409,
          429652.8576704451,
          426245.43873867614,
          412236.80300112395,
          395298.0650459828,
          376987.2217152275,
          349472.419613814,
          346022.59713956376,
          333572.44611423544,
          330649.12250876275,
          326292.62879529444,
          330628.30304145126,
          342043.2822526777,
          327833.24664863915,
          304645.5433629495,
          282550.46373935137,
          271078.1680296672,
          267814.1115702136,
          270066.4154355356,
          273931.9068745057,
          277456.18232725305,
          281786.21119780507,
          321940.4924379173,
          381611.92164232204,
          377887.5642930084,
          363060.4869583619,
          351587.3296390934,
          335593.8804348336,
          365775.88502489927,
          286313.8379209763,
          302347.4276031506,
          313657.9770425855,
          297234.9049735636,
          284380.95204372186,
          258701.5089323129,
          241562.3596748705,
          262302.6850976542,
          278149.7885117018,
          293075.6566063332,
          279355.12852943887,
          284585.8685981262,
          285125.88521409256,
          293103.6151882045,
          306146.9381498108,
          318535.02276854694,
          350974.354798384,
          406413.3435599624,
          439508.6291374075,
          477458.06361113687,
          527076.9886528789,
          547467.7220417566,
          557494.962468186,
          541561.5112466554,
          508903.9649592963
         ]
        },
        {
         "fill": "tonexty",
         "fillcolor": "grey",
         "mode": "none",
         "name": "bound_2",
         "type": "scatter",
         "x": [
          "2022-05-07T00:00:00",
          "2022-05-07T01:00:00",
          "2022-05-07T02:00:00",
          "2022-05-07T03:00:00",
          "2022-05-07T04:00:00",
          "2022-05-07T05:00:00",
          "2022-05-07T06:00:00",
          "2022-05-07T07:00:00",
          "2022-05-07T08:00:00",
          "2022-05-07T09:00:00",
          "2022-05-07T10:00:00",
          "2022-05-07T11:00:00",
          "2022-05-07T12:00:00",
          "2022-05-07T13:00:00",
          "2022-05-07T14:00:00",
          "2022-05-07T15:00:00",
          "2022-05-07T16:00:00",
          "2022-05-07T17:00:00",
          "2022-05-07T18:00:00",
          "2022-05-07T19:00:00",
          "2022-05-07T20:00:00",
          "2022-05-07T21:00:00",
          "2022-05-07T22:00:00",
          "2022-05-07T23:00:00",
          "2022-05-08T00:00:00",
          "2022-05-08T01:00:00",
          "2022-05-08T02:00:00",
          "2022-05-08T03:00:00",
          "2022-05-08T04:00:00",
          "2022-05-08T05:00:00",
          "2022-05-08T06:00:00",
          "2022-05-08T07:00:00",
          "2022-05-08T08:00:00",
          "2022-05-08T09:00:00",
          "2022-05-08T10:00:00",
          "2022-05-08T11:00:00",
          "2022-05-08T12:00:00",
          "2022-05-08T13:00:00",
          "2022-05-08T14:00:00",
          "2022-05-08T15:00:00",
          "2022-05-08T16:00:00",
          "2022-05-08T17:00:00",
          "2022-05-08T18:00:00",
          "2022-05-08T19:00:00",
          "2022-05-08T20:00:00",
          "2022-05-08T21:00:00",
          "2022-05-08T22:00:00",
          "2022-05-08T23:00:00",
          "2022-05-09T00:00:00",
          "2022-05-09T01:00:00",
          "2022-05-09T02:00:00",
          "2022-05-09T03:00:00",
          "2022-05-09T04:00:00",
          "2022-05-09T05:00:00",
          "2022-05-09T06:00:00",
          "2022-05-09T07:00:00",
          "2022-05-09T08:00:00",
          "2022-05-09T09:00:00",
          "2022-05-09T10:00:00",
          "2022-05-09T11:00:00",
          "2022-05-09T12:00:00",
          "2022-05-09T13:00:00",
          "2022-05-09T14:00:00",
          "2022-05-09T15:00:00",
          "2022-05-09T16:00:00",
          "2022-05-09T17:00:00",
          "2022-05-09T18:00:00",
          "2022-05-09T19:00:00",
          "2022-05-09T20:00:00",
          "2022-05-09T21:00:00",
          "2022-05-09T22:00:00",
          "2022-05-09T23:00:00",
          "2022-05-10T00:00:00",
          "2022-05-10T01:00:00",
          "2022-05-10T02:00:00",
          "2022-05-10T03:00:00",
          "2022-05-10T04:00:00",
          "2022-05-10T05:00:00",
          "2022-05-10T06:00:00",
          "2022-05-10T07:00:00",
          "2022-05-10T08:00:00",
          "2022-05-10T09:00:00",
          "2022-05-10T10:00:00",
          "2022-05-10T11:00:00",
          "2022-05-10T12:00:00",
          "2022-05-10T13:00:00",
          "2022-05-10T14:00:00",
          "2022-05-10T15:00:00",
          "2022-05-10T16:00:00",
          "2022-05-10T17:00:00",
          "2022-05-10T18:00:00",
          "2022-05-10T19:00:00",
          "2022-05-10T20:00:00",
          "2022-05-10T21:00:00",
          "2022-05-10T22:00:00",
          "2022-05-10T23:00:00",
          "2022-05-11T00:00:00",
          "2022-05-11T01:00:00",
          "2022-05-11T02:00:00",
          "2022-05-11T03:00:00",
          "2022-05-11T04:00:00",
          "2022-05-11T05:00:00",
          "2022-05-11T06:00:00",
          "2022-05-11T07:00:00",
          "2022-05-11T08:00:00",
          "2022-05-11T09:00:00",
          "2022-05-11T10:00:00",
          "2022-05-11T11:00:00",
          "2022-05-11T12:00:00",
          "2022-05-11T13:00:00",
          "2022-05-11T14:00:00",
          "2022-05-11T15:00:00",
          "2022-05-11T16:00:00",
          "2022-05-11T17:00:00",
          "2022-05-11T18:00:00",
          "2022-05-11T19:00:00",
          "2022-05-11T20:00:00",
          "2022-05-11T21:00:00",
          "2022-05-11T22:00:00",
          "2022-05-11T23:00:00",
          "2022-05-12T00:00:00",
          "2022-05-12T01:00:00",
          "2022-05-12T02:00:00",
          "2022-05-12T03:00:00",
          "2022-05-12T04:00:00",
          "2022-05-12T05:00:00",
          "2022-05-12T06:00:00",
          "2022-05-12T07:00:00",
          "2022-05-12T08:00:00",
          "2022-05-12T09:00:00",
          "2022-05-12T10:00:00",
          "2022-05-12T11:00:00",
          "2022-05-12T12:00:00",
          "2022-05-12T13:00:00",
          "2022-05-12T14:00:00",
          "2022-05-12T15:00:00",
          "2022-05-12T16:00:00",
          "2022-05-12T17:00:00",
          "2022-05-12T18:00:00",
          "2022-05-12T19:00:00",
          "2022-05-12T20:00:00",
          "2022-05-12T21:00:00",
          "2022-05-12T22:00:00",
          "2022-05-12T23:00:00",
          "2022-05-13T00:00:00",
          "2022-05-13T01:00:00",
          "2022-05-13T02:00:00",
          "2022-05-13T03:00:00",
          "2022-05-13T04:00:00",
          "2022-05-13T05:00:00",
          "2022-05-13T06:00:00",
          "2022-05-13T07:00:00",
          "2022-05-13T08:00:00",
          "2022-05-13T09:00:00",
          "2022-05-13T10:00:00",
          "2022-05-13T11:00:00",
          "2022-05-13T12:00:00",
          "2022-05-13T13:00:00",
          "2022-05-13T14:00:00",
          "2022-05-13T15:00:00",
          "2022-05-13T16:00:00",
          "2022-05-13T17:00:00",
          "2022-05-13T18:00:00",
          "2022-05-13T19:00:00",
          "2022-05-13T20:00:00",
          "2022-05-13T21:00:00",
          "2022-05-13T22:00:00",
          "2022-05-13T23:00:00",
          "2022-05-14T00:00:00",
          "2022-05-14T01:00:00",
          "2022-05-14T02:00:00",
          "2022-05-14T03:00:00",
          "2022-05-14T04:00:00",
          "2022-05-14T05:00:00",
          "2022-05-14T06:00:00",
          "2022-05-14T07:00:00",
          "2022-05-14T08:00:00",
          "2022-05-14T09:00:00",
          "2022-05-14T10:00:00",
          "2022-05-14T11:00:00",
          "2022-05-14T12:00:00",
          "2022-05-14T13:00:00",
          "2022-05-14T14:00:00",
          "2022-05-14T15:00:00",
          "2022-05-14T16:00:00",
          "2022-05-14T17:00:00",
          "2022-05-14T18:00:00",
          "2022-05-14T19:00:00",
          "2022-05-14T20:00:00",
          "2022-05-14T21:00:00",
          "2022-05-14T22:00:00",
          "2022-05-14T23:00:00"
         ],
         "y": [
          20846.284453412867,
          17922.96084794021,
          13566.467134471837,
          17902.141380628716,
          29317.12059185517,
          15107.084987816605,
          -8080.618297873094,
          -30175.697921471146,
          -41647.99363115535,
          -44912.050090608944,
          -42659.746225286974,
          -38794.25478631686,
          -35269.97933356956,
          -30939.950463017507,
          9214.330777094729,
          68885.75998149943,
          65161.40263218587,
          50334.3252975393,
          38861.16797827085,
          22867.71877401101,
          53049.72336407672,
          -26412.323739846266,
          -10378.734057671943,
          931.81538176295,
          -15491.256687258923,
          -28345.209617100685,
          -54024.65272850965,
          -71163.80198595203,
          -50423.47656316837,
          -34576.37314912074,
          -19650.50505448933,
          -33371.03313138365,
          -28140.29306269629,
          -27600.276446729986,
          -19622.546472618036,
          -6579.223511011747,
          5808.861107724399,
          38248.19313756141,
          93687.18189913986,
          126782.46747658498,
          164731.90195031432,
          214350.82699205636,
          234741.56038093407,
          244768.8008073635,
          228835.34958583282,
          196177.80329847368,
          169049.02482320418,
          127708.34510843121,
          99213.2704111675,
          74789.6029930051,
          37954.54398429833,
          4676.863366835576,
          1357.5890485160053,
          1886.2075600840326,
          -3564.9390487338824,
          -13477.00567003971,
          -23936.309855547122,
          -32957.81692894414,
          -33234.13307585704,
          -39916.86519019745,
          -37041.06419142897,
          -25091.97238141895,
          -5911.073186087422,
          18105.00737816852,
          72275.91668882032,
          75871.4322935938,
          72522.92738889807,
          69115.50845712898,
          55106.87271957687,
          38168.13476443567,
          19857.291433680453,
          -7657.5106677331205,
          -11107.333141983341,
          -23557.48416731166,
          -26480.80777278429,
          -30837.30148625269,
          -26501.62724009581,
          -15086.648028869356,
          -29296.683632907894,
          -52484.38691859762,
          -74579.46654219567,
          -86051.76225187987,
          -89315.81871133347,
          -87063.5148460115,
          -83198.02340704139,
          -79673.74795429409,
          -75343.71908374203,
          -35189.43784362983,
          24481.991360774933,
          20757.63401146134,
          5930.556676814769,
          -5542.600642453675,
          -21536.049846713548,
          8645.954743352224,
          -70816.09236057081,
          -54782.5026783965,
          -43471.95323896161,
          -59895.02530798348,
          -72748.97823782524,
          -98428.42134923422,
          -115567.57060667659,
          -94827.2451838929,
          -78980.14176984532,
          -64054.27367521389,
          -77774.80175210821,
          -72544.06168342082,
          -72004.04506745454,
          -64026.315093342564,
          -50982.992131736304,
          -38594.90751300013,
          -6155.575483163149,
          49283.41327841533,
          82378.69885586042,
          120328.13332958976,
          169947.0583713318,
          190337.79176020957,
          200365.03218663894,
          184431.58096510827,
          151774.03467774918,
          124645.25620247962,
          83304.57648770671,
          54809.50179044297,
          30385.834372280544,
          -6449.2246364261955,
          -39726.90525388895,
          -43046.17957220852,
          -42517.561060640495,
          -47968.70766945841,
          -57880.77429076424,
          -68340.07847627165,
          -77361.58554966867,
          -77637.90169658158,
          -84320.633810922,
          -81444.83281215352,
          -69495.7410021435,
          -50314.84180681198,
          -26298.761242556007,
          27872.14806809576,
          31467.663672869297,
          28119.15876817351,
          24711.73983640448,
          10703.104098852316,
          -6235.633856288856,
          -24546.477187044104,
          -52061.27928845765,
          -55511.1017627079,
          -67961.25278803619,
          -70884.57639350886,
          -75241.07010697722,
          -70905.39586082035,
          -59490.416649593884,
          -73700.45225363247,
          -96888.15553932215,
          -118983.23516292023,
          -130455.5308726044,
          -133719.58733205803,
          -131467.28346673603,
          -127601.79202776594,
          -124077.51657501861,
          -119747.48770446656,
          -79593.20646435434,
          -19921.777259949595,
          -23646.134609263187,
          -38473.21194390976,
          -49946.3692631782,
          -65939.81846743808,
          -35757.81387737233,
          -115219.86098129534,
          -99186.27129912103,
          -87875.72185968615,
          -104298.793928708,
          -117152.74685854977,
          -142832.18996995874,
          -159971.33922740113,
          -139231.01380461745,
          -123383.91039056984,
          -108458.04229593843,
          -122178.57037283274,
          -116947.83030414538,
          -116407.81368817907,
          -108430.08371406712,
          -95386.7607524608,
          -82998.67613372467,
          -50559.34410388765,
          4879.6446576907765,
          37974.93023513592,
          75924.3647088652,
          125543.28975060725,
          145934.023139485,
          155961.26356591444,
          140027.8123443837,
          107370.26605702462
         ]
        },
        {
         "line": {
          "color": "red"
         },
         "name": "actual",
         "type": "scatter",
         "x": [
          "2022-05-07T00:00:00",
          "2022-05-07T01:00:00",
          "2022-05-07T02:00:00",
          "2022-05-07T03:00:00",
          "2022-05-07T04:00:00",
          "2022-05-07T05:00:00",
          "2022-05-07T06:00:00",
          "2022-05-07T07:00:00",
          "2022-05-07T08:00:00",
          "2022-05-07T09:00:00",
          "2022-05-07T10:00:00",
          "2022-05-07T11:00:00",
          "2022-05-07T12:00:00",
          "2022-05-07T13:00:00",
          "2022-05-07T14:00:00",
          "2022-05-07T15:00:00",
          "2022-05-07T16:00:00",
          "2022-05-07T17:00:00",
          "2022-05-07T18:00:00",
          "2022-05-07T19:00:00",
          "2022-05-07T20:00:00",
          "2022-05-07T21:00:00",
          "2022-05-07T22:00:00",
          "2022-05-07T23:00:00",
          "2022-05-08T00:00:00",
          "2022-05-08T01:00:00",
          "2022-05-08T02:00:00",
          "2022-05-08T03:00:00",
          "2022-05-08T04:00:00",
          "2022-05-08T05:00:00",
          "2022-05-08T06:00:00",
          "2022-05-08T07:00:00",
          "2022-05-08T08:00:00",
          "2022-05-08T09:00:00",
          "2022-05-08T10:00:00",
          "2022-05-08T11:00:00",
          "2022-05-08T12:00:00",
          "2022-05-08T13:00:00",
          "2022-05-08T14:00:00",
          "2022-05-08T15:00:00",
          "2022-05-08T16:00:00",
          "2022-05-08T17:00:00",
          "2022-05-08T18:00:00",
          "2022-05-08T19:00:00",
          "2022-05-08T20:00:00",
          "2022-05-08T21:00:00",
          "2022-05-08T22:00:00",
          "2022-05-08T23:00:00",
          "2022-05-09T00:00:00",
          "2022-05-09T01:00:00",
          "2022-05-09T02:00:00",
          "2022-05-09T03:00:00",
          "2022-05-09T04:00:00",
          "2022-05-09T05:00:00",
          "2022-05-09T06:00:00",
          "2022-05-09T07:00:00",
          "2022-05-09T08:00:00",
          "2022-05-09T09:00:00",
          "2022-05-09T10:00:00",
          "2022-05-09T11:00:00",
          "2022-05-09T12:00:00",
          "2022-05-09T13:00:00",
          "2022-05-09T14:00:00",
          "2022-05-09T15:00:00",
          "2022-05-09T16:00:00",
          "2022-05-09T17:00:00",
          "2022-05-09T18:00:00",
          "2022-05-09T19:00:00",
          "2022-05-09T20:00:00",
          "2022-05-09T21:00:00",
          "2022-05-09T22:00:00",
          "2022-05-09T23:00:00",
          "2022-05-10T00:00:00",
          "2022-05-10T01:00:00",
          "2022-05-10T02:00:00",
          "2022-05-10T03:00:00",
          "2022-05-10T04:00:00",
          "2022-05-10T05:00:00",
          "2022-05-10T06:00:00",
          "2022-05-10T07:00:00",
          "2022-05-10T08:00:00",
          "2022-05-10T09:00:00",
          "2022-05-10T10:00:00",
          "2022-05-10T11:00:00",
          "2022-05-10T12:00:00",
          "2022-05-10T13:00:00",
          "2022-05-10T14:00:00",
          "2022-05-10T15:00:00",
          "2022-05-10T16:00:00",
          "2022-05-10T17:00:00",
          "2022-05-10T18:00:00",
          "2022-05-10T19:00:00",
          "2022-05-10T20:00:00",
          "2022-05-10T21:00:00",
          "2022-05-10T22:00:00",
          "2022-05-10T23:00:00",
          "2022-05-11T00:00:00",
          "2022-05-11T01:00:00",
          "2022-05-11T02:00:00",
          "2022-05-11T03:00:00",
          "2022-05-11T04:00:00",
          "2022-05-11T05:00:00",
          "2022-05-11T06:00:00",
          "2022-05-11T07:00:00",
          "2022-05-11T08:00:00",
          "2022-05-11T09:00:00",
          "2022-05-11T10:00:00",
          "2022-05-11T11:00:00",
          "2022-05-11T12:00:00",
          "2022-05-11T13:00:00",
          "2022-05-11T14:00:00",
          "2022-05-11T15:00:00",
          "2022-05-11T16:00:00",
          "2022-05-11T17:00:00",
          "2022-05-11T18:00:00",
          "2022-05-11T19:00:00",
          "2022-05-11T20:00:00",
          "2022-05-11T21:00:00",
          "2022-05-11T22:00:00",
          "2022-05-11T23:00:00"
         ],
         "y": [
          203290,
          201666,
          243641,
          271605,
          276639,
          281781,
          401194,
          523784,
          614344,
          784469,
          873496,
          1057520,
          1327834,
          1794098,
          2088191,
          2246512,
          2440796,
          2529105,
          2568472,
          2704518,
          2624128,
          2641280,
          2557751,
          2552923,
          2507903,
          2443768,
          2459083,
          2473973,
          2507584,
          2570062,
          2816961,
          2975294,
          3282495,
          3529780,
          3908378,
          4264616,
          4669552,
          5466396,
          5848237,
          5852361,
          5983584,
          5828260,
          5678846,
          5525741,
          5433127,
          5387970,
          5372698,
          5332265,
          5177023,
          5463630,
          5495802,
          5903417,
          6211361,
          6679268,
          7323762,
          7900924,
          8397227,
          8667465,
          8945859,
          9346881,
          10428850,
          11885067,
          12485398,
          12041112,
          10425220,
          9186851,
          8458588,
          7956468,
          7643133,
          7340228,
          7046706,
          6685451,
          6519550,
          6310026,
          6509654,
          6504343,
          6483951,
          6372713,
          6135400,
          5585741,
          4948830,
          4331981,
          3866837,
          3408347,
          2918923,
          2026982,
          1289272,
          736528,
          465675,
          428917,
          408240,
          370994,
          341746,
          342491,
          303183,
          230901,
          207620,
          184169,
          198858,
          202829,
          186169,
          176336,
          168198,
          177352,
          205528,
          184978,
          194643,
          213200,
          301416,
          395134,
          391225,
          432931,
          482613,
          419556,
          402907,
          377694,
          342604,
          318610,
          270738,
          227139
         ]
        }
       ],
       "layout": {
        "template": {
         "data": {
          "bar": [
           {
            "error_x": {
             "color": "#2a3f5f"
            },
            "error_y": {
             "color": "#2a3f5f"
            },
            "marker": {
             "line": {
              "color": "#E5ECF6",
              "width": 0.5
             }
            },
            "type": "bar"
           }
          ],
          "barpolar": [
           {
            "marker": {
             "line": {
              "color": "#E5ECF6",
              "width": 0.5
             }
            },
            "type": "barpolar"
           }
          ],
          "carpet": [
           {
            "aaxis": {
             "endlinecolor": "#2a3f5f",
             "gridcolor": "white",
             "linecolor": "white",
             "minorgridcolor": "white",
             "startlinecolor": "#2a3f5f"
            },
            "baxis": {
             "endlinecolor": "#2a3f5f",
             "gridcolor": "white",
             "linecolor": "white",
             "minorgridcolor": "white",
             "startlinecolor": "#2a3f5f"
            },
            "type": "carpet"
           }
          ],
          "choropleth": [
           {
            "colorbar": {
             "outlinewidth": 0,
             "ticks": ""
            },
            "type": "choropleth"
           }
          ],
          "contour": [
           {
            "colorbar": {
             "outlinewidth": 0,
             "ticks": ""
            },
            "colorscale": [
             [
              0,
              "#0d0887"
             ],
             [
              0.1111111111111111,
              "#46039f"
             ],
             [
              0.2222222222222222,
              "#7201a8"
             ],
             [
              0.3333333333333333,
              "#9c179e"
             ],
             [
              0.4444444444444444,
              "#bd3786"
             ],
             [
              0.5555555555555556,
              "#d8576b"
             ],
             [
              0.6666666666666666,
              "#ed7953"
             ],
             [
              0.7777777777777778,
              "#fb9f3a"
             ],
             [
              0.8888888888888888,
              "#fdca26"
             ],
             [
              1,
              "#f0f921"
             ]
            ],
            "type": "contour"
           }
          ],
          "contourcarpet": [
           {
            "colorbar": {
             "outlinewidth": 0,
             "ticks": ""
            },
            "type": "contourcarpet"
           }
          ],
          "heatmap": [
           {
            "colorbar": {
             "outlinewidth": 0,
             "ticks": ""
            },
            "colorscale": [
             [
              0,
              "#0d0887"
             ],
             [
              0.1111111111111111,
              "#46039f"
             ],
             [
              0.2222222222222222,
              "#7201a8"
             ],
             [
              0.3333333333333333,
              "#9c179e"
             ],
             [
              0.4444444444444444,
              "#bd3786"
             ],
             [
              0.5555555555555556,
              "#d8576b"
             ],
             [
              0.6666666666666666,
              "#ed7953"
             ],
             [
              0.7777777777777778,
              "#fb9f3a"
             ],
             [
              0.8888888888888888,
              "#fdca26"
             ],
             [
              1,
              "#f0f921"
             ]
            ],
            "type": "heatmap"
           }
          ],
          "heatmapgl": [
           {
            "colorbar": {
             "outlinewidth": 0,
             "ticks": ""
            },
            "colorscale": [
             [
              0,
              "#0d0887"
             ],
             [
              0.1111111111111111,
              "#46039f"
             ],
             [
              0.2222222222222222,
              "#7201a8"
             ],
             [
              0.3333333333333333,
              "#9c179e"
             ],
             [
              0.4444444444444444,
              "#bd3786"
             ],
             [
              0.5555555555555556,
              "#d8576b"
             ],
             [
              0.6666666666666666,
              "#ed7953"
             ],
             [
              0.7777777777777778,
              "#fb9f3a"
             ],
             [
              0.8888888888888888,
              "#fdca26"
             ],
             [
              1,
              "#f0f921"
             ]
            ],
            "type": "heatmapgl"
           }
          ],
          "histogram": [
           {
            "marker": {
             "colorbar": {
              "outlinewidth": 0,
              "ticks": ""
             }
            },
            "type": "histogram"
           }
          ],
          "histogram2d": [
           {
            "colorbar": {
             "outlinewidth": 0,
             "ticks": ""
            },
            "colorscale": [
             [
              0,
              "#0d0887"
             ],
             [
              0.1111111111111111,
              "#46039f"
             ],
             [
              0.2222222222222222,
              "#7201a8"
             ],
             [
              0.3333333333333333,
              "#9c179e"
             ],
             [
              0.4444444444444444,
              "#bd3786"
             ],
             [
              0.5555555555555556,
              "#d8576b"
             ],
             [
              0.6666666666666666,
              "#ed7953"
             ],
             [
              0.7777777777777778,
              "#fb9f3a"
             ],
             [
              0.8888888888888888,
              "#fdca26"
             ],
             [
              1,
              "#f0f921"
             ]
            ],
            "type": "histogram2d"
           }
          ],
          "histogram2dcontour": [
           {
            "colorbar": {
             "outlinewidth": 0,
             "ticks": ""
            },
            "colorscale": [
             [
              0,
              "#0d0887"
             ],
             [
              0.1111111111111111,
              "#46039f"
             ],
             [
              0.2222222222222222,
              "#7201a8"
             ],
             [
              0.3333333333333333,
              "#9c179e"
             ],
             [
              0.4444444444444444,
              "#bd3786"
             ],
             [
              0.5555555555555556,
              "#d8576b"
             ],
             [
              0.6666666666666666,
              "#ed7953"
             ],
             [
              0.7777777777777778,
              "#fb9f3a"
             ],
             [
              0.8888888888888888,
              "#fdca26"
             ],
             [
              1,
              "#f0f921"
             ]
            ],
            "type": "histogram2dcontour"
           }
          ],
          "mesh3d": [
           {
            "colorbar": {
             "outlinewidth": 0,
             "ticks": ""
            },
            "type": "mesh3d"
           }
          ],
          "parcoords": [
           {
            "line": {
             "colorbar": {
              "outlinewidth": 0,
              "ticks": ""
             }
            },
            "type": "parcoords"
           }
          ],
          "pie": [
           {
            "automargin": true,
            "type": "pie"
           }
          ],
          "scatter": [
           {
            "marker": {
             "colorbar": {
              "outlinewidth": 0,
              "ticks": ""
             }
            },
            "type": "scatter"
           }
          ],
          "scatter3d": [
           {
            "line": {
             "colorbar": {
              "outlinewidth": 0,
              "ticks": ""
             }
            },
            "marker": {
             "colorbar": {
              "outlinewidth": 0,
              "ticks": ""
             }
            },
            "type": "scatter3d"
           }
          ],
          "scattercarpet": [
           {
            "marker": {
             "colorbar": {
              "outlinewidth": 0,
              "ticks": ""
             }
            },
            "type": "scattercarpet"
           }
          ],
          "scattergeo": [
           {
            "marker": {
             "colorbar": {
              "outlinewidth": 0,
              "ticks": ""
             }
            },
            "type": "scattergeo"
           }
          ],
          "scattergl": [
           {
            "marker": {
             "colorbar": {
              "outlinewidth": 0,
              "ticks": ""
             }
            },
            "type": "scattergl"
           }
          ],
          "scattermapbox": [
           {
            "marker": {
             "colorbar": {
              "outlinewidth": 0,
              "ticks": ""
             }
            },
            "type": "scattermapbox"
           }
          ],
          "scatterpolar": [
           {
            "marker": {
             "colorbar": {
              "outlinewidth": 0,
              "ticks": ""
             }
            },
            "type": "scatterpolar"
           }
          ],
          "scatterpolargl": [
           {
            "marker": {
             "colorbar": {
              "outlinewidth": 0,
              "ticks": ""
             }
            },
            "type": "scatterpolargl"
           }
          ],
          "scatterternary": [
           {
            "marker": {
             "colorbar": {
              "outlinewidth": 0,
              "ticks": ""
             }
            },
            "type": "scatterternary"
           }
          ],
          "surface": [
           {
            "colorbar": {
             "outlinewidth": 0,
             "ticks": ""
            },
            "colorscale": [
             [
              0,
              "#0d0887"
             ],
             [
              0.1111111111111111,
              "#46039f"
             ],
             [
              0.2222222222222222,
              "#7201a8"
             ],
             [
              0.3333333333333333,
              "#9c179e"
             ],
             [
              0.4444444444444444,
              "#bd3786"
             ],
             [
              0.5555555555555556,
              "#d8576b"
             ],
             [
              0.6666666666666666,
              "#ed7953"
             ],
             [
              0.7777777777777778,
              "#fb9f3a"
             ],
             [
              0.8888888888888888,
              "#fdca26"
             ],
             [
              1,
              "#f0f921"
             ]
            ],
            "type": "surface"
           }
          ],
          "table": [
           {
            "cells": {
             "fill": {
              "color": "#EBF0F8"
             },
             "line": {
              "color": "white"
             }
            },
            "header": {
             "fill": {
              "color": "#C8D4E3"
             },
             "line": {
              "color": "white"
             }
            },
            "type": "table"
           }
          ]
         },
         "layout": {
          "annotationdefaults": {
           "arrowcolor": "#2a3f5f",
           "arrowhead": 0,
           "arrowwidth": 1
          },
          "autotypenumbers": "strict",
          "coloraxis": {
           "colorbar": {
            "outlinewidth": 0,
            "ticks": ""
           }
          },
          "colorscale": {
           "diverging": [
            [
             0,
             "#8e0152"
            ],
            [
             0.1,
             "#c51b7d"
            ],
            [
             0.2,
             "#de77ae"
            ],
            [
             0.3,
             "#f1b6da"
            ],
            [
             0.4,
             "#fde0ef"
            ],
            [
             0.5,
             "#f7f7f7"
            ],
            [
             0.6,
             "#e6f5d0"
            ],
            [
             0.7,
             "#b8e186"
            ],
            [
             0.8,
             "#7fbc41"
            ],
            [
             0.9,
             "#4d9221"
            ],
            [
             1,
             "#276419"
            ]
           ],
           "sequential": [
            [
             0,
             "#0d0887"
            ],
            [
             0.1111111111111111,
             "#46039f"
            ],
            [
             0.2222222222222222,
             "#7201a8"
            ],
            [
             0.3333333333333333,
             "#9c179e"
            ],
            [
             0.4444444444444444,
             "#bd3786"
            ],
            [
             0.5555555555555556,
             "#d8576b"
            ],
            [
             0.6666666666666666,
             "#ed7953"
            ],
            [
             0.7777777777777778,
             "#fb9f3a"
            ],
            [
             0.8888888888888888,
             "#fdca26"
            ],
            [
             1,
             "#f0f921"
            ]
           ],
           "sequentialminus": [
            [
             0,
             "#0d0887"
            ],
            [
             0.1111111111111111,
             "#46039f"
            ],
            [
             0.2222222222222222,
             "#7201a8"
            ],
            [
             0.3333333333333333,
             "#9c179e"
            ],
            [
             0.4444444444444444,
             "#bd3786"
            ],
            [
             0.5555555555555556,
             "#d8576b"
            ],
            [
             0.6666666666666666,
             "#ed7953"
            ],
            [
             0.7777777777777778,
             "#fb9f3a"
            ],
            [
             0.8888888888888888,
             "#fdca26"
            ],
            [
             1,
             "#f0f921"
            ]
           ]
          },
          "colorway": [
           "#636efa",
           "#EF553B",
           "#00cc96",
           "#ab63fa",
           "#FFA15A",
           "#19d3f3",
           "#FF6692",
           "#B6E880",
           "#FF97FF",
           "#FECB52"
          ],
          "font": {
           "color": "#2a3f5f"
          },
          "geo": {
           "bgcolor": "white",
           "lakecolor": "white",
           "landcolor": "#E5ECF6",
           "showlakes": true,
           "showland": true,
           "subunitcolor": "white"
          },
          "hoverlabel": {
           "align": "left"
          },
          "hovermode": "closest",
          "mapbox": {
           "style": "light"
          },
          "paper_bgcolor": "white",
          "plot_bgcolor": "#E5ECF6",
          "polar": {
           "angularaxis": {
            "gridcolor": "white",
            "linecolor": "white",
            "ticks": ""
           },
           "bgcolor": "#E5ECF6",
           "radialaxis": {
            "gridcolor": "white",
            "linecolor": "white",
            "ticks": ""
           }
          },
          "scene": {
           "xaxis": {
            "backgroundcolor": "#E5ECF6",
            "gridcolor": "white",
            "gridwidth": 2,
            "linecolor": "white",
            "showbackground": true,
            "ticks": "",
            "zerolinecolor": "white"
           },
           "yaxis": {
            "backgroundcolor": "#E5ECF6",
            "gridcolor": "white",
            "gridwidth": 2,
            "linecolor": "white",
            "showbackground": true,
            "ticks": "",
            "zerolinecolor": "white"
           },
           "zaxis": {
            "backgroundcolor": "#E5ECF6",
            "gridcolor": "white",
            "gridwidth": 2,
            "linecolor": "white",
            "showbackground": true,
            "ticks": "",
            "zerolinecolor": "white"
           }
          },
          "shapedefaults": {
           "line": {
            "color": "#2a3f5f"
           }
          },
          "ternary": {
           "aaxis": {
            "gridcolor": "white",
            "linecolor": "white",
            "ticks": ""
           },
           "baxis": {
            "gridcolor": "white",
            "linecolor": "white",
            "ticks": ""
           },
           "bgcolor": "#E5ECF6",
           "caxis": {
            "gridcolor": "white",
            "linecolor": "white",
            "ticks": ""
           }
          },
          "title": {
           "x": 0.05
          },
          "xaxis": {
           "automargin": true,
           "gridcolor": "white",
           "linecolor": "white",
           "ticks": "",
           "title": {
            "standoff": 15
           },
           "zerolinecolor": "white",
           "zerolinewidth": 2
          },
          "yaxis": {
           "automargin": true,
           "gridcolor": "white",
           "linecolor": "white",
           "ticks": "",
           "title": {
            "standoff": 15
           },
           "zerolinecolor": "white",
           "zerolinewidth": 2
          }
         }
        }
       }
      },
      "text/html": [
       "<div>                            <div id=\"6f25d499-3ace-4334-82bc-8ca271149840\" class=\"plotly-graph-div\" style=\"height:525px; width:100%;\"></div>            <script type=\"text/javascript\">                require([\"plotly\"], function(Plotly) {                    window.PLOTLYENV=window.PLOTLYENV || {};                                    if (document.getElementById(\"6f25d499-3ace-4334-82bc-8ca271149840\")) {                    Plotly.newPlot(                        \"6f25d499-3ace-4334-82bc-8ca271149840\",                        [{\"name\": \"bound_1\", \"type\": \"scatter\", \"x\": [\"2022-05-07T00:00:00\", \"2022-05-07T01:00:00\", \"2022-05-07T02:00:00\", \"2022-05-07T03:00:00\", \"2022-05-07T04:00:00\", \"2022-05-07T05:00:00\", \"2022-05-07T06:00:00\", \"2022-05-07T07:00:00\", \"2022-05-07T08:00:00\", \"2022-05-07T09:00:00\", \"2022-05-07T10:00:00\", \"2022-05-07T11:00:00\", \"2022-05-07T12:00:00\", \"2022-05-07T13:00:00\", \"2022-05-07T14:00:00\", \"2022-05-07T15:00:00\", \"2022-05-07T16:00:00\", \"2022-05-07T17:00:00\", \"2022-05-07T18:00:00\", \"2022-05-07T19:00:00\", \"2022-05-07T20:00:00\", \"2022-05-07T21:00:00\", \"2022-05-07T22:00:00\", \"2022-05-07T23:00:00\", \"2022-05-08T00:00:00\", \"2022-05-08T01:00:00\", \"2022-05-08T02:00:00\", \"2022-05-08T03:00:00\", \"2022-05-08T04:00:00\", \"2022-05-08T05:00:00\", \"2022-05-08T06:00:00\", \"2022-05-08T07:00:00\", \"2022-05-08T08:00:00\", \"2022-05-08T09:00:00\", \"2022-05-08T10:00:00\", \"2022-05-08T11:00:00\", \"2022-05-08T12:00:00\", \"2022-05-08T13:00:00\", \"2022-05-08T14:00:00\", \"2022-05-08T15:00:00\", \"2022-05-08T16:00:00\", \"2022-05-08T17:00:00\", \"2022-05-08T18:00:00\", \"2022-05-08T19:00:00\", \"2022-05-08T20:00:00\", \"2022-05-08T21:00:00\", \"2022-05-08T22:00:00\", \"2022-05-08T23:00:00\", \"2022-05-09T00:00:00\", \"2022-05-09T01:00:00\", \"2022-05-09T02:00:00\", \"2022-05-09T03:00:00\", \"2022-05-09T04:00:00\", \"2022-05-09T05:00:00\", \"2022-05-09T06:00:00\", \"2022-05-09T07:00:00\", \"2022-05-09T08:00:00\", \"2022-05-09T09:00:00\", \"2022-05-09T10:00:00\", \"2022-05-09T11:00:00\", \"2022-05-09T12:00:00\", \"2022-05-09T13:00:00\", \"2022-05-09T14:00:00\", \"2022-05-09T15:00:00\", \"2022-05-09T16:00:00\", \"2022-05-09T17:00:00\", \"2022-05-09T18:00:00\", \"2022-05-09T19:00:00\", \"2022-05-09T20:00:00\", \"2022-05-09T21:00:00\", \"2022-05-09T22:00:00\", \"2022-05-09T23:00:00\", \"2022-05-10T00:00:00\", \"2022-05-10T01:00:00\", \"2022-05-10T02:00:00\", \"2022-05-10T03:00:00\", \"2022-05-10T04:00:00\", \"2022-05-10T05:00:00\", \"2022-05-10T06:00:00\", \"2022-05-10T07:00:00\", \"2022-05-10T08:00:00\", \"2022-05-10T09:00:00\", \"2022-05-10T10:00:00\", \"2022-05-10T11:00:00\", \"2022-05-10T12:00:00\", \"2022-05-10T13:00:00\", \"2022-05-10T14:00:00\", \"2022-05-10T15:00:00\", \"2022-05-10T16:00:00\", \"2022-05-10T17:00:00\", \"2022-05-10T18:00:00\", \"2022-05-10T19:00:00\", \"2022-05-10T20:00:00\", \"2022-05-10T21:00:00\", \"2022-05-10T22:00:00\", \"2022-05-10T23:00:00\", \"2022-05-11T00:00:00\", \"2022-05-11T01:00:00\", \"2022-05-11T02:00:00\", \"2022-05-11T03:00:00\", \"2022-05-11T04:00:00\", \"2022-05-11T05:00:00\", \"2022-05-11T06:00:00\", \"2022-05-11T07:00:00\", \"2022-05-11T08:00:00\", \"2022-05-11T09:00:00\", \"2022-05-11T10:00:00\", \"2022-05-11T11:00:00\", \"2022-05-11T12:00:00\", \"2022-05-11T13:00:00\", \"2022-05-11T14:00:00\", \"2022-05-11T15:00:00\", \"2022-05-11T16:00:00\", \"2022-05-11T17:00:00\", \"2022-05-11T18:00:00\", \"2022-05-11T19:00:00\", \"2022-05-11T20:00:00\", \"2022-05-11T21:00:00\", \"2022-05-11T22:00:00\", \"2022-05-11T23:00:00\", \"2022-05-12T00:00:00\", \"2022-05-12T01:00:00\", \"2022-05-12T02:00:00\", \"2022-05-12T03:00:00\", \"2022-05-12T04:00:00\", \"2022-05-12T05:00:00\", \"2022-05-12T06:00:00\", \"2022-05-12T07:00:00\", \"2022-05-12T08:00:00\", \"2022-05-12T09:00:00\", \"2022-05-12T10:00:00\", \"2022-05-12T11:00:00\", \"2022-05-12T12:00:00\", \"2022-05-12T13:00:00\", \"2022-05-12T14:00:00\", \"2022-05-12T15:00:00\", \"2022-05-12T16:00:00\", \"2022-05-12T17:00:00\", \"2022-05-12T18:00:00\", \"2022-05-12T19:00:00\", \"2022-05-12T20:00:00\", \"2022-05-12T21:00:00\", \"2022-05-12T22:00:00\", \"2022-05-12T23:00:00\", \"2022-05-13T00:00:00\", \"2022-05-13T01:00:00\", \"2022-05-13T02:00:00\", \"2022-05-13T03:00:00\", \"2022-05-13T04:00:00\", \"2022-05-13T05:00:00\", \"2022-05-13T06:00:00\", \"2022-05-13T07:00:00\", \"2022-05-13T08:00:00\", \"2022-05-13T09:00:00\", \"2022-05-13T10:00:00\", \"2022-05-13T11:00:00\", \"2022-05-13T12:00:00\", \"2022-05-13T13:00:00\", \"2022-05-13T14:00:00\", \"2022-05-13T15:00:00\", \"2022-05-13T16:00:00\", \"2022-05-13T17:00:00\", \"2022-05-13T18:00:00\", \"2022-05-13T19:00:00\", \"2022-05-13T20:00:00\", \"2022-05-13T21:00:00\", \"2022-05-13T22:00:00\", \"2022-05-13T23:00:00\", \"2022-05-14T00:00:00\", \"2022-05-14T01:00:00\", \"2022-05-14T02:00:00\", \"2022-05-14T03:00:00\", \"2022-05-14T04:00:00\", \"2022-05-14T05:00:00\", \"2022-05-14T06:00:00\", \"2022-05-14T07:00:00\", \"2022-05-14T08:00:00\", \"2022-05-14T09:00:00\", \"2022-05-14T10:00:00\", \"2022-05-14T11:00:00\", \"2022-05-14T12:00:00\", \"2022-05-14T13:00:00\", \"2022-05-14T14:00:00\", \"2022-05-14T15:00:00\", \"2022-05-14T16:00:00\", \"2022-05-14T17:00:00\", \"2022-05-14T18:00:00\", \"2022-05-14T19:00:00\", \"2022-05-14T20:00:00\", \"2022-05-14T21:00:00\", \"2022-05-14T22:00:00\", \"2022-05-14T23:00:00\"], \"y\": [422379.9833556845, 419456.65975021187, 415100.16603674344, 419435.8402829004, 430850.81949412683, 416640.7838900882, 393453.0806043985, 371358.0009808005, 359885.7052711163, 356621.6488116627, 358873.95267698466, 362739.4441159548, 366263.71956870204, 370593.7484392541, 410748.0296793664, 470419.4588837711, 466695.1015344575, 451868.0241998109, 440394.8668805425, 424401.41767628264, 454583.4222663484, 375121.37516242533, 391154.9648445997, 402465.5142840346, 386042.44221501274, 373188.4892851709, 347509.04617376195, 330369.8969163196, 351110.22233910323, 366957.32575315086, 381883.1938477823, 368162.665770888, 373393.40583957534, 373933.4224555417, 381911.15242965356, 394954.4753912599, 407342.56000999606, 439781.892039833, 495220.88080141146, 528316.1663788566, 566265.600852586, 615884.525894328, 636275.2592832057, 646302.4997096352, 630369.0484881045, 597711.5022007453, 570582.7237254758, 529242.0440107029, 500746.9693134391, 476323.30189527676, 439488.24288656993, 406210.5622691072, 402891.28795078764, 403419.90646235563, 397968.7598535378, 388056.6932322319, 377597.38904672454, 368575.8819733275, 368299.5658264146, 361616.8337120742, 364492.6347108426, 376441.72652085265, 395622.6257161842, 419638.70628044015, 473809.6155910919, 477405.13119586546, 474056.62629116967, 470649.2073594006, 456640.5716218485, 439701.8336667073, 421390.9903359521, 393876.18823453854, 390426.3657602883, 377976.21473496, 375052.8911294873, 370696.39741601894, 375032.0716621758, 386447.0508734023, 372237.01526936376, 349049.311983674, 326954.2323600759, 315481.9366503918, 312217.8801909381, 314470.18405626016, 318335.67549523024, 321859.95094797754, 326189.97981852957, 366344.26105864183, 426015.69026304653, 422291.332913733, 407464.25557908637, 395991.0982598179, 379997.6490555581, 410179.6536456238, 330717.60654170084, 346751.19622387516, 358061.74566331005, 341638.6735942882, 328784.72066444636, 303105.2775530374, 285966.12829559506, 306706.45371837873, 322553.5571324263, 337479.42522705777, 323758.8971501634, 328989.6372188508, 329529.6538348171, 337507.38380892907, 350550.7067705353, 362938.7913892715, 395378.12341910845, 450817.11218068696, 483912.3977581321, 521861.8322318614, 571480.7572736035, 591871.4906624812, 601898.7310889106, 585965.2798673799, 553307.7335800208, 526178.9551047513, 484838.2753899783, 456343.2006927146, 431919.5332745522, 395084.47426584543, 361806.79364838265, 358487.51933006314, 359016.13784163113, 353564.9912328132, 343652.9246115074, 333193.620426, 324172.11335260293, 323895.79720569006, 317213.06509134965, 320088.8660901181, 332037.9579001281, 351218.85709545965, 375234.93765971565, 429405.84697036736, 433001.3625751409, 429652.8576704451, 426245.43873867614, 412236.80300112395, 395298.0650459828, 376987.2217152275, 349472.419613814, 346022.59713956376, 333572.44611423544, 330649.12250876275, 326292.62879529444, 330628.30304145126, 342043.2822526777, 327833.24664863915, 304645.5433629495, 282550.46373935137, 271078.1680296672, 267814.1115702136, 270066.4154355356, 273931.9068745057, 277456.18232725305, 281786.21119780507, 321940.4924379173, 381611.92164232204, 377887.5642930084, 363060.4869583619, 351587.3296390934, 335593.8804348336, 365775.88502489927, 286313.8379209763, 302347.4276031506, 313657.9770425855, 297234.9049735636, 284380.95204372186, 258701.5089323129, 241562.3596748705, 262302.6850976542, 278149.7885117018, 293075.6566063332, 279355.12852943887, 284585.8685981262, 285125.88521409256, 293103.6151882045, 306146.9381498108, 318535.02276854694, 350974.354798384, 406413.3435599624, 439508.6291374075, 477458.06361113687, 527076.9886528789, 547467.7220417566, 557494.962468186, 541561.5112466554, 508903.9649592963]}, {\"fill\": \"tonexty\", \"fillcolor\": \"grey\", \"mode\": \"none\", \"name\": \"bound_2\", \"type\": \"scatter\", \"x\": [\"2022-05-07T00:00:00\", \"2022-05-07T01:00:00\", \"2022-05-07T02:00:00\", \"2022-05-07T03:00:00\", \"2022-05-07T04:00:00\", \"2022-05-07T05:00:00\", \"2022-05-07T06:00:00\", \"2022-05-07T07:00:00\", \"2022-05-07T08:00:00\", \"2022-05-07T09:00:00\", \"2022-05-07T10:00:00\", \"2022-05-07T11:00:00\", \"2022-05-07T12:00:00\", \"2022-05-07T13:00:00\", \"2022-05-07T14:00:00\", \"2022-05-07T15:00:00\", \"2022-05-07T16:00:00\", \"2022-05-07T17:00:00\", \"2022-05-07T18:00:00\", \"2022-05-07T19:00:00\", \"2022-05-07T20:00:00\", \"2022-05-07T21:00:00\", \"2022-05-07T22:00:00\", \"2022-05-07T23:00:00\", \"2022-05-08T00:00:00\", \"2022-05-08T01:00:00\", \"2022-05-08T02:00:00\", \"2022-05-08T03:00:00\", \"2022-05-08T04:00:00\", \"2022-05-08T05:00:00\", \"2022-05-08T06:00:00\", \"2022-05-08T07:00:00\", \"2022-05-08T08:00:00\", \"2022-05-08T09:00:00\", \"2022-05-08T10:00:00\", \"2022-05-08T11:00:00\", \"2022-05-08T12:00:00\", \"2022-05-08T13:00:00\", \"2022-05-08T14:00:00\", \"2022-05-08T15:00:00\", \"2022-05-08T16:00:00\", \"2022-05-08T17:00:00\", \"2022-05-08T18:00:00\", \"2022-05-08T19:00:00\", \"2022-05-08T20:00:00\", \"2022-05-08T21:00:00\", \"2022-05-08T22:00:00\", \"2022-05-08T23:00:00\", \"2022-05-09T00:00:00\", \"2022-05-09T01:00:00\", \"2022-05-09T02:00:00\", \"2022-05-09T03:00:00\", \"2022-05-09T04:00:00\", \"2022-05-09T05:00:00\", \"2022-05-09T06:00:00\", \"2022-05-09T07:00:00\", \"2022-05-09T08:00:00\", \"2022-05-09T09:00:00\", \"2022-05-09T10:00:00\", \"2022-05-09T11:00:00\", \"2022-05-09T12:00:00\", \"2022-05-09T13:00:00\", \"2022-05-09T14:00:00\", \"2022-05-09T15:00:00\", \"2022-05-09T16:00:00\", \"2022-05-09T17:00:00\", \"2022-05-09T18:00:00\", \"2022-05-09T19:00:00\", \"2022-05-09T20:00:00\", \"2022-05-09T21:00:00\", \"2022-05-09T22:00:00\", \"2022-05-09T23:00:00\", \"2022-05-10T00:00:00\", \"2022-05-10T01:00:00\", \"2022-05-10T02:00:00\", \"2022-05-10T03:00:00\", \"2022-05-10T04:00:00\", \"2022-05-10T05:00:00\", \"2022-05-10T06:00:00\", \"2022-05-10T07:00:00\", \"2022-05-10T08:00:00\", \"2022-05-10T09:00:00\", \"2022-05-10T10:00:00\", \"2022-05-10T11:00:00\", \"2022-05-10T12:00:00\", \"2022-05-10T13:00:00\", \"2022-05-10T14:00:00\", \"2022-05-10T15:00:00\", \"2022-05-10T16:00:00\", \"2022-05-10T17:00:00\", \"2022-05-10T18:00:00\", \"2022-05-10T19:00:00\", \"2022-05-10T20:00:00\", \"2022-05-10T21:00:00\", \"2022-05-10T22:00:00\", \"2022-05-10T23:00:00\", \"2022-05-11T00:00:00\", \"2022-05-11T01:00:00\", \"2022-05-11T02:00:00\", \"2022-05-11T03:00:00\", \"2022-05-11T04:00:00\", \"2022-05-11T05:00:00\", \"2022-05-11T06:00:00\", \"2022-05-11T07:00:00\", \"2022-05-11T08:00:00\", \"2022-05-11T09:00:00\", \"2022-05-11T10:00:00\", \"2022-05-11T11:00:00\", \"2022-05-11T12:00:00\", \"2022-05-11T13:00:00\", \"2022-05-11T14:00:00\", \"2022-05-11T15:00:00\", \"2022-05-11T16:00:00\", \"2022-05-11T17:00:00\", \"2022-05-11T18:00:00\", \"2022-05-11T19:00:00\", \"2022-05-11T20:00:00\", \"2022-05-11T21:00:00\", \"2022-05-11T22:00:00\", \"2022-05-11T23:00:00\", \"2022-05-12T00:00:00\", \"2022-05-12T01:00:00\", \"2022-05-12T02:00:00\", \"2022-05-12T03:00:00\", \"2022-05-12T04:00:00\", \"2022-05-12T05:00:00\", \"2022-05-12T06:00:00\", \"2022-05-12T07:00:00\", \"2022-05-12T08:00:00\", \"2022-05-12T09:00:00\", \"2022-05-12T10:00:00\", \"2022-05-12T11:00:00\", \"2022-05-12T12:00:00\", \"2022-05-12T13:00:00\", \"2022-05-12T14:00:00\", \"2022-05-12T15:00:00\", \"2022-05-12T16:00:00\", \"2022-05-12T17:00:00\", \"2022-05-12T18:00:00\", \"2022-05-12T19:00:00\", \"2022-05-12T20:00:00\", \"2022-05-12T21:00:00\", \"2022-05-12T22:00:00\", \"2022-05-12T23:00:00\", \"2022-05-13T00:00:00\", \"2022-05-13T01:00:00\", \"2022-05-13T02:00:00\", \"2022-05-13T03:00:00\", \"2022-05-13T04:00:00\", \"2022-05-13T05:00:00\", \"2022-05-13T06:00:00\", \"2022-05-13T07:00:00\", \"2022-05-13T08:00:00\", \"2022-05-13T09:00:00\", \"2022-05-13T10:00:00\", \"2022-05-13T11:00:00\", \"2022-05-13T12:00:00\", \"2022-05-13T13:00:00\", \"2022-05-13T14:00:00\", \"2022-05-13T15:00:00\", \"2022-05-13T16:00:00\", \"2022-05-13T17:00:00\", \"2022-05-13T18:00:00\", \"2022-05-13T19:00:00\", \"2022-05-13T20:00:00\", \"2022-05-13T21:00:00\", \"2022-05-13T22:00:00\", \"2022-05-13T23:00:00\", \"2022-05-14T00:00:00\", \"2022-05-14T01:00:00\", \"2022-05-14T02:00:00\", \"2022-05-14T03:00:00\", \"2022-05-14T04:00:00\", \"2022-05-14T05:00:00\", \"2022-05-14T06:00:00\", \"2022-05-14T07:00:00\", \"2022-05-14T08:00:00\", \"2022-05-14T09:00:00\", \"2022-05-14T10:00:00\", \"2022-05-14T11:00:00\", \"2022-05-14T12:00:00\", \"2022-05-14T13:00:00\", \"2022-05-14T14:00:00\", \"2022-05-14T15:00:00\", \"2022-05-14T16:00:00\", \"2022-05-14T17:00:00\", \"2022-05-14T18:00:00\", \"2022-05-14T19:00:00\", \"2022-05-14T20:00:00\", \"2022-05-14T21:00:00\", \"2022-05-14T22:00:00\", \"2022-05-14T23:00:00\"], \"y\": [20846.284453412867, 17922.96084794021, 13566.467134471837, 17902.141380628716, 29317.12059185517, 15107.084987816605, -8080.618297873094, -30175.697921471146, -41647.99363115535, -44912.050090608944, -42659.746225286974, -38794.25478631686, -35269.97933356956, -30939.950463017507, 9214.330777094729, 68885.75998149943, 65161.40263218587, 50334.3252975393, 38861.16797827085, 22867.71877401101, 53049.72336407672, -26412.323739846266, -10378.734057671943, 931.81538176295, -15491.256687258923, -28345.209617100685, -54024.65272850965, -71163.80198595203, -50423.47656316837, -34576.37314912074, -19650.50505448933, -33371.03313138365, -28140.29306269629, -27600.276446729986, -19622.546472618036, -6579.223511011747, 5808.861107724399, 38248.19313756141, 93687.18189913986, 126782.46747658498, 164731.90195031432, 214350.82699205636, 234741.56038093407, 244768.8008073635, 228835.34958583282, 196177.80329847368, 169049.02482320418, 127708.34510843121, 99213.2704111675, 74789.6029930051, 37954.54398429833, 4676.863366835576, 1357.5890485160053, 1886.2075600840326, -3564.9390487338824, -13477.00567003971, -23936.309855547122, -32957.81692894414, -33234.13307585704, -39916.86519019745, -37041.06419142897, -25091.97238141895, -5911.073186087422, 18105.00737816852, 72275.91668882032, 75871.4322935938, 72522.92738889807, 69115.50845712898, 55106.87271957687, 38168.13476443567, 19857.291433680453, -7657.5106677331205, -11107.333141983341, -23557.48416731166, -26480.80777278429, -30837.30148625269, -26501.62724009581, -15086.648028869356, -29296.683632907894, -52484.38691859762, -74579.46654219567, -86051.76225187987, -89315.81871133347, -87063.5148460115, -83198.02340704139, -79673.74795429409, -75343.71908374203, -35189.43784362983, 24481.991360774933, 20757.63401146134, 5930.556676814769, -5542.600642453675, -21536.049846713548, 8645.954743352224, -70816.09236057081, -54782.5026783965, -43471.95323896161, -59895.02530798348, -72748.97823782524, -98428.42134923422, -115567.57060667659, -94827.2451838929, -78980.14176984532, -64054.27367521389, -77774.80175210821, -72544.06168342082, -72004.04506745454, -64026.315093342564, -50982.992131736304, -38594.90751300013, -6155.575483163149, 49283.41327841533, 82378.69885586042, 120328.13332958976, 169947.0583713318, 190337.79176020957, 200365.03218663894, 184431.58096510827, 151774.03467774918, 124645.25620247962, 83304.57648770671, 54809.50179044297, 30385.834372280544, -6449.2246364261955, -39726.90525388895, -43046.17957220852, -42517.561060640495, -47968.70766945841, -57880.77429076424, -68340.07847627165, -77361.58554966867, -77637.90169658158, -84320.633810922, -81444.83281215352, -69495.7410021435, -50314.84180681198, -26298.761242556007, 27872.14806809576, 31467.663672869297, 28119.15876817351, 24711.73983640448, 10703.104098852316, -6235.633856288856, -24546.477187044104, -52061.27928845765, -55511.1017627079, -67961.25278803619, -70884.57639350886, -75241.07010697722, -70905.39586082035, -59490.416649593884, -73700.45225363247, -96888.15553932215, -118983.23516292023, -130455.5308726044, -133719.58733205803, -131467.28346673603, -127601.79202776594, -124077.51657501861, -119747.48770446656, -79593.20646435434, -19921.777259949595, -23646.134609263187, -38473.21194390976, -49946.3692631782, -65939.81846743808, -35757.81387737233, -115219.86098129534, -99186.27129912103, -87875.72185968615, -104298.793928708, -117152.74685854977, -142832.18996995874, -159971.33922740113, -139231.01380461745, -123383.91039056984, -108458.04229593843, -122178.57037283274, -116947.83030414538, -116407.81368817907, -108430.08371406712, -95386.7607524608, -82998.67613372467, -50559.34410388765, 4879.6446576907765, 37974.93023513592, 75924.3647088652, 125543.28975060725, 145934.023139485, 155961.26356591444, 140027.8123443837, 107370.26605702462]}, {\"line\": {\"color\": \"red\"}, \"name\": \"actual\", \"type\": \"scatter\", \"x\": [\"2022-05-07T00:00:00\", \"2022-05-07T01:00:00\", \"2022-05-07T02:00:00\", \"2022-05-07T03:00:00\", \"2022-05-07T04:00:00\", \"2022-05-07T05:00:00\", \"2022-05-07T06:00:00\", \"2022-05-07T07:00:00\", \"2022-05-07T08:00:00\", \"2022-05-07T09:00:00\", \"2022-05-07T10:00:00\", \"2022-05-07T11:00:00\", \"2022-05-07T12:00:00\", \"2022-05-07T13:00:00\", \"2022-05-07T14:00:00\", \"2022-05-07T15:00:00\", \"2022-05-07T16:00:00\", \"2022-05-07T17:00:00\", \"2022-05-07T18:00:00\", \"2022-05-07T19:00:00\", \"2022-05-07T20:00:00\", \"2022-05-07T21:00:00\", \"2022-05-07T22:00:00\", \"2022-05-07T23:00:00\", \"2022-05-08T00:00:00\", \"2022-05-08T01:00:00\", \"2022-05-08T02:00:00\", \"2022-05-08T03:00:00\", \"2022-05-08T04:00:00\", \"2022-05-08T05:00:00\", \"2022-05-08T06:00:00\", \"2022-05-08T07:00:00\", \"2022-05-08T08:00:00\", \"2022-05-08T09:00:00\", \"2022-05-08T10:00:00\", \"2022-05-08T11:00:00\", \"2022-05-08T12:00:00\", \"2022-05-08T13:00:00\", \"2022-05-08T14:00:00\", \"2022-05-08T15:00:00\", \"2022-05-08T16:00:00\", \"2022-05-08T17:00:00\", \"2022-05-08T18:00:00\", \"2022-05-08T19:00:00\", \"2022-05-08T20:00:00\", \"2022-05-08T21:00:00\", \"2022-05-08T22:00:00\", \"2022-05-08T23:00:00\", \"2022-05-09T00:00:00\", \"2022-05-09T01:00:00\", \"2022-05-09T02:00:00\", \"2022-05-09T03:00:00\", \"2022-05-09T04:00:00\", \"2022-05-09T05:00:00\", \"2022-05-09T06:00:00\", \"2022-05-09T07:00:00\", \"2022-05-09T08:00:00\", \"2022-05-09T09:00:00\", \"2022-05-09T10:00:00\", \"2022-05-09T11:00:00\", \"2022-05-09T12:00:00\", \"2022-05-09T13:00:00\", \"2022-05-09T14:00:00\", \"2022-05-09T15:00:00\", \"2022-05-09T16:00:00\", \"2022-05-09T17:00:00\", \"2022-05-09T18:00:00\", \"2022-05-09T19:00:00\", \"2022-05-09T20:00:00\", \"2022-05-09T21:00:00\", \"2022-05-09T22:00:00\", \"2022-05-09T23:00:00\", \"2022-05-10T00:00:00\", \"2022-05-10T01:00:00\", \"2022-05-10T02:00:00\", \"2022-05-10T03:00:00\", \"2022-05-10T04:00:00\", \"2022-05-10T05:00:00\", \"2022-05-10T06:00:00\", \"2022-05-10T07:00:00\", \"2022-05-10T08:00:00\", \"2022-05-10T09:00:00\", \"2022-05-10T10:00:00\", \"2022-05-10T11:00:00\", \"2022-05-10T12:00:00\", \"2022-05-10T13:00:00\", \"2022-05-10T14:00:00\", \"2022-05-10T15:00:00\", \"2022-05-10T16:00:00\", \"2022-05-10T17:00:00\", \"2022-05-10T18:00:00\", \"2022-05-10T19:00:00\", \"2022-05-10T20:00:00\", \"2022-05-10T21:00:00\", \"2022-05-10T22:00:00\", \"2022-05-10T23:00:00\", \"2022-05-11T00:00:00\", \"2022-05-11T01:00:00\", \"2022-05-11T02:00:00\", \"2022-05-11T03:00:00\", \"2022-05-11T04:00:00\", \"2022-05-11T05:00:00\", \"2022-05-11T06:00:00\", \"2022-05-11T07:00:00\", \"2022-05-11T08:00:00\", \"2022-05-11T09:00:00\", \"2022-05-11T10:00:00\", \"2022-05-11T11:00:00\", \"2022-05-11T12:00:00\", \"2022-05-11T13:00:00\", \"2022-05-11T14:00:00\", \"2022-05-11T15:00:00\", \"2022-05-11T16:00:00\", \"2022-05-11T17:00:00\", \"2022-05-11T18:00:00\", \"2022-05-11T19:00:00\", \"2022-05-11T20:00:00\", \"2022-05-11T21:00:00\", \"2022-05-11T22:00:00\", \"2022-05-11T23:00:00\"], \"y\": [203290, 201666, 243641, 271605, 276639, 281781, 401194, 523784, 614344, 784469, 873496, 1057520, 1327834, 1794098, 2088191, 2246512, 2440796, 2529105, 2568472, 2704518, 2624128, 2641280, 2557751, 2552923, 2507903, 2443768, 2459083, 2473973, 2507584, 2570062, 2816961, 2975294, 3282495, 3529780, 3908378, 4264616, 4669552, 5466396, 5848237, 5852361, 5983584, 5828260, 5678846, 5525741, 5433127, 5387970, 5372698, 5332265, 5177023, 5463630, 5495802, 5903417, 6211361, 6679268, 7323762, 7900924, 8397227, 8667465, 8945859, 9346881, 10428850, 11885067, 12485398, 12041112, 10425220, 9186851, 8458588, 7956468, 7643133, 7340228, 7046706, 6685451, 6519550, 6310026, 6509654, 6504343, 6483951, 6372713, 6135400, 5585741, 4948830, 4331981, 3866837, 3408347, 2918923, 2026982, 1289272, 736528, 465675, 428917, 408240, 370994, 341746, 342491, 303183, 230901, 207620, 184169, 198858, 202829, 186169, 176336, 168198, 177352, 205528, 184978, 194643, 213200, 301416, 395134, 391225, 432931, 482613, 419556, 402907, 377694, 342604, 318610, 270738, 227139]}],                        {\"template\": {\"data\": {\"bar\": [{\"error_x\": {\"color\": \"#2a3f5f\"}, \"error_y\": {\"color\": \"#2a3f5f\"}, \"marker\": {\"line\": {\"color\": \"#E5ECF6\", \"width\": 0.5}}, \"type\": \"bar\"}], \"barpolar\": [{\"marker\": {\"line\": {\"color\": \"#E5ECF6\", \"width\": 0.5}}, \"type\": \"barpolar\"}], \"carpet\": [{\"aaxis\": {\"endlinecolor\": \"#2a3f5f\", \"gridcolor\": \"white\", \"linecolor\": \"white\", \"minorgridcolor\": \"white\", \"startlinecolor\": \"#2a3f5f\"}, \"baxis\": {\"endlinecolor\": \"#2a3f5f\", \"gridcolor\": \"white\", \"linecolor\": \"white\", \"minorgridcolor\": \"white\", \"startlinecolor\": \"#2a3f5f\"}, \"type\": \"carpet\"}], \"choropleth\": [{\"colorbar\": {\"outlinewidth\": 0, \"ticks\": \"\"}, \"type\": \"choropleth\"}], \"contour\": [{\"colorbar\": {\"outlinewidth\": 0, \"ticks\": \"\"}, \"colorscale\": [[0.0, \"#0d0887\"], [0.1111111111111111, \"#46039f\"], [0.2222222222222222, \"#7201a8\"], [0.3333333333333333, \"#9c179e\"], [0.4444444444444444, \"#bd3786\"], [0.5555555555555556, \"#d8576b\"], [0.6666666666666666, \"#ed7953\"], [0.7777777777777778, \"#fb9f3a\"], [0.8888888888888888, \"#fdca26\"], [1.0, \"#f0f921\"]], \"type\": \"contour\"}], \"contourcarpet\": [{\"colorbar\": {\"outlinewidth\": 0, \"ticks\": \"\"}, \"type\": \"contourcarpet\"}], \"heatmap\": [{\"colorbar\": {\"outlinewidth\": 0, \"ticks\": \"\"}, \"colorscale\": [[0.0, \"#0d0887\"], [0.1111111111111111, \"#46039f\"], [0.2222222222222222, \"#7201a8\"], [0.3333333333333333, \"#9c179e\"], [0.4444444444444444, \"#bd3786\"], [0.5555555555555556, \"#d8576b\"], [0.6666666666666666, \"#ed7953\"], [0.7777777777777778, \"#fb9f3a\"], [0.8888888888888888, \"#fdca26\"], [1.0, \"#f0f921\"]], \"type\": \"heatmap\"}], \"heatmapgl\": [{\"colorbar\": {\"outlinewidth\": 0, \"ticks\": \"\"}, \"colorscale\": [[0.0, \"#0d0887\"], [0.1111111111111111, \"#46039f\"], [0.2222222222222222, \"#7201a8\"], [0.3333333333333333, \"#9c179e\"], [0.4444444444444444, \"#bd3786\"], [0.5555555555555556, \"#d8576b\"], [0.6666666666666666, \"#ed7953\"], [0.7777777777777778, \"#fb9f3a\"], [0.8888888888888888, \"#fdca26\"], [1.0, \"#f0f921\"]], \"type\": \"heatmapgl\"}], \"histogram\": [{\"marker\": {\"colorbar\": {\"outlinewidth\": 0, \"ticks\": \"\"}}, \"type\": \"histogram\"}], \"histogram2d\": [{\"colorbar\": {\"outlinewidth\": 0, \"ticks\": \"\"}, \"colorscale\": [[0.0, \"#0d0887\"], [0.1111111111111111, \"#46039f\"], [0.2222222222222222, \"#7201a8\"], [0.3333333333333333, \"#9c179e\"], [0.4444444444444444, \"#bd3786\"], [0.5555555555555556, \"#d8576b\"], [0.6666666666666666, \"#ed7953\"], [0.7777777777777778, \"#fb9f3a\"], [0.8888888888888888, \"#fdca26\"], [1.0, \"#f0f921\"]], \"type\": \"histogram2d\"}], \"histogram2dcontour\": [{\"colorbar\": {\"outlinewidth\": 0, \"ticks\": \"\"}, \"colorscale\": [[0.0, \"#0d0887\"], [0.1111111111111111, \"#46039f\"], [0.2222222222222222, \"#7201a8\"], [0.3333333333333333, \"#9c179e\"], [0.4444444444444444, \"#bd3786\"], [0.5555555555555556, \"#d8576b\"], [0.6666666666666666, \"#ed7953\"], [0.7777777777777778, \"#fb9f3a\"], [0.8888888888888888, \"#fdca26\"], [1.0, \"#f0f921\"]], \"type\": \"histogram2dcontour\"}], \"mesh3d\": [{\"colorbar\": {\"outlinewidth\": 0, \"ticks\": \"\"}, \"type\": \"mesh3d\"}], \"parcoords\": [{\"line\": {\"colorbar\": {\"outlinewidth\": 0, \"ticks\": \"\"}}, \"type\": \"parcoords\"}], \"pie\": [{\"automargin\": true, \"type\": \"pie\"}], \"scatter\": [{\"marker\": {\"colorbar\": {\"outlinewidth\": 0, \"ticks\": \"\"}}, \"type\": \"scatter\"}], \"scatter3d\": [{\"line\": {\"colorbar\": {\"outlinewidth\": 0, \"ticks\": \"\"}}, \"marker\": {\"colorbar\": {\"outlinewidth\": 0, \"ticks\": \"\"}}, \"type\": \"scatter3d\"}], \"scattercarpet\": [{\"marker\": {\"colorbar\": {\"outlinewidth\": 0, \"ticks\": \"\"}}, \"type\": \"scattercarpet\"}], \"scattergeo\": [{\"marker\": {\"colorbar\": {\"outlinewidth\": 0, \"ticks\": \"\"}}, \"type\": \"scattergeo\"}], \"scattergl\": [{\"marker\": {\"colorbar\": {\"outlinewidth\": 0, \"ticks\": \"\"}}, \"type\": \"scattergl\"}], \"scattermapbox\": [{\"marker\": {\"colorbar\": {\"outlinewidth\": 0, \"ticks\": \"\"}}, \"type\": \"scattermapbox\"}], \"scatterpolar\": [{\"marker\": {\"colorbar\": {\"outlinewidth\": 0, \"ticks\": \"\"}}, \"type\": \"scatterpolar\"}], \"scatterpolargl\": [{\"marker\": {\"colorbar\": {\"outlinewidth\": 0, \"ticks\": \"\"}}, \"type\": \"scatterpolargl\"}], \"scatterternary\": [{\"marker\": {\"colorbar\": {\"outlinewidth\": 0, \"ticks\": \"\"}}, \"type\": \"scatterternary\"}], \"surface\": [{\"colorbar\": {\"outlinewidth\": 0, \"ticks\": \"\"}, \"colorscale\": [[0.0, \"#0d0887\"], [0.1111111111111111, \"#46039f\"], [0.2222222222222222, \"#7201a8\"], [0.3333333333333333, \"#9c179e\"], [0.4444444444444444, \"#bd3786\"], [0.5555555555555556, \"#d8576b\"], [0.6666666666666666, \"#ed7953\"], [0.7777777777777778, \"#fb9f3a\"], [0.8888888888888888, \"#fdca26\"], [1.0, \"#f0f921\"]], \"type\": \"surface\"}], \"table\": [{\"cells\": {\"fill\": {\"color\": \"#EBF0F8\"}, \"line\": {\"color\": \"white\"}}, \"header\": {\"fill\": {\"color\": \"#C8D4E3\"}, \"line\": {\"color\": \"white\"}}, \"type\": \"table\"}]}, \"layout\": {\"annotationdefaults\": {\"arrowcolor\": \"#2a3f5f\", \"arrowhead\": 0, \"arrowwidth\": 1}, \"autotypenumbers\": \"strict\", \"coloraxis\": {\"colorbar\": {\"outlinewidth\": 0, \"ticks\": \"\"}}, \"colorscale\": {\"diverging\": [[0, \"#8e0152\"], [0.1, \"#c51b7d\"], [0.2, \"#de77ae\"], [0.3, \"#f1b6da\"], [0.4, \"#fde0ef\"], [0.5, \"#f7f7f7\"], [0.6, \"#e6f5d0\"], [0.7, \"#b8e186\"], [0.8, \"#7fbc41\"], [0.9, \"#4d9221\"], [1, \"#276419\"]], \"sequential\": [[0.0, \"#0d0887\"], [0.1111111111111111, \"#46039f\"], [0.2222222222222222, \"#7201a8\"], [0.3333333333333333, \"#9c179e\"], [0.4444444444444444, \"#bd3786\"], [0.5555555555555556, \"#d8576b\"], [0.6666666666666666, \"#ed7953\"], [0.7777777777777778, \"#fb9f3a\"], [0.8888888888888888, \"#fdca26\"], [1.0, \"#f0f921\"]], \"sequentialminus\": [[0.0, \"#0d0887\"], [0.1111111111111111, \"#46039f\"], [0.2222222222222222, \"#7201a8\"], [0.3333333333333333, \"#9c179e\"], [0.4444444444444444, \"#bd3786\"], [0.5555555555555556, \"#d8576b\"], [0.6666666666666666, \"#ed7953\"], [0.7777777777777778, \"#fb9f3a\"], [0.8888888888888888, \"#fdca26\"], [1.0, \"#f0f921\"]]}, \"colorway\": [\"#636efa\", \"#EF553B\", \"#00cc96\", \"#ab63fa\", \"#FFA15A\", \"#19d3f3\", \"#FF6692\", \"#B6E880\", \"#FF97FF\", \"#FECB52\"], \"font\": {\"color\": \"#2a3f5f\"}, \"geo\": {\"bgcolor\": \"white\", \"lakecolor\": \"white\", \"landcolor\": \"#E5ECF6\", \"showlakes\": true, \"showland\": true, \"subunitcolor\": \"white\"}, \"hoverlabel\": {\"align\": \"left\"}, \"hovermode\": \"closest\", \"mapbox\": {\"style\": \"light\"}, \"paper_bgcolor\": \"white\", \"plot_bgcolor\": \"#E5ECF6\", \"polar\": {\"angularaxis\": {\"gridcolor\": \"white\", \"linecolor\": \"white\", \"ticks\": \"\"}, \"bgcolor\": \"#E5ECF6\", \"radialaxis\": {\"gridcolor\": \"white\", \"linecolor\": \"white\", \"ticks\": \"\"}}, \"scene\": {\"xaxis\": {\"backgroundcolor\": \"#E5ECF6\", \"gridcolor\": \"white\", \"gridwidth\": 2, \"linecolor\": \"white\", \"showbackground\": true, \"ticks\": \"\", \"zerolinecolor\": \"white\"}, \"yaxis\": {\"backgroundcolor\": \"#E5ECF6\", \"gridcolor\": \"white\", \"gridwidth\": 2, \"linecolor\": \"white\", \"showbackground\": true, \"ticks\": \"\", \"zerolinecolor\": \"white\"}, \"zaxis\": {\"backgroundcolor\": \"#E5ECF6\", \"gridcolor\": \"white\", \"gridwidth\": 2, \"linecolor\": \"white\", \"showbackground\": true, \"ticks\": \"\", \"zerolinecolor\": \"white\"}}, \"shapedefaults\": {\"line\": {\"color\": \"#2a3f5f\"}}, \"ternary\": {\"aaxis\": {\"gridcolor\": \"white\", \"linecolor\": \"white\", \"ticks\": \"\"}, \"baxis\": {\"gridcolor\": \"white\", \"linecolor\": \"white\", \"ticks\": \"\"}, \"bgcolor\": \"#E5ECF6\", \"caxis\": {\"gridcolor\": \"white\", \"linecolor\": \"white\", \"ticks\": \"\"}}, \"title\": {\"x\": 0.05}, \"xaxis\": {\"automargin\": true, \"gridcolor\": \"white\", \"linecolor\": \"white\", \"ticks\": \"\", \"title\": {\"standoff\": 15}, \"zerolinecolor\": \"white\", \"zerolinewidth\": 2}, \"yaxis\": {\"automargin\": true, \"gridcolor\": \"white\", \"linecolor\": \"white\", \"ticks\": \"\", \"title\": {\"standoff\": 15}, \"zerolinecolor\": \"white\", \"zerolinewidth\": 2}}}},                        {\"responsive\": true}                    ).then(function(){\n",
       "                            \n",
       "var gd = document.getElementById('6f25d499-3ace-4334-82bc-8ca271149840');\n",
       "var x = new MutationObserver(function (mutations, observer) {{\n",
       "        var display = window.getComputedStyle(gd).display;\n",
       "        if (!display || display === 'none') {{\n",
       "            console.log([gd, 'removed!']);\n",
       "            Plotly.purge(gd);\n",
       "            observer.disconnect();\n",
       "        }}\n",
       "}});\n",
       "\n",
       "// Listen for the removal of the full notebook cells\n",
       "var notebookContainer = gd.closest('#notebook-container');\n",
       "if (notebookContainer) {{\n",
       "    x.observe(notebookContainer, {childList: true});\n",
       "}}\n",
       "\n",
       "// Listen for the clearing of the current output cell\n",
       "var outputEl = gd.closest('.output');\n",
       "if (outputEl) {{\n",
       "    x.observe(outputEl, {childList: true});\n",
       "}}\n",
       "\n",
       "                        })                };                });            </script>        </div>"
      ]
     },
     "metadata": {},
     "output_type": "display_data"
    }
   ],
   "source": [
    "\n",
    "test_bouded_df = predict_df.copy()\n",
    "\n",
    "adjust = states['resid'].std()\n",
    "\n",
    "test_bouded_df['bound_1'] = test_bouded_df['y'].apply(lambda x: x + 5 * adjust)\n",
    "test_bouded_df['bound_2'] = test_bouded_df['y'].apply(lambda x: x - 5 * adjust)\n",
    "\n",
    "\n",
    "# prediction_fig = px.area(test_bouded_df, x=\"date\", y=\"y\", \n",
    "#                          title='prediction', \n",
    "#                          color='status', \n",
    "#                          color_discrete_map=color_discrete_map)\n",
    "\n",
    "fig = go.Figure()\n",
    "fig.add_trace(go.Scatter(x=test_bouded_df['date'], y=test_bouded_df['bound_1'], \n",
    "                         fill=None, name='bound_1')) # fill down to xaxis\n",
    "fig.add_trace(go.Scatter(x=test_bouded_df['date'], y=test_bouded_df['bound_2'], \n",
    "                         fill='tonexty', fillcolor='grey', mode='none', name='bound_2')) # fill to trace0 y\n",
    "fig.add_scatter(x=bb_df['date'], y=bb_df['y'], line_color='red', name='actual')\n",
    "fig.show()\n",
    "\n",
    "\n",
    "\n"
   ]
  }
 ],
 "metadata": {
  "kernelspec": {
   "display_name": "Python 3 (ipykernel)",
   "language": "python",
   "name": "python3"
  },
  "language_info": {
   "codemirror_mode": {
    "name": "ipython",
    "version": 3
   },
   "file_extension": ".py",
   "mimetype": "text/x-python",
   "name": "python",
   "nbconvert_exporter": "python",
   "pygments_lexer": "ipython3",
   "version": "3.8.11"
  }
 },
 "nbformat": 4,
 "nbformat_minor": 5
}
