{
 "cells": [
  {
   "cell_type": "code",
   "execution_count": null,
   "metadata": {},
   "outputs": [],
   "source": [
    "# calculate memory %\n",
    "memorypct = udf(lambda x: x[0]/x[1], FloatType())\n",
    "dfeng = dfeng.withColumn('memory_pct', memorypct(struct('memory_in_use_mb','memory_total_mb')))\n",
    "\n",
    "# filter delts=T\n",
    "dfeng = dfeng.filter(col('delta')==True)"
   ]
  },
  {
   "cell_type": "code",
   "execution_count": null,
   "metadata": {},
   "outputs": [],
   "source": [
    "# Get avg and std for temp and memory% per switch\n",
    "df0.groupby('mac','name','re_ix').agg(avg('temp_celsius').alias('avg_temp'), stddev('temp_celsius').alias('std_temp'), \\\n",
    "                                      avg('memory_pct').alias('avg_memory'), stddev('memory_pct').alias('std_memory'))\n",
    "\n",
    "# Get the upper limit for temp and memory% per switch, overseeding this limit will be AD (yellow alarm)\n",
    "upper = udf(lambda x: x[0]+3*x[1], FloatType())\n",
    "df0 = df0.withColumn('upper_temp', upper('avg_temp', 'std_temp')) \\\n",
    "            .withColumn('upper_memory', upper('avg_memory', 'std_memory'))\n"
   ]
  },
  {
   "cell_type": "code",
   "execution_count": 1,
   "metadata": {
    "collapsed": true
   },
   "outputs": [
    {
     "ename": "NameError",
     "evalue": "name 'df0' is not defined",
     "output_type": "error",
     "traceback": [
      "\u001b[0;31m---------------------------------------------------------------------------\u001b[0m",
      "\u001b[0;31mNameError\u001b[0m                                 Traceback (most recent call last)",
      "\u001b[0;32m<ipython-input-1-1d021408f2ec>\u001b[0m in \u001b[0;36m<module>\u001b[0;34m()\u001b[0m\n\u001b[1;32m      1\u001b[0m \u001b[0;31m#df0 = df0.select('mac','name','re_ix','temp_celsius','avg_temp','std_temp','memory_pct','avg_memory','std_memory','cpu_user','power_pct')\u001b[0m\u001b[0;34m\u001b[0m\u001b[0;34m\u001b[0m\u001b[0m\n\u001b[0;32m----> 2\u001b[0;31m \u001b[0mpdf\u001b[0m \u001b[0;34m=\u001b[0m \u001b[0mdf0\u001b[0m\u001b[0;34m.\u001b[0m\u001b[0mtoPandas\u001b[0m\u001b[0;34m(\u001b[0m\u001b[0;34m)\u001b[0m\u001b[0;34m\u001b[0m\u001b[0m\n\u001b[0m\u001b[1;32m      3\u001b[0m \u001b[0mtemp_l\u001b[0m \u001b[0;34m=\u001b[0m \u001b[0msmooth\u001b[0m\u001b[0;34m(\u001b[0m\u001b[0mpdf\u001b[0m\u001b[0;34m[\u001b[0m\u001b[0;34m'temp_celsius'\u001b[0m\u001b[0;34m]\u001b[0m\u001b[0;34m.\u001b[0m\u001b[0mtolist\u001b[0m\u001b[0;34m(\u001b[0m\u001b[0;34m)\u001b[0m\u001b[0;34m)\u001b[0m\u001b[0;34m\u001b[0m\u001b[0m\n\u001b[1;32m      4\u001b[0m \u001b[0mpdf\u001b[0m\u001b[0;34m[\u001b[0m\u001b[0;34m'temp_s'\u001b[0m\u001b[0;34m]\u001b[0m \u001b[0;34m=\u001b[0m \u001b[0mpd\u001b[0m\u001b[0;34m.\u001b[0m\u001b[0mDataFrame\u001b[0m\u001b[0;34m(\u001b[0m\u001b[0mtemp_l\u001b[0m\u001b[0;34m)\u001b[0m\u001b[0;34m\u001b[0m\u001b[0m\n\u001b[1;32m      5\u001b[0m \u001b[0mmemory_l\u001b[0m \u001b[0;34m=\u001b[0m \u001b[0msmooth\u001b[0m\u001b[0;34m(\u001b[0m\u001b[0mpdf\u001b[0m\u001b[0;34m[\u001b[0m\u001b[0;34m'memory_pct'\u001b[0m\u001b[0;34m]\u001b[0m\u001b[0;34m.\u001b[0m\u001b[0mtolist\u001b[0m\u001b[0;34m(\u001b[0m\u001b[0;34m)\u001b[0m\u001b[0;34m)\u001b[0m\u001b[0;34m\u001b[0m\u001b[0m\n",
      "\u001b[0;31mNameError\u001b[0m: name 'df0' is not defined"
     ]
    }
   ],
   "source": [
    "# smoothing data\n",
    "df0 = df0.select('mac','name','re_ix','temp_celsius','avg_temp','std_temp','memory_pct','avg_memory','std_memory','cpu_user','power_pct')\n",
    "pdf = df0.toPandas()\n",
    "temp_l = smooth(pdf['temp_celsius'].tolist())\n",
    "pdf['temp_s'] = pd.DataFrame(temp_l)\n",
    "memory_l = smooth(pdf['memory_pct'].tolist())\n",
    "pdf['memory_s'] = pd.DataFrame(memory_l)\n",
    "cpuuser_l = smooth(pdf['cpu_user'].tolist())\n",
    "pdf['cpuuser_s'] = pd.DataFrame(cpuuser_l)\n",
    "power_l = smooth(pdf['power_pct'].tolist())\n",
    "pdf['power_s'] = pd.DataFrame(power_l)\n",
    "\n",
    "# convert back to spark dataframe\n",
    "df0 = spark_session.createDataFrame(pdf)\n"
   ]
  },
  {
   "cell_type": "code",
   "execution_count": null,
   "metadata": {},
   "outputs": [],
   "source": [
    "# Yellow AD for new data\n",
    "yellow = udf(lambda x: 1 if x[0]>x[1] else 0, IntegerType())\n",
    "df0 = df0.withColumn('yellow_temp', yellow('temp_celsius', 'upper_temp')) \\\n",
    "            .withColumn('yellow_memory', yellow('memory_pct', 'upper_memory'))\n",
    "\n",
    "# Red Alarm for new data \n",
    "red = udf(lambda x: 1 if x>=0.9 else 0, IntegerType())\n",
    "redtemp = udf(lambda x: 1 if x>=70 else 0, IntergerType())\n",
    "df0 = df0.withColumn('red_temp', redtemp('temp_celsius')) \\\n",
    "            .withColumn('red_memory', red('pct_memory')) \\\n",
    "            .withColumn('red_user', red('cpu_user')) \\\n",
    "            .withColumn('red_power', red('power_pct'))\n",
    "\n"
   ]
  },
  {
   "cell_type": "code",
   "execution_count": null,
   "metadata": {},
   "outputs": [],
   "source": []
  },
  {
   "cell_type": "code",
   "execution_count": null,
   "metadata": {},
   "outputs": [],
   "source": []
  }
 ],
 "metadata": {
  "kernelspec": {
   "display_name": "Python 2",
   "language": "python",
   "name": "python2"
  },
  "language_info": {
   "codemirror_mode": {
    "name": "ipython",
    "version": 2
   },
   "file_extension": ".py",
   "mimetype": "text/x-python",
   "name": "python",
   "nbconvert_exporter": "python",
   "pygments_lexer": "ipython2",
   "version": "2.7.15"
  }
 },
 "nbformat": 4,
 "nbformat_minor": 2
}
