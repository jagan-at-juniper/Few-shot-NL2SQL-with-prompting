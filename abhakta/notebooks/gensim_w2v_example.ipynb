{
 "cells": [
  {
   "cell_type": "code",
   "execution_count": 50,
   "id": "3b6ad690",
   "metadata": {},
   "outputs": [],
   "source": [
    "import pandas as pd\n",
    "import numpy as np"
   ]
  },
  {
   "cell_type": "code",
   "execution_count": 6,
   "id": "d2b5e4e4",
   "metadata": {},
   "outputs": [],
   "source": [
    "file_loc = \"./data/20220408/timeline_iter1_txt_csv.csv\"\n",
    "df1 = pd.read_csv(file_loc, sep=\"\\t\")"
   ]
  },
  {
   "cell_type": "code",
   "execution_count": 7,
   "id": "7e02f6cf",
   "metadata": {},
   "outputs": [
    {
     "data": {
      "text/html": [
       "<div>\n",
       "<style scoped>\n",
       "    .dataframe tbody tr th:only-of-type {\n",
       "        vertical-align: middle;\n",
       "    }\n",
       "\n",
       "    .dataframe tbody tr th {\n",
       "        vertical-align: top;\n",
       "    }\n",
       "\n",
       "    .dataframe thead th {\n",
       "        text-align: right;\n",
       "    }\n",
       "</style>\n",
       "<table border=\"1\" class=\"dataframe\">\n",
       "  <thead>\n",
       "    <tr style=\"text-align: right;\">\n",
       "      <th></th>\n",
       "      <th>site_id</th>\n",
       "      <th>timeline_text</th>\n",
       "    </tr>\n",
       "  </thead>\n",
       "  <tbody>\n",
       "    <tr>\n",
       "      <th>0</th>\n",
       "      <td>335e9a22-dc4b-467a-859a-1e6cbd25368e</td>\n",
       "      <td>75 75 75 75 75 77 75 75 74 75 75 75 75 75 75 7...</td>\n",
       "    </tr>\n",
       "    <tr>\n",
       "      <th>1</th>\n",
       "      <td>9449a496-4498-4fb8-89db-9d22b64ed8b3</td>\n",
       "      <td>77 75 75 75 75 75 75 75</td>\n",
       "    </tr>\n",
       "    <tr>\n",
       "      <th>2</th>\n",
       "      <td>98ea9cfc-7a3c-4274-b782-56df3cb0ecec</td>\n",
       "      <td>75 75 75 75 30 30 75 75 77 77 75 75 77 77 75 7...</td>\n",
       "    </tr>\n",
       "  </tbody>\n",
       "</table>\n",
       "</div>"
      ],
      "text/plain": [
       "                                site_id  \\\n",
       "0  335e9a22-dc4b-467a-859a-1e6cbd25368e   \n",
       "1  9449a496-4498-4fb8-89db-9d22b64ed8b3   \n",
       "2  98ea9cfc-7a3c-4274-b782-56df3cb0ecec   \n",
       "\n",
       "                                       timeline_text  \n",
       "0  75 75 75 75 75 77 75 75 74 75 75 75 75 75 75 7...  \n",
       "1                            77 75 75 75 75 75 75 75  \n",
       "2  75 75 75 75 30 30 75 75 77 77 75 75 77 77 75 7...  "
      ]
     },
     "execution_count": 7,
     "metadata": {},
     "output_type": "execute_result"
    }
   ],
   "source": [
    "df1.head(3)"
   ]
  },
  {
   "cell_type": "code",
   "execution_count": 21,
   "id": "ed187df5",
   "metadata": {},
   "outputs": [],
   "source": [
    "corpus = [x.split() for x in df1.timeline_text.values.tolist()]"
   ]
  },
  {
   "cell_type": "code",
   "execution_count": 22,
   "id": "4f3d032d",
   "metadata": {},
   "outputs": [
    {
     "data": {
      "text/plain": [
       "list"
      ]
     },
     "execution_count": 22,
     "metadata": {},
     "output_type": "execute_result"
    }
   ],
   "source": [
    "type(corpus)"
   ]
  },
  {
   "cell_type": "code",
   "execution_count": 23,
   "id": "d4f76840",
   "metadata": {},
   "outputs": [
    {
     "data": {
      "text/plain": [
       "2427"
      ]
     },
     "execution_count": 23,
     "metadata": {},
     "output_type": "execute_result"
    }
   ],
   "source": [
    "len(corpus)"
   ]
  },
  {
   "cell_type": "code",
   "execution_count": 29,
   "id": "00734e25",
   "metadata": {},
   "outputs": [
    {
     "name": "stdout",
     "output_type": "stream",
     "text": [
      "['75', '75', '75', '75', '75', '77', '75', '75', '74', '75', '75', '75', '75', '75', '75', '75', '75', '77', '75', '75', '75']\n"
     ]
    }
   ],
   "source": [
    "print(corpus[0])"
   ]
  },
  {
   "cell_type": "code",
   "execution_count": 15,
   "id": "3cc71b4d",
   "metadata": {},
   "outputs": [],
   "source": [
    "import gensim"
   ]
  },
  {
   "cell_type": "code",
   "execution_count": 25,
   "id": "8e03b67d",
   "metadata": {},
   "outputs": [],
   "source": [
    "model = gensim.models.Word2Vec(sentences=corpus, vector_size=100, window=3, min_count=1, workers=2, seed=21)"
   ]
  },
  {
   "cell_type": "code",
   "execution_count": 26,
   "id": "667cb8cd",
   "metadata": {},
   "outputs": [
    {
     "data": {
      "text/plain": [
       "(19727, 122377)"
      ]
     },
     "execution_count": 26,
     "metadata": {},
     "output_type": "execute_result"
    }
   ],
   "source": [
    "model.train(corpus,total_examples=len(corpus),epochs=1)"
   ]
  },
  {
   "cell_type": "markdown",
   "id": "0379c36c",
   "metadata": {},
   "source": []
  },
  {
   "cell_type": "code",
   "execution_count": 28,
   "id": "a67ac7b8",
   "metadata": {},
   "outputs": [
    {
     "data": {
      "text/plain": [
       "[('74', 0.6868630051612854),\n",
       " ('32', 0.48161229491233826),\n",
       " ('43', 0.4371698796749115),\n",
       " ('47', 0.4365573823451996),\n",
       " ('65', 0.4175126254558563),\n",
       " ('35', 0.3805185854434967),\n",
       " ('70', 0.3559947907924652),\n",
       " ('71', 0.3478034734725952),\n",
       " ('26', 0.32475772500038147),\n",
       " ('63', 0.31505799293518066)]"
      ]
     },
     "execution_count": 28,
     "metadata": {},
     "output_type": "execute_result"
    }
   ],
   "source": [
    "model.wv.most_similar('75')"
   ]
  },
  {
   "cell_type": "code",
   "execution_count": 30,
   "id": "f86050bb",
   "metadata": {},
   "outputs": [
    {
     "data": {
      "text/plain": [
       "2427"
      ]
     },
     "execution_count": 30,
     "metadata": {},
     "output_type": "execute_result"
    }
   ],
   "source": [
    "model.corpus_count"
   ]
  },
  {
   "cell_type": "code",
   "execution_count": 31,
   "id": "cc192a58",
   "metadata": {},
   "outputs": [
    {
     "data": {
      "text/plain": [
       "122377"
      ]
     },
     "execution_count": 31,
     "metadata": {},
     "output_type": "execute_result"
    }
   ],
   "source": [
    "model.corpus_total_words"
   ]
  },
  {
   "cell_type": "code",
   "execution_count": 37,
   "id": "efe2bd45",
   "metadata": {
    "scrolled": true
   },
   "outputs": [
    {
     "data": {
      "text/plain": [
       "['__class__',\n",
       " '__delattr__',\n",
       " '__dict__',\n",
       " '__dir__',\n",
       " '__doc__',\n",
       " '__eq__',\n",
       " '__format__',\n",
       " '__ge__',\n",
       " '__getattribute__',\n",
       " '__gt__',\n",
       " '__hash__',\n",
       " '__init__',\n",
       " '__init_subclass__',\n",
       " '__le__',\n",
       " '__lt__',\n",
       " '__module__',\n",
       " '__ne__',\n",
       " '__new__',\n",
       " '__reduce__',\n",
       " '__reduce_ex__',\n",
       " '__repr__',\n",
       " '__setattr__',\n",
       " '__sizeof__',\n",
       " '__str__',\n",
       " '__subclasshook__',\n",
       " '__weakref__',\n",
       " '_adapt_by_suffix',\n",
       " '_check_corpus_sanity',\n",
       " '_check_training_sanity',\n",
       " '_clear_post_train',\n",
       " '_do_train_epoch',\n",
       " '_do_train_job',\n",
       " '_get_next_alpha',\n",
       " '_get_thread_working_mem',\n",
       " '_job_producer',\n",
       " '_load_specials',\n",
       " '_log_epoch_end',\n",
       " '_log_epoch_progress',\n",
       " '_log_progress',\n",
       " '_log_train_end',\n",
       " '_raw_word_count',\n",
       " '_save_specials',\n",
       " '_scan_vocab',\n",
       " '_smart_save',\n",
       " '_train_epoch',\n",
       " '_train_epoch_corpusfile',\n",
       " '_worker_loop',\n",
       " '_worker_loop_corpusfile',\n",
       " 'add_lifecycle_event',\n",
       " 'add_null_word',\n",
       " 'alpha',\n",
       " 'batch_words',\n",
       " 'build_vocab',\n",
       " 'build_vocab_from_freq',\n",
       " 'cbow_mean',\n",
       " 'comment',\n",
       " 'compute_loss',\n",
       " 'corpus_count',\n",
       " 'corpus_total_words',\n",
       " 'create_binary_tree',\n",
       " 'cum_table',\n",
       " 'effective_min_count',\n",
       " 'epochs',\n",
       " 'estimate_memory',\n",
       " 'get_latest_training_loss',\n",
       " 'hashfxn',\n",
       " 'hs',\n",
       " 'init_sims',\n",
       " 'init_weights',\n",
       " 'layer1_size',\n",
       " 'lifecycle_events',\n",
       " 'load',\n",
       " 'make_cum_table',\n",
       " 'max_final_vocab',\n",
       " 'max_vocab_size',\n",
       " 'min_alpha',\n",
       " 'min_alpha_yet_reached',\n",
       " 'min_count',\n",
       " 'negative',\n",
       " 'ns_exponent',\n",
       " 'null_word',\n",
       " 'predict_output_word',\n",
       " 'prepare_vocab',\n",
       " 'prepare_weights',\n",
       " 'random',\n",
       " 'raw_vocab',\n",
       " 'reset_from',\n",
       " 'running_training_loss',\n",
       " 'sample',\n",
       " 'save',\n",
       " 'scan_vocab',\n",
       " 'score',\n",
       " 'seed',\n",
       " 'seeded_vector',\n",
       " 'sg',\n",
       " 'shrink_windows',\n",
       " 'sorted_vocab',\n",
       " 'syn1neg',\n",
       " 'total_train_time',\n",
       " 'train',\n",
       " 'train_count',\n",
       " 'update_weights',\n",
       " 'vector_size',\n",
       " 'window',\n",
       " 'workers',\n",
       " 'wv']"
      ]
     },
     "execution_count": 37,
     "metadata": {},
     "output_type": "execute_result"
    }
   ],
   "source": [
    "dir(model)"
   ]
  },
  {
   "cell_type": "code",
   "execution_count": 40,
   "id": "78638c7f",
   "metadata": {
    "scrolled": true
   },
   "outputs": [
    {
     "data": {
      "text/plain": [
       "78"
      ]
     },
     "execution_count": 40,
     "metadata": {},
     "output_type": "execute_result"
    }
   ],
   "source": [
    "len(model.wv)"
   ]
  },
  {
   "cell_type": "code",
   "execution_count": 43,
   "id": "0774b07a",
   "metadata": {
    "collapsed": true
   },
   "outputs": [
    {
     "data": {
      "text/plain": [
       "['__class__',\n",
       " '__contains__',\n",
       " '__delattr__',\n",
       " '__dict__',\n",
       " '__dir__',\n",
       " '__doc__',\n",
       " '__eq__',\n",
       " '__format__',\n",
       " '__ge__',\n",
       " '__getattribute__',\n",
       " '__getitem__',\n",
       " '__gt__',\n",
       " '__hash__',\n",
       " '__init__',\n",
       " '__init_subclass__',\n",
       " '__le__',\n",
       " '__len__',\n",
       " '__lt__',\n",
       " '__module__',\n",
       " '__ne__',\n",
       " '__new__',\n",
       " '__reduce__',\n",
       " '__reduce_ex__',\n",
       " '__repr__',\n",
       " '__setattr__',\n",
       " '__setitem__',\n",
       " '__sizeof__',\n",
       " '__str__',\n",
       " '__subclasshook__',\n",
       " '__weakref__',\n",
       " '_adapt_by_suffix',\n",
       " '_load_specials',\n",
       " '_log_evaluate_word_analogies',\n",
       " '_save_specials',\n",
       " '_smart_save',\n",
       " '_upconvert_old_d2vkv',\n",
       " '_upconvert_old_vocab',\n",
       " 'add_lifecycle_event',\n",
       " 'add_vector',\n",
       " 'add_vectors',\n",
       " 'allocate_vecattrs',\n",
       " 'closer_than',\n",
       " 'cosine_similarities',\n",
       " 'distance',\n",
       " 'distances',\n",
       " 'doesnt_match',\n",
       " 'evaluate_word_analogies',\n",
       " 'evaluate_word_pairs',\n",
       " 'expandos',\n",
       " 'fill_norms',\n",
       " 'get_index',\n",
       " 'get_normed_vectors',\n",
       " 'get_vecattr',\n",
       " 'get_vector',\n",
       " 'has_index_for',\n",
       " 'index2entity',\n",
       " 'index2word',\n",
       " 'index_to_key',\n",
       " 'init_sims',\n",
       " 'intersect_word2vec_format',\n",
       " 'key_to_index',\n",
       " 'load',\n",
       " 'load_word2vec_format',\n",
       " 'log_accuracy',\n",
       " 'log_evaluate_word_pairs',\n",
       " 'mapfile_path',\n",
       " 'most_similar',\n",
       " 'most_similar_cosmul',\n",
       " 'most_similar_to_given',\n",
       " 'n_similarity',\n",
       " 'next_index',\n",
       " 'norms',\n",
       " 'rank',\n",
       " 'rank_by_centrality',\n",
       " 'relative_cosine_similarity',\n",
       " 'resize_vectors',\n",
       " 'save',\n",
       " 'save_word2vec_format',\n",
       " 'set_vecattr',\n",
       " 'similar_by_key',\n",
       " 'similar_by_vector',\n",
       " 'similar_by_word',\n",
       " 'similarity',\n",
       " 'similarity_unseen_docs',\n",
       " 'sort_by_descending_frequency',\n",
       " 'unit_normalize_all',\n",
       " 'vector_size',\n",
       " 'vectors',\n",
       " 'vectors_for_all',\n",
       " 'vectors_lockf',\n",
       " 'vectors_norm',\n",
       " 'vocab',\n",
       " 'wmdistance',\n",
       " 'word_vec',\n",
       " 'words_closer_than']"
      ]
     },
     "execution_count": 43,
     "metadata": {},
     "output_type": "execute_result"
    }
   ],
   "source": [
    "dir(model.wv)"
   ]
  },
  {
   "cell_type": "code",
   "execution_count": 48,
   "id": "2c2f5f3f",
   "metadata": {
    "scrolled": true
   },
   "outputs": [
    {
     "data": {
      "text/plain": [
       "{'75': 0,\n",
       " '77': 1,\n",
       " '35': 2,\n",
       " '12': 3,\n",
       " '74': 4,\n",
       " '65': 5,\n",
       " '10': 6,\n",
       " '70': 7,\n",
       " '28': 8,\n",
       " '73': 9,\n",
       " '27': 10,\n",
       " '13': 11,\n",
       " '26': 12,\n",
       " '69': 13,\n",
       " '9': 14,\n",
       " '25': 15,\n",
       " '43': 16,\n",
       " '22': 17,\n",
       " '42': 18,\n",
       " '8': 19,\n",
       " '64': 20,\n",
       " '71': 21,\n",
       " '30': 22,\n",
       " '17': 23,\n",
       " '61': 24,\n",
       " '40': 25,\n",
       " '34': 26,\n",
       " '1': 27,\n",
       " '24': 28,\n",
       " '62': 29,\n",
       " '60': 30,\n",
       " '31': 31,\n",
       " '41': 32,\n",
       " '33': 33,\n",
       " '76': 34,\n",
       " '11': 35,\n",
       " '23': 36,\n",
       " '44': 37,\n",
       " '59': 38,\n",
       " '67': 39,\n",
       " '18': 40,\n",
       " '19': 41,\n",
       " '21': 42,\n",
       " '7': 43,\n",
       " '72': 44,\n",
       " '39': 45,\n",
       " '15': 46,\n",
       " '16': 47,\n",
       " '56': 48,\n",
       " '51': 49,\n",
       " '50': 50,\n",
       " '49': 51,\n",
       " '32': 52,\n",
       " '53': 53,\n",
       " '52': 54,\n",
       " '45': 55,\n",
       " '48': 56,\n",
       " '2': 57,\n",
       " '47': 58,\n",
       " '6': 59,\n",
       " '14': 60,\n",
       " '4': 61,\n",
       " '55': 62,\n",
       " '29': 63,\n",
       " '36': 64,\n",
       " '57': 65,\n",
       " '5': 66,\n",
       " '54': 67,\n",
       " '0': 68,\n",
       " '46': 69,\n",
       " '58': 70,\n",
       " '68': 71,\n",
       " '63': 72,\n",
       " '20': 73,\n",
       " '37': 74,\n",
       " '38': 75,\n",
       " '66': 76,\n",
       " '3': 77}"
      ]
     },
     "execution_count": 48,
     "metadata": {},
     "output_type": "execute_result"
    }
   ],
   "source": [
    "model.wv.key_to_index"
   ]
  },
  {
   "cell_type": "code",
   "execution_count": 49,
   "id": "e66f0244",
   "metadata": {},
   "outputs": [
    {
     "data": {
      "text/plain": [
       "4"
      ]
     },
     "execution_count": 49,
     "metadata": {},
     "output_type": "execute_result"
    }
   ],
   "source": [
    "model.wv."
   ]
  },
  {
   "cell_type": "code",
   "execution_count": 53,
   "id": "c35628f5",
   "metadata": {},
   "outputs": [],
   "source": [
    "similarity_matrix = np.dot(model.wv.vectors, model.wv.vectors.T)"
   ]
  },
  {
   "cell_type": "code",
   "execution_count": 54,
   "id": "9ad61b13",
   "metadata": {},
   "outputs": [
    {
     "data": {
      "text/plain": [
       "(78, 78)"
      ]
     },
     "execution_count": 54,
     "metadata": {},
     "output_type": "execute_result"
    }
   ],
   "source": [
    "similarity_matrix.shape"
   ]
  },
  {
   "cell_type": "code",
   "execution_count": 55,
   "id": "352036ea",
   "metadata": {
    "collapsed": true
   },
   "outputs": [
    {
     "data": {
      "text/plain": [
       "array([ 7.00564384e+00, -2.44953203e+00,  6.28000593e+00,  2.01934028e+00,\n",
       "        5.74251366e+00,  5.62818909e+00, -1.86923349e+00,  4.07099056e+00,\n",
       "        8.93987775e-01,  1.65627337e+00,  3.79178810e+00, -9.52727735e-01,\n",
       "        4.55086374e+00,  1.60598564e+00, -1.89871043e-02,  2.16104650e+00,\n",
       "        6.37529516e+00, -1.21051729e+00,  1.41953146e+00,  1.30215061e+00,\n",
       "        2.30924821e+00,  4.99311161e+00,  3.42278695e+00, -4.11219239e-01,\n",
       "        7.33470321e-01,  5.35587370e-01,  7.65405238e-01, -2.24171519e+00,\n",
       "        4.04764605e+00,  1.36607862e+00,  1.97367942e+00,  1.49690211e+00,\n",
       "        8.03763390e-01,  2.53743798e-01,  3.24784303e+00, -8.05351377e-01,\n",
       "        1.97158650e-01, -1.65521383e+00,  1.50297725e+00,  9.24140573e-01,\n",
       "       -1.71297359e+00, -4.97384369e-01, -8.98837000e-02, -1.05749059e+00,\n",
       "        4.32267934e-01,  1.41359591e+00,  5.15640378e-02, -1.53200173e+00,\n",
       "       -2.28870362e-01,  9.18607295e-01,  3.44034255e-01,  1.47446200e-01,\n",
       "        1.28052557e+00,  6.15155399e-01,  1.75588027e-01,  1.39818728e-01,\n",
       "        4.96411115e-01, -2.82516867e-01,  5.60745537e-01,  3.72227281e-02,\n",
       "        8.43303576e-02, -6.33603930e-02,  6.03529155e-01,  3.20163399e-01,\n",
       "        6.27649009e-01,  2.89669752e-01, -1.15884066e-01,  8.28014836e-02,\n",
       "       -2.48510525e-01,  2.13339981e-02,  4.14184630e-02,  1.29092827e-01,\n",
       "        1.45639583e-01,  9.44237038e-03,  3.66398855e-03,  6.68809190e-02,\n",
       "        3.13968584e-02,  6.78492989e-03], dtype=float32)"
      ]
     },
     "execution_count": 55,
     "metadata": {},
     "output_type": "execute_result"
    }
   ],
   "source": [
    "similarity_matrix[0]"
   ]
  },
  {
   "cell_type": "code",
   "execution_count": 57,
   "id": "e3ca56f7",
   "metadata": {},
   "outputs": [],
   "source": [
    "pd.DataFrame(similarity_matrix).to_csv('./data/20220408/iter1_similarity_1epoch.csv')"
   ]
  },
  {
   "cell_type": "code",
   "execution_count": 59,
   "id": "0e0be187",
   "metadata": {},
   "outputs": [],
   "source": [
    "similarity_matrix_normed = np.dot(model.wv.get_normed_vectors(), model.wv.get_normed_vectors().T)"
   ]
  },
  {
   "cell_type": "code",
   "execution_count": 60,
   "id": "62630402",
   "metadata": {},
   "outputs": [
    {
     "data": {
      "text/plain": [
       "(78, 78)"
      ]
     },
     "execution_count": 60,
     "metadata": {},
     "output_type": "execute_result"
    }
   ],
   "source": [
    "similarity_matrix_normed.shape"
   ]
  },
  {
   "cell_type": "code",
   "execution_count": 65,
   "id": "e7c3d650",
   "metadata": {},
   "outputs": [],
   "source": [
    "pd.DataFrame(similarity_matrix_normed).to_csv('./data/20220408/iter1_similarity_normed_1epoch.csv')"
   ]
  },
  {
   "cell_type": "code",
   "execution_count": null,
   "id": "a4da9c91",
   "metadata": {},
   "outputs": [],
   "source": []
  },
  {
   "cell_type": "code",
   "execution_count": 62,
   "id": "c27d38ad",
   "metadata": {},
   "outputs": [
    {
     "data": {
      "text/plain": [
       "(78, 78)"
      ]
     },
     "execution_count": 62,
     "metadata": {},
     "output_type": "execute_result"
    }
   ],
   "source": [
    "similarity_matrix.shape"
   ]
  },
  {
   "cell_type": "code",
   "execution_count": 66,
   "id": "367f3b0e",
   "metadata": {},
   "outputs": [
    {
     "name": "stdout",
     "output_type": "stream",
     "text": [
      "3081\n"
     ]
    }
   ],
   "source": [
    "pairwise_relation = list()\n",
    "\n",
    "for i in range(similarity_matrix_normed.shape[0]):\n",
    "    for j in range(similarity_matrix_normed.shape[1]):\n",
    "        if i<=j:\n",
    "            pairwise_relation.append([i, j, similarity_matrix_normed[i][j]])\n",
    "        else:\n",
    "            continue\n",
    "print(len(pairwise_relation))"
   ]
  },
  {
   "cell_type": "code",
   "execution_count": 69,
   "id": "974e797e",
   "metadata": {},
   "outputs": [
    {
     "data": {
      "text/html": [
       "<div>\n",
       "<style scoped>\n",
       "    .dataframe tbody tr th:only-of-type {\n",
       "        vertical-align: middle;\n",
       "    }\n",
       "\n",
       "    .dataframe tbody tr th {\n",
       "        vertical-align: top;\n",
       "    }\n",
       "\n",
       "    .dataframe thead th {\n",
       "        text-align: right;\n",
       "    }\n",
       "</style>\n",
       "<table border=\"1\" class=\"dataframe\">\n",
       "  <thead>\n",
       "    <tr style=\"text-align: right;\">\n",
       "      <th></th>\n",
       "      <th>from</th>\n",
       "      <th>to</th>\n",
       "      <th>similarity_normed</th>\n",
       "    </tr>\n",
       "  </thead>\n",
       "  <tbody>\n",
       "    <tr>\n",
       "      <th>0</th>\n",
       "      <td>0</td>\n",
       "      <td>0</td>\n",
       "      <td>1.000000</td>\n",
       "    </tr>\n",
       "    <tr>\n",
       "      <th>1</th>\n",
       "      <td>0</td>\n",
       "      <td>1</td>\n",
       "      <td>-0.203926</td>\n",
       "    </tr>\n",
       "    <tr>\n",
       "      <th>2</th>\n",
       "      <td>0</td>\n",
       "      <td>2</td>\n",
       "      <td>0.380519</td>\n",
       "    </tr>\n",
       "  </tbody>\n",
       "</table>\n",
       "</div>"
      ],
      "text/plain": [
       "   from  to  similarity_normed\n",
       "0     0   0           1.000000\n",
       "1     0   1          -0.203926\n",
       "2     0   2           0.380519"
      ]
     },
     "execution_count": 69,
     "metadata": {},
     "output_type": "execute_result"
    }
   ],
   "source": [
    "dfout1 = pd.DataFrame(pairwise_relation,columns=['from','to','similarity_normed'])\n",
    "dfout1.head(3)"
   ]
  },
  {
   "cell_type": "code",
   "execution_count": 70,
   "id": "b8f83147",
   "metadata": {},
   "outputs": [],
   "source": [
    "dfout1.to_csv('./data/20220408/iter1_similarity_pairs_1epoch.csv',index=False)"
   ]
  },
  {
   "cell_type": "code",
   "execution_count": 72,
   "id": "0c5eeaf5",
   "metadata": {},
   "outputs": [
    {
     "data": {
      "text/plain": [
       "0.0"
      ]
     },
     "execution_count": 72,
     "metadata": {},
     "output_type": "execute_result"
    }
   ],
   "source": [
    "model.get_latest_training_loss()"
   ]
  },
  {
   "cell_type": "code",
   "execution_count": null,
   "id": "7ef05e93",
   "metadata": {},
   "outputs": [],
   "source": []
  },
  {
   "cell_type": "code",
   "execution_count": null,
   "id": "3ca4ee5c",
   "metadata": {},
   "outputs": [],
   "source": []
  },
  {
   "cell_type": "code",
   "execution_count": 79,
   "id": "9b39eceb",
   "metadata": {},
   "outputs": [],
   "source": [
    "from gensim.models.callbacks import CallbackAny2Vec\n",
    "# from gensim.models import Word2Vec"
   ]
  },
  {
   "cell_type": "code",
   "execution_count": 90,
   "id": "909691c3",
   "metadata": {},
   "outputs": [
    {
     "data": {
      "text/plain": [
       "['__class__',\n",
       " '__delattr__',\n",
       " '__dict__',\n",
       " '__dir__',\n",
       " '__doc__',\n",
       " '__eq__',\n",
       " '__format__',\n",
       " '__ge__',\n",
       " '__getattribute__',\n",
       " '__gt__',\n",
       " '__hash__',\n",
       " '__init__',\n",
       " '__init_subclass__',\n",
       " '__le__',\n",
       " '__lt__',\n",
       " '__module__',\n",
       " '__ne__',\n",
       " '__new__',\n",
       " '__reduce__',\n",
       " '__reduce_ex__',\n",
       " '__repr__',\n",
       " '__setattr__',\n",
       " '__sizeof__',\n",
       " '__str__',\n",
       " '__subclasshook__',\n",
       " '__weakref__',\n",
       " 'on_epoch_begin',\n",
       " 'on_epoch_end',\n",
       " 'on_train_begin',\n",
       " 'on_train_end']"
      ]
     },
     "execution_count": 90,
     "metadata": {},
     "output_type": "execute_result"
    }
   ],
   "source": [
    "dir(CallbackAny2Vec.on_train_end)"
   ]
  },
  {
   "cell_type": "code",
   "execution_count": 92,
   "id": "715f4161",
   "metadata": {},
   "outputs": [],
   "source": [
    "import matplotlib.pyplot as plt"
   ]
  },
  {
   "cell_type": "code",
   "execution_count": 123,
   "id": "51fc9dbd",
   "metadata": {},
   "outputs": [],
   "source": [
    "\n",
    "# init callback class\n",
    "class callback(CallbackAny2Vec):\n",
    "    \"\"\"\n",
    "    Callback to print loss after each epoch\n",
    "    \"\"\"\n",
    "    def __init__(self):\n",
    "        self.epoch = 0\n",
    "        self.history = list()\n",
    "\n",
    "    def on_epoch_end(self, model):\n",
    "        loss = model.get_latest_training_loss()\n",
    "        if self.epoch == 0:\n",
    "            out_loss = loss\n",
    "        else:\n",
    "            out_loss = loss- self.loss_previous_step\n",
    "        print('Loss after epoch {}: {}'.format(self.epoch, out_loss))\n",
    "        self.history.append([self.epoch, out_loss])\n",
    "        self.epoch += 1\n",
    "        self.loss_previous_step = loss\n",
    "        \n",
    "    def on_train_end(self, model):\n",
    "        df = pd.DataFrame(self.history, columns=['epoch', 'loss'])\n",
    "        df.plot(x='epoch', y='loss', kind='line',style='.-')"
   ]
  },
  {
   "cell_type": "code",
   "execution_count": 126,
   "id": "beeff0eb",
   "metadata": {},
   "outputs": [],
   "source": [
    "model_wloss = gensim.models.Word2Vec(sentences=corpus, vector_size=100, window=3, min_count=1, workers=2, \n",
    "                                     compute_loss=True, seed=21)"
   ]
  },
  {
   "cell_type": "code",
   "execution_count": 125,
   "id": "0ceac36b",
   "metadata": {},
   "outputs": [
    {
     "name": "stdout",
     "output_type": "stream",
     "text": [
      "Loss after epoch 0: 17577.130859375\n",
      "Loss after epoch 1: 17173.826171875\n",
      "Loss after epoch 2: 17377.67578125\n",
      "Loss after epoch 3: 17127.9921875\n",
      "Loss after epoch 4: 17158.4765625\n",
      "Loss after epoch 5: 16995.6171875\n",
      "Loss after epoch 6: 17178.5\n",
      "Loss after epoch 7: 17069.40625\n",
      "Loss after epoch 8: 16926.640625\n",
      "Loss after epoch 9: 16851.53125\n"
     ]
    },
    {
     "data": {
      "text/plain": [
       "(197555, 1223770)"
      ]
     },
     "execution_count": 125,
     "metadata": {},
     "output_type": "execute_result"
    },
    {
     "data": {
      "image/png": "[encoded data removed]",
      "text/plain": [
       "<Figure size 432x288 with 1 Axes>"
      ]
     },
     "metadata": {
      "needs_background": "light"
     },
     "output_type": "display_data"
    }
   ],
   "source": [
    "model_wloss.train(corpus,total_examples=len(corpus),epochs=10, compute_loss=True, callbacks=[callback()])"
   ]
  },
  {
   "cell_type": "code",
   "execution_count": 127,
   "id": "2f09c97c",
   "metadata": {
    "scrolled": true
   },
   "outputs": [
    {
     "name": "stdout",
     "output_type": "stream",
     "text": [
      "Loss after epoch 0: 17578.763671875\n",
      "Loss after epoch 1: 17176.478515625\n",
      "Loss after epoch 2: 17372.62890625\n",
      "Loss after epoch 3: 17138.58984375\n",
      "Loss after epoch 4: 17157.546875\n",
      "Loss after epoch 5: 17055.0546875\n",
      "Loss after epoch 6: 17195.4140625\n",
      "Loss after epoch 7: 17028.3671875\n",
      "Loss after epoch 8: 16958.90625\n",
      "Loss after epoch 9: 16899.4375\n",
      "Loss after epoch 10: 16807.296875\n",
      "Loss after epoch 11: 16864.3125\n",
      "Loss after epoch 12: 17105.890625\n",
      "Loss after epoch 13: 16911.234375\n",
      "Loss after epoch 14: 16830.984375\n",
      "Loss after epoch 15: 17043.6875\n",
      "Loss after epoch 16: 17058.34375\n",
      "Loss after epoch 17: 16670.125\n",
      "Loss after epoch 18: 17036.15625\n",
      "Loss after epoch 19: 16926.40625\n",
      "Loss after epoch 20: 16937.71875\n",
      "Loss after epoch 21: 16617.53125\n",
      "Loss after epoch 22: 16670.28125\n",
      "Loss after epoch 23: 16736.21875\n",
      "Loss after epoch 24: 16537.4375\n",
      "Loss after epoch 25: 16957.84375\n",
      "Loss after epoch 26: 16820.15625\n",
      "Loss after epoch 27: 17009.3125\n",
      "Loss after epoch 28: 16827.25\n",
      "Loss after epoch 29: 16878.09375\n",
      "Loss after epoch 30: 16775.34375\n",
      "Loss after epoch 31: 16720.5\n",
      "Loss after epoch 32: 16835.5625\n",
      "Loss after epoch 33: 16422.9375\n",
      "Loss after epoch 34: 17016.5\n",
      "Loss after epoch 35: 16737.0\n",
      "Loss after epoch 36: 16643.375\n",
      "Loss after epoch 37: 16616.875\n",
      "Loss after epoch 38: 17076.8125\n",
      "Loss after epoch 39: 16549.1875\n",
      "Loss after epoch 40: 16591.375\n",
      "Loss after epoch 41: 16735.25\n",
      "Loss after epoch 42: 16824.0\n",
      "Loss after epoch 43: 16832.1875\n",
      "Loss after epoch 44: 16640.6875\n",
      "Loss after epoch 45: 16633.1875\n",
      "Loss after epoch 46: 16265.5\n",
      "Loss after epoch 47: 16647.3125\n",
      "Loss after epoch 48: 16728.5\n",
      "Loss after epoch 49: 16643.0\n"
     ]
    },
    {
     "data": {
      "image/png": "[encoded data removed]",
      "text/plain": [
       "<Figure size 432x288 with 1 Axes>"
      ]
     },
     "metadata": {
      "needs_background": "light"
     },
     "output_type": "display_data"
    }
   ],
   "source": [
    "history = model_wloss.train(corpus,total_examples=len(corpus),epochs=50, compute_loss=True, callbacks=[callback()])"
   ]
  },
  {
   "cell_type": "code",
   "execution_count": 128,
   "id": "9a827db7",
   "metadata": {},
   "outputs": [],
   "source": [
    "similarity_matrix_normed = np.dot(model_wloss.wv.get_normed_vectors(), model_wloss.wv.get_normed_vectors().T)"
   ]
  },
  {
   "cell_type": "code",
   "execution_count": 129,
   "id": "8b4b8f8e",
   "metadata": {},
   "outputs": [
    {
     "data": {
      "text/plain": [
       "(78, 78)"
      ]
     },
     "execution_count": 129,
     "metadata": {},
     "output_type": "execute_result"
    }
   ],
   "source": [
    "similarity_matrix_normed.shape"
   ]
  },
  {
   "cell_type": "code",
   "execution_count": 130,
   "id": "07e13f39",
   "metadata": {},
   "outputs": [],
   "source": [
    "pd.DataFrame(similarity_matrix_normed).to_csv('./data/20220408/iter1_similarity_normed_50epoch.csv')"
   ]
  },
  {
   "cell_type": "code",
   "execution_count": 131,
   "id": "23723f26",
   "metadata": {},
   "outputs": [
    {
     "name": "stdout",
     "output_type": "stream",
     "text": [
      "3081\n"
     ]
    }
   ],
   "source": [
    "pairwise_relation = list()\n",
    "\n",
    "for i in range(similarity_matrix_normed.shape[0]):\n",
    "    for j in range(similarity_matrix_normed.shape[1]):\n",
    "        if i<=j:\n",
    "            pairwise_relation.append([i, j, similarity_matrix_normed[i][j]])\n",
    "        else:\n",
    "            continue\n",
    "print(len(pairwise_relation))"
   ]
  },
  {
   "cell_type": "code",
   "execution_count": 132,
   "id": "7315a8b7",
   "metadata": {},
   "outputs": [
    {
     "data": {
      "text/html": [
       "<div>\n",
       "<style scoped>\n",
       "    .dataframe tbody tr th:only-of-type {\n",
       "        vertical-align: middle;\n",
       "    }\n",
       "\n",
       "    .dataframe tbody tr th {\n",
       "        vertical-align: top;\n",
       "    }\n",
       "\n",
       "    .dataframe thead th {\n",
       "        text-align: right;\n",
       "    }\n",
       "</style>\n",
       "<table border=\"1\" class=\"dataframe\">\n",
       "  <thead>\n",
       "    <tr style=\"text-align: right;\">\n",
       "      <th></th>\n",
       "      <th>from</th>\n",
       "      <th>to</th>\n",
       "      <th>similarity_normed</th>\n",
       "    </tr>\n",
       "  </thead>\n",
       "  <tbody>\n",
       "    <tr>\n",
       "      <th>0</th>\n",
       "      <td>0</td>\n",
       "      <td>0</td>\n",
       "      <td>1.000000</td>\n",
       "    </tr>\n",
       "    <tr>\n",
       "      <th>1</th>\n",
       "      <td>0</td>\n",
       "      <td>1</td>\n",
       "      <td>-0.677301</td>\n",
       "    </tr>\n",
       "    <tr>\n",
       "      <th>2</th>\n",
       "      <td>0</td>\n",
       "      <td>2</td>\n",
       "      <td>0.046969</td>\n",
       "    </tr>\n",
       "  </tbody>\n",
       "</table>\n",
       "</div>"
      ],
      "text/plain": [
       "   from  to  similarity_normed\n",
       "0     0   0           1.000000\n",
       "1     0   1          -0.677301\n",
       "2     0   2           0.046969"
      ]
     },
     "execution_count": 132,
     "metadata": {},
     "output_type": "execute_result"
    }
   ],
   "source": [
    "dfout1 = pd.DataFrame(pairwise_relation,columns=['from','to','similarity_normed'])\n",
    "dfout1.head(3)"
   ]
  },
  {
   "cell_type": "code",
   "execution_count": 133,
   "id": "5e2ceb41",
   "metadata": {},
   "outputs": [],
   "source": [
    "dfout1.to_csv('./data/20220408/iter1_similarity_pairs_50epoch.csv',index=False)"
   ]
  },
  {
   "cell_type": "code",
   "execution_count": 134,
   "id": "d76171fe",
   "metadata": {
    "scrolled": true
   },
   "outputs": [
    {
     "data": {
      "text/plain": [
       "{'75': 0,\n",
       " '77': 1,\n",
       " '35': 2,\n",
       " '12': 3,\n",
       " '74': 4,\n",
       " '65': 5,\n",
       " '10': 6,\n",
       " '70': 7,\n",
       " '28': 8,\n",
       " '73': 9,\n",
       " '27': 10,\n",
       " '13': 11,\n",
       " '26': 12,\n",
       " '69': 13,\n",
       " '9': 14,\n",
       " '25': 15,\n",
       " '43': 16,\n",
       " '22': 17,\n",
       " '42': 18,\n",
       " '8': 19,\n",
       " '64': 20,\n",
       " '71': 21,\n",
       " '30': 22,\n",
       " '17': 23,\n",
       " '61': 24,\n",
       " '40': 25,\n",
       " '34': 26,\n",
       " '1': 27,\n",
       " '24': 28,\n",
       " '62': 29,\n",
       " '60': 30,\n",
       " '31': 31,\n",
       " '41': 32,\n",
       " '33': 33,\n",
       " '76': 34,\n",
       " '11': 35,\n",
       " '23': 36,\n",
       " '44': 37,\n",
       " '59': 38,\n",
       " '67': 39,\n",
       " '18': 40,\n",
       " '19': 41,\n",
       " '21': 42,\n",
       " '7': 43,\n",
       " '72': 44,\n",
       " '39': 45,\n",
       " '15': 46,\n",
       " '16': 47,\n",
       " '56': 48,\n",
       " '51': 49,\n",
       " '50': 50,\n",
       " '49': 51,\n",
       " '32': 52,\n",
       " '53': 53,\n",
       " '52': 54,\n",
       " '45': 55,\n",
       " '48': 56,\n",
       " '2': 57,\n",
       " '47': 58,\n",
       " '6': 59,\n",
       " '14': 60,\n",
       " '4': 61,\n",
       " '55': 62,\n",
       " '29': 63,\n",
       " '36': 64,\n",
       " '57': 65,\n",
       " '5': 66,\n",
       " '54': 67,\n",
       " '0': 68,\n",
       " '46': 69,\n",
       " '58': 70,\n",
       " '68': 71,\n",
       " '63': 72,\n",
       " '20': 73,\n",
       " '37': 74,\n",
       " '38': 75,\n",
       " '66': 76,\n",
       " '3': 77}"
      ]
     },
     "execution_count": 134,
     "metadata": {},
     "output_type": "execute_result"
    }
   ],
   "source": [
    "model_wloss.wv.key_to_index"
   ]
  },
  {
   "cell_type": "code",
   "execution_count": null,
   "id": "cc316a65",
   "metadata": {},
   "outputs": [],
   "source": []
  }
 ],
 "metadata": {
  "kernelspec": {
   "display_name": "Python 3",
   "language": "python",
   "name": "python3"
  },
  "language_info": {
   "codemirror_mode": {
    "name": "ipython",
    "version": 3
   },
   "file_extension": ".py",
   "mimetype": "text/x-python",
   "name": "python",
   "nbconvert_exporter": "python",
   "pygments_lexer": "ipython3",
   "version": "3.8.8"
  }
 },
 "nbformat": 4,
 "nbformat_minor": 5
}
