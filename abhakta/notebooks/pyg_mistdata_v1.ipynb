{
 "cells": [
  {
   "cell_type": "markdown",
   "id": "2b7c5c0a",
   "metadata": {},
   "source": [
    "-- version history --\n",
    "\n",
    "<br>--- v1 ---\n",
    "> - use only event timeline info to create nodes and edges\n",
    "> - multiple edges rolled in-to 1 and not learning the importance of weights\n",
    "> - embedding based similarity matrix and confusion matrix generated for comparing against the 46 data points\n",
    "----------\n"
   ]
  },
  {
   "cell_type": "code",
   "execution_count": 1,
   "id": "f37f2733",
   "metadata": {},
   "outputs": [],
   "source": [
    "import pandas as pd\n",
    "import matplotlib.pyplot as plt"
   ]
  },
  {
   "cell_type": "code",
   "execution_count": 2,
   "id": "547d88c7",
   "metadata": {},
   "outputs": [],
   "source": [
    "import numpy as np"
   ]
  },
  {
   "cell_type": "code",
   "execution_count": 3,
   "id": "41c2c86f",
   "metadata": {},
   "outputs": [],
   "source": [
    "%matplotlib inline"
   ]
  },
  {
   "cell_type": "code",
   "execution_count": 4,
   "id": "59637bb9",
   "metadata": {},
   "outputs": [
    {
     "data": {
      "text/plain": [
       "(130613, 15)"
      ]
     },
     "execution_count": 4,
     "metadata": {},
     "output_type": "execute_result"
    }
   ],
   "source": [
    "df_eeseq = pd.read_csv('./data/20220509/eventsequence_all/part-00000-e4d812f1-8e12-48a2-a969-cbb0ca5d20ac-c000.csv',sep=\"\\t\")\n",
    "df_eeseq.shape"
   ]
  },
  {
   "cell_type": "code",
   "execution_count": 5,
   "id": "31ba977a",
   "metadata": {},
   "outputs": [
    {
     "name": "stdout",
     "output_type": "stream",
     "text": [
      "['site_id', 'event_node_name_p1', 'mac_new', 'event_sequence', 'event_node_name', 'event_node_name_to', 'start_time', 'end_time', 'start_time_next', 'end_time_next', 'time_delta_seconds', 'start_time_utc', 'end_time_utc', 'start_time_next_utc', 'end_time_next_utc']\n"
     ]
    }
   ],
   "source": [
    "print(list(df_eeseq.columns))"
   ]
  },
  {
   "cell_type": "code",
   "execution_count": 8,
   "id": "91a10b86",
   "metadata": {},
   "outputs": [
    {
     "data": {
      "text/html": [
       "<div>\n",
       "<style scoped>\n",
       "    .dataframe tbody tr th:only-of-type {\n",
       "        vertical-align: middle;\n",
       "    }\n",
       "\n",
       "    .dataframe tbody tr th {\n",
       "        vertical-align: top;\n",
       "    }\n",
       "\n",
       "    .dataframe thead th {\n",
       "        text-align: right;\n",
       "    }\n",
       "</style>\n",
       "<table border=\"1\" class=\"dataframe\">\n",
       "  <thead>\n",
       "    <tr style=\"text-align: right;\">\n",
       "      <th></th>\n",
       "      <th>site_id</th>\n",
       "      <th>event_node_name_p1</th>\n",
       "      <th>mac_new</th>\n",
       "      <th>event_sequence</th>\n",
       "      <th>event_node_name</th>\n",
       "      <th>event_node_name_to</th>\n",
       "      <th>start_time</th>\n",
       "      <th>end_time</th>\n",
       "      <th>start_time_next</th>\n",
       "      <th>end_time_next</th>\n",
       "      <th>time_delta_seconds</th>\n",
       "      <th>start_time_utc</th>\n",
       "      <th>end_time_utc</th>\n",
       "      <th>start_time_next_utc</th>\n",
       "      <th>end_time_next_utc</th>\n",
       "    </tr>\n",
       "  </thead>\n",
       "  <tbody>\n",
       "    <tr>\n",
       "      <th>125305</th>\n",
       "      <td>eddd0a96-c390-4fe8-a632-36603a9936a6</td>\n",
       "      <td>0038&amp;87</td>\n",
       "      <td>fc9643cf3dc1</td>\n",
       "      <td>38</td>\n",
       "      <td>87</td>\n",
       "      <td>54.0</td>\n",
       "      <td>1652110991000</td>\n",
       "      <td>1652114411000</td>\n",
       "      <td>1.652113e+12</td>\n",
       "      <td>1.652125e+12</td>\n",
       "      <td>2049.853</td>\n",
       "      <td>2022-05-09 15:43:11</td>\n",
       "      <td>2022-05-09 16:40:11</td>\n",
       "      <td>2022-05-09 16:17:20</td>\n",
       "      <td>2022-05-09 19:43:58</td>\n",
       "    </tr>\n",
       "    <tr>\n",
       "      <th>49757</th>\n",
       "      <td>6cf57059-af1c-4bac-a2cc-524144e3d5fc</td>\n",
       "      <td>0129&amp;87</td>\n",
       "      <td>b033a6748b84</td>\n",
       "      <td>129</td>\n",
       "      <td>87</td>\n",
       "      <td>42.0</td>\n",
       "      <td>1652055857000</td>\n",
       "      <td>1652056037000</td>\n",
       "      <td>1.652056e+12</td>\n",
       "      <td>1.652056e+12</td>\n",
       "      <td>7.000</td>\n",
       "      <td>2022-05-09 00:24:17</td>\n",
       "      <td>2022-05-09 00:27:17</td>\n",
       "      <td>2022-05-09 00:24:24</td>\n",
       "      <td>2022-05-09 00:24:24</td>\n",
       "    </tr>\n",
       "    <tr>\n",
       "      <th>5685</th>\n",
       "      <td>0a6fe7e6-30c5-48b9-8547-a6fc09b1c6b7</td>\n",
       "      <td>0011&amp;87</td>\n",
       "      <td>1039e974ae1e</td>\n",
       "      <td>11</td>\n",
       "      <td>87</td>\n",
       "      <td>87.0</td>\n",
       "      <td>1652115453000</td>\n",
       "      <td>1652115633000</td>\n",
       "      <td>1.652130e+12</td>\n",
       "      <td>1.652130e+12</td>\n",
       "      <td>14756.000</td>\n",
       "      <td>2022-05-09 16:57:33</td>\n",
       "      <td>2022-05-09 17:00:33</td>\n",
       "      <td>2022-05-09 21:03:29</td>\n",
       "      <td>2022-05-09 21:06:29</td>\n",
       "    </tr>\n",
       "  </tbody>\n",
       "</table>\n",
       "</div>"
      ],
      "text/plain": [
       "                                     site_id event_node_name_p1       mac_new  \\\n",
       "125305  eddd0a96-c390-4fe8-a632-36603a9936a6            0038&87  fc9643cf3dc1   \n",
       "49757   6cf57059-af1c-4bac-a2cc-524144e3d5fc            0129&87  b033a6748b84   \n",
       "5685    0a6fe7e6-30c5-48b9-8547-a6fc09b1c6b7            0011&87  1039e974ae1e   \n",
       "\n",
       "        event_sequence  event_node_name  event_node_name_to     start_time  \\\n",
       "125305              38               87                54.0  1652110991000   \n",
       "49757              129               87                42.0  1652055857000   \n",
       "5685                11               87                87.0  1652115453000   \n",
       "\n",
       "             end_time  start_time_next  end_time_next  time_delta_seconds  \\\n",
       "125305  1652114411000     1.652113e+12   1.652125e+12            2049.853   \n",
       "49757   1652056037000     1.652056e+12   1.652056e+12               7.000   \n",
       "5685    1652115633000     1.652130e+12   1.652130e+12           14756.000   \n",
       "\n",
       "             start_time_utc         end_time_utc  start_time_next_utc  \\\n",
       "125305  2022-05-09 15:43:11  2022-05-09 16:40:11  2022-05-09 16:17:20   \n",
       "49757   2022-05-09 00:24:17  2022-05-09 00:27:17  2022-05-09 00:24:24   \n",
       "5685    2022-05-09 16:57:33  2022-05-09 17:00:33  2022-05-09 21:03:29   \n",
       "\n",
       "          end_time_next_utc  \n",
       "125305  2022-05-09 19:43:58  \n",
       "49757   2022-05-09 00:24:24  \n",
       "5685    2022-05-09 21:06:29  "
      ]
     },
     "execution_count": 8,
     "metadata": {},
     "output_type": "execute_result"
    }
   ],
   "source": [
    "df_eeseq.sample(3)"
   ]
  },
  {
   "cell_type": "code",
   "execution_count": 10,
   "id": "92b006af",
   "metadata": {},
   "outputs": [],
   "source": [
    "df_eeseq_snip = df_eeseq.groupby(['event_node_name', 'event_node_name_to'])['event_node_name_p1'].agg(len).reset_index()"
   ]
  },
  {
   "cell_type": "code",
   "execution_count": 16,
   "id": "c3eeeccf",
   "metadata": {
    "collapsed": true
   },
   "outputs": [
    {
     "data": {
      "image/png": "[encoded data removed]",
      "text/plain": [
       "<Figure size 432x288 with 1 Axes>"
      ]
     },
     "metadata": {
      "needs_background": "light"
     },
     "output_type": "display_data"
    }
   ],
   "source": [
    "df_eeseq_snip.event_node_name_p1.hist(bins=100); plt.xlim([0, 5000]);plt.show()"
   ]
  },
  {
   "cell_type": "code",
   "execution_count": 17,
   "id": "a879873f",
   "metadata": {},
   "outputs": [
    {
     "data": {
      "text/plain": [
       "(1252, 3)"
      ]
     },
     "execution_count": 17,
     "metadata": {},
     "output_type": "execute_result"
    }
   ],
   "source": [
    "df_eeseq_snip.shape"
   ]
  },
  {
   "cell_type": "code",
   "execution_count": 18,
   "id": "f2081500",
   "metadata": {},
   "outputs": [
    {
     "data": {
      "text/plain": [
       "128361"
      ]
     },
     "execution_count": 18,
     "metadata": {},
     "output_type": "execute_result"
    }
   ],
   "source": [
    "df_eeseq_snip.event_node_name_p1.sum()"
   ]
  },
  {
   "cell_type": "code",
   "execution_count": 19,
   "id": "10d9d80b",
   "metadata": {},
   "outputs": [
    {
     "data": {
      "text/html": [
       "<div>\n",
       "<style scoped>\n",
       "    .dataframe tbody tr th:only-of-type {\n",
       "        vertical-align: middle;\n",
       "    }\n",
       "\n",
       "    .dataframe tbody tr th {\n",
       "        vertical-align: top;\n",
       "    }\n",
       "\n",
       "    .dataframe thead th {\n",
       "        text-align: right;\n",
       "    }\n",
       "</style>\n",
       "<table border=\"1\" class=\"dataframe\">\n",
       "  <thead>\n",
       "    <tr style=\"text-align: right;\">\n",
       "      <th></th>\n",
       "      <th>event_node_name</th>\n",
       "      <th>event_node_name_to</th>\n",
       "      <th>event_node_name_p1</th>\n",
       "    </tr>\n",
       "  </thead>\n",
       "  <tbody>\n",
       "    <tr>\n",
       "      <th>169</th>\n",
       "      <td>17</td>\n",
       "      <td>34.0</td>\n",
       "      <td>1</td>\n",
       "    </tr>\n",
       "    <tr>\n",
       "      <th>1234</th>\n",
       "      <td>89</td>\n",
       "      <td>68.0</td>\n",
       "      <td>5</td>\n",
       "    </tr>\n",
       "    <tr>\n",
       "      <th>483</th>\n",
       "      <td>38</td>\n",
       "      <td>77.0</td>\n",
       "      <td>6</td>\n",
       "    </tr>\n",
       "  </tbody>\n",
       "</table>\n",
       "</div>"
      ],
      "text/plain": [
       "      event_node_name  event_node_name_to  event_node_name_p1\n",
       "169                17                34.0                   1\n",
       "1234               89                68.0                   5\n",
       "483                38                77.0                   6"
      ]
     },
     "execution_count": 19,
     "metadata": {},
     "output_type": "execute_result"
    }
   ],
   "source": [
    "df_eeseq_snip.sample(3)"
   ]
  },
  {
   "cell_type": "code",
   "execution_count": 23,
   "id": "f71cb22d",
   "metadata": {},
   "outputs": [
    {
     "data": {
      "text/html": [
       "<div>\n",
       "<style scoped>\n",
       "    .dataframe tbody tr th:only-of-type {\n",
       "        vertical-align: middle;\n",
       "    }\n",
       "\n",
       "    .dataframe tbody tr th {\n",
       "        vertical-align: top;\n",
       "    }\n",
       "\n",
       "    .dataframe thead th {\n",
       "        text-align: right;\n",
       "    }\n",
       "</style>\n",
       "<table border=\"1\" class=\"dataframe\">\n",
       "  <thead>\n",
       "    <tr style=\"text-align: right;\">\n",
       "      <th></th>\n",
       "      <th>event_node_name</th>\n",
       "      <th>event_node_name_to</th>\n",
       "      <th>event_node_name_p1</th>\n",
       "    </tr>\n",
       "  </thead>\n",
       "  <tbody>\n",
       "    <tr>\n",
       "      <th>491</th>\n",
       "      <td>39</td>\n",
       "      <td>52</td>\n",
       "      <td>2</td>\n",
       "    </tr>\n",
       "    <tr>\n",
       "      <th>694</th>\n",
       "      <td>55</td>\n",
       "      <td>89</td>\n",
       "      <td>18</td>\n",
       "    </tr>\n",
       "    <tr>\n",
       "      <th>202</th>\n",
       "      <td>20</td>\n",
       "      <td>89</td>\n",
       "      <td>3</td>\n",
       "    </tr>\n",
       "  </tbody>\n",
       "</table>\n",
       "</div>"
      ],
      "text/plain": [
       "     event_node_name  event_node_name_to  event_node_name_p1\n",
       "491               39                  52                   2\n",
       "694               55                  89                  18\n",
       "202               20                  89                   3"
      ]
     },
     "execution_count": 23,
     "metadata": {},
     "output_type": "execute_result"
    }
   ],
   "source": [
    "df_eeseq_snip.event_node_name_to = df_eeseq_snip.event_node_name_to.astype(np.int32)\n",
    "df_eeseq_snip.sample(3)"
   ]
  },
  {
   "cell_type": "code",
   "execution_count": 25,
   "id": "0325c99b",
   "metadata": {},
   "outputs": [],
   "source": [
    "df_eeseq_snip.to_csv('./data/20220509/editedsamples/eeseq.csv')"
   ]
  },
  {
   "cell_type": "code",
   "execution_count": 27,
   "id": "0c7770e4",
   "metadata": {},
   "outputs": [
    {
     "data": {
      "text/plain": [
       "(90, 6)"
      ]
     },
     "execution_count": 27,
     "metadata": {},
     "output_type": "execute_result"
    }
   ],
   "source": [
    "df_eedict = pd.read_csv('./data/20220509/events_dict_all/part-00000-eb219c1b-f555-45ea-9dd9-6faa4dab5f12-c000.csv',sep = '\\t')\n",
    "df_eedict.shape"
   ]
  },
  {
   "cell_type": "code",
   "execution_count": 28,
   "id": "c7364ac5",
   "metadata": {},
   "outputs": [
    {
     "data": {
      "text/html": [
       "<div>\n",
       "<style scoped>\n",
       "    .dataframe tbody tr th:only-of-type {\n",
       "        vertical-align: middle;\n",
       "    }\n",
       "\n",
       "    .dataframe tbody tr th {\n",
       "        vertical-align: top;\n",
       "    }\n",
       "\n",
       "    .dataframe thead th {\n",
       "        text-align: right;\n",
       "    }\n",
       "</style>\n",
       "<table border=\"1\" class=\"dataframe\">\n",
       "  <thead>\n",
       "    <tr style=\"text-align: right;\">\n",
       "      <th></th>\n",
       "      <th>display_entity_type</th>\n",
       "      <th>entity_type</th>\n",
       "      <th>event_name</th>\n",
       "      <th>event_type</th>\n",
       "      <th>node_id</th>\n",
       "      <th>event_node_name</th>\n",
       "    </tr>\n",
       "  </thead>\n",
       "  <tbody>\n",
       "    <tr>\n",
       "      <th>0</th>\n",
       "      <td>ap</td>\n",
       "      <td>ap</td>\n",
       "      <td>ap_disconnect</td>\n",
       "      <td>boot_configuration_broke_the_cloud</td>\n",
       "      <td>0</td>\n",
       "      <td>ap|ap|ap_disconnect|boot_configuration_broke_t...</td>\n",
       "    </tr>\n",
       "    <tr>\n",
       "      <th>1</th>\n",
       "      <td>ap</td>\n",
       "      <td>ap</td>\n",
       "      <td>ap_disconnect</td>\n",
       "      <td>boot_configuration_invalid</td>\n",
       "      <td>1</td>\n",
       "      <td>ap|ap|ap_disconnect|boot_configuration_invalid</td>\n",
       "    </tr>\n",
       "    <tr>\n",
       "      <th>2</th>\n",
       "      <td>ap</td>\n",
       "      <td>ap</td>\n",
       "      <td>ap_disconnect</td>\n",
       "      <td>cloud_cert_time_check_failure</td>\n",
       "      <td>2</td>\n",
       "      <td>ap|ap|ap_disconnect|cloud_cert_time_check_failure</td>\n",
       "    </tr>\n",
       "  </tbody>\n",
       "</table>\n",
       "</div>"
      ],
      "text/plain": [
       "  display_entity_type entity_type     event_name  \\\n",
       "0                  ap          ap  ap_disconnect   \n",
       "1                  ap          ap  ap_disconnect   \n",
       "2                  ap          ap  ap_disconnect   \n",
       "\n",
       "                           event_type  node_id  \\\n",
       "0  boot_configuration_broke_the_cloud        0   \n",
       "1          boot_configuration_invalid        1   \n",
       "2       cloud_cert_time_check_failure        2   \n",
       "\n",
       "                                     event_node_name  \n",
       "0  ap|ap|ap_disconnect|boot_configuration_broke_t...  \n",
       "1     ap|ap|ap_disconnect|boot_configuration_invalid  \n",
       "2  ap|ap|ap_disconnect|cloud_cert_time_check_failure  "
      ]
     },
     "execution_count": 28,
     "metadata": {},
     "output_type": "execute_result"
    }
   ],
   "source": [
    "df_eedict.head(3)"
   ]
  },
  {
   "cell_type": "code",
   "execution_count": 29,
   "id": "fe7714e4",
   "metadata": {},
   "outputs": [],
   "source": [
    "df_eedict[['node_id','event_node_name']].to_csv('./data/20220509/editedsamples/eedict.csv')"
   ]
  },
  {
   "cell_type": "code",
   "execution_count": null,
   "id": "7538d2e8",
   "metadata": {},
   "outputs": [],
   "source": []
  },
  {
   "cell_type": "markdown",
   "id": "2a34f99b",
   "metadata": {},
   "source": [
    "### Construct graph in PyG format"
   ]
  },
  {
   "cell_type": "code",
   "execution_count": 6,
   "id": "12f17f19",
   "metadata": {},
   "outputs": [],
   "source": [
    "import torch"
   ]
  },
  {
   "cell_type": "code",
   "execution_count": 7,
   "id": "af2a6355",
   "metadata": {},
   "outputs": [],
   "source": [
    "def load_node_csv(path, index_col, encoders=None, **kwargs):\n",
    "    df = pd.read_csv(path, index_col=index_col, **kwargs)\n",
    "    mapping = {index: i for i, index in enumerate(df.index.unique())}\n",
    "\n",
    "    x = None\n",
    "    if encoders is not None:\n",
    "        xs = [encoder(df[col]) for col, encoder in encoders.items()]\n",
    "        x = torch.cat(xs, dim=-1)\n",
    "\n",
    "    return x, mapping"
   ]
  },
  {
   "cell_type": "code",
   "execution_count": 8,
   "id": "e83031f3",
   "metadata": {},
   "outputs": [],
   "source": [
    "eedict_path = \"./data/20220509/editedsamples/eedict.csv\"\n",
    "_, ee_mapping = load_node_csv(eedict_path, index_col='node_id') # create a node-id for pyg internals from the node information file"
   ]
  },
  {
   "cell_type": "code",
   "execution_count": 9,
   "id": "2b88927b",
   "metadata": {},
   "outputs": [
    {
     "data": {
      "text/plain": [
       "dict"
      ]
     },
     "execution_count": 9,
     "metadata": {},
     "output_type": "execute_result"
    }
   ],
   "source": [
    "type(ee_mapping)"
   ]
  },
  {
   "cell_type": "code",
   "execution_count": 10,
   "id": "7efda185",
   "metadata": {},
   "outputs": [
    {
     "data": {
      "text/plain": [
       "dict_keys([0, 1, 2, 3, 4, 5, 6, 7, 8, 9, 10, 11, 12, 13, 14, 15, 16, 17, 18, 19, 20, 21, 22, 23, 24, 25, 26, 27, 28, 29, 30, 31, 32, 33, 34, 35, 36, 37, 38, 39, 40, 41, 42, 43, 44, 45, 46, 47, 48, 49, 50, 51, 52, 53, 54, 55, 56, 57, 58, 59, 60, 61, 62, 63, 64, 65, 66, 67, 68, 69, 70, 71, 72, 73, 74, 75, 76, 77, 78, 79, 80, 81, 82, 83, 84, 85, 86, 87, 88, 89])"
      ]
     },
     "execution_count": 10,
     "metadata": {},
     "output_type": "execute_result"
    }
   ],
   "source": [
    "ee_mapping.keys()"
   ]
  },
  {
   "cell_type": "code",
   "execution_count": 11,
   "id": "cfeccd57",
   "metadata": {},
   "outputs": [
    {
     "data": {
      "text/plain": [
       "(1, 89)"
      ]
     },
     "execution_count": 11,
     "metadata": {},
     "output_type": "execute_result"
    }
   ],
   "source": [
    "ee_mapping[1], ee_mapping[89]"
   ]
  },
  {
   "cell_type": "code",
   "execution_count": 12,
   "id": "5802cced",
   "metadata": {},
   "outputs": [],
   "source": [
    "from torch_geometric.data import HeteroData"
   ]
  },
  {
   "cell_type": "code",
   "execution_count": 27,
   "id": "1a5a9994",
   "metadata": {},
   "outputs": [
    {
     "name": "stdout",
     "output_type": "stream",
     "text": [
      "HeteroData(\n",
      "  \u001b[1mentity_event\u001b[0m={ num_nodes=90 }\n",
      ")\n"
     ]
    }
   ],
   "source": [
    "data = HeteroData()\n",
    "\n",
    "data['entity_event'].num_nodes = len(ee_mapping)  # entity event nodes do not have any features.\n",
    "print(data)"
   ]
  },
  {
   "cell_type": "code",
   "execution_count": 28,
   "id": "829bba70",
   "metadata": {},
   "outputs": [],
   "source": [
    "def load_edge_csv(path, src_index_col, src_mapping, dst_index_col, dst_mapping,\n",
    "                  encoders=None, **kwargs):\n",
    "    df = pd.read_csv(path, **kwargs)\n",
    "\n",
    "    src = [src_mapping[index] for index in df[src_index_col]]\n",
    "    dst = [dst_mapping[index] for index in df[dst_index_col]]\n",
    "    edge_index = torch.tensor([src, dst])\n",
    "\n",
    "    edge_attr = None\n",
    "    if encoders is not None:\n",
    "        edge_attrs = [encoder(df[col]) for col, encoder in encoders.items()]\n",
    "        edge_attr = torch.cat(edge_attrs, dim=-1)\n",
    "\n",
    "    return edge_index, edge_attr"
   ]
  },
  {
   "cell_type": "code",
   "execution_count": 29,
   "id": "d985cc3b",
   "metadata": {},
   "outputs": [],
   "source": [
    "class IdentityEncoder(object):\n",
    "    def __init__(self, dtype=None):\n",
    "        self.dtype = dtype\n",
    "\n",
    "    def __call__(self, df):\n",
    "        return torch.from_numpy(df.values).view(-1, 1).to(self.dtype)\n",
    "    \n",
    "#  for loading the ratings from the rating column in ratings.csv, we can define an IdentityEncoder \n",
    "# that simply converts a list of floating-point values into a PyTorch tensor"
   ]
  },
  {
   "cell_type": "code",
   "execution_count": 30,
   "id": "f1e2eb1a",
   "metadata": {},
   "outputs": [],
   "source": [
    "ee_edgespath = './data/20220509/editedsamples/eeseq.csv'\n",
    "\n",
    "edge_index, edge_label = load_edge_csv(\n",
    "    ee_edgespath,\n",
    "    src_index_col='event_node_name',\n",
    "    src_mapping=ee_mapping,\n",
    "    dst_index_col='event_node_name_to',\n",
    "    dst_mapping=ee_mapping,\n",
    "    encoders={'event_node_name_p1': IdentityEncoder(dtype=torch.long)},\n",
    ")"
   ]
  },
  {
   "cell_type": "code",
   "execution_count": 31,
   "id": "ccf50eaa",
   "metadata": {},
   "outputs": [
    {
     "name": "stdout",
     "output_type": "stream",
     "text": [
      "HeteroData(\n",
      "  \u001b[1mentity_event\u001b[0m={ num_nodes=90 },\n",
      "  \u001b[1m(entity_event, followed_by, entity_event)\u001b[0m={\n",
      "    edge_index=[2, 1252],\n",
      "    edge_label=[1252, 1]\n",
      "  }\n",
      ")\n"
     ]
    }
   ],
   "source": [
    "data['entity_event', 'followed_by', 'entity_event'].edge_index = edge_index\n",
    "data['entity_event', 'followed_by', 'entity_event'].edge_label = edge_label\n",
    "\n",
    "print(data)\n",
    "# HeteroData(\n",
    "#   user={ num_nodes=610 },\n",
    "#   movie={ x=[9742, 404] },\n",
    "#   (user, rates, movie)={\n",
    "#     edge_index=[2, 100836],\n",
    "#     edge_label=[100836, 1]\n",
    "#   }\n",
    "# )"
   ]
  },
  {
   "cell_type": "code",
   "execution_count": 32,
   "id": "ca337f62",
   "metadata": {},
   "outputs": [],
   "source": [
    "# We can now convert `data` into an appropriate format for training a\n",
    "# graph-based machine learning model:"
   ]
  },
  {
   "cell_type": "code",
   "execution_count": 33,
   "id": "c59dcf9b",
   "metadata": {},
   "outputs": [],
   "source": [
    "from torch_geometric.transforms import RandomLinkSplit, ToUndirected"
   ]
  },
  {
   "cell_type": "code",
   "execution_count": 34,
   "id": "8f2de225",
   "metadata": {},
   "outputs": [],
   "source": [
    "# 1. Add a reverse ('movie', 'rev_rates', 'user') relation for message passing.\n",
    "data = ToUndirected()(data)"
   ]
  },
  {
   "cell_type": "code",
   "execution_count": 35,
   "id": "c68bb744",
   "metadata": {},
   "outputs": [
    {
     "name": "stdout",
     "output_type": "stream",
     "text": [
      "HeteroData(\n",
      "  \u001b[1mentity_event\u001b[0m={ num_nodes=90 },\n",
      "  \u001b[1m(entity_event, followed_by, entity_event)\u001b[0m={\n",
      "    edge_index=[2, 1568],\n",
      "    edge_label=[1568, 1]\n",
      "  }\n",
      ")\n"
     ]
    }
   ],
   "source": [
    "print(data)"
   ]
  },
  {
   "cell_type": "code",
   "execution_count": 36,
   "id": "c44790f4",
   "metadata": {},
   "outputs": [
    {
     "data": {
      "text/plain": [
       "[('entity_event', 'followed_by', 'entity_event')]"
      ]
     },
     "execution_count": 36,
     "metadata": {},
     "output_type": "execute_result"
    }
   ],
   "source": [
    "data.edge_types"
   ]
  },
  {
   "cell_type": "code",
   "execution_count": 37,
   "id": "b2139dd4",
   "metadata": {},
   "outputs": [
    {
     "data": {
      "text/plain": [
       "(['entity_event'], [('entity_event', 'followed_by', 'entity_event')])"
      ]
     },
     "execution_count": 37,
     "metadata": {},
     "output_type": "execute_result"
    }
   ],
   "source": [
    "data.metadata()"
   ]
  },
  {
   "cell_type": "code",
   "execution_count": 24,
   "id": "5a4b8681",
   "metadata": {},
   "outputs": [],
   "source": [
    "# del data['entity_event', 'rev_followed_by', 'entity_event'].edge_label"
   ]
  },
  {
   "cell_type": "code",
   "execution_count": 25,
   "id": "581be449",
   "metadata": {},
   "outputs": [],
   "source": [
    "device = torch.device('cuda' if torch.cuda.is_available() else 'cpu')"
   ]
  },
  {
   "cell_type": "code",
   "execution_count": 38,
   "id": "95756f8c",
   "metadata": {},
   "outputs": [
    {
     "name": "stdout",
     "output_type": "stream",
     "text": [
      "HeteroData(\n",
      "  \u001b[1mentity_event\u001b[0m={ x=[90, 90] },\n",
      "  \u001b[1m(entity_event, followed_by, entity_event)\u001b[0m={\n",
      "    edge_index=[2, 1568],\n",
      "    edge_label=[1568, 1]\n",
      "  }\n",
      ")\n"
     ]
    }
   ],
   "source": [
    "# add one-hot encoding vector for user nodes\n",
    "# Add user node features for message passing:\n",
    "data['entity_event'].x = torch.eye(data['entity_event'].num_nodes, device=device)\n",
    "del data['entity_event'].num_nodes\n",
    "print(data)"
   ]
  },
  {
   "cell_type": "code",
   "execution_count": null,
   "id": "948945b8",
   "metadata": {},
   "outputs": [],
   "source": []
  },
  {
   "cell_type": "code",
   "execution_count": null,
   "id": "a1250b22",
   "metadata": {},
   "outputs": [],
   "source": []
  },
  {
   "cell_type": "code",
   "execution_count": null,
   "id": "ef6cae4f",
   "metadata": {},
   "outputs": [],
   "source": []
  },
  {
   "cell_type": "code",
   "execution_count": 39,
   "id": "3aab0886",
   "metadata": {},
   "outputs": [
    {
     "name": "stdout",
     "output_type": "stream",
     "text": [
      "HeteroData(\n",
      "  \u001b[1mentity_event\u001b[0m={ x=[90, 90] },\n",
      "  \u001b[1m(entity_event, followed_by, entity_event)\u001b[0m={\n",
      "    edge_index=[2, 1334],\n",
      "    edge_label=[1334, 1],\n",
      "    edge_label_index=[2, 1334]\n",
      "  }\n",
      ")\n",
      "HeteroData(\n",
      "  \u001b[1mentity_event\u001b[0m={ x=[90, 90] },\n",
      "  \u001b[1m(entity_event, followed_by, entity_event)\u001b[0m={\n",
      "    edge_index=[2, 1334],\n",
      "    edge_label=[78, 1],\n",
      "    edge_label_index=[2, 78]\n",
      "  }\n",
      ")\n",
      "HeteroData(\n",
      "  \u001b[1mentity_event\u001b[0m={ x=[90, 90] },\n",
      "  \u001b[1m(entity_event, followed_by, entity_event)\u001b[0m={\n",
      "    edge_index=[2, 1412],\n",
      "    edge_label=[156, 1],\n",
      "    edge_label_index=[2, 156]\n",
      "  }\n",
      ")\n"
     ]
    }
   ],
   "source": [
    "# del data['movie', 'rev_rates', 'user'].edge_label  # Remove \"reverse\" label.\n",
    "\n",
    "# 2. Perform a link-level split into training, validation, and test edges.\n",
    "transform = RandomLinkSplit(\n",
    "    num_val=0.05,\n",
    "    num_test=0.1,\n",
    "    neg_sampling_ratio=0.0,\n",
    "    edge_types=[('entity_event', 'followed_by', 'entity_event')],\n",
    "    rev_edge_types=[None],\n",
    ")\n",
    "train_data, val_data, test_data = transform(data)\n",
    "print(train_data)\n",
    "print(val_data)\n",
    "print(test_data)"
   ]
  },
  {
   "cell_type": "code",
   "execution_count": 40,
   "id": "c99253fe",
   "metadata": {},
   "outputs": [
    {
     "data": {
      "text/plain": [
       "torch_geometric.data.hetero_data.HeteroData"
      ]
     },
     "execution_count": 40,
     "metadata": {},
     "output_type": "execute_result"
    }
   ],
   "source": [
    "type(data)"
   ]
  },
  {
   "cell_type": "code",
   "execution_count": null,
   "id": "06af5547",
   "metadata": {},
   "outputs": [],
   "source": []
  },
  {
   "cell_type": "markdown",
   "id": "b78a02f5",
   "metadata": {},
   "source": [
    "#### run graphsage"
   ]
  },
  {
   "cell_type": "code",
   "execution_count": 41,
   "id": "6dc74c73",
   "metadata": {},
   "outputs": [],
   "source": [
    "import torch.nn as nn\n",
    "import torch.nn.functional as F\n",
    "from sklearn.linear_model import LogisticRegression\n",
    "\n",
    "import torch_geometric.transforms as T\n",
    "from torch_geometric.loader import NeighborSampler as RawNeighborSampler\n",
    "from torch_geometric.nn import SAGEConv"
   ]
  },
  {
   "cell_type": "code",
   "execution_count": 42,
   "id": "c615f328",
   "metadata": {},
   "outputs": [],
   "source": [
    "from torch_cluster import random_walk"
   ]
  },
  {
   "cell_type": "code",
   "execution_count": 43,
   "id": "b3a1f4e1",
   "metadata": {},
   "outputs": [],
   "source": [
    "class NeighborSampler(RawNeighborSampler):\n",
    "    def sample(self, batch):\n",
    "        batch = torch.tensor(batch)\n",
    "        row, col, _ = self.adj_t.coo()\n",
    "\n",
    "        # For each node in `batch`, we sample a direct neighbor (as positive\n",
    "        # example) and a random node (as negative example):\n",
    "        pos_batch = random_walk(row, col, batch, walk_length=1,\n",
    "                                coalesced=False)[:, 1]\n",
    "\n",
    "        neg_batch = torch.randint(0, self.adj_t.size(1), (batch.numel(), ),\n",
    "                                  dtype=torch.long)\n",
    "\n",
    "        batch = torch.cat([batch, pos_batch, neg_batch], dim=0)\n",
    "        return super().sample(batch)\n"
   ]
  },
  {
   "cell_type": "code",
   "execution_count": 44,
   "id": "0d1959ca",
   "metadata": {},
   "outputs": [
    {
     "name": "stdout",
     "output_type": "stream",
     "text": [
      "Data(node_type=[90], x=[90, 90], edge_index=[2, 1334], edge_type=[1334], edge_label=[1334, 1], edge_label_index=[2, 1334])\n"
     ]
    }
   ],
   "source": [
    "train_data_homo = train_data.to_homogeneous()\n",
    "print(train_data_homo)"
   ]
  },
  {
   "cell_type": "code",
   "execution_count": 45,
   "id": "63621ae6",
   "metadata": {},
   "outputs": [],
   "source": [
    "train_loader = NeighborSampler(train_data_homo.edge_index, sizes=[10, 10], batch_size=256,\n",
    "                               shuffle=True, num_nodes=train_data_homo.num_nodes)"
   ]
  },
  {
   "cell_type": "code",
   "execution_count": 46,
   "id": "0264b151",
   "metadata": {},
   "outputs": [
    {
     "name": "stdout",
     "output_type": "stream",
     "text": [
      "Data(node_type=[90], x=[90, 90], edge_index=[2, 1334], edge_type=[1334], edge_label=[78, 1], edge_label_index=[2, 78])\n"
     ]
    }
   ],
   "source": [
    "val_data_homo = val_data.to_homogeneous()\n",
    "print(val_data_homo)"
   ]
  },
  {
   "cell_type": "code",
   "execution_count": 47,
   "id": "692b58df",
   "metadata": {},
   "outputs": [],
   "source": [
    "val_loader = NeighborSampler(val_data_homo.edge_index, sizes=[10, 10], batch_size=256,\n",
    "                               shuffle=True, num_nodes=val_data_homo.num_nodes)"
   ]
  },
  {
   "cell_type": "code",
   "execution_count": 48,
   "id": "57fb2675",
   "metadata": {},
   "outputs": [],
   "source": [
    "class SAGE(nn.Module):\n",
    "    def __init__(self, in_channels, hidden_channels, num_layers):\n",
    "        super().__init__()\n",
    "        self.num_layers = num_layers\n",
    "        self.convs = nn.ModuleList()\n",
    "        for i in range(num_layers):\n",
    "            in_channels = in_channels if i == 0 else hidden_channels\n",
    "            self.convs.append(SAGEConv(in_channels, hidden_channels))\n",
    "\n",
    "    def forward(self, x, adjs):\n",
    "        for i, (edge_index, _, size) in enumerate(adjs):\n",
    "            x_target = x[:size[1]]  # Target nodes are always placed first.\n",
    "            x = self.convs[i]((x, x_target), edge_index)\n",
    "            if i != self.num_layers - 1:\n",
    "                x = x.relu()\n",
    "                x = F.dropout(x, p=0.5, training=self.training)\n",
    "        return x\n",
    "\n",
    "    def full_forward(self, x, edge_index):\n",
    "        for i, conv in enumerate(self.convs):\n",
    "            x = conv(x, edge_index)\n",
    "            if i != self.num_layers - 1:\n",
    "                x = x.relu()\n",
    "                x = F.dropout(x, p=0.5, training=self.training)\n",
    "        return x"
   ]
  },
  {
   "cell_type": "code",
   "execution_count": 50,
   "id": "8786e834",
   "metadata": {},
   "outputs": [
    {
     "data": {
      "text/plain": [
       "90"
      ]
     },
     "execution_count": 50,
     "metadata": {},
     "output_type": "execute_result"
    }
   ],
   "source": [
    "train_data_homo.num_node_features"
   ]
  },
  {
   "cell_type": "code",
   "execution_count": 51,
   "id": "66e21a1b",
   "metadata": {},
   "outputs": [],
   "source": [
    "def train():\n",
    "    model.train()\n",
    "\n",
    "    total_loss = 0\n",
    "    for batch_size, n_id, adjs in train_loader:\n",
    "        # `adjs` holds a list of `(edge_index, e_id, size)` tuples.\n",
    "        adjs = [adj.to(device) for adj in adjs]\n",
    "        optimizer.zero_grad()\n",
    "\n",
    "        out = model(x[n_id], adjs)\n",
    "        out, pos_out, neg_out = out.split(out.size(0) // 3, dim=0)\n",
    "\n",
    "        pos_loss = F.logsigmoid((out * pos_out).sum(-1)).mean()\n",
    "        neg_loss = F.logsigmoid(-(out * neg_out).sum(-1)).mean()\n",
    "        loss = -pos_loss - neg_loss\n",
    "        loss.backward()\n",
    "        optimizer.step()\n",
    "\n",
    "        total_loss += float(loss) * out.size(0)\n",
    "\n",
    "    return total_loss / train_data_homo.num_nodes\n",
    "\n",
    "\n"
   ]
  },
  {
   "cell_type": "code",
   "execution_count": 52,
   "id": "936bc71a",
   "metadata": {},
   "outputs": [],
   "source": [
    "@torch.no_grad()\n",
    "def test():\n",
    "    model.eval()\n",
    "    total_loss = 0\n",
    "    for batch_size, n_id, adjs in val_loader:\n",
    "        # `adjs` holds a list of `(edge_index, e_id, size)` tuples.\n",
    "        adjs = [adj.to(device) for adj in adjs]\n",
    "#         optimizer.zero_grad()\n",
    "\n",
    "        out = model(x_val[n_id], adjs)\n",
    "        out, pos_out, neg_out = out.split(out.size(0) // 3, dim=0)\n",
    "\n",
    "        pos_loss = F.logsigmoid((out * pos_out).sum(-1)).mean()\n",
    "        neg_loss = F.logsigmoid(-(out * neg_out).sum(-1)).mean()\n",
    "        loss = -pos_loss - neg_loss\n",
    "#         loss.backward()\n",
    "#         optimizer.step()\n",
    "\n",
    "        total_loss += float(loss) * out.size(0)\n",
    "\n",
    "    return total_loss / val_data_homo.num_nodes"
   ]
  },
  {
   "cell_type": "code",
   "execution_count": 114,
   "id": "ec12ab2d",
   "metadata": {},
   "outputs": [],
   "source": [
    "# device = torch.device('cuda' if torch.cuda.is_available() else 'cpu')\n",
    "model = SAGE(train_data_homo.num_node_features, hidden_channels=64, num_layers=2)\n",
    "model = model.to(device)\n",
    "optimizer = torch.optim.Adam(model.parameters(), lr=0.0001,weight_decay=0.9)\n",
    "x, edge_index = train_data_homo.x.to(device), train_data_homo.edge_index.to(device)"
   ]
  },
  {
   "cell_type": "code",
   "execution_count": 115,
   "id": "7c3da807",
   "metadata": {},
   "outputs": [],
   "source": [
    "x_val, edge_index_val = val_data_homo.x.to(device), val_data_homo.edge_index.to(device)"
   ]
  },
  {
   "cell_type": "code",
   "execution_count": 116,
   "id": "af6fb0fa",
   "metadata": {
    "scrolled": true
   },
   "outputs": [
    {
     "name": "stdout",
     "output_type": "stream",
     "text": [
      "Epoch: 001, Loss: 1.4486, Val: 1.4444\n",
      "Epoch: 002, Loss: 1.4405, Val: 1.4458\n",
      "Epoch: 003, Loss: 1.4491, Val: 1.4501\n",
      "Epoch: 004, Loss: 1.4526, Val: 1.4462\n",
      "Epoch: 005, Loss: 1.4484, Val: 1.4480\n",
      "Epoch: 006, Loss: 1.4435, Val: 1.4460\n",
      "Epoch: 007, Loss: 1.4395, Val: 1.4495\n",
      "Epoch: 008, Loss: 1.4449, Val: 1.4434\n",
      "Epoch: 009, Loss: 1.4481, Val: 1.4443\n",
      "Epoch: 010, Loss: 1.4389, Val: 1.4460\n",
      "Epoch: 011, Loss: 1.4438, Val: 1.4448\n",
      "Epoch: 012, Loss: 1.4569, Val: 1.4403\n",
      "Epoch: 013, Loss: 1.4349, Val: 1.4404\n",
      "Epoch: 014, Loss: 1.4417, Val: 1.4425\n",
      "Epoch: 015, Loss: 1.4451, Val: 1.4408\n",
      "Epoch: 016, Loss: 1.4398, Val: 1.4381\n",
      "Epoch: 017, Loss: 1.4400, Val: 1.4405\n",
      "Epoch: 018, Loss: 1.4443, Val: 1.4428\n",
      "Epoch: 019, Loss: 1.4434, Val: 1.4422\n",
      "Epoch: 020, Loss: 1.4364, Val: 1.4411\n",
      "Epoch: 021, Loss: 1.4388, Val: 1.4353\n",
      "Epoch: 022, Loss: 1.4367, Val: 1.4369\n",
      "Epoch: 023, Loss: 1.4427, Val: 1.4351\n",
      "Epoch: 024, Loss: 1.4413, Val: 1.4345\n",
      "Epoch: 025, Loss: 1.4326, Val: 1.4333\n",
      "Epoch: 026, Loss: 1.4371, Val: 1.4348\n",
      "Epoch: 027, Loss: 1.4435, Val: 1.4362\n",
      "Epoch: 028, Loss: 1.4338, Val: 1.4355\n",
      "Epoch: 029, Loss: 1.4438, Val: 1.4342\n",
      "Epoch: 030, Loss: 1.4318, Val: 1.4334\n",
      "Epoch: 031, Loss: 1.4420, Val: 1.4369\n",
      "Epoch: 032, Loss: 1.4402, Val: 1.4327\n",
      "Epoch: 033, Loss: 1.4336, Val: 1.4332\n",
      "Epoch: 034, Loss: 1.4334, Val: 1.4319\n",
      "Epoch: 035, Loss: 1.4247, Val: 1.4292\n",
      "Epoch: 036, Loss: 1.4313, Val: 1.4295\n",
      "Epoch: 037, Loss: 1.4322, Val: 1.4330\n",
      "Epoch: 038, Loss: 1.4309, Val: 1.4320\n",
      "Epoch: 039, Loss: 1.4251, Val: 1.4295\n",
      "Epoch: 040, Loss: 1.4267, Val: 1.4325\n",
      "Epoch: 041, Loss: 1.4240, Val: 1.4272\n",
      "Epoch: 042, Loss: 1.4313, Val: 1.4282\n",
      "Epoch: 043, Loss: 1.4342, Val: 1.4296\n",
      "Epoch: 044, Loss: 1.4304, Val: 1.4291\n",
      "Epoch: 045, Loss: 1.4259, Val: 1.4325\n",
      "Epoch: 046, Loss: 1.4298, Val: 1.4271\n",
      "Epoch: 047, Loss: 1.4282, Val: 1.4284\n",
      "Epoch: 048, Loss: 1.4275, Val: 1.4288\n",
      "Epoch: 049, Loss: 1.4316, Val: 1.4295\n",
      "Epoch: 050, Loss: 1.4286, Val: 1.4259\n",
      "Epoch: 051, Loss: 1.4355, Val: 1.4257\n",
      "Epoch: 052, Loss: 1.4311, Val: 1.4260\n",
      "Epoch: 053, Loss: 1.4318, Val: 1.4247\n",
      "Epoch: 054, Loss: 1.4192, Val: 1.4270\n",
      "Epoch: 055, Loss: 1.4257, Val: 1.4270\n",
      "Epoch: 056, Loss: 1.4272, Val: 1.4246\n",
      "Epoch: 057, Loss: 1.4374, Val: 1.4231\n",
      "Epoch: 058, Loss: 1.4293, Val: 1.4229\n",
      "Epoch: 059, Loss: 1.4319, Val: 1.4268\n",
      "Epoch: 060, Loss: 1.4325, Val: 1.4265\n",
      "Epoch: 061, Loss: 1.4243, Val: 1.4224\n",
      "Epoch: 062, Loss: 1.4184, Val: 1.4237\n",
      "Epoch: 063, Loss: 1.4203, Val: 1.4238\n",
      "Epoch: 064, Loss: 1.4238, Val: 1.4259\n",
      "Epoch: 065, Loss: 1.4165, Val: 1.4260\n",
      "Epoch: 066, Loss: 1.4218, Val: 1.4227\n",
      "Epoch: 067, Loss: 1.4233, Val: 1.4218\n",
      "Epoch: 068, Loss: 1.4239, Val: 1.4209\n",
      "Epoch: 069, Loss: 1.4310, Val: 1.4208\n",
      "Epoch: 070, Loss: 1.4216, Val: 1.4197\n",
      "Epoch: 071, Loss: 1.4181, Val: 1.4230\n",
      "Epoch: 072, Loss: 1.4242, Val: 1.4218\n",
      "Epoch: 073, Loss: 1.4246, Val: 1.4209\n",
      "Epoch: 074, Loss: 1.4236, Val: 1.4214\n",
      "Epoch: 075, Loss: 1.4221, Val: 1.4221\n",
      "Epoch: 076, Loss: 1.4216, Val: 1.4215\n",
      "Epoch: 077, Loss: 1.4247, Val: 1.4195\n",
      "Epoch: 078, Loss: 1.4271, Val: 1.4202\n",
      "Epoch: 079, Loss: 1.4201, Val: 1.4211\n",
      "Epoch: 080, Loss: 1.4217, Val: 1.4178\n",
      "Epoch: 081, Loss: 1.4161, Val: 1.4138\n",
      "Epoch: 082, Loss: 1.4162, Val: 1.4170\n",
      "Epoch: 083, Loss: 1.4224, Val: 1.4187\n",
      "Epoch: 084, Loss: 1.4140, Val: 1.4191\n",
      "Epoch: 085, Loss: 1.4199, Val: 1.4171\n",
      "Epoch: 086, Loss: 1.4203, Val: 1.4171\n",
      "Epoch: 087, Loss: 1.4179, Val: 1.4189\n",
      "Epoch: 088, Loss: 1.4232, Val: 1.4158\n",
      "Epoch: 089, Loss: 1.4171, Val: 1.4165\n",
      "Epoch: 090, Loss: 1.4168, Val: 1.4189\n",
      "Epoch: 091, Loss: 1.4153, Val: 1.4195\n",
      "Epoch: 092, Loss: 1.4198, Val: 1.4168\n",
      "Epoch: 093, Loss: 1.4178, Val: 1.4166\n",
      "Epoch: 094, Loss: 1.4177, Val: 1.4206\n",
      "Epoch: 095, Loss: 1.4221, Val: 1.4167\n",
      "Epoch: 096, Loss: 1.4156, Val: 1.4151\n",
      "Epoch: 097, Loss: 1.4171, Val: 1.4153\n",
      "Epoch: 098, Loss: 1.4192, Val: 1.4143\n",
      "Epoch: 099, Loss: 1.4165, Val: 1.4159\n",
      "Epoch: 100, Loss: 1.4154, Val: 1.4141\n",
      "Epoch: 101, Loss: 1.4131, Val: 1.4142\n",
      "Epoch: 102, Loss: 1.4154, Val: 1.4121\n",
      "Epoch: 103, Loss: 1.4201, Val: 1.4146\n",
      "Epoch: 104, Loss: 1.4206, Val: 1.4136\n",
      "Epoch: 105, Loss: 1.4161, Val: 1.4142\n",
      "Epoch: 106, Loss: 1.4180, Val: 1.4148\n",
      "Epoch: 107, Loss: 1.4111, Val: 1.4141\n",
      "Epoch: 108, Loss: 1.4186, Val: 1.4118\n",
      "Epoch: 109, Loss: 1.4109, Val: 1.4144\n",
      "Epoch: 110, Loss: 1.4106, Val: 1.4111\n",
      "Epoch: 111, Loss: 1.4125, Val: 1.4125\n",
      "Epoch: 112, Loss: 1.4136, Val: 1.4127\n",
      "Epoch: 113, Loss: 1.4127, Val: 1.4091\n",
      "Epoch: 114, Loss: 1.4106, Val: 1.4121\n",
      "Epoch: 115, Loss: 1.4139, Val: 1.4137\n",
      "Epoch: 116, Loss: 1.4127, Val: 1.4121\n",
      "Epoch: 117, Loss: 1.4128, Val: 1.4111\n",
      "Epoch: 118, Loss: 1.4152, Val: 1.4131\n",
      "Epoch: 119, Loss: 1.4112, Val: 1.4125\n",
      "Epoch: 120, Loss: 1.4128, Val: 1.4108\n",
      "Epoch: 121, Loss: 1.4094, Val: 1.4114\n",
      "Epoch: 122, Loss: 1.4158, Val: 1.4123\n",
      "Epoch: 123, Loss: 1.4119, Val: 1.4112\n",
      "Epoch: 124, Loss: 1.4109, Val: 1.4119\n",
      "Epoch: 125, Loss: 1.4126, Val: 1.4095\n",
      "Epoch: 126, Loss: 1.4109, Val: 1.4113\n",
      "Epoch: 127, Loss: 1.4099, Val: 1.4110\n",
      "Epoch: 128, Loss: 1.4127, Val: 1.4114\n",
      "Epoch: 129, Loss: 1.4152, Val: 1.4098\n",
      "Epoch: 130, Loss: 1.4097, Val: 1.4090\n",
      "Epoch: 131, Loss: 1.4123, Val: 1.4092\n",
      "Epoch: 132, Loss: 1.4103, Val: 1.4090\n",
      "Epoch: 133, Loss: 1.4095, Val: 1.4122\n",
      "Epoch: 134, Loss: 1.4046, Val: 1.4092\n",
      "Epoch: 135, Loss: 1.4117, Val: 1.4093\n",
      "Epoch: 136, Loss: 1.4124, Val: 1.4080\n",
      "Epoch: 137, Loss: 1.4106, Val: 1.4088\n",
      "Epoch: 138, Loss: 1.4101, Val: 1.4116\n",
      "Epoch: 139, Loss: 1.4078, Val: 1.4070\n",
      "Epoch: 140, Loss: 1.4090, Val: 1.4085\n",
      "Epoch: 141, Loss: 1.4101, Val: 1.4094\n",
      "Epoch: 142, Loss: 1.4086, Val: 1.4091\n",
      "Epoch: 143, Loss: 1.4061, Val: 1.4071\n",
      "Epoch: 144, Loss: 1.4068, Val: 1.4065\n",
      "Epoch: 145, Loss: 1.4027, Val: 1.4069\n",
      "Epoch: 146, Loss: 1.4089, Val: 1.4067\n",
      "Epoch: 147, Loss: 1.4112, Val: 1.4048\n",
      "Epoch: 148, Loss: 1.4071, Val: 1.4083\n",
      "Epoch: 149, Loss: 1.4059, Val: 1.4070\n",
      "Epoch: 150, Loss: 1.4091, Val: 1.4074\n",
      "Epoch: 151, Loss: 1.4065, Val: 1.4092\n",
      "Epoch: 152, Loss: 1.4055, Val: 1.4059\n",
      "Epoch: 153, Loss: 1.4032, Val: 1.4067\n",
      "Epoch: 154, Loss: 1.4070, Val: 1.4058\n",
      "Epoch: 155, Loss: 1.4057, Val: 1.4062\n",
      "Epoch: 156, Loss: 1.4052, Val: 1.4050\n",
      "Epoch: 157, Loss: 1.4109, Val: 1.4070\n",
      "Epoch: 158, Loss: 1.4037, Val: 1.4054\n",
      "Epoch: 159, Loss: 1.4037, Val: 1.4076\n",
      "Epoch: 160, Loss: 1.4061, Val: 1.4060\n",
      "Epoch: 161, Loss: 1.4064, Val: 1.4068\n",
      "Epoch: 162, Loss: 1.4030, Val: 1.4058\n",
      "Epoch: 163, Loss: 1.4067, Val: 1.4055\n",
      "Epoch: 164, Loss: 1.4048, Val: 1.4053\n",
      "Epoch: 165, Loss: 1.4060, Val: 1.4037\n",
      "Epoch: 166, Loss: 1.4058, Val: 1.4049\n",
      "Epoch: 167, Loss: 1.4012, Val: 1.4058\n",
      "Epoch: 168, Loss: 1.4069, Val: 1.4046\n",
      "Epoch: 169, Loss: 1.4012, Val: 1.4045\n",
      "Epoch: 170, Loss: 1.4021, Val: 1.4054\n",
      "Epoch: 171, Loss: 1.4084, Val: 1.4030\n",
      "Epoch: 172, Loss: 1.4016, Val: 1.4039\n",
      "Epoch: 173, Loss: 1.4088, Val: 1.4030\n",
      "Epoch: 174, Loss: 1.4068, Val: 1.4033\n",
      "Epoch: 175, Loss: 1.4027, Val: 1.4036\n",
      "Epoch: 176, Loss: 1.4006, Val: 1.4035\n",
      "Epoch: 177, Loss: 1.4064, Val: 1.4033\n",
      "Epoch: 178, Loss: 1.4018, Val: 1.4050\n",
      "Epoch: 179, Loss: 1.4036, Val: 1.4041\n",
      "Epoch: 180, Loss: 1.4024, Val: 1.4035\n",
      "Epoch: 181, Loss: 1.4088, Val: 1.4021\n",
      "Epoch: 182, Loss: 1.4026, Val: 1.4031\n",
      "Epoch: 183, Loss: 1.4035, Val: 1.4036\n",
      "Epoch: 184, Loss: 1.4052, Val: 1.4029\n",
      "Epoch: 185, Loss: 1.4058, Val: 1.4037\n",
      "Epoch: 186, Loss: 1.4038, Val: 1.4034\n",
      "Epoch: 187, Loss: 1.4020, Val: 1.4035\n",
      "Epoch: 188, Loss: 1.4020, Val: 1.4026\n",
      "Epoch: 189, Loss: 1.4029, Val: 1.4024\n",
      "Epoch: 190, Loss: 1.4039, Val: 1.4017\n",
      "Epoch: 191, Loss: 1.3985, Val: 1.4023\n",
      "Epoch: 192, Loss: 1.4037, Val: 1.4019\n",
      "Epoch: 193, Loss: 1.4043, Val: 1.4013\n",
      "Epoch: 194, Loss: 1.4054, Val: 1.4023\n",
      "Epoch: 195, Loss: 1.4021, Val: 1.4024\n",
      "Epoch: 196, Loss: 1.4015, Val: 1.4017\n",
      "Epoch: 197, Loss: 1.4020, Val: 1.4012\n",
      "Epoch: 198, Loss: 1.4031, Val: 1.4018\n",
      "Epoch: 199, Loss: 1.4023, Val: 1.4012\n",
      "Epoch: 200, Loss: 1.4022, Val: 1.4020\n",
      "Epoch: 201, Loss: 1.4051, Val: 1.4026\n",
      "Epoch: 202, Loss: 1.4028, Val: 1.4034\n",
      "Epoch: 203, Loss: 1.4011, Val: 1.3999\n",
      "Epoch: 204, Loss: 1.4008, Val: 1.4021\n",
      "Epoch: 205, Loss: 1.4011, Val: 1.4014\n",
      "Epoch: 206, Loss: 1.4025, Val: 1.4004\n",
      "Epoch: 207, Loss: 1.4011, Val: 1.4011\n",
      "Epoch: 208, Loss: 1.3994, Val: 1.4016\n",
      "Epoch: 209, Loss: 1.4034, Val: 1.4013\n",
      "Epoch: 210, Loss: 1.4012, Val: 1.4009\n",
      "Epoch: 211, Loss: 1.4022, Val: 1.4015\n",
      "Epoch: 212, Loss: 1.3998, Val: 1.4005\n",
      "Epoch: 213, Loss: 1.4023, Val: 1.4001\n",
      "Epoch: 214, Loss: 1.4023, Val: 1.3999\n",
      "Epoch: 215, Loss: 1.4031, Val: 1.4002\n",
      "Epoch: 216, Loss: 1.3986, Val: 1.4009\n",
      "Epoch: 217, Loss: 1.4007, Val: 1.4015\n",
      "Epoch: 218, Loss: 1.4003, Val: 1.3998\n",
      "Epoch: 219, Loss: 1.4001, Val: 1.4001\n",
      "Epoch: 220, Loss: 1.4010, Val: 1.4004\n",
      "Epoch: 221, Loss: 1.4006, Val: 1.3996\n",
      "Epoch: 222, Loss: 1.3996, Val: 1.4016\n",
      "Epoch: 223, Loss: 1.3987, Val: 1.3996\n",
      "Epoch: 224, Loss: 1.3978, Val: 1.4002\n",
      "Epoch: 225, Loss: 1.4002, Val: 1.3994\n",
      "Epoch: 226, Loss: 1.4018, Val: 1.3995\n",
      "Epoch: 227, Loss: 1.4011, Val: 1.3988\n",
      "Epoch: 228, Loss: 1.3980, Val: 1.3982\n"
     ]
    },
    {
     "name": "stdout",
     "output_type": "stream",
     "text": [
      "Epoch: 229, Loss: 1.4007, Val: 1.3989\n",
      "Epoch: 230, Loss: 1.3995, Val: 1.3983\n",
      "Epoch: 231, Loss: 1.3974, Val: 1.3995\n",
      "Epoch: 232, Loss: 1.3998, Val: 1.3992\n",
      "Epoch: 233, Loss: 1.3968, Val: 1.3979\n",
      "Epoch: 234, Loss: 1.4006, Val: 1.3987\n",
      "Epoch: 235, Loss: 1.3996, Val: 1.3985\n",
      "Epoch: 236, Loss: 1.3998, Val: 1.3983\n",
      "Epoch: 237, Loss: 1.4004, Val: 1.3987\n",
      "Epoch: 238, Loss: 1.4017, Val: 1.3983\n",
      "Epoch: 239, Loss: 1.3971, Val: 1.3983\n",
      "Epoch: 240, Loss: 1.4003, Val: 1.3981\n",
      "Epoch: 241, Loss: 1.3977, Val: 1.3980\n",
      "Epoch: 242, Loss: 1.3990, Val: 1.3974\n",
      "Epoch: 243, Loss: 1.4021, Val: 1.3985\n",
      "Epoch: 244, Loss: 1.3965, Val: 1.3979\n",
      "Epoch: 245, Loss: 1.3989, Val: 1.3988\n",
      "Epoch: 246, Loss: 1.3948, Val: 1.3982\n",
      "Epoch: 247, Loss: 1.3978, Val: 1.3974\n",
      "Epoch: 248, Loss: 1.3978, Val: 1.3983\n",
      "Epoch: 249, Loss: 1.3977, Val: 1.3975\n",
      "Epoch: 250, Loss: 1.3990, Val: 1.3964\n",
      "Epoch: 251, Loss: 1.3990, Val: 1.3988\n",
      "Epoch: 252, Loss: 1.3982, Val: 1.3974\n",
      "Epoch: 253, Loss: 1.3982, Val: 1.3967\n",
      "Epoch: 254, Loss: 1.3970, Val: 1.3982\n",
      "Epoch: 255, Loss: 1.3976, Val: 1.3976\n",
      "Epoch: 256, Loss: 1.3969, Val: 1.3969\n",
      "Epoch: 257, Loss: 1.3985, Val: 1.3973\n",
      "Epoch: 258, Loss: 1.3991, Val: 1.3981\n",
      "Epoch: 259, Loss: 1.3971, Val: 1.3961\n",
      "Epoch: 260, Loss: 1.4004, Val: 1.3970\n",
      "Epoch: 261, Loss: 1.3987, Val: 1.3967\n",
      "Epoch: 262, Loss: 1.3951, Val: 1.3971\n",
      "Epoch: 263, Loss: 1.3983, Val: 1.3967\n",
      "Epoch: 264, Loss: 1.3973, Val: 1.3978\n",
      "Epoch: 265, Loss: 1.3958, Val: 1.3961\n",
      "Epoch: 266, Loss: 1.3983, Val: 1.3966\n",
      "Epoch: 267, Loss: 1.3957, Val: 1.3963\n",
      "Epoch: 268, Loss: 1.3961, Val: 1.3963\n",
      "Epoch: 269, Loss: 1.3985, Val: 1.3972\n",
      "Epoch: 270, Loss: 1.3968, Val: 1.3962\n",
      "Epoch: 271, Loss: 1.3972, Val: 1.3958\n",
      "Epoch: 272, Loss: 1.3966, Val: 1.3966\n",
      "Epoch: 273, Loss: 1.3958, Val: 1.3968\n",
      "Epoch: 274, Loss: 1.3968, Val: 1.3974\n",
      "Epoch: 275, Loss: 1.3974, Val: 1.3960\n",
      "Epoch: 276, Loss: 1.3956, Val: 1.3958\n",
      "Epoch: 277, Loss: 1.3965, Val: 1.3958\n",
      "Epoch: 278, Loss: 1.3954, Val: 1.3964\n",
      "Epoch: 279, Loss: 1.3975, Val: 1.3948\n",
      "Epoch: 280, Loss: 1.3967, Val: 1.3946\n",
      "Epoch: 281, Loss: 1.3949, Val: 1.3961\n",
      "Epoch: 282, Loss: 1.3977, Val: 1.3950\n",
      "Epoch: 283, Loss: 1.3972, Val: 1.3956\n",
      "Epoch: 284, Loss: 1.3965, Val: 1.3951\n",
      "Epoch: 285, Loss: 1.3943, Val: 1.3958\n",
      "Epoch: 286, Loss: 1.3957, Val: 1.3945\n",
      "Epoch: 287, Loss: 1.3939, Val: 1.3958\n",
      "Epoch: 288, Loss: 1.3958, Val: 1.3950\n",
      "Epoch: 289, Loss: 1.3948, Val: 1.3947\n",
      "Epoch: 290, Loss: 1.3951, Val: 1.3954\n",
      "Epoch: 291, Loss: 1.3942, Val: 1.3951\n",
      "Epoch: 292, Loss: 1.3947, Val: 1.3958\n",
      "Epoch: 293, Loss: 1.3953, Val: 1.3956\n",
      "Epoch: 294, Loss: 1.3952, Val: 1.3950\n",
      "Epoch: 295, Loss: 1.3957, Val: 1.3960\n",
      "Epoch: 296, Loss: 1.3948, Val: 1.3952\n",
      "Epoch: 297, Loss: 1.3950, Val: 1.3947\n",
      "Epoch: 298, Loss: 1.3955, Val: 1.3950\n",
      "Epoch: 299, Loss: 1.3942, Val: 1.3948\n",
      "Epoch: 300, Loss: 1.3959, Val: 1.3943\n",
      "Epoch: 301, Loss: 1.3953, Val: 1.3951\n",
      "Epoch: 302, Loss: 1.3946, Val: 1.3947\n",
      "Epoch: 303, Loss: 1.3955, Val: 1.3947\n",
      "Epoch: 304, Loss: 1.3960, Val: 1.3952\n",
      "Epoch: 305, Loss: 1.3957, Val: 1.3941\n",
      "Epoch: 306, Loss: 1.3953, Val: 1.3942\n",
      "Epoch: 307, Loss: 1.3958, Val: 1.3950\n",
      "Epoch: 308, Loss: 1.3956, Val: 1.3951\n",
      "Epoch: 309, Loss: 1.3958, Val: 1.3949\n",
      "Epoch: 310, Loss: 1.3933, Val: 1.3948\n",
      "Epoch: 311, Loss: 1.3955, Val: 1.3945\n",
      "Epoch: 312, Loss: 1.3945, Val: 1.3941\n",
      "Epoch: 313, Loss: 1.3921, Val: 1.3941\n",
      "Epoch: 314, Loss: 1.3955, Val: 1.3944\n",
      "Epoch: 315, Loss: 1.3939, Val: 1.3952\n",
      "Epoch: 316, Loss: 1.3945, Val: 1.3938\n",
      "Epoch: 317, Loss: 1.3935, Val: 1.3938\n",
      "Epoch: 318, Loss: 1.3951, Val: 1.3935\n",
      "Epoch: 319, Loss: 1.3949, Val: 1.3942\n",
      "Epoch: 320, Loss: 1.3948, Val: 1.3946\n",
      "Epoch: 321, Loss: 1.3934, Val: 1.3942\n",
      "Epoch: 322, Loss: 1.3948, Val: 1.3937\n",
      "Epoch: 323, Loss: 1.3953, Val: 1.3943\n",
      "Epoch: 324, Loss: 1.3934, Val: 1.3938\n",
      "Epoch: 325, Loss: 1.3939, Val: 1.3943\n",
      "Epoch: 326, Loss: 1.3949, Val: 1.3941\n",
      "Epoch: 327, Loss: 1.3933, Val: 1.3941\n",
      "Epoch: 328, Loss: 1.3949, Val: 1.3936\n",
      "Epoch: 329, Loss: 1.3953, Val: 1.3932\n",
      "Epoch: 330, Loss: 1.3935, Val: 1.3940\n",
      "Epoch: 331, Loss: 1.3917, Val: 1.3940\n",
      "Epoch: 332, Loss: 1.3939, Val: 1.3934\n",
      "Epoch: 333, Loss: 1.3924, Val: 1.3927\n",
      "Epoch: 334, Loss: 1.3937, Val: 1.3939\n",
      "Epoch: 335, Loss: 1.3935, Val: 1.3936\n",
      "Epoch: 336, Loss: 1.3929, Val: 1.3937\n",
      "Epoch: 337, Loss: 1.3943, Val: 1.3943\n",
      "Epoch: 338, Loss: 1.3942, Val: 1.3929\n",
      "Epoch: 339, Loss: 1.3919, Val: 1.3936\n",
      "Epoch: 340, Loss: 1.3926, Val: 1.3937\n",
      "Epoch: 341, Loss: 1.3943, Val: 1.3935\n",
      "Epoch: 342, Loss: 1.3955, Val: 1.3931\n",
      "Epoch: 343, Loss: 1.3923, Val: 1.3927\n",
      "Epoch: 344, Loss: 1.3943, Val: 1.3930\n",
      "Epoch: 345, Loss: 1.3926, Val: 1.3933\n",
      "Epoch: 346, Loss: 1.3921, Val: 1.3934\n",
      "Epoch: 347, Loss: 1.3925, Val: 1.3931\n",
      "Epoch: 348, Loss: 1.3916, Val: 1.3924\n",
      "Epoch: 349, Loss: 1.3926, Val: 1.3935\n",
      "Epoch: 350, Loss: 1.3918, Val: 1.3934\n",
      "Epoch: 351, Loss: 1.3922, Val: 1.3928\n",
      "Epoch: 352, Loss: 1.3932, Val: 1.3925\n",
      "Epoch: 353, Loss: 1.3936, Val: 1.3931\n",
      "Epoch: 354, Loss: 1.3938, Val: 1.3937\n",
      "Epoch: 355, Loss: 1.3918, Val: 1.3927\n",
      "Epoch: 356, Loss: 1.3941, Val: 1.3922\n",
      "Epoch: 357, Loss: 1.3921, Val: 1.3929\n",
      "Epoch: 358, Loss: 1.3932, Val: 1.3929\n",
      "Epoch: 359, Loss: 1.3936, Val: 1.3930\n",
      "Epoch: 360, Loss: 1.3918, Val: 1.3930\n",
      "Epoch: 361, Loss: 1.3913, Val: 1.3927\n",
      "Epoch: 362, Loss: 1.3928, Val: 1.3925\n",
      "Epoch: 363, Loss: 1.3934, Val: 1.3925\n",
      "Epoch: 364, Loss: 1.3930, Val: 1.3926\n",
      "Epoch: 365, Loss: 1.3938, Val: 1.3928\n",
      "Epoch: 366, Loss: 1.3918, Val: 1.3926\n",
      "Epoch: 367, Loss: 1.3925, Val: 1.3926\n",
      "Epoch: 368, Loss: 1.3923, Val: 1.3917\n",
      "Epoch: 369, Loss: 1.3924, Val: 1.3918\n",
      "Epoch: 370, Loss: 1.3922, Val: 1.3919\n",
      "Epoch: 371, Loss: 1.3911, Val: 1.3918\n",
      "Epoch: 372, Loss: 1.3925, Val: 1.3919\n",
      "Epoch: 373, Loss: 1.3941, Val: 1.3916\n",
      "Epoch: 374, Loss: 1.3923, Val: 1.3915\n",
      "Epoch: 375, Loss: 1.3932, Val: 1.3916\n",
      "Epoch: 376, Loss: 1.3933, Val: 1.3926\n",
      "Epoch: 377, Loss: 1.3919, Val: 1.3921\n",
      "Epoch: 378, Loss: 1.3925, Val: 1.3926\n",
      "Epoch: 379, Loss: 1.3922, Val: 1.3924\n",
      "Epoch: 380, Loss: 1.3922, Val: 1.3923\n",
      "Epoch: 381, Loss: 1.3922, Val: 1.3913\n",
      "Epoch: 382, Loss: 1.3921, Val: 1.3914\n",
      "Epoch: 383, Loss: 1.3916, Val: 1.3922\n",
      "Epoch: 384, Loss: 1.3921, Val: 1.3918\n",
      "Epoch: 385, Loss: 1.3930, Val: 1.3916\n",
      "Epoch: 386, Loss: 1.3908, Val: 1.3916\n",
      "Epoch: 387, Loss: 1.3911, Val: 1.3917\n",
      "Epoch: 388, Loss: 1.3919, Val: 1.3911\n",
      "Epoch: 389, Loss: 1.3926, Val: 1.3919\n",
      "Epoch: 390, Loss: 1.3923, Val: 1.3915\n",
      "Epoch: 391, Loss: 1.3920, Val: 1.3920\n",
      "Epoch: 392, Loss: 1.3919, Val: 1.3913\n",
      "Epoch: 393, Loss: 1.3918, Val: 1.3913\n",
      "Epoch: 394, Loss: 1.3919, Val: 1.3915\n",
      "Epoch: 395, Loss: 1.3915, Val: 1.3910\n",
      "Epoch: 396, Loss: 1.3920, Val: 1.3918\n",
      "Epoch: 397, Loss: 1.3911, Val: 1.3916\n",
      "Epoch: 398, Loss: 1.3921, Val: 1.3915\n",
      "Epoch: 399, Loss: 1.3906, Val: 1.3910\n",
      "Epoch: 400, Loss: 1.3906, Val: 1.3913\n",
      "Epoch: 401, Loss: 1.3912, Val: 1.3916\n",
      "Epoch: 402, Loss: 1.3919, Val: 1.3911\n",
      "Epoch: 403, Loss: 1.3912, Val: 1.3913\n",
      "Epoch: 404, Loss: 1.3919, Val: 1.3907\n",
      "Epoch: 405, Loss: 1.3915, Val: 1.3913\n",
      "Epoch: 406, Loss: 1.3920, Val: 1.3908\n",
      "Epoch: 407, Loss: 1.3911, Val: 1.3909\n",
      "Epoch: 408, Loss: 1.3903, Val: 1.3908\n",
      "Epoch: 409, Loss: 1.3917, Val: 1.3916\n",
      "Epoch: 410, Loss: 1.3905, Val: 1.3914\n",
      "Epoch: 411, Loss: 1.3902, Val: 1.3913\n",
      "Epoch: 412, Loss: 1.3917, Val: 1.3905\n",
      "Epoch: 413, Loss: 1.3902, Val: 1.3908\n",
      "Epoch: 414, Loss: 1.3917, Val: 1.3914\n",
      "Epoch: 415, Loss: 1.3910, Val: 1.3905\n",
      "Epoch: 416, Loss: 1.3911, Val: 1.3904\n",
      "Epoch: 417, Loss: 1.3907, Val: 1.3905\n",
      "Epoch: 418, Loss: 1.3906, Val: 1.3908\n",
      "Epoch: 419, Loss: 1.3909, Val: 1.3907\n",
      "Epoch: 420, Loss: 1.3918, Val: 1.3902\n",
      "Epoch: 421, Loss: 1.3905, Val: 1.3902\n",
      "Epoch: 422, Loss: 1.3909, Val: 1.3909\n",
      "Epoch: 423, Loss: 1.3902, Val: 1.3907\n",
      "Epoch: 424, Loss: 1.3908, Val: 1.3905\n",
      "Epoch: 425, Loss: 1.3903, Val: 1.3905\n",
      "Epoch: 426, Loss: 1.3904, Val: 1.3907\n",
      "Epoch: 427, Loss: 1.3917, Val: 1.3906\n",
      "Epoch: 428, Loss: 1.3903, Val: 1.3905\n",
      "Epoch: 429, Loss: 1.3907, Val: 1.3906\n",
      "Epoch: 430, Loss: 1.3911, Val: 1.3902\n",
      "Epoch: 431, Loss: 1.3919, Val: 1.3904\n",
      "Epoch: 432, Loss: 1.3902, Val: 1.3902\n",
      "Epoch: 433, Loss: 1.3900, Val: 1.3902\n",
      "Epoch: 434, Loss: 1.3902, Val: 1.3907\n",
      "Epoch: 435, Loss: 1.3908, Val: 1.3898\n",
      "Epoch: 436, Loss: 1.3903, Val: 1.3901\n",
      "Epoch: 437, Loss: 1.3905, Val: 1.3902\n",
      "Epoch: 438, Loss: 1.3901, Val: 1.3905\n",
      "Epoch: 439, Loss: 1.3908, Val: 1.3902\n",
      "Epoch: 440, Loss: 1.3904, Val: 1.3900\n",
      "Epoch: 441, Loss: 1.3907, Val: 1.3901\n",
      "Epoch: 442, Loss: 1.3907, Val: 1.3907\n",
      "Epoch: 443, Loss: 1.3902, Val: 1.3906\n",
      "Epoch: 444, Loss: 1.3898, Val: 1.3899\n",
      "Epoch: 445, Loss: 1.3912, Val: 1.3899\n",
      "Epoch: 446, Loss: 1.3914, Val: 1.3904\n",
      "Epoch: 447, Loss: 1.3901, Val: 1.3905\n",
      "Epoch: 448, Loss: 1.3905, Val: 1.3903\n",
      "Epoch: 449, Loss: 1.3900, Val: 1.3899\n",
      "Epoch: 450, Loss: 1.3904, Val: 1.3905\n",
      "Epoch: 451, Loss: 1.3902, Val: 1.3899\n",
      "Epoch: 452, Loss: 1.3895, Val: 1.3897\n"
     ]
    },
    {
     "name": "stdout",
     "output_type": "stream",
     "text": [
      "Epoch: 453, Loss: 1.3903, Val: 1.3901\n",
      "Epoch: 454, Loss: 1.3904, Val: 1.3902\n",
      "Epoch: 455, Loss: 1.3899, Val: 1.3896\n",
      "Epoch: 456, Loss: 1.3899, Val: 1.3898\n",
      "Epoch: 457, Loss: 1.3892, Val: 1.3899\n",
      "Epoch: 458, Loss: 1.3905, Val: 1.3900\n",
      "Epoch: 459, Loss: 1.3911, Val: 1.3902\n",
      "Epoch: 460, Loss: 1.3898, Val: 1.3899\n",
      "Epoch: 461, Loss: 1.3904, Val: 1.3898\n",
      "Epoch: 462, Loss: 1.3903, Val: 1.3897\n",
      "Epoch: 463, Loss: 1.3902, Val: 1.3900\n",
      "Epoch: 464, Loss: 1.3896, Val: 1.3893\n",
      "Epoch: 465, Loss: 1.3899, Val: 1.3902\n",
      "Epoch: 466, Loss: 1.3908, Val: 1.3900\n",
      "Epoch: 467, Loss: 1.3902, Val: 1.3897\n",
      "Epoch: 468, Loss: 1.3899, Val: 1.3899\n",
      "Epoch: 469, Loss: 1.3899, Val: 1.3899\n",
      "Epoch: 470, Loss: 1.3903, Val: 1.3900\n",
      "Epoch: 471, Loss: 1.3902, Val: 1.3897\n",
      "Epoch: 472, Loss: 1.3900, Val: 1.3896\n",
      "Epoch: 473, Loss: 1.3895, Val: 1.3898\n",
      "Epoch: 474, Loss: 1.3898, Val: 1.3896\n",
      "Epoch: 475, Loss: 1.3900, Val: 1.3902\n",
      "Epoch: 476, Loss: 1.3898, Val: 1.3896\n",
      "Epoch: 477, Loss: 1.3902, Val: 1.3897\n",
      "Epoch: 478, Loss: 1.3886, Val: 1.3896\n",
      "Epoch: 479, Loss: 1.3901, Val: 1.3897\n",
      "Epoch: 480, Loss: 1.3900, Val: 1.3895\n",
      "Epoch: 481, Loss: 1.3893, Val: 1.3896\n",
      "Epoch: 482, Loss: 1.3900, Val: 1.3894\n",
      "Epoch: 483, Loss: 1.3894, Val: 1.3899\n",
      "Epoch: 484, Loss: 1.3887, Val: 1.3891\n",
      "Epoch: 485, Loss: 1.3891, Val: 1.3892\n",
      "Epoch: 486, Loss: 1.3898, Val: 1.3893\n",
      "Epoch: 487, Loss: 1.3900, Val: 1.3896\n",
      "Epoch: 488, Loss: 1.3897, Val: 1.3897\n",
      "Epoch: 489, Loss: 1.3892, Val: 1.3891\n",
      "Epoch: 490, Loss: 1.3890, Val: 1.3893\n",
      "Epoch: 491, Loss: 1.3898, Val: 1.3894\n",
      "Epoch: 492, Loss: 1.3893, Val: 1.3894\n",
      "Epoch: 493, Loss: 1.3893, Val: 1.3893\n",
      "Epoch: 494, Loss: 1.3895, Val: 1.3893\n",
      "Epoch: 495, Loss: 1.3896, Val: 1.3891\n",
      "Epoch: 496, Loss: 1.3892, Val: 1.3892\n",
      "Epoch: 497, Loss: 1.3887, Val: 1.3893\n",
      "Epoch: 498, Loss: 1.3899, Val: 1.3893\n",
      "Epoch: 499, Loss: 1.3886, Val: 1.3892\n"
     ]
    }
   ],
   "source": [
    "history=list()\n",
    "\n",
    "for epoch in range(1, 500):\n",
    "    loss = train()\n",
    "    val_loss = test()\n",
    "    history.append([loss, val_loss])\n",
    "    print(f'Epoch: {epoch:03d}, Loss: {loss:.4f}, 'f'Val: {val_loss:.4f}')"
   ]
  },
  {
   "cell_type": "code",
   "execution_count": 117,
   "id": "926c6598",
   "metadata": {},
   "outputs": [
    {
     "data": {
      "text/html": [
       "<div>\n",
       "<style scoped>\n",
       "    .dataframe tbody tr th:only-of-type {\n",
       "        vertical-align: middle;\n",
       "    }\n",
       "\n",
       "    .dataframe tbody tr th {\n",
       "        vertical-align: top;\n",
       "    }\n",
       "\n",
       "    .dataframe thead th {\n",
       "        text-align: right;\n",
       "    }\n",
       "</style>\n",
       "<table border=\"1\" class=\"dataframe\">\n",
       "  <thead>\n",
       "    <tr style=\"text-align: right;\">\n",
       "      <th></th>\n",
       "      <th>epoch</th>\n",
       "      <th>train_loss</th>\n",
       "      <th>validation_loss</th>\n",
       "    </tr>\n",
       "  </thead>\n",
       "  <tbody>\n",
       "    <tr>\n",
       "      <th>0</th>\n",
       "      <td>0</td>\n",
       "      <td>1.448586</td>\n",
       "      <td>1.444442</td>\n",
       "    </tr>\n",
       "    <tr>\n",
       "      <th>1</th>\n",
       "      <td>1</td>\n",
       "      <td>1.440490</td>\n",
       "      <td>1.445811</td>\n",
       "    </tr>\n",
       "    <tr>\n",
       "      <th>2</th>\n",
       "      <td>2</td>\n",
       "      <td>1.449150</td>\n",
       "      <td>1.450095</td>\n",
       "    </tr>\n",
       "  </tbody>\n",
       "</table>\n",
       "</div>"
      ],
      "text/plain": [
       "   epoch  train_loss  validation_loss\n",
       "0      0    1.448586         1.444442\n",
       "1      1    1.440490         1.445811\n",
       "2      2    1.449150         1.450095"
      ]
     },
     "execution_count": 117,
     "metadata": {},
     "output_type": "execute_result"
    }
   ],
   "source": [
    "df2plot = pd.DataFrame(history).reset_index()\n",
    "df2plot.columns=['epoch', 'train_loss', 'validation_loss']\n",
    "\n",
    "df2plot.head(3)"
   ]
  },
  {
   "cell_type": "code",
   "execution_count": 118,
   "id": "d065b8f2",
   "metadata": {},
   "outputs": [
    {
     "data": {
      "image/png": "[encoded data removed]",
      "text/plain": [
       "<Figure size 432x288 with 1 Axes>"
      ]
     },
     "metadata": {},
     "output_type": "display_data"
    }
   ],
   "source": [
    "df2plot.plot(x='epoch', y=['train_loss', 'validation_loss'], kind='line', style='.-'); plt.show();\n",
    "# lr=0.0005,weight_decay=0.1"
   ]
  },
  {
   "cell_type": "code",
   "execution_count": 91,
   "id": "dddea39f",
   "metadata": {},
   "outputs": [
    {
     "data": {
      "image/png": "[encoded data removed]",
      "text/plain": [
       "<Figure size 432x288 with 1 Axes>"
      ]
     },
     "metadata": {
      "needs_background": "light"
     },
     "output_type": "display_data"
    }
   ],
   "source": [
    "df2plot.plot(x='epoch', y=['train_loss', 'validation_loss'], kind='line', style='.-'); plt.show();\n",
    "# lr=0.0005,weight_decay=0.1"
   ]
  },
  {
   "cell_type": "code",
   "execution_count": 62,
   "id": "7359aa21",
   "metadata": {},
   "outputs": [
    {
     "data": {
      "image/png": "[encoded data removed]",
      "text/plain": [
       "<Figure size 432x288 with 1 Axes>"
      ]
     },
     "metadata": {
      "needs_background": "light"
     },
     "output_type": "display_data"
    }
   ],
   "source": [
    "df2plot.plot(x='epoch', y=['train_loss', 'validation_loss'], kind='line', style='.-'); plt.show();\n",
    "# lr 0.0001, weight-decay = 0.1"
   ]
  },
  {
   "cell_type": "code",
   "execution_count": 56,
   "id": "baa0a1f1",
   "metadata": {},
   "outputs": [
    {
     "data": {
      "image/png": "[encoded data removed]",
      "text/plain": [
       "<Figure size 432x288 with 1 Axes>"
      ]
     },
     "metadata": {
      "needs_background": "light"
     },
     "output_type": "display_data"
    }
   ],
   "source": [
    "df2plot.plot(x='epoch', y=['train_loss', 'validation_loss'], kind='line', style='.-'); plt.show();\n",
    "# lr 0.0001, weight-decay = 0"
   ]
  },
  {
   "cell_type": "code",
   "execution_count": 164,
   "id": "06e7c449",
   "metadata": {},
   "outputs": [
    {
     "ename": "NameError",
     "evalue": "name 'adjs' is not defined",
     "output_type": "error",
     "traceback": [
      "\u001b[0;31m---------------------------------------------------------------------------\u001b[0m",
      "\u001b[0;31mNameError\u001b[0m                                 Traceback (most recent call last)",
      "\u001b[0;32m<ipython-input-164-0a7656b2e471>\u001b[0m in \u001b[0;36m<module>\u001b[0;34m\u001b[0m\n\u001b[0;32m----> 1\u001b[0;31m \u001b[0mtype\u001b[0m\u001b[0;34m(\u001b[0m\u001b[0madjs\u001b[0m\u001b[0;34m)\u001b[0m\u001b[0;34m\u001b[0m\u001b[0;34m\u001b[0m\u001b[0m\n\u001b[0m",
      "\u001b[0;31mNameError\u001b[0m: name 'adjs' is not defined"
     ]
    }
   ],
   "source": [
    "model()"
   ]
  },
  {
   "cell_type": "code",
   "execution_count": 113,
   "id": "049156bb",
   "metadata": {},
   "outputs": [],
   "source": [
    "del model"
   ]
  },
  {
   "cell_type": "markdown",
   "id": "3257b36c",
   "metadata": {},
   "source": [
    "- get embeddings for the nodes"
   ]
  },
  {
   "cell_type": "code",
   "execution_count": 92,
   "id": "a8165da9",
   "metadata": {},
   "outputs": [
    {
     "name": "stdout",
     "output_type": "stream",
     "text": [
      "HeteroData(\n",
      "  \u001b[1mentity_event\u001b[0m={ x=[90, 90] },\n",
      "  \u001b[1m(entity_event, followed_by, entity_event)\u001b[0m={\n",
      "    edge_index=[2, 1568],\n",
      "    edge_label=[1568, 1]\n",
      "  }\n",
      ")\n"
     ]
    }
   ],
   "source": [
    "print(data)"
   ]
  },
  {
   "cell_type": "code",
   "execution_count": 93,
   "id": "d29720e0",
   "metadata": {},
   "outputs": [
    {
     "name": "stdout",
     "output_type": "stream",
     "text": [
      "Data(node_type=[90], x=[90, 90], edge_index=[2, 1568], edge_type=[1568], edge_label=[1568, 1])\n"
     ]
    }
   ],
   "source": [
    "data_homo = data.to_homogeneous()\n",
    "print(data_homo)"
   ]
  },
  {
   "cell_type": "code",
   "execution_count": 94,
   "id": "9dea29d0",
   "metadata": {},
   "outputs": [
    {
     "data": {
      "text/plain": [
       "tensor([[ 0,  1,  1,  ..., 89, 89, 89],\n",
       "        [89,  4, 13,  ..., 87, 88, 89]])"
      ]
     },
     "execution_count": 94,
     "metadata": {},
     "output_type": "execute_result"
    }
   ],
   "source": [
    "data_homo.edge_index.to(device)"
   ]
  },
  {
   "cell_type": "code",
   "execution_count": 120,
   "id": "326ae9c2",
   "metadata": {},
   "outputs": [],
   "source": [
    "model.eval()\n",
    "out_embs = model.full_forward(data_homo.x.to(device), data_homo.edge_index.to(device))"
   ]
  },
  {
   "cell_type": "code",
   "execution_count": 121,
   "id": "9de7f7d5",
   "metadata": {},
   "outputs": [
    {
     "name": "stdout",
     "output_type": "stream",
     "text": [
      "<class 'torch.Tensor'>\n"
     ]
    }
   ],
   "source": [
    "print(type(out_embs))"
   ]
  },
  {
   "cell_type": "code",
   "execution_count": 122,
   "id": "00ab54f4",
   "metadata": {},
   "outputs": [
    {
     "data": {
      "text/plain": [
       "torch.Size([90, 64])"
      ]
     },
     "execution_count": 122,
     "metadata": {},
     "output_type": "execute_result"
    }
   ],
   "source": [
    "out_embs.shape"
   ]
  },
  {
   "cell_type": "code",
   "execution_count": 123,
   "id": "50561191",
   "metadata": {},
   "outputs": [
    {
     "data": {
      "text/plain": [
       "tensor([-0.0022, -0.0537,  0.0850,  0.0201,  0.0695,  0.0032,  0.0202,  0.0412,\n",
       "        -0.0211,  0.0143,  0.0131, -0.0196, -0.0150,  0.0611,  0.0092,  0.0140,\n",
       "         0.0680,  0.0102, -0.0541,  0.0866,  0.0585, -0.0142,  0.0243,  0.0927,\n",
       "        -0.0323, -0.0183,  0.0505,  0.0218,  0.0249, -0.0242,  0.0756,  0.0096,\n",
       "        -0.0749,  0.0187, -0.0299,  0.0319, -0.0048,  0.0231,  0.0228, -0.0004,\n",
       "         0.0527,  0.0100, -0.0470,  0.0426, -0.0449,  0.0464,  0.0337,  0.0339,\n",
       "         0.0389,  0.0545,  0.0518,  0.0305,  0.0339, -0.0216,  0.0943, -0.0308,\n",
       "        -0.0283, -0.0003,  0.0790, -0.0674,  0.0006, -0.0049,  0.0404, -0.0434],\n",
       "       grad_fn=<SelectBackward0>)"
      ]
     },
     "execution_count": 123,
     "metadata": {},
     "output_type": "execute_result"
    }
   ],
   "source": [
    "out_embs[0]"
   ]
  },
  {
   "cell_type": "code",
   "execution_count": 124,
   "id": "f246692c",
   "metadata": {},
   "outputs": [
    {
     "data": {
      "text/plain": [
       "(90, 64)"
      ]
     },
     "execution_count": 124,
     "metadata": {},
     "output_type": "execute_result"
    }
   ],
   "source": [
    "n1 = out_embs.cpu().detach().numpy()\n",
    "n1.shape"
   ]
  },
  {
   "cell_type": "code",
   "execution_count": 125,
   "id": "587c57e1",
   "metadata": {},
   "outputs": [
    {
     "data": {
      "text/plain": [
       "(90, 64)"
      ]
     },
     "execution_count": 125,
     "metadata": {},
     "output_type": "execute_result"
    }
   ],
   "source": [
    "n1_normed = n1/np.linalg.norm(n1, axis=1,keepdims=True)\n",
    "n1_normed.shape"
   ]
  },
  {
   "cell_type": "code",
   "execution_count": 126,
   "id": "ecdb7b93",
   "metadata": {},
   "outputs": [
    {
     "data": {
      "text/plain": [
       "(90, 90)"
      ]
     },
     "execution_count": 126,
     "metadata": {},
     "output_type": "execute_result"
    }
   ],
   "source": [
    "similarity_matrix_normed = np.dot(n1_normed, n1_normed.T)\n",
    "similarity_matrix_normed.shape"
   ]
  },
  {
   "cell_type": "code",
   "execution_count": 127,
   "id": "2c0b5fae",
   "metadata": {},
   "outputs": [],
   "source": [
    "import seaborn as sns; sns.set_theme()"
   ]
  },
  {
   "cell_type": "code",
   "execution_count": 128,
   "id": "5d7947b3",
   "metadata": {},
   "outputs": [
    {
     "data": {
      "image/png": "[encoded data removed]",
      "text/plain": [
       "<Figure size 432x288 with 2 Axes>"
      ]
     },
     "metadata": {},
     "output_type": "display_data"
    }
   ],
   "source": [
    "ax = sns.heatmap(similarity_matrix_normed, cmap=\"RdYlGn\")"
   ]
  },
  {
   "cell_type": "code",
   "execution_count": 189,
   "id": "4d52758c",
   "metadata": {},
   "outputs": [
    {
     "data": {
      "image/png": "[encoded data removed]",
      "text/plain": [
       "<Figure size 432x288 with 2 Axes>"
      ]
     },
     "metadata": {},
     "output_type": "display_data"
    }
   ],
   "source": [
    "ax = sns.heatmap(similarity_matrix_normed, cmap=\"RdYlGn\")"
   ]
  },
  {
   "cell_type": "code",
   "execution_count": 129,
   "id": "049eda21",
   "metadata": {},
   "outputs": [
    {
     "data": {
      "text/plain": [
       "array([1.        , 0.95243335, 0.98004055, 0.9555182 , 0.97268635,\n",
       "       0.9692756 , 0.94382787, 0.9533748 , 0.9716485 , 0.9608112 ,\n",
       "       0.9733189 , 0.97139955, 0.9683668 , 0.9637381 , 0.9790702 ,\n",
       "       0.98218054, 0.9686898 , 0.96650285, 0.9671527 , 0.9575713 ,\n",
       "       0.97354215, 0.96526337, 0.9730408 , 0.9708573 , 0.9687159 ,\n",
       "       0.96815175, 0.9771171 , 0.96451443, 0.9769447 , 0.9762987 ,\n",
       "       0.9694811 , 0.9676815 , 0.9687368 , 0.97108555, 0.9658008 ,\n",
       "       0.96770203, 0.9555855 , 0.96683216, 0.97295326, 0.9681907 ,\n",
       "       0.9710017 , 0.96222675, 0.97095907, 0.9666322 , 0.9777418 ,\n",
       "       0.97410405, 0.9663717 , 0.97132975, 0.9683798 , 0.9643041 ,\n",
       "       0.96677715, 0.97946626, 0.9723995 , 0.9807199 , 0.9723276 ,\n",
       "       0.96646357, 0.9760974 , 0.97847944, 0.95441985, 0.9789539 ,\n",
       "       0.9693176 , 0.96661615, 0.9704599 , 0.9625575 , 0.9718752 ,\n",
       "       0.96905804, 0.978559  , 0.9719997 , 0.97207206, 0.95363885,\n",
       "       0.9675591 , 0.97988176, 0.97096896, 0.9746215 , 0.9584388 ,\n",
       "       0.9676851 , 0.965755  , 0.97143126, 0.97336537, 0.96378624,\n",
       "       0.97204745, 0.9684168 , 0.9766314 , 0.96983665, 0.95687115,\n",
       "       0.96801513, 0.9711186 , 0.9697487 , 0.9746673 , 0.9695225 ],\n",
       "      dtype=float32)"
      ]
     },
     "execution_count": 129,
     "metadata": {},
     "output_type": "execute_result"
    }
   ],
   "source": [
    "similarity_matrix_normed[0]"
   ]
  },
  {
   "cell_type": "code",
   "execution_count": 132,
   "id": "74b764f0",
   "metadata": {},
   "outputs": [
    {
     "data": {
      "text/plain": [
       "9.1963825"
      ]
     },
     "execution_count": 132,
     "metadata": {},
     "output_type": "execute_result"
    }
   ],
   "source": [
    "np.linalg.norm(similarity_matrix_normed[0])"
   ]
  },
  {
   "cell_type": "code",
   "execution_count": 130,
   "id": "014be2b5",
   "metadata": {},
   "outputs": [
    {
     "data": {
      "text/plain": [
       "(1.0000004, 0.934164)"
      ]
     },
     "execution_count": 130,
     "metadata": {},
     "output_type": "execute_result"
    }
   ],
   "source": [
    "similarity_matrix_normed.max(), similarity_matrix_normed.min()"
   ]
  },
  {
   "cell_type": "markdown",
   "id": "e4d28559",
   "metadata": {},
   "source": [
    "<h5>Write out pair scores"
   ]
  },
  {
   "cell_type": "code",
   "execution_count": 151,
   "id": "f3e287ad",
   "metadata": {},
   "outputs": [
    {
     "name": "stdout",
     "output_type": "stream",
     "text": [
      "8100\n"
     ]
    }
   ],
   "source": [
    "pairwise_relation = list()\n",
    "\n",
    "# for i in range(similarity_matrix_normed.shape[0]):\n",
    "#     for j in range(similarity_matrix_normed.shape[1]):\n",
    "#         if i<=j:\n",
    "#             pairwise_relation.append([i, j, similarity_matrix_normed[i][j]])\n",
    "#         else:\n",
    "#             continue\n",
    "# print(len(pairwise_relation))\n",
    "\n",
    "\n",
    "for i in range(similarity_matrix_normed.shape[0]):\n",
    "    for j in range(similarity_matrix_normed.shape[1]):\n",
    "        pairwise_relation.append([i, j, similarity_matrix_normed[i][j]])\n",
    "\n",
    "print(len(pairwise_relation))"
   ]
  },
  {
   "cell_type": "code",
   "execution_count": 152,
   "id": "46ab9639",
   "metadata": {},
   "outputs": [
    {
     "data": {
      "text/html": [
       "<div>\n",
       "<style scoped>\n",
       "    .dataframe tbody tr th:only-of-type {\n",
       "        vertical-align: middle;\n",
       "    }\n",
       "\n",
       "    .dataframe tbody tr th {\n",
       "        vertical-align: top;\n",
       "    }\n",
       "\n",
       "    .dataframe thead th {\n",
       "        text-align: right;\n",
       "    }\n",
       "</style>\n",
       "<table border=\"1\" class=\"dataframe\">\n",
       "  <thead>\n",
       "    <tr style=\"text-align: right;\">\n",
       "      <th></th>\n",
       "      <th>from</th>\n",
       "      <th>to</th>\n",
       "      <th>similarity_normed</th>\n",
       "    </tr>\n",
       "  </thead>\n",
       "  <tbody>\n",
       "    <tr>\n",
       "      <th>0</th>\n",
       "      <td>0</td>\n",
       "      <td>0</td>\n",
       "      <td>1.000000</td>\n",
       "    </tr>\n",
       "    <tr>\n",
       "      <th>1</th>\n",
       "      <td>0</td>\n",
       "      <td>1</td>\n",
       "      <td>0.952433</td>\n",
       "    </tr>\n",
       "    <tr>\n",
       "      <th>2</th>\n",
       "      <td>0</td>\n",
       "      <td>2</td>\n",
       "      <td>0.980041</td>\n",
       "    </tr>\n",
       "  </tbody>\n",
       "</table>\n",
       "</div>"
      ],
      "text/plain": [
       "   from  to  similarity_normed\n",
       "0     0   0           1.000000\n",
       "1     0   1           0.952433\n",
       "2     0   2           0.980041"
      ]
     },
     "execution_count": 152,
     "metadata": {},
     "output_type": "execute_result"
    }
   ],
   "source": [
    "dfout1 = pd.DataFrame(pairwise_relation,columns=['from','to','similarity_normed'])\n",
    "dfout1.head(3)"
   ]
  },
  {
   "cell_type": "code",
   "execution_count": 153,
   "id": "f1ffa9be",
   "metadata": {},
   "outputs": [
    {
     "data": {
      "text/html": [
       "<div>\n",
       "<style scoped>\n",
       "    .dataframe tbody tr th:only-of-type {\n",
       "        vertical-align: middle;\n",
       "    }\n",
       "\n",
       "    .dataframe tbody tr th {\n",
       "        vertical-align: top;\n",
       "    }\n",
       "\n",
       "    .dataframe thead th {\n",
       "        text-align: right;\n",
       "    }\n",
       "</style>\n",
       "<table border=\"1\" class=\"dataframe\">\n",
       "  <thead>\n",
       "    <tr style=\"text-align: right;\">\n",
       "      <th></th>\n",
       "      <th>display_entity_type</th>\n",
       "      <th>entity_type</th>\n",
       "      <th>event_name</th>\n",
       "      <th>event_type</th>\n",
       "      <th>node_id</th>\n",
       "      <th>event_node_name</th>\n",
       "    </tr>\n",
       "  </thead>\n",
       "  <tbody>\n",
       "    <tr>\n",
       "      <th>0</th>\n",
       "      <td>ap</td>\n",
       "      <td>ap</td>\n",
       "      <td>ap_disconnect</td>\n",
       "      <td>boot_configuration_broke_the_cloud</td>\n",
       "      <td>0</td>\n",
       "      <td>ap|ap|ap_disconnect|boot_configuration_broke_t...</td>\n",
       "    </tr>\n",
       "    <tr>\n",
       "      <th>1</th>\n",
       "      <td>ap</td>\n",
       "      <td>ap</td>\n",
       "      <td>ap_disconnect</td>\n",
       "      <td>boot_configuration_invalid</td>\n",
       "      <td>1</td>\n",
       "      <td>ap|ap|ap_disconnect|boot_configuration_invalid</td>\n",
       "    </tr>\n",
       "    <tr>\n",
       "      <th>2</th>\n",
       "      <td>ap</td>\n",
       "      <td>ap</td>\n",
       "      <td>ap_disconnect</td>\n",
       "      <td>cloud_cert_time_check_failure</td>\n",
       "      <td>2</td>\n",
       "      <td>ap|ap|ap_disconnect|cloud_cert_time_check_failure</td>\n",
       "    </tr>\n",
       "  </tbody>\n",
       "</table>\n",
       "</div>"
      ],
      "text/plain": [
       "  display_entity_type entity_type     event_name  \\\n",
       "0                  ap          ap  ap_disconnect   \n",
       "1                  ap          ap  ap_disconnect   \n",
       "2                  ap          ap  ap_disconnect   \n",
       "\n",
       "                           event_type  node_id  \\\n",
       "0  boot_configuration_broke_the_cloud        0   \n",
       "1          boot_configuration_invalid        1   \n",
       "2       cloud_cert_time_check_failure        2   \n",
       "\n",
       "                                     event_node_name  \n",
       "0  ap|ap|ap_disconnect|boot_configuration_broke_t...  \n",
       "1     ap|ap|ap_disconnect|boot_configuration_invalid  \n",
       "2  ap|ap|ap_disconnect|cloud_cert_time_check_failure  "
      ]
     },
     "execution_count": 153,
     "metadata": {},
     "output_type": "execute_result"
    }
   ],
   "source": [
    "event_dict = pd.read_csv('./data/20220509/events_dict_all/part-00000-eb219c1b-f555-45ea-9dd9-6faa4dab5f12-c000.csv', sep=\"\\t\")\n",
    "event_dict.head(3)"
   ]
  },
  {
   "cell_type": "code",
   "execution_count": 154,
   "id": "08a894b5",
   "metadata": {},
   "outputs": [
    {
     "data": {
      "text/html": [
       "<div>\n",
       "<style scoped>\n",
       "    .dataframe tbody tr th:only-of-type {\n",
       "        vertical-align: middle;\n",
       "    }\n",
       "\n",
       "    .dataframe tbody tr th {\n",
       "        vertical-align: top;\n",
       "    }\n",
       "\n",
       "    .dataframe thead th {\n",
       "        text-align: right;\n",
       "    }\n",
       "</style>\n",
       "<table border=\"1\" class=\"dataframe\">\n",
       "  <thead>\n",
       "    <tr style=\"text-align: right;\">\n",
       "      <th></th>\n",
       "      <th>from</th>\n",
       "      <th>to</th>\n",
       "      <th>similarity_normed</th>\n",
       "      <th>node_id_from</th>\n",
       "      <th>event_node_name_from</th>\n",
       "      <th>node_id_to</th>\n",
       "      <th>event_node_name_to</th>\n",
       "    </tr>\n",
       "  </thead>\n",
       "  <tbody>\n",
       "    <tr>\n",
       "      <th>0</th>\n",
       "      <td>0</td>\n",
       "      <td>0</td>\n",
       "      <td>1.000000</td>\n",
       "      <td>0</td>\n",
       "      <td>ap|ap|ap_disconnect|boot_configuration_broke_t...</td>\n",
       "      <td>0</td>\n",
       "      <td>ap|ap|ap_disconnect|boot_configuration_broke_t...</td>\n",
       "    </tr>\n",
       "    <tr>\n",
       "      <th>1</th>\n",
       "      <td>1</td>\n",
       "      <td>0</td>\n",
       "      <td>0.952433</td>\n",
       "      <td>1</td>\n",
       "      <td>ap|ap|ap_disconnect|boot_configuration_invalid</td>\n",
       "      <td>0</td>\n",
       "      <td>ap|ap|ap_disconnect|boot_configuration_broke_t...</td>\n",
       "    </tr>\n",
       "    <tr>\n",
       "      <th>2</th>\n",
       "      <td>2</td>\n",
       "      <td>0</td>\n",
       "      <td>0.980041</td>\n",
       "      <td>2</td>\n",
       "      <td>ap|ap|ap_disconnect|cloud_cert_time_check_failure</td>\n",
       "      <td>0</td>\n",
       "      <td>ap|ap|ap_disconnect|boot_configuration_broke_t...</td>\n",
       "    </tr>\n",
       "  </tbody>\n",
       "</table>\n",
       "</div>"
      ],
      "text/plain": [
       "   from  to  similarity_normed  node_id_from  \\\n",
       "0     0   0           1.000000             0   \n",
       "1     1   0           0.952433             1   \n",
       "2     2   0           0.980041             2   \n",
       "\n",
       "                                event_node_name_from  node_id_to  \\\n",
       "0  ap|ap|ap_disconnect|boot_configuration_broke_t...           0   \n",
       "1     ap|ap|ap_disconnect|boot_configuration_invalid           0   \n",
       "2  ap|ap|ap_disconnect|cloud_cert_time_check_failure           0   \n",
       "\n",
       "                                  event_node_name_to  \n",
       "0  ap|ap|ap_disconnect|boot_configuration_broke_t...  \n",
       "1  ap|ap|ap_disconnect|boot_configuration_broke_t...  \n",
       "2  ap|ap|ap_disconnect|boot_configuration_broke_t...  "
      ]
     },
     "execution_count": 154,
     "metadata": {},
     "output_type": "execute_result"
    }
   ],
   "source": [
    "dfout2 = dfout1.merge(event_dict[['node_id','event_node_name']], left_on='from', right_on='node_id')\\\n",
    "                .merge(event_dict[['node_id','event_node_name']], left_on='to', right_on='node_id', suffixes=('_from', '_to'))\n",
    "\n",
    "dfout2.head(3)"
   ]
  },
  {
   "cell_type": "code",
   "execution_count": 155,
   "id": "f68b8282",
   "metadata": {},
   "outputs": [],
   "source": [
    "dfout2['matchcol'] = dfout2['event_node_name_from']+ \"_\" + dfout2['event_node_name_to']"
   ]
  },
  {
   "cell_type": "code",
   "execution_count": 156,
   "id": "3e25b3c7",
   "metadata": {},
   "outputs": [
    {
     "data": {
      "text/html": [
       "<div>\n",
       "<style scoped>\n",
       "    .dataframe tbody tr th:only-of-type {\n",
       "        vertical-align: middle;\n",
       "    }\n",
       "\n",
       "    .dataframe tbody tr th {\n",
       "        vertical-align: top;\n",
       "    }\n",
       "\n",
       "    .dataframe thead th {\n",
       "        text-align: right;\n",
       "    }\n",
       "</style>\n",
       "<table border=\"1\" class=\"dataframe\">\n",
       "  <thead>\n",
       "    <tr style=\"text-align: right;\">\n",
       "      <th></th>\n",
       "      <th>from</th>\n",
       "      <th>to</th>\n",
       "      <th>similarity_normed</th>\n",
       "      <th>node_id_from</th>\n",
       "      <th>event_node_name_from</th>\n",
       "      <th>node_id_to</th>\n",
       "      <th>event_node_name_to</th>\n",
       "      <th>matchcol</th>\n",
       "    </tr>\n",
       "  </thead>\n",
       "  <tbody>\n",
       "    <tr>\n",
       "      <th>0</th>\n",
       "      <td>0</td>\n",
       "      <td>0</td>\n",
       "      <td>1.000000</td>\n",
       "      <td>0</td>\n",
       "      <td>ap|ap|ap_disconnect|boot_configuration_broke_t...</td>\n",
       "      <td>0</td>\n",
       "      <td>ap|ap|ap_disconnect|boot_configuration_broke_t...</td>\n",
       "      <td>ap|ap|ap_disconnect|boot_configuration_broke_t...</td>\n",
       "    </tr>\n",
       "    <tr>\n",
       "      <th>1</th>\n",
       "      <td>1</td>\n",
       "      <td>0</td>\n",
       "      <td>0.952433</td>\n",
       "      <td>1</td>\n",
       "      <td>ap|ap|ap_disconnect|boot_configuration_invalid</td>\n",
       "      <td>0</td>\n",
       "      <td>ap|ap|ap_disconnect|boot_configuration_broke_t...</td>\n",
       "      <td>ap|ap|ap_disconnect|boot_configuration_invalid...</td>\n",
       "    </tr>\n",
       "    <tr>\n",
       "      <th>2</th>\n",
       "      <td>2</td>\n",
       "      <td>0</td>\n",
       "      <td>0.980041</td>\n",
       "      <td>2</td>\n",
       "      <td>ap|ap|ap_disconnect|cloud_cert_time_check_failure</td>\n",
       "      <td>0</td>\n",
       "      <td>ap|ap|ap_disconnect|boot_configuration_broke_t...</td>\n",
       "      <td>ap|ap|ap_disconnect|cloud_cert_time_check_fail...</td>\n",
       "    </tr>\n",
       "  </tbody>\n",
       "</table>\n",
       "</div>"
      ],
      "text/plain": [
       "   from  to  similarity_normed  node_id_from  \\\n",
       "0     0   0           1.000000             0   \n",
       "1     1   0           0.952433             1   \n",
       "2     2   0           0.980041             2   \n",
       "\n",
       "                                event_node_name_from  node_id_to  \\\n",
       "0  ap|ap|ap_disconnect|boot_configuration_broke_t...           0   \n",
       "1     ap|ap|ap_disconnect|boot_configuration_invalid           0   \n",
       "2  ap|ap|ap_disconnect|cloud_cert_time_check_failure           0   \n",
       "\n",
       "                                  event_node_name_to  \\\n",
       "0  ap|ap|ap_disconnect|boot_configuration_broke_t...   \n",
       "1  ap|ap|ap_disconnect|boot_configuration_broke_t...   \n",
       "2  ap|ap|ap_disconnect|boot_configuration_broke_t...   \n",
       "\n",
       "                                            matchcol  \n",
       "0  ap|ap|ap_disconnect|boot_configuration_broke_t...  \n",
       "1  ap|ap|ap_disconnect|boot_configuration_invalid...  \n",
       "2  ap|ap|ap_disconnect|cloud_cert_time_check_fail...  "
      ]
     },
     "execution_count": 156,
     "metadata": {},
     "output_type": "execute_result"
    }
   ],
   "source": [
    "dfout2.head(3)"
   ]
  },
  {
   "cell_type": "code",
   "execution_count": 146,
   "id": "23abe994",
   "metadata": {},
   "outputs": [
    {
     "data": {
      "text/html": [
       "<div>\n",
       "<style scoped>\n",
       "    .dataframe tbody tr th:only-of-type {\n",
       "        vertical-align: middle;\n",
       "    }\n",
       "\n",
       "    .dataframe tbody tr th {\n",
       "        vertical-align: top;\n",
       "    }\n",
       "\n",
       "    .dataframe thead th {\n",
       "        text-align: right;\n",
       "    }\n",
       "</style>\n",
       "<table border=\"1\" class=\"dataframe\">\n",
       "  <thead>\n",
       "    <tr style=\"text-align: right;\">\n",
       "      <th></th>\n",
       "      <th>event_name_1</th>\n",
       "      <th>event_name_2</th>\n",
       "      <th>Possible [y/n]</th>\n",
       "      <th>Confidence [H/M/L]</th>\n",
       "      <th>Comments</th>\n",
       "      <th>Already known [Y/N]</th>\n",
       "      <th>Impact [H/L]</th>\n",
       "    </tr>\n",
       "  </thead>\n",
       "  <tbody>\n",
       "    <tr>\n",
       "      <th>30</th>\n",
       "      <td>switch|switch|config_failure|commit_check</td>\n",
       "      <td>switch|switch|switch_health|fan_alarm</td>\n",
       "      <td>N</td>\n",
       "      <td>NaN</td>\n",
       "      <td>NaN</td>\n",
       "      <td>NaN</td>\n",
       "      <td>NaN</td>\n",
       "    </tr>\n",
       "    <tr>\n",
       "      <th>10</th>\n",
       "      <td>switch|switch|switch_disconnect|switch_disconnect</td>\n",
       "      <td>switch|switch|config_failure|load_config_error</td>\n",
       "      <td>y</td>\n",
       "      <td>NaN</td>\n",
       "      <td>what inside the config is impacting will be us...</td>\n",
       "      <td>NaN</td>\n",
       "      <td>H</td>\n",
       "    </tr>\n",
       "    <tr>\n",
       "      <th>6</th>\n",
       "      <td>switch|switch_interface|switch_port_flap|switc...</td>\n",
       "      <td>client|client|bad_client|client_auth_failure</td>\n",
       "      <td>N</td>\n",
       "      <td>NaN</td>\n",
       "      <td>interesting</td>\n",
       "      <td>NaN</td>\n",
       "      <td>NaN</td>\n",
       "    </tr>\n",
       "  </tbody>\n",
       "</table>\n",
       "</div>"
      ],
      "text/plain": [
       "                                         event_name_1  \\\n",
       "30          switch|switch|config_failure|commit_check   \n",
       "10  switch|switch|switch_disconnect|switch_disconnect   \n",
       "6   switch|switch_interface|switch_port_flap|switc...   \n",
       "\n",
       "                                      event_name_2 Possible [y/n]  \\\n",
       "30           switch|switch|switch_health|fan_alarm              N   \n",
       "10  switch|switch|config_failure|load_config_error              y   \n",
       "6     client|client|bad_client|client_auth_failure              N   \n",
       "\n",
       "   Confidence [H/M/L]                                           Comments  \\\n",
       "30                NaN                                                NaN   \n",
       "10                NaN  what inside the config is impacting will be us...   \n",
       "6                 NaN                                        interesting   \n",
       "\n",
       "   Already known [Y/N] Impact [H/L]  \n",
       "30                 NaN          NaN  \n",
       "10                 NaN            H  \n",
       "6                  NaN          NaN  "
      ]
     },
     "execution_count": 146,
     "metadata": {},
     "output_type": "execute_result"
    }
   ],
   "source": [
    "df_groundtruth = pd.read_csv('./data/groundtruth_v01.txt', sep=\"\\t\")\n",
    "df_groundtruth.sample(3)"
   ]
  },
  {
   "cell_type": "code",
   "execution_count": null,
   "id": "69df39bb",
   "metadata": {},
   "outputs": [],
   "source": []
  },
  {
   "cell_type": "code",
   "execution_count": 149,
   "id": "e4e9dade",
   "metadata": {},
   "outputs": [
    {
     "data": {
      "text/html": [
       "<div>\n",
       "<style scoped>\n",
       "    .dataframe tbody tr th:only-of-type {\n",
       "        vertical-align: middle;\n",
       "    }\n",
       "\n",
       "    .dataframe tbody tr th {\n",
       "        vertical-align: top;\n",
       "    }\n",
       "\n",
       "    .dataframe thead th {\n",
       "        text-align: right;\n",
       "    }\n",
       "</style>\n",
       "<table border=\"1\" class=\"dataframe\">\n",
       "  <thead>\n",
       "    <tr style=\"text-align: right;\">\n",
       "      <th></th>\n",
       "      <th>event_name_1</th>\n",
       "      <th>event_name_2</th>\n",
       "      <th>Possible [y/n]</th>\n",
       "      <th>Confidence [H/M/L]</th>\n",
       "      <th>Comments</th>\n",
       "      <th>Already known [Y/N]</th>\n",
       "      <th>Impact [H/L]</th>\n",
       "      <th>matchcol</th>\n",
       "    </tr>\n",
       "  </thead>\n",
       "  <tbody>\n",
       "    <tr>\n",
       "      <th>0</th>\n",
       "      <td>switch|switch_interface|switch_port_flap|switc...</td>\n",
       "      <td>ap|ap|low_memory|kernel_low_memory</td>\n",
       "      <td>N</td>\n",
       "      <td>NaN</td>\n",
       "      <td>NaN</td>\n",
       "      <td>NaN</td>\n",
       "      <td>NaN</td>\n",
       "      <td>switch|switch_interface|switch_port_flap|switc...</td>\n",
       "    </tr>\n",
       "    <tr>\n",
       "      <th>1</th>\n",
       "      <td>switch|switch_interface|switch_port_flap|switc...</td>\n",
       "      <td>client|client|bad_client|wired_client_auth_fai...</td>\n",
       "      <td>Y</td>\n",
       "      <td>NaN</td>\n",
       "      <td>interesting; event2 --&gt; event 1</td>\n",
       "      <td>y</td>\n",
       "      <td>NaN</td>\n",
       "      <td>switch|switch_interface|switch_port_flap|switc...</td>\n",
       "    </tr>\n",
       "    <tr>\n",
       "      <th>2</th>\n",
       "      <td>switch|switch_interface|switch_port_flap|switc...</td>\n",
       "      <td>ap|ap|ap_restart|pace_fatal</td>\n",
       "      <td>N</td>\n",
       "      <td>h</td>\n",
       "      <td>NaN</td>\n",
       "      <td>NaN</td>\n",
       "      <td>NaN</td>\n",
       "      <td>switch|switch_interface|switch_port_flap|switc...</td>\n",
       "    </tr>\n",
       "  </tbody>\n",
       "</table>\n",
       "</div>"
      ],
      "text/plain": [
       "                                        event_name_1  \\\n",
       "0  switch|switch_interface|switch_port_flap|switc...   \n",
       "1  switch|switch_interface|switch_port_flap|switc...   \n",
       "2  switch|switch_interface|switch_port_flap|switc...   \n",
       "\n",
       "                                        event_name_2 Possible [y/n]  \\\n",
       "0                 ap|ap|low_memory|kernel_low_memory              N   \n",
       "1  client|client|bad_client|wired_client_auth_fai...              Y   \n",
       "2                        ap|ap|ap_restart|pace_fatal              N   \n",
       "\n",
       "  Confidence [H/M/L]                         Comments Already known [Y/N]  \\\n",
       "0                NaN                              NaN                 NaN   \n",
       "1                NaN  interesting; event2 --> event 1                   y   \n",
       "2                  h                              NaN                 NaN   \n",
       "\n",
       "  Impact [H/L]                                           matchcol  \n",
       "0          NaN  switch|switch_interface|switch_port_flap|switc...  \n",
       "1          NaN  switch|switch_interface|switch_port_flap|switc...  \n",
       "2          NaN  switch|switch_interface|switch_port_flap|switc...  "
      ]
     },
     "execution_count": 149,
     "metadata": {},
     "output_type": "execute_result"
    }
   ],
   "source": [
    "df_groundtruth['matchcol'] = df_groundtruth['event_name_1']+\"_\"+df_groundtruth['event_name_2']\n",
    "df_groundtruth.head(3)"
   ]
  },
  {
   "cell_type": "code",
   "execution_count": 157,
   "id": "5be18767",
   "metadata": {},
   "outputs": [
    {
     "data": {
      "text/plain": [
       "(37, 15)"
      ]
     },
     "execution_count": 157,
     "metadata": {},
     "output_type": "execute_result"
    }
   ],
   "source": [
    "dfout3 = dfout2.merge(df_groundtruth, on ='matchcol', how='inner')\n",
    "dfout3.shape"
   ]
  },
  {
   "cell_type": "code",
   "execution_count": 158,
   "id": "99bdb7b0",
   "metadata": {},
   "outputs": [
    {
     "data": {
      "text/html": [
       "<div>\n",
       "<style scoped>\n",
       "    .dataframe tbody tr th:only-of-type {\n",
       "        vertical-align: middle;\n",
       "    }\n",
       "\n",
       "    .dataframe tbody tr th {\n",
       "        vertical-align: top;\n",
       "    }\n",
       "\n",
       "    .dataframe thead th {\n",
       "        text-align: right;\n",
       "    }\n",
       "</style>\n",
       "<table border=\"1\" class=\"dataframe\">\n",
       "  <thead>\n",
       "    <tr style=\"text-align: right;\">\n",
       "      <th></th>\n",
       "      <th>from</th>\n",
       "      <th>to</th>\n",
       "      <th>similarity_normed</th>\n",
       "      <th>node_id_from</th>\n",
       "      <th>event_node_name_from</th>\n",
       "      <th>node_id_to</th>\n",
       "      <th>event_node_name_to</th>\n",
       "      <th>matchcol</th>\n",
       "      <th>event_name_1</th>\n",
       "      <th>event_name_2</th>\n",
       "      <th>Possible [y/n]</th>\n",
       "      <th>Confidence [H/M/L]</th>\n",
       "      <th>Comments</th>\n",
       "      <th>Already known [Y/N]</th>\n",
       "      <th>Impact [H/L]</th>\n",
       "    </tr>\n",
       "  </thead>\n",
       "  <tbody>\n",
       "    <tr>\n",
       "      <th>0</th>\n",
       "      <td>4</td>\n",
       "      <td>5</td>\n",
       "      <td>0.980202</td>\n",
       "      <td>4</td>\n",
       "      <td>ap|ap|ap_disconnect|locally_offline</td>\n",
       "      <td>5</td>\n",
       "      <td>ap|ap|ap_disconnect|locally_online</td>\n",
       "      <td>ap|ap|ap_disconnect|locally_offline_ap|ap|ap_d...</td>\n",
       "      <td>ap|ap|ap_disconnect|locally_offline</td>\n",
       "      <td>ap|ap|ap_disconnect|locally_online</td>\n",
       "      <td>y</td>\n",
       "      <td>NaN</td>\n",
       "      <td>NaN</td>\n",
       "      <td>y</td>\n",
       "      <td>NaN</td>\n",
       "    </tr>\n",
       "    <tr>\n",
       "      <th>1</th>\n",
       "      <td>25</td>\n",
       "      <td>5</td>\n",
       "      <td>0.983006</td>\n",
       "      <td>25</td>\n",
       "      <td>ap|ap|bad_cable|bad_cable</td>\n",
       "      <td>5</td>\n",
       "      <td>ap|ap|ap_disconnect|locally_online</td>\n",
       "      <td>ap|ap|bad_cable|bad_cable_ap|ap|ap_disconnect|...</td>\n",
       "      <td>ap|ap|bad_cable|bad_cable</td>\n",
       "      <td>ap|ap|ap_disconnect|locally_online</td>\n",
       "      <td>y</td>\n",
       "      <td>NaN</td>\n",
       "      <td>get eamples on these one</td>\n",
       "      <td>NaN</td>\n",
       "      <td>NaN</td>\n",
       "    </tr>\n",
       "    <tr>\n",
       "      <th>2</th>\n",
       "      <td>4</td>\n",
       "      <td>6</td>\n",
       "      <td>0.967475</td>\n",
       "      <td>4</td>\n",
       "      <td>ap|ap|ap_disconnect|locally_offline</td>\n",
       "      <td>6</td>\n",
       "      <td>ap|ap|ap_disconnect|mutual_authentication_failed</td>\n",
       "      <td>ap|ap|ap_disconnect|locally_offline_ap|ap|ap_d...</td>\n",
       "      <td>ap|ap|ap_disconnect|locally_offline</td>\n",
       "      <td>ap|ap|ap_disconnect|mutual_authentication_failed</td>\n",
       "      <td>y</td>\n",
       "      <td>NaN</td>\n",
       "      <td>NaN</td>\n",
       "      <td>y</td>\n",
       "      <td>NaN</td>\n",
       "    </tr>\n",
       "  </tbody>\n",
       "</table>\n",
       "</div>"
      ],
      "text/plain": [
       "   from  to  similarity_normed  node_id_from  \\\n",
       "0     4   5           0.980202             4   \n",
       "1    25   5           0.983006            25   \n",
       "2     4   6           0.967475             4   \n",
       "\n",
       "                  event_node_name_from  node_id_to  \\\n",
       "0  ap|ap|ap_disconnect|locally_offline           5   \n",
       "1            ap|ap|bad_cable|bad_cable           5   \n",
       "2  ap|ap|ap_disconnect|locally_offline           6   \n",
       "\n",
       "                                 event_node_name_to  \\\n",
       "0                ap|ap|ap_disconnect|locally_online   \n",
       "1                ap|ap|ap_disconnect|locally_online   \n",
       "2  ap|ap|ap_disconnect|mutual_authentication_failed   \n",
       "\n",
       "                                            matchcol  \\\n",
       "0  ap|ap|ap_disconnect|locally_offline_ap|ap|ap_d...   \n",
       "1  ap|ap|bad_cable|bad_cable_ap|ap|ap_disconnect|...   \n",
       "2  ap|ap|ap_disconnect|locally_offline_ap|ap|ap_d...   \n",
       "\n",
       "                          event_name_1  \\\n",
       "0  ap|ap|ap_disconnect|locally_offline   \n",
       "1            ap|ap|bad_cable|bad_cable   \n",
       "2  ap|ap|ap_disconnect|locally_offline   \n",
       "\n",
       "                                       event_name_2 Possible [y/n]  \\\n",
       "0                ap|ap|ap_disconnect|locally_online              y   \n",
       "1                ap|ap|ap_disconnect|locally_online              y   \n",
       "2  ap|ap|ap_disconnect|mutual_authentication_failed              y   \n",
       "\n",
       "  Confidence [H/M/L]                  Comments Already known [Y/N]  \\\n",
       "0                NaN                       NaN                   y   \n",
       "1                NaN  get eamples on these one                 NaN   \n",
       "2                NaN                       NaN                   y   \n",
       "\n",
       "  Impact [H/L]  \n",
       "0          NaN  \n",
       "1          NaN  \n",
       "2          NaN  "
      ]
     },
     "execution_count": 158,
     "metadata": {},
     "output_type": "execute_result"
    }
   ],
   "source": [
    "dfout3.head(3)"
   ]
  },
  {
   "cell_type": "code",
   "execution_count": 166,
   "id": "5ebf278f",
   "metadata": {},
   "outputs": [],
   "source": [
    "threshold=0.97\n",
    "dfout3['pred'] = dfout3['similarity_normed']>threshold\n",
    "\n",
    "dfout3['truth'] = dfout3['Possible [y/n]']!=\"N\""
   ]
  },
  {
   "cell_type": "code",
   "execution_count": null,
   "id": "c60124bc",
   "metadata": {},
   "outputs": [],
   "source": []
  },
  {
   "cell_type": "code",
   "execution_count": 167,
   "id": "e316947e",
   "metadata": {},
   "outputs": [
    {
     "data": {
      "text/html": [
       "<div>\n",
       "<style scoped>\n",
       "    .dataframe tbody tr th:only-of-type {\n",
       "        vertical-align: middle;\n",
       "    }\n",
       "\n",
       "    .dataframe tbody tr th {\n",
       "        vertical-align: top;\n",
       "    }\n",
       "\n",
       "    .dataframe thead th {\n",
       "        text-align: right;\n",
       "    }\n",
       "</style>\n",
       "<table border=\"1\" class=\"dataframe\">\n",
       "  <thead>\n",
       "    <tr style=\"text-align: right;\">\n",
       "      <th></th>\n",
       "      <th>event_node_name_from</th>\n",
       "      <th>event_node_name_to</th>\n",
       "      <th>pred</th>\n",
       "      <th>truth</th>\n",
       "    </tr>\n",
       "  </thead>\n",
       "  <tbody>\n",
       "    <tr>\n",
       "      <th>0</th>\n",
       "      <td>ap|ap|ap_disconnect|locally_offline</td>\n",
       "      <td>ap|ap|ap_disconnect|locally_online</td>\n",
       "      <td>True</td>\n",
       "      <td>True</td>\n",
       "    </tr>\n",
       "    <tr>\n",
       "      <th>1</th>\n",
       "      <td>ap|ap|bad_cable|bad_cable</td>\n",
       "      <td>ap|ap|ap_disconnect|locally_online</td>\n",
       "      <td>True</td>\n",
       "      <td>True</td>\n",
       "    </tr>\n",
       "    <tr>\n",
       "      <th>2</th>\n",
       "      <td>ap|ap|ap_disconnect|locally_offline</td>\n",
       "      <td>ap|ap|ap_disconnect|mutual_authentication_failed</td>\n",
       "      <td>False</td>\n",
       "      <td>True</td>\n",
       "    </tr>\n",
       "  </tbody>\n",
       "</table>\n",
       "</div>"
      ],
      "text/plain": [
       "                  event_node_name_from  \\\n",
       "0  ap|ap|ap_disconnect|locally_offline   \n",
       "1            ap|ap|bad_cable|bad_cable   \n",
       "2  ap|ap|ap_disconnect|locally_offline   \n",
       "\n",
       "                                 event_node_name_to   pred  truth  \n",
       "0                ap|ap|ap_disconnect|locally_online   True   True  \n",
       "1                ap|ap|ap_disconnect|locally_online   True   True  \n",
       "2  ap|ap|ap_disconnect|mutual_authentication_failed  False   True  "
      ]
     },
     "execution_count": 167,
     "metadata": {},
     "output_type": "execute_result"
    }
   ],
   "source": [
    "selcols1 = ['event_node_name_from', 'event_node_name_to', 'pred', 'truth']\n",
    "\n",
    "dfout3[selcols1].head(3)"
   ]
  },
  {
   "cell_type": "code",
   "execution_count": 168,
   "id": "a37d0bf5",
   "metadata": {},
   "outputs": [
    {
     "data": {
      "text/plain": [
       "True     27\n",
       "False    10\n",
       "Name: truth, dtype: int64"
      ]
     },
     "execution_count": 168,
     "metadata": {},
     "output_type": "execute_result"
    }
   ],
   "source": [
    "dfout3.truth.value_counts()"
   ]
  },
  {
   "cell_type": "code",
   "execution_count": 169,
   "id": "692aec54",
   "metadata": {},
   "outputs": [],
   "source": [
    "from sklearn.metrics import confusion_matrix"
   ]
  },
  {
   "cell_type": "code",
   "execution_count": 172,
   "id": "3d246c39",
   "metadata": {},
   "outputs": [
    {
     "data": {
      "text/plain": [
       "array([[ 3,  7],\n",
       "       [ 3, 24]])"
      ]
     },
     "execution_count": 172,
     "metadata": {},
     "output_type": "execute_result"
    }
   ],
   "source": [
    "a = confusion_matrix(dfout3.truth, dfout3.pred)\n",
    "a"
   ]
  },
  {
   "cell_type": "code",
   "execution_count": 177,
   "id": "a0fab506",
   "metadata": {},
   "outputs": [
    {
     "name": "stdout",
     "output_type": "stream",
     "text": [
      "accuracy is 0.7297\n"
     ]
    }
   ],
   "source": [
    "accuracy = (a[0][0]+a[1][1])/(a.sum())\n",
    "\n",
    "print('accuracy is %0.4f' %accuracy)"
   ]
  },
  {
   "cell_type": "code",
   "execution_count": 175,
   "id": "6419a1ed",
   "metadata": {},
   "outputs": [
    {
     "data": {
      "text/plain": [
       "37"
      ]
     },
     "execution_count": 175,
     "metadata": {},
     "output_type": "execute_result"
    }
   ],
   "source": [
    "a.sum()"
   ]
  },
  {
   "cell_type": "code",
   "execution_count": null,
   "id": "bf0d96f8",
   "metadata": {},
   "outputs": [],
   "source": []
  }
 ],
 "metadata": {
  "kernelspec": {
   "display_name": "Python 3",
   "language": "python",
   "name": "python3"
  },
  "language_info": {
   "codemirror_mode": {
    "name": "ipython",
    "version": 3
   },
   "file_extension": ".py",
   "mimetype": "text/x-python",
   "name": "python",
   "nbconvert_exporter": "python",
   "pygments_lexer": "ipython3",
   "version": "3.8.8"
  }
 },
 "nbformat": 4,
 "nbformat_minor": 5
}
