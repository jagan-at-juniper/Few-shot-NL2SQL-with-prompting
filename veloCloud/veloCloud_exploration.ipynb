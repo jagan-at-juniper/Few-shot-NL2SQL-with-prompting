{
 "cells": [
  {
   "cell_type": "code",
   "execution_count": 1,
   "metadata": {},
   "outputs": [
    {
     "name": "stdout",
     "output_type": "stream",
     "text": [
      "s3://mist-secorapp-staging/zones-sessions_rewrite/velocloud/linkstats/dt=20200316/hr=23/link_data_2020_03_16_23.txt\n"
     ]
    }
   ],
   "source": [
    "from pyspark.sql.functions import udf, size, avg, count, col,sum, explode\n",
    "import json\n",
    "import datetime\n",
    "\n",
    "env = \"staging\"\n",
    "s3_bucket = \"s3://mist-secorapp-{env}/zones-sessions_rewrite/velocloud/\".format(env=env)\n",
    "date_day= datetime.datetime.today().strftime(\"%Y%m%d\")\n",
    "hr = '23'\n",
    "date_day = \"20200316\"\n",
    "\n",
    "s3_file_path =  \"linkstats/dt={date_day}/hr={hr}/link_data_2020_03_16_23.txt\".format(date_day=date_day, hr=hr)\n",
    "\n",
    "s3_file_path =s3_bucket + s3_file_path\n",
    "\n",
    "print(s3_file_path)\n",
    "\n"
   ]
  },
  {
   "cell_type": "code",
   "execution_count": 2,
   "metadata": {},
   "outputs": [
    {
     "data": {
      "text/plain": [
       "['1584399298367\\t1584399598367\\tGE3\\t00000003-646b-47e0-91ac-163565b0ab63\\t73.92.124.103\\tACTIVE\\t58:f3:9c:f2:89:db:0000\\t0\\t235143\\t56326\\t63835\\tfalse\\tSTABLE\\t169797\\t181177\\t1393\\t834\\tSTABLE\\t',\n",
       " '1584399598367\\t1584399898367\\tGE3\\t00000003-646b-47e0-91ac-163565b0ab63\\t73.92.124.103\\tACTIVE\\t58:f3:9c:f2:89:db:0000\\t0\\t232242\\t50136\\t54314\\tfalse\\tSTABLE\\t171368\\t158489\\t1244\\t685\\tSTABLE\\t',\n",
       " '1584399898367\\t1584400198367\\tGE3\\t00000003-646b-47e0-91ac-163565b0ab63\\t73.92.124.103\\tACTIVE\\t58:f3:9c:f2:89:db:0000\\t0\\t231111\\t47115\\t50218\\tfalse\\tSTABLE\\t160586\\t165710\\t1244\\t685\\tSTABLE\\t']"
      ]
     },
     "execution_count": 2,
     "metadata": {},
     "output_type": "execute_result"
    }
   ],
   "source": [
    "rdd = spark.sparkContext.textFile(s3_file_path)\n",
    "rdd.take(3)"
   ]
  },
  {
   "cell_type": "code",
   "execution_count": null,
   "metadata": {},
   "outputs": [],
   "source": []
  },
  {
   "cell_type": "code",
   "execution_count": 3,
   "metadata": {},
   "outputs": [],
   "source": [
    "# rdd_rrm_local.map(lambda line: (line.split(',')[0], line.split(',')[1])).collect()"
   ]
  },
  {
   "cell_type": "code",
   "execution_count": null,
   "metadata": {},
   "outputs": [],
   "source": []
  },
  {
   "cell_type": "code",
   "execution_count": 7,
   "metadata": {},
   "outputs": [],
   "source": [
    "\n",
    "df = spark.read.format(\"csv\")\\\n",
    "   .option(\"header\", \"false\")\\\n",
    "   .option(\"inferSchema\", \"true\")\\\n",
    "   .load(s3_file_path)\n",
    "df.createOrReplaceTempView(\"velocloud_data\")\n",
    "df_Schema = df.schema"
   ]
  },
  {
   "cell_type": "code",
   "execution_count": 8,
   "metadata": {},
   "outputs": [
    {
     "data": {
      "text/plain": [
       "StructType(List(StructField(_c0,StringType,true)))"
      ]
     },
     "execution_count": 8,
     "metadata": {},
     "output_type": "execute_result"
    }
   ],
   "source": [
    "df_Schema"
   ]
  },
  {
   "cell_type": "code",
   "execution_count": 9,
   "metadata": {},
   "outputs": [
    {
     "name": "stdout",
     "output_type": "stream",
     "text": [
      "+---------------------------------------------------------------------------------------------------------------------------------------------------------------------------------+\n",
      "|1584399298367\t1584399598367\tGE3\t00000003-646b-47e0-91ac-163565b0ab63\t73.92.124.103\tACTIVE\t58:f3:9c:f2:89:db:0000\t0\t235143\t56326\t63835\tfalse\tSTABLE\t169797\t181177\t1393\t834\tSTABLE\t|\n",
      "+---------------------------------------------------------------------------------------------------------------------------------------------------------------------------------+\n",
      "|                                                                                                                                                             1584399598367\t158...|\n",
      "|                                                                                                                                                             1584399898367\t158...|\n",
      "|                                                                                                                                                             1584400198367\t158...|\n",
      "|                                                                                                                                                             1584400498367\t158...|\n",
      "|                                                                                                                                                             1584400798368\t158...|\n",
      "|                                                                                                                                                             1584401098367\t158...|\n",
      "|                                                                                                                                                             1584401398367\t158...|\n",
      "|                                                                                                                                                             1584401698367\t158...|\n",
      "|                                                                                                                                                             1584401998367\t158...|\n",
      "|                                                                                                                                                             1584402298367\t158...|\n",
      "|                                                                                                                                                             1584402598367\t158...|\n",
      "+---------------------------------------------------------------------------------------------------------------------------------------------------------------------------------+\n",
      "\n"
     ]
    }
   ],
   "source": [
    "df_scan.show()"
   ]
  },
  {
   "cell_type": "code",
   "execution_count": 11,
   "metadata": {},
   "outputs": [
    {
     "name": "stdout",
     "output_type": "stream",
     "text": [
      "+-------+--------------------+\n",
      "|summary|                 _c0|\n",
      "+-------+--------------------+\n",
      "|  count|                  12|\n",
      "|   mean|                null|\n",
      "| stddev|                null|\n",
      "|    min|1584399298367\t158...|\n",
      "|    max|1584402598367\t158...|\n",
      "+-------+--------------------+\n",
      "\n"
     ]
    }
   ],
   "source": [
    "df.describe().show()"
   ]
  },
  {
   "cell_type": "code",
   "execution_count": null,
   "metadata": {},
   "outputs": [],
   "source": []
  }
 ],
 "metadata": {
  "kernelspec": {
   "display_name": "Python 3",
   "language": "python",
   "name": "python3"
  },
  "language_info": {
   "codemirror_mode": {
    "name": "ipython",
    "version": 3
   },
   "file_extension": ".py",
   "mimetype": "text/x-python",
   "name": "python",
   "nbconvert_exporter": "python",
   "pygments_lexer": "ipython3",
   "version": "3.7.4"
  }
 },
 "nbformat": 4,
 "nbformat_minor": 4
}
