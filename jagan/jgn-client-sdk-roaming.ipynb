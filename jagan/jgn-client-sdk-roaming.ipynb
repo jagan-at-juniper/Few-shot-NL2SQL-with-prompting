{
 "cells": [
  {
   "cell_type": "code",
   "execution_count": 1,
   "id": "137d2a58",
   "metadata": {},
   "outputs": [
    {
     "data": {
      "application/vnd.jupyter.widget-view+json": {
       "model_id": "9ec3f5d291234cfd913a449b0efad159",
       "version_major": 2,
       "version_minor": 0
      },
      "text/plain": [
       "VBox()"
      ]
     },
     "metadata": {},
     "output_type": "display_data"
    },
    {
     "name": "stdout",
     "output_type": "stream",
     "text": [
      "Starting Spark application\n"
     ]
    },
    {
     "data": {
      "text/html": [
       "<table>\n",
       "<tr><th>ID</th><th>YARN Application ID</th><th>Kind</th><th>State</th><th>Spark UI</th><th>Driver log</th><th>Current session?</th></tr><tr><td>89</td><td>application_1618773637871_0098</td><td>pyspark</td><td>idle</td><td><a target=\"_blank\" href=\"http://ip-172-31-51-170.ec2.internal:20888/proxy/application_1618773637871_0098/\">Link</a></td><td><a target=\"_blank\" href=\"http://ip-172-31-50-180.ec2.internal:8042/node/containerlogs/container_1618773637871_0098_01_000001/livy\">Link</a></td><td>✔</td></tr></table>"
      ],
      "text/plain": [
       "<IPython.core.display.HTML object>"
      ]
     },
     "metadata": {},
     "output_type": "display_data"
    },
    {
     "data": {
      "application/vnd.jupyter.widget-view+json": {
       "model_id": "",
       "version_major": 2,
       "version_minor": 0
      },
      "text/plain": [
       "FloatProgress(value=0.0, bar_style='info', description='Progress:', layout=Layout(height='25px', width='50%'),…"
      ]
     },
     "metadata": {},
     "output_type": "display_data"
    },
    {
     "name": "stdout",
     "output_type": "stream",
     "text": [
      "SparkSession available as 'spark'.\n"
     ]
    },
    {
     "data": {
      "application/vnd.jupyter.widget-view+json": {
       "model_id": "",
       "version_major": 2,
       "version_minor": 0
      },
      "text/plain": [
       "FloatProgress(value=0.0, bar_style='info', description='Progress:', layout=Layout(height='25px', width='50%'),…"
      ]
     },
     "metadata": {},
     "output_type": "display_data"
    },
    {
     "name": "stdout",
     "output_type": "stream",
     "text": [
      "s3://mist-secorapp-production/mobile-client-marvis/mobile-client-marvis-production/dt=2021-04-*/*/*.seq"
     ]
    }
   ],
   "source": [
    "from pyspark.sql.functions import udf, size, avg, count, col,sum, explode\n",
    "import json\n",
    "from datetime import datetime,timedelta\n",
    "env = \"production\"\n",
    "# env = \"staging\"\n",
    "# \n",
    "s3_mobile_client_bucket = \"s3://mist-secorapp-{env}/mobile-client-marvis/mobile-client-marvis-{env}/\".format(env=env)\n",
    "\n",
    "now = datetime.now()  - timedelta(hours=3)\n",
    "date_day = now.strftime(\"%Y-%m-%d\")\n",
    "date_hour = now.strftime(\"%H\")\n",
    "\n",
    "\n",
    "#date_day = \"2021-03-*\"\n",
    "#date_hour = \"*\"\n",
    "\n",
    "date_day = \"2021-04-*\"\n",
    "date_hour = \"*\"\n",
    "\n",
    "s3_mobile_client_path = s3_mobile_client_bucket + \"dt={date}/{hr}/*.seq\".format(date=date_day, hr=date_hour)\n",
    "print(s3_mobile_client_path)"
   ]
  },
  {
   "cell_type": "code",
   "execution_count": 2,
   "id": "c677036c",
   "metadata": {},
   "outputs": [
    {
     "data": {
      "application/vnd.jupyter.widget-view+json": {
       "model_id": "8bc54e2da8544913a69568b1da020e8f",
       "version_major": 2,
       "version_minor": 0
      },
      "text/plain": [
       "VBox()"
      ]
     },
     "metadata": {},
     "output_type": "display_data"
    },
    {
     "data": {
      "application/vnd.jupyter.widget-view+json": {
       "model_id": "",
       "version_major": 2,
       "version_minor": 0
      },
      "text/plain": [
       "FloatProgress(value=0.0, bar_style='info', description='Progress:', layout=Layout(height='25px', width='50%'),…"
      ]
     },
     "metadata": {},
     "output_type": "display_data"
    }
   ],
   "source": [
    "rdd_mobile_client = spark.sparkContext.sequenceFile(s3_mobile_client_path)\n"
   ]
  },
  {
   "cell_type": "code",
   "execution_count": 3,
   "id": "7dc74565",
   "metadata": {},
   "outputs": [
    {
     "data": {
      "application/vnd.jupyter.widget-view+json": {
       "model_id": "323e2ea2543347c881ba3e331f19ef0f",
       "version_major": 2,
       "version_minor": 0
      },
      "text/plain": [
       "VBox()"
      ]
     },
     "metadata": {},
     "output_type": "display_data"
    },
    {
     "data": {
      "application/vnd.jupyter.widget-view+json": {
       "model_id": "",
       "version_major": 2,
       "version_minor": 0
      },
      "text/plain": [
       "FloatProgress(value=0.0, bar_style='info', description='Progress:', layout=Layout(height='25px', width='50%'),…"
      ]
     },
     "metadata": {},
     "output_type": "display_data"
    }
   ],
   "source": [
    "from datetime import datetime as dt\n",
    "\n",
    "def EpochTime():\n",
    "    # Unix time \n",
    "    return( dt(1970, 1, 1) )\n",
    "\n",
    "def TimeSinceEpoch( ts ):\n",
    "    # Seconds since Epoch\n",
    "    return( int((dt.strptime(ts, \"%Y-%m-%dT%H:%M:%S.%fZ\") - EpochTime()).total_seconds()) )\n"
   ]
  },
  {
   "cell_type": "code",
   "execution_count": null,
   "id": "83136893",
   "metadata": {},
   "outputs": [],
   "source": []
  },
  {
   "cell_type": "code",
   "execution_count": 4,
   "id": "8dda1601",
   "metadata": {},
   "outputs": [
    {
     "data": {
      "application/vnd.jupyter.widget-view+json": {
       "model_id": "6b4c74758bdf440986cb6c1e97b9195e",
       "version_major": 2,
       "version_minor": 0
      },
      "text/plain": [
       "VBox()"
      ]
     },
     "metadata": {},
     "output_type": "display_data"
    },
    {
     "data": {
      "application/vnd.jupyter.widget-view+json": {
       "model_id": "",
       "version_major": 2,
       "version_minor": 0
      },
      "text/plain": [
       "FloatProgress(value=0.0, bar_style='info', description='Progress:', layout=Layout(height='25px', width='50%'),…"
      ]
     },
     "metadata": {},
     "output_type": "display_data"
    }
   ],
   "source": [
    "# used to ignore BSSID change if time gap between current and prior events is more than TIME_GAP\n",
    "TIME_GAP = 3\n",
    "\n",
    "def DetectRoamingEvent( rawdata ): \n",
    "    # \n",
    "    # Detect event in Tests temporal sequence where current BSSID is different than prior BSSID\n",
    "    #\n",
    "    decoded_rawdata=rawdata[1].decode()\n",
    "    data=json.loads(decoded_rawdata) \n",
    "\n",
    "    try:\n",
    "        nreadings = len( data['Result']['Stats']['Passive']['Tests'] )\n",
    "        tests = data['Result']['Stats']['Passive']['Tests']\n",
    "        BSSID_change = False\n",
    "        if( nreadings > 1 ):\n",
    "            date = str(data['Result']['Stats']['Passive']['Tests'][0]['Timestamp'])\n",
    "            Start_TimeSinceEpoch = int((dt.strptime(date, \"%Y-%m-%dT%H:%M:%S.%fZ\") - EpochTime()).total_seconds())\n",
    "            for i in range(1, nreadings):\n",
    "                prevTime = TimeSinceEpoch( str(tests[i-1]['Timestamp'])) - Start_TimeSinceEpoch\n",
    "                currTime = TimeSinceEpoch( str(tests[i]['Timestamp'])) - Start_TimeSinceEpoch\n",
    "\n",
    "                if ( ( tests[i-1]['WiFiConnectionData']['BSSID'] != tests[i]['WiFiConnectionData']['BSSID'] ) and\n",
    "                    ( currTime - prevTime <= TIME_GAP ) \n",
    "                    ):\n",
    "                    BSSID_change = True or BSSID_change\n",
    "                else:\n",
    "                    BSSID_change = False or BSSID_change                 \n",
    "    except ( KeyError, TypeError ):\n",
    "        pass\n",
    "\n",
    "    return( BSSID_change )\n",
    "    \n",
    "def RoamingEvents(a):\n",
    "    ok = DetectRoamingEvent(a)\n",
    "    return(ok)\n",
    "\n",
    "def FindSpecificEvents( rawdata ): \n",
    "    start_ts = 0\n",
    "    end_ts = 1\n",
    "    start_ts = 1617748240\n",
    "    end_ts = 1617748241\n",
    "    \n",
    "    decoded_rawdata=rawdata[1].decode()\n",
    "    data=json.loads(decoded_rawdata) \n",
    "\n",
    "    try:\n",
    "        found = False\n",
    "        nreadings = len( data['Result']['Stats']['Passive']['Tests'] )\n",
    "        if( nreadings > 0 ):\n",
    "            if( data['Result']['Stats']['Passive']['Tests'][0] != None and data['Result']['Stats']['Passive']['Tests'][nreadings-1] != None ):\n",
    "                first_ts = TimeSinceEpoch( str(data['Result']['Stats']['Passive']['Tests'][0]['Timestamp']))\n",
    "                last_ts = TimeSinceEpoch( str(data['Result']['Stats']['Passive']['Tests'][nreadings-1]['Timestamp']))             \n",
    "                if( first_ts <= start_ts and last_ts >= end_ts ):\n",
    "                    found = True\n",
    "                else:\n",
    "                    found = False\n",
    "            else:\n",
    "                found = False\n",
    "        else:\n",
    "            found = False\n",
    "    except ( KeyError, IndexError, TypeError ):\n",
    "        found = False\n",
    "        \n",
    "    return found\n",
    "\n",
    "def SpecificEvents(a):\n",
    "    ok = FindSpecificEvents( a )\n",
    "    return( ok )"
   ]
  },
  {
   "cell_type": "code",
   "execution_count": null,
   "id": "284808b4",
   "metadata": {},
   "outputs": [],
   "source": [
    "# for debugging purposes\n",
    "import pprint\n",
    "rddSpecificTests = rdd_mobile_client.filter(SpecificEvents)\n",
    "rddSpecificTestsCount = rddSpecificTests.count()\n",
    "print( \"# Specific Tests: \" + str( rddSpecificTestsCount ) )\n",
    "if( rddSpecificTestsCount > 0 ):\n",
    "    data_Specific = rddSpecificTests.take(rddSpecificTestsCount)\n",
    "    for i in range( rddSpecificTestsCount ):\n",
    "        pprint.pprint( json.loads( data_Specific[i][1] ) )"
   ]
  },
  {
   "cell_type": "code",
   "execution_count": 5,
   "id": "6af1ba24",
   "metadata": {},
   "outputs": [
    {
     "data": {
      "application/vnd.jupyter.widget-view+json": {
       "model_id": "129f01067448457296329ccda8e875f2",
       "version_major": 2,
       "version_minor": 0
      },
      "text/plain": [
       "VBox()"
      ]
     },
     "metadata": {},
     "output_type": "display_data"
    },
    {
     "data": {
      "application/vnd.jupyter.widget-view+json": {
       "model_id": "",
       "version_major": 2,
       "version_minor": 0
      },
      "text/plain": [
       "FloatProgress(value=0.0, bar_style='info', description='Progress:', layout=Layout(height='25px', width='50%'),…"
      ]
     },
     "metadata": {},
     "output_type": "display_data"
    },
    {
     "name": "stdout",
     "output_type": "stream",
     "text": [
      "# Roaming Tests: 10705"
     ]
    }
   ],
   "source": [
    "#\n",
    "# RDD Filter tests (test sequences) that contain roaming event(s)\n",
    "#\n",
    "rddRoamingTests = rdd_mobile_client.filter(RoamingEvents)\n",
    "rddRoamingTestsCount = rddRoamingTests.count()\n",
    "print( \"# Roaming Tests: \" + str( rddRoamingTestsCount ) )\n",
    "# Get Filtered Events\n",
    "if( rddRoamingTestsCount > 0 ):\n",
    "    data_Roaming = rddRoamingTests.take(rddRoamingTestsCount)"
   ]
  },
  {
   "cell_type": "code",
   "execution_count": 6,
   "id": "00f5333b",
   "metadata": {},
   "outputs": [
    {
     "data": {
      "application/vnd.jupyter.widget-view+json": {
       "model_id": "556355c2ca5d4b29a487392c8cbe8096",
       "version_major": 2,
       "version_minor": 0
      },
      "text/plain": [
       "VBox()"
      ]
     },
     "metadata": {},
     "output_type": "display_data"
    },
    {
     "data": {
      "application/vnd.jupyter.widget-view+json": {
       "model_id": "",
       "version_major": 2,
       "version_minor": 0
      },
      "text/plain": [
       "FloatProgress(value=0.0, bar_style='info', description='Progress:', layout=Layout(height='25px', width='50%'),…"
      ]
     },
     "metadata": {},
     "output_type": "display_data"
    }
   ],
   "source": [
    "import pandas as pd\n",
    "from datetime import datetime as dt\n",
    "import pprint\n",
    "import os\n",
    "\n",
    "NEXT_N=5\n",
    "\n",
    "BAD_THRESHOLD=-75\n",
    "GOOD_THRESHOLD=-60\n",
    "\n",
    "LARGE_CHANGE_PCT=0.10\n",
    "SMALL_CHANGE_PCT=0.05\n",
    "\n",
    "LOWEST_RSSI = -1023\n",
    "TOO_MANY_GOOD_BSSIDS = 3"
   ]
  },
  {
   "cell_type": "code",
   "execution_count": 7,
   "id": "1ec164eb",
   "metadata": {},
   "outputs": [
    {
     "data": {
      "application/vnd.jupyter.widget-view+json": {
       "model_id": "bed9e0bbedfd443985e1eb5672c6b075",
       "version_major": 2,
       "version_minor": 0
      },
      "text/plain": [
       "VBox()"
      ]
     },
     "metadata": {},
     "output_type": "display_data"
    },
    {
     "data": {
      "application/vnd.jupyter.widget-view+json": {
       "model_id": "",
       "version_major": 2,
       "version_minor": 0
      },
      "text/plain": [
       "FloatProgress(value=0.0, bar_style='info', description='Progress:', layout=Layout(height='25px', width='50%'),…"
      ]
     },
     "metadata": {},
     "output_type": "display_data"
    }
   ],
   "source": [
    "def valid_testdatapoint( tdp ):\n",
    "    #\n",
    "    # Drop test data points when they are invalid\n",
    "    #\n",
    "    try:\n",
    "        if( tdp == None ):\n",
    "            return False\n",
    "        if( tdp['BSSID'] == '00:00:00:00:00:00' ):\n",
    "            return False\n",
    "        if( tdp['ConnectionType'] == \"\" ):\n",
    "            return False\n",
    "        if( tdp['RSSI'] >= -1 ):\n",
    "            return False\n",
    "        return True \n",
    "    except KeyError:\n",
    "        return False\n",
    "\n",
    "def WiFiScan2String( tdp ):\n",
    "    #\n",
    "    # Convert WiFiScan array to a BSSID,RSSI array\n",
    "    #\n",
    "    line = \"\"\n",
    "    oldline = \"\"\n",
    "    try:\n",
    "        if ( tdp != None ) and ( len( tdp['WiFiScanData'] ) > 0 ):\n",
    "            for s in range( len( tdp['WiFiScanData'] ) ):\n",
    "                line = line + \"<\" + str( tdp['WiFiScanData'][s]['BSSID'] ) + \" : \" + str( tdp['WiFiScanData'][s]['Level'] ) + \" @ \"\n",
    "                str( tdp['WiFiScanData'][s]['WifiScanTimeStamp'] ) + \">\" \n",
    "                oldline = line\n",
    "        return line\n",
    "    except ( KeyError, IndexError ):\n",
    "        return oldline\n",
    "        "
   ]
  },
  {
   "cell_type": "code",
   "execution_count": 8,
   "id": "8e458691",
   "metadata": {},
   "outputs": [
    {
     "data": {
      "application/vnd.jupyter.widget-view+json": {
       "model_id": "0e945e4c8a424c6c9092e1e37979e685",
       "version_major": 2,
       "version_minor": 0
      },
      "text/plain": [
       "VBox()"
      ]
     },
     "metadata": {},
     "output_type": "display_data"
    },
    {
     "data": {
      "application/vnd.jupyter.widget-view+json": {
       "model_id": "",
       "version_major": 2,
       "version_minor": 0
      },
      "text/plain": [
       "FloatProgress(value=0.0, bar_style='info', description='Progress:', layout=Layout(height='25px', width='50%'),…"
      ]
     },
     "metadata": {},
     "output_type": "display_data"
    }
   ],
   "source": [
    "def WiFiScanDataPresent( prior_dpt, current_dpt ):\n",
    "    #\n",
    "    # Check if WiFiScanData is present with prior or current data point\n",
    "    #\n",
    "    if( ( len( prior_dpt['WiFiScanData'] ) > 0 ) or\n",
    "        ( len( current_dpt['WiFiScanData'] ) > 0 )\n",
    "      ):\n",
    "        return True\n",
    "    else:\n",
    "        return False\n",
    "\n",
    "def BetterBSSIDExists( prior_dpt, current_dpt ):\n",
    "    #\n",
    "    # Examine WiFiScanData associated with Prior or Current test datapoint if available\n",
    "    # to see if a BSSID with a higher (better) RSSI exists\n",
    "    # Return True if so, False if not\n",
    "    #\n",
    "    \n",
    "    best_BSSID = \"\"\n",
    "    best_RSSI = LOWEST_RSSI    \n",
    "    if( len( prior_dpt['WiFiScanData'] ) > 0 ):   # WiFiScanData with Prior TestDataPoint\n",
    "        for s in range( len( prior_dpt['WiFiScanData']) ):\n",
    "            if( prior_dpt['WiFiScanData'][s]['Level'] > best_RSSI ):\n",
    "                best_RSSI = int(prior_dpt['WiFiScanData'][s]['Level'])\n",
    "                best_BSSID = prior_dpt['WiFiScanData'][s]['BSSID']\n",
    "    elif( len( current_dpt['WiFiScanData'] ) > 0 ): # WiFiScanData with Current TestDatapoint\n",
    "        for s in range( len( current_dpt['WiFiScanData']) ):\n",
    "            if( current_dpt['WiFiScanData'][s]['Level'] > best_RSSI ):\n",
    "                best_RSSI = int(current_dpt['WiFiScanData'][s]['Level'])\n",
    "                best_BSSID = current_dpt['WiFiScanData'][s]['BSSID']             \n",
    "    if( ( best_BSSID != current_dpt['BSSID'] ) and ( best_RSSI > current_dpt['RSSI'] ) ): # Does a better RSSI exist\n",
    "        return True\n",
    "    else:\n",
    "        return False\n",
    "    \n",
    "def BestBSSIDSelected( prior_dpt, current_dpt ):\n",
    "    #\n",
    "    # Examine WiFiScanData associated with Prior or Current test datapoint if available\n",
    "    # to see if the current RSSI is the same as the best available one \n",
    "    # Return True if so, False if not\n",
    "    #\n",
    "    \n",
    "    best_BSSID = current_dpt['BSSID']\n",
    "    best_RSSI = current_dpt['RSSI']\n",
    "    if( len( prior_dpt['WiFiScanData'] ) > 0 ):     # WiFiScanData with Prior TestDataPoint\n",
    "        for s in range( len( prior_dpt['WiFiScanData']) ):\n",
    "            if( prior_dpt['WiFiScanData'][s]['Level'] > best_RSSI ):\n",
    "                best_RSSI = int(prior_dpt['WiFiScanData'][s]['Level'])\n",
    "                best_BSSID = prior_dpt['WiFiScanData'][s]['BSSID']\n",
    "    elif( len( current_dpt['WiFiScanData'] ) > 0 ): # WiFiScanData with Current TestDatapoint\n",
    "        for s in range( len( current_dpt['WiFiScanData']) ):\n",
    "            if( current_dpt['WiFiScanData'][s]['Level'] > best_RSSI ):\n",
    "                best_RSSI = int(current_dpt['WiFiScanData'][s]['Level'])\n",
    "                best_BSSID = current_dpt['WiFiScanData'][s]['BSSID']        \n",
    "    if( ( best_BSSID == current_dpt['BSSID'] ) and ( best_RSSI >= current_dpt['RSSI'] ) ): # Is the current RSSI the same as Best RSSI \n",
    "        return True\n",
    "    else:\n",
    "        return False \n",
    "    \n",
    "def TooManyGoodBSSIDExists( prior_dpt, current_dpt ):\n",
    "    #\n",
    "    # Examine WiFiScanData associated with Prior or Current test datapoint if available\n",
    "    # to see if there are several (too many) BSSIDs with superior RSSI that are available\n",
    "    # Return True if so, False if not\n",
    "    #\n",
    "    \n",
    "    count = 0\n",
    "    current_RSSI = current_dpt['RSSI']\n",
    "    if( len( prior_dpt['WiFiScanData'] ) > 0 ):\n",
    "        for s in range( len( prior_dpt['WiFiScanData']) ):\n",
    "            if( prior_dpt['WiFiScanData'][s]['Level'] > current_RSSI ):\n",
    "                count = count + 1 \n",
    "    elif( len( current_dpt['WiFiScanData'] ) > 0 ):\n",
    "        for s in range( len( current_dpt['WiFiScanData']) ):\n",
    "            if( current_dpt['WiFiScanData'][s]['Level'] > current_RSSI ):\n",
    "                count = count + 1        \n",
    "    if( count >= TOO_MANY_GOOD_BSSIDS ):\n",
    "        return True\n",
    "    else:\n",
    "        return False\n"
   ]
  },
  {
   "cell_type": "code",
   "execution_count": 9,
   "id": "3f9c184c",
   "metadata": {},
   "outputs": [
    {
     "data": {
      "application/vnd.jupyter.widget-view+json": {
       "model_id": "5c96e78eb12448b3ae4e1c2f518c28d5",
       "version_major": 2,
       "version_minor": 0
      },
      "text/plain": [
       "VBox()"
      ]
     },
     "metadata": {},
     "output_type": "display_data"
    },
    {
     "data": {
      "application/vnd.jupyter.widget-view+json": {
       "model_id": "",
       "version_major": 2,
       "version_minor": 0
      },
      "text/plain": [
       "FloatProgress(value=0.0, bar_style='info', description='Progress:', layout=Layout(height='25px', width='50%'),…"
      ]
     },
     "metadata": {},
     "output_type": "display_data"
    }
   ],
   "source": [
    "def drop( old, new, pct ):\n",
    "    #\n",
    "    # Check if the drop ratio is greater than pct\n",
    "    #\n",
    "    diff = new - old\n",
    "    if( diff < 0 ):\n",
    "        result = ( abs(diff/new) >= pct )\n",
    "    else:\n",
    "        result = False\n",
    "    return result\n",
    "\n",
    "def gain( old, new, pct ):\n",
    "    #\n",
    "    # Check if the gain ratio is greater than pct\n",
    "    #\n",
    "    diff = new - old\n",
    "    if( diff > 0 ):\n",
    "        result = ( abs(diff/new) >= pct )\n",
    "    else:\n",
    "        result = False\n",
    "    return result\n"
   ]
  },
  {
   "cell_type": "code",
   "execution_count": 10,
   "id": "3bbc729a",
   "metadata": {},
   "outputs": [
    {
     "data": {
      "application/vnd.jupyter.widget-view+json": {
       "model_id": "97ff72f3ab6e4f80842ce2c95795bda1",
       "version_major": 2,
       "version_minor": 0
      },
      "text/plain": [
       "VBox()"
      ]
     },
     "metadata": {},
     "output_type": "display_data"
    },
    {
     "data": {
      "application/vnd.jupyter.widget-view+json": {
       "model_id": "",
       "version_major": 2,
       "version_minor": 0
      },
      "text/plain": [
       "FloatProgress(value=0.0, bar_style='info', description='Progress:', layout=Layout(height='25px', width='50%'),…"
      ]
     },
     "metadata": {},
     "output_type": "display_data"
    }
   ],
   "source": [
    "def QualityOfRoaming( prior_dpt, current_dpt ):\n",
    "    #\n",
    "    # Determine if Good-Bad criteria can be applied per below to the Current Event, else mark it as Skip\n",
    "    # * Current Event occurred within TIME_GAP of Prior Event\n",
    "    # * ConnectionType remains the same across Prior and Current Event\n",
    "    # * BSSID is different in Prior and Current Event\n",
    "    # \n",
    "    # For each Current Event:\n",
    "    # Deem it Bad if below Bad Threshold unless the Current RSSI shows sufficient gain from Prior RSSI (LARGE_CHANGE_PCT)\n",
    "    # Deem it Good if above Good Threshold \n",
    "    # Deem it Good if current RSSI is in between Good and Bad Threshold and is higher than prior RSSI is higher but close to current RSSI (SMALL_CHANGE_PCT)\n",
    "    # Else Deem it Bad\n",
    "    #\n",
    "\n",
    "    if( prior_dpt != None ) and ( current_dpt != None ):\n",
    "        if( ( ( current_dpt['TimeSinceEpoch'] - prior_dpt['TimeSinceEpoch'] ) <= TIME_GAP ) and\n",
    "            ( current_dpt['ConnectionType'] == prior_dpt['ConnectionType'] ) and\n",
    "            ( current_dpt['BSSID'] != prior_dpt['BSSID'] )\n",
    "          ):\n",
    "            if( current_dpt['RSSI'] >= GOOD_THRESHOLD ):\n",
    "                if( drop( prior_dpt['RSSI'], current_dpt['RSSI'], LARGE_CHANGE_PCT ) ):\n",
    "                    #quality = \"Bad\"\n",
    "                    quality = \"Good\"\n",
    "                else:\n",
    "                    quality = \"Good\"\n",
    "            elif( current_dpt['RSSI'] <= BAD_THRESHOLD ):\n",
    "                if( gain( prior_dpt['RSSI'], current_dpt['RSSI'], LARGE_CHANGE_PCT ) ):\n",
    "                    quality = \"Good\"\n",
    "                else:\n",
    "                    quality = \"Bad\"\n",
    "            elif( current_dpt['RSSI'] >= prior_dpt['RSSI'] ):\n",
    "                quality = \"Good\"\n",
    "            elif( not drop( prior_dpt['RSSI'], current_dpt['RSSI'], SMALL_CHANGE_PCT  ) ):\n",
    "                quality = \"Good\"\n",
    "            else:\n",
    "                quality = \"Bad\"      \n",
    "        else:\n",
    "            quality = \"Skip\"\n",
    "    else:\n",
    "        quality = \"Skip\"\n",
    "        \n",
    "    return quality\n",
    "           "
   ]
  },
  {
   "cell_type": "code",
   "execution_count": 11,
   "id": "3b267eb2",
   "metadata": {},
   "outputs": [
    {
     "data": {
      "application/vnd.jupyter.widget-view+json": {
       "model_id": "cbeddbbe394747598dc056b4a00dec98",
       "version_major": 2,
       "version_minor": 0
      },
      "text/plain": [
       "VBox()"
      ]
     },
     "metadata": {},
     "output_type": "display_data"
    },
    {
     "data": {
      "application/vnd.jupyter.widget-view+json": {
       "model_id": "",
       "version_major": 2,
       "version_minor": 0
      },
      "text/plain": [
       "FloatProgress(value=0.0, bar_style='info', description='Progress:', layout=Layout(height='25px', width='50%'),…"
      ]
     },
     "metadata": {},
     "output_type": "display_data"
    }
   ],
   "source": [
    "def DidNotRoamDespiteBetterAP( prior_dpt, current_dpt ):   \n",
    "    # \n",
    "    # Sticky Client  (code in progress)\n",
    "    #\n",
    "    if( prior_dpt != None ) and ( current_dpt != None ):\n",
    "        if( ( ( current_dpt['TimeSinceEpoch'] - prior_dpt['TimeSinceEpoch'] ) <= TIME_GAP ) and\n",
    "            ( current_dpt['ConnectionType'] == prior_dpt['ConnectionType'] ) and\n",
    "            ( current_dpt['BSSID'] == prior_dpt['BSSID'] ) and\n",
    "            ( WiFiScanDataPresent( prior_dpt, current_dpt ) ) and\n",
    "            ( BetterBSSIDExists ( prior_dpt, current_dpt ) )\n",
    "          ):\n",
    "            return True     \n",
    "        else:\n",
    "            return False     \n",
    "    else:\n",
    "        return False\n",
    "    \n",
    "def RoamedToSubOptimalAP( prior_dpt, current_dpt ):  # SubOptimal AP\n",
    "    #\n",
    "    # Is the roam to a BSSID with less than the best RSSI that is available\n",
    "    # Return True if so, False otherwise\n",
    "    #\n",
    "    if( prior_dpt != None ) and ( current_dpt != None ):\n",
    "        if( ( ( current_dpt['TimeSinceEpoch'] - prior_dpt['TimeSinceEpoch'] ) <= TIME_GAP ) and\n",
    "            ( current_dpt['ConnectionType'] == prior_dpt['ConnectionType'] ) and\n",
    "            ( current_dpt['BSSID'] != prior_dpt['BSSID'] ) and\n",
    "            ( WiFiScanDataPresent( prior_dpt, current_dpt ) ) and \n",
    "            ( not BestBSSIDSelected( prior_dpt, current_dpt ) )\n",
    "          ):\n",
    "            return True     \n",
    "        else:\n",
    "            return False\n",
    "    else: \n",
    "        return False\n",
    "\n",
    "def RoamedToOptimalAP( prior_dpt, current_dpt ):   \n",
    "    # \n",
    "    # Optimal Roam (code in progress)\n",
    "    #\n",
    "    if( prior_dpt != None ) and ( current_dpt != None ):\n",
    "        if( ( ( current_dpt['TimeSinceEpoch'] - prior_dpt['TimeSinceEpoch'] ) <= TIME_GAP ) and\n",
    "            ( current_dpt['ConnectionType'] == prior_dpt['ConnectionType'] ) and\n",
    "            ( current_dpt['BSSID'] != prior_dpt['BSSID'] ) and\n",
    "            ( current_dpt['RSSI'] >= prior_dpt['RSSI'] ) and \n",
    "            ( WiFiScanDataPresent( prior_dpt, current_dpt )) and\n",
    "            ( BestBSSIDSelected( prior_dpt, current_dpt ) )\n",
    "          ):\n",
    "            return True     \n",
    "        else:\n",
    "            return False\n",
    "    else:\n",
    "        return False\n",
    "\n",
    "def TooManyGoodAPs( prior_dpt, current_dpt ):   \n",
    "    #\n",
    "    # Too Many Good AP Choices (code in progress)\n",
    "    #\n",
    "    if( prior_dpt != None ) and ( current_dpt != None ):\n",
    "        if( ( ( current_dpt['TimeSinceEpoch'] - prior_dpt['TimeSinceEpoch'] ) <= TIME_GAP ) and\n",
    "            ( current_dpt['ConnectionType'] == prior_dpt['ConnectionType'] ) and\n",
    "            ( current_dpt['BSSID'] != prior_dpt['BSSID'] ) and\n",
    "            ( current_dpt['RSSI'] >= prior_dpt['RSSI'] ) and \n",
    "            ( TooManyGoodBSSIDExists( prior_dpt, current_dpt ) )\n",
    "          ):\n",
    "            return True     \n",
    "        else:\n",
    "            return False\n",
    "    else:\n",
    "        return False   \n",
    "\n",
    "def WiFiLossDueToNoAP( prior_dpt, current_dpt ):   \n",
    "    #\n",
    "    # Loss of WiFi Connection due lack of AP (code in progress)\n",
    "    #\n",
    "    if( prior_dpt != None ) and ( current_dpt != None ):\n",
    "        if( ( ( current_dpt['TimeSinceEpoch'] - prior_dpt['TimeSinceEpoch'] ) <= TIME_GAP ) and\n",
    "            ( prior_dpt['ConnectionType'] == 'WiFi' ) and\n",
    "            ( current_dpt['ConnectionType'] != prior_dpt['ConnectionType'] ) and\n",
    "            ( not WiFiScanDataPresent( prior_dpt, current_dpt ) )\n",
    "          ):\n",
    "            return True\n",
    "        else:\n",
    "            return False\n",
    "    else:\n",
    "        return False\n",
    "\n",
    "def WiFiLossDespiteAPs( prior_dpt, current_dpt ):    \n",
    "    #\n",
    "    # Loss of Wifi Connection despite APs present (code in progress)\n",
    "    #\n",
    "    if( prior_dpt != None ) and ( current_dpt != None ):\n",
    "        if( ( ( current_dpt['TimeSinceEpoch'] - prior_dpt['TimeSinceEpoch'] ) <= TIME_GAP ) and\n",
    "            ( prior_dpt['ConnectionType'] == 'WiFi' ) and\n",
    "            ( current_dpt['ConnectionType'] != prior_dpt['ConnectionType'] ) and\n",
    "            ( WiFiScanDataPresent( prior_dpt, current_dpt ) )\n",
    "          ):\n",
    "            return True\n",
    "        else:\n",
    "            return False\n",
    "    else:\n",
    "        return False   \n",
    "\n"
   ]
  },
  {
   "cell_type": "code",
   "execution_count": 21,
   "id": "00b18222",
   "metadata": {},
   "outputs": [
    {
     "data": {
      "application/vnd.jupyter.widget-view+json": {
       "model_id": "5ec3f12d6f4b49b692d2243736055b1e",
       "version_major": 2,
       "version_minor": 0
      },
      "text/plain": [
       "VBox()"
      ]
     },
     "metadata": {},
     "output_type": "display_data"
    },
    {
     "data": {
      "application/vnd.jupyter.widget-view+json": {
       "model_id": "",
       "version_major": 2,
       "version_minor": 0
      },
      "text/plain": [
       "FloatProgress(value=0.0, bar_style='info', description='Progress:', layout=Layout(height='25px', width='50%'),…"
      ]
     },
     "metadata": {},
     "output_type": "display_data"
    }
   ],
   "source": [
    "import copy\n",
    "def ParseTestData( data, i ):\n",
    "    #\n",
    "    # Create testdatapoint from the i^th test sequence event data \n",
    "    #\n",
    "    wifi_scan_data_arr = data['Result']['Stats']['Passive']['Tests'][i]['WiFiScanData']\n",
    "    date = str(data['Result']['Stats']['Passive']['Tests'][i]['Timestamp'])\n",
    "    try:\n",
    "        tdp = { \n",
    "            'TimeSinceEpoch': int((dt.strptime(date, \"%Y-%m-%dT%H:%M:%S.%fZ\") - EpochTime()).total_seconds()),\n",
    "            'OrgID': data['InfoFromTerminator']['OrgID'],\n",
    "            'HashKey': data['HashKey'],\n",
    "            'ConnectionType': str(data['Result']['Stats']['Passive']['Tests'][i]['ConnectionType']),\n",
    "            'BSSID': str(data['Result']['Stats']['Passive']['Tests'][i]['WiFiConnectionData']['BSSID']),\n",
    "            'RSSI': data['Result']['Stats']['Passive']['Tests'][i]['WiFiConnectionData']['RSSI'],\n",
    "            'Frequency': data['Result']['Stats']['Passive']['Tests'][i]['WiFiConnectionData']['Frequency'],\n",
    "            'Manufacturer': data['Result']['ClientInformation']['Device']['Manufacturer'],\n",
    "            'Hardware': data['Result']['ClientInformation']['Device']['Hardware'],\n",
    "            'Model': data['Result']['ClientInformation']['Device']['Model'],\n",
    "            'WiFiScanData': copy.deepcopy(wifi_scan_data_arr),\n",
    "            }\n",
    "    except KeyError:\n",
    "        tdp = None\n",
    "    return tdp\n",
    "\n",
    "def InsertRoamingEvent( event_dataframe, RoamingQuality, EventClassification, Prev_Event, Curr_Event ):\n",
    "    #\n",
    "    # Insert RoamingQuality, EventClassification, Prior Event Fields, Current Event Fields into Dataframe\n",
    "    #\n",
    "    event_dataframe = event_dataframe.append({\n",
    "            'RoamingQuality': RoamingQuality,\n",
    "            'EventClassification': EventClassification,\n",
    "            'PriorTimeSinceEpoch': Prev_Event['TimeSinceEpoch'],\n",
    "            'CurrentTimeSinceEpoch': Curr_Event['TimeSinceEpoch'],\n",
    "            'OrgID': Curr_Event['OrgID'],\n",
    "            'HashKey': Curr_Event['HashKey'],\n",
    "            'Manufacturer': Curr_Event['Manufacturer'],\n",
    "            'Hardware': Curr_Event['Hardware'],\n",
    "            'Model': Curr_Event['Model'],\n",
    "            'PriorConnectionType': Prev_Event['ConnectionType'],\n",
    "            'CurrentConnectionType': Curr_Event['ConnectionType'],\n",
    "            'PriorBSSID': Prev_Event['BSSID'],\n",
    "            'CurrentBSSID': Curr_Event['BSSID'],\n",
    "            'PriorRSSI': Prev_Event['RSSI'],\n",
    "            'CurrentRSSI': Curr_Event['RSSI'],\n",
    "            'PriorFrequency': Prev_Event['Frequency'],\n",
    "            'CurrentFrequency': Curr_Event['Frequency'],\n",
    "            'PriorWiFiScanCount': len( Prev_Event['WiFiScanData'] ),\n",
    "            'CurrentWiFiScanCount': len( Curr_Event['WiFiScanData'] ),\n",
    "            'PriorWiFiScan': WiFiScan2String( Prev_Event ),\n",
    "            'CurrentWiFiScan': WiFiScan2String( Curr_Event )\n",
    "    }, ignore_index=True)\n",
    "    return event_dataframe\n"
   ]
  },
  {
   "cell_type": "code",
   "execution_count": 22,
   "id": "8a2b62c8",
   "metadata": {},
   "outputs": [
    {
     "data": {
      "application/vnd.jupyter.widget-view+json": {
       "model_id": "bf9496dfdddf4518bb11a45f844de41a",
       "version_major": 2,
       "version_minor": 0
      },
      "text/plain": [
       "VBox()"
      ]
     },
     "metadata": {},
     "output_type": "display_data"
    },
    {
     "data": {
      "application/vnd.jupyter.widget-view+json": {
       "model_id": "",
       "version_major": 2,
       "version_minor": 0
      },
      "text/plain": [
       "FloatProgress(value=0.0, bar_style='info', description='Progress:', layout=Layout(height='25px', width='50%'),…"
      ]
     },
     "metadata": {},
     "output_type": "display_data"
    }
   ],
   "source": [
    "import statistics\n",
    "import copy\n",
    "def AdjustedRSSI( data, i, n ):\n",
    "    #\n",
    "    # To account for dips in RSSI immediately after roaming, median of the next NEXT_N RSSIs\n",
    "    #\n",
    "    end_N = min( i+NEXT_N, n )\n",
    "    seq = []\n",
    "    for j in range(i, end_N):\n",
    "        seq.append( data['Result']['Stats']['Passive']['Tests'][j]['WiFiConnectionData']['RSSI'] )\n",
    "    mdn = int( round( statistics.median( seq ) ) ) \n",
    "    return( mdn )\n",
    "\n",
    "def ClassifyEvent( previous_testdatapoint, current_testdatapoint ):\n",
    "    #\n",
    "    # Classify Event to determine Event Classification\n",
    "    #\n",
    "    if( RoamedToOptimalAP( previous_testdatapoint, current_testdatapoint )):\n",
    "        classifier = \"RoamedToOptimalAP\" \n",
    "    elif( TooManyGoodAPs( previous_testdatapoint, current_testdatapoint )):\n",
    "        classifier = \"TooManyGoodAPs\"\n",
    "    elif( RoamedToSubOptimalAP( previous_testdatapoint, current_testdatapoint ) ):\n",
    "        classifier = \"RoamedToSubOptimalAP\" \n",
    "    elif( WiFiLossDueToNoAP( previous_testdatapoint, current_testdatapoint )):\n",
    "        classifier = \"WiFiLossDueToNoAP\" \n",
    "    elif( WiFiLossDespiteAPs( previous_testdatapoint, current_testdatapoint )):\n",
    "        classifier = \"WiFiLossDespiteAPs\"\n",
    "    else:\n",
    "        classifier = \"No Classification\"\n",
    "    return classifier\n",
    "\n",
    "def ProcessTests( edf, data ):\n",
    "    # \n",
    "    # Process test sequence data that signifies roaming events or sticky client (lack of roaming despite better AP being available)\n",
    "    #\n",
    "    tests = data['Result']['Stats']['Passive']['Tests']\n",
    "    nreadings = len( tests )\n",
    "    if( nreadings == 0 ):\n",
    "        return( None )\n",
    "        \n",
    "    date = str(data['Result']['Stats']['Passive']['Tests'][0]['Timestamp'])\n",
    "    Start_TimeSinceEpoch = int((dt.strptime(date, \"%Y-%m-%dT%H:%M:%S.%fZ\") - EpochTime()).total_seconds())\n",
    "        \n",
    "    nreadings = len( data['Result']['Stats']['Passive']['Tests'] )\n",
    "\n",
    "    first = True\n",
    "    for i in range(nreadings):\n",
    "        if( first ):\n",
    "            previous_testdatapoint = None\n",
    "            current_testdatapoint = ParseTestData( data, i )\n",
    "            first = False\n",
    "        else: \n",
    "            previous_testdatapoint = current_testdatapoint\n",
    "            current_testdatapoint = ParseTestData( data, i )\n",
    "            \n",
    "        adj_current_testdatapoint = copy.deepcopy(current_testdatapoint) if current_testdatapoint != None else None\n",
    "        if( valid_testdatapoint( adj_current_testdatapoint ) and valid_testdatapoint( previous_testdatapoint )):\n",
    "            adj_current_testdatapoint['RSSI'] = AdjustedRSSI( data, i, nreadings )\n",
    "            if( previous_testdatapoint['BSSID'] != adj_current_testdatapoint['BSSID'] ):\n",
    "                RoamingQuality = QualityOfRoaming( previous_testdatapoint, adj_current_testdatapoint )\n",
    "                if( RoamingQuality != \"Skip\" ):\n",
    "                    EventClassification = ClassifyEvent( previous_testdatapoint, adj_current_testdatapoint )\n",
    "                    edf = InsertRoamingEvent( edf, RoamingQuality, EventClassification, previous_testdatapoint, adj_current_testdatapoint )\n",
    "            else:\n",
    "                if( ( len( previous_testdatapoint['WiFiScanData'] ) > 0 ) or ( len( adj_current_testdatapoint['WiFiScanData'] ) > 0 ) ):\n",
    "                    if( DidNotRoamDespiteBetterAP( previous_testdatapoint, adj_current_testdatapoint ) ):\n",
    "                        RoamingQuality = QualityOfRoaming( previous_testdatapoint, adj_current_testdatapoint )\n",
    "                        if( RoamingQuality != \"Skip\" ):\n",
    "                            EventClassification = \"DidNotRoamDespiteBetterAP\"\n",
    "                            edf = InsertRoamingEvent( edf, RoamingQuality, EventClassification, previous_testdatapoint, adj_current_testdatapoint )                    \n",
    "            \n",
    "                #print(\"badroamtest: \", badroamtest, \" roaming quality: \", RoamingQuality, \" classification: \", EventClassification )\n",
    "    return edf "
   ]
  },
  {
   "cell_type": "code",
   "execution_count": null,
   "id": "19641da9",
   "metadata": {},
   "outputs": [
    {
     "data": {
      "application/vnd.jupyter.widget-view+json": {
       "model_id": "24638442377e4ba596cd833f3a21a004",
       "version_major": 2,
       "version_minor": 0
      },
      "text/plain": [
       "VBox()"
      ]
     },
     "metadata": {},
     "output_type": "display_data"
    },
    {
     "data": {
      "application/vnd.jupyter.widget-view+json": {
       "model_id": "bba30907262c4d3790b9433cb4967038",
       "version_major": 2,
       "version_minor": 0
      },
      "text/plain": [
       "FloatProgress(value=0.0, bar_style='info', description='Progress:', layout=Layout(height='25px', width='50%'),…"
      ]
     },
     "metadata": {},
     "output_type": "display_data"
    }
   ],
   "source": [
    "pd.options.display.width=None\n",
    "pd.options.display.max_columns = None\n",
    "\n",
    "# create pandas dataframe df_BSSID\n",
    "edf = pd.DataFrame(\n",
    "        columns=[\n",
    "            'RoamingQuality',\n",
    "            'EventClassification',\n",
    "            'PriorTimeSinceEpoch',\n",
    "            'CurrentTimeSinceEpoch',\n",
    "            'OrgID',\n",
    "            'HashKey',\n",
    "            'Manufacturer',\n",
    "            'Hardware',\n",
    "            'Model',\n",
    "            'PriorConnectionType',\n",
    "            'CurrentConnectionType',\n",
    "            'PriorBSSID',\n",
    "            'CurrentBSSID',\n",
    "            'PriorRSSI',\n",
    "            'CurrentRSSI',\n",
    "            'PriorFrequency',\n",
    "            'CurrentFrequency',\n",
    "            'PriorWiFiScanCount',\n",
    "            'CurrentWiFiScanCount',\n",
    "            'PriorWiFiScan',\n",
    "            'CurrentWiFiScan',\n",
    "        ]\n",
    "    )\n",
    "\n",
    "for k in range( rddRoamingTestsCount ):\n",
    "    edf = ProcessTests( edf, json.loads( data_Roaming[k][1] ) )\n",
    "\n",
    "sdf = spark.createDataFrame(edf)\n",
    "#sdf.show(truncate=False)"
   ]
  },
  {
   "cell_type": "code",
   "execution_count": null,
   "id": "40d03eba",
   "metadata": {},
   "outputs": [],
   "source": [
    "# \n",
    "# print all roaming events in dataframe (for debugging and validation purposes)\n",
    "#\n",
    "from IPython.display import display\n",
    "print( \n",
    "    edf.columns[0],\n",
    "    edf.columns[1], \n",
    "    edf.columns[2], \n",
    "    edf.columns[3], \n",
    "    edf.columns[9], \n",
    "    edf.columns[10], \n",
    "    edf.columns[11], \n",
    "    edf.columns[12], \n",
    "    edf.columns[13], \n",
    "    edf.columns[14],\n",
    "    \"NewRSSI-OldRSSI\",\n",
    "    \"(NewRSSI-OldRSSI)/NewRSSI\",\n",
    "    edf.columns[15],\n",
    "    edf.columns[16],\n",
    "    edf.columns[17],\n",
    "    edf.columns[18],\n",
    "    edf.columns[19],\n",
    "    edf.columns[20]\n",
    "    )\n",
    "for c in range(edf.shape[0]):\n",
    "    print( \\\n",
    "        edf.iloc[c,0], \n",
    "        edf.iloc[c,1],\n",
    "        edf.iloc[c,2], \n",
    "        edf.iloc[c,3],\n",
    "        edf.iloc[c,9],\n",
    "        edf.iloc[c,10], \n",
    "        edf.iloc[c,11],\n",
    "        edf.iloc[c,12],\n",
    "        edf.iloc[c,13], \n",
    "        edf.iloc[c,14],\n",
    "        \"diff=\" + str(edf.iloc[c,14]-edf.iloc[c,13]),\n",
    "        \"ratio=\" + str((edf.iloc[c,14]-edf.iloc[c,13])/edf.iloc[c,14]),\n",
    "        edf.iloc[c,15],\n",
    "        edf.iloc[c,16],\n",
    "        edf.iloc[c,17],\n",
    "        edf.iloc[c,18],\n",
    "        edf.iloc[c,19],\n",
    "        edf.iloc[c,20]\n",
    "        )\n",
    "    print()\n"
   ]
  },
  {
   "cell_type": "code",
   "execution_count": null,
   "id": "252874a2",
   "metadata": {},
   "outputs": [],
   "source": [
    "%%spark -o sdf -n 25000"
   ]
  },
  {
   "cell_type": "code",
   "execution_count": null,
   "id": "e78edf6c",
   "metadata": {},
   "outputs": [],
   "source": [
    "%matplotlib inline\n",
    "\n",
    "#\n",
    "# scatter plot good and bad roaming events along with instances of SunOptimalRoam\n",
    "#\n",
    "import matplotlib.pyplot as plt\n",
    "from matplotlib.patches import Patch\n",
    "from matplotlib.lines import Line2D\n",
    "import math\n",
    "\n",
    "GOOD_THRESHOLD=-60\n",
    "BAD_THRESHOLD=-75\n",
    "\n",
    "f = plt.figure()\n",
    "f.set_figwidth(24)\n",
    "f.set_figheight(16)\n",
    "print(sdf.shape[0])\n",
    "for i in range(sdf.shape[0]):\n",
    "    x=sdf.iloc[i,13]\n",
    "    y=sdf.iloc[i,14]\n",
    "    \n",
    "    quality = sdf.iloc[i,0]\n",
    "    classifier = sdf.iloc[i,1]\n",
    "    \n",
    "    if( quality == \"Good\"):\n",
    "        if( classifier == \"RoamedToSubOptimalAP\"):\n",
    "            plt.plot(y, y-x, 'bs', markersize=7)\n",
    "        plt.plot(y,y-x, \"go\", markersize=5)\n",
    "    else:\n",
    "        plt.plot(y,y-x, \"ro\", markersize=5)\n",
    "        if( classifier == \"RoamedToSubOptimalAP\"):\n",
    "            plt.plot(y, y-x, 'bs', markersize=7) \n",
    "\n",
    "plt.axvline(x=GOOD_THRESHOLD, color='g')\n",
    "plt.axvline(x=BAD_THRESHOLD, color='r')\n",
    "\n",
    "plt.title(\"CurrentRSSI vs (CurrentRSSI - PriorRSSI)\", fontsize=16)\n",
    "\n",
    "legend_elements = [ Line2D([0], [0], marker='o', color='w', label='Good Roam', markerfacecolor='g', markersize=5),\n",
    "                    Line2D([0], [0], marker='s', color='w', label='SubOptimal Roam', markerfacecolor='b', markersize=7),\n",
    "                    Line2D([0], [0], marker='o', color='w', label='Bad Roam', markerfacecolor='r', markersize=5),\n",
    "                    Line2D([0], [0], marker='|', color='r', label='Bad Threshold', markerfacecolor='r', markersize=5),\n",
    "                    Line2D([0], [0], marker='|', color='g', label='Good Threshold', markerfacecolor='g', markersize=5),\n",
    "                  ]\n",
    "\n",
    "# Create the figure\n",
    "plt.legend(handles=legend_elements, loc='best')\n",
    "plt.show()"
   ]
  },
  {
   "cell_type": "code",
   "execution_count": null,
   "id": "9de4b478",
   "metadata": {},
   "outputs": [],
   "source": []
  },
  {
   "cell_type": "code",
   "execution_count": null,
   "id": "a27c814a",
   "metadata": {},
   "outputs": [],
   "source": []
  }
 ],
 "metadata": {
  "kernelspec": {
   "display_name": "PySpark",
   "language": "",
   "name": "pysparkkernel"
  },
  "language_info": {
   "codemirror_mode": {
    "name": "python",
    "version": 2
   },
   "mimetype": "text/x-python",
   "name": "pyspark",
   "pygments_lexer": "python2"
  }
 },
 "nbformat": 4,
 "nbformat_minor": 5
}
