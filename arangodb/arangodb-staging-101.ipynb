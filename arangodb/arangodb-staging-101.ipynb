{
 "cells": [
  {
   "cell_type": "code",
   "execution_count": 4,
   "metadata": {},
   "outputs": [],
   "source": [
    "import json\n",
    "import requests\n",
    "import sys\n",
    "# import oasis\n",
    "import time\n",
    "\n",
    "from pyArango.connection import *\n",
    "from arango import ArangoClient"
   ]
  },
  {
   "cell_type": "code",
   "execution_count": 6,
   "metadata": {},
   "outputs": [
    {
     "name": "stdout",
     "output_type": "stream",
     "text": [
      "<ArangoClient http://arangod-topology-api-production.mist.pvt>\n",
      "mist-topology-production\n"
     ]
    }
   ],
   "source": [
    "env = \"production\"\n",
    "host = \"http://arangod-topology-api-{env}.mist.pvt/\".format(env=env)\n",
    "username = \"root\"\n",
    "passwd = \"\"\n",
    "\n",
    "db_name = \"mist-topology-{env}\".format(env=env)\n",
    "\n",
    "def load_db(host, username, passwd, db_name):\n",
    "    client = ArangoClient(hosts=host)\n",
    "    print(client)\n",
    "    db = client.db(db_name, username=username, password=passwd)\n",
    "    return db\n",
    "\n",
    "staging_db = load_db(host, username, passwd, db_name)\n",
    "print(staging_db.db_name)\n",
    "# aql = staging_db.aql"
   ]
  },
  {
   "cell_type": "code",
   "execution_count": 7,
   "metadata": {},
   "outputs": [
    {
     "data": {
      "text/plain": [
       "{'architecture': '64bit',\n",
       " 'arm': 'false',\n",
       " 'asan': 'false',\n",
       " 'asm-crc32': 'true',\n",
       " 'assertions': 'false',\n",
       " 'avx2': 'false',\n",
       " 'boost-version': '1.71.0',\n",
       " 'build-date': '2020-09-02 11:13:59',\n",
       " 'build-repository': 'tags/v3.7.2.1-0-g2c56dec4b2c-dirty',\n",
       " 'compiler': 'gcc [9.2.0]',\n",
       " 'cplusplus': '201703',\n",
       " 'curl-version': 'none',\n",
       " 'debug': 'false',\n",
       " 'endianness': 'little',\n",
       " 'failure-tests': 'false',\n",
       " 'fd-client-event-handler': 'poll',\n",
       " 'fd-setsize': '1024',\n",
       " 'full-version-string': 'ArangoDB 3.7.2-1 [linux] 64bit, using jemalloc, build tags/v3.7.2.1-0-g2c56dec4b2c-dirty, VPack 0.1.33, RocksDB 6.8.0, ICU 64.2, V8 7.9.317, OpenSSL 1.1.1g  21 Apr 2020',\n",
       " 'icu-version': '64.2',\n",
       " 'ipo': 'true',\n",
       " 'iresearch-version': '1.0.0.0',\n",
       " 'jemalloc': 'true',\n",
       " 'libunwind': 'true',\n",
       " 'license': 'community',\n",
       " 'maintainer-mode': 'false',\n",
       " 'ndebug': 'true',\n",
       " 'openssl-version-compile-time': 'OpenSSL 1.1.1g  21 Apr 2020',\n",
       " 'openssl-version-run-time': 'OpenSSL 1.1.1g  21 Apr 2020',\n",
       " 'optimization-flags': '-march=westmere -msse2 -msse3 -mssse3 -msse4.1 -msse4.2 -mno-sse4a -mno-avx -mno-fma -mno-bmi2 -mno-avx2 -mno-xop -mno-fma4 -mno-avx512f -mno-avx512vl -mno-avx512pf -mno-avx512er -mno-avx512cd -mno-avx512dq -mno-avx512bw -mno-avx512ifma -mno-avx512vbmi',\n",
       " 'pic': '2',\n",
       " 'pie': '2',\n",
       " 'platform': 'linux',\n",
       " 'reactor-type': 'epoll',\n",
       " 'rocksdb-version': '6.8.0',\n",
       " 'server-version': '3.7.2-1',\n",
       " 'sizeof int': '4',\n",
       " 'sizeof long': '8',\n",
       " 'sizeof void*': '8',\n",
       " 'sse42': 'true',\n",
       " 'tsan': 'false',\n",
       " 'unaligned-access': 'true',\n",
       " 'v8-version': '7.9.317',\n",
       " 'vpack-version': '0.1.33',\n",
       " 'zlib-version': '1.2.11',\n",
       " 'mode': 'server',\n",
       " 'role': 'COORDINATOR',\n",
       " 'host': 'ec243b2834faa2e9a247badc72196c9b'}"
      ]
     },
     "execution_count": 7,
     "metadata": {},
     "output_type": "execute_result"
    }
   ],
   "source": [
    "staging_db.details()"
   ]
  },
  {
   "cell_type": "code",
   "execution_count": null,
   "metadata": {},
   "outputs": [],
   "source": []
  },
  {
   "cell_type": "code",
   "execution_count": 8,
   "metadata": {},
   "outputs": [
    {
     "name": "stdout",
     "output_type": "stream",
     "text": [
      "{'id': '24010122', 'name': 'device', 'system': False, 'type': 'document', 'status': 'loaded'}\n",
      "{'id': '22010335', 'name': 'application', 'system': False, 'type': 'document', 'status': 'loaded'}\n",
      "{'id': '22010328', 'name': 'clientConnectedToProxy', 'system': False, 'type': 'document', 'status': 'loaded'}\n",
      "{'id': '20010331', 'name': 'applicationProxy', 'system': False, 'type': 'document', 'status': 'loaded'}\n",
      "{'id': '24010143', 'name': 'appRunOnProxy', 'system': False, 'type': 'document', 'status': 'loaded'}\n",
      "{'id': '22010321', 'name': 'connectedTo', 'system': False, 'type': 'edge', 'status': 'loaded'}\n",
      "{'id': '22010316', 'name': 'deviceProxy', 'system': False, 'type': 'document', 'status': 'loaded'}\n",
      "{'id': '20010336', 'name': 'appRunOn', 'system': False, 'type': 'edge', 'status': 'loaded'}\n",
      "{'id': '24010136', 'name': 'clientConnectedTo', 'system': False, 'type': 'edge', 'status': 'loaded'}\n",
      "{'id': '20010317', 'name': 'connectedToProxy', 'system': False, 'type': 'document', 'status': 'loaded'}\n",
      "{'id': '24010131', 'name': 'clientProxy', 'system': False, 'type': 'document', 'status': 'loaded'}\n",
      "{'id': '20010322', 'name': 'client', 'system': False, 'type': 'document', 'status': 'loaded'}\n"
     ]
    }
   ],
   "source": [
    "# list all collections, except system collections\n",
    "for col in staging_db.collections():\n",
    "    if col['name'].find(\"_\")==-1:\n",
    "        print(col)"
   ]
  },
  {
   "cell_type": "code",
   "execution_count": 11,
   "metadata": {},
   "outputs": [
    {
     "data": {
      "text/plain": [
       "['device',\n",
       " 'application',\n",
       " 'clientConnectedToProxy',\n",
       " 'applicationProxy',\n",
       " 'appRunOnProxy',\n",
       " 'connectedTo',\n",
       " 'deviceProxy',\n",
       " 'appRunOn',\n",
       " 'clientConnectedTo',\n",
       " 'connectedToProxy',\n",
       " 'clientProxy',\n",
       " 'client']"
      ]
     },
     "execution_count": 11,
     "metadata": {},
     "output_type": "execute_result"
    }
   ],
   "source": [
    "staging_collections = [col['name'] for col in staging_db.collections()  if col['name'].find(\"_\")<0]\n",
    "\n",
    "staging_collections\n",
    "\n"
   ]
  },
  {
   "cell_type": "code",
   "execution_count": 143,
   "metadata": {},
   "outputs": [],
   "source": [
    "# db.collections()\n",
    "# staging_db.collection('application')"
   ]
  },
  {
   "cell_type": "code",
   "execution_count": 136,
   "metadata": {},
   "outputs": [
    {
     "name": "stdout",
     "output_type": "stream",
     "text": [
      "- OPENVPN\n",
      "- DNS\n",
      "- UNKNOWN\n",
      "- NTP\n",
      "- PORTMAPPER\n",
      "- STUN\n",
      "- WHATSAPP-SSL\n",
      "- QUIC\n",
      "- SPOTIFY\n",
      "- ICMP\n",
      "- HTTP\n",
      "- UNSPECIFIED-ENCRYPTED\n",
      "- ESP-OVER-UDP\n",
      "- IKE\n",
      "- UNKNOWN\n",
      "- SSH\n",
      "- SSL\n",
      "- IKE\n",
      "- ICMP\n",
      "- RADIUS\n",
      "- NTP\n",
      "- TFTP\n",
      "- UNSPECIFIED-ENCRYPTED\n",
      "- UNKNOWN\n",
      "- SMB\n",
      "- ICMP\n",
      "- ICMP\n",
      "- DNS\n",
      "- SSH\n",
      "- SMTP\n",
      "- ESP-OVER-UDP\n",
      "- SPEEDTEST\n",
      "- TELEGRAM\n",
      "- WHATSAPP-SSL\n",
      "- COTP\n",
      "- NBNS\n",
      "- MODBUS-RTU\n",
      "- ANCHORFREE\n",
      "- DHCP\n",
      "- RX\n",
      "- APPLE-IOS-UPDATE-SSL\n",
      "- ZOOM\n",
      "- MODBUS-RTU\n",
      "- BITCOMET-PEX\n",
      "- MS-TEAMS\n",
      "- RX\n",
      "- IPP-ESP\n",
      "- OPENVPN\n",
      "- NTP\n",
      "- DNS\n",
      "- UNKNOWN\n",
      "- SPOTIFY\n",
      "- SSL\n",
      "- QUIC\n",
      "- UNSPECIFIED-ENCRYPTED\n",
      "- STUN\n",
      "- SSL\n",
      "- SSH\n",
      "- QUIC\n",
      "- TEAMVIEWER\n",
      "- IKE\n",
      "- HTTP\n",
      "- DTLS\n",
      "- UTP\n",
      "- BITTORRENT\n",
      "- WHATSAPP-SSL\n",
      "- ICMP\n",
      "- DNS\n",
      "- UNKNOWN\n",
      "- NTP\n",
      "- SMB\n",
      "- STUN\n",
      "- XIAOMI\n",
      "- SSH\n",
      "- UNKNOWN\n",
      "- NTP\n",
      "- DNS\n",
      "- ICMP\n",
      "- ICMP\n",
      "- DNS\n",
      "- RX\n",
      "- NTP\n",
      "- UNSPECIFIED-ENCRYPTED\n",
      "- QUIC\n",
      "- UNKNOWN\n",
      "- NBNS\n",
      "- BIGO\n",
      "- ESP-OVER-UDP\n",
      "- OPENVPN\n",
      "- ICMP\n",
      "- SSL\n",
      "- UNSPECIFIED-ENCRYPTED\n",
      "- SSH\n",
      "- XIAOMI\n",
      "- BITTORRENT\n",
      "- TELEGRAM\n",
      "- WHATSAPP-SSL\n",
      "- UNSPECIFIED-ENCRYPTED\n",
      "- SSL\n",
      "- HTTP\n",
      "- HTTP\n",
      "- IKE\n",
      "- SSH\n",
      "- IKE\n",
      "- STUN\n",
      "- UNSPECIFIED-ENCRYPTED\n",
      "- SSH\n",
      "- QUIC\n",
      "- SSL\n",
      "- QUIC\n",
      "- GNUTELLA\n",
      "- NTP\n",
      "- SSL\n",
      "- DNS\n",
      "- NTP\n",
      "- ICMP\n",
      "- TELEGRAM\n",
      "- IKE\n",
      "- HTTP\n",
      "- DNS\n",
      "- UNSPECIFIED-ENCRYPTED\n",
      "- SPOTIFY\n",
      "- TEAMVIEWER\n",
      "- QUIC\n",
      "- NTP\n",
      "- IKE\n",
      "- UNKNOWN\n",
      "- HTTP\n",
      "- SSL\n",
      "- XIAOMI\n",
      "- WHATSAPP-SSL\n",
      "- UNSPECIFIED-ENCRYPTED\n",
      "- FTP-DATA\n",
      "- FTP\n",
      "- ICMP\n",
      "- DNS\n",
      "- UNKNOWN\n",
      "- QUIC\n",
      "- HTTP\n",
      "- SSL\n",
      "- SSH\n"
     ]
    }
   ],
   "source": [
    "for app in staging_db.collection('application'):\n",
    "    print(\"- %s\" % app['application'])"
   ]
  },
  {
   "cell_type": "code",
   "execution_count": 137,
   "metadata": {},
   "outputs": [],
   "source": [
    "# staging_db.details()\n"
   ]
  },
  {
   "cell_type": "code",
   "execution_count": null,
   "metadata": {},
   "outputs": [],
   "source": []
  },
  {
   "cell_type": "code",
   "execution_count": null,
   "metadata": {},
   "outputs": [],
   "source": []
  }
 ],
 "metadata": {
  "kernelspec": {
   "display_name": "Python 3",
   "language": "python",
   "name": "python3"
  },
  "language_info": {
   "codemirror_mode": {
    "name": "ipython",
    "version": 3
   },
   "file_extension": ".py",
   "mimetype": "text/x-python",
   "name": "python",
   "nbconvert_exporter": "python",
   "pygments_lexer": "ipython3",
   "version": "3.7.4"
  }
 },
 "nbformat": 4,
 "nbformat_minor": 4
}
