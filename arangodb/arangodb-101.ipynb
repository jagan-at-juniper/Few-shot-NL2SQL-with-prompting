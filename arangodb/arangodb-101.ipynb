{
 "cells": [
  {
   "cell_type": "code",
   "execution_count": null,
   "metadata": {},
   "outputs": [],
   "source": [
    "# %%capture\n",
    "# ! brew install arangodb\n",
    "# !pip install python-arango\n",
    "# ! /usr/local/Cellar/arangodb/3.6.4/sbin/arangod\n"
   ]
  },
  {
   "cell_type": "code",
   "execution_count": null,
   "metadata": {},
   "outputs": [],
   "source": [
    "import json\n",
    "import requests\n",
    "import sys\n",
    "import oasis\n",
    "import time\n",
    "\n",
    "from pyArango.connection import *\n",
    "from arango import ArangoClient"
   ]
  },
  {
   "cell_type": "code",
   "execution_count": null,
   "metadata": {},
   "outputs": [],
   "source": []
  },
  {
   "cell_type": "code",
   "execution_count": null,
   "metadata": {},
   "outputs": [],
   "source": [
    "# host = 'https://' + results['hostname'] + ':' + str(results['port'])\n",
    "\n",
    "host = \"http://127.0.0.1:8529/\"\n",
    "username = \"root\"\n",
    "passwd = \"\"\n",
    "\n",
    "client = ArangoClient(hosts=host)\n",
    "\n",
    "print(client)\n",
    "\n",
    "db_name = \"_system\"\n",
    "\n",
    "sys_db = client.db(db_name, username=username, password=passwd)\n"
   ]
  },
  {
   "cell_type": "code",
   "execution_count": null,
   "metadata": {},
   "outputs": [],
   "source": [
    "sys_db.create_database(\"test_db\")"
   ]
  },
  {
   "cell_type": "code",
   "execution_count": null,
   "metadata": {},
   "outputs": [],
   "source": []
  },
  {
   "cell_type": "code",
   "execution_count": null,
   "metadata": {},
   "outputs": [],
   "source": [
    "\n",
    "db_name = \"test_db\"\n",
    "\n",
    "db = client.db(db_name, username=username, password=passwd)\n",
    "\n",
    "aql = db.aql\n",
    "\n",
    "if db.has_collection('Characters'):\n",
    "  Characters = db.collection('Characters')\n",
    "else:\n",
    "  Characters = db.create_collection('Characters')\n",
    "\n",
    "cursor = aql.execute(\n",
    "    'INSERT {'\n",
    "    '\"name\": \"Ned\",'\n",
    "    '\"surname\": \"Stark\",'\n",
    "    '\"alive\": true,'\n",
    "    '\"age\": 41,'\n",
    "    '\"traits\": [\"A\",\"H\",\"C\",\"N\",\"P\"]'\n",
    "    '} INTO Characters'\n",
    ")\n",
    "\n",
    "print(db[\"Characters\"])"
   ]
  },
  {
   "cell_type": "code",
   "execution_count": null,
   "metadata": {},
   "outputs": [],
   "source": [
    "# db.collections()\n",
    "for character in db.collection('Characters'):\n",
    "    print(\"- %s\" % character['name'], character.get('surname'))"
   ]
  },
  {
   "cell_type": "code",
   "execution_count": null,
   "metadata": {},
   "outputs": [],
   "source": [
    "# dir(client)"
   ]
  },
  {
   "cell_type": "code",
   "execution_count": null,
   "metadata": {},
   "outputs": [],
   "source": [
    "# db.analyzers()\n",
    "# dir(db)\n",
    "\n",
    "cursor = aql.execute('INSERT {'\n",
    "    '\"name\": \"Robert\",'\n",
    "    '\"surname\": \"Baratheon\",'\n",
    "    '\"alive\": false,'\n",
    "    '\"traits\": [\"A\",\"H\",\"C\"]'\n",
    "'} INTO Characters'\n",
    ")\n",
    "cursor = aql.execute(\n",
    "    'INSERT {'\n",
    "    '\"name\": \"Jaime\",'\n",
    "    '\"surname\": \"Lannister\",'\n",
    "    '\"alive\": true,'\n",
    "    '\"age\": 36,'\n",
    "    '\"traits\": [\"A\",\"F\",\"B\"]'\n",
    "'} INTO Characters'\n",
    ")\n",
    "\n",
    "print(cursor)"
   ]
  },
  {
   "cell_type": "code",
   "execution_count": null,
   "metadata": {},
   "outputs": [],
   "source": [
    "# db.databases(),\n",
    "#db.db_name, \n",
    "for col in db.collections():\n",
    "    print(col['name'], col)\n",
    "# sys_db.collections()"
   ]
  },
  {
   "cell_type": "code",
   "execution_count": 108,
   "metadata": {},
   "outputs": [
    {
     "name": "stdout",
     "output_type": "stream",
     "text": [
      "- Ned Stark\n",
      "- Robert Baratheon\n",
      "- Jaime Lannister\n"
     ]
    }
   ],
   "source": [
    "# db.collections()\n",
    "for character in db.collection('Characters'):\n",
    "    print(\"- %s\" % character['name'], character.get('surname'))"
   ]
  },
  {
   "cell_type": "raw",
   "metadata": {},
   "source": []
  },
  {
   "cell_type": "code",
   "execution_count": 113,
   "metadata": {},
   "outputs": [],
   "source": [
    "# client = ArangoClient(hosts=\"http://arangod-topology-api-staging.mist.pvt/\")\n",
    "\n",
    "# staging_db = client.db(db_name, username=username, password=passwd)\n"
   ]
  }
 ],
 "metadata": {
  "kernelspec": {
   "display_name": "Python 3",
   "language": "python",
   "name": "python3"
  },
  "language_info": {
   "codemirror_mode": {
    "name": "ipython",
    "version": 3
   },
   "file_extension": ".py",
   "mimetype": "text/x-python",
   "name": "python",
   "nbconvert_exporter": "python",
   "pygments_lexer": "ipython3",
   "version": "3.7.4"
  }
 },
 "nbformat": 4,
 "nbformat_minor": 4
}
