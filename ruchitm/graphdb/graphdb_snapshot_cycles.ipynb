{
 "cells": [
  {
   "cell_type": "code",
   "execution_count": 1,
   "id": "bound-battlefield",
   "metadata": {},
   "outputs": [
    {
     "data": {
      "application/vnd.jupyter.widget-view+json": {
       "model_id": "5acf7eb952cb4172b47428fb818c668c",
       "version_major": 2,
       "version_minor": 0
      },
      "text/plain": [
       "VBox()"
      ]
     },
     "metadata": {},
     "output_type": "display_data"
    },
    {
     "name": "stdout",
     "output_type": "stream",
     "text": [
      "Starting Spark application\n"
     ]
    },
    {
     "data": {
      "text/html": [
       "<table>\n",
       "<tr><th>ID</th><th>YARN Application ID</th><th>Kind</th><th>State</th><th>Spark UI</th><th>Driver log</th><th>Current session?</th></tr><tr><td>1</td><td>application_1618773637871_0003</td><td>pyspark</td><td>idle</td><td><a target=\"_blank\" href=\"http://ip-172-31-51-170.ec2.internal:20888/proxy/application_1618773637871_0003/\">Link</a></td><td><a target=\"_blank\" href=\"http://ip-172-31-54-127.ec2.internal:8042/node/containerlogs/container_1618773637871_0003_01_000001/livy\">Link</a></td><td>✔</td></tr></table>"
      ],
      "text/plain": [
       "<IPython.core.display.HTML object>"
      ]
     },
     "metadata": {},
     "output_type": "display_data"
    },
    {
     "data": {
      "application/vnd.jupyter.widget-view+json": {
       "model_id": "",
       "version_major": 2,
       "version_minor": 0
      },
      "text/plain": [
       "FloatProgress(value=0.0, bar_style='info', description='Progress:', layout=Layout(height='25px', width='50%'),…"
      ]
     },
     "metadata": {},
     "output_type": "display_data"
    },
    {
     "name": "stdout",
     "output_type": "stream",
     "text": [
      "SparkSession available as 'spark'.\n"
     ]
    },
    {
     "data": {
      "application/vnd.jupyter.widget-view+json": {
       "model_id": "",
       "version_major": 2,
       "version_minor": 0
      },
      "text/plain": [
       "FloatProgress(value=0.0, bar_style='info', description='Progress:', layout=Layout(height='25px', width='50%'),…"
      ]
     },
     "metadata": {},
     "output_type": "display_data"
    }
   ],
   "source": [
    "from collections import Counter\n",
    "from functools import partial\n",
    "from datetime import datetime, timedelta\n",
    "import timeit\n",
    "import boto3\n",
    "import json\n",
    "import copy\n",
    "import pickle\n",
    "import io\n",
    "import pandas as pd\n",
    "import numpy as np\n",
    "import networkx as nx\n",
    "import pyspark.sql.functions as F\n",
    "from pyspark.sql import Row, Window\n",
    "from pyspark.sql.types import *\n",
    "\n",
    "\n",
    "\"\"\"\n",
    "Utility functions \n",
    "\"\"\"\n",
    "def date_list(endDate, delta=14):\n",
    "    temp = [endDate]\n",
    "    for i in range(1, delta + 1):\n",
    "        temp.append(endDate - timedelta(days=i))\n",
    "    return '{' + ','.join([str(d.date()) for d in temp]) + '}'\n",
    "\n",
    "\n",
    "def readParquet(prefix, dates=\"{*}\", hour=\"{*}\", fields=None):\n",
    "    path = prefix + \"/dt=\" + dates + \"/hr=\" + hour + \"/\"\n",
    "    return spark.read.parquet(path)\n",
    "\n",
    "def df_to_s3(df, path, filename):\n",
    "    s3 = boto3.resource('s3')\n",
    "    file_type = filename.split(\".\")[-1]\n",
    "    with io.StringIO() as outputBuffer:\n",
    "        if file_type == \"pickle\":\n",
    "            pickle.dump(df, outputBuffer)\n",
    "        elif file_type == \"json\":\n",
    "            df.to_json(outputBuffer, orient='index')\n",
    "        elif file_type == \"csv\":\n",
    "            df.to_csv(outputBuffer)\n",
    "            #json.dump(df, buffer)\n",
    "        print(outputBuffer.closed)\n",
    "        outputBuffer.seek(0)\n",
    "        obj = s3.Object('mist-data-science-dev', f'{path}/{filename}')\n",
    "        obj.put(Body=outputBuffer.getvalue())\n",
    "    print(outputBuffer.closed)"
   ]
  },
  {
   "cell_type": "code",
   "execution_count": 3,
   "id": "joined-convention",
   "metadata": {},
   "outputs": [
    {
     "data": {
      "application/vnd.jupyter.widget-view+json": {
       "model_id": "e50dcc7841004ad78f9fe7a93ef0f648",
       "version_major": 2,
       "version_minor": 0
      },
      "text/plain": [
       "VBox()"
      ]
     },
     "metadata": {},
     "output_type": "display_data"
    },
    {
     "data": {
      "application/vnd.jupyter.widget-view+json": {
       "model_id": "",
       "version_major": 2,
       "version_minor": 0
      },
      "text/plain": [
       "FloatProgress(value=0.0, bar_style='info', description='Progress:', layout=Layout(height='25px', width='50%'),…"
      ]
     },
     "metadata": {},
     "output_type": "display_data"
    }
   ],
   "source": [
    "def get_site_graph(df_site, site_id=None):\n",
    "    if site_id:\n",
    "        df_site = df_site.filter(F.col('siteId')==site_id)\n",
    "\n",
    "    df_site_adj_list = df_site.select('siteId','src','dst')\\\n",
    "                            .groupby('siteId','src')\\\n",
    "                            .agg(F.collect_set(F.col('dst')).alias('dst'))\n",
    "    df_site_adj_list = df_site_adj_list.groupby(\"siteId\")\\\n",
    "             .agg(F.map_from_arrays(F.collect_list(\"src\"),F.collect_list(\"dst\")).alias(\"graph\"))\n",
    "    \n",
    "    return df_site_adj_list\n",
    "\n",
    "def _isCycle(graph, v, done, stack): \n",
    "\n",
    "    done[v] = True\n",
    "    stack[v] = True\n",
    "\n",
    "    for neighbour in graph[v] : \n",
    "        if neighbour in graph :\n",
    "            if done[neighbour] == False : \n",
    "                if _isCycle(graph, neighbour, done, stack) == True: \n",
    "                    print(f'Part of cycle: {neighbour}')\n",
    "                    return True\n",
    "            elif stack[neighbour] == True : \n",
    "                print(f'Last neighbour found on stack: {neighbour}')\n",
    "                return True\n",
    "\n",
    "    stack[v] = False\n",
    "    return False\n",
    "\n",
    "\n",
    "def isCycle(graph): \n",
    "    src_vertices = graph.keys()\n",
    "    done = {k:False for k in src_vertices} \n",
    "    stack = {k:False for k in src_vertices} \n",
    "\n",
    "    for node in src_vertices: \n",
    "        if done[node] == False: \n",
    "            if _isCycle(graph, node, done, stack) == True: \n",
    "                return True\n",
    "    return False\n",
    "\n",
    "udf_isCycle = F.udf(isCycle, BooleanType())\n",
    "\n",
    "class Cycles:\n",
    "    def __init__(self, graph):\n",
    "        self._graph = graph\n",
    "        self.nodes = self.getNodes()\n",
    "        self.nodeMap = {node : i for i, node in enumerate(self.nodes)}\n",
    "        self.visited = ['NOT_VISITED' for _ in range(len(self.nodes))]  # Initialize all nodes unvisited\n",
    "        self.stack = []  # Stack to keep track of visited nodes\n",
    "        self.cycles = []\n",
    "\n",
    "    def getNodes(self):\n",
    "        _nodes=set([])\n",
    "        for k, v in self._graph.items():\n",
    "            items = [k] + v\n",
    "            for item in items:\n",
    "                _nodes.add(item)\n",
    "        return list(_nodes)\n",
    "\n",
    "    def printCycles(self):\n",
    "        return self.cycles\n",
    "    \n",
    "    def addCycle(self, v):\n",
    "        cycle=[]\n",
    "        cycle.append(self.nodes[self.stack[-1]])\n",
    "        i=1\n",
    "        while cycle[-1]!=v and i<len(self.stack):\n",
    "            i+=1\n",
    "            cycle.append(self.nodes[self.stack[-i]])\n",
    "            \n",
    "        self.cycles.append(cycle)\n",
    "        \n",
    "    def dfs(self):\n",
    "        curr = self.stack[-1]\n",
    "        if self.nodes[curr] in self._graph:\n",
    "            for neighbour in self._graph[self.nodes[curr]]:\n",
    "                to = self.nodeMap[neighbour]\n",
    "                if self.visited[to] == 'ON_STACK':\n",
    "                    self.addCycle(to)\n",
    "                elif self.visited[to] == 'NOT_VISITED':\n",
    "                    self.stack.append(to)\n",
    "                    self.visited[to] = 'ON_STACK'\n",
    "                    self.dfs()\n",
    "                \n",
    "        self.visited[curr] = 'DONE'\n",
    "        self.stack.pop()\n",
    "\n",
    "    def findCycles(self):\n",
    "        for i, node in enumerate(self.nodes):\n",
    "            if self.visited[i] == 'NOT_VISITED':\n",
    "                self.stack = []\n",
    "                self.stack.append(i)\n",
    "                self.visited[i] = 'ON_STACK'\n",
    "                self.dfs()\n",
    "        \n",
    "        return self.printCycles()\n",
    "    \n",
    "def find_cycles(graph):\n",
    "    cycles = Cycles(graph)\n",
    "    return cycles.findCycles()\n",
    "\n",
    "udf_findCycles = F.udf(find_cycles, ArrayType(ArrayType(StringType())))\n",
    "\n",
    "def find_cycles_nx(graph):\n",
    "    G = nx.DiGraph(graph)\n",
    "    return list(nx.simple_cycles(G))\n",
    "\n",
    "udf_findCyclesNX = F.udf(find_cycles_nx, ArrayType(ArrayType(StringType())))\n",
    "\n",
    "# g = nx.DiGraph({'a':['b','c','e'], 'b':['a','c','d'], 'c':['a','d','f'], 'd':['a','f','e']})\n",
    "# list(nx.simple_cycles(g))"
   ]
  },
  {
   "cell_type": "code",
   "execution_count": 5,
   "id": "destroyed-oakland",
   "metadata": {},
   "outputs": [
    {
     "data": {
      "application/vnd.jupyter.widget-view+json": {
       "model_id": "f6e261e5210b45c0a1e2140e3f0f25f3",
       "version_major": 2,
       "version_minor": 0
      },
      "text/plain": [
       "VBox()"
      ]
     },
     "metadata": {},
     "output_type": "display_data"
    },
    {
     "data": {
      "application/vnd.jupyter.widget-view+json": {
       "model_id": "",
       "version_major": 2,
       "version_minor": 0
      },
      "text/plain": [
       "FloatProgress(value=0.0, bar_style='info', description='Progress:', layout=Layout(height='25px', width='50%'),…"
      ]
     },
     "metadata": {},
     "output_type": "display_data"
    }
   ],
   "source": [
    "\"\"\"\n",
    "Variables\n",
    "\"\"\"\n",
    "ENV = 'production'\n",
    "component = 'device'\n",
    "prefix_edges = f\"s3://mist-aggregated-stats-{ENV}/aggregated-stats/graph/snapshots/{component}-edges/\"\n",
    "prefix_nodes = f\"s3://mist-aggregated-stats-{ENV}/aggregated-stats/graph/snapshots/{component}-nodes/\"\n",
    "\n",
    "END_DATE = datetime.today()\n",
    "#END_DATE = datetime.strptime('2021-04-12', '%Y-%m-%d')\n",
    "LAG = 0\n",
    "\n",
    "hour = '18'\n",
    "\n",
    "\"\"\"\"\"\"\n",
    "\n",
    "dates = date_list(END_DATE, delta=LAG)\n",
    "df_edges = readParquet(prefix_edges, dates, hour=hour)\n",
    "df_edges = df_edges.withColumn('isExpired', F.when(F.isnull(F.col('expiredAt')),'False').otherwise('True')) \\\n",
    "                    .filter(F.col('relType') == 'uplink')\n",
    "df_active_edges = df_edges.filter(F.col('isExpired')==False)\n",
    "df_nodes = readParquet(prefix_nodes, dates)\n",
    "df_nodes = df_nodes.withColumn('isExpired', F.when(F.isnull(F.col('expiredAt')),'False').otherwise('True'))\n",
    "df_active_nodes = df_nodes.filter(F.col('isExpired')==False)\n",
    "df_active_nodes = df_active_nodes.withColumnRenamed(\"siteId\",\"siteId_2\")\n",
    "\n",
    "\"\"\"Filter out deviceType=='ap'\"\"\"   \n",
    "df_join = df_active_edges.join(df_active_nodes, [df_active_edges.source==df_active_nodes.mac,\n",
    "                                                 df_active_edges.siteId==df_active_nodes.siteId_2]).drop('siteId_2')\n",
    "df_active_nodes = df_active_nodes.withColumn('mac_target', df_active_nodes.mac) \\\n",
    "                                .withColumn('deviceType_target', df_active_nodes.deviceType)\n",
    "df_join = df_join.join(df_active_nodes.select('mac_target','deviceType_target','siteId_2'),\n",
    "                       [df_join.target==df_active_nodes.mac_target,\n",
    "                        df_join.siteId==df_active_nodes.siteId_2])\n",
    "\n",
    "df_active_edges_filtered = df_join.filter((F.col('deviceType')!='ap')&(F.col('deviceType_target')!='ap'))\\\n",
    "        .select('siteId','source','target','sourcePort','targetPort','sourceVendor','targetVendor','deviceType','deviceType_target', 'relType')\n",
    "\n",
    "df_active_edges_filtered = df_active_edges_filtered.withColumn('src',F.concat_ws(\"__\",F.col('source'),F.col('sourcePort'))) \\\n",
    "                        .withColumn('dst',F.concat_ws(\"__\",F.col('target'),F.col('targetPort')))\n",
    "\n",
    "\n",
    "#df_active_edges_filtered.show()"
   ]
  },
  {
   "cell_type": "code",
   "execution_count": 25,
   "id": "interpreted-addiction",
   "metadata": {},
   "outputs": [
    {
     "data": {
      "application/vnd.jupyter.widget-view+json": {
       "model_id": "ee203739967448519c054315ef1c7425",
       "version_major": 2,
       "version_minor": 0
      },
      "text/plain": [
       "VBox()"
      ]
     },
     "metadata": {},
     "output_type": "display_data"
    },
    {
     "data": {
      "application/vnd.jupyter.widget-view+json": {
       "model_id": "",
       "version_major": 2,
       "version_minor": 0
      },
      "text/plain": [
       "FloatProgress(value=0.0, bar_style='info', description='Progress:', layout=Layout(height='25px', width='50%'),…"
      ]
     },
     "metadata": {},
     "output_type": "display_data"
    }
   ],
   "source": [
    "# df_join.filter((F.col('deviceType')=='ap')|(F.col('deviceType_target')=='ap')) \\\n",
    "#         .select('source','target',\n",
    "#                 'sourcePort','targetPort',\n",
    "#                 'deviceType','deviceType_target', 'relType') \\\n",
    "#         .show()"
   ]
  },
  {
   "cell_type": "code",
   "execution_count": 4,
   "id": "loved-detector",
   "metadata": {},
   "outputs": [
    {
     "data": {
      "application/vnd.jupyter.widget-view+json": {
       "model_id": "f609ad621eed497e9d517f6f4072c613",
       "version_major": 2,
       "version_minor": 0
      },
      "text/plain": [
       "VBox()"
      ]
     },
     "metadata": {},
     "output_type": "display_data"
    },
    {
     "data": {
      "application/vnd.jupyter.widget-view+json": {
       "model_id": "",
       "version_major": 2,
       "version_minor": 0
      },
      "text/plain": [
       "FloatProgress(value=0.0, bar_style='info', description='Progress:', layout=Layout(height='25px', width='50%'),…"
      ]
     },
     "metadata": {},
     "output_type": "display_data"
    },
    {
     "name": "stdout",
     "output_type": "stream",
     "text": [
      "+----------+-----------------+\n",
      "|deviceType|deviceType_target|\n",
      "+----------+-----------------+\n",
      "|    switch|           switch|\n",
      "|   gateway|          gateway|\n",
      "|   gateway|           switch|\n",
      "|    switch|            third|\n",
      "|   gateway|            third|\n",
      "|    switch|          gateway|\n",
      "+----------+-----------------+"
     ]
    }
   ],
   "source": [
    "df_active_edges_filtered.select('deviceType','deviceType_target').distinct().show()"
   ]
  },
  {
   "cell_type": "code",
   "execution_count": 26,
   "id": "interior-memory",
   "metadata": {},
   "outputs": [
    {
     "data": {
      "application/vnd.jupyter.widget-view+json": {
       "model_id": "2b576dc587a548c1b755f3f56ed8e5a4",
       "version_major": 2,
       "version_minor": 0
      },
      "text/plain": [
       "VBox()"
      ]
     },
     "metadata": {},
     "output_type": "display_data"
    },
    {
     "data": {
      "application/vnd.jupyter.widget-view+json": {
       "model_id": "",
       "version_major": 2,
       "version_minor": 0
      },
      "text/plain": [
       "FloatProgress(value=0.0, bar_style='info', description='Progress:', layout=Layout(height='25px', width='50%'),…"
      ]
     },
     "metadata": {},
     "output_type": "display_data"
    },
    {
     "name": "stdout",
     "output_type": "stream",
     "text": [
      "Sites with cycles in device collection(relType==uplink) = 59"
     ]
    }
   ],
   "source": [
    "df_site_graph = get_site_graph(df_active_edges_filtered)\n",
    "df_site_graph_cycle = df_site_graph.withColumn('cycle_detected', udf_isCycle(F.col('graph')))\n",
    "df_site_graph_cycle_true = df_site_graph_cycle.filter(F.col('cycle_detected')==True)\n",
    "cycle_detect = df_site_graph_cycle_true.count()\n",
    "print(f'Sites with cycles in {component} collection(relType==uplink) = {cycle_detect}')"
   ]
  },
  {
   "cell_type": "code",
   "execution_count": 27,
   "id": "related-blowing",
   "metadata": {},
   "outputs": [
    {
     "data": {
      "application/vnd.jupyter.widget-view+json": {
       "model_id": "ba5c92fe8a984f0d9998c66be2949114",
       "version_major": 2,
       "version_minor": 0
      },
      "text/plain": [
       "VBox()"
      ]
     },
     "metadata": {},
     "output_type": "display_data"
    },
    {
     "data": {
      "application/vnd.jupyter.widget-view+json": {
       "model_id": "",
       "version_major": 2,
       "version_minor": 0
      },
      "text/plain": [
       "FloatProgress(value=0.0, bar_style='info', description='Progress:', layout=Layout(height='25px', width='50%'),…"
      ]
     },
     "metadata": {},
     "output_type": "display_data"
    }
   ],
   "source": [
    "df_site_graph_all_cycles = df_site_graph_cycle_true.withColumn('cycles', udf_findCycles(F.col('graph')))\n",
    "df_graph_cycles_pd = df_site_graph_all_cycles.select('siteId', 'cycles').toPandas()"
   ]
  },
  {
   "cell_type": "code",
   "execution_count": 28,
   "id": "internal-amino",
   "metadata": {},
   "outputs": [
    {
     "data": {
      "application/vnd.jupyter.widget-view+json": {
       "model_id": "48ffe693b4914b61af9b64a04247cf61",
       "version_major": 2,
       "version_minor": 0
      },
      "text/plain": [
       "VBox()"
      ]
     },
     "metadata": {},
     "output_type": "display_data"
    },
    {
     "data": {
      "application/vnd.jupyter.widget-view+json": {
       "model_id": "",
       "version_major": 2,
       "version_minor": 0
      },
      "text/plain": [
       "FloatProgress(value=0.0, bar_style='info', description='Progress:', layout=Layout(height='25px', width='50%'),…"
      ]
     },
     "metadata": {},
     "output_type": "display_data"
    }
   ],
   "source": [
    "df_site_graph_all_cycles_nx = df_site_graph_cycle_true.withColumn('cycles', udf_findCyclesNX(F.col('graph')))\n",
    "df_graph_cycles_nx_pd = df_site_graph_all_cycles_nx.select('siteId', 'cycles').toPandas()"
   ]
  },
  {
   "cell_type": "code",
   "execution_count": 42,
   "id": "independent-arrival",
   "metadata": {},
   "outputs": [
    {
     "data": {
      "application/vnd.jupyter.widget-view+json": {
       "model_id": "b282657056574504b84ca1b8aaedd06e",
       "version_major": 2,
       "version_minor": 0
      },
      "text/plain": [
       "VBox()"
      ]
     },
     "metadata": {},
     "output_type": "display_data"
    },
    {
     "data": {
      "application/vnd.jupyter.widget-view+json": {
       "model_id": "",
       "version_major": 2,
       "version_minor": 0
      },
      "text/plain": [
       "FloatProgress(value=0.0, bar_style='info', description='Progress:', layout=Layout(height='25px', width='50%'),…"
      ]
     },
     "metadata": {},
     "output_type": "display_data"
    },
    {
     "name": "stdout",
     "output_type": "stream",
     "text": [
      "Site=341880de-2d4d-430f-9b5e-928577cd6c84\n",
      "-->['840328014ed0__ge-0/2/0', '840328015f95__ge-0/2/0'], len=2\n",
      "Site=94650a18-f0a9-4852-a709-d12a2ce23eea\n",
      "-->['e8a24550deb2__ge-0/0/0', '20d80ba74102__ge-0/0/0'], len=2\n",
      "Site=aba6715c-92f9-4828-9080-22dfbc2c2053\n",
      "-->['5800bb98c690__ge-0/1/0', '80acac531b40__ge-0/2/1'], len=2\n",
      "Site=d24cc1e5-c5d1-45e9-aa93-0f2ded05748a\n",
      "-->['fc964368dcc0__xe-0/0/19', 'e8a2452c66c0__xe-0/2/0'], len=2\n",
      "Site=b3610203-d3ca-4511-803c-dca6f17c470c\n",
      "-->['0c599c6bacc7__ge-0/1/0', '0c599c8333fa__ge-0/1/0'], len=2\n",
      "Site=c6ba09d0-bf78-46a3-832e-491f3b8441b7\n",
      "-->['fc964328d895__xe-0/1/1', 'fc964328b25f__xe-0/1/1'], len=2\n",
      "-->['fc964328b25f__xe-1/1/1', 'fc964328d895__xe-1/1/1'], len=2\n",
      "Site=a4b10ceb-22df-4272-97dd-e2f88da828b1\n",
      "-->['fc3342b92b2e__xe-2/2/2', '50c709a51a64__xe-0/2/0'], len=2\n",
      "-->['50c709a51a64__xe-1/2/0', 'fc3342b92b2e__xe-1/2/2'], len=2\n",
      "Site=af909340-6a2e-4b38-8e6c-1196b6afac8d\n",
      "-->['fc964367a6c0__ge-0/0/0', '544b8c17cc0e__ge-0/1/0'], len=2\n",
      "Site=f03f310f-42d4-4bd2-bcbe-d8f05fc204a1\n",
      "-->['d0dd496c5a62__ge-0/0/10', '840328fc9d75__ge-0/0/0'], len=2\n",
      "Site=b444ec5d-524f-4f0c-a8f0-a6100f71a461\n",
      "-->['fc964328f363__xe-1/1/1', 'fc964328a9d1__xe-1/1/1'], len=2\n",
      "Site=baf57076-5c94-4025-85bb-934cf9ffbd4e\n",
      "-->['045c6c48e679__ge-0/0/0', '045c6c48fa92__ge-0/0/0'], len=2\n",
      "Site=6c3b309a-6f25-4f2c-9c49-f162a3c3dfd0\n",
      "-->['78507c707bb8__ge-0/2/0', '78507c700f31__ge-1/2/2'], len=2\n",
      "Site=3ac31149-7c0a-4bd4-84e0-22ebccb96e34\n",
      "-->['fc964328e290__xe-0/1/1', 'fc964328efae__xe-0/1/1'], len=2\n",
      "-->['fc964328efae__xe-1/1/1', 'fc964328e290__xe-1/1/1'], len=2\n",
      "Site=e7c32791-6107-4436-b2d7-d0a03b85b749\n",
      "-->['d0dd49e00400__ge-0/0/1', '0c599c830fe2__ge-0/0/0'], len=2\n",
      "Site=db966083-12c3-4c94-acc3-ac5e52ef42dd\n",
      "-->['f07cc77b9217__ge-0/0/47', 'f07cc77b53ed__ge-0/0/47'], len=2\n",
      "Site=04d8a2d8-4b9c-4314-b1fb-7cec586f437d\n",
      "-->['94f7add46626__ge-0/1/2', 'fc3342e851e8__ge-0/1/1'], len=2\n",
      "Site=319f74f5-0e67-403b-8464-363f27d92000\n",
      "-->['f07cc758c1f4__ge-0/0/0', 'f07cc7587ef4__ge-0/0/0'], len=2\n",
      "Site=70e22b5d-7351-4d6c-8f57-c67fa6aad368\n",
      "-->['84032807e2a8__ge-0/1/1', '84032807c3dc__ge-0/1/1'], len=2\n",
      "-->['84032807e2a8__ge-1/1/1', '84032807c3dc__ge-1/1/1'], len=2\n",
      "Site=218aa8e0-5d72-4d09-ac08-b966956e10ca\n",
      "-->['fc964328f040__xe-0/1/1', 'fc96432891dd__xe-0/1/1'], len=2\n",
      "-->['fc96432891dd__xe-1/1/1', 'fc964328f040__xe-1/1/1'], len=2\n",
      "Site=2db0c421-8401-43bf-9a5c-0d901628a5e2\n",
      "-->['c8fe6a12d500__ge-0/0/0', '4c6d58aacd60__ge-0/2/0'], len=2\n",
      "Site=ec5717cc-ac1f-42eb-9089-a010beaf4b81\n",
      "-->['f07cc7654964__xe-0/2/0', '40deada6c747__xe-0/2/1'], len=2\n",
      "Site=2bcdae73-1b5e-4b29-aeaf-34e5a72e7fb3\n",
      "-->['045c6c48d936__ge-0/0/6', '4071832a5180__ge-0/0/5'], len=2\n",
      "Site=8a635dc9-fa78-4070-a54e-5031a1f722e1\n",
      "-->['840328018ffe__ge-0/2/1', '0c599c6d13e1__ge-0/2/1'], len=2\n",
      "Site=f7cb3d7a-c1fb-4717-9ecd-b81190342f17\n",
      "-->['fc964368ebc0__xe-0/0/18', '84032810c8de__xe-0/2/0'], len=2\n",
      "Site=5d730b5c-65d2-4061-8b45-c3020c36a087\n",
      "-->['c8fe6a5d47a6__xe-0/2/0', 'c8fe6a971b80__xe-0/0/0'], len=2\n",
      "Site=580c3489-06ee-41be-8955-b9004a443d4c\n",
      "-->['84032801d36e__xe-1/1/1', '84032801dc45__xe-1/1/1'], len=2\n",
      "-->['84032801d36e__xe-0/1/1', '84032801dc45__xe-0/1/1'], len=2\n",
      "Site=30b72684-5358-4875-ac08-9f3a0a90fe89\n",
      "-->['b8c253e0d88a__ge-0/0/0', 'b8c253e0f51d__ge-0/0/2'], len=2\n",
      "Site=2008fca1-1a7a-4101-b369-ade07733f8ce\n",
      "-->['f4a739c5a838__ge-0/0/11', '84c1c14e2d09__ge-0/0/11'], len=2\n",
      "Site=69bef04f-321d-4333-94d5-45adfdcff883\n",
      "-->['1039e9461e21__ge-0/0/0', '1039e9463121__ge-0/0/0'], len=2\n",
      "Site=006be760-099e-4df3-b935-c1f547e85a5f\n",
      "-->['c8fe6ad5c240__ge-0/0/3', '50c709904796__ge-0/1/3'], len=2\n",
      "Site=061f9433-7f3a-44f0-8344-542a2e373f62\n",
      "-->['0c812679a143__ge-0/1/0', '544b8c1bb07f__ge-0/1/2'], len=2\n",
      "-->['3c8c93ab9114__ge-0/2/2', '182ad3460380__ge-0/1/0'], len=2\n",
      "Site=504764c2-5e12-4f31-831a-eb87f004e23b\n",
      "-->['0c599ceb701b__ge-0/1/0', '40dead5f57e0__ge-0/0/21'], len=2\n",
      "Site=eeb84aaf-94cd-4909-b45e-a202b4e27cae\n",
      "-->['3c8c93ab33eb__ge-0/0/23', 'e45d376cd7fd__ge-0/0/22'], len=2\n",
      "Site=3d214c78-4eae-4050-b861-fc2e6c6ff4a8\n",
      "-->['3c8c93aba2ab__xe-0/2/0', '3c8c93abbaf0__xe-0/2/2'], len=2\n",
      "Site=d53c6e86-bc7c-4936-906f-38db5aec207d\n",
      "-->['c8fe6a5dbe7c__ge-0/0/9', '1c9c8cba26d7__ge-0/0/9'], len=2\n",
      "Site=54154b5a-35e0-4ef4-9574-d95cb57b855d\n",
      "-->['fc9643697cc0__xe-0/2/7', '8403281195de__xe-0/2/0'], len=2\n",
      "Site=3a16da80-7cdb-4076-9774-23e6d2c2abcf\n",
      "-->['1039e9cd5682__ge-1/2/0', '1039e9cd924f__ge-1/2/0'], len=2\n",
      "-->['1039e9cd924f__ge-0/2/0', '1039e9cd5682__ge-0/2/0'], len=2\n",
      "Site=e10b6e4d-350c-4e4c-91fb-01e4ef07bbe6\n",
      "-->['544b8c186178__ge-1/0/1', '544b8c18598f__ge-0/0/47'], len=2\n",
      "Site=7930e8a4-c4f2-4e8c-9cf6-42ce24a0ec61\n",
      "-->['f4bfa8cb04b0__ge-0/0/22', 'f4bfa8cae3c4__ge-0/0/23'], len=2\n",
      "Site=24233519-bcd1-48e1-b764-4321abcb3558\n",
      "-->['182ad3460b6e__ge-0/0/8', '0c812679a7d3__ge-0/0/1'], len=2\n",
      "Site=dccf8cb0-7b22-4cdd-9ef2-2793e79aadb9\n",
      "-->['9c8acba5b402__ge-0/0/23', '9c8acba5b123__ge-0/0/23'], len=2\n",
      "Site=f766e5fb-0f43-481a-b9c5-ed4432e49e6e\n",
      "-->['e45d37669a03__xe-1/1/1', 'fc964328c978__xe-1/1/1'], len=2\n",
      "-->['fc964328c978__xe-0/1/1', 'e45d37669a03__xe-0/1/1'], len=2\n",
      "Site=58520b3b-938c-40b6-942f-cda40bd72139\n",
      "-->['182ad35e7c00__ge-0/0/47', '182ad35ebf95__ge-0/0/46'], len=2\n",
      "Site=944b991b-ecdd-434e-a29b-6bd3ef876736\n",
      "-->['e45d37666aad__xe-0/1/1', '840328020431__xe-0/1/1'], len=2\n",
      "-->['e45d37666aad__xe-1/1/1', '840328020431__xe-1/1/1'], len=2\n",
      "Site=9eeb8211-c0d6-4c71-9ca8-fe650571f374\n",
      "-->['28a24b881b59__ge-0/0/1', '5800bbd2d800__ge-0/0/0'], len=2\n",
      "Site=00df7e5c-64b8-4caa-8745-0c2395dd9f73\n",
      "-->['e8a2453e62ab__xe-0/1/0', 'c8fe6af6284d__xe-0/1/0'], len=2\n",
      "Site=630feeb6-fac3-4a90-811f-9b29495001e6\n",
      "-->['f07cc7669e97__ge-1/2/0', '44ecce543db1__ge-1/2/0'], len=2\n",
      "Site=c265ebaa-5e6f-4a04-a47c-8fe802a9e1ff\n",
      "-->['f04b3ab5be20__ge-5/0/47', '7ce2ca34ba80__ge-0/0/47'], len=2\n",
      "Site=1ce93043-4059-4be0-948d-42060725d067\n",
      "-->['f07cc76690fc__xe-0/2/0', 'f07cc766b1e4__xe-0/2/1'], len=2\n",
      "Site=6ba97cee-8566-4cf0-a560-d35464478c6a\n",
      "-->['0c599c3b58e4__ge-0/1/0', '4c6d5866e622__ge-0/2/1'], len=2\n",
      "Site=423c935c-a964-42ed-82fa-def3f06b81f2\n",
      "-->['408f9dd1cc81__ge-0/0/0', '840328f8937a__ge-0/0/1'], len=2\n",
      "Site=0e242573-6fc3-444b-9078-8e145ac0b0cc\n",
      "-->['f07cc77b714c__xe-3/1/0', '40deadb61b07__xe-0/1/0'], len=2\n",
      "Site=dd426894-e024-412f-99ee-0e02ad7f711a\n",
      "-->['fc964368c3c0__xe-0/0/3', '544b8c18162d__xe-0/1/0'], len=2\n",
      "Site=65727953-f04c-413d-a0c3-92cc202e6128\n",
      "-->['d0dd4994099f__ge-0/2/0', '182ad38046a0__ge-0/2/0'], len=2\n",
      "Site=e34cdd6b-edfd-425b-92e0-aa2f6de16556\n",
      "-->['fc9643c1d374__ge-0/0/0', 'fc9643c223de__ge-0/0/42'], len=2\n",
      "Site=10448f99-05ff-423f-b48e-696413d4c019\n",
      "-->['80acac53bb00__ge-0/2/2', '08b258af8d80__ge-0/2/0'], len=2\n",
      "Site=34d1fe77-f972-4c05-91c0-3eefedd9e55b\n",
      "-->['f4bfa8cdfabd__ge-0/0/6', 'f4bfa8cdc961__ge-0/0/47'], len=2\n",
      "Site=09df1500-f1b3-4501-a805-7af21a1fb90f\n",
      "-->['1039e9462e21__ge-0/0/0', '1039e9461fa1__ge-0/0/0'], len=2\n",
      "Site=7ae01210-c9f1-44b6-aff1-dee9672c9539\n",
      "-->['8403280164a5__ge-0/2/0', 'f4bfa816d900__ge-0/2/0'], len=2"
     ]
    }
   ],
   "source": [
    "temp = df_graph_cycles_nx_pd.copy()\n",
    "for site in temp.siteId[::1]:\n",
    "    print(f'Site={site}')\n",
    "    for cycles in temp[temp.siteId==site].cycles:\n",
    "        for cycle in cycles:\n",
    "            if len(cycle)>=1:\n",
    "                print(f'-->{cycle}, len={len(cycle)}')"
   ]
  },
  {
   "cell_type": "code",
   "execution_count": 43,
   "id": "useful-stranger",
   "metadata": {
    "scrolled": true
   },
   "outputs": [
    {
     "data": {
      "application/vnd.jupyter.widget-view+json": {
       "model_id": "ec5beb07b3c54d81a417f7752ad6dd16",
       "version_major": 2,
       "version_minor": 0
      },
      "text/plain": [
       "VBox()"
      ]
     },
     "metadata": {},
     "output_type": "display_data"
    },
    {
     "data": {
      "application/vnd.jupyter.widget-view+json": {
       "model_id": "",
       "version_major": 2,
       "version_minor": 0
      },
      "text/plain": [
       "FloatProgress(value=0.0, bar_style='info', description='Progress:', layout=Layout(height='25px', width='50%'),…"
      ]
     },
     "metadata": {},
     "output_type": "display_data"
    },
    {
     "name": "stdout",
     "output_type": "stream",
     "text": [
      "                                  siteId  ...  2\n",
      "18  218aa8e0-5d72-4d09-ac08-b966956e10ca  ...  2\n",
      "12  3ac31149-7c0a-4bd4-84e0-22ebccb96e34  ...  2\n",
      "17  70e22b5d-7351-4d6c-8f57-c67fa6aad368  ...  2\n",
      "30  061f9433-7f3a-44f0-8344-542a2e373f62  ...  2\n",
      "36  3a16da80-7cdb-4076-9774-23e6d2c2abcf  ...  2\n",
      "5   c6ba09d0-bf78-46a3-832e-491f3b8441b7  ...  2\n",
      "6   a4b10ceb-22df-4272-97dd-e2f88da828b1  ...  2\n",
      "43  944b991b-ecdd-434e-a29b-6bd3ef876736  ...  2\n",
      "25  580c3489-06ee-41be-8955-b9004a443d4c  ...  2\n",
      "41  f766e5fb-0f43-481a-b9c5-ed4432e49e6e  ...  2\n",
      "44  9eeb8211-c0d6-4c71-9ca8-fe650571f374  ...  1\n",
      "42  58520b3b-938c-40b6-942f-cda40bd72139  ...  1\n",
      "0   341880de-2d4d-430f-9b5e-928577cd6c84  ...  1\n",
      "40  dccf8cb0-7b22-4cdd-9ef2-2793e79aadb9  ...  1\n",
      "45  00df7e5c-64b8-4caa-8745-0c2395dd9f73  ...  1\n",
      "38  7930e8a4-c4f2-4e8c-9cf6-42ce24a0ec61  ...  1\n",
      "37  e10b6e4d-350c-4e4c-91fb-01e4ef07bbe6  ...  1\n",
      "35  54154b5a-35e0-4ef4-9574-d95cb57b855d  ...  1\n",
      "39  24233519-bcd1-48e1-b764-4321abcb3558  ...  1\n",
      "46  630feeb6-fac3-4a90-811f-9b29495001e6  ...  1\n",
      "33  3d214c78-4eae-4050-b861-fc2e6c6ff4a8  ...  1\n",
      "47  c265ebaa-5e6f-4a04-a47c-8fe802a9e1ff  ...  1\n",
      "48  1ce93043-4059-4be0-948d-42060725d067  ...  1\n",
      "49  6ba97cee-8566-4cf0-a560-d35464478c6a  ...  1\n",
      "50  423c935c-a964-42ed-82fa-def3f06b81f2  ...  1\n",
      "51  0e242573-6fc3-444b-9078-8e145ac0b0cc  ...  1\n",
      "52  dd426894-e024-412f-99ee-0e02ad7f711a  ...  1\n",
      "53  65727953-f04c-413d-a0c3-92cc202e6128  ...  1\n",
      "54  e34cdd6b-edfd-425b-92e0-aa2f6de16556  ...  1\n",
      "55  10448f99-05ff-423f-b48e-696413d4c019  ...  1\n",
      "56  34d1fe77-f972-4c05-91c0-3eefedd9e55b  ...  1\n",
      "57  09df1500-f1b3-4501-a805-7af21a1fb90f  ...  1\n",
      "34  d53c6e86-bc7c-4936-906f-38db5aec207d  ...  1\n",
      "29  006be760-099e-4df3-b935-c1f547e85a5f  ...  1\n",
      "32  eeb84aaf-94cd-4909-b45e-a202b4e27cae  ...  1\n",
      "15  04d8a2d8-4b9c-4314-b1fb-7cec586f437d  ...  1\n",
      "2   aba6715c-92f9-4828-9080-22dfbc2c2053  ...  1\n",
      "3   d24cc1e5-c5d1-45e9-aa93-0f2ded05748a  ...  1\n",
      "4   b3610203-d3ca-4511-803c-dca6f17c470c  ...  1\n",
      "7   af909340-6a2e-4b38-8e6c-1196b6afac8d  ...  1\n",
      "8   f03f310f-42d4-4bd2-bcbe-d8f05fc204a1  ...  1\n",
      "9   b444ec5d-524f-4f0c-a8f0-a6100f71a461  ...  1\n",
      "10  baf57076-5c94-4025-85bb-934cf9ffbd4e  ...  1\n",
      "11  6c3b309a-6f25-4f2c-9c49-f162a3c3dfd0  ...  1\n",
      "13  e7c32791-6107-4436-b2d7-d0a03b85b749  ...  1\n",
      "14  db966083-12c3-4c94-acc3-ac5e52ef42dd  ...  1\n",
      "16  319f74f5-0e67-403b-8464-363f27d92000  ...  1\n",
      "31  504764c2-5e12-4f31-831a-eb87f004e23b  ...  1\n",
      "19  2db0c421-8401-43bf-9a5c-0d901628a5e2  ...  1\n",
      "20  ec5717cc-ac1f-42eb-9089-a010beaf4b81  ...  1\n",
      "21  2bcdae73-1b5e-4b29-aeaf-34e5a72e7fb3  ...  1\n",
      "22  8a635dc9-fa78-4070-a54e-5031a1f722e1  ...  1\n",
      "23  f7cb3d7a-c1fb-4717-9ecd-b81190342f17  ...  1\n",
      "24  5d730b5c-65d2-4061-8b45-c3020c36a087  ...  1\n",
      "26  30b72684-5358-4875-ac08-9f3a0a90fe89  ...  1\n",
      "27  2008fca1-1a7a-4101-b369-ade07733f8ce  ...  1\n",
      "28  69bef04f-321d-4333-94d5-45adfdcff883  ...  1\n",
      "1   94650a18-f0a9-4852-a709-d12a2ce23eea  ...  1\n",
      "58  7ae01210-c9f1-44b6-aff1-dee9672c9539  ...  1\n",
      "\n",
      "[59 rows x 3 columns]"
     ]
    }
   ],
   "source": [
    "_temp = temp['cycles'].apply(lambda cycles: dict(Counter([len(cycle) for cycle in cycles]))).apply(pd.Series)\n",
    "temp = pd.concat([temp, _temp], axis=1)\n",
    "temp.sort_values(by=2,ascending=False)"
   ]
  },
  {
   "cell_type": "code",
   "execution_count": null,
   "id": "applied-communication",
   "metadata": {},
   "outputs": [],
   "source": []
  }
 ],
 "metadata": {
  "kernelspec": {
   "display_name": "PySpark",
   "language": "",
   "name": "pysparkkernel"
  },
  "language_info": {
   "codemirror_mode": {
    "name": "python",
    "version": 2
   },
   "mimetype": "text/x-python",
   "name": "pyspark",
   "pygments_lexer": "python2"
  }
 },
 "nbformat": 4,
 "nbformat_minor": 5
}
