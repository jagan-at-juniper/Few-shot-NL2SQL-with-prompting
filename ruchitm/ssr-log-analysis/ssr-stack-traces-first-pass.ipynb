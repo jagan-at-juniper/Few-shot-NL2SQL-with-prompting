{
 "cells": [
  {
   "cell_type": "code",
   "execution_count": 1,
   "id": "401a0802",
   "metadata": {
    "ExecuteTime": {
     "end_time": "2022-04-01T17:58:28.594733Z",
     "start_time": "2022-04-01T17:58:25.251335Z"
    }
   },
   "outputs": [
    {
     "name": "stdout",
     "output_type": "stream",
     "text": [
      "75\n"
     ]
    }
   ],
   "source": [
    "import os\n",
    "import re\n",
    "import pandas as pd\n",
    "import numpy as np\n",
    "from pprint import pprint\n",
    "import difflib\n",
    "from collections import namedtuple\n",
    "import itertools\n",
    "\n",
    "\n",
    "\n",
    "INPUT_FOLDER = \"/Users/ruchitm/Documents/Work/ssr-log-analysis/sample-traces\"\n",
    "OUTPUT_FOLDER = INPUT_FOLDER\n",
    "\n",
    "filenames = []\n",
    "for root, dirs, files in os.walk(INPUT_FOLDER):\n",
    "    for file in files:\n",
    "        if \"stack\" in file and \"-demangled.txt\" in file:\n",
    "            filenames.append(os.path.join(root, file))\n",
    "tickets = set([x.split('/')[-2] for x in filenames])\n",
    "print(len(tickets))"
   ]
  },
  {
   "cell_type": "code",
   "execution_count": 2,
   "id": "025bd4c8",
   "metadata": {
    "ExecuteTime": {
     "end_time": "2022-04-01T17:58:28.684675Z",
     "start_time": "2022-04-01T17:58:28.597524Z"
    },
    "scrolled": false
   },
   "outputs": [],
   "source": [
    "records = []\n",
    "for ticket in tickets:\n",
    "    files = [f for f in filenames if ticket in f]\n",
    "    for file in files:\n",
    "        with open(file, encoding=\"utf8\", errors='ignore') as f:\n",
    "            record = {'JIRA': ticket, 'file': file.split('/')[-1]}\n",
    "            flag = False\n",
    "            for line in f:\n",
    "                if \"stack trace\" in line or \"Stack trace\" in line:\n",
    "                    flag = True\n",
    "                if not flag and line.strip():\n",
    "                    record[line.split(':')[0].strip()] = ':'.join([x.strip() for x in line.split(':')[1:]])\n",
    "                else:\n",
    "                    record.setdefault('stack_traces', []).append(line.strip())\n",
    "        records.append(record)"
   ]
  },
  {
   "cell_type": "code",
   "execution_count": 3,
   "id": "482b7e3b",
   "metadata": {
    "ExecuteTime": {
     "end_time": "2022-04-01T17:58:28.721027Z",
     "start_time": "2022-04-01T17:58:28.685951Z"
    }
   },
   "outputs": [
    {
     "name": "stdout",
     "output_type": "stream",
     "text": [
      "(70,)\n",
      "(39,)\n"
     ]
    }
   ],
   "source": [
    "\n",
    "cols = ['JIRA', 'file', 'PID', 'UID', 'GID', 'Signal', 'Timestamp',\n",
    "       'Command Line', 'Executable', 'Control Group', 'Unit', 'Slice',\n",
    "       'Boot ID', 'Machine ID', 'Hostname', 'Coredump', 'Message',\n",
    "       'stack_traces']\n",
    "\n",
    "df_st = pd.DataFrame(records)\n",
    "df_st = df_st[cols]\n",
    "df_st.dropna(thresh=4, inplace=True)\n",
    "\n",
    "df_st['trace_type'] = df_st.file.apply(lambda z: 'full' if 'full' in z else 'partial')\n",
    "\n",
    "df_st_full = df_st[df_st.file.str.match('full')]\n",
    "df_st_partial = df_st[df_st.file.str.match('partial')]\n",
    "print(df_st_partial.JIRA.unique().shape)\n",
    "print(df_st_full.JIRA.unique().shape)"
   ]
  },
  {
   "cell_type": "code",
   "execution_count": 4,
   "id": "99c6d076",
   "metadata": {
    "ExecuteTime": {
     "end_time": "2022-04-01T17:58:28.726518Z",
     "start_time": "2022-04-01T17:58:28.723650Z"
    }
   },
   "outputs": [],
   "source": [
    "# df_st.groupby(['Executable', 'trace_type']).JIRA.count().sort_values(ascending=False)"
   ]
  },
  {
   "cell_type": "code",
   "execution_count": 5,
   "id": "221cca8f",
   "metadata": {
    "ExecuteTime": {
     "end_time": "2022-04-01T17:58:28.747105Z",
     "start_time": "2022-04-01T17:58:28.728916Z"
    }
   },
   "outputs": [],
   "source": [
    "def get_first_trace(trace):\n",
    "    flag=False\n",
    "    res = []\n",
    "    for i, x in enumerate(trace):\n",
    "        x = x.strip()\n",
    "        if 'Stack trace' in x and not flag:\n",
    "            flag=True\n",
    "        elif 'Stack trace' in x and flag:\n",
    "            break\n",
    "        elif x!='':\n",
    "            res.append(clean_frame(x))\n",
    "        \n",
    "    return res\n",
    "\n",
    "def clean_frame(frame):\n",
    "    res = re.sub('0x\\w+\\s', '', frame.encode(\"ascii\", \"ignore\").decode())\n",
    "    return res\n",
    "\n",
    "IGNORE_PATTERNS = ['_M_', 'std::', '__gnu', '::operator', 'util::']\n",
    "def extract_funs(trace): \n",
    "    res = []\n",
    "    for x in trace:\n",
    "        if re.match('^\\#\\d+\\s+\\w+\\:\\:', x):\n",
    "            if ('lib128T' in x or '(highway)' in x):\n",
    "                x = re.sub('^\\#\\d+','',x)                \n",
    "                z = re.split(\"\\s+|\\(|\\<|\\>|\\)|,\", x)    \n",
    "                frame = []\n",
    "                for w in z:\n",
    "                    m = re.match(\"[\\w+\\:\\:\\~?]+\", w)\n",
    "                    if m and '::' in w:\n",
    "                        if all([pat not in w for pat in IGNORE_PATTERNS]) :\n",
    "                            if m.group(0).strip()!='': \n",
    "                                frame.append(m.group(0).strip())\n",
    "                if len(frame)>0:\n",
    "                    res.append(' '.join(frame))\n",
    "    return res \n",
    "\n",
    "def dedup_traces(traces):\n",
    "    new_list = [sorted(trace, key=lambda x: x.pos) for trace in traces]\n",
    "    return [k for k, _ in itertools.groupby(new_list)]\n",
    "\n",
    "def first_class_preprocessor(trace):\n",
    "    new_trace = []\n",
    "    for frame in trace.split('\\n'):\n",
    "        new_frame = []\n",
    "        for word in frame.split():\n",
    "            z = [w for w in word.split('::') if w]\n",
    "            flag=False\n",
    "            i=0\n",
    "            while(not flag and i<len(z)):\n",
    "                if z[i]!='':\n",
    "                    if z[i].islower():\n",
    "                        i+=1\n",
    "                    else:\n",
    "                        i+=1\n",
    "                        flag=True\n",
    "                else:\n",
    "                    flag=True\n",
    "            if i>0:\n",
    "                new_frame.append('::'.join(z[:i]))\n",
    "        \n",
    "        new_trace.append(' '.join(new_frame))\n",
    "    return '\\n'.join(new_trace)\n",
    "\n",
    "def first_function_preprocessor(trace):\n",
    "    new_trace = []\n",
    "    for frame in trace.split('\\n'):\n",
    "        new_frame = []\n",
    "        for word in frame.split():\n",
    "            z = [w for w in word.split('::') if w]\n",
    "            flag=False\n",
    "            i=0\n",
    "            while(not flag and i<len(z)):\n",
    "                if z[i]!='':\n",
    "#                     print(z[i])\n",
    "                    if z[i].islower() or z[i][0].isupper() or z[i][0]=='~':\n",
    "                        i+=1\n",
    "                    else:\n",
    "                        i+=1\n",
    "                        flag=True\n",
    "                else:\n",
    "                    flag=True\n",
    "            if i>0:\n",
    "                new_frame.append('::'.join(z[:i]))\n",
    "        \n",
    "        new_trace.append(' '.join(new_frame))\n",
    "    return '\\n'.join(new_trace)\n",
    "\n",
    "def add_frame_num(trace):\n",
    "    new_trace = [f\"{n}: {frame}\" for n, frame in enumerate(trace.split('\\n'))]\n",
    "    return '\\n'.join(new_trace)\n",
    "\n",
    "\n",
    "################# TESTING ######################\n",
    "# trace = df_st_highway_funcs.traces.values[10]\n",
    "# print(trace, '\\n')\n",
    "# print(first_class_preprocessor(trace), '\\n')\n",
    "# print(first_function_preprocessor(trace))"
   ]
  },
  {
   "cell_type": "code",
   "execution_count": 6,
   "id": "a9b96d0a",
   "metadata": {
    "ExecuteTime": {
     "end_time": "2022-04-01T17:58:28.813921Z",
     "start_time": "2022-04-01T17:58:28.749540Z"
    },
    "scrolled": true
   },
   "outputs": [
    {
     "name": "stdout",
     "output_type": "stream",
     "text": [
      "48\n"
     ]
    }
   ],
   "source": [
    "exe = '/usr/bin/highway'\n",
    "idx = (df_st_partial.Executable.str.match(exe))\n",
    "df_st_highway = df_st_partial[idx].copy()\n",
    "df_st_highway['first_st'] = df_st_highway['stack_traces'].apply(lambda x: get_first_trace(x))\n",
    "df_st_highway['extracted_st'] = df_st_highway['first_st'].apply(lambda x: extract_funs(x))\n",
    "\n",
    "Frame = namedtuple('Frame',['pos', 'val'])\n",
    "df_st_highway['frames'] = df_st_highway.extracted_st.apply(lambda lst: [Frame(i, v) for i, v in enumerate(lst)])\n",
    "df_st_highway_funcs = df_st_highway.groupby(['JIRA']).frames.apply(list).reset_index()\n",
    "\n",
    "df_st_highway_funcs['frames'] = df_st_highway_funcs.frames.apply(lambda lst: dedup_traces(lst))\n",
    "df_st_highway_funcs['traces'] = df_st_highway_funcs.frames.apply(lambda lst: ['\\n'.join([frame.val for frame in sublist]) for sublist in lst])\n",
    "df_st_highway_funcs = df_st_highway_funcs.explode(['traces'])\n",
    "df_st_highway_funcs['processed_traces'] = df_st_highway_funcs.traces.apply(lambda x: first_function_preprocessor(x))\n",
    "df_st_highway_funcs['processed_traces_numbered'] = df_st_highway_funcs.processed_traces.apply(lambda x: add_frame_num(x))\n",
    "\n",
    "print(len(df_st_highway_funcs))"
   ]
  },
  {
   "cell_type": "code",
   "execution_count": 8,
   "id": "0feb9f73",
   "metadata": {
    "ExecuteTime": {
     "end_time": "2022-04-01T17:58:29.688670Z",
     "start_time": "2022-04-01T17:58:29.686247Z"
    }
   },
   "outputs": [],
   "source": [
    "# df_st_highway_funcs.to_csv(os.path.join(OUTPUT_FOLDER, 'highway_funcs_030422.csv'))"
   ]
  },
  {
   "cell_type": "code",
   "execution_count": null,
   "id": "369d2a8d",
   "metadata": {},
   "outputs": [],
   "source": []
  }
 ],
 "metadata": {
  "kernelspec": {
   "display_name": "Python 3 (ipykernel)",
   "language": "python",
   "name": "python3"
  },
  "language_info": {
   "codemirror_mode": {
    "name": "ipython",
    "version": 3
   },
   "file_extension": ".py",
   "mimetype": "text/x-python",
   "name": "python",
   "nbconvert_exporter": "python",
   "pygments_lexer": "ipython3",
   "version": "3.10.4"
  },
  "toc": {
   "base_numbering": 1,
   "nav_menu": {},
   "number_sections": true,
   "sideBar": true,
   "skip_h1_title": false,
   "title_cell": "Table of Contents",
   "title_sidebar": "Contents",
   "toc_cell": false,
   "toc_position": {},
   "toc_section_display": true,
   "toc_window_display": false
  }
 },
 "nbformat": 4,
 "nbformat_minor": 5
}
