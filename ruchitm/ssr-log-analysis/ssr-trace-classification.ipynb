{
 "cells": [
  {
   "cell_type": "code",
   "execution_count": 21,
   "id": "dc19b826",
   "metadata": {
    "ExecuteTime": {
     "end_time": "2022-04-14T00:34:16.349999Z",
     "start_time": "2022-04-14T00:34:16.287748Z"
    }
   },
   "outputs": [
    {
     "data": {
      "text/plain": [
       "SESSION_SETUP        6\n",
       "CONFIG_PROCESSING    3\n",
       "PACKET_PROCESSING    2\n",
       "FAST_LANE_LOCK       1\n",
       "Name: Category, dtype: int64"
      ]
     },
     "execution_count": 21,
     "metadata": {},
     "output_type": "execute_result"
    }
   ],
   "source": [
    "import pandas as pd\n",
    "import os\n",
    "import random\n",
    "import numpy as np\n",
    "import itertools\n",
    "\n",
    "from pprint import pprint\n",
    "\n",
    "from difflib import SequenceMatcher\n",
    "\n",
    "import seaborn as sns\n",
    "import plotly.express as px\n",
    "import plotly.graph_objs as go\n",
    "import matplotlib.pyplot as plt\n",
    "\n",
    "INPUT_FOLDER = \"/Users/ruchitm/Documents/Work/ssr-log-analysis/sample-traces\"\n",
    "df_st_highway_funcs = pd.read_excel(os.path.join(INPUT_FOLDER, 'highway_funcs_030422_annotated.xlsx'))\n",
    "df_st_highway_funcs.drop(columns=df_st_highway_funcs.filter(regex=\"Unnamed\").columns, inplace=True)\n",
    "\n",
    "get_subcategory = lambda x: str(x).split('-')[1].strip().upper() if len(str(x).split('-'))>1 else 'GENERIC'\n",
    "get_category = lambda x: '_'.join(str(x).split('-')[0].strip().upper().split()) if not pd.isna(x) else None\n",
    "df_st_highway_funcs['Sub_category'] = df_st_highway_funcs.Category.apply(get_subcategory)\n",
    "df_st_highway_funcs['Category'] = df_st_highway_funcs.Category.apply(get_category)\n",
    "df_st_highway_funcs['keywords'] = df_st_highway_funcs.keywords.str.split(',')\n",
    "df_st_highway_funcs.loc[df_st_highway_funcs.Category.isna(), 'Sub_category'] = None\n",
    "\n",
    "df_st_highway_funcs.Category.value_counts()"
   ]
  },
  {
   "cell_type": "code",
   "execution_count": 22,
   "id": "931008c0",
   "metadata": {
    "ExecuteTime": {
     "end_time": "2022-04-14T00:34:16.875499Z",
     "start_time": "2022-04-14T00:34:16.864090Z"
    }
   },
   "outputs": [
    {
     "data": {
      "text/html": [
       "<div>\n",
       "<style scoped>\n",
       "    .dataframe tbody tr th:only-of-type {\n",
       "        vertical-align: middle;\n",
       "    }\n",
       "\n",
       "    .dataframe tbody tr th {\n",
       "        vertical-align: top;\n",
       "    }\n",
       "\n",
       "    .dataframe thead th {\n",
       "        text-align: right;\n",
       "    }\n",
       "</style>\n",
       "<table border=\"1\" class=\"dataframe\">\n",
       "  <thead>\n",
       "    <tr style=\"text-align: right;\">\n",
       "      <th></th>\n",
       "      <th>Category</th>\n",
       "      <th>Sub_category</th>\n",
       "    </tr>\n",
       "  </thead>\n",
       "  <tbody>\n",
       "    <tr>\n",
       "      <th>0</th>\n",
       "      <td>CONFIG_PROCESSING</td>\n",
       "      <td>GENERIC</td>\n",
       "    </tr>\n",
       "    <tr>\n",
       "      <th>1</th>\n",
       "      <td>CONFIG_PROCESSING</td>\n",
       "      <td>UPDATE</td>\n",
       "    </tr>\n",
       "    <tr>\n",
       "      <th>2</th>\n",
       "      <td>FAST_LANE_LOCK</td>\n",
       "      <td>GENERIC</td>\n",
       "    </tr>\n",
       "    <tr>\n",
       "      <th>3</th>\n",
       "      <td>None</td>\n",
       "      <td>None</td>\n",
       "    </tr>\n",
       "    <tr>\n",
       "      <th>10</th>\n",
       "      <td>SESSION_SETUP</td>\n",
       "      <td>GENERIC</td>\n",
       "    </tr>\n",
       "    <tr>\n",
       "      <th>14</th>\n",
       "      <td>SESSION_SETUP</td>\n",
       "      <td>PACKET_HANDLER</td>\n",
       "    </tr>\n",
       "    <tr>\n",
       "      <th>17</th>\n",
       "      <td>PACKET_PROCESSING</td>\n",
       "      <td>ICMP</td>\n",
       "    </tr>\n",
       "    <tr>\n",
       "      <th>20</th>\n",
       "      <td>PACKET_PROCESSING</td>\n",
       "      <td>GENERIC</td>\n",
       "    </tr>\n",
       "    <tr>\n",
       "      <th>22</th>\n",
       "      <td>SESSION_SETUP</td>\n",
       "      <td>APP_ID_MODIFY</td>\n",
       "    </tr>\n",
       "  </tbody>\n",
       "</table>\n",
       "</div>"
      ],
      "text/plain": [
       "             Category    Sub_category\n",
       "0   CONFIG_PROCESSING         GENERIC\n",
       "1   CONFIG_PROCESSING          UPDATE\n",
       "2      FAST_LANE_LOCK         GENERIC\n",
       "3                None            None\n",
       "10      SESSION_SETUP         GENERIC\n",
       "14      SESSION_SETUP  PACKET_HANDLER\n",
       "17  PACKET_PROCESSING            ICMP\n",
       "20  PACKET_PROCESSING         GENERIC\n",
       "22      SESSION_SETUP   APP_ID_MODIFY"
      ]
     },
     "execution_count": 22,
     "metadata": {},
     "output_type": "execute_result"
    }
   ],
   "source": [
    "df_st_highway_funcs[['Category', 'Sub_category']].drop_duplicates()"
   ]
  },
  {
   "cell_type": "code",
   "execution_count": 23,
   "id": "b5974c07",
   "metadata": {
    "ExecuteTime": {
     "end_time": "2022-04-14T00:34:17.749177Z",
     "start_time": "2022-04-14T00:34:17.740076Z"
    }
   },
   "outputs": [],
   "source": [
    "df_st_highway_keywords = df_st_highway_funcs.groupby(['Category', 'Sub_category'])['keywords'].agg(list)\n",
    "df_st_highway_keywords = df_st_highway_keywords.apply(lambda x: list(itertools.chain(*x)))\\\n",
    "                                                .apply(lambda lst: set([x.strip() for x in lst]))\n",
    "keywords_map = df_st_highway_keywords.to_dict(dict)"
   ]
  },
  {
   "cell_type": "code",
   "execution_count": 24,
   "id": "65eab094",
   "metadata": {
    "ExecuteTime": {
     "end_time": "2022-04-14T00:34:18.377763Z",
     "start_time": "2022-04-14T00:34:18.372673Z"
    }
   },
   "outputs": [],
   "source": [
    "def getCategoryMap(trace):\n",
    "    match = {}\n",
    "    if isinstance(trace, str):\n",
    "        for cat, words in keywords_map.items():\n",
    "            match[cat] = np.round(np.mean([1 if word in trace else 0 for word in words]), 2)\n",
    "    return match\n",
    "\n",
    "def getCategory(mapping, thresh):\n",
    "    if mapping and max(mapping.values())>thresh :\n",
    "        return max(mapping, key=mapping.get) \n",
    "\n",
    "    "
   ]
  },
  {
   "cell_type": "code",
   "execution_count": 25,
   "id": "8edcd432",
   "metadata": {
    "ExecuteTime": {
     "end_time": "2022-04-14T00:34:18.754745Z",
     "start_time": "2022-04-14T00:34:18.735304Z"
    }
   },
   "outputs": [],
   "source": [
    "df_st_highway_funcs['Category_map'] = df_st_highway_funcs.processed_traces.apply(getCategoryMap)"
   ]
  },
  {
   "cell_type": "code",
   "execution_count": 26,
   "id": "1810b30e",
   "metadata": {
    "ExecuteTime": {
     "end_time": "2022-04-14T00:34:19.071290Z",
     "start_time": "2022-04-14T00:34:19.066024Z"
    }
   },
   "outputs": [
    {
     "data": {
      "text/plain": [
       "{('CONFIG_PROCESSING', 'GENERIC'): {'ConfigData',\n",
       "  'RegistryTable',\n",
       "  'applyDeviceConfig',\n",
       "  'handleDeviceConfigApplyRequest',\n",
       "  'processConfig',\n",
       "  'processConfigStateMachineResult'},\n",
       " ('CONFIG_PROCESSING', 'UPDATE'): {'updateConfigDone'},\n",
       " ('FAST_LANE_LOCK', 'GENERIC'): {'LockupDetector', 'runLockupDetection'},\n",
       " ('PACKET_PROCESSING', 'GENERIC'): {'fastlane',\n",
       "  'processFlowPacketActions',\n",
       "  'processInterfacePackets',\n",
       "  'processPacketFromWire'},\n",
       " ('PACKET_PROCESSING', 'ICMP'): {'DivertedPacketHandler',\n",
       "  'getKeyFromIcmpPayload'},\n",
       " ('SESSION_SETUP', 'APP_ID_MODIFY'): {'processAppIdModifyPackets',\n",
       "  'processAppIdModifyPacketsImpl',\n",
       "  'processPacketWithSessionBuilder'},\n",
       " ('SESSION_SETUP', 'GENERIC'): {'SessionBuilder',\n",
       "  'addOrUpdateSession',\n",
       "  'processCreateNewSessionAction'},\n",
       " ('SESSION_SETUP', 'PACKET_HANDLER'): {'SessionBuilder',\n",
       "  'addOrUpdateSession',\n",
       "  'processCreateNewSessionAction',\n",
       "  'processPacketWithSessionBuilder'}}"
      ]
     },
     "execution_count": 26,
     "metadata": {},
     "output_type": "execute_result"
    }
   ],
   "source": [
    "keywords_map"
   ]
  },
  {
   "cell_type": "code",
   "execution_count": 27,
   "id": "6fcc5ad8",
   "metadata": {
    "ExecuteTime": {
     "end_time": "2022-04-14T00:34:19.477716Z",
     "start_time": "2022-04-14T00:34:19.473378Z"
    }
   },
   "outputs": [],
   "source": [
    "MATCH_THRESH = 0.3\n",
    "df_st_highway_funcs['Category_pred'] = df_st_highway_funcs.Category_map.apply(lambda x: getCategory(x, MATCH_THRESH))"
   ]
  },
  {
   "cell_type": "code",
   "execution_count": 28,
   "id": "513e1e7e",
   "metadata": {
    "ExecuteTime": {
     "end_time": "2022-04-14T00:34:21.120932Z",
     "start_time": "2022-04-14T00:34:21.102554Z"
    }
   },
   "outputs": [
    {
     "data": {
      "text/html": [
       "<div>\n",
       "<style scoped>\n",
       "    .dataframe tbody tr th:only-of-type {\n",
       "        vertical-align: middle;\n",
       "    }\n",
       "\n",
       "    .dataframe tbody tr th {\n",
       "        vertical-align: top;\n",
       "    }\n",
       "\n",
       "    .dataframe thead th {\n",
       "        text-align: right;\n",
       "    }\n",
       "</style>\n",
       "<table border=\"1\" class=\"dataframe\">\n",
       "  <thead>\n",
       "    <tr style=\"text-align: right;\">\n",
       "      <th></th>\n",
       "      <th>Category</th>\n",
       "      <th>Sub_category</th>\n",
       "      <th>Category_pred</th>\n",
       "    </tr>\n",
       "  </thead>\n",
       "  <tbody>\n",
       "    <tr>\n",
       "      <th>0</th>\n",
       "      <td>CONFIG_PROCESSING</td>\n",
       "      <td>GENERIC</td>\n",
       "      <td>(CONFIG_PROCESSING, GENERIC)</td>\n",
       "    </tr>\n",
       "    <tr>\n",
       "      <th>1</th>\n",
       "      <td>CONFIG_PROCESSING</td>\n",
       "      <td>UPDATE</td>\n",
       "      <td>(CONFIG_PROCESSING, UPDATE)</td>\n",
       "    </tr>\n",
       "    <tr>\n",
       "      <th>2</th>\n",
       "      <td>FAST_LANE_LOCK</td>\n",
       "      <td>GENERIC</td>\n",
       "      <td>(FAST_LANE_LOCK, GENERIC)</td>\n",
       "    </tr>\n",
       "    <tr>\n",
       "      <th>10</th>\n",
       "      <td>SESSION_SETUP</td>\n",
       "      <td>GENERIC</td>\n",
       "      <td>(SESSION_SETUP, GENERIC)</td>\n",
       "    </tr>\n",
       "    <tr>\n",
       "      <th>11</th>\n",
       "      <td>SESSION_SETUP</td>\n",
       "      <td>GENERIC</td>\n",
       "      <td>(SESSION_SETUP, GENERIC)</td>\n",
       "    </tr>\n",
       "    <tr>\n",
       "      <th>12</th>\n",
       "      <td>CONFIG_PROCESSING</td>\n",
       "      <td>GENERIC</td>\n",
       "      <td>(CONFIG_PROCESSING, GENERIC)</td>\n",
       "    </tr>\n",
       "    <tr>\n",
       "      <th>13</th>\n",
       "      <td>SESSION_SETUP</td>\n",
       "      <td>GENERIC</td>\n",
       "      <td>(SESSION_SETUP, GENERIC)</td>\n",
       "    </tr>\n",
       "    <tr>\n",
       "      <th>14</th>\n",
       "      <td>SESSION_SETUP</td>\n",
       "      <td>PACKET_HANDLER</td>\n",
       "      <td>(SESSION_SETUP, PACKET_HANDLER)</td>\n",
       "    </tr>\n",
       "    <tr>\n",
       "      <th>15</th>\n",
       "      <td>SESSION_SETUP</td>\n",
       "      <td>PACKET_HANDLER</td>\n",
       "      <td>(SESSION_SETUP, PACKET_HANDLER)</td>\n",
       "    </tr>\n",
       "    <tr>\n",
       "      <th>17</th>\n",
       "      <td>PACKET_PROCESSING</td>\n",
       "      <td>ICMP</td>\n",
       "      <td>(PACKET_PROCESSING, ICMP)</td>\n",
       "    </tr>\n",
       "    <tr>\n",
       "      <th>18</th>\n",
       "      <td>None</td>\n",
       "      <td>None</td>\n",
       "      <td>(PACKET_PROCESSING, GENERIC)</td>\n",
       "    </tr>\n",
       "    <tr>\n",
       "      <th>19</th>\n",
       "      <td>None</td>\n",
       "      <td>None</td>\n",
       "      <td>(SESSION_SETUP, PACKET_HANDLER)</td>\n",
       "    </tr>\n",
       "    <tr>\n",
       "      <th>20</th>\n",
       "      <td>PACKET_PROCESSING</td>\n",
       "      <td>GENERIC</td>\n",
       "      <td>(PACKET_PROCESSING, GENERIC)</td>\n",
       "    </tr>\n",
       "    <tr>\n",
       "      <th>22</th>\n",
       "      <td>SESSION_SETUP</td>\n",
       "      <td>APP_ID_MODIFY</td>\n",
       "      <td>(SESSION_SETUP, APP_ID_MODIFY)</td>\n",
       "    </tr>\n",
       "    <tr>\n",
       "      <th>29</th>\n",
       "      <td>None</td>\n",
       "      <td>None</td>\n",
       "      <td>(PACKET_PROCESSING, GENERIC)</td>\n",
       "    </tr>\n",
       "    <tr>\n",
       "      <th>34</th>\n",
       "      <td>None</td>\n",
       "      <td>None</td>\n",
       "      <td>(PACKET_PROCESSING, GENERIC)</td>\n",
       "    </tr>\n",
       "    <tr>\n",
       "      <th>40</th>\n",
       "      <td>None</td>\n",
       "      <td>None</td>\n",
       "      <td>(PACKET_PROCESSING, GENERIC)</td>\n",
       "    </tr>\n",
       "    <tr>\n",
       "      <th>41</th>\n",
       "      <td>None</td>\n",
       "      <td>None</td>\n",
       "      <td>(PACKET_PROCESSING, GENERIC)</td>\n",
       "    </tr>\n",
       "    <tr>\n",
       "      <th>43</th>\n",
       "      <td>None</td>\n",
       "      <td>None</td>\n",
       "      <td>(SESSION_SETUP, GENERIC)</td>\n",
       "    </tr>\n",
       "    <tr>\n",
       "      <th>44</th>\n",
       "      <td>None</td>\n",
       "      <td>None</td>\n",
       "      <td>(SESSION_SETUP, PACKET_HANDLER)</td>\n",
       "    </tr>\n",
       "    <tr>\n",
       "      <th>45</th>\n",
       "      <td>None</td>\n",
       "      <td>None</td>\n",
       "      <td>(PACKET_PROCESSING, GENERIC)</td>\n",
       "    </tr>\n",
       "  </tbody>\n",
       "</table>\n",
       "</div>"
      ],
      "text/plain": [
       "             Category    Sub_category                    Category_pred\n",
       "0   CONFIG_PROCESSING         GENERIC     (CONFIG_PROCESSING, GENERIC)\n",
       "1   CONFIG_PROCESSING          UPDATE      (CONFIG_PROCESSING, UPDATE)\n",
       "2      FAST_LANE_LOCK         GENERIC        (FAST_LANE_LOCK, GENERIC)\n",
       "10      SESSION_SETUP         GENERIC         (SESSION_SETUP, GENERIC)\n",
       "11      SESSION_SETUP         GENERIC         (SESSION_SETUP, GENERIC)\n",
       "12  CONFIG_PROCESSING         GENERIC     (CONFIG_PROCESSING, GENERIC)\n",
       "13      SESSION_SETUP         GENERIC         (SESSION_SETUP, GENERIC)\n",
       "14      SESSION_SETUP  PACKET_HANDLER  (SESSION_SETUP, PACKET_HANDLER)\n",
       "15      SESSION_SETUP  PACKET_HANDLER  (SESSION_SETUP, PACKET_HANDLER)\n",
       "17  PACKET_PROCESSING            ICMP        (PACKET_PROCESSING, ICMP)\n",
       "18               None            None     (PACKET_PROCESSING, GENERIC)\n",
       "19               None            None  (SESSION_SETUP, PACKET_HANDLER)\n",
       "20  PACKET_PROCESSING         GENERIC     (PACKET_PROCESSING, GENERIC)\n",
       "22      SESSION_SETUP   APP_ID_MODIFY   (SESSION_SETUP, APP_ID_MODIFY)\n",
       "29               None            None     (PACKET_PROCESSING, GENERIC)\n",
       "34               None            None     (PACKET_PROCESSING, GENERIC)\n",
       "40               None            None     (PACKET_PROCESSING, GENERIC)\n",
       "41               None            None     (PACKET_PROCESSING, GENERIC)\n",
       "43               None            None         (SESSION_SETUP, GENERIC)\n",
       "44               None            None  (SESSION_SETUP, PACKET_HANDLER)\n",
       "45               None            None     (PACKET_PROCESSING, GENERIC)"
      ]
     },
     "execution_count": 28,
     "metadata": {},
     "output_type": "execute_result"
    }
   ],
   "source": [
    "df_st_highway_funcs.loc[~df_st_highway_funcs.Category_pred.isna(), ['Category','Sub_category','Category_pred']]"
   ]
  },
  {
   "cell_type": "code",
   "execution_count": 29,
   "id": "23049eba",
   "metadata": {
    "ExecuteTime": {
     "end_time": "2022-04-14T00:34:30.604024Z",
     "start_time": "2022-04-14T00:34:30.561046Z"
    }
   },
   "outputs": [],
   "source": [
    "# df_st_highway_funcs.to_excel(os.path.join(INPUT_FOLDER, 'highway_funcs_030422_predicted.xlsx'))"
   ]
  },
  {
   "cell_type": "code",
   "execution_count": null,
   "id": "ad25319a",
   "metadata": {},
   "outputs": [],
   "source": []
  }
 ],
 "metadata": {
  "kernelspec": {
   "display_name": "Python 3 (ipykernel)",
   "language": "python",
   "name": "python3"
  },
  "language_info": {
   "codemirror_mode": {
    "name": "ipython",
    "version": 3
   },
   "file_extension": ".py",
   "mimetype": "text/x-python",
   "name": "python",
   "nbconvert_exporter": "python",
   "pygments_lexer": "ipython3",
   "version": "3.10.4"
  },
  "toc": {
   "base_numbering": 1,
   "nav_menu": {},
   "number_sections": true,
   "sideBar": true,
   "skip_h1_title": false,
   "title_cell": "Table of Contents",
   "title_sidebar": "Contents",
   "toc_cell": false,
   "toc_position": {},
   "toc_section_display": true,
   "toc_window_display": false
  }
 },
 "nbformat": 4,
 "nbformat_minor": 5
}
