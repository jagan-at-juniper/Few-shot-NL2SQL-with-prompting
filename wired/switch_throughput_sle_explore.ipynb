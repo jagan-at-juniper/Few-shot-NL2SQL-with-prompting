{
 "cells": [
  {
   "cell_type": "markdown",
   "metadata": {},
   "source": [
    "Ex-Switch date explore\n",
    "\n",
    "* Explore switch data schema.\n",
    "\n",
    "* Simulate wire throughput SLE. \n",
    "\n",
    "* Debug/verification\n"
   ]
  },
  {
   "cell_type": "code",
   "execution_count": 1,
   "metadata": {},
   "outputs": [],
   "source": [
    "from pyspark.sql.functions import lit, udf, size, avg, min as min_, max as max_, sum as sum_, count, countDistinct, col, mean, stddev, struct, explode, explode_outer, unix_timestamp, sum as sum_\n"
   ]
  },
  {
   "cell_type": "code",
   "execution_count": 2,
   "metadata": {},
   "outputs": [
    {
     "name": "stdout",
     "output_type": "stream",
     "text": [
      "root\n",
      " |-- id: string (nullable = true)\n",
      " |-- mac: string (nullable = true)\n",
      " |-- org_id: string (nullable = true)\n",
      " |-- site_id: string (nullable = true)\n",
      " |-- when: long (nullable = true)\n",
      " |-- remote_addr: string (nullable = true)\n",
      " |-- clients: array (nullable = true)\n",
      " |    |-- element: struct (containsNull = true)\n",
      " |    |    |-- vlan_name: string (nullable = true)\n",
      " |    |    |-- mac: string (nullable = true)\n",
      " |    |    |-- flags: string (nullable = true)\n",
      " |    |    |-- age: integer (nullable = true)\n",
      " |    |    |-- iface_name: string (nullable = true)\n",
      " |    |    |-- vlan_id: integer (nullable = true)\n",
      " |-- aps: array (nullable = true)\n",
      " |    |-- element: struct (containsNull = true)\n",
      " |    |    |-- vlan_name: string (nullable = true)\n",
      " |    |    |-- mac: string (nullable = true)\n",
      " |    |    |-- flags: string (nullable = true)\n",
      " |    |    |-- age: integer (nullable = true)\n",
      " |    |    |-- iface_name: string (nullable = true)\n",
      " |    |    |-- vlan_id: integer (nullable = true)\n",
      " |-- hostname: string (nullable = true)\n",
      " |-- model: string (nullable = true)\n",
      " |-- firmware_version: string (nullable = true)\n",
      " |-- interfaces: array (nullable = true)\n",
      " |    |-- element: struct (containsNull = true)\n",
      " |    |    |-- name: string (nullable = true)\n",
      " |    |    |-- link: boolean (nullable = true)\n",
      " |    |    |-- full_duplex: boolean (nullable = true)\n",
      " |    |    |-- mbps: integer (nullable = true)\n",
      " |    |    |-- mtu: integer (nullable = true)\n",
      " |    |    |-- address: string (nullable = true)\n",
      " |    |    |-- admin_status: boolean (nullable = true)\n",
      " |    |    |-- last_flapped: long (nullable = true)\n",
      " |    |    |-- errors: array (nullable = true)\n",
      " |    |    |    |-- element: struct (containsNull = true)\n",
      " |    |    |    |    |-- type: integer (nullable = true)\n",
      " |    |    |    |    |-- description: string (nullable = true)\n",
      " |    |    |    |    |-- timestamp: long (nullable = true)\n",
      " |    |    |-- poe_enabled: boolean (nullable = true)\n",
      " |    |    |-- poe_status: boolean (nullable = true)\n",
      " |    |    |-- poe_power_limit: float (nullable = true)\n",
      " |    |    |-- poe_power: float (nullable = true)\n",
      " |    |    |-- poe_priority: boolean (nullable = true)\n",
      " |    |    |-- poe_class: string (nullable = true)\n",
      " |    |    |-- poe_mode: string (nullable = true)\n",
      " |    |    |-- rx_bytes: long (nullable = true)\n",
      " |    |    |-- rx_bps: long (nullable = true)\n",
      " |    |    |-- rx_packets: long (nullable = true)\n",
      " |    |    |-- tx_bytes: long (nullable = true)\n",
      " |    |    |-- tx_bps: long (nullable = true)\n",
      " |    |    |-- tx_packets: long (nullable = true)\n",
      " |    |    |-- rx_errors: integer (nullable = true)\n",
      " |    |    |-- rx_undersize_errors: integer (nullable = true)\n",
      " |    |    |-- rx_oversize_errors: integer (nullable = true)\n",
      " |    |    |-- rx_fcserrors: integer (nullable = true)\n",
      " |    |    |-- rx_overrun_errors: integer (nullable = true)\n",
      " |    |    |-- rx_discards: integer (nullable = true)\n",
      " |    |    |-- tx_errors: integer (nullable = true)\n",
      " |    |    |-- tx_drops: integer (nullable = true)\n",
      " |    |    |-- tx_mtuerrors: integer (nullable = true)\n",
      " |    |    |-- txcarrier_transition: integer (nullable = true)\n",
      " |    |    |-- tx_mcast_packets: long (nullable = true)\n",
      " |    |    |-- tx_bcast_packets: long (nullable = true)\n",
      " |    |    |-- rx_mcast_packets: long (nullable = true)\n",
      " |    |    |-- rx_bcast_packets: long (nullable = true)\n",
      " |    |    |-- interface_counter_delta: boolean (nullable = true)\n",
      " |-- config_history: array (nullable = true)\n",
      " |    |-- element: struct (containsNull = true)\n",
      " |    |    |-- sequence_num: integer (nullable = true)\n",
      " |    |    |-- user: string (nullable = true)\n",
      " |    |    |-- client: string (nullable = true)\n",
      " |    |    |-- diff: string (nullable = true)\n",
      " |    |    |-- timestamp: struct (nullable = true)\n",
      " |    |    |    |-- seconds: long (nullable = true)\n",
      " |    |    |    |-- nanos: integer (nullable = true)\n",
      " |-- alarms: array (nullable = true)\n",
      " |    |-- element: struct (containsNull = true)\n",
      " |    |    |-- timestamp: struct (nullable = true)\n",
      " |    |    |    |-- seconds: long (nullable = true)\n",
      " |    |    |    |-- nanos: integer (nullable = true)\n",
      " |    |    |-- type: string (nullable = true)\n",
      " |    |    |-- alarm_class: string (nullable = true)\n",
      " |    |    |-- description: string (nullable = true)\n",
      " |    |    |-- short_description: string (nullable = true)\n",
      " |-- ipv4_route: array (nullable = true)\n",
      " |    |-- element: struct (containsNull = true)\n",
      " |    |    |-- dst: string (nullable = true)\n",
      " |    |    |-- gw: string (nullable = true)\n",
      " |-- lldpneighbors: array (nullable = true)\n",
      " |    |-- element: struct (containsNull = true)\n",
      " |    |    |-- local_port_id: string (nullable = true)\n",
      " |    |    |-- local_parent_iface_name: string (nullable = true)\n",
      " |    |    |-- remote_chassis_id: string (nullable = true)\n",
      " |    |    |-- remote_chassis_idsubtype: string (nullable = true)\n",
      " |    |    |-- remote_port_desc: string (nullable = true)\n",
      " |    |    |-- remote_system_name: string (nullable = true)\n",
      " |    |    |-- remote_mgmt_addr: string (nullable = true)\n",
      " |    |    |-- remote_system_desc: string (nullable = true)\n",
      " |-- serial_number: string (nullable = true)\n",
      " |-- svistats: array (nullable = true)\n",
      " |    |-- element: struct (containsNull = true)\n",
      " |    |    |-- dev: string (nullable = true)\n",
      " |    |    |-- vlan: integer (nullable = true)\n",
      " |    |    |-- ips: array (nullable = true)\n",
      " |    |    |    |-- element: string (containsNull = true)\n",
      " |-- stpbridge_protocol: string (nullable = true)\n",
      " |-- stpbridge_root_id: string (nullable = true)\n",
      " |-- stpbridge_root_cost: integer (nullable = true)\n",
      " |-- stpbridge_root_port: string (nullable = true)\n",
      " |-- stpbridge_hello_time: integer (nullable = true)\n",
      " |-- stpbridge_max_age: integer (nullable = true)\n",
      " |-- stpbridge_forward_delay: integer (nullable = true)\n",
      " |-- stpbridge_msg_age: integer (nullable = true)\n",
      " |-- stpbridge_topo_chg_cnt: integer (nullable = true)\n",
      " |-- stpbridge_last_topo_chg: integer (nullable = true)\n",
      " |-- stpbridge_bridge_id: string (nullable = true)\n",
      " |-- uptime: integer (nullable = true)\n",
      " |-- stats_delta: boolean (nullable = true)\n",
      " |-- delta: boolean (nullable = true)\n",
      " |-- deltaErrorMsg: string (nullable = true)\n",
      " |-- delta_interval: integer (nullable = true)\n",
      " |-- poe_controller_module_index: integer (nullable = true)\n",
      " |-- poe_controller_max_power: float (nullable = true)\n",
      " |-- poe_controller_consumption: float (nullable = true)\n",
      " |-- poe_controller_guardband: float (nullable = true)\n",
      " |-- chassis_modules: array (nullable = true)\n",
      " |    |-- element: struct (containsNull = true)\n",
      " |    |    |-- index: integer (nullable = true)\n",
      " |    |    |-- model: string (nullable = true)\n",
      " |    |    |-- serial_number: string (nullable = true)\n",
      " |    |    |-- firmware_version: string (nullable = true)\n",
      " |    |    |-- vcmember_id: integer (nullable = true)\n",
      " |    |    |-- vcmember_role: string (nullable = true)\n",
      " |-- chassis_routing_engines: array (nullable = true)\n",
      " |    |-- element: struct (containsNull = true)\n",
      " |    |    |-- module_index: integer (nullable = true)\n",
      " |    |    |-- is_master: boolean (nullable = true)\n",
      " |    |    |-- status: boolean (nullable = true)\n",
      " |    |    |-- temp_celsius: float (nullable = true)\n",
      " |    |    |-- memory_total_mb: integer (nullable = true)\n",
      " |    |    |-- memory_in_use_mb: integer (nullable = true)\n",
      " |    |    |-- cpu_user: integer (nullable = true)\n",
      " |    |    |-- cpu_background: integer (nullable = true)\n",
      " |    |    |-- cpu_system: integer (nullable = true)\n",
      " |    |    |-- cpu_interrupt: integer (nullable = true)\n",
      " |    |    |-- cpu_idle: integer (nullable = true)\n",
      " |    |    |-- cputemp_celsius: float (nullable = true)\n",
      " |    |    |-- model: string (nullable = true)\n",
      " |    |    |-- last_reboot_reason: string (nullable = true)\n",
      " |    |    |-- load_avg: array (nullable = true)\n",
      " |    |    |    |-- element: float (containsNull = true)\n",
      " |-- chassis_fans: array (nullable = true)\n",
      " |    |-- element: struct (containsNull = true)\n",
      " |    |    |-- name: string (nullable = true)\n",
      " |    |    |-- status: boolean (nullable = true)\n",
      " |    |    |-- module_index: integer (nullable = true)\n",
      " |    |    |-- fan_index: integer (nullable = true)\n",
      " |    |    |-- air_flow_out: boolean (nullable = true)\n",
      " |    |    |-- absent: boolean (nullable = true)\n",
      " |-- chassis_temperatures: array (nullable = true)\n",
      " |    |-- element: struct (containsNull = true)\n",
      " |    |    |-- name: string (nullable = true)\n",
      " |    |    |-- status: boolean (nullable = true)\n",
      " |    |    |-- temp_celsius: float (nullable = true)\n",
      " |    |    |-- module_index: integer (nullable = true)\n",
      " |-- chassis_psus: array (nullable = true)\n",
      " |    |-- element: struct (containsNull = true)\n",
      " |    |    |-- name: string (nullable = true)\n",
      " |    |    |-- status: boolean (nullable = true)\n",
      " |    |    |-- module_index: integer (nullable = true)\n",
      " |    |    |-- absent: boolean (nullable = true)\n",
      " |    |    |-- psuindex: integer (nullable = true)\n",
      " |-- chassis_poe_controller: array (nullable = true)\n",
      " |    |-- element: struct (containsNull = true)\n",
      " |    |    |-- module_index: integer (nullable = true)\n",
      " |    |    |-- max_power: float (nullable = true)\n",
      " |    |    |-- consumption: float (nullable = true)\n",
      " |    |    |-- guardband: float (nullable = true)\n",
      "\n"
     ]
    }
   ],
   "source": [
    "env = \"staging\"\n",
    "DATE = '2019-10-1*/'\n",
    "file_path = 's3://mist-secorapp-{env}/oc-stats-analytics/oc-stats-analytics-{env}/dt={date}/*'.format(env=env, date=DATE)\n",
    "df = spark.read.parquet(file_path)\n",
    "df.printSchema()"
   ]
  },
  {
   "cell_type": "code",
   "execution_count": 3,
   "metadata": {},
   "outputs": [],
   "source": [
    "site = \"f4d40c28-4aa3-11e5-8510-1258369c38a9\"\n",
    "df1 = df.filter(col(\"site_id\")==site)"
   ]
  },
  {
   "cell_type": "code",
   "execution_count": 4,
   "metadata": {},
   "outputs": [
    {
     "data": {
      "text/plain": [
       "63"
      ]
     },
     "execution_count": 4,
     "metadata": {},
     "output_type": "execute_result"
    }
   ],
   "source": [
    "df1.count()"
   ]
  },
  {
   "cell_type": "code",
   "execution_count": null,
   "metadata": {},
   "outputs": [],
   "source": [
    "df1.select('id', 'site_id', 'when' ).show()"
   ]
  },
  {
   "cell_type": "code",
   "execution_count": 5,
   "metadata": {},
   "outputs": [
    {
     "name": "stdout",
     "output_type": "stream",
     "text": [
      "+------------+------------+--------------------+--------------------+----------------+----------------+--------------------+--------------------+--------+------------+----------------+--------------------+--------------+------+--------------------+--------------------+-------------+--------------------+------------------+-------------------+-------------------+-------------------+--------------------+-----------------+-----------------------+-----------------+----------------------+-----------------------+--------------------+------+-----------+-----+-------------+--------------+---------------------------+------------------------+--------------------------+------------------------+--------------------+-----------------------+------------+--------------------+--------------------+----------------------+\n",
      "|          id|         mac|              org_id|             site_id|            when|     remote_addr|             clients|                 aps|hostname|       model|firmware_version|          interfaces|config_history|alarms|          ipv4_route|       lldpneighbors|serial_number|            svistats|stpbridge_protocol|  stpbridge_root_id|stpbridge_root_cost|stpbridge_root_port|stpbridge_hello_time|stpbridge_max_age|stpbridge_forward_delay|stpbridge_msg_age|stpbridge_topo_chg_cnt|stpbridge_last_topo_chg| stpbridge_bridge_id|uptime|stats_delta|delta|deltaErrorMsg|delta_interval|poe_controller_module_index|poe_controller_max_power|poe_controller_consumption|poe_controller_guardband|     chassis_modules|chassis_routing_engines|chassis_fans|chassis_temperatures|        chassis_psus|chassis_poe_controller|\n",
      "+------------+------------+--------------------+--------------------+----------------+----------------+--------------------+--------------------+--------+------------+----------------+--------------------+--------------+------+--------------------+--------------------+-------------+--------------------+------------------+-------------------+-------------------+-------------------+--------------------+-----------------+-----------------------+-----------------+----------------------+-----------------------+--------------------+------+-----------+-----+-------------+--------------+---------------------------+------------------------+--------------------------+------------------------+--------------------+-----------------------+------------+--------------------+--------------------+----------------------+\n",
      "|3c8c9394a39e|3c8c9394a39e|f4d3653e-4aa3-11e...|f4d40c28-4aa3-11e...|1570753424198748|100.96.1.0:62570|[[default, 000ec6...|[[default, 5c5b35...|        |EX2300-C-12P|        19.2R1.8|[[ge-0/0/0, true,...|            []|    []|[[0.0.0.0/0, 10.2...|[[ge-0/0/0, -, 5c...| HV3619190523|[[irb.1, 1, [10.2...|              RSTP|0.04:18:d6:83:4f:0c|              20008|           ge-0/0/6|                   2|               20|                     15|                3|                     1|              306433606|32768.3c:8c:93:94...|  2865|      false|false|  Cache empty|             0|                          0|                     0.0|                       0.0|                     0.0|[[0, EX2300-C-12P...|   [[0, true, true, ...|          []|[[CPU Sensor, tru...|[[Power Supply 0,...|  [[0, 146.0, 26.2,...|\n",
      "|3c8c9394a39e|3c8c9394a39e|f4d3653e-4aa3-11e...|f4d40c28-4aa3-11e...|1570753484198870|100.96.1.0:62570|[[default, 000ec6...|[[default, 5c5b35...|        |EX2300-C-12P|        19.2R1.8|[[ge-0/0/0, true,...|            []|    []|[[0.0.0.0/0, 10.2...|[[ge-0/0/0, -, 5c...| HV3619190523|[[irb.1, 1, [10.2...|              RSTP|0.04:18:d6:83:4f:0c|              20008|           ge-0/0/6|                   2|               20|                     15|                3|                     1|              306433666|32768.3c:8c:93:94...|  2925|      false|false|  Cache empty|             0|                          0|                     0.0|                       0.0|                     0.0|[[0, EX2300-C-12P...|   [[0, true, true, ...|          []|[[CPU Sensor, tru...|[[Power Supply 0,...|  [[0, 146.0, 25.4,...|\n",
      "|3c8c9394a39e|3c8c9394a39e|f4d3653e-4aa3-11e...|f4d40c28-4aa3-11e...|1570753544198999|100.96.1.0:62570|[[default, 000ec6...|[[default, 5c5b35...|        |EX2300-C-12P|        19.2R1.8|[[ge-0/0/0, true,...|            []|    []|[[0.0.0.0/0, 10.2...|[[ge-0/0/0, -, 5c...| HV3619190523|[[irb.1, 1, [10.2...|              RSTP|0.04:18:d6:83:4f:0c|              20008|           ge-0/0/6|                   2|               20|                     15|                3|                     1|              306433726|32768.3c:8c:93:94...|  2985|      false|false|  Cache empty|             0|                          0|                     0.0|                       0.0|                     0.0|[[0, EX2300-C-12P...|   [[0, true, true, ...|          []|[[CPU Sensor, tru...|[[Power Supply 0,...|  [[0, 146.0, 25.2,...|\n",
      "|3c8c9394a39e|3c8c9394a39e|f4d3653e-4aa3-11e...|f4d40c28-4aa3-11e...|1570753604199126|100.96.1.0:62570|[[default, 000ec6...|[[default, 5c5b35...|        |EX2300-C-12P|        19.2R1.8|[[ge-0/0/0, true,...|            []|    []|[[0.0.0.0/0, 10.2...|[[ge-0/0/0, -, 5c...| HV3619190523|[[irb.1, 1, [10.2...|              RSTP|0.04:18:d6:83:4f:0c|              20008|           ge-0/0/6|                   2|               20|                     15|                3|                     1|              306433786|32768.3c:8c:93:94...|  3045|      false|false|  Cache empty|             0|                          0|                     0.0|                       0.0|                     0.0|[[0, EX2300-C-12P...|   [[0, true, true, ...|          []|[[CPU Sensor, tru...|[[Power Supply 0,...|  [[0, 146.0, 25.4,...|\n",
      "|3c8c9394a39e|3c8c9394a39e|f4d3653e-4aa3-11e...|f4d40c28-4aa3-11e...|1570753664199244|100.96.1.0:62570|[[default, 000ec6...|[[default, 5c5b35...|        |EX2300-C-12P|        19.2R1.8|[[ge-0/0/0, true,...|            []|    []|[[0.0.0.0/0, 10.2...|[[ge-0/0/0, -, 5c...| HV3619190523|[[irb.1, 1, [10.2...|              RSTP|0.04:18:d6:83:4f:0c|              20008|           ge-0/0/6|                   2|               20|                     15|                3|                     1|              306433847|32768.3c:8c:93:94...|  3105|      false|false|  Cache empty|             0|                          0|                     0.0|                       0.0|                     0.0|[[0, EX2300-C-12P...|   [[0, true, true, ...|          []|[[CPU Sensor, tru...|[[Power Supply 0,...|  [[0, 146.0, 26.4,...|\n",
      "|3c8c9394a39e|3c8c9394a39e|f4d3653e-4aa3-11e...|f4d40c28-4aa3-11e...|1570753724199363|100.96.1.0:62570|[[default, 000ec6...|[[default, 5c5b35...|        |EX2300-C-12P|        19.2R1.8|[[ge-0/0/0, true,...|            []|    []|[[0.0.0.0/0, 10.2...|[[ge-0/0/0, -, 5c...| HV3619190523|[[irb.1, 1, [10.2...|              RSTP|0.04:18:d6:83:4f:0c|              20008|           ge-0/0/6|                   2|               20|                     15|                3|                     1|              306433906|32768.3c:8c:93:94...|  3165|      false|false|  Cache empty|             0|                          0|                     0.0|                       0.0|                     0.0|[[0, EX2300-C-12P...|   [[0, true, true, ...|          []|[[CPU Sensor, tru...|[[Power Supply 0,...|  [[0, 146.0, 26.0,...|\n",
      "|3c8c9394a39e|3c8c9394a39e|f4d3653e-4aa3-11e...|f4d40c28-4aa3-11e...|1570753784199469|100.96.1.0:62570|[[default, 000ec6...|[[default, 5c5b35...|        |EX2300-C-12P|        19.2R1.8|[[ge-0/0/0, true,...|            []|    []|[[0.0.0.0/0, 10.2...|[[ge-0/0/0, -, 5c...| HV3619190523|[[irb.1, 1, [10.2...|              RSTP|0.04:18:d6:83:4f:0c|              20008|           ge-0/0/6|                   2|               20|                     15|                3|                     1|              306433966|32768.3c:8c:93:94...|  3225|      false|false|  Cache empty|             0|                          0|                     0.0|                       0.0|                     0.0|[[0, EX2300-C-12P...|   [[0, true, true, ...|          []|[[CPU Sensor, tru...|[[Power Supply 0,...|  [[0, 146.0, 25.4,...|\n",
      "|3c8c9394a39e|3c8c9394a39e|f4d3653e-4aa3-11e...|f4d40c28-4aa3-11e...|1570753844199576|100.96.1.0:62570|[[default, 000ec6...|[[default, 5c5b35...|        |EX2300-C-12P|        19.2R1.8|[[ge-0/0/0, true,...|            []|    []|[[0.0.0.0/0, 10.2...|[[ge-0/0/0, -, 5c...| HV3619190523|[[irb.1, 1, [10.2...|              RSTP|0.04:18:d6:83:4f:0c|              20008|           ge-0/0/6|                   2|               20|                     15|                3|                     1|              306434026|32768.3c:8c:93:94...|  3285|      false|false|  Cache empty|             0|                          0|                     0.0|                       0.0|                     0.0|[[0, EX2300-C-12P...|   [[0, true, true, ...|          []|[[CPU Sensor, tru...|[[Power Supply 0,...|  [[0, 146.0, 25.4,...|\n",
      "|3c8c9394a39e|3c8c9394a39e|f4d3653e-4aa3-11e...|f4d40c28-4aa3-11e...|1570753004197929|100.96.1.0:62570|[[default, 000ec6...|[[default, 5c5b35...|        |EX2300-C-12P|        19.2R1.8|[[ge-0/0/0, true,...|            []|    []|[[0.0.0.0/0, 10.2...|[[ge-0/0/0, -, 5c...| HV3619190523|[[irb.1, 1, [10.2...|              RSTP|0.04:18:d6:83:4f:0c|              20008|           ge-0/0/6|                   2|               20|                     15|                3|                     1|              306433188|32768.3c:8c:93:94...|  2444|      false|false|  Cache empty|             0|                          0|                     0.0|                       0.0|                     0.0|[[0, EX2300-C-12P...|   [[0, true, true, ...|          []|[[CPU Sensor, tru...|[[Power Supply 0,...|  [[0, 146.0, 26.4,...|\n",
      "|3c8c9394a39e|3c8c9394a39e|f4d3653e-4aa3-11e...|f4d40c28-4aa3-11e...|1570753064198053|100.96.1.0:62570|[[default, 000ec6...|[[default, 5c5b35...|        |EX2300-C-12P|        19.2R1.8|[[ge-0/0/0, true,...|            []|    []|[[0.0.0.0/0, 10.2...|[[ge-0/0/0, -, 5c...| HV3619190523|[[irb.1, 1, [10.2...|              RSTP|0.04:18:d6:83:4f:0c|              20008|           ge-0/0/6|                   2|               20|                     15|                3|                     1|              306433245|32768.3c:8c:93:94...|  2504|      false|false|  Cache empty|             0|                          0|                     0.0|                       0.0|                     0.0|[[0, EX2300-C-12P...|   [[0, true, true, ...|          []|[[CPU Sensor, tru...|[[Power Supply 0,...|  [[0, 146.0, 26.4,...|\n",
      "|3c8c9394a39e|3c8c9394a39e|f4d3653e-4aa3-11e...|f4d40c28-4aa3-11e...|1570753124198173|100.96.1.0:62570|[[default, 000ec6...|[[default, 5c5b35...|        |EX2300-C-12P|        19.2R1.8|[[ge-0/0/0, true,...|            []|    []|[[0.0.0.0/0, 10.2...|[[ge-0/0/0, -, 5c...| HV3619190523|[[irb.1, 1, [10.2...|              RSTP|0.04:18:d6:83:4f:0c|              20008|           ge-0/0/6|                   2|               20|                     15|                3|                     1|              306433306|32768.3c:8c:93:94...|  2564|      false|false|  Cache empty|             0|                          0|                     0.0|                       0.0|                     0.0|[[0, EX2300-C-12P...|   [[0, true, true, ...|          []|[[CPU Sensor, tru...|[[Power Supply 0,...|  [[0, 146.0, 25.6,...|\n",
      "|3c8c9394a39e|3c8c9394a39e|f4d3653e-4aa3-11e...|f4d40c28-4aa3-11e...|1570753184198304|100.96.1.0:62570|[[default, 000ec6...|[[default, 5c5b35...|        |EX2300-C-12P|        19.2R1.8|[[ge-0/0/0, true,...|            []|    []|[[0.0.0.0/0, 10.2...|[[ge-0/0/0, -, 5c...| HV3619190523|[[irb.1, 1, [10.2...|              RSTP|0.04:18:d6:83:4f:0c|              20008|           ge-0/0/6|                   2|               20|                     15|                3|                     1|              306433365|32768.3c:8c:93:94...|  2624|      false|false|  Cache empty|             0|                          0|                     0.0|                       0.0|                     0.0|[[0, EX2300-C-12P...|   [[0, true, true, ...|          []|[[CPU Sensor, tru...|[[Power Supply 0,...|  [[0, 146.0, 26.4,...|\n",
      "|3c8c9394a39e|3c8c9394a39e|f4d3653e-4aa3-11e...|f4d40c28-4aa3-11e...|1570753244198411|100.96.1.0:62570|[[default, 000ec6...|[[default, 5c5b35...|        |EX2300-C-12P|        19.2R1.8|[[ge-0/0/0, true,...|            []|    []|[[0.0.0.0/0, 10.2...|[[ge-0/0/0, -, 5c...| HV3619190523|[[irb.1, 1, [10.2...|              RSTP|0.04:18:d6:83:4f:0c|              20008|           ge-0/0/6|                   2|               20|                     15|                3|                     1|              306433425|32768.3c:8c:93:94...|  2684|      false|false|  Cache empty|             0|                          0|                     0.0|                       0.0|                     0.0|[[0, EX2300-C-12P...|   [[0, true, true, ...|          []|[[CPU Sensor, tru...|[[Power Supply 0,...|  [[0, 146.0, 25.4,...|\n",
      "|3c8c9394a39e|3c8c9394a39e|f4d3653e-4aa3-11e...|f4d40c28-4aa3-11e...|1570753304198521|100.96.1.0:62570|[[default, 000ec6...|[[default, 5c5b35...|        |EX2300-C-12P|        19.2R1.8|[[ge-0/0/0, true,...|            []|    []|[[0.0.0.0/0, 10.2...|[[ge-0/0/0, -, 5c...| HV3619190523|[[irb.1, 1, [10.2...|              RSTP|0.04:18:d6:83:4f:0c|              20008|           ge-0/0/6|                   2|               20|                     15|                3|                     1|              306433486|32768.3c:8c:93:94...|  2744|      false|false|  Cache empty|             0|                          0|                     0.0|                       0.0|                     0.0|[[0, EX2300-C-12P...|   [[0, true, true, ...|          []|[[CPU Sensor, tru...|[[Power Supply 0,...|  [[0, 146.0, 25.8,...|\n",
      "|3c8c9394a39e|3c8c9394a39e|f4d3653e-4aa3-11e...|f4d40c28-4aa3-11e...|1570753364198637|100.96.1.0:62570|[[default, 000ec6...|[[default, 5c5b35...|        |EX2300-C-12P|        19.2R1.8|[[ge-0/0/0, true,...|            []|    []|[[0.0.0.0/0, 10.2...|[[ge-0/0/0, -, 5c...| HV3619190523|[[irb.1, 1, [10.2...|              RSTP|0.04:18:d6:83:4f:0c|              20008|           ge-0/0/6|                   2|               20|                     15|                3|                     1|              306433548|32768.3c:8c:93:94...|  2805|      false|false|  Cache empty|             0|                          0|                     0.0|                       0.0|                     0.0|[[0, EX2300-C-12P...|   [[0, true, true, ...|          []|[[CPU Sensor, tru...|[[Power Supply 0,...|  [[0, 146.0, 25.2,...|\n",
      "|3c8c9394a39e|3c8c9394a39e|f4d3653e-4aa3-11e...|f4d40c28-4aa3-11e...|1570752044196082|100.96.1.0:62570|[[default, 000ec6...|[[default, 5c5b35...|        |EX2300-C-12P|        19.2R1.8|[[ge-0/0/0, true,...|            []|    []|[[0.0.0.0/0, 10.2...|[[ge-0/0/0, -, 5c...| HV3619190523|[[irb.1, 1, [10.2...|              RSTP|0.04:18:d6:83:4f:0c|              20008|           ge-0/0/6|                   2|               20|                     15|                3|                     1|              306432226|32768.3c:8c:93:94...|  1483|      false|false|  Cache empty|             0|                          0|                     0.0|                       0.0|                     0.0|[[0, EX2300-C-12P...|   [[0, true, true, ...|          []|[[CPU Sensor, tru...|[[Power Supply 0,...|  [[0, 146.0, 26.4,...|\n",
      "|3c8c9394a39e|3c8c9394a39e|f4d3653e-4aa3-11e...|f4d40c28-4aa3-11e...|1570752104196194|100.96.1.0:62570|[[default, 000ec6...|[[default, 5c5b35...|        |EX2300-C-12P|        19.2R1.8|[[ge-0/0/0, true,...|            []|    []|[[0.0.0.0/0, 10.2...|[[ge-0/0/0, -, 5c...| HV3619190523|[[irb.1, 1, [10.2...|              RSTP|0.04:18:d6:83:4f:0c|              20008|           ge-0/0/6|                   2|               20|                     15|                3|                     1|              306432286|32768.3c:8c:93:94...|  1543|      false|false|  Cache empty|             0|                          0|                     0.0|                       0.0|                     0.0|[[0, EX2300-C-12P...|   [[0, true, true, ...|          []|[[CPU Sensor, tru...|[[Power Supply 0,...|  [[0, 146.0, 25.6,...|\n",
      "|3c8c9394a39e|3c8c9394a39e|f4d3653e-4aa3-11e...|f4d40c28-4aa3-11e...|1570752164196294|100.96.1.0:62570|[[default, 000ec6...|[[default, 5c5b35...|        |EX2300-C-12P|        19.2R1.8|[[ge-0/0/0, true,...|            []|    []|[[0.0.0.0/0, 10.2...|[[ge-0/0/0, -, 5c...| HV3619190523|[[irb.1, 1, [10.2...|              RSTP|0.04:18:d6:83:4f:0c|              20008|           ge-0/0/6|                   2|               20|                     15|                3|                     1|              306432346|32768.3c:8c:93:94...|  1603|      false|false|  Cache empty|             0|                          0|                     0.0|                       0.0|                     0.0|[[0, EX2300-C-12P...|   [[0, true, true, ...|          []|[[CPU Sensor, tru...|[[Power Supply 0,...|  [[0, 146.0, 25.4,...|\n",
      "|3c8c9394a39e|3c8c9394a39e|f4d3653e-4aa3-11e...|f4d40c28-4aa3-11e...|1570752224196400|100.96.1.0:62570|[[default, 000ec6...|[[default, 5c5b35...|        |EX2300-C-12P|        19.2R1.8|[[ge-0/0/0, true,...|            []|    []|[[0.0.0.0/0, 10.2...|[[ge-0/0/0, -, 5c...| HV3619190523|[[irb.1, 1, [10.2...|              RSTP|0.04:18:d6:83:4f:0c|              20008|           ge-0/0/6|                   2|               20|                     15|                3|                     1|              306432405|32768.3c:8c:93:94...|  1663|      false|false|  Cache empty|             0|                          0|                     0.0|                       0.0|                     0.0|[[0, EX2300-C-12P...|   [[0, true, true, ...|          []|[[CPU Sensor, tru...|[[Power Supply 0,...|  [[0, 146.0, 25.6,...|\n",
      "|3c8c9394a39e|3c8c9394a39e|f4d3653e-4aa3-11e...|f4d40c28-4aa3-11e...|1570752284196510|100.96.1.0:62570|[[default, 000ec6...|[[default, 5c5b35...|        |EX2300-C-12P|        19.2R1.8|[[ge-0/0/0, true,...|            []|    []|[[0.0.0.0/0, 10.2...|[[ge-0/0/0, -, 5c...| HV3619190523|[[irb.1, 1, [10.2...|              RSTP|0.04:18:d6:83:4f:0c|              20008|           ge-0/0/6|                   2|               20|                     15|                3|                     1|              306432467|32768.3c:8c:93:94...|  1723|      false|false|  Cache empty|             0|                          0|                     0.0|                       0.0|                     0.0|[[0, EX2300-C-12P...|   [[0, true, true, ...|          []|[[CPU Sensor, tru...|[[Power Supply 0,...|  [[0, 146.0, 27.0,...|\n",
      "+------------+------------+--------------------+--------------------+----------------+----------------+--------------------+--------------------+--------+------------+----------------+--------------------+--------------+------+--------------------+--------------------+-------------+--------------------+------------------+-------------------+-------------------+-------------------+--------------------+-----------------+-----------------------+-----------------+----------------------+-----------------------+--------------------+------+-----------+-----+-------------+--------------+---------------------------+------------------------+--------------------------+------------------------+--------------------+-----------------------+------------+--------------------+--------------------+----------------------+\n",
      "only showing top 20 rows\n",
      "\n"
     ]
    }
   ],
   "source": [
    "df1.show()"
   ]
  },
  {
   "cell_type": "code",
   "execution_count": null,
   "metadata": {},
   "outputs": [],
   "source": []
  },
  {
   "cell_type": "code",
   "execution_count": null,
   "metadata": {},
   "outputs": [],
   "source": [
    "# SLE per interface\n",
    "\n",
    "# Aggregation \n"
   ]
  },
  {
   "cell_type": "code",
   "execution_count": 7,
   "metadata": {},
   "outputs": [
    {
     "data": {
      "text/plain": [
       "'\\n{\\n \"ap_mac\": \"5c-5b-35-0e-bd-03\",\\n \"band\": \"24\",\\n \"channel\": 11,\\n \"channel_width\": 20,\\n \"classifier\": \"\",\\n \"classifier_rank\": 0,\\n \"client_os\": \"\",\\n \"client_type\": \"Mac\",\\n \"client_wcid\": \"b41f89f6-b6d9-db34-f7a0-7d730eca4f4e\",\\n \"duration\": 98.0,\\n \"en_client_sle_agg\": 1,\\n \"ex_wl\": 0,\\n \"metric\": \"coverage\",\\n \"metric_rank\": 0,\\n \"org_id\": \"f4d3653e-4aa3-11e5-8510-1258369c38a9\",\\n \"site_id\": \"29d2648e-e66b-11e5-a6cd-0242ac110003\",\\n \"threshold\": -66,\\n \"time\": 1571177692699,\\n \"value\": -61.0,\\n \"wlan_id\": \"762c3b9e-ffa1-11e5-b5e1-0242ac110003\"\\n}\\n\\n\\n# Switch sle\\n\\n'"
      ]
     },
     "execution_count": 7,
     "metadata": {},
     "output_type": "execute_result"
    }
   ],
   "source": [
    "\"\"\"\n",
    "Similar as wireless sle\n",
    "{\n",
    " \"ap_mac\": \"5c-5b-35-0e-bd-03\",\n",
    " \"band\": \"24\",\n",
    " \"channel\": 11,\n",
    " \"channel_width\": 20,\n",
    " \"classifier\": \"\",\n",
    " \"classifier_rank\": 0,\n",
    " \"client_os\": \"\",\n",
    " \"client_type\": \"Mac\",\n",
    " \"client_wcid\": \"b41f89f6-b6d9-db34-f7a0-7d730eca4f4e\",\n",
    " \"duration\": 98.0,\n",
    " \"en_client_sle_agg\": 1,\n",
    " \"ex_wl\": 0,\n",
    " \"metric\": \"coverage\",\n",
    " \"metric_rank\": 0,\n",
    " \"org_id\": \"f4d3653e-4aa3-11e5-8510-1258369c38a9\",\n",
    " \"site_id\": \"29d2648e-e66b-11e5-a6cd-0242ac110003\",\n",
    " \"threshold\": -66,\n",
    " \"time\": 1571177692699,\n",
    " \"value\": -61.0,\n",
    " \"wlan_id\": \"762c3b9e-ffa1-11e5-b5e1-0242ac110003\"\n",
    "}\n",
    "\n",
    "\n",
    "# Switch sle\n",
    "{\n",
    "\"org_id\":  \"f4d3653e-4aa3-11e5-8510-1258369c38a9\"\n",
    "\"site_id\":  \"f4d40c28-4aa3-11e5-8510-1258369c38a9\",\n",
    "\"switch_mac\": '3c8c9394a39e'\n",
    "\"time\":  1571177692699,\n",
    "\n",
    "\"metric\": \"switch_tput\",\n",
    "\"classifier\": \"\",          # client_count, client usage, \n",
    "\n",
    "\"interface_name\": 'ge-0/0/0',\n",
    "\"value\": \n",
    "\"threshold\":\n",
    "\"duration\":\n",
    "\n",
    "}\n",
    "\n",
    "aggregate\n",
    "\n",
    "\n",
    "\"\"\"\n",
    "\n",
    "\n",
    "def get_wire_sle():\n",
    "    pass\n"
   ]
  },
  {
   "cell_type": "code",
   "execution_count": 9,
   "metadata": {},
   "outputs": [
    {
     "data": {
      "text/plain": [
       "Row(id='3c8c9394a39e', mac='3c8c9394a39e', org_id='f4d3653e-4aa3-11e5-8510-1258369c38a9', site_id='f4d40c28-4aa3-11e5-8510-1258369c38a9', when=1570753424198748, remote_addr='100.96.1.0:62570', clients=[Row(vlan_name='default', mac='000ec6db6948', flags='', age=0, iface_name='ge-0/0/1', vlan_id=1)], aps=[Row(vlan_name='default', mac='5c5b350e06e0', flags='', age=0, iface_name='ge-0/0/0', vlan_id=1), Row(vlan_name='default', mac='5c5b355003b1', flags='', age=0, iface_name='ge-0/0/4', vlan_id=1)], hostname='', model='EX2300-C-12P', firmware_version='19.2R1.8', interfaces=[Row(name='ge-0/0/0', link=True, full_duplex=True, mbps=1000, mtu=1514, address='', admin_status=True, last_flapped=1264319956000000, errors=[], poe_enabled=True, poe_status=True, poe_power_limit=19.5, poe_power=12.199999809265137, poe_priority=False, poe_class='4', poe_mode='', rx_bytes=429751, rx_bps=984, rx_packets=2003, tx_bytes=19756075, tx_bps=24520, tx_packets=156527, rx_errors=0, rx_undersize_errors=0, rx_oversize_errors=0, rx_fcserrors=0, rx_overrun_errors=0, rx_discards=0, tx_errors=0, tx_drops=0, tx_mtuerrors=0, txcarrier_transition=1, tx_mcast_packets=56752, tx_bcast_packets=98115, rx_mcast_packets=110, rx_bcast_packets=98115, interface_counter_delta=False), Row(name='pfe-0/0/0', link=True, full_duplex=False, mbps=800, mtu=0, address='', admin_status=True, last_flapped=-62135596800000000, errors=[], poe_enabled=False, poe_status=False, poe_power_limit=0.0, poe_power=0.0, poe_priority=False, poe_class='', poe_mode='', rx_bytes=0, rx_bps=0, rx_packets=0, tx_bytes=0, tx_bps=0, tx_packets=0, rx_errors=0, rx_undersize_errors=0, rx_oversize_errors=0, rx_fcserrors=0, rx_overrun_errors=0, rx_discards=0, tx_errors=0, tx_drops=0, tx_mtuerrors=0, txcarrier_transition=0, tx_mcast_packets=0, tx_bcast_packets=0, rx_mcast_packets=0, rx_bcast_packets=0, interface_counter_delta=False), Row(name='pfh-0/0/0', link=True, full_duplex=False, mbps=800, mtu=0, address='', admin_status=True, last_flapped=-62135596800000000, errors=[], poe_enabled=False, poe_status=False, poe_power_limit=0.0, poe_power=0.0, poe_priority=False, poe_class='', poe_mode='', rx_bytes=0, rx_bps=0, rx_packets=0, tx_bytes=0, tx_bps=0, tx_packets=0, rx_errors=0, rx_undersize_errors=0, rx_oversize_errors=0, rx_fcserrors=0, rx_overrun_errors=0, rx_discards=0, tx_errors=0, tx_drops=0, tx_mtuerrors=0, txcarrier_transition=0, tx_mcast_packets=0, tx_bcast_packets=0, rx_mcast_packets=0, rx_bcast_packets=0, interface_counter_delta=False), Row(name='ge-0/0/1', link=True, full_duplex=True, mbps=1000, mtu=1514, address='', admin_status=True, last_flapped=1264319823000000, errors=[], poe_enabled=True, poe_status=False, poe_power_limit=15.399999618530273, poe_power=0.0, poe_priority=False, poe_class='not-applicable', poe_mode='', rx_bytes=7284511, rx_bps=1288, rx_packets=40849, tx_bytes=200241490, tx_bps=35376, tx_packets=304505, rx_errors=0, rx_undersize_errors=0, rx_oversize_errors=0, rx_fcserrors=0, rx_overrun_errors=0, rx_discards=0, tx_errors=0, tx_drops=0, tx_mtuerrors=0, txcarrier_transition=1, tx_mcast_packets=60761, tx_bcast_packets=104169, rx_mcast_packets=245, rx_bcast_packets=104169, interface_counter_delta=False), Row(name='ge-0/0/2', link=False, full_duplex=False, mbps=1000, mtu=1514, address='', admin_status=True, last_flapped=1264319818000000, errors=[], poe_enabled=True, poe_status=False, poe_power_limit=15.399999618530273, poe_power=0.0, poe_priority=False, poe_class='not-applicable', poe_mode='', rx_bytes=0, rx_bps=0, rx_packets=0, tx_bytes=0, tx_bps=0, tx_packets=0, rx_errors=0, rx_undersize_errors=0, rx_oversize_errors=0, rx_fcserrors=0, rx_overrun_errors=0, rx_discards=0, tx_errors=0, tx_drops=0, tx_mtuerrors=0, txcarrier_transition=0, tx_mcast_packets=0, tx_bcast_packets=0, rx_mcast_packets=0, rx_bcast_packets=0, interface_counter_delta=False), Row(name='ge-0/0/3', link=False, full_duplex=False, mbps=1000, mtu=1514, address='', admin_status=True, last_flapped=1264319818000000, errors=[], poe_enabled=True, poe_status=False, poe_power_limit=15.399999618530273, poe_power=0.0, poe_priority=False, poe_class='not-applicable', poe_mode='', rx_bytes=0, rx_bps=0, rx_packets=0, tx_bytes=0, tx_bps=0, tx_packets=0, rx_errors=0, rx_undersize_errors=0, rx_oversize_errors=0, rx_fcserrors=0, rx_overrun_errors=0, rx_discards=0, tx_errors=0, tx_drops=0, tx_mtuerrors=0, txcarrier_transition=0, tx_mcast_packets=0, tx_bcast_packets=0, rx_mcast_packets=0, rx_bcast_packets=0, interface_counter_delta=False), Row(name='ge-0/0/4', link=True, full_duplex=True, mbps=1000, mtu=1514, address='', admin_status=True, last_flapped=1264319986000000, errors=[], poe_enabled=True, poe_status=True, poe_power_limit=25.5, poe_power=10.399999618530273, poe_priority=False, poe_class='4', poe_mode='', rx_bytes=572341, rx_bps=1096, rx_packets=2334, tx_bytes=19520788, tx_bps=32752, tx_packets=154063, rx_errors=0, rx_undersize_errors=0, rx_oversize_errors=0, rx_fcserrors=0, rx_overrun_errors=0, rx_discards=0, tx_errors=0, tx_drops=0, tx_mtuerrors=0, txcarrier_transition=3, tx_mcast_packets=55663, tx_bcast_packets=96356, rx_mcast_packets=156, rx_bcast_packets=96356, interface_counter_delta=False), Row(name='ge-0/0/5', link=False, full_duplex=False, mbps=1000, mtu=1514, address='', admin_status=True, last_flapped=1264319818000000, errors=[], poe_enabled=True, poe_status=False, poe_power_limit=15.399999618530273, poe_power=0.0, poe_priority=False, poe_class='not-applicable', poe_mode='', rx_bytes=0, rx_bps=0, rx_packets=0, tx_bytes=0, tx_bps=0, tx_packets=0, rx_errors=0, rx_undersize_errors=0, rx_oversize_errors=0, rx_fcserrors=0, rx_overrun_errors=0, rx_discards=0, tx_errors=0, tx_drops=0, tx_mtuerrors=0, txcarrier_transition=0, tx_mcast_packets=0, tx_bcast_packets=0, rx_mcast_packets=0, rx_bcast_packets=0, interface_counter_delta=False), Row(name='ge-0/0/6', link=True, full_duplex=True, mbps=1000, mtu=1514, address='', admin_status=True, last_flapped=1264319822000000, errors=[], poe_enabled=True, poe_status=True, poe_power_limit=15.399999618530273, poe_power=3.5999999046325684, poe_priority=False, poe_class='0', poe_mode='', rx_bytes=207386598, rx_bps=76384, rx_packets=369792, tx_bytes=38618538, tx_bps=103384, tx_packets=126861, rx_errors=0, rx_undersize_errors=0, rx_oversize_errors=0, rx_fcserrors=0, rx_overrun_errors=0, rx_discards=0, tx_errors=0, tx_drops=0, tx_mtuerrors=0, txcarrier_transition=1, tx_mcast_packets=266, tx_bcast_packets=457, rx_mcast_packets=69057, rx_bcast_packets=457, interface_counter_delta=False), Row(name='ge-0/0/7', link=False, full_duplex=False, mbps=1000, mtu=1514, address='', admin_status=True, last_flapped=1264319818000000, errors=[], poe_enabled=True, poe_status=False, poe_power_limit=15.399999618530273, poe_power=0.0, poe_priority=False, poe_class='not-applicable', poe_mode='', rx_bytes=0, rx_bps=0, rx_packets=0, tx_bytes=0, tx_bps=0, tx_packets=0, rx_errors=0, rx_undersize_errors=0, rx_oversize_errors=0, rx_fcserrors=0, rx_overrun_errors=0, rx_discards=0, tx_errors=0, tx_drops=0, tx_mtuerrors=0, txcarrier_transition=0, tx_mcast_packets=0, tx_bcast_packets=0, rx_mcast_packets=0, rx_bcast_packets=0, interface_counter_delta=False), Row(name='ge-0/0/8', link=False, full_duplex=False, mbps=1000, mtu=1514, address='', admin_status=True, last_flapped=1264319818000000, errors=[], poe_enabled=True, poe_status=False, poe_power_limit=15.399999618530273, poe_power=0.0, poe_priority=False, poe_class='not-applicable', poe_mode='', rx_bytes=0, rx_bps=0, rx_packets=0, tx_bytes=0, tx_bps=0, tx_packets=0, rx_errors=0, rx_undersize_errors=0, rx_oversize_errors=0, rx_fcserrors=0, rx_overrun_errors=0, rx_discards=0, tx_errors=0, tx_drops=0, tx_mtuerrors=0, txcarrier_transition=0, tx_mcast_packets=0, tx_bcast_packets=0, rx_mcast_packets=0, rx_bcast_packets=0, interface_counter_delta=False), Row(name='ge-0/0/9', link=False, full_duplex=False, mbps=1000, mtu=1514, address='', admin_status=True, last_flapped=1264319818000000, errors=[], poe_enabled=True, poe_status=False, poe_power_limit=15.399999618530273, poe_power=0.0, poe_priority=False, poe_class='not-applicable', poe_mode='', rx_bytes=0, rx_bps=0, rx_packets=0, tx_bytes=0, tx_bps=0, tx_packets=0, rx_errors=0, rx_undersize_errors=0, rx_oversize_errors=0, rx_fcserrors=0, rx_overrun_errors=0, rx_discards=0, tx_errors=0, tx_drops=0, tx_mtuerrors=0, txcarrier_transition=0, tx_mcast_packets=0, tx_bcast_packets=0, rx_mcast_packets=0, rx_bcast_packets=0, interface_counter_delta=False), Row(name='ge-0/0/10', link=False, full_duplex=False, mbps=1000, mtu=1514, address='', admin_status=True, last_flapped=1264319818000000, errors=[], poe_enabled=True, poe_status=False, poe_power_limit=15.399999618530273, poe_power=0.0, poe_priority=False, poe_class='not-applicable', poe_mode='', rx_bytes=0, rx_bps=0, rx_packets=0, tx_bytes=0, tx_bps=0, tx_packets=0, rx_errors=0, rx_undersize_errors=0, rx_oversize_errors=0, rx_fcserrors=0, rx_overrun_errors=0, rx_discards=0, tx_errors=0, tx_drops=0, tx_mtuerrors=0, txcarrier_transition=0, tx_mcast_packets=0, tx_bcast_packets=0, rx_mcast_packets=0, rx_bcast_packets=0, interface_counter_delta=False), Row(name='ge-0/0/11', link=False, full_duplex=False, mbps=1000, mtu=1514, address='', admin_status=True, last_flapped=1264319818000000, errors=[], poe_enabled=True, poe_status=False, poe_power_limit=15.399999618530273, poe_power=0.0, poe_priority=False, poe_class='not-applicable', poe_mode='', rx_bytes=0, rx_bps=0, rx_packets=0, tx_bytes=0, tx_bps=0, tx_packets=0, rx_errors=0, rx_undersize_errors=0, rx_oversize_errors=0, rx_fcserrors=0, rx_overrun_errors=0, rx_discards=0, tx_errors=0, tx_drops=0, tx_mtuerrors=0, txcarrier_transition=0, tx_mcast_packets=0, tx_bcast_packets=0, rx_mcast_packets=0, rx_bcast_packets=0, interface_counter_delta=False), Row(name='.local.', link=True, full_duplex=False, mbps=1000, mtu=1500, address='', admin_status=True, last_flapped=-62135596800000000, errors=[], poe_enabled=False, poe_status=False, poe_power_limit=0.0, poe_power=0.0, poe_priority=False, poe_class='', poe_mode='', rx_bytes=0, rx_bps=0, rx_packets=0, tx_bytes=0, tx_bps=0, tx_packets=0, rx_errors=0, rx_undersize_errors=0, rx_oversize_errors=0, rx_fcserrors=0, rx_overrun_errors=0, rx_discards=0, tx_errors=0, tx_drops=0, tx_mtuerrors=0, txcarrier_transition=0, tx_mcast_packets=0, tx_bcast_packets=0, rx_mcast_packets=0, rx_bcast_packets=0, interface_counter_delta=False), Row(name='bme0', link=True, full_duplex=False, mbps=1000, mtu=9512, address='', admin_status=True, last_flapped=-62135596800000000, errors=[], poe_enabled=False, poe_status=False, poe_power_limit=0.0, poe_power=0.0, poe_priority=False, poe_class='', poe_mode='', rx_bytes=0, rx_bps=0, rx_packets=0, tx_bytes=36762456, tx_bps=0, tx_packets=83362, rx_errors=0, rx_undersize_errors=0, rx_oversize_errors=0, rx_fcserrors=0, rx_overrun_errors=0, rx_discards=0, tx_errors=0, tx_drops=0, tx_mtuerrors=0, txcarrier_transition=0, tx_mcast_packets=0, tx_bcast_packets=0, rx_mcast_packets=0, rx_bcast_packets=0, interface_counter_delta=False), Row(name='cbp0', link=True, full_duplex=False, mbps=1000, mtu=9192, address='', admin_status=True, last_flapped=-62135596800000000, errors=[], poe_enabled=False, poe_status=False, poe_power_limit=0.0, poe_power=0.0, poe_priority=False, poe_class='', poe_mode='', rx_bytes=0, rx_bps=0, rx_packets=0, tx_bytes=0, tx_bps=0, tx_packets=0, rx_errors=0, rx_undersize_errors=0, rx_oversize_errors=0, rx_fcserrors=0, rx_overrun_errors=0, rx_discards=0, tx_errors=0, tx_drops=0, tx_mtuerrors=0, txcarrier_transition=0, tx_mcast_packets=0, tx_bcast_packets=0, rx_mcast_packets=0, rx_bcast_packets=0, interface_counter_delta=False), Row(name='dsc', link=True, full_duplex=False, mbps=1000, mtu=1500, address='', admin_status=True, last_flapped=-62135596800000000, errors=[], poe_enabled=False, poe_status=False, poe_power_limit=0.0, poe_power=0.0, poe_priority=False, poe_class='', poe_mode='', rx_bytes=0, rx_bps=0, rx_packets=0, tx_bytes=0, tx_bps=0, tx_packets=0, rx_errors=0, rx_undersize_errors=0, rx_oversize_errors=0, rx_fcserrors=0, rx_overrun_errors=0, rx_discards=0, tx_errors=0, tx_drops=0, tx_mtuerrors=0, txcarrier_transition=0, tx_mcast_packets=0, tx_bcast_packets=0, rx_mcast_packets=0, rx_bcast_packets=0, interface_counter_delta=False), Row(name='esi', link=True, full_duplex=False, mbps=1000, mtu=1500, address='', admin_status=True, last_flapped=-62135596800000000, errors=[], poe_enabled=False, poe_status=False, poe_power_limit=0.0, poe_power=0.0, poe_priority=False, poe_class='', poe_mode='', rx_bytes=0, rx_bps=0, rx_packets=0, tx_bytes=0, tx_bps=0, tx_packets=0, rx_errors=0, rx_undersize_errors=0, rx_oversize_errors=0, rx_fcserrors=0, rx_overrun_errors=0, rx_discards=0, tx_errors=0, tx_drops=0, tx_mtuerrors=0, txcarrier_transition=0, tx_mcast_packets=0, tx_bcast_packets=0, rx_mcast_packets=0, rx_bcast_packets=0, interface_counter_delta=False), Row(name='gre', link=True, full_duplex=False, mbps=1000, mtu=1500, address='', admin_status=True, last_flapped=-62135596800000000, errors=[], poe_enabled=False, poe_status=False, poe_power_limit=0.0, poe_power=0.0, poe_priority=False, poe_class='', poe_mode='', rx_bytes=0, rx_bps=0, rx_packets=0, tx_bytes=0, tx_bps=0, tx_packets=0, rx_errors=0, rx_undersize_errors=0, rx_oversize_errors=0, rx_fcserrors=0, rx_overrun_errors=0, rx_discards=0, tx_errors=0, tx_drops=0, tx_mtuerrors=0, txcarrier_transition=0, tx_mcast_packets=0, tx_bcast_packets=0, rx_mcast_packets=0, rx_bcast_packets=0, interface_counter_delta=False), Row(name='ipip', link=True, full_duplex=False, mbps=1000, mtu=1500, address='', admin_status=True, last_flapped=-62135596800000000, errors=[], poe_enabled=False, poe_status=False, poe_power_limit=0.0, poe_power=0.0, poe_priority=False, poe_class='', poe_mode='', rx_bytes=0, rx_bps=0, rx_packets=0, tx_bytes=0, tx_bps=0, tx_packets=0, rx_errors=0, rx_undersize_errors=0, rx_oversize_errors=0, rx_fcserrors=0, rx_overrun_errors=0, rx_discards=0, tx_errors=0, tx_drops=0, tx_mtuerrors=0, txcarrier_transition=0, tx_mcast_packets=0, tx_bcast_packets=0, rx_mcast_packets=0, rx_bcast_packets=0, interface_counter_delta=False), Row(name='irb', link=True, full_duplex=False, mbps=1000, mtu=1514, address='', admin_status=True, last_flapped=-62135596800000000, errors=[], poe_enabled=False, poe_status=False, poe_power_limit=0.0, poe_power=0.0, poe_priority=False, poe_class='', poe_mode='', rx_bytes=0, rx_bps=0, rx_packets=0, tx_bytes=0, tx_bps=0, tx_packets=0, rx_errors=0, rx_undersize_errors=0, rx_oversize_errors=0, rx_fcserrors=0, rx_overrun_errors=0, rx_discards=0, tx_errors=0, tx_drops=0, tx_mtuerrors=0, txcarrier_transition=0, tx_mcast_packets=0, tx_bcast_packets=0, rx_mcast_packets=0, rx_bcast_packets=0, interface_counter_delta=False), Row(name='jsrv', link=True, full_duplex=False, mbps=1000, mtu=1514, address='', admin_status=True, last_flapped=-62135596800000000, errors=[], poe_enabled=False, poe_status=False, poe_power_limit=0.0, poe_power=0.0, poe_priority=False, poe_class='', poe_mode='', rx_bytes=0, rx_bps=0, rx_packets=0, tx_bytes=0, tx_bps=0, tx_packets=0, rx_errors=0, rx_undersize_errors=0, rx_oversize_errors=0, rx_fcserrors=0, rx_overrun_errors=0, rx_discards=0, tx_errors=0, tx_drops=0, tx_mtuerrors=0, txcarrier_transition=0, tx_mcast_packets=0, tx_bcast_packets=0, rx_mcast_packets=0, rx_bcast_packets=0, interface_counter_delta=False), Row(name='lo0', link=True, full_duplex=False, mbps=1000, mtu=1500, address='', admin_status=True, last_flapped=-62135596800000000, errors=[], poe_enabled=False, poe_status=False, poe_power_limit=0.0, poe_power=0.0, poe_priority=False, poe_class='', poe_mode='', rx_bytes=11040461, rx_bps=0, rx_packets=101682, tx_bytes=11040461, tx_bps=0, tx_packets=101682, rx_errors=0, rx_undersize_errors=0, rx_oversize_errors=0, rx_fcserrors=0, rx_overrun_errors=0, rx_discards=0, tx_errors=0, tx_drops=0, tx_mtuerrors=0, txcarrier_transition=0, tx_mcast_packets=0, tx_bcast_packets=0, rx_mcast_packets=0, rx_bcast_packets=0, interface_counter_delta=False), Row(name='lsi', link=True, full_duplex=False, mbps=1000, mtu=1500, address='', admin_status=True, last_flapped=-62135596800000000, errors=[], poe_enabled=False, poe_status=False, poe_power_limit=0.0, poe_power=0.0, poe_priority=False, poe_class='', poe_mode='', rx_bytes=0, rx_bps=0, rx_packets=0, tx_bytes=0, tx_bps=0, tx_packets=0, rx_errors=0, rx_undersize_errors=0, rx_oversize_errors=0, rx_fcserrors=0, rx_overrun_errors=0, rx_discards=0, tx_errors=0, tx_drops=0, tx_mtuerrors=0, txcarrier_transition=0, tx_mcast_packets=0, tx_bcast_packets=0, rx_mcast_packets=0, rx_bcast_packets=0, interface_counter_delta=False), Row(name='me0', link=False, full_duplex=False, mbps=1000, mtu=1514, address='', admin_status=True, last_flapped=1264319803000000, errors=[], poe_enabled=False, poe_status=False, poe_power_limit=0.0, poe_power=0.0, poe_priority=False, poe_class='', poe_mode='', rx_bytes=0, rx_bps=0, rx_packets=0, tx_bytes=0, tx_bps=0, tx_packets=0, rx_errors=0, rx_undersize_errors=0, rx_oversize_errors=0, rx_fcserrors=0, rx_overrun_errors=0, rx_discards=0, tx_errors=0, tx_drops=0, tx_mtuerrors=0, txcarrier_transition=0, tx_mcast_packets=0, tx_bcast_packets=0, rx_mcast_packets=0, rx_bcast_packets=0, interface_counter_delta=False), Row(name='mtun', link=True, full_duplex=False, mbps=1000, mtu=1500, address='', admin_status=True, last_flapped=-62135596800000000, errors=[], poe_enabled=False, poe_status=False, poe_power_limit=0.0, poe_power=0.0, poe_priority=False, poe_class='', poe_mode='', rx_bytes=0, rx_bps=0, rx_packets=0, tx_bytes=0, tx_bps=0, tx_packets=0, rx_errors=0, rx_undersize_errors=0, rx_oversize_errors=0, rx_fcserrors=0, rx_overrun_errors=0, rx_discards=0, tx_errors=0, tx_drops=0, tx_mtuerrors=0, txcarrier_transition=0, tx_mcast_packets=0, tx_bcast_packets=0, rx_mcast_packets=0, rx_bcast_packets=0, interface_counter_delta=False), Row(name='pimd', link=True, full_duplex=False, mbps=1000, mtu=1500, address='', admin_status=True, last_flapped=-62135596800000000, errors=[], poe_enabled=False, poe_status=False, poe_power_limit=0.0, poe_power=0.0, poe_priority=False, poe_class='', poe_mode='', rx_bytes=0, rx_bps=0, rx_packets=0, tx_bytes=0, tx_bps=0, tx_packets=0, rx_errors=0, rx_undersize_errors=0, rx_oversize_errors=0, rx_fcserrors=0, rx_overrun_errors=0, rx_discards=0, tx_errors=0, tx_drops=0, tx_mtuerrors=0, txcarrier_transition=0, tx_mcast_packets=0, tx_bcast_packets=0, rx_mcast_packets=0, rx_bcast_packets=0, interface_counter_delta=False), Row(name='pime', link=True, full_duplex=False, mbps=1000, mtu=1500, address='', admin_status=True, last_flapped=-62135596800000000, errors=[], poe_enabled=False, poe_status=False, poe_power_limit=0.0, poe_power=0.0, poe_priority=False, poe_class='', poe_mode='', rx_bytes=0, rx_bps=0, rx_packets=0, tx_bytes=0, tx_bps=0, tx_packets=0, rx_errors=0, rx_undersize_errors=0, rx_oversize_errors=0, rx_fcserrors=0, rx_overrun_errors=0, rx_discards=0, tx_errors=0, tx_drops=0, tx_mtuerrors=0, txcarrier_transition=0, tx_mcast_packets=0, tx_bcast_packets=0, rx_mcast_packets=0, rx_bcast_packets=0, interface_counter_delta=False), Row(name='pip0', link=True, full_duplex=False, mbps=1000, mtu=9192, address='', admin_status=True, last_flapped=-62135596800000000, errors=[], poe_enabled=False, poe_status=False, poe_power_limit=0.0, poe_power=0.0, poe_priority=False, poe_class='', poe_mode='', rx_bytes=0, rx_bps=0, rx_packets=0, tx_bytes=0, tx_bps=0, tx_packets=0, rx_errors=0, rx_undersize_errors=0, rx_oversize_errors=0, rx_fcserrors=0, rx_overrun_errors=0, rx_discards=0, tx_errors=0, tx_drops=0, tx_mtuerrors=0, txcarrier_transition=0, tx_mcast_packets=0, tx_bcast_packets=0, rx_mcast_packets=0, rx_bcast_packets=0, interface_counter_delta=False), Row(name='tap', link=True, full_duplex=False, mbps=1000, mtu=1500, address='', admin_status=True, last_flapped=-62135596800000000, errors=[], poe_enabled=False, poe_status=False, poe_power_limit=0.0, poe_power=0.0, poe_priority=False, poe_class='', poe_mode='', rx_bytes=0, rx_bps=0, rx_packets=0, tx_bytes=0, tx_bps=0, tx_packets=0, rx_errors=0, rx_undersize_errors=0, rx_oversize_errors=0, rx_fcserrors=0, rx_overrun_errors=0, rx_discards=0, tx_errors=0, tx_drops=0, tx_mtuerrors=0, txcarrier_transition=0, tx_mcast_packets=0, tx_bcast_packets=0, rx_mcast_packets=0, rx_bcast_packets=0, interface_counter_delta=False), Row(name='vme', link=False, full_duplex=False, mbps=1000, mtu=1514, address='', admin_status=True, last_flapped=-62135596800000000, errors=[], poe_enabled=False, poe_status=False, poe_power_limit=0.0, poe_power=0.0, poe_priority=False, poe_class='', poe_mode='', rx_bytes=0, rx_bps=0, rx_packets=0, tx_bytes=0, tx_bps=0, tx_packets=0, rx_errors=0, rx_undersize_errors=0, rx_oversize_errors=0, rx_fcserrors=0, rx_overrun_errors=0, rx_discards=0, tx_errors=0, tx_drops=0, tx_mtuerrors=0, txcarrier_transition=0, tx_mcast_packets=0, tx_bcast_packets=0, rx_mcast_packets=0, rx_bcast_packets=0, interface_counter_delta=False), Row(name='vtep', link=True, full_duplex=False, mbps=1000, mtu=1500, address='', admin_status=True, last_flapped=-62135596800000000, errors=[], poe_enabled=False, poe_status=False, poe_power_limit=0.0, poe_power=0.0, poe_priority=False, poe_class='', poe_mode='', rx_bytes=0, rx_bps=0, rx_packets=0, tx_bytes=0, tx_bps=0, tx_packets=0, rx_errors=0, rx_undersize_errors=0, rx_oversize_errors=0, rx_fcserrors=0, rx_overrun_errors=0, rx_discards=0, tx_errors=0, tx_drops=0, tx_mtuerrors=0, txcarrier_transition=0, tx_mcast_packets=0, tx_bcast_packets=0, rx_mcast_packets=0, rx_bcast_packets=0, interface_counter_delta=False)], config_history=[], alarms=[], ipv4_route=[Row(dst='0.0.0.0/0', gw='10.2.1.1')], lldpneighbors=[Row(local_port_id='ge-0/0/0', local_parent_iface_name='-', remote_chassis_id='5c:5b:35:0e:06:e0', remote_chassis_idsubtype='Mac address', remote_port_desc='ETH0', remote_system_name='', remote_mgmt_addr='10.2.14.92', remote_system_desc='Mist Systems 802.11ac Access Point.'), Row(local_port_id='ge-0/0/4', local_parent_iface_name='-', remote_chassis_id='5c:5b:35:50:03:b1', remote_chassis_idsubtype='Mac address', remote_port_desc='ETH0', remote_system_name='', remote_mgmt_addr='10.2.14.138', remote_system_desc='Mist Systems 802.11ax Access Point.'), Row(local_port_id='ge-0/0/6', local_parent_iface_name='-', remote_chassis_id='64:d8:14:47:76:00', remote_chassis_idsubtype='Mac address', remote_port_desc='GigabitEthernet1/0/16', remote_system_name='', remote_mgmt_addr='10.2.11.69', remote_system_desc='Cisco IOS Software, C2960S Software (C2960S-UNIVERSALK9-M), Version 15.0(2)SE6, RELEASE SOFTWARE (fc2)\\nTechnical Support: http://www.cisco.com/techsupport\\nCopyright (c) 1986-2014 by Cisco Systems, Inc.\\nCompiled Wed 09-Apr-14 03:09 by prod_rel_team')], serial_number='HV3619190523', svistats=[Row(dev='irb.1', vlan=1, ips=['10.2.14.163/32'])], stpbridge_protocol='RSTP', stpbridge_root_id='0.04:18:d6:83:4f:0c', stpbridge_root_cost=20008, stpbridge_root_port='ge-0/0/6', stpbridge_hello_time=2, stpbridge_max_age=20, stpbridge_forward_delay=15, stpbridge_msg_age=3, stpbridge_topo_chg_cnt=1, stpbridge_last_topo_chg=306433606, stpbridge_bridge_id='32768.3c:8c:93:94:a3:c1', uptime=2865, stats_delta=False, delta=False, deltaErrorMsg='Cache empty', delta_interval=0, poe_controller_module_index=0, poe_controller_max_power=0.0, poe_controller_consumption=0.0, poe_controller_guardband=0.0, chassis_modules=[Row(index=0, model='EX2300-C-12P', serial_number='HV3619190523', firmware_version='19.2R1.8', vcmember_id=0, vcmember_role='master')], chassis_routing_engines=[Row(module_index=0, is_master=True, status=True, temp_celsius=52.0, memory_total_mb=1946, memory_in_use_mb=875, cpu_user=24, cpu_background=0, cpu_system=33, cpu_interrupt=1, cpu_idle=42, cputemp_celsius=52.0, model='RE-EX2300C-12P', last_reboot_reason='Router rebooted after a normal shutdown.', load_avg=[1.340000033378601, 1.2400000095367432, 1.0499999523162842])], chassis_fans=[], chassis_temperatures=[Row(name='CPU Sensor', status=True, temp_celsius=52.0, module_index=0), Row(name='PSU Sensor', status=True, temp_celsius=53.0, module_index=0)], chassis_psus=[Row(name='Power Supply 0', status=True, module_index=0, absent=False, psuindex=0)], chassis_poe_controller=[Row(module_index=0, max_power=146.0, consumption=26.200000762939453, guardband=0.0)])"
      ]
     },
     "execution_count": 9,
     "metadata": {},
     "output_type": "execute_result"
    }
   ],
   "source": [
    "df11 = df1.first()\n",
    "df11"
   ]
  },
  {
   "cell_type": "code",
   "execution_count": 14,
   "metadata": {},
   "outputs": [
    {
     "data": {
      "text/plain": [
       "{'name': 'ge-0/0/0',\n",
       " 'link': True,\n",
       " 'full_duplex': True,\n",
       " 'mbps': 1000,\n",
       " 'mtu': 1514,\n",
       " 'address': '',\n",
       " 'admin_status': True,\n",
       " 'last_flapped': 1264319956000000,\n",
       " 'errors': [],\n",
       " 'poe_enabled': True,\n",
       " 'poe_status': True,\n",
       " 'poe_power_limit': 19.5,\n",
       " 'poe_power': 12.199999809265137,\n",
       " 'poe_priority': False,\n",
       " 'poe_class': '4',\n",
       " 'poe_mode': '',\n",
       " 'rx_bytes': 429751,\n",
       " 'rx_bps': 984,\n",
       " 'rx_packets': 2003,\n",
       " 'tx_bytes': 19756075,\n",
       " 'tx_bps': 24520,\n",
       " 'tx_packets': 156527,\n",
       " 'rx_errors': 0,\n",
       " 'rx_undersize_errors': 0,\n",
       " 'rx_oversize_errors': 0,\n",
       " 'rx_fcserrors': 0,\n",
       " 'rx_overrun_errors': 0,\n",
       " 'rx_discards': 0,\n",
       " 'tx_errors': 0,\n",
       " 'tx_drops': 0,\n",
       " 'tx_mtuerrors': 0,\n",
       " 'txcarrier_transition': 1,\n",
       " 'tx_mcast_packets': 56752,\n",
       " 'tx_bcast_packets': 98115,\n",
       " 'rx_mcast_packets': 110,\n",
       " 'rx_bcast_packets': 98115,\n",
       " 'interface_counter_delta': False}"
      ]
     },
     "execution_count": 14,
     "metadata": {},
     "output_type": "execute_result"
    }
   ],
   "source": [
    "df_d = df11.asDict()\n",
    "df_i_0 = df_d['interfaces'][0].asDict()\n",
    "df_i_0"
   ]
  },
  {
   "cell_type": "code",
   "execution_count": null,
   "metadata": {},
   "outputs": [],
   "source": []
  },
  {
   "cell_type": "code",
   "execution_count": null,
   "metadata": {},
   "outputs": [],
   "source": []
  }
 ],
 "metadata": {
  "kernelspec": {
   "display_name": "Python 3",
   "language": "python",
   "name": "python3"
  },
  "language_info": {
   "codemirror_mode": {
    "name": "ipython",
    "version": 3
   },
   "file_extension": ".py",
   "mimetype": "text/x-python",
   "name": "python",
   "nbconvert_exporter": "python",
   "pygments_lexer": "ipython3",
   "version": "3.7.4"
  }
 },
 "nbformat": 4,
 "nbformat_minor": 2
}
