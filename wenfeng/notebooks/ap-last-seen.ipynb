{
 "cells": [
  {
   "cell_type": "code",
   "execution_count": 1,
   "metadata": {},
   "outputs": [
    {
     "name": "stdout",
     "output_type": "stream",
     "text": [
      "s3://mist-aggregated-stats-staging/event_generator/ap_last_seen/*\n"
     ]
    }
   ],
   "source": [
    "from pyspark.sql import functions as F\n",
    "# from pyspark.sql.functions import udf, size,\n",
    "\n",
    "\n",
    "import pprint\n",
    "import json\n",
    "# mist-aggregated-stats-production/event_generator/ap_last_seen\n",
    " \n",
    "env = \"production\"\n",
    "env = \"staging\"\n",
    "# DATE = 'dt=2020-08-21'\n",
    "\n",
    "s3_bucket = 's3://mist-aggregated-stats-{env}/event_generator/ap_last_seen/*'.format(env=env) \n",
    "print(s3_bucket)\n",
    "\n",
    "spark.conf.set(\"spark.sql.session.timeZone\", \"PST\")\n",
    " \n",
    "rdd = sc.sequenceFile(s3_bucket).map(lambda x: json.loads(x[1]))\n",
    "#         .persist()"
   ]
  },
  {
   "cell_type": "code",
   "execution_count": 2,
   "metadata": {},
   "outputs": [
    {
     "name": "stdout",
     "output_type": "stream",
     "text": [
      "root\n",
      " |-- org_id: string (nullable = true)\n",
      " |-- site_id: string (nullable = true)\n",
      " |-- ap_id: string (nullable = true)\n",
      " |-- model: string (nullable = true)\n",
      " |-- firmware_version: string (nullable = true)\n",
      " |-- terminator_timestamp: long (nullable = true)\n",
      "\n"
     ]
    }
   ],
   "source": [
    "\n",
    "from pyspark import *\n",
    "from pyspark.sql import *\n",
    "from pyspark.sql.types import *\n",
    "ff = {'org_id': StringType,\n",
    "      'site_id': StringType,\n",
    "      'ap_id': StringType,\n",
    "      'model': StringType,\n",
    "      'firmware_version': StringType,\n",
    "      'terminator_timestamp': LongType}\n",
    "fields = [StructField(k, v()) for k,v in ff.items()]\n",
    "schema = StructType(fields)\n",
    "\n",
    "\n",
    "# spark = SparkSession.builder.appName('fun').getOrCreate()\n",
    "\n",
    "# df_ap = spark.CreateDataFrame(rdd, schema)\n",
    "\n",
    "df_ap = spark.createDataFrame(rdd, schema)\n",
    "\n",
    "# df_ap = rdd.toDF()\n",
    "df_ap.printSchema()"
   ]
  },
  {
   "cell_type": "code",
   "execution_count": 3,
   "metadata": {},
   "outputs": [],
   "source": [
    "\n",
    "df_ap = df_ap.withColumnRenamed(\"org_id\", \"org\")\\\n",
    "        .withColumnRenamed(\"site_id\", \"site\")\\\n",
    "        .withColumnRenamed(\"ap_id\", \"ap\")"
   ]
  },
  {
   "cell_type": "code",
   "execution_count": 4,
   "metadata": {},
   "outputs": [
    {
     "name": "stdout",
     "output_type": "stream",
     "text": [
      "+------------------------------------+-----+\n",
      "|site                                |count|\n",
      "+------------------------------------+-----+\n",
      "|a8178443-ecb5-461c-b854-f16627619ab3|87   |\n",
      "|d2b17985-9fa5-495e-913c-3ce6be2d4b1b|18   |\n",
      "|6db15e18-bc94-11e5-91a9-1258369c38a9|8    |\n",
      "|ee915a44-b963-11e5-b14c-1258369c38a9|8    |\n",
      "|7d8e871f-347e-4655-9dc3-5351d102ad56|7    |\n",
      "|c3b8f61c-c5a2-495d-9a5c-9b129624e9bf|6    |\n",
      "|20913e84-baea-414c-8019-8b02424d2840|5    |\n",
      "|fc656275-b157-43fd-b922-5f4f341c19bf|5    |\n",
      "|697245d3-e0eb-4dc5-97ea-d176dbbab739|5    |\n",
      "|67970e46-4e12-11e6-9188-0242ac110007|5    |\n",
      "+------------------------------------+-----+\n",
      "only showing top 10 rows\n",
      "\n"
     ]
    }
   ],
   "source": [
    "df_site_ap = df_ap.select(\"site\", \"ap\").groupBy(\"site\").count().orderBy(\"count\", ascending=False)\n",
    "df_site_ap.show(10, False)\n"
   ]
  },
  {
   "cell_type": "code",
   "execution_count": 5,
   "metadata": {},
   "outputs": [],
   "source": [
    "import pandas as pd"
   ]
  },
  {
   "cell_type": "code",
   "execution_count": null,
   "metadata": {},
   "outputs": [],
   "source": []
  },
  {
   "cell_type": "code",
   "execution_count": 14,
   "metadata": {},
   "outputs": [],
   "source": [
    "df_pd = df_site_ap.toPandas()"
   ]
  },
  {
   "cell_type": "code",
   "execution_count": 23,
   "metadata": {},
   "outputs": [
    {
     "data": {
      "image/png": "[encoded data removed]",
      "text/plain": [
       "<Figure size 432x288 with 1 Axes>"
      ]
     },
     "metadata": {
      "needs_background": "light"
     },
     "output_type": "display_data"
    }
   ],
   "source": [
    "import matplotlib\n",
    "import matplotlib.pyplot as plt\n",
    "%matplotlib inline\n",
    "\n",
    "\n",
    "# df_pd.plot(kind=\"hist\", x=\"count\")\n",
    "\n",
    "plt.hist(df_pd[\"count\"], bins=100)\n",
    "plt.xlabel(\"#APs in site\")\n",
    "plt.ylabel(\"#sites\")\n",
    "# plt.set_yscale(\"Log\")\n",
    "# ax.set_yscale('log')\n",
    "# plt.set_loglevel()\n",
    "plt.yscale(\"log\")"
   ]
  },
  {
   "cell_type": "code",
   "execution_count": 17,
   "metadata": {},
   "outputs": [
    {
     "data": {
      "text/plain": [
       "<matplotlib.axes._subplots.AxesSubplot at 0x11d75cf90>"
      ]
     },
     "execution_count": 17,
     "metadata": {},
     "output_type": "execute_result"
    },
    {
     "data": {
      "image/png": "[encoded data removed]",
      "text/plain": [
       "<Figure size 432x288 with 1 Axes>"
      ]
     },
     "metadata": {
      "needs_background": "light"
     },
     "output_type": "display_data"
    }
   ],
   "source": [
    "df_pd.plot(kind=\"hist\", y=\"count\")"
   ]
  },
  {
   "cell_type": "code",
   "execution_count": null,
   "metadata": {},
   "outputs": [],
   "source": []
  }
 ],
 "metadata": {
  "kernelspec": {
   "display_name": "Python 3",
   "language": "python",
   "name": "python3"
  },
  "language_info": {
   "codemirror_mode": {
    "name": "ipython",
    "version": 3
   },
   "file_extension": ".py",
   "mimetype": "text/x-python",
   "name": "python",
   "nbconvert_exporter": "python",
   "pygments_lexer": "ipython3",
   "version": "3.7.4"
  }
 },
 "nbformat": 4,
 "nbformat_minor": 4
}
