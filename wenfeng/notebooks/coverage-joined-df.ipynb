{
 "cells": [
  {
   "cell_type": "code",
   "execution_count": 1,
   "metadata": {},
   "outputs": [],
   "source": [
    "\n",
    "import pyspark.sql.functions as F\n",
    "from pyspark.sql.functions import udf, size, avg, count, col,sum, explode\n",
    "import json\n",
    "from pyspark.sql.types import *"
   ]
  },
  {
   "cell_type": "code",
   "execution_count": 2,
   "metadata": {},
   "outputs": [],
   "source": [
    "s3_out_bucket = \"s3://mist-test-bucket/wenfeng/df-joined/\"\n",
    "# df_joined.write.parquet(s3_out_bucket)\n",
    "df_joined = spark.read.parquet(s3_out_bucket)"
   ]
  },
  {
   "cell_type": "code",
   "execution_count": 3,
   "metadata": {},
   "outputs": [
    {
     "name": "stdout",
     "output_type": "stream",
     "text": [
      "root\n",
      " |-- org: string (nullable = true)\n",
      " |-- site: string (nullable = true)\n",
      " |-- ap: string (nullable = true)\n",
      " |-- model: string (nullable = true)\n",
      " |-- firmware_version: string (nullable = true)\n",
      " |-- terminator_timestamp: long (nullable = true)\n",
      " |-- cov_ap: string (nullable = true)\n",
      " |-- avg_nclients: double (nullable = true)\n",
      " |-- sle_coverage: double (nullable = true)\n",
      " |-- coverage_anomaly_score: double (nullable = true)\n",
      " |-- coverage_anomaly_count: long (nullable = true)\n",
      " |-- ap_sticky: string (nullable = true)\n",
      " |-- sticky_count: long (nullable = true)\n",
      " |-- ap1: string (nullable = true)\n",
      " |-- ap2: string (nullable = true)\n",
      " |-- rssi: double (nullable = true)\n",
      " |-- ap_2: string (nullable = true)\n",
      " |-- coverage_anomaly_count_2: long (nullable = true)\n",
      "\n"
     ]
    }
   ],
   "source": [
    "df_joined.printSchema()"
   ]
  },
  {
   "cell_type": "code",
   "execution_count": 4,
   "metadata": {},
   "outputs": [
    {
     "data": {
      "text/plain": [
       "3755578"
      ]
     },
     "execution_count": 4,
     "metadata": {},
     "output_type": "execute_result"
    }
   ],
   "source": [
    "df_joined.count()"
   ]
  },
  {
   "cell_type": "code",
   "execution_count": 5,
   "metadata": {},
   "outputs": [
    {
     "name": "stdout",
     "output_type": "stream",
     "text": [
      "+--------------------+--------------------+------------+--------+--------------------+--------------------+------+------------+------------+----------------------+----------------------+---------+------------+------------+------------+-----+------------+------------------------+\n",
      "|                 org|                site|          ap|   model|    firmware_version|terminator_timestamp|cov_ap|avg_nclients|sle_coverage|coverage_anomaly_score|coverage_anomaly_count|ap_sticky|sticky_count|         ap1|         ap2| rssi|        ap_2|coverage_anomaly_count_2|\n",
      "+--------------------+--------------------+------------+--------+--------------------+--------------------+------+------------+------------+----------------------+----------------------+---------+------------+------------+------------+-----+------------+------------------------+\n",
      "|bbb101eb-b62d-4fb...|1cb4c485-9dea-4a1...|5c5b350e9ecb|AP41E-US|apfw-0.5.17360-el...|       1598506189801|  null|        null|        null|                  null|                  null|     null|        null|5c5b350e9ecb|5c5b359f1b20|-73.0|5c5b359f1b20|                    null|\n",
      "|bbb101eb-b62d-4fb...|1cb4c485-9dea-4a1...|5c5b350e9ecb|AP41E-US|apfw-0.5.17360-el...|       1598506189801|  null|        null|        null|                  null|                  null|     null|        null|5c5b350e9ecb|5c5b359f1b20|-69.0|5c5b359f1b20|                    null|\n",
      "+--------------------+--------------------+------------+--------+--------------------+--------------------+------+------------+------------+----------------------+----------------------+---------+------------+------------+------------+-----+------------+------------------------+\n",
      "only showing top 2 rows\n",
      "\n"
     ]
    }
   ],
   "source": [
    "df_joined.show(2)"
   ]
  },
  {
   "cell_type": "code",
   "execution_count": 6,
   "metadata": {},
   "outputs": [],
   "source": [
    "# df_joined = df_joined_new"
   ]
  },
  {
   "cell_type": "code",
   "execution_count": 7,
   "metadata": {},
   "outputs": [
    {
     "name": "stdout",
     "output_type": "stream",
     "text": [
      "root\n",
      " |-- org: string (nullable = true)\n",
      " |-- site: string (nullable = true)\n",
      " |-- ap: string (nullable = true)\n",
      " |-- coverage_anomaly_count: double (nullable = true)\n",
      " |-- strong_neighbors: long (nullable = false)\n",
      " |-- neighbor_anomaly: long (nullable = true)\n",
      "\n",
      "+--------------------+--------------------+------------+----------------------+----------------+----------------+\n",
      "|                 org|                site|          ap|coverage_anomaly_count|strong_neighbors|neighbor_anomaly|\n",
      "+--------------------+--------------------+------------+----------------------+----------------+----------------+\n",
      "|05ecd967-81cf-492...|1e4b4e3c-07f7-4e3...|5c5b355019b9|                  null|               9|            null|\n",
      "|56de201d-e63b-431...|5e8fe474-a9ee-4d0...|5c5b35bf4f78|                  null|              28|            null|\n",
      "+--------------------+--------------------+------------+----------------------+----------------+----------------+\n",
      "only showing top 2 rows\n",
      "\n"
     ]
    }
   ],
   "source": [
    "df_joined_g = df_joined.select(\"org\", \"site\", \"ap\", \"coverage_anomaly_count\", \"sticky_count\", \"ap2\", \"coverage_anomaly_count_2\")\\\n",
    "        .groupBy(\"org\", \"site\", \"ap\")\\\n",
    "        .agg( F.avg(\"coverage_anomaly_count\").alias(\"coverage_anomaly_count\"),\n",
    "              F.countDistinct(\"ap2\").alias(\"strong_neighbors\"),\n",
    "              F.max(\"coverage_anomaly_count_2\").alias(\"neighbor_anomaly\")\n",
    "            )\n",
    "\n",
    "df_joined_g.printSchema()\n",
    "df_joined_g.show(2)"
   ]
  },
  {
   "cell_type": "code",
   "execution_count": 8,
   "metadata": {},
   "outputs": [
    {
     "data": {
      "text/plain": [
       "6179"
      ]
     },
     "execution_count": 8,
     "metadata": {},
     "output_type": "execute_result"
    }
   ],
   "source": [
    "df_joined_g = df_joined_g.filter(F.col(\"coverage_anomaly_count\")>1)#.count()\n",
    "df_joined_g.count()"
   ]
  },
  {
   "cell_type": "code",
   "execution_count": null,
   "metadata": {},
   "outputs": [],
   "source": []
  },
  {
   "cell_type": "code",
   "execution_count": 9,
   "metadata": {},
   "outputs": [
    {
     "name": "stdout",
     "output_type": "stream",
     "text": [
      "+------------------------------------+-----+\n",
      "|org                                 |count|\n",
      "+------------------------------------+-----+\n",
      "|bbb101eb-b62d-4fb1-8c3d-030c6db7e208|2755 |\n",
      "|604411f1-4e45-4bed-9a69-cc37b247fdf9|508  |\n",
      "|c1cac1c4-1753-4dde-a065-e17a1c305c2d|362  |\n",
      "|d8cec22e-e0c2-11e5-8d0f-02e208b2d34f|295  |\n",
      "|a8c903ae-e6d0-42a7-b815-fe395dea8017|181  |\n",
      "|9e705fa5-fe73-4723-9cce-848a131f5669|152  |\n",
      "|a7cc1161-cb41-4e5d-aa41-118a1f06cd12|112  |\n",
      "|d9ca39f2-a2cd-40af-b095-eecfbeeb8a12|111  |\n",
      "|20101562-d4f8-41aa-aaa9-98349d78dfa0|110  |\n",
      "|2eed5700-cb1e-4256-8aa3-73cb580af144|105  |\n",
      "|f5451dc6-aa80-4d1c-a49a-dede30b6d878|89   |\n",
      "|3362755c-5ef1-46d8-b541-f576a81f600d|85   |\n",
      "|0f2adb1c-8843-448f-8753-91a3d2fdbd14|58   |\n",
      "|39b04356-4cc3-41cc-bc1a-5de54beb1941|48   |\n",
      "|95c2ff76-5b0a-47b4-a162-de9c4d3c46ba|43   |\n",
      "|4924c44b-9199-468d-9018-c142e19b485f|40   |\n",
      "|56de201d-e63b-4312-9858-40f4cfe35c7f|39   |\n",
      "|2cfa8ba7-0bc5-460b-abd1-babf186740b2|38   |\n",
      "|22f1cc2d-ea8a-47ea-b4c0-689a86a0bedf|34   |\n",
      "|af1e02c2-0164-4cbc-921a-96eb2a1c471a|32   |\n",
      "+------------------------------------+-----+\n",
      "only showing top 20 rows\n",
      "\n"
     ]
    }
   ],
   "source": [
    "df_joined_g.select(\"org\", \"site\").groupBy(\"org\").count().orderBy(\"count\", ascending=False).show(truncate=False)"
   ]
  },
  {
   "cell_type": "code",
   "execution_count": 10,
   "metadata": {
    "scrolled": true
   },
   "outputs": [
    {
     "name": "stdout",
     "output_type": "stream",
     "text": [
      "+------------------------------------+-----+\n",
      "|site                                |count|\n",
      "+------------------------------------+-----+\n",
      "|3cf29ebc-21f1-49e5-9956-25495fe8f41b|105  |\n",
      "|cad89db4-2600-4682-9b22-77c717a213e4|49   |\n",
      "|8f5a55eb-5d99-4c97-bd26-754acf4f7202|42   |\n",
      "|64f4d304-5015-4777-911f-d71e809397c2|38   |\n",
      "|b3c32004-a0dc-4353-b697-1065fbd4f639|36   |\n",
      "|a799e12a-fc28-4ce7-a563-c2dd6d498e2f|32   |\n",
      "|8bc13d5c-d055-40ce-8947-56bf5d10eff0|30   |\n",
      "|5e8fe474-a9ee-4d01-a2b6-b022b0f9c869|25   |\n",
      "|a860b00f-d96c-4f56-9188-27f5ce050c0f|24   |\n",
      "|7404fed5-5bee-4564-b594-6e421d123ea7|22   |\n",
      "|bbcb4791-0591-45d4-bf06-3dd1415d8722|19   |\n",
      "|d25f5ff6-9d3d-4eed-9254-d1bad8ab848a|18   |\n",
      "|28a11fdb-7d32-4abc-b8c0-c1eda38b9f92|17   |\n",
      "|4c65a957-51a1-4c64-ad95-a20f04de3972|15   |\n",
      "|e0e7ada3-59bb-4189-8e1f-ca489812828c|15   |\n",
      "|8e3136b2-f3e9-4606-9960-e41c159d129e|14   |\n",
      "|cd383432-f948-4292-b91f-473689f3c0ba|14   |\n",
      "|1daacf56-5f45-4afd-a460-0051d15280b8|14   |\n",
      "|5d5f4381-b859-449b-b055-e20776b65aa7|13   |\n",
      "|60793c80-742a-4cde-8fb2-a230f289ccfd|12   |\n",
      "+------------------------------------+-----+\n",
      "only showing top 20 rows\n",
      "\n"
     ]
    }
   ],
   "source": [
    "df_joined_g.select( \"site\", \"ap\").groupBy(\"site\").count().orderBy(\"count\", ascending=False).show(truncate=False)"
   ]
  },
  {
   "cell_type": "code",
   "execution_count": null,
   "metadata": {},
   "outputs": [],
   "source": []
  },
  {
   "cell_type": "code",
   "execution_count": null,
   "metadata": {},
   "outputs": [],
   "source": []
  },
  {
   "cell_type": "code",
   "execution_count": 11,
   "metadata": {},
   "outputs": [
    {
     "name": "stdout",
     "output_type": "stream",
     "text": [
      "+-------+-------------------+\n",
      "|summary|  ap_coverage_score|\n",
      "+-------+-------------------+\n",
      "|  count|               6179|\n",
      "|   mean| 0.7162809387189436|\n",
      "| stddev|0.19935234525582432|\n",
      "|    min|                0.5|\n",
      "|    max|                0.9|\n",
      "+-------+-------------------+\n",
      "\n"
     ]
    }
   ],
   "source": [
    "# TODO:  Testing purpose\n",
    "def coverage_score(nclients, sle_coverage, sle_coverage_anomaly_dev, coverage_anomaly_count):\n",
    "    \"\"\"\n",
    "    AP's coverage score, combining sle_coverage, anomalies and connected clients\n",
    "    \n",
    "    :param nclients:\n",
    "    :param sle_coverage:\n",
    "    :param sle_coverage_anomaly_dev:\n",
    "    :param coverage_anomaly_count:\n",
    "    :return:\n",
    "    \"\"\"\n",
    "    # score = 0.0\n",
    "    # nclients = nclients or 1.0\n",
    "    # sle_coverage\n",
    "    if sle_coverage and nclients and sle_coverage_anomaly_dev and coverage_anomaly_count:\n",
    "        score = (1.0 - sle_coverage) * \\\n",
    "                sigmoid(nclients - 1.0) * \\\n",
    "                sigmoid(sle_coverage_anomaly_dev - 2.0) * \\\n",
    "                sigmoid(coverage_anomaly_count - 2)\n",
    "    else:\n",
    "        score = 0.0\n",
    "    return float(score)\n",
    "coverage_score = func.udf(coverage_score, FloatType())\n",
    "\n",
    "\n",
    "\n",
    "def ap_coverage_severity_score(sle_coverage_anomaly_score,sticky_count, strong_neighbors=0, neighbor_anomaly=None, tx_rx_utl=1.0):\n",
    "    \"\"\"\n",
    "    TODO: to be improved, use the simplied formula for testing.\n",
    "     Coverage Severity score, combining neighbor's impacting.\n",
    "    :param sle_coverage_anomaly_score:\n",
    "    :param strong_neighbors:\n",
    "    :param neighbor_anomaly:\n",
    "    :param tx_rx_utl:\n",
    "    :return:\n",
    "    \"\"\"\n",
    "\n",
    "    score = 0.7 * sle_coverage_anomaly_score\n",
    "\n",
    "    if neighbor_anomaly and neighbor_anomaly > 0:\n",
    "        score += 0.3 * neighbor_anomaly\n",
    "    else:\n",
    "        if strong_neighbors and strong_neighbors < 1:\n",
    "            score += 0.2\n",
    "        else:\n",
    "            score -= np.log(strong_neighbors)\n",
    "\n",
    "    score = score * tx_rx_utl\n",
    "    return float(score)\n",
    "\n",
    "ap_coverage_severity_score = func.udf(ap_coverage_severity_score, FloatType())\n",
    "\n",
    "\n",
    "\n",
    "\n",
    "def ap_coverage_score(sle_coverage_anomaly_score, strong_neighbors=0, neighbor_anomaly=None, tx_rx_utl= 1.0):\n",
    "    score = 0.0\n",
    "    if sle_coverage_anomaly_score and sle_coverage_anomaly_score>3:\n",
    "        score = 0.5\n",
    "    if strong_neighbors and strong_neighbors < 1:\n",
    "        score += 0.2\n",
    "    if neighbor_anomaly and neighbor_anomaly > 0:\n",
    "        score += 0.4\n",
    "    score = score * tx_rx_utl\n",
    "    return score\n",
    "\n",
    "ap_coverage_score = F.udf(ap_coverage_score, FloatType())\n",
    "df_joined_g = df_joined_g.withColumn(\"ap_coverage_score\", ap_coverage_score(F.col(\"coverage_anomaly_count\"),\n",
    "                                                                            F.col(\"strong_neighbors\"),\n",
    "                                                                            F.col(\"neighbor_anomaly\"))\n",
    "                                     )\n",
    "\n",
    "\n",
    "df_joined_g.select(\"ap_coverage_score\").describe().show()\n"
   ]
  },
  {
   "cell_type": "markdown",
   "metadata": {},
   "source": [
    "\n",
    "* Amazon Sites:  GEG1  Coverage > 90%   =>  expect 0 anomaly \n",
    "org_id=56de201d-e63b-4312-9858-40f4cfe3 \n",
    "site_id=5c7f5e8fe474-a9ee-4d01-a2b6-b022b0f9c869\n",
    "\n",
    "DXW2\n",
    "\n",
    "site_id=813724d1-0a77-4898-8d05-7f0e8bdc76ba\n",
    "org_id=d8cec22e-e0c2-11e5-8d0f-02e208b2d34f\n",
    "\n",
    "\n",
    "ORG - UPS CAMPUS,    SITE - USNJPRS\n",
    "\n",
    "https://manage.mist.com/admin/?org_id=d6a1ec7f-a046-4d6b-b7fc-351ec9144d52#!dashboard/serviceLevels/site/09df1500-f1b3-4501-a805-7af21a1fb90f/today/1598857200/1598915607/09df1500-f1b3-4501-a805-7af21a1fb90f\n",
    "\n",
    "* Sam's club: store 4989,   ==> true-positive \n",
    "\n",
    "\n",
    "ORG - TARGET CORPORATION,    SITE - T2456\n",
    "\n"
   ]
  },
  {
   "cell_type": "code",
   "execution_count": 12,
   "metadata": {},
   "outputs": [
    {
     "name": "stdout",
     "output_type": "stream",
     "text": [
      "+-------+-----------------+\n",
      "|summary|ap_coverage_score|\n",
      "+-------+-----------------+\n",
      "|  count|             6179|\n",
      "|    min|              0.5|\n",
      "|    25%|              0.5|\n",
      "|    50%|              0.9|\n",
      "|    75%|              0.9|\n",
      "|    90%|              0.9|\n",
      "|    max|              0.9|\n",
      "+-------+-----------------+\n",
      "\n"
     ]
    }
   ],
   "source": [
    "df_joined_g.select(\"ap_coverage_score\").summary(\"count\", \"min\", \"25%\", \"50%\", \"75%\", \"90%\", \"max\").show()\n"
   ]
  },
  {
   "cell_type": "code",
   "execution_count": null,
   "metadata": {},
   "outputs": [],
   "source": []
  },
  {
   "cell_type": "code",
   "execution_count": 13,
   "metadata": {},
   "outputs": [
    {
     "name": "stdout",
     "output_type": "stream",
     "text": [
      "+-------+----------------------+-----------------+------------------+\n",
      "|summary|coverage_anomaly_count| strong_neighbors|  neighbor_anomaly|\n",
      "+-------+----------------------+-----------------+------------------+\n",
      "|  count|                  6179|             6179|              3341|\n",
      "|   mean|     8.774235313157469|10.69072665479851|10.752768632146065|\n",
      "| stddev|     5.113285406033036|7.592336301448713| 5.518770009902696|\n",
      "|    min|                   4.0|                0|                 4|\n",
      "|    25%|                   6.0|                4|                 8|\n",
      "|    50%|                   8.0|               11|                10|\n",
      "|    75%|                  11.0|               15|                13|\n",
      "|    max|                 128.0|               85|               111|\n",
      "+-------+----------------------+-----------------+------------------+\n",
      "\n"
     ]
    }
   ],
   "source": [
    "df_joined_g.select(\"coverage_anomaly_count\", \"strong_neighbors\", \"neighbor_anomaly\").summary().show()"
   ]
  },
  {
   "cell_type": "code",
   "execution_count": 14,
   "metadata": {},
   "outputs": [
    {
     "name": "stdout",
     "output_type": "stream",
     "text": [
      "+--------------------+-----+\n",
      "|                 org|sites|\n",
      "+--------------------+-----+\n",
      "|bbb101eb-b62d-4fb...|  848|\n",
      "|c1cac1c4-1753-4dd...|  312|\n",
      "|604411f1-4e45-4be...|  271|\n",
      "|a8c903ae-e6d0-42a...|  179|\n",
      "|d8cec22e-e0c2-11e...|  176|\n",
      "|a7cc1161-cb41-4e5...|   96|\n",
      "|20101562-d4f8-41a...|   92|\n",
      "|f5451dc6-aa80-4d1...|   83|\n",
      "|3e22763b-582c-4ea...|   25|\n",
      "|0f2adb1c-8843-448...|   24|\n",
      "|22f1cc2d-ea8a-47e...|   20|\n",
      "|d9ca39f2-a2cd-40a...|   19|\n",
      "|5a578f3c-f094-4d1...|   19|\n",
      "|39b04356-4cc3-41c...|   19|\n",
      "|9e705fa5-fe73-472...|   18|\n",
      "|7194b7fe-29f2-425...|   17|\n",
      "|e1bde705-bd39-408...|   13|\n",
      "|5cc036bb-1f32-4f3...|   13|\n",
      "|95c2ff76-5b0a-47b...|   12|\n",
      "|02a5ad6b-c0d2-4cf...|   12|\n",
      "+--------------------+-----+\n",
      "only showing top 20 rows\n",
      "\n",
      "impacting-ORGs 343\n",
      "+-------+-----+\n",
      "|summary|sites|\n",
      "+-------+-----+\n",
      "|  count|  343|\n",
      "|    min|    1|\n",
      "|    50%|    1|\n",
      "|    75%|    2|\n",
      "|    90%|    6|\n",
      "|    95%|   13|\n",
      "|    99%|  179|\n",
      "|    max|  848|\n",
      "+-------+-----+\n",
      "\n"
     ]
    }
   ],
   "source": [
    "df_org_sites = df_joined_g.select(\"org\", \"site\")\\\n",
    "    .groupBy(\"org\").agg(F.countDistinct(\"site\").alias(\"sites\"))\\\n",
    "    .orderBy(\"sites\",ascending=False)\n",
    "df_org_sites.show()\n",
    "\n",
    "print(\"impacting-ORGs {}\".format( df_org_sites.count() ))\n",
    "# df_org_sites.select(\"sites\").summary().show()\n",
    "df_org_sites.select(\"sites\").summary(\"count\", \"min\", \"50%\", \"75%\", \"90%\", \"95%\", \"99%\", \"max\").show()"
   ]
  },
  {
   "cell_type": "code",
   "execution_count": 15,
   "metadata": {},
   "outputs": [
    {
     "name": "stdout",
     "output_type": "stream",
     "text": [
      "+-------+-----+\n",
      "|summary|sites|\n",
      "+-------+-----+\n",
      "|  count|  343|\n",
      "|    min|    1|\n",
      "|    50%|    1|\n",
      "|    75%|    2|\n",
      "|    90%|    6|\n",
      "|    95%|   13|\n",
      "|    99%|  179|\n",
      "|    max|  848|\n",
      "+-------+-----+\n",
      "\n"
     ]
    }
   ],
   "source": [
    "df_org_sites.select(\"sites\").summary(\"count\", \"min\", \"50%\", \"75%\", \"90%\", \"95%\", \"99%\", \"max\").show()"
   ]
  },
  {
   "cell_type": "code",
   "execution_count": 33,
   "metadata": {},
   "outputs": [
    {
     "name": "stdout",
     "output_type": "stream",
     "text": [
      "+------------------------------------+---+\n",
      "|site                                |aps|\n",
      "+------------------------------------+---+\n",
      "|3cf29ebc-21f1-49e5-9956-25495fe8f41b|105|\n",
      "|cad89db4-2600-4682-9b22-77c717a213e4|49 |\n",
      "|8f5a55eb-5d99-4c97-bd26-754acf4f7202|42 |\n",
      "|64f4d304-5015-4777-911f-d71e809397c2|38 |\n",
      "|b3c32004-a0dc-4353-b697-1065fbd4f639|36 |\n",
      "|a799e12a-fc28-4ce7-a563-c2dd6d498e2f|32 |\n",
      "|8bc13d5c-d055-40ce-8947-56bf5d10eff0|30 |\n",
      "|5e8fe474-a9ee-4d01-a2b6-b022b0f9c869|25 |\n",
      "|a860b00f-d96c-4f56-9188-27f5ce050c0f|24 |\n",
      "|7404fed5-5bee-4564-b594-6e421d123ea7|22 |\n",
      "|bbcb4791-0591-45d4-bf06-3dd1415d8722|19 |\n",
      "|d25f5ff6-9d3d-4eed-9254-d1bad8ab848a|18 |\n",
      "|28a11fdb-7d32-4abc-b8c0-c1eda38b9f92|17 |\n",
      "|4c65a957-51a1-4c64-ad95-a20f04de3972|15 |\n",
      "|e0e7ada3-59bb-4189-8e1f-ca489812828c|15 |\n",
      "|8e3136b2-f3e9-4606-9960-e41c159d129e|14 |\n",
      "|cd383432-f948-4292-b91f-473689f3c0ba|14 |\n",
      "|1daacf56-5f45-4afd-a460-0051d15280b8|14 |\n",
      "|5d5f4381-b859-449b-b055-e20776b65aa7|13 |\n",
      "|60793c80-742a-4cde-8fb2-a230f289ccfd|12 |\n",
      "+------------------------------------+---+\n",
      "only showing top 20 rows\n",
      "\n",
      "impacting-Sites 2828\n"
     ]
    }
   ],
   "source": []
  },
  {
   "cell_type": "code",
   "execution_count": null,
   "metadata": {},
   "outputs": [],
   "source": []
  },
  {
   "cell_type": "code",
   "execution_count": 17,
   "metadata": {},
   "outputs": [
    {
     "name": "stdout",
     "output_type": "stream",
     "text": [
      "+-------+----+\n",
      "|summary| aps|\n",
      "+-------+----+\n",
      "|  count|2828|\n",
      "|    min|   1|\n",
      "|    50%|   1|\n",
      "|    75%|   3|\n",
      "|    90%|   4|\n",
      "|    95%|   6|\n",
      "|    99%|  10|\n",
      "|    max| 105|\n",
      "+-------+----+\n",
      "\n"
     ]
    }
   ],
   "source": [
    "df_site_aps.select(\"aps\").summary(\"count\", \"min\", \"50%\", \"75%\", \"90%\", \"95%\", \"99%\", \"max\").show()"
   ]
  },
  {
   "cell_type": "code",
   "execution_count": null,
   "metadata": {},
   "outputs": [],
   "source": [
    "df_site_aps = df_joined_g.filter(\"select( \"site\", \"ap\").groupBy(\"site\")\\\n",
    "    .agg(F.countDistinct(\"ap\").alias(\"aps\"))\\\n",
    "    .orderBy(\"aps\", ascending=False)\n",
    "\n",
    "df_site_aps.show(truncate=False)\n",
    "print(\"impacting-Sites {}\".format( df_site_aps.count() ) )"
   ]
  },
  {
   "cell_type": "code",
   "execution_count": null,
   "metadata": {},
   "outputs": [],
   "source": []
  },
  {
   "cell_type": "code",
   "execution_count": 34,
   "metadata": {},
   "outputs": [
    {
     "name": "stdout",
     "output_type": "stream",
     "text": [
      "+------------------------------------+---+\n",
      "|site                                |aps|\n",
      "+------------------------------------+---+\n",
      "|3cf29ebc-21f1-49e5-9956-25495fe8f41b|105|\n",
      "|cad89db4-2600-4682-9b22-77c717a213e4|49 |\n",
      "|8f5a55eb-5d99-4c97-bd26-754acf4f7202|42 |\n",
      "|64f4d304-5015-4777-911f-d71e809397c2|38 |\n",
      "|b3c32004-a0dc-4353-b697-1065fbd4f639|36 |\n",
      "|a799e12a-fc28-4ce7-a563-c2dd6d498e2f|32 |\n",
      "|8bc13d5c-d055-40ce-8947-56bf5d10eff0|30 |\n",
      "|5e8fe474-a9ee-4d01-a2b6-b022b0f9c869|25 |\n",
      "|a860b00f-d96c-4f56-9188-27f5ce050c0f|24 |\n",
      "|7404fed5-5bee-4564-b594-6e421d123ea7|22 |\n",
      "|bbcb4791-0591-45d4-bf06-3dd1415d8722|19 |\n",
      "|d25f5ff6-9d3d-4eed-9254-d1bad8ab848a|18 |\n",
      "|28a11fdb-7d32-4abc-b8c0-c1eda38b9f92|17 |\n",
      "|4c65a957-51a1-4c64-ad95-a20f04de3972|15 |\n",
      "|e0e7ada3-59bb-4189-8e1f-ca489812828c|15 |\n",
      "|8e3136b2-f3e9-4606-9960-e41c159d129e|14 |\n",
      "|cd383432-f948-4292-b91f-473689f3c0ba|14 |\n",
      "|1daacf56-5f45-4afd-a460-0051d15280b8|14 |\n",
      "|5d5f4381-b859-449b-b055-e20776b65aa7|13 |\n",
      "|60793c80-742a-4cde-8fb2-a230f289ccfd|12 |\n",
      "+------------------------------------+---+\n",
      "only showing top 20 rows\n",
      "\n",
      "impacting-Sites 2828\n"
     ]
    }
   ],
   "source": [
    "df_site_aps = df_joined_g.filter(F.col(\"coverage_anomaly_count\")>3).select( \"site\", \"ap\").groupBy(\"site\")\\\n",
    "    .agg(F.countDistinct(\"ap\").alias(\"aps\"))\\\n",
    "    .orderBy(\"aps\", ascending=False)\n",
    "\n",
    "df_site_aps.show(truncate=False)\n",
    "print(\"impacting-Sites {}\".format( df_site_aps.count() ) )"
   ]
  },
  {
   "cell_type": "code",
   "execution_count": null,
   "metadata": {},
   "outputs": [],
   "source": []
  },
  {
   "cell_type": "code",
   "execution_count": null,
   "metadata": {},
   "outputs": [],
   "source": []
  },
  {
   "cell_type": "code",
   "execution_count": 18,
   "metadata": {},
   "outputs": [
    {
     "name": "stdout",
     "output_type": "stream",
     "text": [
      "+------------------------------------+------------------------------------+------------+----------------------+----------------+----------------+-----------------+\n",
      "|org                                 |site                                |ap          |coverage_anomaly_count|strong_neighbors|neighbor_anomaly|ap_coverage_score|\n",
      "+------------------------------------+------------------------------------+------------+----------------------+----------------+----------------+-----------------+\n",
      "|604411f1-4e45-4bed-9a69-cc37b247fdf9|1b09e83e-495e-4911-9b54-e3197ace36f4|5c5b35bf0711|7.0                   |14              |null            |0.5              |\n",
      "|604411f1-4e45-4bed-9a69-cc37b247fdf9|5c61a89e-13ba-4d89-bd6c-168cbd3d4e49|5c5b35aef0f5|6.0                   |15              |16              |0.9              |\n",
      "|604411f1-4e45-4bed-9a69-cc37b247fdf9|0b236c13-45a4-480e-8b0d-6f5031a35faa|5c5b35bf0009|12.0                  |10              |5               |0.9              |\n",
      "|604411f1-4e45-4bed-9a69-cc37b247fdf9|5bf82f98-963d-4966-b1ac-37ec9d5d5a45|5c5b35ae750d|11.0                  |10              |null            |0.5              |\n",
      "|604411f1-4e45-4bed-9a69-cc37b247fdf9|413d1996-aa98-454f-9592-609b3d7f901e|5c5b3552354b|8.0                   |11              |null            |0.5              |\n",
      "|604411f1-4e45-4bed-9a69-cc37b247fdf9|ed704546-a98c-4427-b8fd-02ca553664b0|5c5b35ae6a6d|7.0                   |10              |null            |0.5              |\n",
      "|604411f1-4e45-4bed-9a69-cc37b247fdf9|71a6aa38-8ad8-4365-9834-1a50e7452b8e|5c5b3550e1cd|5.0                   |13              |5               |0.9              |\n",
      "|604411f1-4e45-4bed-9a69-cc37b247fdf9|7669d4ad-4bae-4aa1-9cf5-0e967ffe8322|5c5b3551855b|7.0                   |9               |15              |0.9              |\n",
      "|604411f1-4e45-4bed-9a69-cc37b247fdf9|cd1cc26d-c581-40aa-8340-cba7def69294|5c5b35aea72b|8.0                   |12              |null            |0.5              |\n",
      "|604411f1-4e45-4bed-9a69-cc37b247fdf9|839de83d-0de1-484f-9411-6e5e94845de7|5c5b35518fec|8.0                   |15              |17              |0.9              |\n",
      "|604411f1-4e45-4bed-9a69-cc37b247fdf9|8bb0b1be-25b2-41f9-85ec-fbd3dcf2ad1c|5c5b3551c24b|13.0                  |18              |13              |0.9              |\n",
      "|604411f1-4e45-4bed-9a69-cc37b247fdf9|1b7b9057-d8de-4e96-8ac6-b27b43ed4be0|5c5b3551b7f1|5.0                   |12              |7               |0.9              |\n",
      "|604411f1-4e45-4bed-9a69-cc37b247fdf9|c64b9072-bb5e-4cfa-8ed0-039e4fd05ac0|5c5b355102d4|21.0                  |19              |12              |0.9              |\n",
      "|604411f1-4e45-4bed-9a69-cc37b247fdf9|6a418f8f-540a-4866-b5f8-f9e495675048|5c5b35bee709|11.0                  |10              |null            |0.5              |\n",
      "|604411f1-4e45-4bed-9a69-cc37b247fdf9|07be0f7e-2c9a-4b1f-998f-76e2860a75e3|5c5b35ae518b|6.0                   |14              |11              |0.9              |\n",
      "|604411f1-4e45-4bed-9a69-cc37b247fdf9|38fdd98c-6e7b-4e20-a4b3-fb6bcefeb083|5c5b35ae3c50|8.0                   |9               |null            |0.5              |\n",
      "|604411f1-4e45-4bed-9a69-cc37b247fdf9|447fe715-0c14-45eb-80c7-6d02c5bfd203|5c5b35bef3b6|7.0                   |13              |8               |0.9              |\n",
      "|604411f1-4e45-4bed-9a69-cc37b247fdf9|5609d36c-f330-4a96-98de-1dd8ca6c3315|5c5b35511639|5.0                   |16              |null            |0.5              |\n",
      "|604411f1-4e45-4bed-9a69-cc37b247fdf9|5b188927-f264-4259-8693-1bedfc4db366|5c5b35512949|10.0                  |7               |7               |0.9              |\n",
      "|604411f1-4e45-4bed-9a69-cc37b247fdf9|0e5ae4bb-e454-4cca-ba82-0056de691b11|5c5b35bed96c|13.0                  |10              |11              |0.9              |\n",
      "+------------------------------------+------------------------------------+------------+----------------------+----------------+----------------+-----------------+\n",
      "only showing top 20 rows\n",
      "\n",
      "+------------------------------------+------------------------------------+------------+----------------------+----------------+----------------+-----------------+\n",
      "|org                                 |site                                |ap          |coverage_anomaly_count|strong_neighbors|neighbor_anomaly|ap_coverage_score|\n",
      "+------------------------------------+------------------------------------+------------+----------------------+----------------+----------------+-----------------+\n",
      "|604411f1-4e45-4bed-9a69-cc37b247fdf9|a7092875-257f-43f3-9514-ca1ab688bec0|5c5b35ae16bc|4.0                   |10              |null            |0.5              |\n",
      "+------------------------------------+------------------------------------+------------+----------------------+----------------+----------------+-----------------+\n",
      "\n"
     ]
    }
   ],
   "source": [
    "org_id = \"604411f1-4e45-4bed-9a69-cc37b247fdf9\"\n",
    "site_id = \"a7092875-257f-43f3-9514-ca1ab688bec0\" # Sam's club. 4989\n",
    "\n",
    "#ap403 \n",
    "\n",
    "df_joined_g.filter(F.col(\"org\")== org_id).show(truncate=False)\n",
    "\n",
    "df_joined_g.filter(F.col(\"site\")== site_id).show(truncate=False)"
   ]
  },
  {
   "cell_type": "code",
   "execution_count": null,
   "metadata": {},
   "outputs": [],
   "source": []
  },
  {
   "cell_type": "code",
   "execution_count": null,
   "metadata": {},
   "outputs": [],
   "source": []
  },
  {
   "cell_type": "code",
   "execution_count": null,
   "metadata": {},
   "outputs": [],
   "source": []
  },
  {
   "cell_type": "code",
   "execution_count": 19,
   "metadata": {},
   "outputs": [],
   "source": [
    "import pandas as pd"
   ]
  },
  {
   "cell_type": "code",
   "execution_count": 20,
   "metadata": {},
   "outputs": [],
   "source": [
    "df_pd = df_joined_g.toPandas()"
   ]
  },
  {
   "cell_type": "code",
   "execution_count": 21,
   "metadata": {},
   "outputs": [
    {
     "data": {
      "text/plain": [
       "(6179, 7)"
      ]
     },
     "execution_count": 21,
     "metadata": {},
     "output_type": "execute_result"
    }
   ],
   "source": [
    "df_pd.shape"
   ]
  },
  {
   "cell_type": "code",
   "execution_count": 22,
   "metadata": {},
   "outputs": [
    {
     "data": {
      "text/plain": [
       "6179"
      ]
     },
     "execution_count": 22,
     "metadata": {},
     "output_type": "execute_result"
    }
   ],
   "source": [
    "df_joined_g.count()"
   ]
  },
  {
   "cell_type": "code",
   "execution_count": null,
   "metadata": {},
   "outputs": [],
   "source": []
  },
  {
   "cell_type": "code",
   "execution_count": 23,
   "metadata": {},
   "outputs": [
    {
     "data": {
      "text/plain": [
       "<matplotlib.axes._subplots.AxesSubplot at 0x11dc61d10>"
      ]
     },
     "execution_count": 23,
     "metadata": {},
     "output_type": "execute_result"
    },
    {
     "data": {
      "image/png": "[encoded data removed]",
      "text/plain": [
       "<Figure size 432x288 with 1 Axes>"
      ]
     },
     "metadata": {
      "needs_background": "light"
     },
     "output_type": "display_data"
    }
   ],
   "source": [
    "import matplotlib\n",
    "import matplotlib.pyplot as plt\n",
    "%matplotlib inline\n",
    "\n",
    "df_pd.plot(kind=\"scatter\", x=\"strong_neighbors\", y=\"neighbor_anomaly\")"
   ]
  },
  {
   "cell_type": "code",
   "execution_count": 24,
   "metadata": {},
   "outputs": [
    {
     "data": {
      "image/png": "[encoded data removed]",
      "text/plain": [
       "<Figure size 432x288 with 1 Axes>"
      ]
     },
     "metadata": {
      "needs_background": "light"
     },
     "output_type": "display_data"
    },
    {
     "data": {
      "image/png": "[encoded data removed]",
      "text/plain": [
       "<Figure size 432x288 with 1 Axes>"
      ]
     },
     "metadata": {
      "needs_background": "light"
     },
     "output_type": "display_data"
    },
    {
     "name": "stderr",
     "output_type": "stream",
     "text": [
      "/opt/mistsys/ds_incubator/venv/lib/python3.7/site-packages/numpy/lib/histograms.py:839: RuntimeWarning: invalid value encountered in greater_equal\n",
      "  keep = (tmp_a >= first_edge)\n",
      "/opt/mistsys/ds_incubator/venv/lib/python3.7/site-packages/numpy/lib/histograms.py:840: RuntimeWarning: invalid value encountered in less_equal\n",
      "  keep &= (tmp_a <= last_edge)\n"
     ]
    },
    {
     "data": {
      "image/png": "[encoded data removed]",
      "text/plain": [
       "<Figure size 432x288 with 1 Axes>"
      ]
     },
     "metadata": {
      "needs_background": "light"
     },
     "output_type": "display_data"
    },
    {
     "data": {
      "image/png": "[encoded data removed]",
      "text/plain": [
       "<Figure size 432x288 with 1 Axes>"
      ]
     },
     "metadata": {
      "needs_background": "light"
     },
     "output_type": "display_data"
    }
   ],
   "source": [
    "cols = ['coverage_anomaly_count', 'strong_neighbors', 'neighbor_anomaly', 'ap_coverage_score']\n",
    "for col in cols:\n",
    "    plt.hist(df_pd[col], bins=100)\n",
    "    plt.xlabel(col)\n",
    "    plt.show()\n",
    "    "
   ]
  },
  {
   "cell_type": "code",
   "execution_count": 25,
   "metadata": {},
   "outputs": [
    {
     "data": {
      "text/plain": [
       "<matplotlib.colorbar.Colorbar at 0x1204b2bd0>"
      ]
     },
     "execution_count": 25,
     "metadata": {},
     "output_type": "execute_result"
    },
    {
     "data": {
      "image/png": "[encoded data removed]",
      "text/plain": [
       "<Figure size 432x288 with 2 Axes>"
      ]
     },
     "metadata": {
      "needs_background": "light"
     },
     "output_type": "display_data"
    }
   ],
   "source": [
    "from matplotlib.colors import LogNorm\n",
    "\n",
    "# df_pd[['coverage_anomaly_count', 'strong_neighbors','neighbor_anomaly']].plot(kind=\"scatter\", subplots=True)\n",
    "h2 = plt.hist2d(df_pd['coverage_anomaly_count'], df_pd['neighbor_anomaly'], norm=LogNorm(),bins=(50, 50), range=([0,100],[0,100]))\n",
    "plt.colorbar()\n",
    "# df_pd = df_pd.fillna(0.0)"
   ]
  },
  {
   "cell_type": "code",
   "execution_count": 26,
   "metadata": {},
   "outputs": [
    {
     "data": {
      "text/plain": [
       "<matplotlib.colorbar.Colorbar at 0x1203ebf50>"
      ]
     },
     "execution_count": 26,
     "metadata": {},
     "output_type": "execute_result"
    },
    {
     "data": {
      "image/png": "[encoded data removed]",
      "text/plain": [
       "<Figure size 432x288 with 2 Axes>"
      ]
     },
     "metadata": {
      "needs_background": "light"
     },
     "output_type": "display_data"
    }
   ],
   "source": [
    "h2 = plt.hist2d(df_pd['coverage_anomaly_count'], df_pd['strong_neighbors'], norm=LogNorm(),bins=(50, 50),  range=([0,100],[0,100]))\n",
    "plt.colorbar()"
   ]
  },
  {
   "cell_type": "code",
   "execution_count": 27,
   "metadata": {},
   "outputs": [
    {
     "name": "stdout",
     "output_type": "stream",
     "text": [
      "43253 43253\n"
     ]
    }
   ],
   "source": [
    "df_pd_1 = df_pd[df_pd[\"coverage_anomaly_count\"]>1]\n",
    "print(df_pd.size, df_pd_1.size)\n",
    "# h2 = plt.hist2d(df_pd['coverage_anomaly_count'], df_pd['strong_neighbors'], norm=LogNorm(),bins=(50, 50),  range=([0,100],[0,100]))\n",
    "# plt.colorbar()"
   ]
  },
  {
   "cell_type": "code",
   "execution_count": 28,
   "metadata": {},
   "outputs": [],
   "source": [
    "# df_pd_g."
   ]
  },
  {
   "cell_type": "code",
   "execution_count": 29,
   "metadata": {},
   "outputs": [
    {
     "data": {
      "text/plain": [
       "(6179, 7)"
      ]
     },
     "execution_count": 29,
     "metadata": {},
     "output_type": "execute_result"
    }
   ],
   "source": [
    "df_pd[df_pd['ap_coverage_score']>0.4].shape"
   ]
  },
  {
   "cell_type": "code",
   "execution_count": 30,
   "metadata": {},
   "outputs": [
    {
     "data": {
      "text/html": [
       "<div>\n",
       "<style scoped>\n",
       "    .dataframe tbody tr th:only-of-type {\n",
       "        vertical-align: middle;\n",
       "    }\n",
       "\n",
       "    .dataframe tbody tr th {\n",
       "        vertical-align: top;\n",
       "    }\n",
       "\n",
       "    .dataframe thead th {\n",
       "        text-align: right;\n",
       "    }\n",
       "</style>\n",
       "<table border=\"1\" class=\"dataframe\">\n",
       "  <thead>\n",
       "    <tr style=\"text-align: right;\">\n",
       "      <th></th>\n",
       "      <th>org</th>\n",
       "      <th>site</th>\n",
       "      <th>ap</th>\n",
       "      <th>coverage_anomaly_count</th>\n",
       "      <th>strong_neighbors</th>\n",
       "      <th>neighbor_anomaly</th>\n",
       "      <th>ap_coverage_score</th>\n",
       "    </tr>\n",
       "  </thead>\n",
       "  <tbody>\n",
       "    <tr>\n",
       "      <th>0</th>\n",
       "      <td>604411f1-4e45-4bed-9a69-cc37b247fdf9</td>\n",
       "      <td>1b09e83e-495e-4911-9b54-e3197ace36f4</td>\n",
       "      <td>5c5b35bf0711</td>\n",
       "      <td>7.0</td>\n",
       "      <td>14</td>\n",
       "      <td>NaN</td>\n",
       "      <td>0.5</td>\n",
       "    </tr>\n",
       "    <tr>\n",
       "      <th>1</th>\n",
       "      <td>bbb101eb-b62d-4fb1-8c3d-030c6db7e208</td>\n",
       "      <td>39d7f957-4723-416d-82a4-0ef179830e80</td>\n",
       "      <td>5c5b354e57fd</td>\n",
       "      <td>5.0</td>\n",
       "      <td>22</td>\n",
       "      <td>9.0</td>\n",
       "      <td>0.9</td>\n",
       "    </tr>\n",
       "    <tr>\n",
       "      <th>2</th>\n",
       "      <td>f5451dc6-aa80-4d1c-a49a-dede30b6d878</td>\n",
       "      <td>4f34630d-225e-4766-a635-3194b71bf419</td>\n",
       "      <td>5c5b353e0622</td>\n",
       "      <td>7.0</td>\n",
       "      <td>4</td>\n",
       "      <td>NaN</td>\n",
       "      <td>0.5</td>\n",
       "    </tr>\n",
       "    <tr>\n",
       "      <th>3</th>\n",
       "      <td>16342635-98c2-4cf7-8798-275f3a7c59b2</td>\n",
       "      <td>9f6e7f61-05f6-4ba4-9574-e3193effabe5</td>\n",
       "      <td>5c5b355074e5</td>\n",
       "      <td>7.0</td>\n",
       "      <td>9</td>\n",
       "      <td>NaN</td>\n",
       "      <td>0.5</td>\n",
       "    </tr>\n",
       "    <tr>\n",
       "      <th>4</th>\n",
       "      <td>604411f1-4e45-4bed-9a69-cc37b247fdf9</td>\n",
       "      <td>5c61a89e-13ba-4d89-bd6c-168cbd3d4e49</td>\n",
       "      <td>5c5b35aef0f5</td>\n",
       "      <td>6.0</td>\n",
       "      <td>15</td>\n",
       "      <td>16.0</td>\n",
       "      <td>0.9</td>\n",
       "    </tr>\n",
       "  </tbody>\n",
       "</table>\n",
       "</div>"
      ],
      "text/plain": [
       "                                    org                                  site  \\\n",
       "0  604411f1-4e45-4bed-9a69-cc37b247fdf9  1b09e83e-495e-4911-9b54-e3197ace36f4   \n",
       "1  bbb101eb-b62d-4fb1-8c3d-030c6db7e208  39d7f957-4723-416d-82a4-0ef179830e80   \n",
       "2  f5451dc6-aa80-4d1c-a49a-dede30b6d878  4f34630d-225e-4766-a635-3194b71bf419   \n",
       "3  16342635-98c2-4cf7-8798-275f3a7c59b2  9f6e7f61-05f6-4ba4-9574-e3193effabe5   \n",
       "4  604411f1-4e45-4bed-9a69-cc37b247fdf9  5c61a89e-13ba-4d89-bd6c-168cbd3d4e49   \n",
       "\n",
       "             ap  coverage_anomaly_count  strong_neighbors  neighbor_anomaly  \\\n",
       "0  5c5b35bf0711                     7.0                14               NaN   \n",
       "1  5c5b354e57fd                     5.0                22               9.0   \n",
       "2  5c5b353e0622                     7.0                 4               NaN   \n",
       "3  5c5b355074e5                     7.0                 9               NaN   \n",
       "4  5c5b35aef0f5                     6.0                15              16.0   \n",
       "\n",
       "   ap_coverage_score  \n",
       "0                0.5  \n",
       "1                0.9  \n",
       "2                0.5  \n",
       "3                0.5  \n",
       "4                0.9  "
      ]
     },
     "execution_count": 30,
     "metadata": {},
     "output_type": "execute_result"
    }
   ],
   "source": [
    "df_pd.head()"
   ]
  },
  {
   "cell_type": "code",
   "execution_count": 31,
   "metadata": {},
   "outputs": [
    {
     "data": {
      "text/plain": [
       "0.0334"
      ]
     },
     "execution_count": 31,
     "metadata": {},
     "output_type": "execute_result"
    }
   ],
   "source": [
    "6179/185e3"
   ]
  },
  {
   "cell_type": "code",
   "execution_count": null,
   "metadata": {},
   "outputs": [],
   "source": []
  }
 ],
 "metadata": {
  "kernelspec": {
   "display_name": "Python 3",
   "language": "python",
   "name": "python3"
  },
  "language_info": {
   "codemirror_mode": {
    "name": "ipython",
    "version": 3
   },
   "file_extension": ".py",
   "mimetype": "text/x-python",
   "name": "python",
   "nbconvert_exporter": "python",
   "pygments_lexer": "ipython3",
   "version": "3.7.4"
  }
 },
 "nbformat": 4,
 "nbformat_minor": 4
}
