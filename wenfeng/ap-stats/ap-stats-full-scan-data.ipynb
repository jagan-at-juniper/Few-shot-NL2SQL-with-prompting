{
 "cells": [
  {
   "cell_type": "code",
   "execution_count": 1,
   "metadata": {},
   "outputs": [
    {
     "name": "stdout",
     "output_type": "stream",
     "text": [
      "20200404\n",
      "s3://mist-staging-kafka-reseed/ap-stats-full-staging/20200404/1/*/*/*.seqfile\n"
     ]
    }
   ],
   "source": [
    "from IPython.core.interactiveshell import InteractiveShell\n",
    "InteractiveShell.ast_node_interactivity = \"all\"\n",
    "\n",
    "import pyspark\n",
    "from pyspark.sql import SparkSession, Row\n",
    "from pyspark.sql.types import StringType, IntegerType, ArrayType, FloatType, DataType\n",
    "import pyspark.sql.functions as fn\n",
    "from pyspark.sql.functions import udf, size, avg, count, col,sum, explode\n",
    "from operator import itemgetter\n",
    "import json, datetime\n",
    "\n",
    "spark = SparkSession.builder.getOrCreate()\n",
    "sc = spark.sparkContext\n",
    "\n",
    "import datetime\n",
    "\n",
    "env = \"staging\"\n",
    "date_day= datetime.datetime.today().strftime(\"%Y%m%d\")\n",
    "hr = '1'\n",
    "print(date_day)\n",
    "s3_bucket = \"s3://mist-{env}-kafka-reseed/ap-stats-full-{env}/\".format(env=env)\n",
    "s3_bucket += \"{date}/{hr}/*/*/*.seqfile\".format(date=date_day, hr=hr)\n",
    "\n",
    "s3_path = s3_bucket \n",
    "print(s3_path)"
   ]
  },
  {
   "cell_type": "code",
   "execution_count": 2,
   "metadata": {},
   "outputs": [],
   "source": [
    "rdd = spark.sparkContext.sequenceFile(s3_path)"
   ]
  },
  {
   "cell_type": "code",
   "execution_count": 3,
   "metadata": {},
   "outputs": [
    {
     "data": {
      "text/plain": [
       "(bytearray(b'\\x08\\x03\\x10\\x9d\\x99\\xcc\\x05\\x1a\\x115c-5b-35-0e-ba-c9 \\xb7\\xd8\\xcf\\x95\\x94.'),\n",
       " bytearray(b'\\n\\x06\\\\[5\\x0e\\xba\\xc9\\x12\\x10\\x18\"o+\\x02\\x90L\\xe6\\xa3>\\x052~}\\rC\"\\x10\\xbb\\x7f\\x98s\\xc2\\xf2E\\xc8\\x9dd\\xce\\x99j\\xe5IM*\\x0c\\x08\\xa5\\xb8\\x9f\\xf4\\x05\\x10\\xa7\\xae\\xe4\\x99\\x02\\x8a\\x01\\x18\\x00\\x00\\x00\\x00\\x00\\x00\\x00\\x00\\x00\\x00\\x00\\x00\\x00\\x00\\x00\\x00\\x00\\x00\\x00\\x00\\x00\\x00\\x00\\x00\\x90\\x01\\xdc\\xdcH\\x9a\\x01\\x07AP41-WW\\xa2\\x01\\x1bapfw-0.5.17028-ellaria-ef58\\xa8\\x01\\x01\\xb9\\x01_p\\xec*{\\x00N@\\xc2\\x01\\x9b\\x01\\x12\\x08\\x08\\xe4\\xb6\\x1f\\x10\\xd0\\x8e\\x1c\\x1a\\x1a\\n\\x18\\n\\x0bkmalloc-256\\x10\\x89\\x8b\\x01\\x18\\x90\\x8c\\x01 \\x80\\x02\"\\x10\\n\\x0c\\x00\\x00\\xec<\\x00\\x00\\xd1=\\x00\\x006>\\x18U*\\x002\\x08\\n\\x06\\x08\\x80<\\x10\\xc8::U\\n\\x1b\\n\\x03cpu\\x10\\xdb\\x84\\xc0\\x01 \\xb2\\xff\\xed\\x02(\\xad\\x91\\xc0j0\\x0b@\\xaa\\xbe\\xdf\\x02\\x12\\x19\\n\\x04cpu0\\x10\\xfe\\xb8^ \\xb0\\xaa\\xb6\\x01(\\xc3\\xd7\\x8f5@\\xa6\\xb1\\xc2\\x01\\x12\\x1b\\n\\x04cpu1\\x10\\xdd\\xcba \\x82\\xd5\\xb7\\x01(\\xea\\xb9\\xb050\\n@\\x83\\x8d\\x9d\\x01\\xca\\x01*\\n\\x04eth0\\x10\\x01\\x18\\x01(\\xe8\\x070\\x83\\xec\\xc3\\x0b8\\xf1\\xe2\\x11@\\xb3\\xf4\\xb4[H\\x86\\xff6\\xd0\\x01 \\xd8\\x01\\xb0\\x06\\xe0\\x01\\xb4j\\xca\\x01\\x06\\n\\x04eth1\\xca\\x01\\x08\\n\\x06module\\xd2\\x01)\\n\\x05vlan1\\x10\\x01\\x1a\\x08\\x10\\x18\\x1a\\x04\\n\\x00\\x01T\\x1a\\x14\\x10@\\x1a\\x10\\xfe\\x80\\x00\\x00\\x00\\x00\\x00\\x00^[5\\xff\\xfe\\x0e\\xba\\xc9\\xe2\\x01>\\n\\x05vlan1\\x12\\x05BOUND\\x1a\\x08\\x08\\xe2\\xf7\\x9c\\xf4\\x05\\x10\\x00 \\x80\\xa3\\x052\\x08\\x10\\x18\\x1a\\x04\\n\\x00\\x01TR\\x04\\n\\x00\\x01\\x01Z\\x04\\n\\x00\\x01\\x01b\\x04\\x08\\x08\\x08\\x08b\\x04\\x08\\x08\\x08\\x04\\xea\\x01\\x08\\n\\x00\\x1a\\x04\\n\\x00\\x01\\x01\\xfa\\x01U\\n\\x02r0\\x18\\n0\\x15R\\x04\\x00\\x00\\x00\\x00\\x82\\x01\\x00\\x8a\\x01\\x00\\x92\\x01\\x088\\x02\\xf0\\x02\\x02\\xf8\\x02\\x02\\xa2\\x01\\x00\\xaa\\x01\\x00\\xc2\\x01\\x02\\x10\\x03\\xca\\x01\\x00\\xd0\\x01\\t\\xda\\x01\\x02\\x08\\x02\\xe2\\x01\\x00\\xea\\x01\\x00\\xf2\\x01\\x06\\n\\x00\\x12\\x00\\x1a\\x00\\xfa\\x01\\x08B\\x06\\x00\\x00\\x00\\x00\\x00\\x00\\x82\\x02\\x00\\x8a\\x02\\x00\\xfa\\x01Q\\n\\x02r1\\x10\\x01\\x1800\\x15R\\x04\\x00\\x00\\x00\\x00\\x82\\x01\\x00\\x8a\\x01\\x00\\x92\\x01\\x06\\xf0\\x02\\x02\\xf8\\x02\\x02\\xa2\\x01\\x00\\xaa\\x01\\x00\\xc2\\x01\\x00\\xca\\x01\\x00\\xd0\\x01\\t\\xda\\x01\\x00\\xe2\\x01\\x00\\xea\\x01\\x00\\xf2\\x01\\x06\\n\\x00\\x12\\x00\\x1a\\x00\\xfa\\x01\\x08B\\x06\\x00\\x00\\x00\\x00\\x00\\x00\\x82\\x02\\x00\\x8a\\x02\\x00\\xfa\\x01\\xe6\\x01\\n\\x02r2\\x82\\x01\\x00\\x8a\\x01\\x00\\x92\\x01\\x1b8\\x9f\\x95\\x820@\\xc4\"\\xc8\\x01\\x94\\xcf\\x0e\\xd0\\x01\\xee\\xdd\\x18\\xe0\\x02\\x05\\xf0\\x02\\x01\\xf8\\x02\\x02\\xa2\\x01\\x00\\xaa\\x01\\x00\\xc2\\x01\\x05\\x10\\xb9\\x9f\\xd03\\xca\\x01\\x00\\xd0\\x01\\t\\xda\\x01\\x07\\x08\\xf1\\xbf\\x01(\\xec#\\xe2\\x01\\x00\\xea\\x01\\x00\\xf2\\x01\\x06\\n\\x00\\x12\\x00\\x1a\\x00\\xfa\\x01\\x87\\x01\\x08\\xc0\\x87\\n\\x18\\xc0\\x87\\nB\\x06\\x00\\x00\\x00\\x00\\x00\\x00h\\xdf\\x06p\\x93\\xcb\\xc8\\x01x\\xa5\\xca\\x02\\x80\\x01\\xcf\\xc6\\xfd\\x0e\\x88\\x01\\xca\\xeb\\x82\\x1c\\x90\\x01\\xae\\xcc\\x84\\xbb\\x03\\x98\\x01\\x80\\xad\\xbcq\\xa0\\x01\\x97\\xd7\\r\\xb0\\x01\\x02\\xc8\\x01\\x02\\xd0\\x01\\xea\\xe7`\\xd8\\x01\\xaa\\xb4M\\xe0\\x01\\xe4\\xb5\\xad\\x0b\\xe8\\x01\\xcb\\xa8\\xb2\\x04\\xf0\\x01\\x91\\x97\\xae\\x01\\xf8\\x01\\x88\\x81\\xa0\\r\\x80\\x02\\xa0\\xc7\\xba/\\x88\\x02\\xc7\\x97\\x02\\xb8\\x02\\x8d\\xd9)\\xd0\\x02\\x80\\x02\\xb8\\x03\\xb3\\xd8\\x8c\\\\\\xc8\\x03\\x90\\x9e\\xec\\x13\\xd0\\x03\\xeb\\xc6r\\x82\\x02\\x00\\x8a\\x02\\x00\\xa2\\x02\\x04\\n\\x02r0\\xa2\\x02\\x04\\n\\x02r1\\xb2\\x02E\\nC\\n\\x06\\\\[5\\x0e\\xba\\xcc\\x12\\x10\\x18\"o+\\x02\\x90L\\xe6\\xa3>\\x052~}\\rC\\x18\\xb1\\x9b\\xf7A \\xc7\\x94\\xe5\\x02(\\x92\\x90\\xc3\\x150\\xd9\\xf3\\xea\\x028\\xe8\\x83\\x04@\\xbe\\x89\\x04H\\x03P\\xc8&X\\x07`\\xc8\\x02h\\x80$\\xf2\\x02\"\\n\\x0f\\r\\x00\\x00@=\\x15\\x00\\x00\\x80\\xbc\\x1d\\x00\\x00p\\xbf\\x12\\x0f\\r\\xcd\\xccLC\\x15333\\xc3\\x1dfffC\\xfa\\x02\\n\\x15\\xa4p\\x85B\\x1d\\xf5(<B\\x82\\x03\\x19\\r;\\xdf_>\\x12\\x0c\\x08\\x9d\\xb8\\x9f\\xf4\\x05\\x10\\xaa\\xbf\\x84\\xee\\x02\\x18\\xdc\\x0b \\xd8\\n\\x92\\x03\\x04\\x08\\x08\\x08\\x08\\x92\\x03\\x04\\x08\\x08\\x08\\x04\\xc2\\x03\\x10\"\\n10.0.1.121*\\x02g6\\xca\\x03\\x00\\xe1\\x03\\x81\\x02\\xd5\\xc1\\xce\\xa1\\xd7A\\xfa\\x03\\x16\\n\\tHW:PoE AT\\x10\\x9c\\xc7\\x01\\x18\\xac\\x98\\x01(\\xe0]\\xaa\\x04\\x0c\\n\\x06\\\\[5\\x0e\\xba\\xc9P\\xdc\\xdcH\\xb2\\x04\\x0c5c5b350ebac9\\xb8\\x04%\\xca\\x04\\x0e\\n\\x04\\n\\x00\\x01\\x01\\x12\\x06x\\x8a \\r\\x127\\xda\\x04\\x02NZ\\xfa\\x04\\x00\\xfa\\x7f{\\n\\x115c-5b-35-0e-ba-c9\\x12\\x10\\x18\"o+\\x02\\x90L\\xe6\\xa3>\\x052~}\\rC\\x1a\\x10\\xbb\\x7f\\x98s\\xc2\\xf2E\\xc8\\x9dd\\xce\\x99j\\xe5IM*\\x0c\\x08\\xa3\\xb8\\x9f\\xf4\\x05\\x10\\x8e\\x85\\xf5\\xaa\\x032*ep-terminator-172-31-46-8-1a545ef8-staging8\\x01B\\x06r\\x8f\\xc2f\\x82\\xc5'))"
      ]
     },
     "execution_count": 3,
     "metadata": {},
     "output_type": "execute_result"
    }
   ],
   "source": [
    "test= rdd.first()\n",
    "test"
   ]
  },
  {
   "cell_type": "code",
   "execution_count": 4,
   "metadata": {},
   "outputs": [],
   "source": [
    "# str(test[1], encoding='utf-8')\n",
    "# bytearray(test[0], encoding='utf-8')"
   ]
  },
  {
   "cell_type": "code",
   "execution_count": 5,
   "metadata": {},
   "outputs": [],
   "source": [
    "import apstats_pb2 as apstats\n",
    "\n",
    "ap_stats = apstats.APStats()\n",
    "\n",
    "# ap_stats.ParseFromString(bytes())"
   ]
  },
  {
   "cell_type": "code",
   "execution_count": 6,
   "metadata": {},
   "outputs": [
    {
     "data": {
      "text/plain": [
       "b'\\n\\x06\\\\[5\\x0e\\xba\\xc9\\x12\\x10\\x18\"o+\\x02\\x90L\\xe6\\xa3>\\x052~}\\rC\"\\x10\\xbb\\x7f\\x98s\\xc2\\xf2E\\xc8\\x9dd\\xce\\x99j\\xe5IM*\\x0c\\x08\\xa5\\xb8\\x9f\\xf4\\x05\\x10\\xa7\\xae\\xe4\\x99\\x02\\x8a\\x01\\x18\\x00\\x00\\x00\\x00\\x00\\x00\\x00\\x00\\x00\\x00\\x00\\x00\\x00\\x00\\x00\\x00\\x00\\x00\\x00\\x00\\x00\\x00\\x00\\x00\\x90\\x01\\xdc\\xdcH\\x9a\\x01\\x07AP41-WW\\xa2\\x01\\x1bapfw-0.5.17028-ellaria-ef58\\xa8\\x01\\x01\\xb9\\x01_p\\xec*{\\x00N@\\xc2\\x01\\x9b\\x01\\x12\\x08\\x08\\xe4\\xb6\\x1f\\x10\\xd0\\x8e\\x1c\\x1a\\x1a\\n\\x18\\n\\x0bkmalloc-256\\x10\\x89\\x8b\\x01\\x18\\x90\\x8c\\x01 \\x80\\x02\"\\x10\\n\\x0c\\x00\\x00\\xec<\\x00\\x00\\xd1=\\x00\\x006>\\x18U*\\x002\\x08\\n\\x06\\x08\\x80<\\x10\\xc8::U\\n\\x1b\\n\\x03cpu\\x10\\xdb\\x84\\xc0\\x01 \\xb2\\xff\\xed\\x02(\\xad\\x91\\xc0j0\\x0b@\\xaa\\xbe\\xdf\\x02\\x12\\x19\\n\\x04cpu0\\x10\\xfe\\xb8^ \\xb0\\xaa\\xb6\\x01(\\xc3\\xd7\\x8f5@\\xa6\\xb1\\xc2\\x01\\x12\\x1b\\n\\x04cpu1\\x10\\xdd\\xcba \\x82\\xd5\\xb7\\x01(\\xea\\xb9\\xb050\\n@\\x83\\x8d\\x9d\\x01\\xca\\x01*\\n\\x04eth0\\x10\\x01\\x18\\x01(\\xe8\\x070\\x83\\xec\\xc3\\x0b8\\xf1\\xe2\\x11@\\xb3\\xf4\\xb4[H\\x86\\xff6\\xd0\\x01 \\xd8\\x01\\xb0\\x06\\xe0\\x01\\xb4j\\xca\\x01\\x06\\n\\x04eth1\\xca\\x01\\x08\\n\\x06module\\xd2\\x01)\\n\\x05vlan1\\x10\\x01\\x1a\\x08\\x10\\x18\\x1a\\x04\\n\\x00\\x01T\\x1a\\x14\\x10@\\x1a\\x10\\xfe\\x80\\x00\\x00\\x00\\x00\\x00\\x00^[5\\xff\\xfe\\x0e\\xba\\xc9\\xe2\\x01>\\n\\x05vlan1\\x12\\x05BOUND\\x1a\\x08\\x08\\xe2\\xf7\\x9c\\xf4\\x05\\x10\\x00 \\x80\\xa3\\x052\\x08\\x10\\x18\\x1a\\x04\\n\\x00\\x01TR\\x04\\n\\x00\\x01\\x01Z\\x04\\n\\x00\\x01\\x01b\\x04\\x08\\x08\\x08\\x08b\\x04\\x08\\x08\\x08\\x04\\xea\\x01\\x08\\n\\x00\\x1a\\x04\\n\\x00\\x01\\x01\\xfa\\x01U\\n\\x02r0\\x18\\n0\\x15R\\x04\\x00\\x00\\x00\\x00\\x82\\x01\\x00\\x8a\\x01\\x00\\x92\\x01\\x088\\x02\\xf0\\x02\\x02\\xf8\\x02\\x02\\xa2\\x01\\x00\\xaa\\x01\\x00\\xc2\\x01\\x02\\x10\\x03\\xca\\x01\\x00\\xd0\\x01\\t\\xda\\x01\\x02\\x08\\x02\\xe2\\x01\\x00\\xea\\x01\\x00\\xf2\\x01\\x06\\n\\x00\\x12\\x00\\x1a\\x00\\xfa\\x01\\x08B\\x06\\x00\\x00\\x00\\x00\\x00\\x00\\x82\\x02\\x00\\x8a\\x02\\x00\\xfa\\x01Q\\n\\x02r1\\x10\\x01\\x1800\\x15R\\x04\\x00\\x00\\x00\\x00\\x82\\x01\\x00\\x8a\\x01\\x00\\x92\\x01\\x06\\xf0\\x02\\x02\\xf8\\x02\\x02\\xa2\\x01\\x00\\xaa\\x01\\x00\\xc2\\x01\\x00\\xca\\x01\\x00\\xd0\\x01\\t\\xda\\x01\\x00\\xe2\\x01\\x00\\xea\\x01\\x00\\xf2\\x01\\x06\\n\\x00\\x12\\x00\\x1a\\x00\\xfa\\x01\\x08B\\x06\\x00\\x00\\x00\\x00\\x00\\x00\\x82\\x02\\x00\\x8a\\x02\\x00\\xfa\\x01\\xe6\\x01\\n\\x02r2\\x82\\x01\\x00\\x8a\\x01\\x00\\x92\\x01\\x1b8\\x9f\\x95\\x820@\\xc4\"\\xc8\\x01\\x94\\xcf\\x0e\\xd0\\x01\\xee\\xdd\\x18\\xe0\\x02\\x05\\xf0\\x02\\x01\\xf8\\x02\\x02\\xa2\\x01\\x00\\xaa\\x01\\x00\\xc2\\x01\\x05\\x10\\xb9\\x9f\\xd03\\xca\\x01\\x00\\xd0\\x01\\t\\xda\\x01\\x07\\x08\\xf1\\xbf\\x01(\\xec#\\xe2\\x01\\x00\\xea\\x01\\x00\\xf2\\x01\\x06\\n\\x00\\x12\\x00\\x1a\\x00\\xfa\\x01\\x87\\x01\\x08\\xc0\\x87\\n\\x18\\xc0\\x87\\nB\\x06\\x00\\x00\\x00\\x00\\x00\\x00h\\xdf\\x06p\\x93\\xcb\\xc8\\x01x\\xa5\\xca\\x02\\x80\\x01\\xcf\\xc6\\xfd\\x0e\\x88\\x01\\xca\\xeb\\x82\\x1c\\x90\\x01\\xae\\xcc\\x84\\xbb\\x03\\x98\\x01\\x80\\xad\\xbcq\\xa0\\x01\\x97\\xd7\\r\\xb0\\x01\\x02\\xc8\\x01\\x02\\xd0\\x01\\xea\\xe7`\\xd8\\x01\\xaa\\xb4M\\xe0\\x01\\xe4\\xb5\\xad\\x0b\\xe8\\x01\\xcb\\xa8\\xb2\\x04\\xf0\\x01\\x91\\x97\\xae\\x01\\xf8\\x01\\x88\\x81\\xa0\\r\\x80\\x02\\xa0\\xc7\\xba/\\x88\\x02\\xc7\\x97\\x02\\xb8\\x02\\x8d\\xd9)\\xd0\\x02\\x80\\x02\\xb8\\x03\\xb3\\xd8\\x8c\\\\\\xc8\\x03\\x90\\x9e\\xec\\x13\\xd0\\x03\\xeb\\xc6r\\x82\\x02\\x00\\x8a\\x02\\x00\\xa2\\x02\\x04\\n\\x02r0\\xa2\\x02\\x04\\n\\x02r1\\xb2\\x02E\\nC\\n\\x06\\\\[5\\x0e\\xba\\xcc\\x12\\x10\\x18\"o+\\x02\\x90L\\xe6\\xa3>\\x052~}\\rC\\x18\\xb1\\x9b\\xf7A \\xc7\\x94\\xe5\\x02(\\x92\\x90\\xc3\\x150\\xd9\\xf3\\xea\\x028\\xe8\\x83\\x04@\\xbe\\x89\\x04H\\x03P\\xc8&X\\x07`\\xc8\\x02h\\x80$\\xf2\\x02\"\\n\\x0f\\r\\x00\\x00@=\\x15\\x00\\x00\\x80\\xbc\\x1d\\x00\\x00p\\xbf\\x12\\x0f\\r\\xcd\\xccLC\\x15333\\xc3\\x1dfffC\\xfa\\x02\\n\\x15\\xa4p\\x85B\\x1d\\xf5(<B\\x82\\x03\\x19\\r;\\xdf_>\\x12\\x0c\\x08\\x9d\\xb8\\x9f\\xf4\\x05\\x10\\xaa\\xbf\\x84\\xee\\x02\\x18\\xdc\\x0b \\xd8\\n\\x92\\x03\\x04\\x08\\x08\\x08\\x08\\x92\\x03\\x04\\x08\\x08\\x08\\x04\\xc2\\x03\\x10\"\\n10.0.1.121*\\x02g6\\xca\\x03\\x00\\xe1\\x03\\x81\\x02\\xd5\\xc1\\xce\\xa1\\xd7A\\xfa\\x03\\x16\\n\\tHW:PoE AT\\x10\\x9c\\xc7\\x01\\x18\\xac\\x98\\x01(\\xe0]\\xaa\\x04\\x0c\\n\\x06\\\\[5\\x0e\\xba\\xc9P\\xdc\\xdcH\\xb2\\x04\\x0c5c5b350ebac9\\xb8\\x04%\\xca\\x04\\x0e\\n\\x04\\n\\x00\\x01\\x01\\x12\\x06x\\x8a \\r\\x127\\xda\\x04\\x02NZ\\xfa\\x04\\x00\\xfa\\x7f{\\n\\x115c-5b-35-0e-ba-c9\\x12\\x10\\x18\"o+\\x02\\x90L\\xe6\\xa3>\\x052~}\\rC\\x1a\\x10\\xbb\\x7f\\x98s\\xc2\\xf2E\\xc8\\x9dd\\xce\\x99j\\xe5IM*\\x0c\\x08\\xa3\\xb8\\x9f\\xf4\\x05\\x10\\x8e\\x85\\xf5\\xaa\\x032*ep-terminator-172-31-46-8-1a545ef8-staging8\\x01B\\x06r\\x8f\\xc2f\\x82\\xc5'"
      ]
     },
     "execution_count": 6,
     "metadata": {},
     "output_type": "execute_result"
    }
   ],
   "source": [
    "bytes(test[1])"
   ]
  },
  {
   "cell_type": "code",
   "execution_count": 7,
   "metadata": {},
   "outputs": [
    {
     "data": {
      "text/plain": [
       "33"
      ]
     },
     "execution_count": 7,
     "metadata": {},
     "output_type": "execute_result"
    }
   ],
   "source": [
    "ap_stats.ParseFromString(bytes(test[0]))"
   ]
  },
  {
   "cell_type": "code",
   "execution_count": 8,
   "metadata": {},
   "outputs": [
    {
     "name": "stdout",
     "output_type": "stream",
     "text": [
      "Requirement already satisfied: protobuf in /opt/mistsys/ds_incubator/venv/lib/python3.7/site-packages (3.11.3)\n",
      "Requirement already satisfied: setuptools in /opt/mistsys/ds_incubator/venv/lib/python3.7/site-packages (from protobuf) (45.2.0)\n",
      "Requirement already satisfied: six>=1.9 in /opt/mistsys/ds_incubator/venv/lib/python3.7/site-packages (from protobuf) (1.14.0)\n",
      "Requirement already satisfied: google-cloud-translate in /opt/mistsys/ds_incubator/venv/lib/python3.7/site-packages (2.0.1)\n",
      "Requirement already satisfied: google-cloud-core<2.0dev,>=1.1.0 in /opt/mistsys/ds_incubator/venv/lib/python3.7/site-packages (from google-cloud-translate) (1.3.0)\n",
      "Requirement already satisfied: google-api-core[grpc]<2.0.0dev,>=1.15.0 in /opt/mistsys/ds_incubator/venv/lib/python3.7/site-packages (from google-cloud-translate) (1.16.0)\n",
      "Requirement already satisfied: requests<3.0.0dev,>=2.18.0 in /opt/mistsys/ds_incubator/venv/lib/python3.7/site-packages (from google-api-core[grpc]<2.0.0dev,>=1.15.0->google-cloud-translate) (2.23.0)\n",
      "Requirement already satisfied: googleapis-common-protos<2.0dev,>=1.6.0 in /opt/mistsys/ds_incubator/venv/lib/python3.7/site-packages (from google-api-core[grpc]<2.0.0dev,>=1.15.0->google-cloud-translate) (1.51.0)\n",
      "Requirement already satisfied: protobuf>=3.4.0 in /opt/mistsys/ds_incubator/venv/lib/python3.7/site-packages (from google-api-core[grpc]<2.0.0dev,>=1.15.0->google-cloud-translate) (3.11.3)\n",
      "Requirement already satisfied: six>=1.10.0 in /opt/mistsys/ds_incubator/venv/lib/python3.7/site-packages (from google-api-core[grpc]<2.0.0dev,>=1.15.0->google-cloud-translate) (1.14.0)\n",
      "Requirement already satisfied: setuptools>=34.0.0 in /opt/mistsys/ds_incubator/venv/lib/python3.7/site-packages (from google-api-core[grpc]<2.0.0dev,>=1.15.0->google-cloud-translate) (45.2.0)\n",
      "Requirement already satisfied: pytz in /opt/mistsys/ds_incubator/venv/lib/python3.7/site-packages (from google-api-core[grpc]<2.0.0dev,>=1.15.0->google-cloud-translate) (2019.3)\n",
      "Requirement already satisfied: google-auth<2.0dev,>=0.4.0 in /opt/mistsys/ds_incubator/venv/lib/python3.7/site-packages (from google-api-core[grpc]<2.0.0dev,>=1.15.0->google-cloud-translate) (1.12.0)\n",
      "Requirement already satisfied: grpcio<2.0dev,>=1.8.2; extra == \"grpc\" in /opt/mistsys/ds_incubator/venv/lib/python3.7/site-packages (from google-api-core[grpc]<2.0.0dev,>=1.15.0->google-cloud-translate) (1.27.2)\n",
      "Requirement already satisfied: urllib3!=1.25.0,!=1.25.1,<1.26,>=1.21.1 in /opt/mistsys/ds_incubator/venv/lib/python3.7/site-packages (from requests<3.0.0dev,>=2.18.0->google-api-core[grpc]<2.0.0dev,>=1.15.0->google-cloud-translate) (1.25.8)\n",
      "Requirement already satisfied: idna<3,>=2.5 in /opt/mistsys/ds_incubator/venv/lib/python3.7/site-packages (from requests<3.0.0dev,>=2.18.0->google-api-core[grpc]<2.0.0dev,>=1.15.0->google-cloud-translate) (2.9)\n",
      "Requirement already satisfied: certifi>=2017.4.17 in /opt/mistsys/ds_incubator/venv/lib/python3.7/site-packages (from requests<3.0.0dev,>=2.18.0->google-api-core[grpc]<2.0.0dev,>=1.15.0->google-cloud-translate) (2019.11.28)\n",
      "Requirement already satisfied: chardet<4,>=3.0.2 in /opt/mistsys/ds_incubator/venv/lib/python3.7/site-packages (from requests<3.0.0dev,>=2.18.0->google-api-core[grpc]<2.0.0dev,>=1.15.0->google-cloud-translate) (3.0.4)\n",
      "Requirement already satisfied: cachetools<5.0,>=2.0.0 in /opt/mistsys/ds_incubator/venv/lib/python3.7/site-packages (from google-auth<2.0dev,>=0.4.0->google-api-core[grpc]<2.0.0dev,>=1.15.0->google-cloud-translate) (4.0.0)\n",
      "Requirement already satisfied: rsa<4.1,>=3.1.4 in /opt/mistsys/ds_incubator/venv/lib/python3.7/site-packages (from google-auth<2.0dev,>=0.4.0->google-api-core[grpc]<2.0.0dev,>=1.15.0->google-cloud-translate) (4.0)\n",
      "Requirement already satisfied: pyasn1-modules>=0.2.1 in /opt/mistsys/ds_incubator/venv/lib/python3.7/site-packages (from google-auth<2.0dev,>=0.4.0->google-api-core[grpc]<2.0.0dev,>=1.15.0->google-cloud-translate) (0.2.8)\n",
      "Requirement already satisfied: pyasn1>=0.1.3 in /opt/mistsys/ds_incubator/venv/lib/python3.7/site-packages (from rsa<4.1,>=3.1.4->google-auth<2.0dev,>=0.4.0->google-api-core[grpc]<2.0.0dev,>=1.15.0->google-cloud-translate) (0.4.8)\n"
     ]
    }
   ],
   "source": [
    "! pip install protobuf\n",
    "! pip install google-cloud-translate\n",
    "# import json\n",
    "# df = rdd.map(lambda x: json.loads(x[1])).toDF() #.map(lambda x: json.loads(x[1])).\n",
    "\n"
   ]
  },
  {
   "cell_type": "code",
   "execution_count": 9,
   "metadata": {},
   "outputs": [],
   "source": [
    "# df.first()"
   ]
  },
  {
   "cell_type": "code",
   "execution_count": null,
   "metadata": {},
   "outputs": [],
   "source": []
  },
  {
   "cell_type": "code",
   "execution_count": null,
   "metadata": {},
   "outputs": [],
   "source": []
  }
 ],
 "metadata": {
  "kernelspec": {
   "display_name": "Python 3",
   "language": "python",
   "name": "python3"
  },
  "language_info": {
   "codemirror_mode": {
    "name": "ipython",
    "version": 3
   },
   "file_extension": ".py",
   "mimetype": "text/x-python",
   "name": "python",
   "nbconvert_exporter": "python",
   "pygments_lexer": "ipython3",
   "version": "3.7.4"
  }
 },
 "nbformat": 4,
 "nbformat_minor": 4
}
