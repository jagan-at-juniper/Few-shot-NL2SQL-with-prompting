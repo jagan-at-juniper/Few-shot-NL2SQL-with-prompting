{
 "cells": [
  {
   "cell_type": "code",
   "execution_count": 1,
   "metadata": {},
   "outputs": [
    {
     "name": "stdout",
     "output_type": "stream",
     "text": [
      "s3://mist-secorapp-production/rrm-local/rrm-local-production/dt=2020-03-2*/hr=*/*.seq\n"
     ]
    }
   ],
   "source": [
    "from pyspark.sql.functions import udf, size, avg, count, col,sum, explode\n",
    "import json\n",
    "\n",
    "env = \"production\"\n",
    "\n",
    "s3_bucket = \"s3://mist-secorapp-{env}/rrm-local/rrm-local-{env}/\".format(env=env)\n",
    "\n",
    "date_day = \"2020-03-2*\"\n",
    "hr = '*'\n",
    "\n",
    "rrm_local_path = \"dt={day}/hr={hr}/*.seq\".format(env=env, day=date_day, hr=hr)\n",
    "\n",
    "rrm_local_path = s3_bucket + rrm_local_path\n",
    "print(rrm_local_path)\n",
    "\n",
    "\n"
   ]
  },
  {
   "cell_type": "code",
   "execution_count": 2,
   "metadata": {},
   "outputs": [
    {
     "name": "stderr",
     "output_type": "stream",
     "text": [
      "/opt/mistsys/ds_incubator/venv/spark-2.4.4-bin-without-hadoop/python/pyspark/sql/session.py:366: UserWarning: Using RDD of dict to inferSchema is deprecated. Use pyspark.sql.Row instead\n",
      "  warnings.warn(\"Using RDD of dict to inferSchema is deprecated. \"\n"
     ]
    },
    {
     "name": "stdout",
     "output_type": "stream",
     "text": [
      "root\n",
      " |-- ap_id: string (nullable = true)\n",
      " |-- band: string (nullable = true)\n",
      " |-- bandwidth: long (nullable = true)\n",
      " |-- channel: long (nullable = true)\n",
      " |-- channel_update_interval: long (nullable = true)\n",
      " |-- clients: long (nullable = true)\n",
      " |-- command: string (nullable = true)\n",
      " |-- org_id: string (nullable = true)\n",
      " |-- power: long (nullable = true)\n",
      " |-- pre_bandwidth: long (nullable = true)\n",
      " |-- pre_channel: long (nullable = true)\n",
      " |-- pre_power: long (nullable = true)\n",
      " |-- rad_id: string (nullable = true)\n",
      " |-- reason: string (nullable = true)\n",
      " |-- rrm_bandwidth: long (nullable = true)\n",
      " |-- rrm_channel: long (nullable = true)\n",
      " |-- rrm_enabled: boolean (nullable = true)\n",
      " |-- rrm_power: long (nullable = true)\n",
      " |-- site_id: string (nullable = true)\n",
      " |-- source_data: string (nullable = true)\n",
      " |-- timestamp: long (nullable = true)\n",
      " |-- updated: boolean (nullable = true)\n",
      " |-- when: string (nullable = true)\n",
      "\n"
     ]
    }
   ],
   "source": [
    "# rdd_rrm_local = spark.sparkContext.sequenceFile(rrm_local_path)\n",
    "rdd_rrm_local = spark.sparkContext.sequenceFile(rrm_local_path)\n",
    "df_rrm = rdd_rrm_local.map(lambda x: json.loads(x[1])).toDF()\n",
    "df_rrm.printSchema()"
   ]
  },
  {
   "cell_type": "code",
   "execution_count": 3,
   "metadata": {},
   "outputs": [
    {
     "data": {
      "text/plain": [
       "[(61532737,\n",
       "  bytearray(b'{\"updated\": true, \"clients\": 1, \"pre_bandwidth\": 20, \"power\": 12, \"timestamp\": 1584662401, \"site_id\": \"87898131-7246-498e-896e-b89d170902dc\", \"org_id\": \"20101562-d4f8-41aa-aaa9-98349d78dfa0\", \"band\": \"24\", \"bandwidth\": 20, \"rad_id\": \"r24\", \"rrm_bandwidth\": 20, \"rrm_power\": 12, \"rrm_channel\": 11, \"pre_power\": 12, \"when\": \"2020-03-20T00:00:01\", \"rrm_enabled\": true, \"reason\": \"non-wifi\", \"ap_id\": \"5c5b35ae81dd\", \"source_data\": \"redis-neighbor-hourly\", \"command\": \"capacity-anomaly\", \"channel_update_interval\": 7200, \"pre_channel\": 1, \"channel\": 11}')),\n",
       " (61532738,\n",
       "  bytearray(b'{\"updated\": true, \"clients\": 1, \"pre_bandwidth\": 20, \"power\": 8, \"timestamp\": 1584662401, \"site_id\": \"8d06fe54-07e7-462b-ab0d-4432ba86dc42\", \"org_id\": \"20101562-d4f8-41aa-aaa9-98349d78dfa0\", \"band\": \"24\", \"bandwidth\": 20, \"rad_id\": \"r24\", \"rrm_bandwidth\": 20, \"rrm_power\": 8, \"rrm_channel\": 11, \"pre_power\": 8, \"when\": \"2020-03-20T00:00:01\", \"rrm_enabled\": true, \"reason\": \"non-wifi\", \"ap_id\": \"5c5b350f2cac\", \"source_data\": \"redis-neighbor-hourly\", \"command\": \"capacity-anomaly\", \"channel_update_interval\": 7200, \"pre_channel\": 1, \"channel\": 11}'))]"
      ]
     },
     "execution_count": 3,
     "metadata": {},
     "output_type": "execute_result"
    }
   ],
   "source": [
    "rdd_rrm_local.take(2)"
   ]
  },
  {
   "cell_type": "code",
   "execution_count": 4,
   "metadata": {},
   "outputs": [
    {
     "name": "stdout",
     "output_type": "stream",
     "text": [
      "+------------+----+---------+-------+-----------------------+-------+----------------+--------------------+-----+-------------+-----------+---------+------+--------------+-------------+-----------+-----------+---------+--------------------+--------------------+----------+-------+-------------------+\n",
      "|       ap_id|band|bandwidth|channel|channel_update_interval|clients|         command|              org_id|power|pre_bandwidth|pre_channel|pre_power|rad_id|        reason|rrm_bandwidth|rrm_channel|rrm_enabled|rrm_power|             site_id|         source_data| timestamp|updated|               when|\n",
      "+------------+----+---------+-------+-----------------------+-------+----------------+--------------------+-----+-------------+-----------+---------+------+--------------+-------------+-----------+-----------+---------+--------------------+--------------------+----------+-------+-------------------+\n",
      "|5c5b35ae81dd|  24|       20|     11|                   7200|      1|capacity-anomaly|20101562-d4f8-41a...|   12|           20|          1|       12|   r24|      non-wifi|           20|         11|       true|       12|87898131-7246-498...|redis-neighbor-ho...|1584662401|   true|2020-03-20T00:00:01|\n",
      "|5c5b350f2cac|  24|       20|     11|                   7200|      1|capacity-anomaly|20101562-d4f8-41a...|    8|           20|          1|        8|   r24|      non-wifi|           20|         11|       true|        8|8d06fe54-07e7-462...|redis-neighbor-ho...|1584662401|   true|2020-03-20T00:00:01|\n",
      "|5c5b359eaa46|   5|       20|    153|                   7200|      1|capacity-anomaly|bbb101eb-b62d-4fb...|   10|           20|        104|       10|    r5|wifi-cochannel|           20|        153|       true|       10|5a01d660-d10a-4b9...|                null|1584662403|   true|2020-03-20T00:00:03|\n",
      "|5c5b353eace4|   5|       20|    165|                   7200|      1|capacity-anomaly|799ef357-5a02-4f6...|    8|           20|         48|        8|    r5|      non-wifi|           20|        165|       true|        8|cd0fe0ac-7376-487...|                null|1584662422|   true|2020-03-20T00:00:22|\n",
      "|5c5b35ae676b|  24|       20|      1|                  10800|      1|capacity-anomaly|604411f1-4e45-4be...|    8|           20|         11|        8|   r24|      non-wifi|           20|          1|       true|        8|ac2e1998-3c5e-404...|                null|1584662440|   true|2020-03-20T00:00:40|\n",
      "|5c5b359f4fff|   5|       20|    140|                   7200|      4|capacity-anomaly|bbb101eb-b62d-4fb...|   12|           20|        108|       12|    r5|wifi-cochannel|           20|        140|       true|       12|c536375f-a333-445...|                null|1584662442|   true|2020-03-20T00:00:42|\n",
      "|5c5b359f4feb|   5|       20|     48|                   7200|      3|capacity-anomaly|bbb101eb-b62d-4fb...|   12|           20|        108|       12|    r5|wifi-cochannel|           20|         48|       true|       12|c536375f-a333-445...|                null|1584662445|   true|2020-03-20T00:00:45|\n",
      "|5c5b35503b47|  24|       20|      1|                   7200|      0|    scan-anomaly|3c26d296-b81c-473...|    8|           20|         11|        8|   r24|      non-wifi|           20|          1|       true|        8|ec0d6ad5-336c-414...|                null|1584662447|   true|2020-03-20T00:00:47|\n",
      "|5c5b35af093c|   5|       20|    108|                   7200|      2|capacity-anomaly|bbb101eb-b62d-4fb...|    9|           20|        136|        9|    r5|wifi-cochannel|           20|        108|       true|        9|a4fd737b-1664-44e...|                null|1584662449|   true|2020-03-20T00:00:49|\n",
      "|5c5b353e086b|   5|       20|    153|                  21600|      1|capacity-anomaly|f5451dc6-aa80-4d1...|   11|           20|         36|       11|    r5|      non-wifi|           20|        153|       true|       11|07444f23-a663-4a9...|                null|1584662452|   true|2020-03-20T00:00:52|\n",
      "|5c5b359ec6d9|   5|       20|    140|                   7200|      4|capacity-anomaly|bbb101eb-b62d-4fb...|   12|           20|        108|       12|    r5|wifi-cochannel|           20|        140|       true|       12|c536375f-a333-445...|                null|1584662455|   true|2020-03-20T00:00:55|\n",
      "|5c5b352e00a5|  24|       20|     11|                   7200|      1|capacity-anomaly|20101562-d4f8-41a...|    8|           20|          1|        8|   r24|      non-wifi|           20|         11|       true|        8|ed1aea6c-046a-4ac...|redis-neighbor-ho...|1584662456|   true|2020-03-20T00:00:56|\n",
      "|5c5b35ae5abe|   5|       20|     48|                   7200|      1|capacity-anomaly|bbb101eb-b62d-4fb...|   10|           20|        153|       10|    r5|wifi-cochannel|           20|         48|       true|       10|9dbe27ce-4760-488...|                null|1584662458|   true|2020-03-20T00:00:58|\n",
      "|5c5b35af27aa|   5|       20|     40|                   7200|      1|capacity-anomaly|604411f1-4e45-4be...|    8|           20|        149|        8|    r5|      non-wifi|           20|         40|       true|        8|4ea1db22-8a68-4ea...|                null|1584662458|   true|2020-03-20T00:00:58|\n",
      "|5c5b35505a87|  24|       20|      1|                   7200|      0|    scan-anomaly|05ecd967-81cf-492...|    3|           20|         11|        3|   r24|      non-wifi|           20|          1|       true|        3|1b480105-0ae1-41c...|                null|1584662462|   true|2020-03-20T00:01:02|\n",
      "|5c5b35505fa0|  24|       20|      1|                   7200|      0|    scan-anomaly|b0314bd6-bac1-405...|   17|           20|         11|       17|   r24|      non-wifi|           20|          1|       true|       17|610e2c93-feec-4d2...|                null|1584662473|   true|2020-03-20T00:01:13|\n",
      "|5c5b3552bf9d|   5|       20|    161|                  21600|      0|    scan-anomaly|8a4e94f7-b0ea-4b9...|    8|           20|        165|        8|    r5|      non-wifi|           20|        161|       true|        8|b96ef665-dc6e-446...|                null|1584662473|   true|2020-03-20T00:01:13|\n",
      "|d420b00030e3|   5|       20|    157|                   null|   null|       rrm-radar|0f2adb1c-8843-448...|   15|           20|         52|       15|  null|radar-detected|           20|        157|       true|       15|8fe02a13-38a2-4f0...|            ap-radar|1584662475|   true|2020-03-20T00:01:15|\n",
      "|5c5b35ae8c32|   5|       40|    116|                   7200|      2|capacity-anomaly|683dba08-0feb-435...|    5|           40|        132|        5|    r5|      non-wifi|           40|        116|       true|        5|885782a8-7e74-4d6...|                null|1584662475|   true|2020-03-20T00:01:15|\n",
      "|5c5b3550dbd8|   5|       40|     44|                  21600|      1|    scan-anomaly|4f51b0d1-b46c-4e5...|   25|           40|         36|       17|    r5|      non-wifi|           40|         44|       true|       25|d4836bdc-94b8-405...|                null|1584662480|   true|2020-03-20T00:01:20|\n",
      "+------------+----+---------+-------+-----------------------+-------+----------------+--------------------+-----+-------------+-----------+---------+------+--------------+-------------+-----------+-----------+---------+--------------------+--------------------+----------+-------+-------------------+\n",
      "only showing top 20 rows\n",
      "\n"
     ]
    }
   ],
   "source": [
    "df_rrm = rdd_rrm_local.map(lambda x: json.loads(x[1])).toDF()\n",
    "df_rrm.show()"
   ]
  },
  {
   "cell_type": "code",
   "execution_count": 5,
   "metadata": {},
   "outputs": [
    {
     "name": "stdout",
     "output_type": "stream",
     "text": [
      "root\n",
      " |-- ap_id: string (nullable = true)\n",
      " |-- band: string (nullable = true)\n",
      " |-- bandwidth: long (nullable = true)\n",
      " |-- channel: long (nullable = true)\n",
      " |-- channel_update_interval: long (nullable = true)\n",
      " |-- clients: long (nullable = true)\n",
      " |-- command: string (nullable = true)\n",
      " |-- org_id: string (nullable = true)\n",
      " |-- power: long (nullable = true)\n",
      " |-- pre_bandwidth: long (nullable = true)\n",
      " |-- pre_channel: long (nullable = true)\n",
      " |-- pre_power: long (nullable = true)\n",
      " |-- rad_id: string (nullable = true)\n",
      " |-- reason: string (nullable = true)\n",
      " |-- rrm_bandwidth: long (nullable = true)\n",
      " |-- rrm_channel: long (nullable = true)\n",
      " |-- rrm_enabled: boolean (nullable = true)\n",
      " |-- rrm_power: long (nullable = true)\n",
      " |-- site_id: string (nullable = true)\n",
      " |-- source_data: string (nullable = true)\n",
      " |-- timestamp: long (nullable = true)\n",
      " |-- updated: boolean (nullable = true)\n",
      " |-- when: string (nullable = true)\n",
      "\n"
     ]
    }
   ],
   "source": [
    "df_rrm.printSchema()"
   ]
  },
  {
   "cell_type": "code",
   "execution_count": null,
   "metadata": {},
   "outputs": [],
   "source": []
  },
  {
   "cell_type": "code",
   "execution_count": null,
   "metadata": {},
   "outputs": [],
   "source": []
  },
  {
   "cell_type": "code",
   "execution_count": 6,
   "metadata": {},
   "outputs": [
    {
     "ename": "NameError",
     "evalue": "name 'user_site_USNYELE' is not defined",
     "output_type": "error",
     "traceback": [
      "\u001b[0;31m---------------------------------------------------------------------------\u001b[0m",
      "\u001b[0;31mNameError\u001b[0m                                 Traceback (most recent call last)",
      "\u001b[0;32m<ipython-input-6-5100f07ac145>\u001b[0m in \u001b[0;36m<module>\u001b[0;34m\u001b[0m\n\u001b[0;32m----> 1\u001b[0;31m \u001b[0mdf_USNYELE\u001b[0m \u001b[0;34m=\u001b[0m \u001b[0mdf_rrm\u001b[0m\u001b[0;34m.\u001b[0m\u001b[0mfilter\u001b[0m\u001b[0;34m(\u001b[0m\u001b[0;34m(\u001b[0m\u001b[0mcol\u001b[0m\u001b[0;34m(\u001b[0m\u001b[0;34m'site_id'\u001b[0m\u001b[0;34m)\u001b[0m\u001b[0;34m==\u001b[0m\u001b[0muser_site_USNYELE\u001b[0m\u001b[0;34m)\u001b[0m \u001b[0;34m&\u001b[0m \u001b[0;34m(\u001b[0m\u001b[0mcol\u001b[0m\u001b[0;34m(\u001b[0m\u001b[0;34m'band'\u001b[0m\u001b[0;34m)\u001b[0m\u001b[0;34m==\u001b[0m\u001b[0;36m5\u001b[0m\u001b[0;34m)\u001b[0m\u001b[0;34m)\u001b[0m\u001b[0;34m\u001b[0m\u001b[0;34m\u001b[0m\u001b[0m\n\u001b[0m\u001b[1;32m      2\u001b[0m \u001b[0mdf_USFLLON\u001b[0m \u001b[0;34m=\u001b[0m \u001b[0mdf_rrm\u001b[0m\u001b[0;34m.\u001b[0m\u001b[0mfilter\u001b[0m\u001b[0;34m(\u001b[0m\u001b[0;34m(\u001b[0m\u001b[0mcol\u001b[0m\u001b[0;34m(\u001b[0m\u001b[0;34m'site_id'\u001b[0m\u001b[0;34m)\u001b[0m\u001b[0;34m==\u001b[0m\u001b[0muser_site_USFLLON\u001b[0m\u001b[0;34m)\u001b[0m \u001b[0;34m&\u001b[0m \u001b[0;34m(\u001b[0m\u001b[0mcol\u001b[0m\u001b[0;34m(\u001b[0m\u001b[0;34m'band'\u001b[0m\u001b[0;34m)\u001b[0m\u001b[0;34m==\u001b[0m\u001b[0;36m5\u001b[0m\u001b[0;34m)\u001b[0m\u001b[0;34m)\u001b[0m\u001b[0;34m\u001b[0m\u001b[0;34m\u001b[0m\u001b[0m\n",
      "\u001b[0;31mNameError\u001b[0m: name 'user_site_USNYELE' is not defined"
     ]
    }
   ],
   "source": [
    "df_USNYELE = df_rrm.filter((col('site_id')==user_site_USNYELE) & (col('band')==5))\n",
    "df_USFLLON = df_rrm.filter((col('site_id')==user_site_USFLLON) & (col('band')==5))"
   ]
  },
  {
   "cell_type": "code",
   "execution_count": null,
   "metadata": {},
   "outputs": [],
   "source": [
    "df_USNYELE.select(\"command\", \"reason\").groupBy(\"command\", 'reason').count().show()"
   ]
  },
  {
   "cell_type": "code",
   "execution_count": null,
   "metadata": {},
   "outputs": [],
   "source": [
    "df_USFLLON.select(\"command\", \"reason\").groupBy(\"command\", 'reason').count().show()"
   ]
  },
  {
   "cell_type": "code",
   "execution_count": null,
   "metadata": {},
   "outputs": [],
   "source": [
    "df_USFLLON.filter(col(\"command\")==\"rrm-global\").groupBy(\"band\",'when', \"command\", 'reason').count().show()"
   ]
  },
  {
   "cell_type": "code",
   "execution_count": null,
   "metadata": {},
   "outputs": [],
   "source": []
  },
  {
   "cell_type": "code",
   "execution_count": null,
   "metadata": {},
   "outputs": [],
   "source": []
  },
  {
   "cell_type": "code",
   "execution_count": null,
   "metadata": {},
   "outputs": [],
   "source": []
  }
 ],
 "metadata": {
  "kernelspec": {
   "display_name": "Python 3",
   "language": "python",
   "name": "python3"
  },
  "language_info": {
   "codemirror_mode": {
    "name": "ipython",
    "version": 3
   },
   "file_extension": ".py",
   "mimetype": "text/x-python",
   "name": "python",
   "nbconvert_exporter": "python",
   "pygments_lexer": "ipython3",
   "version": "3.7.4"
  }
 },
 "nbformat": 4,
 "nbformat_minor": 4
}
