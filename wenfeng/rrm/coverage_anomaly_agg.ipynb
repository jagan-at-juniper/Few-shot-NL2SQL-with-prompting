{
 "cells": [
  {
   "cell_type": "code",
   "execution_count": null,
   "metadata": {},
   "outputs": [],
   "source": [
    "env = \"production\"\n",
    "# env = \"staging\"\n",
    "\n",
    "\n",
    "# s3_bucket = \"s3://mist-aggregated-stats-{env}/entity_event/entity_event-{env}/\".format(env=env)\n",
    "date_day = \"2020-09-01\"\n",
    "hr = '*'\n",
    "\n",
    "s3_bucket = \"s3://mist-secorapp-{env}/sle-coverage-anomaly/sle-coverage-anomaly-{env}/\".format(env=env)\n",
    "s3_path = s3_bucket + \"dt={day}/hr={hr}/*.seq\".format(day=date_day, hr=hr)\n",
    "\n",
    "print(s3_path)\n"
   ]
  },
  {
   "cell_type": "code",
   "execution_count": 3,
   "metadata": {},
   "outputs": [
    {
     "ename": "Py4JJavaError",
     "evalue": "An error occurred while calling z:org.apache.spark.api.python.PythonRDD.sequenceFile.\n: org.apache.hadoop.fs.s3a.AWSS3IOException: doesBucketExist on mist-secorapp-staging: com.amazonaws.services.s3.model.AmazonS3Exception: Bad Request (Service: Amazon S3; Status Code: 400; Error Code: 400 Bad Request; Request ID: 2HCZ1M0H0ZFG0Q6P), S3 Extended Request ID: iXhah3g8oojXF2ye2i5kZx6WcauCuN8KDQfJWOfy6g1J7E7hmU0mcR12UZoDlw7UGnBUb0MQUnU=: Bad Request (Service: Amazon S3; Status Code: 400; Error Code: 400 Bad Request; Request ID: 2HCZ1M0H0ZFG0Q6P)\n\tat org.apache.hadoop.fs.s3a.S3AUtils.translateException(S3AUtils.java:178)\n\tat org.apache.hadoop.fs.s3a.S3AFileSystem.verifyBucketExists(S3AFileSystem.java:282)\n\tat org.apache.hadoop.fs.s3a.S3AFileSystem.initialize(S3AFileSystem.java:236)\n\tat org.apache.hadoop.fs.FileSystem.createFileSystem(FileSystem.java:2812)\n\tat org.apache.hadoop.fs.FileSystem.access$200(FileSystem.java:100)\n\tat org.apache.hadoop.fs.FileSystem$Cache.getInternal(FileSystem.java:2849)\n\tat org.apache.hadoop.fs.FileSystem$Cache.get(FileSystem.java:2831)\n\tat org.apache.hadoop.fs.FileSystem.get(FileSystem.java:389)\n\tat org.apache.hadoop.fs.Path.getFileSystem(Path.java:356)\n\tat org.apache.hadoop.mapred.FileInputFormat.singleThreadedListStatus(FileInputFormat.java:265)\n\tat org.apache.hadoop.mapred.FileInputFormat.listStatus(FileInputFormat.java:236)\n\tat org.apache.hadoop.mapred.SequenceFileInputFormat.listStatus(SequenceFileInputFormat.java:45)\n\tat org.apache.hadoop.mapred.FileInputFormat.getSplits(FileInputFormat.java:322)\n\tat org.apache.spark.rdd.HadoopRDD.getPartitions(HadoopRDD.scala:204)\n\tat org.apache.spark.rdd.RDD$$anonfun$partitions$2.apply(RDD.scala:253)\n\tat org.apache.spark.rdd.RDD$$anonfun$partitions$2.apply(RDD.scala:251)\n\tat scala.Option.getOrElse(Option.scala:121)\n\tat org.apache.spark.rdd.RDD.partitions(RDD.scala:251)\n\tat org.apache.spark.rdd.MapPartitionsRDD.getPartitions(MapPartitionsRDD.scala:49)\n\tat org.apache.spark.rdd.RDD$$anonfun$partitions$2.apply(RDD.scala:253)\n\tat org.apache.spark.rdd.RDD$$anonfun$partitions$2.apply(RDD.scala:251)\n\tat scala.Option.getOrElse(Option.scala:121)\n\tat org.apache.spark.rdd.RDD.partitions(RDD.scala:251)\n\tat org.apache.spark.rdd.RDD$$anonfun$take$1.apply(RDD.scala:1343)\n\tat org.apache.spark.rdd.RDDOperationScope$.withScope(RDDOperationScope.scala:151)\n\tat org.apache.spark.rdd.RDDOperationScope$.withScope(RDDOperationScope.scala:112)\n\tat org.apache.spark.rdd.RDD.withScope(RDD.scala:363)\n\tat org.apache.spark.rdd.RDD.take(RDD.scala:1337)\n\tat org.apache.spark.api.python.SerDeUtil$.pairRDDToPython(SerDeUtil.scala:239)\n\tat org.apache.spark.api.python.PythonRDD$.sequenceFile(PythonRDD.scala:250)\n\tat org.apache.spark.api.python.PythonRDD.sequenceFile(PythonRDD.scala)\n\tat sun.reflect.NativeMethodAccessorImpl.invoke0(Native Method)\n\tat sun.reflect.NativeMethodAccessorImpl.invoke(NativeMethodAccessorImpl.java:62)\n\tat sun.reflect.DelegatingMethodAccessorImpl.invoke(DelegatingMethodAccessorImpl.java:43)\n\tat java.lang.reflect.Method.invoke(Method.java:498)\n\tat py4j.reflection.MethodInvoker.invoke(MethodInvoker.java:244)\n\tat py4j.reflection.ReflectionEngine.invoke(ReflectionEngine.java:357)\n\tat py4j.Gateway.invoke(Gateway.java:282)\n\tat py4j.commands.AbstractCommand.invokeMethod(AbstractCommand.java:132)\n\tat py4j.commands.CallCommand.execute(CallCommand.java:79)\n\tat py4j.GatewayConnection.run(GatewayConnection.java:238)\n\tat java.lang.Thread.run(Thread.java:748)\nCaused by: com.amazonaws.services.s3.model.AmazonS3Exception: Bad Request (Service: Amazon S3; Status Code: 400; Error Code: 400 Bad Request; Request ID: 2HCZ1M0H0ZFG0Q6P), S3 Extended Request ID: iXhah3g8oojXF2ye2i5kZx6WcauCuN8KDQfJWOfy6g1J7E7hmU0mcR12UZoDlw7UGnBUb0MQUnU=\n\tat com.amazonaws.http.AmazonHttpClient.handleErrorResponse(AmazonHttpClient.java:1182)\n\tat com.amazonaws.http.AmazonHttpClient.executeOneRequest(AmazonHttpClient.java:770)\n\tat com.amazonaws.http.AmazonHttpClient.executeHelper(AmazonHttpClient.java:489)\n\tat com.amazonaws.http.AmazonHttpClient.execute(AmazonHttpClient.java:310)\n\tat com.amazonaws.services.s3.AmazonS3Client.invoke(AmazonS3Client.java:3785)\n\tat com.amazonaws.services.s3.AmazonS3Client.headBucket(AmazonS3Client.java:1107)\n\tat com.amazonaws.services.s3.AmazonS3Client.doesBucketExist(AmazonS3Client.java:1070)\n\tat org.apache.hadoop.fs.s3a.S3AFileSystem.verifyBucketExists(S3AFileSystem.java:276)\n\t... 40 more\n",
     "output_type": "error",
     "traceback": [
      "\u001b[0;31m---------------------------------------------------------------------------\u001b[0m",
      "\u001b[0;31mPy4JJavaError\u001b[0m                             Traceback (most recent call last)",
      "\u001b[0;32m<ipython-input-3-c86f300ce937>\u001b[0m in \u001b[0;36m<module>\u001b[0;34m\u001b[0m\n\u001b[1;32m      1\u001b[0m \u001b[0;31m# rdd_capacity = spark.sparkContext.sequenceFile(s3_capacity_path)\u001b[0m\u001b[0;34m\u001b[0m\u001b[0;34m\u001b[0m\u001b[0;34m\u001b[0m\u001b[0m\n\u001b[1;32m      2\u001b[0m \u001b[0;31m# rdd_coverage = spark.sparkContext.sequenceFile(s3_coverage_path)\u001b[0m\u001b[0;34m\u001b[0m\u001b[0;34m\u001b[0m\u001b[0;34m\u001b[0m\u001b[0m\n\u001b[0;32m----> 3\u001b[0;31m \u001b[0mrdd_coverage\u001b[0m \u001b[0;34m=\u001b[0m \u001b[0mspark\u001b[0m\u001b[0;34m.\u001b[0m\u001b[0msparkContext\u001b[0m\u001b[0;34m.\u001b[0m\u001b[0msequenceFile\u001b[0m\u001b[0;34m(\u001b[0m\u001b[0ms3_path\u001b[0m\u001b[0;34m)\u001b[0m\u001b[0;34m\u001b[0m\u001b[0;34m\u001b[0m\u001b[0m\n\u001b[0m\u001b[1;32m      4\u001b[0m \u001b[0mrdd_coverage\u001b[0m\u001b[0;34m.\u001b[0m\u001b[0mfirst\u001b[0m\u001b[0;34m(\u001b[0m\u001b[0;34m)\u001b[0m\u001b[0;34m\u001b[0m\u001b[0;34m\u001b[0m\u001b[0m\n",
      "\u001b[0;32m/opt/mistsys/ds_incubator/venv/spark-2.4.4-bin-without-hadoop/python/pyspark/context.py\u001b[0m in \u001b[0;36msequenceFile\u001b[0;34m(self, path, keyClass, valueClass, keyConverter, valueConverter, minSplits, batchSize)\u001b[0m\n\u001b[1;32m    710\u001b[0m         \u001b[0mminSplits\u001b[0m \u001b[0;34m=\u001b[0m \u001b[0mminSplits\u001b[0m \u001b[0;32mor\u001b[0m \u001b[0mmin\u001b[0m\u001b[0;34m(\u001b[0m\u001b[0mself\u001b[0m\u001b[0;34m.\u001b[0m\u001b[0mdefaultParallelism\u001b[0m\u001b[0;34m,\u001b[0m \u001b[0;36m2\u001b[0m\u001b[0;34m)\u001b[0m\u001b[0;34m\u001b[0m\u001b[0;34m\u001b[0m\u001b[0m\n\u001b[1;32m    711\u001b[0m         jrdd = self._jvm.PythonRDD.sequenceFile(self._jsc, path, keyClass, valueClass,\n\u001b[0;32m--> 712\u001b[0;31m                                                 keyConverter, valueConverter, minSplits, batchSize)\n\u001b[0m\u001b[1;32m    713\u001b[0m         \u001b[0;32mreturn\u001b[0m \u001b[0mRDD\u001b[0m\u001b[0;34m(\u001b[0m\u001b[0mjrdd\u001b[0m\u001b[0;34m,\u001b[0m \u001b[0mself\u001b[0m\u001b[0;34m)\u001b[0m\u001b[0;34m\u001b[0m\u001b[0;34m\u001b[0m\u001b[0m\n\u001b[1;32m    714\u001b[0m \u001b[0;34m\u001b[0m\u001b[0m\n",
      "\u001b[0;32m/opt/mistsys/ds_incubator/venv/spark-2.4.4-bin-without-hadoop/python/lib/py4j-0.10.7-src.zip/py4j/java_gateway.py\u001b[0m in \u001b[0;36m__call__\u001b[0;34m(self, *args)\u001b[0m\n\u001b[1;32m   1255\u001b[0m         \u001b[0manswer\u001b[0m \u001b[0;34m=\u001b[0m \u001b[0mself\u001b[0m\u001b[0;34m.\u001b[0m\u001b[0mgateway_client\u001b[0m\u001b[0;34m.\u001b[0m\u001b[0msend_command\u001b[0m\u001b[0;34m(\u001b[0m\u001b[0mcommand\u001b[0m\u001b[0;34m)\u001b[0m\u001b[0;34m\u001b[0m\u001b[0;34m\u001b[0m\u001b[0m\n\u001b[1;32m   1256\u001b[0m         return_value = get_return_value(\n\u001b[0;32m-> 1257\u001b[0;31m             answer, self.gateway_client, self.target_id, self.name)\n\u001b[0m\u001b[1;32m   1258\u001b[0m \u001b[0;34m\u001b[0m\u001b[0m\n\u001b[1;32m   1259\u001b[0m         \u001b[0;32mfor\u001b[0m \u001b[0mtemp_arg\u001b[0m \u001b[0;32min\u001b[0m \u001b[0mtemp_args\u001b[0m\u001b[0;34m:\u001b[0m\u001b[0;34m\u001b[0m\u001b[0;34m\u001b[0m\u001b[0m\n",
      "\u001b[0;32m/opt/mistsys/ds_incubator/venv/spark-2.4.4-bin-without-hadoop/python/pyspark/sql/utils.py\u001b[0m in \u001b[0;36mdeco\u001b[0;34m(*a, **kw)\u001b[0m\n\u001b[1;32m     61\u001b[0m     \u001b[0;32mdef\u001b[0m \u001b[0mdeco\u001b[0m\u001b[0;34m(\u001b[0m\u001b[0;34m*\u001b[0m\u001b[0ma\u001b[0m\u001b[0;34m,\u001b[0m \u001b[0;34m**\u001b[0m\u001b[0mkw\u001b[0m\u001b[0;34m)\u001b[0m\u001b[0;34m:\u001b[0m\u001b[0;34m\u001b[0m\u001b[0;34m\u001b[0m\u001b[0m\n\u001b[1;32m     62\u001b[0m         \u001b[0;32mtry\u001b[0m\u001b[0;34m:\u001b[0m\u001b[0;34m\u001b[0m\u001b[0;34m\u001b[0m\u001b[0m\n\u001b[0;32m---> 63\u001b[0;31m             \u001b[0;32mreturn\u001b[0m \u001b[0mf\u001b[0m\u001b[0;34m(\u001b[0m\u001b[0;34m*\u001b[0m\u001b[0ma\u001b[0m\u001b[0;34m,\u001b[0m \u001b[0;34m**\u001b[0m\u001b[0mkw\u001b[0m\u001b[0;34m)\u001b[0m\u001b[0;34m\u001b[0m\u001b[0;34m\u001b[0m\u001b[0m\n\u001b[0m\u001b[1;32m     64\u001b[0m         \u001b[0;32mexcept\u001b[0m \u001b[0mpy4j\u001b[0m\u001b[0;34m.\u001b[0m\u001b[0mprotocol\u001b[0m\u001b[0;34m.\u001b[0m\u001b[0mPy4JJavaError\u001b[0m \u001b[0;32mas\u001b[0m \u001b[0me\u001b[0m\u001b[0;34m:\u001b[0m\u001b[0;34m\u001b[0m\u001b[0;34m\u001b[0m\u001b[0m\n\u001b[1;32m     65\u001b[0m             \u001b[0ms\u001b[0m \u001b[0;34m=\u001b[0m \u001b[0me\u001b[0m\u001b[0;34m.\u001b[0m\u001b[0mjava_exception\u001b[0m\u001b[0;34m.\u001b[0m\u001b[0mtoString\u001b[0m\u001b[0;34m(\u001b[0m\u001b[0;34m)\u001b[0m\u001b[0;34m\u001b[0m\u001b[0;34m\u001b[0m\u001b[0m\n",
      "\u001b[0;32m/opt/mistsys/ds_incubator/venv/spark-2.4.4-bin-without-hadoop/python/lib/py4j-0.10.7-src.zip/py4j/protocol.py\u001b[0m in \u001b[0;36mget_return_value\u001b[0;34m(answer, gateway_client, target_id, name)\u001b[0m\n\u001b[1;32m    326\u001b[0m                 raise Py4JJavaError(\n\u001b[1;32m    327\u001b[0m                     \u001b[0;34m\"An error occurred while calling {0}{1}{2}.\\n\"\u001b[0m\u001b[0;34m.\u001b[0m\u001b[0;34m\u001b[0m\u001b[0;34m\u001b[0m\u001b[0m\n\u001b[0;32m--> 328\u001b[0;31m                     format(target_id, \".\", name), value)\n\u001b[0m\u001b[1;32m    329\u001b[0m             \u001b[0;32melse\u001b[0m\u001b[0;34m:\u001b[0m\u001b[0;34m\u001b[0m\u001b[0;34m\u001b[0m\u001b[0m\n\u001b[1;32m    330\u001b[0m                 raise Py4JError(\n",
      "\u001b[0;31mPy4JJavaError\u001b[0m: An error occurred while calling z:org.apache.spark.api.python.PythonRDD.sequenceFile.\n: org.apache.hadoop.fs.s3a.AWSS3IOException: doesBucketExist on mist-secorapp-staging: com.amazonaws.services.s3.model.AmazonS3Exception: Bad Request (Service: Amazon S3; Status Code: 400; Error Code: 400 Bad Request; Request ID: 2HCZ1M0H0ZFG0Q6P), S3 Extended Request ID: iXhah3g8oojXF2ye2i5kZx6WcauCuN8KDQfJWOfy6g1J7E7hmU0mcR12UZoDlw7UGnBUb0MQUnU=: Bad Request (Service: Amazon S3; Status Code: 400; Error Code: 400 Bad Request; Request ID: 2HCZ1M0H0ZFG0Q6P)\n\tat org.apache.hadoop.fs.s3a.S3AUtils.translateException(S3AUtils.java:178)\n\tat org.apache.hadoop.fs.s3a.S3AFileSystem.verifyBucketExists(S3AFileSystem.java:282)\n\tat org.apache.hadoop.fs.s3a.S3AFileSystem.initialize(S3AFileSystem.java:236)\n\tat org.apache.hadoop.fs.FileSystem.createFileSystem(FileSystem.java:2812)\n\tat org.apache.hadoop.fs.FileSystem.access$200(FileSystem.java:100)\n\tat org.apache.hadoop.fs.FileSystem$Cache.getInternal(FileSystem.java:2849)\n\tat org.apache.hadoop.fs.FileSystem$Cache.get(FileSystem.java:2831)\n\tat org.apache.hadoop.fs.FileSystem.get(FileSystem.java:389)\n\tat org.apache.hadoop.fs.Path.getFileSystem(Path.java:356)\n\tat org.apache.hadoop.mapred.FileInputFormat.singleThreadedListStatus(FileInputFormat.java:265)\n\tat org.apache.hadoop.mapred.FileInputFormat.listStatus(FileInputFormat.java:236)\n\tat org.apache.hadoop.mapred.SequenceFileInputFormat.listStatus(SequenceFileInputFormat.java:45)\n\tat org.apache.hadoop.mapred.FileInputFormat.getSplits(FileInputFormat.java:322)\n\tat org.apache.spark.rdd.HadoopRDD.getPartitions(HadoopRDD.scala:204)\n\tat org.apache.spark.rdd.RDD$$anonfun$partitions$2.apply(RDD.scala:253)\n\tat org.apache.spark.rdd.RDD$$anonfun$partitions$2.apply(RDD.scala:251)\n\tat scala.Option.getOrElse(Option.scala:121)\n\tat org.apache.spark.rdd.RDD.partitions(RDD.scala:251)\n\tat org.apache.spark.rdd.MapPartitionsRDD.getPartitions(MapPartitionsRDD.scala:49)\n\tat org.apache.spark.rdd.RDD$$anonfun$partitions$2.apply(RDD.scala:253)\n\tat org.apache.spark.rdd.RDD$$anonfun$partitions$2.apply(RDD.scala:251)\n\tat scala.Option.getOrElse(Option.scala:121)\n\tat org.apache.spark.rdd.RDD.partitions(RDD.scala:251)\n\tat org.apache.spark.rdd.RDD$$anonfun$take$1.apply(RDD.scala:1343)\n\tat org.apache.spark.rdd.RDDOperationScope$.withScope(RDDOperationScope.scala:151)\n\tat org.apache.spark.rdd.RDDOperationScope$.withScope(RDDOperationScope.scala:112)\n\tat org.apache.spark.rdd.RDD.withScope(RDD.scala:363)\n\tat org.apache.spark.rdd.RDD.take(RDD.scala:1337)\n\tat org.apache.spark.api.python.SerDeUtil$.pairRDDToPython(SerDeUtil.scala:239)\n\tat org.apache.spark.api.python.PythonRDD$.sequenceFile(PythonRDD.scala:250)\n\tat org.apache.spark.api.python.PythonRDD.sequenceFile(PythonRDD.scala)\n\tat sun.reflect.NativeMethodAccessorImpl.invoke0(Native Method)\n\tat sun.reflect.NativeMethodAccessorImpl.invoke(NativeMethodAccessorImpl.java:62)\n\tat sun.reflect.DelegatingMethodAccessorImpl.invoke(DelegatingMethodAccessorImpl.java:43)\n\tat java.lang.reflect.Method.invoke(Method.java:498)\n\tat py4j.reflection.MethodInvoker.invoke(MethodInvoker.java:244)\n\tat py4j.reflection.ReflectionEngine.invoke(ReflectionEngine.java:357)\n\tat py4j.Gateway.invoke(Gateway.java:282)\n\tat py4j.commands.AbstractCommand.invokeMethod(AbstractCommand.java:132)\n\tat py4j.commands.CallCommand.execute(CallCommand.java:79)\n\tat py4j.GatewayConnection.run(GatewayConnection.java:238)\n\tat java.lang.Thread.run(Thread.java:748)\nCaused by: com.amazonaws.services.s3.model.AmazonS3Exception: Bad Request (Service: Amazon S3; Status Code: 400; Error Code: 400 Bad Request; Request ID: 2HCZ1M0H0ZFG0Q6P), S3 Extended Request ID: iXhah3g8oojXF2ye2i5kZx6WcauCuN8KDQfJWOfy6g1J7E7hmU0mcR12UZoDlw7UGnBUb0MQUnU=\n\tat com.amazonaws.http.AmazonHttpClient.handleErrorResponse(AmazonHttpClient.java:1182)\n\tat com.amazonaws.http.AmazonHttpClient.executeOneRequest(AmazonHttpClient.java:770)\n\tat com.amazonaws.http.AmazonHttpClient.executeHelper(AmazonHttpClient.java:489)\n\tat com.amazonaws.http.AmazonHttpClient.execute(AmazonHttpClient.java:310)\n\tat com.amazonaws.services.s3.AmazonS3Client.invoke(AmazonS3Client.java:3785)\n\tat com.amazonaws.services.s3.AmazonS3Client.headBucket(AmazonS3Client.java:1107)\n\tat com.amazonaws.services.s3.AmazonS3Client.doesBucketExist(AmazonS3Client.java:1070)\n\tat org.apache.hadoop.fs.s3a.S3AFileSystem.verifyBucketExists(S3AFileSystem.java:276)\n\t... 40 more\n"
     ]
    }
   ],
   "source": [
    "# rdd_capacity = spark.sparkContext.sequenceFile(s3_capacity_path)\n",
    "# rdd_coverage = spark.sparkContext.sequenceFile(s3_coverage_path)\n",
    "rdd_coverage = spark.sparkContext.sequenceFile(s3_path)\n",
    "rdd_coverage.first()"
   ]
  },
  {
   "cell_type": "code",
   "execution_count": null,
   "metadata": {},
   "outputs": [],
   "source": []
  },
  {
   "cell_type": "code",
   "execution_count": 3,
   "metadata": {
    "scrolled": false
   },
   "outputs": [
    {
     "name": "stderr",
     "output_type": "stream",
     "text": [
      "/opt/mistsys/ds_incubator/venv/spark-2.4.4-bin-without-hadoop/python/pyspark/sql/session.py:366: UserWarning: Using RDD of dict to inferSchema is deprecated. Use pyspark.sql.Row instead\n",
      "  warnings.warn(\"Using RDD of dict to inferSchema is deprecated. \"\n"
     ]
    }
   ],
   "source": [
    "import json\n",
    "# rdd_site = rdd.map(lambda x: json.loads(x[1])).map(lambda x: (x.get(\"site_id\"), x.get(\"ap_id\"))).groupByKey()\n",
    "# rdd_site = rdd.map(lambda x: json.loads(x[1])).map(lambda x: (x.get(\"site_id\"))).groupBy('site_id')\n",
    "df_coverage = rdd_coverage.map(lambda x: json.loads(x[1])).toDF() #.map(lambda x: json.loads(x[1])).\n",
    "\n"
   ]
  },
  {
   "cell_type": "code",
   "execution_count": 4,
   "metadata": {},
   "outputs": [
    {
     "name": "stdout",
     "output_type": "stream",
     "text": [
      "root\n",
      " |-- anomaly: string (nullable = true)\n",
      " |-- anomaly_score: double (nullable = true)\n",
      " |-- anomaly_type: string (nullable = true)\n",
      " |-- ap: string (nullable = true)\n",
      " |-- avg_nclients: double (nullable = true)\n",
      " |-- band: string (nullable = true)\n",
      " |-- bandwidth: long (nullable = true)\n",
      " |-- channel: long (nullable = true)\n",
      " |-- dev: string (nullable = true)\n",
      " |-- error_rate: double (nullable = true)\n",
      " |-- events: array (nullable = true)\n",
      " |    |-- element: string (containsNull = true)\n",
      " |-- impacted_wlans: array (nullable = true)\n",
      " |    |-- element: string (containsNull = true)\n",
      " |-- interval: long (nullable = true)\n",
      " |-- max_nclients: double (nullable = true)\n",
      " |-- org: string (nullable = true)\n",
      " |-- power: long (nullable = true)\n",
      " |-- rad_id: string (nullable = true)\n",
      " |-- radio_5s: long (nullable = true)\n",
      " |-- rssi_deviation: double (nullable = true)\n",
      " |-- rssi_hist: map (nullable = true)\n",
      " |    |-- key: string\n",
      " |    |-- value: long (valueContainsNull = true)\n",
      " |-- rssi_mean: double (nullable = true)\n",
      " |-- rssi_mean_base: double (nullable = true)\n",
      " |-- rssi_std: double (nullable = true)\n",
      " |-- rssi_std_base: double (nullable = true)\n",
      " |-- rssi_watermark: long (nullable = true)\n",
      " |-- site: string (nullable = true)\n",
      " |-- sle_capacity: double (nullable = true)\n",
      " |-- sle_capacity_anomaly: boolean (nullable = true)\n",
      " |-- sle_capacity_anomaly_score: double (nullable = true)\n",
      " |-- sle_capacity_base: double (nullable = true)\n",
      " |-- sle_capacity_base_std: double (nullable = true)\n",
      " |-- sle_capacity_error: double (nullable = true)\n",
      " |-- sle_capacity_impacted: double (nullable = true)\n",
      " |-- sle_coverage: double (nullable = true)\n",
      " |-- sle_coverage_anomaly: boolean (nullable = true)\n",
      " |-- sle_coverage_anomaly_score: double (nullable = true)\n",
      " |-- sle_coverage_base: double (nullable = true)\n",
      " |-- sle_coverage_base_std: double (nullable = true)\n",
      " |-- sle_coverage_error: double (nullable = true)\n",
      " |-- sle_coverage_impacted: double (nullable = true)\n",
      " |-- timestamp: long (nullable = true)\n",
      " |-- user_seconds: long (nullable = true)\n",
      " |-- user_seconds_rssi_weak: long (nullable = true)\n",
      " |-- user_seconds_rssi_weak_impacted: long (nullable = true)\n",
      " |-- user_seconds_util_high: long (nullable = true)\n",
      " |-- user_seconds_util_high_impacted: long (nullable = true)\n",
      " |-- util_all_deviation: double (nullable = true)\n",
      " |-- util_all_mean: double (nullable = true)\n",
      " |-- util_all_mean_base: double (nullable = true)\n",
      " |-- util_all_std: double (nullable = true)\n",
      " |-- util_all_std_base: double (nullable = true)\n",
      " |-- util_ap: double (nullable = true)\n",
      " |-- util_cochannel_deviation: double (nullable = true)\n",
      " |-- util_cochannel_mean: double (nullable = true)\n",
      " |-- util_cochannel_mean_base: double (nullable = true)\n",
      " |-- util_cochannel_std: double (nullable = true)\n",
      " |-- util_cochannel_std_base: double (nullable = true)\n",
      " |-- util_nonwifi_deviation: double (nullable = true)\n",
      " |-- util_nonwifi_mean: double (nullable = true)\n",
      " |-- util_nonwifi_mean_base: double (nullable = true)\n",
      " |-- util_nonwifi_std: double (nullable = true)\n",
      " |-- util_nonwifi_std_base: double (nullable = true)\n",
      " |-- util_watermark: long (nullable = true)\n",
      "\n"
     ]
    }
   ],
   "source": [
    "# df_capacity\n",
    "df_coverage.printSchema()"
   ]
  },
  {
   "cell_type": "code",
   "execution_count": 5,
   "metadata": {},
   "outputs": [],
   "source": [
    "\n",
    "# df_capacity.select(\"org\", \"site\",  \"anomaly\", \"anomaly_score\", \"anomaly_type\", \"sle_capacity_anomaly\", \"util_nonwifi_mean\", \"util_cochannel_mean\").show()\n",
    "\n",
    "df_coverage_g = df_coverage.select(\"org\", \"site\", \"anomaly_type\").groupBy(\"org\", \"site\", \"anomaly_type\").count()"
   ]
  },
  {
   "cell_type": "code",
   "execution_count": null,
   "metadata": {},
   "outputs": [],
   "source": []
  },
  {
   "cell_type": "code",
   "execution_count": 7,
   "metadata": {},
   "outputs": [
    {
     "data": {
      "text/plain": [
       "[Row(org='6748cfa6-4e12-11e6-9188-0242ac110007', site='67970e46-4e12-11e6-9188-0242ac110007', anomaly_type='weak_signal', count=48),\n",
       " Row(org='df6a2fdc-5711-11e5-bd84-1258369c38a9', site='ee915a44-b963-11e5-b14c-1258369c38a9', anomaly_type='weak_signal', count=39),\n",
       " Row(org='f4d3653e-4aa3-11e5-8510-1258369c38a9', site='29d2648e-e66b-11e5-a6cd-0242ac110003', anomaly_type='weak_signal', count=25),\n",
       " Row(org='60c27646-e75f-11e6-be92-0242ac110003', site='0a6ceeb3-4b49-4df9-a235-14ac9c85b884', anomaly_type='weak_signal', count=18),\n",
       " Row(org='19163200-4a90-11e5-8b45-1258369c38a9', site='1916d52a-4a90-11e5-8b45-1258369c38a9', anomaly_type='asymmetry_downlink', count=15),\n",
       " Row(org='b0b9f142-aaba-11e6-aafc-0242ac110002', site='fc656275-b157-43fd-b922-5f4f341c19bf', anomaly_type='weak_signal', count=15),\n",
       " Row(org='2dbab92c-7cc4-11e5-ab8b-1258369c38a9', site='dbc8209a-bc93-11e5-9c9b-1258369c38a9', anomaly_type='weak_signal', count=11),\n",
       " Row(org='b425e4f2-ad72-11e6-8a23-0242ac110004', site='c4a51a2c-ad73-11e6-b0cc-0242ac110004', anomaly_type='weak_signal', count=11),\n",
       " Row(org='b687ebd8-5b10-11e5-8a64-1258369c38a9', site='b68899b6-5b10-11e5-8a64-1258369c38a9', anomaly_type='weak_signal', count=10),\n",
       " Row(org='41f579e0-5a00-4164-92f3-662b53ae8c66', site='c475d117-b152-445d-8117-2248046f58f7', anomaly_type='weak_signal', count=9)]"
      ]
     },
     "execution_count": 7,
     "metadata": {},
     "output_type": "execute_result"
    }
   ],
   "source": [
    "df_coverage_g.orderBy('count', ascending=False).take(10)\n",
    "\n",
    "# df_capacity_g.sort('count', ascending=False).show() #\n"
   ]
  },
  {
   "cell_type": "code",
   "execution_count": null,
   "metadata": {},
   "outputs": [],
   "source": []
  },
  {
   "cell_type": "code",
   "execution_count": null,
   "metadata": {},
   "outputs": [],
   "source": []
  },
  {
   "cell_type": "code",
   "execution_count": null,
   "metadata": {},
   "outputs": [],
   "source": []
  },
  {
   "cell_type": "code",
   "execution_count": null,
   "metadata": {},
   "outputs": [],
   "source": []
  },
  {
   "cell_type": "code",
   "execution_count": null,
   "metadata": {},
   "outputs": [],
   "source": []
  },
  {
   "cell_type": "code",
   "execution_count": null,
   "metadata": {},
   "outputs": [],
   "source": []
  },
  {
   "cell_type": "code",
   "execution_count": null,
   "metadata": {},
   "outputs": [],
   "source": []
  }
 ],
 "metadata": {
  "kernelspec": {
   "display_name": "Python 3",
   "language": "python",
   "name": "python3"
  },
  "language_info": {
   "codemirror_mode": {
    "name": "ipython",
    "version": 3
   },
   "file_extension": ".py",
   "mimetype": "text/x-python",
   "name": "python",
   "nbconvert_exporter": "python",
   "pygments_lexer": "ipython3",
   "version": "3.7.4"
  }
 },
 "nbformat": 4,
 "nbformat_minor": 2
}
