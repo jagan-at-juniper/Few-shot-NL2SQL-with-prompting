{
 "cells": [
  {
   "cell_type": "code",
   "execution_count": 1,
   "metadata": {},
   "outputs": [
    {
     "data": {
      "text/plain": [
       "1465337"
      ]
     },
     "execution_count": 1,
     "metadata": {},
     "output_type": "execute_result"
    }
   ],
   "source": [
    "from pyspark.sql.functions import udf, size, avg, count, col,sum, explode\n",
    "import json\n",
    "df = spark.read.orc('s3://mist-secorapp-production/cv-ap-scans-multipartition/cv-ap-scans-multipartition-production/dt=2020-05-14/hr=01')\n",
    "df.filter(col('ap').isNull() & col('ap2').isNull()).count()\n",
    "\n",
    "# df.filter(col('ap').isNull() & col('ap2').isNull()).take(10)"
   ]
  },
  {
   "cell_type": "code",
   "execution_count": 6,
   "metadata": {},
   "outputs": [
    {
     "name": "stdout",
     "output_type": "stream",
     "text": [
      "s3://mist-secorapp-production/cv-ap-scans/cv-ap-scans-multipartition-production/dt=2020-04-23/*\n",
      "23 0\n",
      "s3://mist-secorapp-production/cv-ap-scans/cv-ap-scans-multipartition-production/dt=2020-04-24/*\n",
      "24 0\n",
      "s3://mist-secorapp-production/cv-ap-scans/cv-ap-scans-multipartition-production/dt=2020-04-25/*\n",
      "25 3968841\n"
     ]
    }
   ],
   "source": [
    "\n",
    "s3_bucket = \"s3://mist-secorapp-production/cv-ap-scans/cv-ap-scans-multipartition-production/\"\n",
    "# s3_bucket = \"s3://mist-secorapp-production/cv-ap-scans-multipartition/cv-ap-scans-multipartition-production/\"\n",
    "\n",
    "for day in range(23, 26):\n",
    "    if day<10:\n",
    "        s3_path = s3_bucket + \"dt=2020-04-0{day}/*\".format(day=day)\n",
    "    else:\n",
    "        s3_path = s3_bucket + \"dt=2020-04-{day}/*\".format(day=day)\n",
    "    print(s3_path)\n",
    "\n",
    "    df = spark.read.orc(s3_path)\n",
    "    null_counts = df.filter(col('ap').isNull() & col('ap2').isNull()).count()\n",
    "    print(day, null_counts)\n",
    "#     df.filter(col('ap').isNull() & col('ap2').isNull()).take(10)\n"
   ]
  },
  {
   "cell_type": "code",
   "execution_count": 5,
   "metadata": {},
   "outputs": [
    {
     "data": {
      "text/plain": [
       "[Row(ap=None, ap2=None, band=None, channel=None, in_site=None, org=None, rssi=None, site=None, time=None, radio_channel=None),\n",
       " Row(ap=None, ap2=None, band=None, channel=None, in_site=None, org=None, rssi=None, site=None, time=None, radio_channel=None),\n",
       " Row(ap=None, ap2=None, band=None, channel=None, in_site=None, org=None, rssi=None, site=None, time=None, radio_channel=None),\n",
       " Row(ap=None, ap2=None, band=None, channel=None, in_site=None, org=None, rssi=None, site=None, time=None, radio_channel=None),\n",
       " Row(ap=None, ap2=None, band=None, channel=None, in_site=None, org=None, rssi=None, site=None, time=None, radio_channel=None),\n",
       " Row(ap=None, ap2=None, band=None, channel=None, in_site=None, org=None, rssi=None, site=None, time=None, radio_channel=None),\n",
       " Row(ap=None, ap2=None, band=None, channel=None, in_site=None, org=None, rssi=None, site=None, time=None, radio_channel=None),\n",
       " Row(ap=None, ap2=None, band=None, channel=None, in_site=None, org=None, rssi=None, site=None, time=None, radio_channel=None),\n",
       " Row(ap=None, ap2=None, band=None, channel=None, in_site=None, org=None, rssi=None, site=None, time=None, radio_channel=None),\n",
       " Row(ap=None, ap2=None, band=None, channel=None, in_site=None, org=None, rssi=None, site=None, time=None, radio_channel=None)]"
      ]
     },
     "execution_count": 5,
     "metadata": {},
     "output_type": "execute_result"
    }
   ],
   "source": []
  },
  {
   "cell_type": "code",
   "execution_count": 7,
   "metadata": {},
   "outputs": [
    {
     "data": {
      "text/plain": [
       "[Row(ap='5c5b353e6770', ap2='5c5b350f0ce5', band=24, channel=6, in_site=False, org='d8cec22e-e0c2-11e5-8d0f-02e208b2d34f', rssi=-84.0, site='73ee7edf-edaf-47d0-8268-b485fa05596e', time=datetime.datetime(2020, 5, 14, 1, 54, 26), radio_channel=6),\n",
       " Row(ap='5c5b353e6770', ap2='5c5b350f0cd6', band=24, channel=1, in_site=False, org='d8cec22e-e0c2-11e5-8d0f-02e208b2d34f', rssi=-86.0, site='73ee7edf-edaf-47d0-8268-b485fa05596e', time=datetime.datetime(2020, 5, 14, 1, 54, 26), radio_channel=6)]"
      ]
     },
     "execution_count": 7,
     "metadata": {},
     "output_type": "execute_result"
    }
   ],
   "source": [
    "df.filter(col('ap').isNotNull()).take(2)"
   ]
  },
  {
   "cell_type": "code",
   "execution_count": null,
   "metadata": {},
   "outputs": [],
   "source": []
  }
 ],
 "metadata": {
  "kernelspec": {
   "display_name": "Python 3",
   "language": "python",
   "name": "python3"
  },
  "language_info": {
   "codemirror_mode": {
    "name": "ipython",
    "version": 3
   },
   "file_extension": ".py",
   "mimetype": "text/x-python",
   "name": "python",
   "nbconvert_exporter": "python",
   "pygments_lexer": "ipython3",
   "version": "3.7.4"
  }
 },
 "nbformat": 4,
 "nbformat_minor": 4
}
