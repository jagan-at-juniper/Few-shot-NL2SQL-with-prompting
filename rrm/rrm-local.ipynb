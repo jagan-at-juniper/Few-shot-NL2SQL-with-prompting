{
 "cells": [
  {
   "cell_type": "code",
   "execution_count": 1,
   "metadata": {},
   "outputs": [
    {
     "name": "stdout",
     "output_type": "stream",
     "text": [
      "s3://mist-secorapp-production/rrm-local/rrm-local-production/dt=2020-03-0*/hr=*/*.seq\n"
     ]
    }
   ],
   "source": [
    "from pyspark.sql.functions import udf, size, avg, count, col,sum, explode\n",
    "import json\n",
    "\n",
    "env = \"production\"\n",
    "\n",
    "s3_bucket = \"s3://mist-secorapp-{env}/rrm-local/rrm-local-{env}/\".format(env=env)\n",
    "\n",
    "date_day = \"2020-03-0*\"\n",
    "hr = '*'\n",
    "\n",
    "rrm_local_path = \"dt={day}/hr={hr}/*.seq\".format(env=env, day=date_day, hr=hr)\n",
    "\n",
    "rrm_local_path = s3_bucket + rrm_local_path\n",
    "print(rrm_local_path)\n",
    "\n",
    "\n",
    "\n",
    "user_org_id = \"38a18d4d-1623-4985-86d0-1bb06e5e2a48\"  # UPS\n",
    "user_site_USNYELE = '9aa6ecdb-ddee-41b4-a8d9-872d7962b3c1'  #UPS USNYELE\n",
    "\n",
    "# user_org_id = '38a18d4d-1623-4985-86d0-1bb06e5e2a48'  # UPS\n",
    "user_site_USFLLON = 'c23667f3-47e9-44aa-9761-de49d34ed9f9' # USFLLON\n"
   ]
  },
  {
   "cell_type": "code",
   "execution_count": 2,
   "metadata": {},
   "outputs": [],
   "source": [
    "rdd_rrm_local = spark.sparkContext.sequenceFile(rrm_local_path)\n"
   ]
  },
  {
   "cell_type": "code",
   "execution_count": 7,
   "metadata": {},
   "outputs": [
    {
     "data": {
      "text/plain": [
       "[(58978958,\n",
       "  bytearray(b'{\"updated\": true, \"clients\": 1, \"pre_bandwidth\": 20, \"power\": 12, \"timestamp\": 1583020800, \"site_id\": \"f2543ad9-331f-48de-984f-4f1190837df1\", \"org_id\": \"95c2ff76-5b0a-47b4-a162-de9c4d3c46ba\", \"band\": \"24\", \"bandwidth\": 20, \"rad_id\": \"r24\", \"rrm_bandwidth\": 20, \"rrm_power\": 12, \"rrm_channel\": 6, \"pre_power\": 12, \"when\": \"2020-03-01T00:00:00\", \"rrm_enabled\": true, \"reason\": \"non-wifi\", \"ap_id\": \"5c5b350e2b57\", \"source_data\": \"random.no_rrm_channel\", \"command\": \"capacity-anomaly\", \"channel_update_interval\": 7200, \"pre_channel\": 1, \"channel\": 6}')),\n",
       " (58978959,\n",
       "  bytearray(b'{\"updated\": true, \"clients\": 1, \"pre_bandwidth\": 20, \"power\": 14, \"timestamp\": 1583020800, \"site_id\": \"2f8d3161-8562-48dd-8630-737190cc06b3\", \"org_id\": \"bbb101eb-b62d-4fb1-8c3d-030c6db7e208\", \"band\": \"24\", \"bandwidth\": 20, \"rad_id\": \"r24\", \"rrm_bandwidth\": 20, \"rrm_power\": 14, \"rrm_channel\": 6, \"pre_power\": 14, \"when\": \"2020-03-01T00:00:00\", \"rrm_enabled\": true, \"reason\": \"non-wifi\", \"ap_id\": \"5c5b357e751c\", \"source_data\": \"random.no_rrm_channel\", \"command\": \"capacity-anomaly\", \"channel_update_interval\": 21600, \"pre_channel\": 1, \"channel\": 6}'))]"
      ]
     },
     "execution_count": 7,
     "metadata": {},
     "output_type": "execute_result"
    }
   ],
   "source": [
    "rdd_rrm_local.take(2)"
   ]
  },
  {
   "cell_type": "code",
   "execution_count": 5,
   "metadata": {},
   "outputs": [
    {
     "name": "stdout",
     "output_type": "stream",
     "text": [
      "+------------+----+---------+-------+-----------------------+-------+--------------------+--------------------+-----+-------------+-----------+---------+------+--------------+-------------+-----------+-----------+---------+--------------------+--------------------+----------+-------+-------------------+\n",
      "|       ap_id|band|bandwidth|channel|channel_update_interval|clients|             command|              org_id|power|pre_bandwidth|pre_channel|pre_power|rad_id|        reason|rrm_bandwidth|rrm_channel|rrm_enabled|rrm_power|             site_id|         source_data| timestamp|updated|               when|\n",
      "+------------+----+---------+-------+-----------------------+-------+--------------------+--------------------+-----+-------------+-----------+---------+------+--------------+-------------+-----------+-----------+---------+--------------------+--------------------+----------+-------+-------------------+\n",
      "|5c5b350e2b57|  24|       20|      6|                   7200|      1|    capacity-anomaly|95c2ff76-5b0a-47b...|   12|           20|          1|       12|   r24|      non-wifi|           20|          6|       true|       12|f2543ad9-331f-48d...|random.no_rrm_cha...|1583020800|   true|2020-03-01T00:00:00|\n",
      "|5c5b357e751c|  24|       20|      6|                  21600|      1|    capacity-anomaly|bbb101eb-b62d-4fb...|   14|           20|          1|       14|   r24|      non-wifi|           20|          6|       true|       14|2f8d3161-8562-48d...|random.no_rrm_cha...|1583020800|   true|2020-03-01T00:00:00|\n",
      "|5c5b354f0527|  24|       20|      6|                   7200|      1|    capacity-anomaly|bbb101eb-b62d-4fb...|    8|           20|         11|        8|   r24|      non-wifi|           20|          6|       true|        8|e21897b4-7c2a-462...|random.no_rrm_cha...|1583020800|   true|2020-03-01T00:00:00|\n",
      "|5c5b359ec459|  24|       20|      6|                   7200|      3|    capacity-anomaly|bbb101eb-b62d-4fb...|    8|           20|         11|        8|   r24|      non-wifi|           20|          6|       true|        8|3048204b-8a86-4c3...|random.no_rrm_cha...|1583020800|   true|2020-03-01T00:00:00|\n",
      "|5c5b35ae2454|  24|       20|      6|                   7200|      3|    capacity-anomaly|e0ff2496-c431-4e5...|   17|           20|         11|       17|   r24|      non-wifi|           20|          6|       true|       17|d6e8e41b-daa8-40b...|random.no_rrm_cha...|1583020801|   true|2020-03-01T00:00:01|\n",
      "|5c5b359ec44f|  24|       20|      1|                   7200|      1|    capacity-anomaly|bbb101eb-b62d-4fb...|    8|           20|         11|        8|   r24|      non-wifi|           20|          1|       true|        8|3048204b-8a86-4c3...|random.no_rrm_cha...|1583020802|   true|2020-03-01T00:00:02|\n",
      "|5c5b357eaf64|  24|       20|      6|                  21600|      1|    capacity-anomaly|bbb101eb-b62d-4fb...|   14|           20|          1|       14|   r24|      non-wifi|           20|          6|       true|       14|0aa0acd4-300e-4b2...|random.no_rrm_cha...|1583020802|   true|2020-03-01T00:00:02|\n",
      "|5c5b359f0d06|  24|       20|      6|                   7200|      1|    capacity-anomaly|bbb101eb-b62d-4fb...|    8|           20|          1|        8|   r24|      non-wifi|           20|          6|       true|        8|2420a4cb-f922-41e...|random.no_rrm_cha...|1583020803|   true|2020-03-01T00:00:03|\n",
      "|5c5b359ebe5a|  24|       20|      6|                   7200|      2|    capacity-anomaly|bbb101eb-b62d-4fb...|    8|           20|          1|        8|   r24|      non-wifi|           20|          6|       true|        8|4fcada97-23bf-4ea...|random.no_rrm_cha...|1583020803|   true|2020-03-01T00:00:03|\n",
      "|5c5b354e6766|  24|       20|      6|                  14400|      3|    capacity-anomaly|bbb101eb-b62d-4fb...|    8|           20|         11|        8|   r24|      non-wifi|           20|          6|       true|        8|26746974-50b1-479...|random.no_rrm_cha...|1583020803|   true|2020-03-01T00:00:03|\n",
      "|5c5b35ae3bb5|  24|       20|      6|                  21600|      1|    capacity-anomaly|bbb101eb-b62d-4fb...|    8|           20|          1|        8|   r24|      non-wifi|           20|          6|       true|        8|8770ed49-31a8-434...|random.no_rrm_cha...|1583020804|   true|2020-03-01T00:00:04|\n",
      "|5c5b354efeec|  24|       20|      6|                  18000|      2|    capacity-anomaly|bbb101eb-b62d-4fb...|    8|           20|         11|        8|   r24|      non-wifi|           20|          6|       true|        8|f740426b-0bce-41d...|random.no_rrm_cha...|1583020804|   true|2020-03-01T00:00:04|\n",
      "|5c5b35ae5447|  24|       20|      6|                  14400|      1|    capacity-anomaly|bbb101eb-b62d-4fb...|    8|           20|          1|        8|   r24|      non-wifi|           20|          6|       true|        8|e52b659c-9e97-4ea...|random.no_rrm_cha...|1583020804|   true|2020-03-01T00:00:04|\n",
      "|5c5b354e6f04|  24|       20|      1|                  14400|      1|    capacity-anomaly|bbb101eb-b62d-4fb...|    8|           20|          6|        8|   r24|      non-wifi|           20|          1|       true|        8|ae57e7e2-df4c-4f0...|random.no_rrm_cha...|1583020805|   true|2020-03-01T00:00:05|\n",
      "|5c5b35cf27a5|  24|       20|      6|                   7200|      1|    capacity-anomaly|ffa72c25-1b15-469...|    3|           20|          1|        3|   r24|wifi-cochannel|           20|          6|       true|        3|07075491-a13d-4a1...|random.no_rrm_cha...|1583020805|   true|2020-03-01T00:00:05|\n",
      "|5c5b354ee745|  24|       20|     11|                  18000|      2|interference-request|bbb101eb-b62d-4fb...|    8|           20|          6|        8|   r24|      non-wifi|           20|         11|       true|        8|9ef24860-3037-4ee...|                null|1583020805|   true|2020-03-01T00:00:05|\n",
      "|5c5b353ec83c|  24|       20|     11|                  10800|      1|interference-request|8b03cf50-5cfd-4b5...|   12|           20|          6|       12|   r24|      non-wifi|           20|         11|       true|       12|103a71a6-71f9-40f...|                null|1583020805|   true|2020-03-01T00:00:05|\n",
      "|5c5b353ef21c|  24|       20|      6|                   7200|      1|    capacity-anomaly|c1cac1c4-1753-4dd...|    5|           20|          1|        5|   r24|      non-wifi|           20|          6|       true|        5|7b105312-885c-458...|random.no_rrm_cha...|1583020805|   true|2020-03-01T00:00:05|\n",
      "|5c5b350ea664|  24|       20|     11|                  21600|      1|interference-request|bbb101eb-b62d-4fb...|   14|           20|          1|       14|   r24|      non-wifi|           20|         11|       true|       14|516dfabd-b275-48f...|                null|1583020806|   true|2020-03-01T00:00:06|\n",
      "|5c5b35ae4dda|  24|       20|      1|                  18000|      1|interference-request|604411f1-4e45-4be...|    8|           20|          6|        8|   r24|wifi-cochannel|           20|          1|       true|        8|bbcfd08e-bd9d-4d6...|                null|1583020806|   true|2020-03-01T00:00:06|\n",
      "+------------+----+---------+-------+-----------------------+-------+--------------------+--------------------+-----+-------------+-----------+---------+------+--------------+-------------+-----------+-----------+---------+--------------------+--------------------+----------+-------+-------------------+\n",
      "only showing top 20 rows\n",
      "\n"
     ]
    }
   ],
   "source": [
    "df_rrm = rdd_rrm_local.map(lambda x: json.loads(x[1])).toDF()\n",
    "df_rrm.show()"
   ]
  },
  {
   "cell_type": "code",
   "execution_count": 6,
   "metadata": {},
   "outputs": [
    {
     "name": "stdout",
     "output_type": "stream",
     "text": [
      "root\n",
      " |-- ap_id: string (nullable = true)\n",
      " |-- band: string (nullable = true)\n",
      " |-- bandwidth: long (nullable = true)\n",
      " |-- channel: long (nullable = true)\n",
      " |-- channel_update_interval: long (nullable = true)\n",
      " |-- clients: long (nullable = true)\n",
      " |-- command: string (nullable = true)\n",
      " |-- org_id: string (nullable = true)\n",
      " |-- power: long (nullable = true)\n",
      " |-- pre_bandwidth: long (nullable = true)\n",
      " |-- pre_channel: long (nullable = true)\n",
      " |-- pre_power: long (nullable = true)\n",
      " |-- rad_id: string (nullable = true)\n",
      " |-- reason: string (nullable = true)\n",
      " |-- rrm_bandwidth: long (nullable = true)\n",
      " |-- rrm_channel: long (nullable = true)\n",
      " |-- rrm_enabled: boolean (nullable = true)\n",
      " |-- rrm_power: long (nullable = true)\n",
      " |-- site_id: string (nullable = true)\n",
      " |-- source_data: string (nullable = true)\n",
      " |-- timestamp: long (nullable = true)\n",
      " |-- updated: boolean (nullable = true)\n",
      " |-- when: string (nullable = true)\n",
      "\n"
     ]
    }
   ],
   "source": [
    "df_rrm.printSchema()"
   ]
  },
  {
   "cell_type": "code",
   "execution_count": null,
   "metadata": {},
   "outputs": [],
   "source": []
  },
  {
   "cell_type": "code",
   "execution_count": null,
   "metadata": {},
   "outputs": [],
   "source": []
  },
  {
   "cell_type": "code",
   "execution_count": null,
   "metadata": {},
   "outputs": [],
   "source": [
    "df_USNYELE = df_rrm.filter((col('site_id')==user_site_USNYELE) & (col('band')==5))\n",
    "df_USFLLON = df_rrm.filter((col('site_id')==user_site_USFLLON) & (col('band')==5))"
   ]
  },
  {
   "cell_type": "code",
   "execution_count": null,
   "metadata": {},
   "outputs": [],
   "source": [
    "df_USNYELE.select(\"command\", \"reason\").groupBy(\"command\", 'reason').count().show()"
   ]
  },
  {
   "cell_type": "code",
   "execution_count": null,
   "metadata": {},
   "outputs": [],
   "source": [
    "df_USFLLON.select(\"command\", \"reason\").groupBy(\"command\", 'reason').count().show()"
   ]
  },
  {
   "cell_type": "code",
   "execution_count": null,
   "metadata": {},
   "outputs": [],
   "source": [
    "df_USFLLON.filter(col(\"command\")==\"rrm-global\").groupBy(\"band\",'when', \"command\", 'reason').count().show()"
   ]
  },
  {
   "cell_type": "code",
   "execution_count": null,
   "metadata": {},
   "outputs": [],
   "source": []
  },
  {
   "cell_type": "code",
   "execution_count": null,
   "metadata": {},
   "outputs": [],
   "source": []
  },
  {
   "cell_type": "code",
   "execution_count": null,
   "metadata": {},
   "outputs": [],
   "source": []
  }
 ],
 "metadata": {
  "kernelspec": {
   "display_name": "Python 3",
   "language": "python",
   "name": "python3"
  },
  "language_info": {
   "codemirror_mode": {
    "name": "ipython",
    "version": 3
   },
   "file_extension": ".py",
   "mimetype": "text/x-python",
   "name": "python",
   "nbconvert_exporter": "python",
   "pygments_lexer": "ipython3",
   "version": "3.7.4"
  }
 },
 "nbformat": 4,
 "nbformat_minor": 4
}
