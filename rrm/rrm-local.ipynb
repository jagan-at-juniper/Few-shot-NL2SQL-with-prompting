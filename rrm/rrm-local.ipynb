{
 "cells": [
  {
   "cell_type": "code",
   "execution_count": 23,
   "metadata": {},
   "outputs": [
    {
     "name": "stdout",
     "output_type": "stream",
     "text": [
      "s3://mist-secorapp-production/rrm-local/rrm-local-production/dt=2020-03-0[45]/hr=*/*.seq\n"
     ]
    }
   ],
   "source": [
    "from pyspark.sql.functions import udf, size, avg, count, col,sum, explode\n",
    "import json\n",
    "\n",
    "env = \"production\"\n",
    "\n",
    "s3_bucket = \"s3://mist-secorapp-{env}/rrm-local/rrm-local-{env}/\".format(env=env)\n",
    "\n",
    "date_day = \"2020-03-0[45]\"\n",
    "hr = '*'\n",
    "\n",
    "rrm_local_path = \"dt={day}/hr={hr}/*.seq\".format(env=env, day=date_day, hr=hr)\n",
    "\n",
    "rrm_local_path = s3_bucket + rrm_local_path\n",
    "print(rrm_local_path)\n",
    "\n",
    "\n",
    "\n",
    "user_org_id = \"38a18d4d-1623-4985-86d0-1bb06e5e2a48\"  # UPS\n",
    "user_site_USNYELE = '9aa6ecdb-ddee-41b4-a8d9-872d7962b3c1'  #UPS USNYELE\n",
    "\n",
    "# user_org_id = '38a18d4d-1623-4985-86d0-1bb06e5e2a48'  # UPS\n",
    "user_site_USFLLON = 'c23667f3-47e9-44aa-9761-de49d34ed9f9' # USFLLON\n"
   ]
  },
  {
   "cell_type": "code",
   "execution_count": 11,
   "metadata": {},
   "outputs": [],
   "source": [
    "rdd_rrm_local = spark.sparkContext.sequenceFile(rrm_local_path)\n"
   ]
  },
  {
   "cell_type": "code",
   "execution_count": 14,
   "metadata": {},
   "outputs": [
    {
     "data": {
      "text/plain": [
       "(59408017,\n",
       " bytearray(b'{\"updated\": true, \"clients\": 2, \"pre_bandwidth\": 20, \"power\": 8, \"timestamp\": 1583280001, \"site_id\": \"5dab2c3d-959c-460a-b032-3370d5bae2fb\", \"org_id\": \"bbb101eb-b62d-4fb1-8c3d-030c6db7e208\", \"band\": \"24\", \"bandwidth\": 20, \"rad_id\": \"r24\", \"rrm_bandwidth\": 20, \"rrm_power\": 8, \"rrm_channel\": 6, \"pre_power\": 8, \"when\": \"2020-03-04T00:00:01\", \"rrm_enabled\": true, \"reason\": \"non-wifi\", \"ap_id\": \"5c5b354e3741\", \"source_data\": \"random.no_rrm_channel\", \"command\": \"capacity-anomaly\", \"channel_update_interval\": 7200, \"pre_channel\": 11, \"channel\": 6}'))"
      ]
     },
     "execution_count": 14,
     "metadata": {},
     "output_type": "execute_result"
    }
   ],
   "source": [
    "rdd_rrm_local.first()"
   ]
  },
  {
   "cell_type": "code",
   "execution_count": 26,
   "metadata": {},
   "outputs": [
    {
     "name": "stderr",
     "output_type": "stream",
     "text": [
      "/opt/mistsys/ds_incubator/venv/spark-2.4.4-bin-without-hadoop/python/pyspark/sql/session.py:366: UserWarning: Using RDD of dict to inferSchema is deprecated. Use pyspark.sql.Row instead\n",
      "  warnings.warn(\"Using RDD of dict to inferSchema is deprecated. \"\n"
     ]
    },
    {
     "name": "stdout",
     "output_type": "stream",
     "text": [
      "+------------+----+---------+-------+-----------------------+-------+--------------------+--------------------+-----+-------------+-----------+---------+------+--------------+-------------+-----------+-----------+---------+--------------------+--------------------+----------+-------+-------------------+\n",
      "|       ap_id|band|bandwidth|channel|channel_update_interval|clients|             command|              org_id|power|pre_bandwidth|pre_channel|pre_power|rad_id|        reason|rrm_bandwidth|rrm_channel|rrm_enabled|rrm_power|             site_id|         source_data| timestamp|updated|               when|\n",
      "+------------+----+---------+-------+-----------------------+-------+--------------------+--------------------+-----+-------------+-----------+---------+------+--------------+-------------+-----------+-----------+---------+--------------------+--------------------+----------+-------+-------------------+\n",
      "|5c5b354e3741|  24|       20|      6|                   7200|      2|    capacity-anomaly|bbb101eb-b62d-4fb...|    8|           20|         11|        8|   r24|      non-wifi|           20|          6|       true|        8|5dab2c3d-959c-460...|random.no_rrm_cha...|1583280001|   true|2020-03-04T00:00:01|\n",
      "|5c5b354f66b6|  24|       20|      6|                   7200|      1|    capacity-anomaly|bbb101eb-b62d-4fb...|    8|           20|          1|        8|   r24|      non-wifi|           20|          6|       true|        8|856c3531-8cb0-4a3...|random.no_rrm_cha...|1583280002|   true|2020-03-04T00:00:02|\n",
      "|5c5b354ef0f5|  24|       20|      6|                  10800|      2|    capacity-anomaly|bbb101eb-b62d-4fb...|    8|           20|          1|        8|   r24|      non-wifi|           20|          6|       true|        8|f2ec45a3-c7d5-4ac...|random.no_rrm_cha...|1583280002|   true|2020-03-04T00:00:02|\n",
      "|5c5b35af3272|   5|       20|     52|                   7200|      3|    capacity-anomaly|604411f1-4e45-4be...|    8|           20|         40|        8|    r5|      non-wifi|           20|         52|       true|        8|46443cfe-91dd-407...|random.no_rrm_cha...|1583280002|   true|2020-03-04T00:00:02|\n",
      "|5c5b35be0096|  24|       20|      6|                  10800|      1|    capacity-anomaly|bbb101eb-b62d-4fb...|    8|           20|          1|        8|   r24|      non-wifi|           20|          6|       true|        8|d2a43c96-f59d-49c...|random.no_rrm_cha...|1583280002|   true|2020-03-04T00:00:02|\n",
      "|5c5b354f38c6|  24|       20|      6|                   7200|      4|    capacity-anomaly|bbb101eb-b62d-4fb...|    8|           20|          1|        8|   r24|      non-wifi|           20|          6|       true|        8|562ad0a2-d58f-4e7...|random.no_rrm_cha...|1583280002|   true|2020-03-04T00:00:02|\n",
      "|5c5b359e8ef8|  24|       20|      6|                  14400|      1|    capacity-anomaly|bbb101eb-b62d-4fb...|    8|           20|         11|        8|   r24|      non-wifi|           20|          6|       true|        8|60b37845-af21-483...|random.no_rrm_cha...|1583280002|   true|2020-03-04T00:00:02|\n",
      "|5c5b359ebf4a|  24|       20|      6|                   7200|      1|    capacity-anomaly|bbb101eb-b62d-4fb...|    8|           20|         11|        8|   r24|wifi-cochannel|           20|          6|       true|        8|da75ea4a-47e4-455...|random.no_rrm_cha...|1583280003|   true|2020-03-04T00:00:03|\n",
      "|d420b000e4e3|  24|       20|      1|                  21600|      1|interference-request|c1cac1c4-1753-4dd...|    6|           20|          6|        6|   r24|      non-wifi|           20|          1|       true|        6|282b6b60-d9cd-4f3...|                null|1583280003|   true|2020-03-04T00:00:03|\n",
      "|5c5b35aeda98|  24|       20|      6|                   7200|      1|    capacity-anomaly|604411f1-4e45-4be...|    8|           20|         11|        8|   r24|      non-wifi|           20|          6|       true|        8|49b64ac8-12fd-4ac...|random.no_rrm_cha...|1583280003|   true|2020-03-04T00:00:03|\n",
      "|5c5b350e2c3d|  24|       20|      6|                  18000|      2|    capacity-anomaly|95c2ff76-5b0a-47b...|   12|           20|          1|       12|   r24|      non-wifi|           20|          6|       true|       12|f2543ad9-331f-48d...|random.no_rrm_cha...|1583280005|   true|2020-03-04T00:00:05|\n",
      "|5c5b35ae582f|  24|       20|      6|                   7200|      5|    capacity-anomaly|bbb101eb-b62d-4fb...|    8|           20|          1|        8|   r24|      non-wifi|           20|          6|       true|        8|e85323ea-b26c-472...|random.no_rrm_cha...|1583280006|   true|2020-03-04T00:00:06|\n",
      "|5c5b35ae3539|  24|       20|      6|                  21600|      1|    capacity-anomaly|bbb101eb-b62d-4fb...|    8|           20|          1|        8|   r24|      non-wifi|           20|          6|       true|        8|c7efcd2b-b5d2-453...|random.no_rrm_cha...|1583280006|   true|2020-03-04T00:00:06|\n",
      "|5c5b350e8c60|  24|       20|      6|                  14400|      2|    capacity-anomaly|9e705fa5-fe73-472...|   10|           20|         11|       10|   r24|      non-wifi|           20|          6|       true|       10|23a47849-2be8-470...|random.no_rrm_cha...|1583280008|   true|2020-03-04T00:00:08|\n",
      "|5c5b35aef84d|  24|       20|      6|                   7200|      3|    capacity-anomaly|bbb101eb-b62d-4fb...|    8|           20|          1|        8|   r24|      non-wifi|           20|          6|       true|        8|06552ca8-cef1-45d...|random.no_rrm_cha...|1583280008|   true|2020-03-04T00:00:08|\n",
      "|5c5b359e89c1|  24|       20|      1|                   7200|      1|    capacity-anomaly|bbb101eb-b62d-4fb...|    8|           20|          6|        8|   r24|      non-wifi|           20|          1|       true|        8|60b37845-af21-483...|random.no_rrm_cha...|1583280008|   true|2020-03-04T00:00:08|\n",
      "|5c5b352eb32e|  24|       20|     11|                  21600|      1|interference-request|2af29430-f6b8-11e...|    5|           20|          6|        5|   r24|      non-wifi|           20|         11|       true|        5|96488ea8-6dee-11e...|random.no_rrm_cha...|1583280008|   true|2020-03-04T00:00:08|\n",
      "|5c5b352e6eeb|  24|       20|      6|                   7200|      1|    capacity-anomaly|f5451dc6-aa80-4d1...|    8|           20|          1|        8|   r24|      non-wifi|           20|          6|       true|        8|0036a1b9-254b-42d...|random.no_rrm_cha...|1583280008|   true|2020-03-04T00:00:08|\n",
      "|5c5b358efb63|   5|       40|     44|                   7200|      4|interference-request|a8c903ae-e6d0-42a...|   14|           40|        161|       14|    r5|wifi-cochannel|           40|         44|       true|       14|a9d6786f-d2c7-465...|                null|1583280008|   true|2020-03-04T00:00:08|\n",
      "|5c5b35ae9916|  24|       20|      6|                   7200|      2|    capacity-anomaly|bbb101eb-b62d-4fb...|    8|           20|          1|        8|   r24|      non-wifi|           20|          6|       true|        8|46b1dc7b-4a18-498...|random.no_rrm_cha...|1583280008|   true|2020-03-04T00:00:08|\n",
      "+------------+----+---------+-------+-----------------------+-------+--------------------+--------------------+-----+-------------+-----------+---------+------+--------------+-------------+-----------+-----------+---------+--------------------+--------------------+----------+-------+-------------------+\n",
      "only showing top 20 rows\n",
      "\n"
     ]
    }
   ],
   "source": [
    "df_rrm = rdd_rrm_local.map(lambda x: json.loads(x[1])).toDF()\n",
    "df_rrm.show()"
   ]
  },
  {
   "cell_type": "code",
   "execution_count": 29,
   "metadata": {},
   "outputs": [],
   "source": [
    "df_USNYELE = df_rrm.filter(col('site_id')==user_site_USNYELE)\n",
    "df_USFLLON = df_rrm.filter(col('site_id')==user_site_USFLLON)"
   ]
  },
  {
   "cell_type": "code",
   "execution_count": 33,
   "metadata": {},
   "outputs": [
    {
     "name": "stdout",
     "output_type": "stream",
     "text": [
      "+--------------------+-----+\n",
      "|              reason|count|\n",
      "+--------------------+-----+\n",
      "|            non-wifi|   19|\n",
      "|wifi-cochannel-ex...|    2|\n",
      "|      rrmG-scheduled|   35|\n",
      "|      wifi-cochannel|    8|\n",
      "+--------------------+-----+\n",
      "\n"
     ]
    }
   ],
   "source": [
    "df_USNYELE.select(\"command\", \"reason\").groupBy('reason').count().show()"
   ]
  },
  {
   "cell_type": "code",
   "execution_count": null,
   "metadata": {},
   "outputs": [],
   "source": [
    "df_USFLLON.select(\"command\", \"reason\").groupBy('reason').count().show()"
   ]
  },
  {
   "cell_type": "code",
   "execution_count": null,
   "metadata": {},
   "outputs": [],
   "source": []
  },
  {
   "cell_type": "code",
   "execution_count": null,
   "metadata": {},
   "outputs": [],
   "source": []
  },
  {
   "cell_type": "code",
   "execution_count": null,
   "metadata": {},
   "outputs": [],
   "source": []
  },
  {
   "cell_type": "code",
   "execution_count": null,
   "metadata": {},
   "outputs": [],
   "source": []
  }
 ],
 "metadata": {
  "kernelspec": {
   "display_name": "Python 3",
   "language": "python",
   "name": "python3"
  },
  "language_info": {
   "codemirror_mode": {
    "name": "ipython",
    "version": 3
   },
   "file_extension": ".py",
   "mimetype": "text/x-python",
   "name": "python",
   "nbconvert_exporter": "python",
   "pygments_lexer": "ipython3",
   "version": "3.7.4"
  }
 },
 "nbformat": 4,
 "nbformat_minor": 4
}
