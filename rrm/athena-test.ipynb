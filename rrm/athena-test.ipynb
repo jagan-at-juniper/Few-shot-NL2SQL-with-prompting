{
 "cells": [
  {
   "cell_type": "code",
   "execution_count": 10,
   "metadata": {},
   "outputs": [],
   "source": [
    "import boto3\n",
    "\n",
    "client = boto3.client('athena',region_name='us-east-1')\n",
    "s3_input = 's3://mist-secor-production/cv-sle-multipartition/'\n",
    "\n",
    "# bucket = 'mist-{ENV}-athena'.format(ENV=env)\n",
    "# s3_ouput = 's3://%s/results/' % bucket\n",
    "# download_path = os.curdir + '/../downloads/'\n",
    "\n",
    "s3_output = 's3://aws-athena-query-results-660610034966-us-east-1/test'\n",
    "\n",
    "database = 'secorapp-production'\n",
    "table = 'cv_sle_multipartition'\n",
    "#Function for starting athena query\n",
    "def run_query(query, database, s3_output):\n",
    "    response = client.start_query_execution(\n",
    "        QueryString=query,\n",
    "        QueryExecutionContext={\n",
    "            'Database': database\n",
    "            },\n",
    "        ResultConfiguration={\n",
    "            'OutputLocation': s3_output,\n",
    "            }\n",
    "        )\n",
    "    print('Execution ID: ' + response['QueryExecutionId'])\n",
    "    return response"
   ]
  },
  {
   "cell_type": "code",
   "execution_count": 11,
   "metadata": {},
   "outputs": [],
   "source": [
    "def create_query(minute, days, siteid):\n",
    "    query = \"\"\"\n",
    "    SELECT sum(duration) AS duration,\n",
    "             site_id ,\n",
    "             date_trunc('minute', date_add('minute', -(minute(time)%{minute}), time)) AS hour,\n",
    "             count(distinct client_wcid) as counts,\n",
    "             count(distinct CASE WHEN classifier != '' THEN client_wcid ELSE NULL END) as impacted_counts,\n",
    "             SUM(CASE WHEN classifier != '' THEN duration ELSE 0 END) failure,\n",
    "             SUM(CASE WHEN classifier = '' THEN duration ELSE 0 END) success,\n",
    "             SUM(CASE WHEN classifier = 'association' THEN duration ELSE 0 END) association,\n",
    "             SUM(CASE WHEN classifier = 'authentication' THEN duration ELSE 0 END) authentication,\n",
    "             SUM(CASE WHEN classifier = 'dhcp' THEN duration ELSE 0 END) dhcp,\n",
    "             SUM(CASE WHEN classifier = 'unclear' THEN duration ELSE 0 END) unclear\n",
    "    FROM \"secorapp-production\".\"cv_sle_multipartition\"\n",
    "    WHERE time > date_add('day',-{days},now())\n",
    "            AND site_id='{siteid}'\n",
    "            AND metric='connect-failures'\n",
    "    GROUP BY  2, 3\n",
    "    ORDER BY  3 asc\n",
    "    \"\"\"\n",
    "    query = query.format(minute=minute, days=days, siteid=siteid)\n",
    "    return query\n",
    "\n",
    "# Wait for the file to be ready\n",
    "def fetch_query_result(local_file_name, res):\n",
    "    _N_iteration = 20\n",
    "    _waiting_time = 5 #in Second\n",
    "    s3 = boto3.resource('s3')\n",
    "    Bucket = 'aws-athena-query-results-660610034966-us-east-1'\n",
    "    my_bucket = s3.Bucket(Bucket)\n",
    "    key = \"test/{EXEC_ID}.csv\".format(EXEC_ID=res['QueryExecutionId'])\n",
    "    for _ in range(_N_iteration):\n",
    "        objs = list(my_bucket.objects.filter(Prefix=key))\n",
    "        if len(objs) > 0 and objs[0].key == key:\n",
    "            my_bucket.download_file(key,Filename=local_file_name)\n",
    "            return\n",
    "        else:\n",
    "            time.sleep(_waiting_time)\n",
    "    my_bucket.download_file(key,Filename=local_file_name)"
   ]
  },
  {
   "cell_type": "code",
   "execution_count": 12,
   "metadata": {},
   "outputs": [
    {
     "ename": "ClientError",
     "evalue": "An error occurred (AccessDeniedException) when calling the StartQueryExecution operation: User: arn:aws:sts::660610034966:assumed-role/Viewer/wenfeng@mistsys.com is not authorized to perform: athena:StartQueryExecution on resource: arn:aws:athena:us-east-1:660610034966:workgroup/primary",
     "output_type": "error",
     "traceback": [
      "\u001b[0;31m---------------------------------------------------------------------------\u001b[0m",
      "\u001b[0;31mClientError\u001b[0m                               Traceback (most recent call last)",
      "\u001b[0;32m<ipython-input-12-4e2b5080e2b4>\u001b[0m in \u001b[0;36m<module>\u001b[0;34m\u001b[0m\n\u001b[1;32m      4\u001b[0m \u001b[0mquery\u001b[0m \u001b[0;34m=\u001b[0m \u001b[0mcreate_query\u001b[0m\u001b[0;34m(\u001b[0m\u001b[0mminute\u001b[0m\u001b[0;34m=\u001b[0m\u001b[0mminute\u001b[0m\u001b[0;34m,\u001b[0m \u001b[0mdays\u001b[0m\u001b[0;34m=\u001b[0m\u001b[0mdays\u001b[0m\u001b[0;34m,\u001b[0m \u001b[0msiteid\u001b[0m\u001b[0;34m=\u001b[0m\u001b[0msiteid\u001b[0m\u001b[0;34m)\u001b[0m\u001b[0;34m\u001b[0m\u001b[0;34m\u001b[0m\u001b[0m\n\u001b[1;32m      5\u001b[0m \u001b[0;31m#query = 'SELECT id, svis[0] FROM \"secorapp-staging\".\"ap_stats_analytics\" limit 10'\u001b[0m\u001b[0;34m\u001b[0m\u001b[0;34m\u001b[0m\u001b[0;34m\u001b[0m\u001b[0m\n\u001b[0;32m----> 6\u001b[0;31m \u001b[0mres\u001b[0m \u001b[0;34m=\u001b[0m \u001b[0mrun_query\u001b[0m\u001b[0;34m(\u001b[0m\u001b[0mquery\u001b[0m\u001b[0;34m,\u001b[0m \u001b[0mdatabase\u001b[0m\u001b[0;34m,\u001b[0m \u001b[0ms3_output\u001b[0m\u001b[0;34m)\u001b[0m\u001b[0;34m\u001b[0m\u001b[0;34m\u001b[0m\u001b[0m\n\u001b[0m\u001b[1;32m      7\u001b[0m \u001b[0mlocal_file_name\u001b[0m \u001b[0;34m=\u001b[0m \u001b[0;34m'/tmp/{siteid}_v2.06.csv'\u001b[0m\u001b[0;34m.\u001b[0m\u001b[0mformat\u001b[0m\u001b[0;34m(\u001b[0m\u001b[0msiteid\u001b[0m\u001b[0;34m=\u001b[0m\u001b[0msiteid\u001b[0m\u001b[0;34m)\u001b[0m\u001b[0;34m\u001b[0m\u001b[0;34m\u001b[0m\u001b[0m\n\u001b[1;32m      8\u001b[0m \u001b[0mfetch_query_result\u001b[0m\u001b[0;34m(\u001b[0m\u001b[0mlocal_file_name\u001b[0m\u001b[0;34m,\u001b[0m \u001b[0mres\u001b[0m\u001b[0;34m)\u001b[0m\u001b[0;34m\u001b[0m\u001b[0;34m\u001b[0m\u001b[0m\n",
      "\u001b[0;32m<ipython-input-10-99709cfb5fc8>\u001b[0m in \u001b[0;36mrun_query\u001b[0;34m(query, database, s3_output)\u001b[0m\n\u001b[1;32m     20\u001b[0m             },\n\u001b[1;32m     21\u001b[0m         ResultConfiguration={\n\u001b[0;32m---> 22\u001b[0;31m             \u001b[0;34m'OutputLocation'\u001b[0m\u001b[0;34m:\u001b[0m \u001b[0ms3_output\u001b[0m\u001b[0;34m,\u001b[0m\u001b[0;34m\u001b[0m\u001b[0;34m\u001b[0m\u001b[0m\n\u001b[0m\u001b[1;32m     23\u001b[0m             }\n\u001b[1;32m     24\u001b[0m         )\n",
      "\u001b[0;32m/opt/mistsys/ds_incubator/venv/lib/python3.7/site-packages/botocore/client.py\u001b[0m in \u001b[0;36m_api_call\u001b[0;34m(self, *args, **kwargs)\u001b[0m\n\u001b[1;32m    314\u001b[0m                     \"%s() only accepts keyword arguments.\" % py_operation_name)\n\u001b[1;32m    315\u001b[0m             \u001b[0;31m# The \"self\" in this scope is referring to the BaseClient.\u001b[0m\u001b[0;34m\u001b[0m\u001b[0;34m\u001b[0m\u001b[0;34m\u001b[0m\u001b[0m\n\u001b[0;32m--> 316\u001b[0;31m             \u001b[0;32mreturn\u001b[0m \u001b[0mself\u001b[0m\u001b[0;34m.\u001b[0m\u001b[0m_make_api_call\u001b[0m\u001b[0;34m(\u001b[0m\u001b[0moperation_name\u001b[0m\u001b[0;34m,\u001b[0m \u001b[0mkwargs\u001b[0m\u001b[0;34m)\u001b[0m\u001b[0;34m\u001b[0m\u001b[0;34m\u001b[0m\u001b[0m\n\u001b[0m\u001b[1;32m    317\u001b[0m \u001b[0;34m\u001b[0m\u001b[0m\n\u001b[1;32m    318\u001b[0m         \u001b[0m_api_call\u001b[0m\u001b[0;34m.\u001b[0m\u001b[0m__name__\u001b[0m \u001b[0;34m=\u001b[0m \u001b[0mstr\u001b[0m\u001b[0;34m(\u001b[0m\u001b[0mpy_operation_name\u001b[0m\u001b[0;34m)\u001b[0m\u001b[0;34m\u001b[0m\u001b[0;34m\u001b[0m\u001b[0m\n",
      "\u001b[0;32m/opt/mistsys/ds_incubator/venv/lib/python3.7/site-packages/botocore/client.py\u001b[0m in \u001b[0;36m_make_api_call\u001b[0;34m(self, operation_name, api_params)\u001b[0m\n\u001b[1;32m    624\u001b[0m             \u001b[0merror_code\u001b[0m \u001b[0;34m=\u001b[0m \u001b[0mparsed_response\u001b[0m\u001b[0;34m.\u001b[0m\u001b[0mget\u001b[0m\u001b[0;34m(\u001b[0m\u001b[0;34m\"Error\"\u001b[0m\u001b[0;34m,\u001b[0m \u001b[0;34m{\u001b[0m\u001b[0;34m}\u001b[0m\u001b[0;34m)\u001b[0m\u001b[0;34m.\u001b[0m\u001b[0mget\u001b[0m\u001b[0;34m(\u001b[0m\u001b[0;34m\"Code\"\u001b[0m\u001b[0;34m)\u001b[0m\u001b[0;34m\u001b[0m\u001b[0;34m\u001b[0m\u001b[0m\n\u001b[1;32m    625\u001b[0m             \u001b[0merror_class\u001b[0m \u001b[0;34m=\u001b[0m \u001b[0mself\u001b[0m\u001b[0;34m.\u001b[0m\u001b[0mexceptions\u001b[0m\u001b[0;34m.\u001b[0m\u001b[0mfrom_code\u001b[0m\u001b[0;34m(\u001b[0m\u001b[0merror_code\u001b[0m\u001b[0;34m)\u001b[0m\u001b[0;34m\u001b[0m\u001b[0;34m\u001b[0m\u001b[0m\n\u001b[0;32m--> 626\u001b[0;31m             \u001b[0;32mraise\u001b[0m \u001b[0merror_class\u001b[0m\u001b[0;34m(\u001b[0m\u001b[0mparsed_response\u001b[0m\u001b[0;34m,\u001b[0m \u001b[0moperation_name\u001b[0m\u001b[0;34m)\u001b[0m\u001b[0;34m\u001b[0m\u001b[0;34m\u001b[0m\u001b[0m\n\u001b[0m\u001b[1;32m    627\u001b[0m         \u001b[0;32melse\u001b[0m\u001b[0;34m:\u001b[0m\u001b[0;34m\u001b[0m\u001b[0;34m\u001b[0m\u001b[0m\n\u001b[1;32m    628\u001b[0m             \u001b[0;32mreturn\u001b[0m \u001b[0mparsed_response\u001b[0m\u001b[0;34m\u001b[0m\u001b[0;34m\u001b[0m\u001b[0m\n",
      "\u001b[0;31mClientError\u001b[0m: An error occurred (AccessDeniedException) when calling the StartQueryExecution operation: User: arn:aws:sts::660610034966:assumed-role/Viewer/wenfeng@mistsys.com is not authorized to perform: athena:StartQueryExecution on resource: arn:aws:athena:us-east-1:660610034966:workgroup/primary"
     ]
    }
   ],
   "source": [
    "minute = 60\n",
    "days = 1\n",
    "siteid = '67970e46-4e12-11e6-9188-0242ac110007'\n",
    "query = create_query(minute=minute, days=days, siteid=siteid)\n",
    "#query = 'SELECT id, svis[0] FROM \"secorapp-staging\".\"ap_stats_analytics\" limit 10'\n",
    "res = run_query(query, database, s3_output)\n",
    "local_file_name = '/tmp/{siteid}_v2.06.csv'.format(siteid=siteid)\n",
    "fetch_query_result(local_file_name, res)"
   ]
  },
  {
   "cell_type": "code",
   "execution_count": null,
   "metadata": {},
   "outputs": [],
   "source": []
  }
 ],
 "metadata": {
  "kernelspec": {
   "display_name": "Python 3",
   "language": "python",
   "name": "python3"
  },
  "language_info": {
   "codemirror_mode": {
    "name": "ipython",
    "version": 3
   },
   "file_extension": ".py",
   "mimetype": "text/x-python",
   "name": "python",
   "nbconvert_exporter": "python",
   "pygments_lexer": "ipython3",
   "version": "3.7.4"
  }
 },
 "nbformat": 4,
 "nbformat_minor": 4
}
