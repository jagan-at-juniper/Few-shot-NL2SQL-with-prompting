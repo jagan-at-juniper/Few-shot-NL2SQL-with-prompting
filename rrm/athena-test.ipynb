{
 "cells": [
  {
   "cell_type": "code",
   "execution_count": 4,
   "metadata": {},
   "outputs": [],
   "source": [
    "import boto3\n",
    "import time\n",
    "\n",
    "client = boto3.client('athena',region_name='us-east-1')\n",
    "s3_input = 's3://mist-secor-production/cv-sle-multipartition/'\n",
    "\n",
    "# bucket = 'mist-{ENV}-athena'.format(ENV=env)\n",
    "# s3_ouput = 's3://%s/results/' % bucket\n",
    "# download_path = os.curdir + '/../downloads/'\n",
    "\n",
    "s3_output = 's3://aws-athena-query-results-660610034966-us-east-1/test'\n",
    "\n",
    "database = 'secorapp-production'\n",
    "table = 'cv_sle_multipartition'\n",
    "#Function for starting athena query\n",
    "def run_query(query, database, s3_output):\n",
    "    response = client.start_query_execution(\n",
    "        QueryString=query,\n",
    "        QueryExecutionContext={\n",
    "            'Database': database\n",
    "            },\n",
    "        ResultConfiguration={\n",
    "            'OutputLocation': s3_output,\n",
    "            }\n",
    "        )\n",
    "    print('Execution ID: ' + response['QueryExecutionId'])\n",
    "    return response"
   ]
  },
  {
   "cell_type": "code",
   "execution_count": 5,
   "metadata": {},
   "outputs": [],
   "source": [
    "def create_query(minute, days, siteid):\n",
    "    query = \"\"\"\n",
    "    SELECT sum(duration) AS duration,\n",
    "             site_id ,\n",
    "             date_trunc('minute', date_add('minute', -(minute(time)%{minute}), time)) AS hour,\n",
    "             count(distinct client_wcid) as counts,\n",
    "             count(distinct CASE WHEN classifier != '' THEN client_wcid ELSE NULL END) as impacted_counts,\n",
    "             SUM(CASE WHEN classifier != '' THEN duration ELSE 0 END) failure,\n",
    "             SUM(CASE WHEN classifier = '' THEN duration ELSE 0 END) success,\n",
    "             SUM(CASE WHEN classifier = 'association' THEN duration ELSE 0 END) association,\n",
    "             SUM(CASE WHEN classifier = 'authentication' THEN duration ELSE 0 END) authentication,\n",
    "             SUM(CASE WHEN classifier = 'dhcp' THEN duration ELSE 0 END) dhcp,\n",
    "             SUM(CASE WHEN classifier = 'unclear' THEN duration ELSE 0 END) unclear\n",
    "    FROM \"secorapp-production\".\"cv_sle_multipartition\"\n",
    "    WHERE time > date_add('day',-{days},now())\n",
    "            AND site_id='{siteid}'\n",
    "            AND metric='connect-failures'\n",
    "    GROUP BY  2, 3\n",
    "    ORDER BY  3 asc\n",
    "    \"\"\"\n",
    "    query = query.format(minute=minute, days=days, siteid=siteid)\n",
    "    return query\n",
    "\n",
    "# Wait for the file to be ready\n",
    "def fetch_query_result(local_file_name, res):\n",
    "    _N_iteration = 20\n",
    "    _waiting_time = 5 #in Second\n",
    "    s3 = boto3.resource('s3')\n",
    "    Bucket = 'aws-athena-query-results-660610034966-us-east-1'\n",
    "    my_bucket = s3.Bucket(Bucket)\n",
    "    key = \"test/{EXEC_ID}.csv\".format(EXEC_ID=res['QueryExecutionId'])\n",
    "    for _ in range(_N_iteration):\n",
    "        objs = list(my_bucket.objects.filter(Prefix=key))\n",
    "        if len(objs) > 0 and objs[0].key == key:\n",
    "            my_bucket.download_file(key,Filename=local_file_name)\n",
    "            return\n",
    "        else:\n",
    "            time.sleep(_waiting_time)\n",
    "    my_bucket.download_file(key,Filename=local_file_name)"
   ]
  },
  {
   "cell_type": "code",
   "execution_count": 6,
   "metadata": {},
   "outputs": [
    {
     "name": "stdout",
     "output_type": "stream",
     "text": [
      "Execution ID: 72d6ab2e-16ad-481a-b390-3b297d0b613a\n"
     ]
    }
   ],
   "source": [
    "minute = 60\n",
    "days = 1\n",
    "siteid = '67970e46-4e12-11e6-9188-0242ac110007'\n",
    "\n",
    "query = create_query(minute=minute, days=days, siteid=siteid)\n",
    "#query = 'SELECT id, svis[0] FROM \"secorapp-staging\".\"ap_stats_analytics\" limit 10'\n",
    "res = run_query(query, database, s3_output)\n",
    "local_file_name = '/tmp/{siteid}_v2.06.csv'.format(siteid=siteid)\n",
    "fetch_query_result(local_file_name, res)"
   ]
  },
  {
   "cell_type": "code",
   "execution_count": null,
   "metadata": {},
   "outputs": [],
   "source": []
  },
  {
   "cell_type": "code",
   "execution_count": null,
   "metadata": {},
   "outputs": [],
   "source": []
  },
  {
   "cell_type": "code",
   "execution_count": null,
   "metadata": {},
   "outputs": [],
   "source": []
  }
 ],
 "metadata": {
  "kernelspec": {
   "display_name": "Python 3",
   "language": "python",
   "name": "python3"
  }
 },
 "nbformat": 4,
 "nbformat_minor": 4
}
