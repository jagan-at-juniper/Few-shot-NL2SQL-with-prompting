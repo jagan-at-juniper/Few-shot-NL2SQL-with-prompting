{
 "cells": [
  {
   "cell_type": "code",
   "execution_count": 4,
   "metadata": {},
   "outputs": [
    {
     "name": "stdout",
     "output_type": "stream",
     "text": [
      "s3://mist-aggregated-stats-staging/aggregated-stats/rrm_radar_channel_stat/dt=2020-04-*/hr=*/*\n"
     ]
    }
   ],
   "source": [
    "from pyspark.sql.functions import udf, size, avg, count, col,sum, explode\n",
    "import json\n",
    "\n",
    "env = \"production\"\n",
    "env = \"staging\"\n",
    "\n",
    "s3_bucket = \"s3://mist-aggregated-stats-{env}/aggregated-stats/rrm_radar_channel_stat/\".format(env=env)\n",
    "\n",
    "# date_day= datetime.datetime.today().strftime(\"%Y%m%d\")\n",
    "# hr = '23'\n",
    "# date_day = \"20200316\"\n",
    "\n",
    "date_day = \"2020-04-*\"\n",
    "hr = '*'\n",
    "\n",
    "rrm_local_path = \"dt={day}/hr={hr}/*\".format(env=env, day=date_day, hr=hr)\n",
    "\n",
    "rrm_local_path = s3_bucket + rrm_local_path\n",
    "print(rrm_local_path)\n",
    "\n",
    "\n"
   ]
  },
  {
   "cell_type": "code",
   "execution_count": 7,
   "metadata": {},
   "outputs": [
    {
     "data": {
      "text/plain": [
       "['site_id,ap_id,pre_channel,radar_channel_count',\n",
       " '934d5efe-5e35-48dd-99f9-5c57534708aa,5c5b35cefd61,124,1.0',\n",
       " 'b7368ed6-379d-4e49-be60-a94ccc9e5702,5c5b353e1a1d,136,1.0',\n",
       " '934d5efe-5e35-48dd-99f9-5c57534708aa,5c5b35cefe06,120,1.0',\n",
       " '866808ba-1ff2-4e99-8e17-34ee1d3c70f4,5c5b35cf12a1,64,1.0',\n",
       " '934d5efe-5e35-48dd-99f9-5c57534708aa,5c5b35cefe4c,120,1.0',\n",
       " '934d5efe-5e35-48dd-99f9-5c57534708aa,5c5b35cefb40,60,1.0',\n",
       " '07574870-228c-4d0b-9d15-ae2f6beb8471,5c5b350e9796,104,1.0',\n",
       " '934d5efe-5e35-48dd-99f9-5c57534708aa,5c5b35cefc35,120,1.0',\n",
       " '934d5efe-5e35-48dd-99f9-5c57534708aa,5c5b35cefaff,120,1.0']"
      ]
     },
     "execution_count": 7,
     "metadata": {},
     "output_type": "execute_result"
    }
   ],
   "source": [
    "# rdd_rrm_local = spark.sparkContext.sequenceFile(rrm_local_path)\n",
    "rdd_rrm_local = spark.sparkContext.textFile(rrm_local_path)\n",
    "rdd_rrm_local.take(10)\n",
    "\n",
    "# df_rrm = rdd_rrm_local.map(lambda x: json.loads(x[1])).toDF()\n",
    "# df_rrm.printSchema()"
   ]
  },
  {
   "cell_type": "code",
   "execution_count": 10,
   "metadata": {},
   "outputs": [],
   "source": [
    "df_radar = spark.read.format(\"csv\")\\\n",
    "   .option(\"header\", \"true\")\\\n",
    "   .option(\"inferSchema\", \"true\")\\\n",
    "   .load(rrm_local_path)\n",
    "df_radar.createOrReplaceTempView(\"scan_data\")\n",
    "df_Schema = df_radar.schema"
   ]
  },
  {
   "cell_type": "code",
   "execution_count": 12,
   "metadata": {},
   "outputs": [
    {
     "name": "stdout",
     "output_type": "stream",
     "text": [
      "+--------------------+------------+-----------+-------------------+\n",
      "|             site_id|       ap_id|pre_channel|radar_channel_count|\n",
      "+--------------------+------------+-----------+-------------------+\n",
      "|300f753a-3a01-4e6...|5c5b35ce12cf|         64|                1.0|\n",
      "|e71abf65-870f-4b4...|5c5b35af6904|        104|                1.0|\n",
      "|f9e819b5-628a-466...|5c5b358ebd3d|         52|                1.0|\n",
      "|934d5efe-5e35-48d...|5c5b35cefd61|        124|                1.0|\n",
      "|866808ba-1ff2-4e9...|5c5b35cf1bcf|        116|                1.0|\n",
      "+--------------------+------------+-----------+-------------------+\n",
      "only showing top 5 rows\n",
      "\n"
     ]
    }
   ],
   "source": [
    "df_radar.show(5)"
   ]
  },
  {
   "cell_type": "code",
   "execution_count": null,
   "metadata": {},
   "outputs": [],
   "source": []
  },
  {
   "cell_type": "code",
   "execution_count": null,
   "metadata": {},
   "outputs": [],
   "source": []
  },
  {
   "cell_type": "code",
   "execution_count": null,
   "metadata": {},
   "outputs": [],
   "source": []
  }
 ],
 "metadata": {
  "kernelspec": {
   "display_name": "Python 3",
   "language": "python",
   "name": "python3"
  },
  "language_info": {
   "codemirror_mode": {
    "name": "ipython",
    "version": 3
   },
   "file_extension": ".py",
   "mimetype": "text/x-python",
   "name": "python",
   "nbconvert_exporter": "python",
   "pygments_lexer": "ipython3",
   "version": "3.7.4"
  }
 },
 "nbformat": 4,
 "nbformat_minor": 4
}
