{
 "cells": [
  {
   "cell_type": "code",
   "execution_count": 8,
   "metadata": {},
   "outputs": [
    {
     "name": "stdout",
     "output_type": "stream",
     "text": [
      "s3://mist-aggregated-stats-staging/aggregated-stats/rrm_radar_channel_stat/dt=2020-05-*/hr=*/*.csv\n",
      "s3://mist-aggregated-stats-staging/aggregated-stats/top_1_time_epoch_by_site_ap_ap2_band/dt=2020-05-21/hr=*/*.csv"
     ]
    }
   ],
   "source": [
    "from pyspark.sql.functions import udf, size, avg, count, col,sum, explode\n",
    "import json\n",
    "from datetime import datetime\n",
    "\n",
    "\n",
    "# env = \"production\"\n",
    "env = \"staging\"\n",
    "\n",
    "s3_bucket = \"s3://mist-aggregated-stats-{env}/aggregated-stats/\".format(env=env)\n",
    "date_day = \"2020-05-*\"\n",
    "hr = \"*\" #now().hour-1\n",
    "\n",
    "rrm_radar_path = s3_bucket + \"rrm_radar_channel_stat/dt={day}/hr={hr}/*.csv\".format(env=env, day=date_day, hr=hr)\n",
    "print(rrm_radar_path)\n",
    "\n",
    "\n",
    "date_day = datetime.today().strftime('%Y-%m-%d') #\"2020-05-*\"\n",
    "curr_hr = '*'  # latest \n",
    "ap_neighbors_path = s3_bucket + \"top_1_time_epoch_by_site_ap_ap2_band/dt={day}/hr={hr}/*.csv\".format(env=env, day=date_day, hr=hr)\n",
    "\n",
    "print(ap_neighbors_path)\n"
   ]
  },
  {
   "cell_type": "code",
   "execution_count": 11,
   "metadata": {},
   "outputs": [
    {
     "name": "stdout",
     "output_type": "stream",
     "text": [
      "+--------------------+------------+-----------+-------------------+---------------+----------+\n",
      "|             site_id|       ap_id|pre_channel|radar_channel_count|last_radar_time|      time|\n",
      "+--------------------+------------+-----------+-------------------+---------------+----------+\n",
      "|c943d077-1b67-491...|5c5b35500622|        104|                  1|     1589096727|1589094000|\n",
      "|c943d077-1b67-491...|5c5b35500924|        116|                  1|     1589095299|1589094000|\n",
      "|c943d077-1b67-491...|5c5b35500686|        104|                  1|     1589095247|1589094000|\n",
      "|c943d077-1b67-491...|5c5b35500587|         64|                  1|     1589096287|1589094000|\n",
      "|c943d077-1b67-491...|5c5b35500839|         64|                  1|     1588919882|1588917600|\n",
      "+--------------------+------------+-----------+-------------------+---------------+----------+\n",
      "only showing top 5 rows"
     ]
    }
   ],
   "source": [
    "# # rdd_rrm_local = spark.sparkContext.sequenceFile(rrm_local_path)\n",
    "# rdd_rrm_events = spark.sparkContext.textFile(rrm_radar_path)\n",
    "# rdd_rrm_events.take(10)\n",
    "\n",
    "df_radar = spark.read.format(\"csv\")\\\n",
    "   .option(\"header\", \"true\")\\\n",
    "   .option(\"inferSchema\", \"true\")\\\n",
    "   .load(rrm_radar_path)\n",
    "df_radar.createOrReplaceTempView(\"scan_data\")\n",
    "df_Schema = df_radar.schema\n",
    "df_radar.show(5)"
   ]
  },
  {
   "cell_type": "markdown",
   "metadata": {},
   "source": [
    "# Impacted Sites"
   ]
  },
  {
   "cell_type": "code",
   "execution_count": 12,
   "metadata": {},
   "outputs": [
    {
     "name": "stdout",
     "output_type": "stream",
     "text": [
      "+--------------------+-----+\n",
      "|             site_id|count|\n",
      "+--------------------+-----+\n",
      "|ee915a44-b963-11e...|   11|\n",
      "|f688779c-e335-4f8...|    3|\n",
      "|70e0f468-fc13-11e...|    1|\n",
      "|e80749be-963c-4d2...|    2|\n",
      "|6db15e18-bc94-11e...|    2|\n",
      "|67970e46-4e12-11e...|   15|\n",
      "|fc656275-b157-43f...|    1|\n",
      "|9c3f2be6-397d-11e...|    2|\n",
      "|35670395-458f-4ec...|    2|\n",
      "|d23f418c-a5ab-4e3...|    6|\n",
      "|a8178443-ecb5-461...|   21|\n",
      "|20325077-2d75-4fa...|    3|\n",
      "|96ca2c79-b7db-402...|    1|\n",
      "|d7c802c4-1d3a-4aa...|   10|\n",
      "|12c07c11-51a3-495...|    3|\n",
      "|f733a5d7-5179-4df...|    2|\n",
      "|fe1f336e-fba7-44d...|    1|\n",
      "|d59ee965-e757-45a...|    1|\n",
      "|b0bbfdc0-aaba-11e...|    1|\n",
      "|4a6427ac-4514-4ab...|    1|\n",
      "+--------------------+-----+\n",
      "only showing top 20 rows"
     ]
    }
   ],
   "source": [
    "#impacted Sites\n",
    "df_radar_sites = df_radar.select('site_id', 'radar_channel_count').groupBy(\"site_id\").count()\n",
    "df_radar_sites.show()"
   ]
  },
  {
   "cell_type": "code",
   "execution_count": 14,
   "metadata": {},
   "outputs": [
    {
     "name": "stdout",
     "output_type": "stream",
     "text": [
      "[Row(site_id='ee915a44-b963-11e5-b14c-1258369c38a9', count=11), Row(site_id='67970e46-4e12-11e6-9188-0242ac110007', count=15), Row(site_id='a8178443-ecb5-461c-b854-f16627619ab3', count=21), Row(site_id='c943d077-1b67-4915-a690-e698543d2790', count=115)]"
     ]
    }
   ],
   "source": [
    "site_counter_filter = 10   # change based on #APs_in_site \n",
    "\n",
    "impacted_sites = df_radar_sites.filter(col('count')>site_counter_filter).select(\"site_id\", \"count\").collect()\n",
    "impacted_sites"
   ]
  },
  {
   "cell_type": "markdown",
   "metadata": {},
   "source": [
    "# Check one Impacted-site"
   ]
  },
  {
   "cell_type": "code",
   "execution_count": 15,
   "metadata": {},
   "outputs": [],
   "source": [
    "impacted_site_id = impacted_sites[0]['site_id']"
   ]
  },
  {
   "cell_type": "code",
   "execution_count": 16,
   "metadata": {},
   "outputs": [
    {
     "name": "stdout",
     "output_type": "stream",
     "text": [
      "+------------+-------------+---------------+\n",
      "|       ap_id|radar_channel|last_radar_time|\n",
      "+------------+-------------+---------------+\n",
      "|5c5b3550032f|          100|     1588928836|\n",
      "|5c5b3550032f|          100|     1588938523|\n",
      "|5c5b3550032f|          100|     1588934289|\n",
      "|5c5b3550032f|          132|     1588948689|\n",
      "|5c5b3550032f|          132|     1589037054|\n",
      "|5c5b3550032f|           52|     1589209332|\n",
      "|5c5b3550032f|           52|     1588952779|\n",
      "|5c5b3550032f|          132|     1588969154|\n",
      "|5c5b3550032f|           52|     1588960942|\n",
      "|5c5b3550032f|          116|     1588963397|\n",
      "|5c5b3550032f|          100|     1589019556|\n",
      "+------------+-------------+---------------+"
     ]
    }
   ],
   "source": [
    "#impacted APs\n",
    "df_radar_in_site = df_radar.filter(col(\"site_id\")==impacted_site_id).select('ap_id',col(\"pre_channel\").alias(\"radar_channel\"), 'last_radar_time')\n",
    "\n",
    "df_radar_in_site.show()\n",
    "# df_radar_ap_lastseen.show() )\n",
    "\n",
    "# df_radar_ap_lastseen = df_radar_in_site.select('pre_channel', 'last_radar_time').groupBy(\"ap_id\", col(\"pre_channel\").alias(\"radar_channel\"), 'last_radar_time').max()\n",
    "# df_radar_ap_lastseen.show()\n",
    "\n",
    "# df_radar_ap_lastseen = df_radar.filter(col(\"site_id\")==impacted_site_id).select(\"ap_id\", 'pre_channel', 'last_radar_time').groupBy(\"ap_id\", col(\"pre_channel\").alias(\"radar_channel\"), 'last_radar_time').max()\n",
    "# df_radar_ap_lastseen.show()"
   ]
  },
  {
   "cell_type": "code",
   "execution_count": 24,
   "metadata": {},
   "outputs": [
    {
     "name": "stdout",
     "output_type": "stream",
     "text": [
      "+------------+-------------+-----------+-----------+-----+\n",
      "|       ap_id|radar_channel|day_of_week|hour_of_day|count|\n",
      "+------------+-------------+-----------+-----------+-----+\n",
      "|5c5b3550032f|          132|          4|         14|    1|\n",
      "|5c5b3550032f|          100|          5|         10|    1|\n",
      "|5c5b3550032f|          100|          4|         11|    1|\n",
      "|5c5b3550032f|          132|          4|         20|    1|\n",
      "|5c5b3550032f|          132|          5|         15|    1|\n",
      "|5c5b3550032f|           52|          4|         18|    1|\n",
      "|5c5b3550032f|          100|          4|         10|    1|\n",
      "|5c5b3550032f|          116|          4|         18|    1|\n",
      "|5c5b3550032f|           52|          4|         15|    1|\n",
      "|5c5b3550032f|          100|          4|          9|    1|\n",
      "|5c5b3550032f|           52|          0|         15|    1|\n",
      "+------------+-------------+-----------+-----------+-----+"
     ]
    }
   ],
   "source": [
    "# add hour_of_day, day_of_week\n",
    "from pyspark.sql.types import IntegerType\n",
    "\n",
    "get_hour = udf(lambda t: datetime.fromtimestamp(t).hour, IntegerType())\n",
    "get_weekday = udf(lambda t: datetime.fromtimestamp(t).weekday(), IntegerType())\n",
    "df_radar_in_site= df_radar_in_site.withColumn(\"hour_of_day\", get_hour(col(\"last_radar_time\")))\\\n",
    "                                  .withColumn(\"day_of_week\", get_weekday(col(\"last_radar_time\")))\n",
    "\n",
    "\n",
    "df_radar_in_site_count = df_radar_in_site.select(\"ap_id\", 'radar_channel', \"day_of_week\", \"hour_of_day\")\\\n",
    "                                        .groupBy(\"ap_id\", 'radar_channel', \"day_of_week\", \"hour_of_day\")\\\n",
    "                                        .count()\n",
    "df_radar_in_site_count.show()"
   ]
  },
  {
   "cell_type": "code",
   "execution_count": 25,
   "metadata": {},
   "outputs": [],
   "source": []
  },
  {
   "cell_type": "markdown",
   "metadata": {},
   "source": [
    "## Impacted APs, channel"
   ]
  },
  {
   "cell_type": "code",
   "execution_count": 26,
   "metadata": {},
   "outputs": [
    {
     "name": "stdout",
     "output_type": "stream",
     "text": [
      "+------------+-------------+-----+\n",
      "|       ap_id|radar_channel|count|\n",
      "+------------+-------------+-----+\n",
      "|5c5b3550032f|          116|    1|\n",
      "|5c5b3550032f|           52|    3|\n",
      "|5c5b3550032f|          132|    3|\n",
      "|5c5b3550032f|          100|    4|\n",
      "+------------+-------------+-----+"
     ]
    }
   ],
   "source": [
    "df_radar_by_ap = df_radar_in_site.select('ap_id', 'radar_channel')\\\n",
    "                                .groupBy('ap_id', 'radar_channel')\\\n",
    "                                .count()\n",
    "df_radar_by_ap.show()\n"
   ]
  },
  {
   "cell_type": "code",
   "execution_count": 27,
   "metadata": {},
   "outputs": [
    {
     "name": "stdout",
     "output_type": "stream",
     "text": [
      "+-------------+--------------------+\n",
      "|radar_channel|max(last_radar_time)|\n",
      "+-------------+--------------------+\n",
      "|          132|          1589037054|\n",
      "|           52|          1589209332|\n",
      "|          100|          1589019556|\n",
      "|          116|          1588963397|\n",
      "+-------------+--------------------+"
     ]
    }
   ],
   "source": [
    "df_radar_by_channel = df_radar_in_site.select('radar_channel', 'last_radar_time')\\\n",
    "                                    .groupBy('radar_channel')\\\n",
    "                                    .agg({'last_radar_time':'max'})\n",
    "df_radar_by_channel.show()"
   ]
  },
  {
   "cell_type": "code",
   "execution_count": 29,
   "metadata": {},
   "outputs": [
    {
     "name": "stdout",
     "output_type": "stream",
     "text": [
      "+-----------+-----+\n",
      "|hour_of_day|count|\n",
      "+-----------+-----+\n",
      "|         20|    1|\n",
      "|         15|    3|\n",
      "|          9|    1|\n",
      "|         10|    2|\n",
      "|         11|    1|\n",
      "|         14|    1|\n",
      "|         18|    2|\n",
      "+-----------+-----+"
     ]
    }
   ],
   "source": [
    "# from pyspark.sql.types import *\n",
    "# time_to_hour = udf(lambda t: int(t)//3600*3600, IntegerType())\n",
    "\n",
    "df_radar_ch_by_hour= df_radar_in_site.select('hour_of_day').groupBy('hour_of_day').count()\n",
    "df_radar_ch_by_hour.show()"
   ]
  },
  {
   "cell_type": "code",
   "execution_count": 14,
   "metadata": {},
   "outputs": [],
   "source": [
    "# df_radar_ch_by_hour.groupBy(\"last_radar_time\").count().show()\n",
    "\n",
    "# from pyspark.sql.functions  import hour,minute,second\n",
    "# # import org.apache.spark.sql.functions.{col,}\n",
    "# # from pyspark.sql.functions import date_format\n",
    "# # df_radar_in_site.withColumn(\"hour\", hour(col(\"last_radar_time\").cast(TimestampType))).show()\n",
    "# df_radar_in_site.select(col(\"last_radar_time\").cast(TimestampType))\n"
   ]
  },
  {
   "cell_type": "markdown",
   "metadata": {},
   "source": [
    "# de-Weight function"
   ]
  },
  {
   "cell_type": "code",
   "execution_count": 30,
   "metadata": {},
   "outputs": [],
   "source": [
    "\"\"\"\n",
    "\n",
    "\n",
    "Radar_detected AP1\n",
    "\n",
    "Wt_t1(ap1) = w_t0(ap2)* weight_decay(t1, site_last_seen) + weight(channel, map)\n",
    "UNII-22 channel, weather_radio ,  \n",
    "\n",
    "\n",
    "\n",
    "Neighbors: \n",
    "Wt_t1 (ap2)  = wt_t(ap2)  + weight_From_neighbor (rssi_ap1_ap2)  \n",
    "\n",
    "Functions:\n",
    "\n",
    "weight_decay(t1, last_seen) \n",
    "weight_0 * exp(- t/decay_lifetime),   decay_lifetime = 1 week,\n",
    "\n",
    "weight(channel, map)\n",
    "DFS Channel, \n",
    "Weather channel\n",
    " weight_From_neighbor (rssi) \n",
    "Weight_from_connectivity (SLE anomaly) \n",
    "\n",
    "\n",
    "Goal:  (org, site, ap, channel, weight_0, last_seen) in Redis\n",
    "\n",
    "\"\"\"\n",
    "\n",
    "import numpy as np\n",
    "def weight_by_dfs_channel(chn, wt_0=0.4, wt_weather_ch=0.1 ):\n",
    "    if 116<=chn<132:\n",
    "        wt = wt_0 + wt_weather_ch\n",
    "    else:\n",
    "        wt = wt_0\n",
    "    return wt\n",
    "\n",
    "def weight_by_dist(dist_to_airport=100.0, max_wt=0.8):\n",
    "    wt = 0.0\n",
    "    if dist_to_airport< 10:\n",
    "        wt = max_wt * np.exp(-dist_to_airport**2/5**2)\n",
    "    \n",
    "    return wt\n",
    "\n",
    "def weight_impacted_neighbor(rssi, rssi_0 = -65):\n",
    "    wt = 1.0\n",
    "    if rssi < rssi_0:\n",
    "        wt =  np.exp((rssi - rssi_0)/15) \n",
    "    return wt\n",
    "    \n",
    "    \n",
    "def weight_tot(ch, rssi=-40, dist_to_airport=100.0, theta=[0.33, 0.33, 0.33]):\n",
    "    wt=[0, 0, 0]\n",
    "    wt[0] = weight_by_dfs_channel(ch)\n",
    "    wt[1] = weight_by_dist(dist_to_airport)\n",
    "    wt[2] = weight_impacted_neighbor(rssi)\n",
    "    \n",
    "    wt_0 = 0.0\n",
    "    for i in range(2):\n",
    "        wt_0 += wt[i] * theta[i]\n",
    "    \n",
    "#     print(wt_0, wt)\n",
    "#     wt_0 = 1.0/(1.0 + np.exp(-0.6*wt_0))\n",
    "    wt_0 = (wt[0] + wt[1]) * wt[2]\n",
    "\n",
    "    return wt_0\n"
   ]
  },
  {
   "cell_type": "code",
   "execution_count": 31,
   "metadata": {},
   "outputs": [
    {
     "name": "stdout",
     "output_type": "stream",
     "text": [
      "-85 0.10543885524629071\n",
      "-80 0.14715177646857694\n",
      "-75 0.2053668476130368\n",
      "-70 0.2866125242295157\n",
      "-65 0.4\n",
      "-60 0.4\n",
      "-55 0.4"
     ]
    }
   ],
   "source": [
    "ch = 40\n",
    "d = 100\n",
    "for r in range(-85, -50, 5):\n",
    "    print(r, weight_tot(ch, r))"
   ]
  },
  {
   "cell_type": "code",
   "execution_count": 34,
   "metadata": {},
   "outputs": [
    {
     "name": "stdout",
     "output_type": "stream",
     "text": [
      "-75 miles 0.8\n",
      "-75 miles 0.7686315513218586\n",
      "-75 miles 0.6817150311729692\n",
      "-75 miles 0.5581410608568248\n",
      "-75 miles 0.42183393923443885\n",
      "-75 miles 0.2943035529371539\n",
      "-75 miles 0.18954220694569743\n",
      "-75 miles 0.112686736736836\n",
      "-75 miles 0.0618437923546398\n",
      "-75 miles 0.031331116079189654\n",
      "-75 miles 0.0\n",
      "-75 miles 0.0\n",
      "-75 miles 0.0\n",
      "-75 miles 0.0\n",
      "-75 miles 0.0\n",
      "-75 miles 0.0\n",
      "-75 miles 0.0\n",
      "-75 miles 0.0\n",
      "-75 miles 0.0\n",
      "-75 miles 0.0"
     ]
    }
   ],
   "source": [
    "for dist in range(0, 20):\n",
    "    print(m, \"miles\",  weight_by_dist(dist))\n",
    "    "
   ]
  },
  {
   "cell_type": "code",
   "execution_count": 35,
   "metadata": {},
   "outputs": [
    {
     "name": "stdout",
     "output_type": "stream",
     "text": [
      "-40 db 1.0\n",
      "-45 db 1.0\n",
      "-50 db 1.0\n",
      "-55 db 0.7165313105737893\n",
      "-60 db 0.513417119032592\n",
      "-65 db 0.36787944117144233\n",
      "-70 db 0.26359713811572677\n",
      "-75 db 0.18887560283756183"
     ]
    }
   ],
   "source": [
    "for m in range(-40, -80, -5):\n",
    "    print(m, \"db\",  weight_impacted_neighbor(m, -50))\n",
    "    "
   ]
  },
  {
   "cell_type": "code",
   "execution_count": null,
   "metadata": {},
   "outputs": [],
   "source": []
  },
  {
   "cell_type": "code",
   "execution_count": 36,
   "metadata": {},
   "outputs": [],
   "source": [
    "# df_radar_in_site = df_radar.filter(col(\"site_id\")==impacted_site_id)\n",
    "# df_radar_in_site.groupBy(\"ap_id\", col(\"pre_channel\").alias(\"radar_channel\")).agg({'radar_channel':'count', 'last_radar_time':'max'})\n",
    "# df_radar_ap_in_site.show()"
   ]
  },
  {
   "cell_type": "code",
   "execution_count": null,
   "metadata": {},
   "outputs": [],
   "source": []
  },
  {
   "cell_type": "code",
   "execution_count": 37,
   "metadata": {},
   "outputs": [
    {
     "name": "stdout",
     "output_type": "stream",
     "text": [
      "'\\nImpacting on weight and  (Org, site, ap1, ap2, rssi ) () s3://mist-aggregated-stats-production/aggregated-stats/top_1_time_epoch_by_site_ap_ap2_band/\\nRadar_detected AP\\nWt_t1(ap0) = w_t0(ap0)* weight_decay(t1, last_seen) + weight(channel, map)\\nNeighbors: \\nWt_t1 (ap1)  = wt_t(ap1)  + weight_From_neighbor (rssi)  \\nFunctions:\\nweight_decay(t1, last_seen) \\nweight_0 * exp(- t/decay_lifetime),   decay_lifetime = 1 week,\\nweight(channel, map)\\nDFS Channel, \\nWeather channel\\n weight_From_neighbor (rssi) \\nWeight_from_connectivity (SLE anomaly) \\nGoal:  (org, site, ap, channel, weight_0, last_seen) in Redis\\n\\n'"
     ]
    }
   ],
   "source": [
    "\"\"\"\n",
    "Impacting on weight and  (Org, site, ap1, ap2, rssi ) () s3://mist-aggregated-stats-production/aggregated-stats/top_1_time_epoch_by_site_ap_ap2_band/\n",
    "Radar_detected AP\n",
    "Wt_t1(ap0) = w_t0(ap0)* weight_decay(t1, last_seen) + weight(channel, map)\n",
    "Neighbors: \n",
    "Wt_t1 (ap1)  = wt_t(ap1)  + weight_From_neighbor (rssi)  \n",
    "Functions:\n",
    "weight_decay(t1, last_seen) \n",
    "weight_0 * exp(- t/decay_lifetime),   decay_lifetime = 1 week,\n",
    "weight(channel, map)\n",
    "DFS Channel, \n",
    "Weather channel\n",
    " weight_From_neighbor (rssi) \n",
    "Weight_from_connectivity (SLE anomaly) \n",
    "Goal:  (org, site, ap, channel, weight_0, last_seen) in Redis\n",
    "\n",
    "\"\"\""
   ]
  },
  {
   "cell_type": "code",
   "execution_count": 38,
   "metadata": {},
   "outputs": [
    {
     "name": "stdout",
     "output_type": "stream",
     "text": [
      "+------------+-------------+---------------+-----------+-----------+\n",
      "|       ap_id|radar_channel|last_radar_time|hour_of_day|day_of_week|\n",
      "+------------+-------------+---------------+-----------+-----------+\n",
      "|5c5b3550032f|          100|     1588928836|          9|          4|\n",
      "|5c5b3550032f|          100|     1588938523|         11|          4|\n",
      "|5c5b3550032f|          100|     1588934289|         10|          4|\n",
      "|5c5b3550032f|          132|     1588948689|         14|          4|\n",
      "|5c5b3550032f|          132|     1589037054|         15|          5|\n",
      "|5c5b3550032f|           52|     1589209332|         15|          0|\n",
      "|5c5b3550032f|           52|     1588952779|         15|          4|\n",
      "|5c5b3550032f|          132|     1588969154|         20|          4|\n",
      "|5c5b3550032f|           52|     1588960942|         18|          4|\n",
      "|5c5b3550032f|          116|     1588963397|         18|          4|\n",
      "|5c5b3550032f|          100|     1589019556|         10|          5|\n",
      "+------------+-------------+---------------+-----------+-----------+"
     ]
    }
   ],
   "source": [
    "df_radar_in_site.show()"
   ]
  },
  {
   "cell_type": "code",
   "execution_count": 22,
   "metadata": {},
   "outputs": [
    {
     "name": "stdout",
     "output_type": "stream",
     "text": [
      "+------------+-------------+-----------+\n",
      "|       ap_id|radar_channel|max(weight)|\n",
      "+------------+-------------+-----------+\n",
      "|5c5b3550032f|          116|        0.8|\n",
      "|5c5b3550032f|           52|        0.6|\n",
      "|5c5b3550032f|          132|        0.6|\n",
      "|5c5b3550032f|          100|        0.6|\n",
      "+------------+-------------+-----------+"
     ]
    }
   ],
   "source": [
    "def weight_by_dfs_channel(chn, wt_0=0.4, wt_weather_ch=0.1 ):\n",
    "    if 116<=chn<132:\n",
    "        wt = wt_0 + wt_weather_ch\n",
    "    else:\n",
    "        wt = wt_0\n",
    "    return wt\n",
    "\n",
    "weight_channel = udf(lambda ch: weight_by_dfs_channel(ch, 0.6, 0.2))\n",
    "df_radar_in_site_weight = df_radar_in_site.withColumn(\"weight\", weight_channel(col('radar_channel')))\n",
    "df_radar_in_site_weight= df_radar_in_site_weight.select(\"ap_id\", \"radar_channel\", \"weight\").groupBy(\"ap_id\", \"radar_channel\").agg({\"weight\":'max'})\n",
    "df_radar_in_site_weight.show()\n"
   ]
  },
  {
   "cell_type": "code",
   "execution_count": null,
   "metadata": {},
   "outputs": [],
   "source": []
  },
  {
   "cell_type": "code",
   "execution_count": null,
   "metadata": {},
   "outputs": [],
   "source": []
  },
  {
   "cell_type": "markdown",
   "metadata": {},
   "source": [
    "# Impacts on neighbors"
   ]
  },
  {
   "cell_type": "code",
   "execution_count": 39,
   "metadata": {},
   "outputs": [],
   "source": [
    "# rdd_ap_neigbhors = spark.sparkContext.textFile(ap_neighbors_path)\n",
    "# rdd_ap_neigbhors.take(3)"
   ]
  },
  {
   "cell_type": "code",
   "execution_count": 40,
   "metadata": {},
   "outputs": [],
   "source": [
    "df_scan = spark.read.format(\"csv\")\\\n",
    "   .option(\"header\", \"true\")\\\n",
    "   .option(\"inferSchema\", \"true\")\\\n",
    "   .load(ap_neighbors_path)\n",
    "df_scan.createOrReplaceTempView(\"scan_data\")\n",
    "df_Schema = df_scan.schema"
   ]
  },
  {
   "cell_type": "code",
   "execution_count": 44,
   "metadata": {},
   "outputs": [
    {
     "name": "stdout",
     "output_type": "stream",
     "text": [
      "+------------------------------------+------------+------------+----+----------+-----+\n",
      "|site                                |ap          |ap2         |band|time_epoch|rssi |\n",
      "+------------------------------------+------------+------------+----+----------+-----+\n",
      "|12c07c11-51a3-4958-9aee-8bf0f7ff193c|5c5b354e318d|5c5b351ebf9a|24  |1590076498|-60.0|\n",
      "|26c0c429-933a-4fda-b230-50365a36c264|5c5b35521c14|5c5b355219cb|24  |1590076663|-49.0|\n",
      "|57b2f891-09c1-4dcc-8ff1-2f9fb3ff7d39|5c5b353e4f47|5c5b350ede8c|5   |1590076368|-44.0|\n",
      "|6db15e18-bc94-11e5-91a9-1258369c38a9|5c5b350e070d|5c5b350e0951|24  |1590076706|-43.0|\n",
      "|6db15e18-bc94-11e5-91a9-1258369c38a9|5c5b3550036b|5c5b351ebf9a|24  |1590076682|-69.0|\n",
      "|70e0f468-fc13-11e5-85ad-0242ac110008|5c5b350eb3f2|5c5b350e02b7|24  |1590076649|-60.0|\n",
      "|76d69c3c-05ae-4f8a-ae16-0c0898c2f2f0|5c5b350e0659|5c5b350e141e|24  |1590076796|-39.0|\n",
      "|997e7de5-794f-4c0c-b722-8f97c7cf27a4|5c5b353e4f10|5c5b350e4cb8|24  |1590076613|-60.0|\n",
      "|a8178443-ecb5-461c-b854-f16627619ab3|5c5b350e8b7a|5c5b355072d3|5   |1590076743|-63.0|\n",
      "|a8178443-ecb5-461c-b854-f16627619ab3|5c5b350ee2d8|5c5b35500bf4|5   |1590076712|-58.0|\n",
      "+------------------------------------+------------+------------+----+----------+-----+\n",
      "only showing top 10 rows"
     ]
    }
   ],
   "source": [
    "df_scan.show(10, False)"
   ]
  },
  {
   "cell_type": "code",
   "execution_count": null,
   "metadata": {},
   "outputs": [],
   "source": [
    "\n"
   ]
  },
  {
   "cell_type": "code",
   "execution_count": 46,
   "metadata": {},
   "outputs": [
    {
     "name": "stdout",
     "output_type": "stream",
     "text": [
      "+------------------------------------+------------+------------+----+----------+-----+\n",
      "|site                                |ap          |ap2         |band|time_epoch|rssi |\n",
      "+------------------------------------+------------+------------+----+----------+-----+\n",
      "|ee915a44-b963-11e5-b14c-1258369c38a9|5c5b3550032f|d420b085fb3f|5   |1590076639|-83.0|\n",
      "|ee915a44-b963-11e5-b14c-1258369c38a9|5c5b350e022b|5c5b350e1455|24  |1590076715|-81.0|\n",
      "|ee915a44-b963-11e5-b14c-1258369c38a9|5c5b350e022b|d420b085fb3f|5   |1590076715|-73.0|\n",
      "|ee915a44-b963-11e5-b14c-1258369c38a9|5c5b350e1455|d420b085fb3f|24  |1590076690|-61.0|\n",
      "|ee915a44-b963-11e5-b14c-1258369c38a9|5c5b3550032f|5c5b350e022b|5   |1590076639|-67.0|\n",
      "|ee915a44-b963-11e5-b14c-1258369c38a9|5c5b3550032f|5c5b350e1455|24  |1590076639|-71.0|\n",
      "|ee915a44-b963-11e5-b14c-1258369c38a9|5c5b3550032f|d420b085fc2f|5   |1590076639|-84.0|\n",
      "|ee915a44-b963-11e5-b14c-1258369c38a9|5c5b3550032f|5c5b350eb1fe|5   |1590076639|-80.0|\n",
      "|ee915a44-b963-11e5-b14c-1258369c38a9|5c5b350e1455|d420b085fc2f|5   |1590075774|-85.0|\n",
      "|ee915a44-b963-11e5-b14c-1258369c38a9|5c5b350e1455|5c5b350e022b|24  |1590076690|-72.0|\n",
      "+------------------------------------+------------+------------+----+----------+-----+\n",
      "only showing top 10 rows"
     ]
    }
   ],
   "source": [
    "df_scan_in_site = df_scan.filter(col(\"site\")==impacted_site_id)\n",
    "df_scan_in_site.show(10, False)"
   ]
  },
  {
   "cell_type": "code",
   "execution_count": 47,
   "metadata": {},
   "outputs": [],
   "source": [
    "\n",
    "   \n"
   ]
  },
  {
   "cell_type": "code",
   "execution_count": 48,
   "metadata": {},
   "outputs": [],
   "source": [
    "\n",
    "impact_aps = df_radar_in_site.select(\"ap_id\").distinct().collect()"
   ]
  },
  {
   "cell_type": "code",
   "execution_count": 49,
   "metadata": {},
   "outputs": [],
   "source": [
    "impacted_ap_id = impact_aps[0]['ap_id']"
   ]
  },
  {
   "cell_type": "code",
   "execution_count": 50,
   "metadata": {},
   "outputs": [
    {
     "name": "stdout",
     "output_type": "stream",
     "text": [
      "+------------+---------+\n",
      "|         ap2|max(rssi)|\n",
      "+------------+---------+\n",
      "|d420b085fb3f|    -71.0|\n",
      "|5c5b350e022b|    -54.0|\n",
      "|5c5b350eb1fe|    -69.0|\n",
      "|5c5b350e1455|    -66.0|\n",
      "+------------+---------+"
     ]
    }
   ],
   "source": [
    "df_scan_neighbor = df_scan_in_site.filter((col(\"ap\")==impacted_ap_id)&(col('rssi')>-75)&(col(\"ap2\")!=''))\\\n",
    "                                .select('ap2', 'rssi').groupBy(\"ap2\").agg({\"rssi\": 'max'})\n",
    "\n",
    "df_scan_neighbor.show()"
   ]
  },
  {
   "cell_type": "code",
   "execution_count": 51,
   "metadata": {},
   "outputs": [
    {
     "name": "stdout",
     "output_type": "stream",
     "text": [
      "+------------+--------+\n",
      "|          ap|max_rssi|\n",
      "+------------+--------+\n",
      "|d420b085fb3f|   -71.0|\n",
      "|5c5b350e022b|   -54.0|\n",
      "|5c5b350eb1fe|   -69.0|\n",
      "|5c5b350e1455|   -66.0|\n",
      "+------------+--------+"
     ]
    }
   ],
   "source": [
    "# df_scan_neighbor.select('ap2', 'rssi').groupBy(\"ap2\").agg({\"rssi\": 'max'}).show()\n",
    "df_scan_neighbor = df_scan_neighbor.select(col(\"ap2\").alias(\"ap\"), col(\"max(rssi)\").alias(\"max_rssi\"))\n",
    "df_scan_neighbor.show()"
   ]
  },
  {
   "cell_type": "code",
   "execution_count": 52,
   "metadata": {},
   "outputs": [
    {
     "name": "stderr",
     "output_type": "stream",
     "text": [
      "name 'weight_channel' is not defined\n",
      "Traceback (most recent call last):\n",
      "NameError: name 'weight_channel' is not defined\n",
      "\n"
     ]
    }
   ],
   "source": [
    "\n",
    "# weight_neighbor = udf(lambda r: weight_impacted_neighbor(r, -65))\n",
    "# df_scan_neighbor_weight = df_scan_neighbor.withColumn(\"weight\", weight_channel(col('max_rssi')))\n",
    "\n",
    "# df_scan_neighbor_weight.show()\n"
   ]
  },
  {
   "cell_type": "code",
   "execution_count": null,
   "metadata": {},
   "outputs": [],
   "source": []
  },
  {
   "cell_type": "code",
   "execution_count": null,
   "metadata": {},
   "outputs": [],
   "source": []
  },
  {
   "cell_type": "markdown",
   "metadata": {},
   "source": [
    "# Code optimization (Shirley)"
   ]
  },
  {
   "cell_type": "code",
   "execution_count": 68,
   "metadata": {},
   "outputs": [
    {
     "name": "stdout",
     "output_type": "stream",
     "text": [
      "+--------------------+------------+-----------+-------------------+---------------+----------+\n",
      "|             site_id|       ap_id|pre_channel|radar_channel_count|last_radar_time|      time|\n",
      "+--------------------+------------+-----------+-------------------+---------------+----------+\n",
      "|c943d077-1b67-491...|5c5b35500622|        104|                  1|     1589096727|1589094000|\n",
      "|c943d077-1b67-491...|5c5b35500924|        116|                  1|     1589095299|1589094000|\n",
      "|c943d077-1b67-491...|5c5b35500686|        104|                  1|     1589095247|1589094000|\n",
      "|c943d077-1b67-491...|5c5b35500587|         64|                  1|     1589096287|1589094000|\n",
      "|c943d077-1b67-491...|5c5b35500839|         64|                  1|     1588919882|1588917600|\n",
      "|c943d077-1b67-491...|5c5b35500686|         64|                  1|     1588920367|1588917600|\n",
      "|c943d077-1b67-491...|5c5b35500622|        108|                  1|     1588921154|1588917600|\n",
      "|c943d077-1b67-491...|5c5b35500609|        120|                  1|     1588919794|1588917600|\n",
      "|c943d077-1b67-491...|5c5b355006b8|        100|                  1|     1589005726|1589004000|\n",
      "|d7c802c4-1d3a-4aa...|5c5b350e0951|          0|                  1|     1589007446|1589004000|\n",
      "|c943d077-1b67-491...|5c5b35500811|         64|                  1|     1589005858|1589004000|\n",
      "|d7c802c4-1d3a-4aa...|5c5b350ebfe2|          0|                  1|     1589005023|1589004000|\n",
      "|c943d077-1b67-491...|5c5b35500587|        120|                  1|     1588928464|1588928400|\n",
      "|ee915a44-b963-11e...|5c5b3550032f|        100|                  1|     1588928836|1588928400|\n",
      "|c943d077-1b67-491...|5c5b35500609|        120|                  1|     1588929054|1588928400|\n",
      "|ee915a44-b963-11e...|5c5b3550032f|        100|                  1|     1588938523|1588935600|\n",
      "|c943d077-1b67-491...|5c5b355006b8|        128|                  1|     1588935680|1588935600|\n",
      "|c943d077-1b67-491...|5c5b355007c6|        112|                  1|     1588935659|1588935600|\n",
      "|c943d077-1b67-491...|5c5b355008cf|        112|                  1|     1589136293|1589133600|\n",
      "|c943d077-1b67-491...|5c5b3550070d|        124|                  1|     1589136079|1589133600|\n",
      "+--------------------+------------+-----------+-------------------+---------------+----------+\n",
      "only showing top 20 rows"
     ]
    }
   ],
   "source": [
    "rrm_radar_df.show()"
   ]
  },
  {
   "cell_type": "code",
   "execution_count": 65,
   "metadata": {},
   "outputs": [],
   "source": [
    "from pyspark.sql import functions as F\n",
    "scan_df = df_scan\n",
    "rrm_radar_df = df_radar\n",
    "\n",
    "# env = \"staging\"\n",
    "\n",
    "# s3_bucket = \"s3://mist-aggregated-stats-{env}/aggregated-stats/\".format(env=env)\n",
    "# date_day = \"2020-05-*\"\n",
    "# hr = \"*\" #now().hour-1\n",
    "\n",
    "# rrm_radar_path = s3_bucket + \"rrm_radar_channel_stat/dt={day}/hr={hr}/*.csv\".format(env=env, day=date_day, hr=hr)\n",
    "# print(rrm_radar_path)\n",
    "\n",
    "\n",
    "# date_day = datetime.today().strftime('%Y-%m-%d') #\"2020-05-*\"\n",
    "# curr_hr = '*'  # latest \n",
    "# ap_neighbors_path = s3_bucket + \"top_1_time_epoch_by_site_ap_ap2_band/dt={day}/hr={hr}/*.csv\".format(env=env, day=date_day, hr=hr)\n",
    "\n",
    "# print(ap_neighbors_path)\n",
    "\n",
    "\n",
    "scan_df = spark.read.csv(ap_neighbors_path, header=True)                   \n",
    "rrm_radar_df = spark.read.csv(rrm_radar_path, header=True)    \n",
    "    \n",
    "\n",
    "ap_neighbor_radar = scan_df\\\n",
    "             .filter('ap2 is not Null and rssi >-65')\\\n",
    "             .join(rrm_radar_df, [scan_df.site == rrm_radar_df.site_id, scan_df.ap2 == rrm_radar_df.ap_id], 'inner')\\\n",
    "             .select('ap', 'ap2', 'pre_channel', 'radar_channel_count').groupBy('ap', 'pre_channel')\\\n",
    "             .agg(F.collect_list('ap2').alias('neighbor_aps'), F.collect_list('radar_channel_count').alias('radar_channel_counts'))\\\n",
    "            .withColumnRenamed('pre_channel', 'neighbor_radar_channel')\n"
   ]
  },
  {
   "cell_type": "code",
   "execution_count": 72,
   "metadata": {},
   "outputs": [
    {
     "name": "stdout",
     "output_type": "stream",
     "text": [
      "+------------+----------------------+------------------------------------------------------------------------------------------------------------------------------------------------------------------------------------------------------------------------------------------------------------------------------------------------------+---------------------------------------------------------------+\n",
      "|ap          |neighbor_radar_channel|neighbor_aps                                                                                                                                                                                                                                                                                          |radar_channel_counts                                           |\n",
      "+------------+----------------------+------------------------------------------------------------------------------------------------------------------------------------------------------------------------------------------------------------------------------------------------------------------------------------------------------+---------------------------------------------------------------+\n",
      "|5c5b353f574d|140                   |[5c5b350ecfeb, 5c5b350ecfeb, 5c5b350ecfeb, 5c5b350ecfeb, 5c5b350ecfeb, 5c5b350ecfeb, 5c5b350ecfeb, 5c5b350ecfeb, 5c5b350ecfeb, 5c5b350ecfeb, 5c5b350ecfeb, 5c5b350ecfeb, 5c5b350ecfeb, 5c5b350ecfeb, 5c5b350ecfeb, 5c5b350ecfeb, 5c5b350ecfeb, 5c5b350ecfeb, 5c5b350ecfeb, 5c5b350ecfeb, 5c5b350ecfeb]|[1, 1, 1, 1, 1, 1, 1, 1, 1, 1, 1, 1, 1, 1, 1, 1, 1, 1, 1, 1, 1]|\n",
      "+------------+----------------------+------------------------------------------------------------------------------------------------------------------------------------------------------------------------------------------------------------------------------------------------------------------------------------------------------+---------------------------------------------------------------+\n",
      "only showing top 1 row"
     ]
    }
   ],
   "source": [
    "ap_neighbor_radar.show(1, False)"
   ]
  },
  {
   "cell_type": "code",
   "execution_count": 75,
   "metadata": {},
   "outputs": [
    {
     "name": "stdout",
     "output_type": "stream",
     "text": [
      "+------------------------------------------------------------------------------------------------------------------------------------------------------------------------------------------------------------------------------------------------------------------------------------------------------+---------------------------------------------------------------+\n",
      "|neighbor_aps                                                                                                                                                                                                                                                                                          |radar_channel_counts                                           |\n",
      "+------------------------------------------------------------------------------------------------------------------------------------------------------------------------------------------------------------------------------------------------------------------------------------------------------+---------------------------------------------------------------+\n",
      "|[5c5b350ecfeb, 5c5b350ecfeb, 5c5b350ecfeb, 5c5b350ecfeb, 5c5b350ecfeb, 5c5b350ecfeb, 5c5b350ecfeb, 5c5b350ecfeb, 5c5b350ecfeb, 5c5b350ecfeb, 5c5b350ecfeb, 5c5b350ecfeb, 5c5b350ecfeb, 5c5b350ecfeb, 5c5b350ecfeb, 5c5b350ecfeb, 5c5b350ecfeb, 5c5b350ecfeb, 5c5b350ecfeb, 5c5b350ecfeb, 5c5b350ecfeb]|[1, 1, 1, 1, 1, 1, 1, 1, 1, 1, 1, 1, 1, 1, 1, 1, 1, 1, 1, 1, 1]|\n",
      "+------------------------------------------------------------------------------------------------------------------------------------------------------------------------------------------------------------------------------------------------------------------------------------------------------+---------------------------------------------------------------+\n",
      "only showing top 1 row"
     ]
    }
   ],
   "source": [
    "ap_neighbor_radar.select('neighbor_aps', 'radar_channel_counts').show(1, False)"
   ]
  },
  {
   "cell_type": "code",
   "execution_count": 69,
   "metadata": {},
   "outputs": [],
   "source": [
    "final_df = rrm_radar_df.join(ap_neighbor_radar, [rrm_radar_df.ap_id == ap_neighbor_radar.ap, rrm_radar_df.pre_channel == ap_neighbor_radar.neighbor_radar_channel], 'outer')\n",
    "\n"
   ]
  },
  {
   "cell_type": "code",
   "execution_count": 71,
   "metadata": {},
   "outputs": [
    {
     "name": "stdout",
     "output_type": "stream",
     "text": [
      "+--------------------+------------+-----------+-------------------+---------------+----------+------------+----------------------+--------------------+--------------------+\n",
      "|             site_id|       ap_id|pre_channel|radar_channel_count|last_radar_time|      time|          ap|neighbor_radar_channel|        neighbor_aps|radar_channel_counts|\n",
      "+--------------------+------------+-----------+-------------------+---------------+----------+------------+----------------------+--------------------+--------------------+\n",
      "|35670395-458f-4ec...|5c5b350ec479|        100|                  1|     1588968708|1588968000|        null|                  null|                null|                null|\n",
      "|                null|        null|       null|               null|           null|      null|5c5b353f574d|                   140|[5c5b350ecfeb, 5c...|[1, 1, 1, 1, 1, 1...|\n",
      "|c943d077-1b67-491...|5c5b355008b6|         64|                  1|     1589106042|1589104800|        null|                  null|                null|                null|\n",
      "+--------------------+------------+-----------+-------------------+---------------+----------+------------+----------------------+--------------------+--------------------+\n",
      "only showing top 3 rows"
     ]
    }
   ],
   "source": [
    "final_df.show(3)"
   ]
  },
  {
   "cell_type": "code",
   "execution_count": null,
   "metadata": {},
   "outputs": [],
   "source": [
    "final_df.sele"
   ]
  }
 ],
 "metadata": {
  "kernelspec": {
   "display_name": "PySpark3",
   "language": "",
   "name": "pyspark3kernel"
  },
  "language_info": {
   "codemirror_mode": {
    "name": "python",
    "version": 3
   },
   "mimetype": "text/x-python",
   "name": "pyspark3",
   "pygments_lexer": "python3"
  }
 },
 "nbformat": 4,
 "nbformat_minor": 2
}
