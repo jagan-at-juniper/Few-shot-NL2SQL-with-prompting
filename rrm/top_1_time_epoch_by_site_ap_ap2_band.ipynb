{
 "cells": [
  {
   "cell_type": "code",
   "execution_count": 1,
   "metadata": {},
   "outputs": [
    {
     "name": "stdout",
     "output_type": "stream",
     "text": [
      "s3://mist-aggregated-stats-production/aggregated-stats/top_1_time_epoch_by_site_ap_ap2_band/dt=2020-03-14/hr=*/*.csv\n"
     ]
    }
   ],
   "source": [
    "from pyspark.sql.functions import udf, size, avg, count, col,sum, explode\n",
    "import json\n",
    "\n",
    "env = \"production\"\n",
    "#s3://mist-aggregated-stats-production/aggregated-stats/top_1_time_epoch_by_site_ap_ap2_band/dt=2020-03-14/hr=16/part-00000-76298f84-5414-49c5-88f6-a981ff06d94d-c000.csv .\n",
    "\n",
    "s3_bucket = \"s3://mist-aggregated-stats-{env}/aggregated-stats/\".format(env=env)\n",
    "\n",
    "date_day = \"2020-03-14\"\n",
    "hr = '*'\n",
    "\n",
    "rrm_local_path = \"top_1_time_epoch_by_site_ap_ap2_band/dt={day}/hr={hr}/*.csv\".format(env=env, day=date_day, hr=hr)\n",
    "\n",
    "rrm_local_path = s3_bucket + rrm_local_path\n",
    "print(rrm_local_path)\n",
    "\n",
    "\n",
    "\n",
    "# user_org_id = \"38a18d4d-1623-4985-86d0-1bb06e5e2a48\"  # UPS\n",
    "# user_site_USNYELE = '9aa6ecdb-ddee-41b4-a8d9-872d7962b3c1'  #UPS USNYELE\n",
    "\n",
    "# # user_org_id = '38a18d4d-1623-4985-86d0-1bb06e5e2a48'  # UPS\n",
    "# user_site_USFLLON = 'c23667f3-47e9-44aa-9761-de49d34ed9f9' # USFLLON\n"
   ]
  },
  {
   "cell_type": "code",
   "execution_count": 2,
   "metadata": {},
   "outputs": [
    {
     "data": {
      "text/plain": [
       "['site,ap,ap2,band,time_epoch,rssi',\n",
       " '00193f17-4e86-4761-a6a4-d529e9491ea2,5c5b357eeb23,5c5b35aed877,5,1584146558,-81.0',\n",
       " '00193f17-4e86-4761-a6a4-d529e9491ea2,5c5b35aed70f,5c5b35aed818,24,1584147465,-53.0']"
      ]
     },
     "execution_count": 2,
     "metadata": {},
     "output_type": "execute_result"
    }
   ],
   "source": [
    "rdd_rrm_local = spark.sparkContext.textFile(rrm_local_path)\n",
    "rdd_rrm_local.take(3)"
   ]
  },
  {
   "cell_type": "code",
   "execution_count": null,
   "metadata": {},
   "outputs": [],
   "source": []
  },
  {
   "cell_type": "code",
   "execution_count": 3,
   "metadata": {},
   "outputs": [],
   "source": [
    "# rdd_rrm_local.map(lambda line: (line.split(',')[0], line.split(',')[1])).collect()"
   ]
  },
  {
   "cell_type": "code",
   "execution_count": null,
   "metadata": {},
   "outputs": [],
   "source": []
  },
  {
   "cell_type": "code",
   "execution_count": 4,
   "metadata": {},
   "outputs": [],
   "source": [
    "\n",
    "df_scan = spark.read.format(\"csv\")\\\n",
    "   .option(\"header\", \"true\")\\\n",
    "   .option(\"inferSchema\", \"true\")\\\n",
    "   .load(rrm_local_path)\n",
    "df_scan.createOrReplaceTempView(\"scan_data\")\n",
    "df_Schema = df_scan.schema"
   ]
  },
  {
   "cell_type": "code",
   "execution_count": 5,
   "metadata": {},
   "outputs": [
    {
     "data": {
      "text/plain": [
       "StructType(List(StructField(site,StringType,true),StructField(ap,StringType,true),StructField(ap2,StringType,true),StructField(band,IntegerType,true),StructField(time_epoch,IntegerType,true),StructField(rssi,DoubleType,true)))"
      ]
     },
     "execution_count": 5,
     "metadata": {},
     "output_type": "execute_result"
    }
   ],
   "source": [
    "df_Schema"
   ]
  },
  {
   "cell_type": "code",
   "execution_count": 6,
   "metadata": {},
   "outputs": [
    {
     "name": "stdout",
     "output_type": "stream",
     "text": [
      "+--------------------+------------+------------+----+----------+-----+\n",
      "|                site|          ap|         ap2|band|time_epoch| rssi|\n",
      "+--------------------+------------+------------+----+----------+-----+\n",
      "|00193f17-4e86-476...|5c5b357eeb23|5c5b35aed877|   5|1584146558|-81.0|\n",
      "|00193f17-4e86-476...|5c5b35aed70f|5c5b35aed818|  24|1584147465|-53.0|\n",
      "|00193f17-4e86-476...|5c5b35aed8c2|5c5b35aed791|   5|1584147464|-65.0|\n",
      "|00226d33-cd80-4b1...|5c5b35500fe1|5c5b355015db|  24|1584146463|-85.0|\n",
      "|00272816-8dc2-4f1...|5c5b35ae6d5b|5c5b35ae6dce|  24|1584146263|-67.0|\n",
      "|00272816-8dc2-4f1...|5c5b35ae6db5|5c5b35ae6d60|   5|1584147464|-67.0|\n",
      "|00272816-8dc2-4f1...|5c5b35ae6e05|5c5b35ae6e46|   5|1584147462|-68.0|\n",
      "|00272816-8dc2-4f1...|5c5b35ae6e5a|5c5b35ae6d47|  24|1584147460|-71.0|\n",
      "|00272816-8dc2-4f1...|5c5b35ae7152|5c5b35ae6d83|  24|1584147462|-59.0|\n",
      "|0036a1b9-254b-42d...|5c5b352e88e0|5c5b352e677a|  24|1584147474|-62.0|\n",
      "|0036a1b9-254b-42d...|5c5b352e8903|        null|   5|1584147476|-62.0|\n",
      "|00458c29-d67b-4cf...|5c5b353e573f|5c5b353e5708|   5|1584147516|-57.0|\n",
      "|005786c3-9e61-467...|5c5b359e31b5|5c5b353f4aff|   5|1584147523|-55.0|\n",
      "|00638b36-6912-40c...|5c5b35cea9a6|5c5b35ceabc2|  24|1584147525|-51.0|\n",
      "|00638b36-6912-40c...|5c5b35ceabae|5c5b35cec503|  24|1584146895|-84.0|\n",
      "|00638b36-6912-40c...|5c5b35ceb009|5c5b35ceb7a7|  24|1584146318|-69.0|\n",
      "|00638b36-6912-40c...|5c5b35ceb7a7|        null|  24|1584144793|-70.0|\n",
      "|006f0a48-50ff-43c...|5c5b35ceaaaf|5c5b358ef154|   5|1584147488|-50.0|\n",
      "|0079c1be-5825-4db...|5c5b352e4335|5c5b35be448e|   5|1584147486|-72.0|\n",
      "|007c71e4-5f98-412...|5c5b354eab59|        null|  24|1584147492|-70.0|\n",
      "+--------------------+------------+------------+----+----------+-----+\n",
      "only showing top 20 rows\n",
      "\n"
     ]
    }
   ],
   "source": [
    "df_scan.show()"
   ]
  },
  {
   "cell_type": "code",
   "execution_count": null,
   "metadata": {},
   "outputs": [],
   "source": []
  },
  {
   "cell_type": "code",
   "execution_count": null,
   "metadata": {},
   "outputs": [],
   "source": []
  },
  {
   "cell_type": "code",
   "execution_count": null,
   "metadata": {},
   "outputs": [],
   "source": []
  },
  {
   "cell_type": "code",
   "execution_count": null,
   "metadata": {},
   "outputs": [],
   "source": []
  },
  {
   "cell_type": "code",
   "execution_count": null,
   "metadata": {},
   "outputs": [],
   "source": []
  },
  {
   "cell_type": "code",
   "execution_count": null,
   "metadata": {},
   "outputs": [],
   "source": []
  }
 ],
 "metadata": {
  "kernelspec": {
   "display_name": "Python 3",
   "language": "python",
   "name": "python3"
  },
  "language_info": {
   "codemirror_mode": {
    "name": "ipython",
    "version": 3
   },
   "file_extension": ".py",
   "mimetype": "text/x-python",
   "name": "python",
   "nbconvert_exporter": "python",
   "pygments_lexer": "ipython3",
   "version": "3.7.4"
  }
 },
 "nbformat": 4,
 "nbformat_minor": 4
}
