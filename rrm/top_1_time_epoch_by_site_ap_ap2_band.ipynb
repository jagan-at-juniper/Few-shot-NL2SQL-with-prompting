{
 "cells": [
  {
   "cell_type": "code",
   "execution_count": 3,
   "metadata": {},
   "outputs": [
    {
     "name": "stdout",
     "output_type": "stream",
     "text": [
      "s3://mist-aggregated-stats-production/aggregated-stats/top_1_time_epoch_by_site_ap_ap2_band/dt=2020-03-19/hr=20/*.csv\n"
     ]
    }
   ],
   "source": [
    "from pyspark.sql.functions import udf, size, avg, count, col,sum, explode\n",
    "import json\n",
    "\n",
    "env = \"production\"\n",
    "#s3://mist-aggregated-stats-production/aggregated-stats/top_1_time_epoch_by_site_ap_ap2_band/dt=2020-03-14/hr=16/part-00000-76298f84-5414-49c5-88f6-a981ff06d94d-c000.csv .\n",
    "\n",
    "s3_bucket = \"s3://mist-aggregated-stats-{env}/aggregated-stats/\".format(env=env)\n",
    "\n",
    "date_day = \"2020-03-19\"\n",
    "hr = '20'\n",
    "\n",
    "rrm_local_path = \"top_1_time_epoch_by_site_ap_ap2_band/dt={day}/hr={hr}/*.csv\".format(env=env, day=date_day, hr=hr)\n",
    "\n",
    "rrm_local_path = s3_bucket + rrm_local_path\n",
    "print(rrm_local_path)\n",
    "\n",
    "\n",
    "\n",
    "# user_org_id = \"38a18d4d-1623-4985-86d0-1bb06e5e2a48\"  # UPS\n",
    "# user_site_USNYELE = '9aa6ecdb-ddee-41b4-a8d9-872d7962b3c1'  #UPS USNYELE\n",
    "\n",
    "# # user_org_id = '38a18d4d-1623-4985-86d0-1bb06e5e2a48'  # UPS\n",
    "# user_site_USFLLON = 'c23667f3-47e9-44aa-9761-de49d34ed9f9' # USFLLON\n"
   ]
  },
  {
   "cell_type": "code",
   "execution_count": 4,
   "metadata": {},
   "outputs": [
    {
     "data": {
      "text/plain": [
       "['site,ap,ap2,band,time_epoch,rssi',\n",
       " '0009dab3-7a6b-4ace-85ff-e6dc20768bcb,5c5b358e297c,\"\",5,1584651493,-50.0',\n",
       " '000cb16d-91d5-42e2-9c1f-a0319a8116bd,5c5b35506699,5c5b3550629d,5,1584651407,-80.0']"
      ]
     },
     "execution_count": 4,
     "metadata": {},
     "output_type": "execute_result"
    }
   ],
   "source": [
    "rdd_rrm_local = spark.sparkContext.textFile(rrm_local_path)\n",
    "rdd_rrm_local.take(3)"
   ]
  },
  {
   "cell_type": "code",
   "execution_count": null,
   "metadata": {},
   "outputs": [],
   "source": []
  },
  {
   "cell_type": "code",
   "execution_count": 5,
   "metadata": {},
   "outputs": [],
   "source": [
    "# rdd_rrm_local.map(lambda line: (line.split(',')[0], line.split(',')[1])).collect()"
   ]
  },
  {
   "cell_type": "code",
   "execution_count": null,
   "metadata": {},
   "outputs": [],
   "source": []
  },
  {
   "cell_type": "code",
   "execution_count": 6,
   "metadata": {},
   "outputs": [],
   "source": [
    "\n",
    "df_scan = spark.read.format(\"csv\")\\\n",
    "   .option(\"header\", \"true\")\\\n",
    "   .option(\"inferSchema\", \"true\")\\\n",
    "   .load(rrm_local_path)\n",
    "df_scan.createOrReplaceTempView(\"scan_data\")\n",
    "df_Schema = df_scan.schema"
   ]
  },
  {
   "cell_type": "code",
   "execution_count": 7,
   "metadata": {},
   "outputs": [
    {
     "data": {
      "text/plain": [
       "StructType(List(StructField(site,StringType,true),StructField(ap,StringType,true),StructField(ap2,StringType,true),StructField(band,IntegerType,true),StructField(time_epoch,IntegerType,true),StructField(rssi,DoubleType,true)))"
      ]
     },
     "execution_count": 7,
     "metadata": {},
     "output_type": "execute_result"
    }
   ],
   "source": [
    "df_Schema"
   ]
  },
  {
   "cell_type": "code",
   "execution_count": 8,
   "metadata": {},
   "outputs": [
    {
     "name": "stdout",
     "output_type": "stream",
     "text": [
      "+--------------------+------------+------------+----+----------+-----+\n",
      "|                site|          ap|         ap2|band|time_epoch| rssi|\n",
      "+--------------------+------------+------------+----+----------+-----+\n",
      "|0009dab3-7a6b-4ac...|5c5b358e297c|        null|   5|1584651493|-50.0|\n",
      "|000cb16d-91d5-42e...|5c5b35506699|5c5b3550629d|   5|1584651407|-80.0|\n",
      "|00193f17-4e86-476...|5c5b357eeb7d|5c5b35aed61f|   5|1584651461|-78.0|\n",
      "|00193f17-4e86-476...|5c5b35aed7e6|5c5b35aed818|  24|1584651462|-59.0|\n",
      "|00193f17-4e86-476...|5c5b35aed872|5c5b35aed7e6|  24|1584651465|-66.0|\n",
      "|00193f17-4e86-476...|5c5b35aed87c|5c5b35aed877|  24|1584651466|-75.0|\n",
      "|00226d33-cd80-4b1...|5c5b35501f9f|5c5b35502003|  24|1584651085|-64.0|\n",
      "|00252227-5f8f-4e6...|5c5b352e8f25|        null|  24|1584651485|-61.0|\n",
      "|00272816-8dc2-4f1...|5c5b35ae6dc9|5c5b357f32c7|  24|1584651463|-72.0|\n",
      "|00458c29-d67b-4cf...|5c5b353e5573|5c5b353e5555|  24|1584651478|-61.0|\n",
      "|00458c29-d67b-4cf...|5c5b353e565e|5c5b353e579e|   5|1584651499|-67.0|\n",
      "|00458c29-d67b-4cf...|5c5b353e5712|5c5b353e573a|  24|1584651487|-55.0|\n",
      "|00458c29-d67b-4cf...|5c5b353e571c|5c5b353e6464|  24|1584651513|-63.0|\n",
      "|00458c29-d67b-4cf...|5c5b35ceffdc|5c5b353e645a|   5|1584651533|-69.0|\n",
      "|00638b36-6912-40c...|5c5b35ceac8f|5c5b35ceaf41|  24|1584648227|-72.0|\n",
      "|00638b36-6912-40c...|5c5b35ceaca3|5c5b35ceab90|   5|1584651491|-73.0|\n",
      "|008626f2-7bc2-4ab...|5c5b357e016d|5c5b357e0140|  24|1584651179|-81.0|\n",
      "|008626f2-7bc2-4ab...|5c5b359ef749|        null|   5|1584651515|-71.0|\n",
      "|008626f2-7bc2-4ab...|5c5b359efb63|        null|  24|1584651489|-76.0|\n",
      "|0093c451-3a9b-4d0...|5c5b352f6a1c|        null|  24|1584649920|-78.0|\n",
      "+--------------------+------------+------------+----+----------+-----+\n",
      "only showing top 20 rows\n",
      "\n"
     ]
    }
   ],
   "source": [
    "df_scan.show()"
   ]
  },
  {
   "cell_type": "code",
   "execution_count": 9,
   "metadata": {},
   "outputs": [
    {
     "name": "stdout",
     "output_type": "stream",
     "text": [
      "+-------+--------------------+------------+------------+-----------------+--------------------+------------------+\n",
      "|summary|                site|          ap|         ap2|             band|          time_epoch|              rssi|\n",
      "+-------+--------------------+------------+------------+-----------------+--------------------+------------------+\n",
      "|  count|             2698488|     2698488|     2472892|          2698488|             2698488|           2698488|\n",
      "|   mean|                null|        null|        null|16.10877943500212|1.5846512685131106E9|-66.59862078319415|\n",
      "| stddev|                null|        null|        null|9.362791315364358|   630.5341625638516| 8.445860009209433|\n",
      "|    min|0009dab3-7a6b-4ac...|5c5b350e011c|5c5b350e0090|                5|          1584648000|             -96.0|\n",
      "|    max|fffb6917-ee0e-45c...|d420b080bb76|d420b080bb76|               24|          1584651598|             -11.0|\n",
      "+-------+--------------------+------------+------------+-----------------+--------------------+------------------+\n",
      "\n"
     ]
    }
   ],
   "source": [
    "df_scan.describe().show()"
   ]
  },
  {
   "cell_type": "code",
   "execution_count": 10,
   "metadata": {},
   "outputs": [
    {
     "data": {
      "text/plain": [
       "2698488"
      ]
     },
     "execution_count": 10,
     "metadata": {},
     "output_type": "execute_result"
    }
   ],
   "source": [
    "df_scan.count()"
   ]
  },
  {
   "cell_type": "code",
   "execution_count": 11,
   "metadata": {},
   "outputs": [],
   "source": [
    "site_id = \"d1ee1d22-4b55-4c97-97c4-9d757144f45b\""
   ]
  },
  {
   "cell_type": "code",
   "execution_count": 12,
   "metadata": {},
   "outputs": [],
   "source": [
    "df_scan_site = df_scan.filter(col('site')==site_id)"
   ]
  },
  {
   "cell_type": "code",
   "execution_count": 13,
   "metadata": {},
   "outputs": [
    {
     "data": {
      "text/plain": [
       "184"
      ]
     },
     "execution_count": 13,
     "metadata": {},
     "output_type": "execute_result"
    }
   ],
   "source": [
    "df_scan_site.count()"
   ]
  },
  {
   "cell_type": "code",
   "execution_count": null,
   "metadata": {},
   "outputs": [],
   "source": []
  }
 ],
 "metadata": {
  "kernelspec": {
   "display_name": "Python 3",
   "language": "python",
   "name": "python3"
  },
  "language_info": {
   "codemirror_mode": {
    "name": "ipython",
    "version": 3
   },
   "file_extension": ".py",
   "mimetype": "text/x-python",
   "name": "python",
   "nbconvert_exporter": "python",
   "pygments_lexer": "ipython3",
   "version": "3.7.4"
  }
 },
 "nbformat": 4,
 "nbformat_minor": 4
}
