{
 "cells": [
  {
   "cell_type": "code",
   "execution_count": 1,
   "metadata": {},
   "outputs": [
    {
     "name": "stdout",
     "output_type": "stream",
     "text": [
      "s3://mist-secorapp-staging/sle-capacity-anomaly/sle-capacity-anomaly-staging/dt=2020-03-1*/hr=*/*.seq\n"
     ]
    }
   ],
   "source": [
    "env = \"production\"\n",
    "# env = \"staging\"\n",
    "\n",
    "\n",
    "# s3_bucket = \"s3://mist-aggregated-stats-{env}/entity_event/entity_event-{env}/\".format(env=env)\n",
    "date_day = \"2020-03-1*\"\n",
    "hr = '*'\n",
    "\n",
    "# s3_capacity_path = \"dt={day}/hr={hr}/CapacityAnomalyEvent_*.seq\".format(day=date_day, hr=hr)\n",
    "# s3_coverage_path = \"dt={day}/hr={hr}/CoverageAnomalyEvent_*.seq\".format(day=date_day, hr=hr)\n",
    "# s3_capacity_path = s3_bucket + s3_capacity_path\n",
    "# s3_coverage_path = s3_bucket + s3_coverage_path\n",
    "# print(s3_capacity_path, \"\\n\", s3_coverage_path)\n",
    "\n",
    "s3_bucket = \"s3://mist-secorapp-staging/sle-capacity-anomaly/sle-capacity-anomaly-staging/\".format(env=env)\n",
    "s3_path = s3_bucket + \"dt={day}/hr={hr}/*.seq\".format(day=date_day, hr=hr)\n",
    "\n",
    "print(s3_path)\n"
   ]
  },
  {
   "cell_type": "code",
   "execution_count": 2,
   "metadata": {},
   "outputs": [],
   "source": [
    "# rdd_capacity = spark.sparkContext.sequenceFile(s3_capacity_path)\n",
    "# rdd_coverage = spark.sparkContext.sequenceFile(s3_coverage_path)\n",
    "rdd_capacity = spark.sparkContext.sequenceFile(s3_path)"
   ]
  },
  {
   "cell_type": "code",
   "execution_count": 3,
   "metadata": {},
   "outputs": [
    {
     "data": {
      "text/plain": [
       "(55555,\n",
       " bytearray(b'{\"radio_5s\":1,\"util_nonwifi_std_base\":7.062569944280419,\"channel\":1,\"sle_coverage_base\":0.9935433190673669,\"util_nonwifi_deviation\":3.715947279481879,\"rssi_mean\":-49.70652173913044,\"rad_id\":\"r24\",\"sle_capacity_anomaly_score\":0.27366601949014646,\"util_all_mean_base\":90.93317336113182,\"anomaly_score\":2.014241404491411,\"dev\":\"r0\",\"anomaly_type\":\"nonwifi\",\"band\":\"24\",\"util_cochannel_std\":5.0,\"sle_coverage_anomaly\":false,\"util_cochannel_mean\":43.43069752097154,\"util_cochannel_std_base\":5.46560143641446,\"events\":[],\"avg_nclients\":1.0,\"sle_capacity_error\":0.4461205267868592,\"interference_anomaly_score\":2.014241404491411,\"util_nonwifi_mean_base\":30.03051711743215,\"util_ap\":9.792660988750868,\"sle_coverage_error\":0.4335800950892067,\"util_cochannel_deviation\":-1.1954569697494748,\"ap\":\"5c-5b-35-0e-cf-eb\",\"rssi_hist\":{\"-35\":62,\"-38\":62,\"-77\":60},\"error_rate\":0.5540877024144466,\"sle_coverage\":0.6739130434782609,\"user_seconds_util_high\":184,\"sle_coverage_base_std\":0.1,\"sle_coverage_anomaly_score\":0.7371885361189007,\"interval\":60,\"impacted_wlans\":[\"49103402-4e17-11e6-9188-0242ac110007\"],\"rssi_std_base\":8.698333326738577,\"util_cochannel_mean_base\":63.07378989516871,\"interference_type\":\"nonwifi\",\"rssi_watermark\":-72,\"sle_capacity_base_std\":0.3035701001616974,\"anomaly\":\"\",\"user_seconds_rssi_weak\":60,\"util_all_std\":5.0,\"sle_capacity_impacted\":0.0,\"user_seconds\":184,\"power\":18,\"user_seconds_util_high_impacted\":184,\"timestamp\":1583800200,\"rssi_std\":19.02546236853349,\"org\":\"6748cfa6-4e12-11e6-9188-0242ac110007\",\"bandwidth\":20,\"util_nonwifi_mean\":56.752579487781844,\"sle_capacity_anomaly\":false,\"util_nonwifi_std\":5.0,\"rssi_mean_base\":-51.18221824528744,\"util_all_deviation\":0.0,\"sle_capacity\":0.0,\"site\":\"67970e46-4e12-11e6-9188-0242ac110007\",\"util_all_std_base\":5.0,\"user_seconds_rssi_weak_impacted\":60,\"sle_coverage_impacted\":0.6739130434782609,\"util_watermark\":20,\"util_all_mean\":83.64307188139911,\"time_since_last_interference_anomaly\":4200,\"max_nclients\":1.0,\"sle_capacity_base\":0.12192351255698525,\"rssi_deviation\":-1.5154878239450136}'))"
      ]
     },
     "execution_count": 3,
     "metadata": {},
     "output_type": "execute_result"
    }
   ],
   "source": [
    "rdd_capacity.first()"
   ]
  },
  {
   "cell_type": "code",
   "execution_count": 4,
   "metadata": {
    "scrolled": false
   },
   "outputs": [
    {
     "name": "stderr",
     "output_type": "stream",
     "text": [
      "/opt/mistsys/ds_incubator/venv/spark-2.4.4-bin-without-hadoop/python/pyspark/sql/session.py:366: UserWarning: Using RDD of dict to inferSchema is deprecated. Use pyspark.sql.Row instead\n",
      "  warnings.warn(\"Using RDD of dict to inferSchema is deprecated. \"\n"
     ]
    }
   ],
   "source": [
    "import json\n",
    "# rdd_site = rdd.map(lambda x: json.loads(x[1])).map(lambda x: (x.get(\"site_id\"), x.get(\"ap_id\"))).groupByKey()\n",
    "# rdd_site = rdd.map(lambda x: json.loads(x[1])).map(lambda x: (x.get(\"site_id\"))).groupBy('site_id')\n",
    "df_capacity = rdd_capacity.map(lambda x: json.loads(x[1])).toDF() #.map(lambda x: json.loads(x[1])).\n",
    "\n"
   ]
  },
  {
   "cell_type": "code",
   "execution_count": 5,
   "metadata": {},
   "outputs": [
    {
     "name": "stdout",
     "output_type": "stream",
     "text": [
      "root\n",
      " |-- anomaly: string (nullable = true)\n",
      " |-- anomaly_score: double (nullable = true)\n",
      " |-- anomaly_type: string (nullable = true)\n",
      " |-- ap: string (nullable = true)\n",
      " |-- avg_nclients: double (nullable = true)\n",
      " |-- band: string (nullable = true)\n",
      " |-- bandwidth: long (nullable = true)\n",
      " |-- channel: long (nullable = true)\n",
      " |-- dev: string (nullable = true)\n",
      " |-- error_rate: double (nullable = true)\n",
      " |-- events: array (nullable = true)\n",
      " |    |-- element: string (containsNull = true)\n",
      " |-- impacted_wlans: array (nullable = true)\n",
      " |    |-- element: string (containsNull = true)\n",
      " |-- interference_anomaly_score: double (nullable = true)\n",
      " |-- interference_type: string (nullable = true)\n",
      " |-- interval: long (nullable = true)\n",
      " |-- max_nclients: double (nullable = true)\n",
      " |-- org: string (nullable = true)\n",
      " |-- power: long (nullable = true)\n",
      " |-- rad_id: string (nullable = true)\n",
      " |-- radio_5s: long (nullable = true)\n",
      " |-- rssi_deviation: double (nullable = true)\n",
      " |-- rssi_hist: map (nullable = true)\n",
      " |    |-- key: string\n",
      " |    |-- value: long (valueContainsNull = true)\n",
      " |-- rssi_mean: double (nullable = true)\n",
      " |-- rssi_mean_base: double (nullable = true)\n",
      " |-- rssi_std: double (nullable = true)\n",
      " |-- rssi_std_base: double (nullable = true)\n",
      " |-- rssi_watermark: long (nullable = true)\n",
      " |-- site: string (nullable = true)\n",
      " |-- sle_capacity: double (nullable = true)\n",
      " |-- sle_capacity_anomaly: boolean (nullable = true)\n",
      " |-- sle_capacity_anomaly_score: double (nullable = true)\n",
      " |-- sle_capacity_base: double (nullable = true)\n",
      " |-- sle_capacity_base_std: double (nullable = true)\n",
      " |-- sle_capacity_error: double (nullable = true)\n",
      " |-- sle_capacity_impacted: double (nullable = true)\n",
      " |-- sle_coverage: double (nullable = true)\n",
      " |-- sle_coverage_anomaly: boolean (nullable = true)\n",
      " |-- sle_coverage_anomaly_score: double (nullable = true)\n",
      " |-- sle_coverage_base: double (nullable = true)\n",
      " |-- sle_coverage_base_std: double (nullable = true)\n",
      " |-- sle_coverage_error: double (nullable = true)\n",
      " |-- sle_coverage_impacted: double (nullable = true)\n",
      " |-- time_since_last_interference_anomaly: long (nullable = true)\n",
      " |-- timestamp: long (nullable = true)\n",
      " |-- user_seconds: long (nullable = true)\n",
      " |-- user_seconds_rssi_weak: long (nullable = true)\n",
      " |-- user_seconds_rssi_weak_impacted: long (nullable = true)\n",
      " |-- user_seconds_util_high: long (nullable = true)\n",
      " |-- user_seconds_util_high_impacted: long (nullable = true)\n",
      " |-- util_all_deviation: double (nullable = true)\n",
      " |-- util_all_mean: double (nullable = true)\n",
      " |-- util_all_mean_base: double (nullable = true)\n",
      " |-- util_all_std: double (nullable = true)\n",
      " |-- util_all_std_base: double (nullable = true)\n",
      " |-- util_ap: double (nullable = true)\n",
      " |-- util_cochannel_deviation: double (nullable = true)\n",
      " |-- util_cochannel_mean: double (nullable = true)\n",
      " |-- util_cochannel_mean_base: double (nullable = true)\n",
      " |-- util_cochannel_std: double (nullable = true)\n",
      " |-- util_cochannel_std_base: double (nullable = true)\n",
      " |-- util_nonwifi_deviation: double (nullable = true)\n",
      " |-- util_nonwifi_mean: double (nullable = true)\n",
      " |-- util_nonwifi_mean_base: double (nullable = true)\n",
      " |-- util_nonwifi_std: double (nullable = true)\n",
      " |-- util_nonwifi_std_base: double (nullable = true)\n",
      " |-- util_watermark: long (nullable = true)\n",
      "\n"
     ]
    }
   ],
   "source": [
    "# df_capacity\n",
    "df_capacity.printSchema()"
   ]
  },
  {
   "cell_type": "code",
   "execution_count": 6,
   "metadata": {},
   "outputs": [],
   "source": [
    "\n",
    "# df_capacity.select(\"org\", \"site\",  \"anomaly\", \"anomaly_score\", \"anomaly_type\", \"sle_capacity_anomaly\", \"util_nonwifi_mean\", \"util_cochannel_mean\").show()\n",
    "\n",
    "df_capacity_g = df_capacity.select(\"org\", \"site\", \"anomaly_type\").groupBy(\"org\", \"site\", \"anomaly_type\").count()"
   ]
  },
  {
   "cell_type": "code",
   "execution_count": 7,
   "metadata": {},
   "outputs": [],
   "source": [
    "# df_capacity_g.show()"
   ]
  },
  {
   "cell_type": "code",
   "execution_count": 9,
   "metadata": {},
   "outputs": [
    {
     "name": "stdout",
     "output_type": "stream",
     "text": [
      "+--------------------+--------------------+------------+-----+\n",
      "|                 org|                site|anomaly_type|count|\n",
      "+--------------------+--------------------+------------+-----+\n",
      "|828ed216-66ad-4d2...|8a1c65c6-1962-477...|   cochannel|   45|\n",
      "|b4e16c72-d50e-4c0...|57b2f891-09c1-4dc...|   cochannel|   36|\n",
      "|bb2fb165-0931-49c...|c3b8f61c-c5a2-495...|     nonwifi|   25|\n",
      "|41f579e0-5a00-416...|c475d117-b152-445...|     nonwifi|   21|\n",
      "|bb2fb165-0931-49c...|c3b8f61c-c5a2-495...|   cochannel|   15|\n",
      "|b4e16c72-d50e-4c0...|57b2f891-09c1-4dc...|     nonwifi|   14|\n",
      "|2dbab92c-7cc4-11e...|6db15e18-bc94-11e...|     nonwifi|   12|\n",
      "|6748cfa6-4e12-11e...|67970e46-4e12-11e...|     nonwifi|   11|\n",
      "|1d2e8b2d-6afe-4c1...|713afd5a-6b75-47a...|   cochannel|   10|\n",
      "|b4e16c72-d50e-4c0...|f688779c-e335-4f8...|   cochannel|   10|\n",
      "+--------------------+--------------------+------------+-----+\n",
      "only showing top 10 rows\n",
      "\n"
     ]
    }
   ],
   "source": [
    "df_capacity_g.orderBy('count', ascending=False).show(10)\n",
    "\n",
    "# df_capacity_g.sort('count', ascending=False).show() #\n"
   ]
  },
  {
   "cell_type": "code",
   "execution_count": null,
   "metadata": {},
   "outputs": [],
   "source": []
  },
  {
   "cell_type": "code",
   "execution_count": null,
   "metadata": {},
   "outputs": [],
   "source": []
  },
  {
   "cell_type": "code",
   "execution_count": null,
   "metadata": {},
   "outputs": [],
   "source": []
  },
  {
   "cell_type": "code",
   "execution_count": 6,
   "metadata": {},
   "outputs": [],
   "source": [
    "# # rdd_site.take(1)\n",
    "# rdd_capacity_by_site= rdd_capacity.map(lambda x: json.loads(x[1])).map(lambda x: (x.get(\"site_id\"),1)).countByKey()\n",
    "\n",
    "# rdd_coverage_by_site= rdd_coverage.map(lambda x: json.loads(x[1])).map(lambda x: (x.get(\"site_id\"),1)).countByKey()\n",
    "\n",
    "# site_capacity_sorted = sorted(rdd_capacity_by_site.items(), key=lambda v:v[1], reverse=True) #, key=lambda(k, v): v)\n",
    "# site_coverage_sorted = sorted(rdd_coverage_by_site.items(), key=lambda v:v[1], reverse=True) #, key=lambda(k, v): v)\n",
    "\n",
    "\n",
    "# site_capacity_sorted[:10]\n"
   ]
  },
  {
   "cell_type": "code",
   "execution_count": 18,
   "metadata": {},
   "outputs": [],
   "source": [
    "# site_coverage_sorted[:10]"
   ]
  },
  {
   "cell_type": "code",
   "execution_count": 10,
   "metadata": {},
   "outputs": [],
   "source": [
    "# rdd_coverage_by_site.sort()"
   ]
  },
  {
   "cell_type": "code",
   "execution_count": null,
   "metadata": {},
   "outputs": [],
   "source": []
  },
  {
   "cell_type": "code",
   "execution_count": null,
   "metadata": {},
   "outputs": [],
   "source": []
  },
  {
   "cell_type": "code",
   "execution_count": null,
   "metadata": {},
   "outputs": [],
   "source": []
  },
  {
   "cell_type": "code",
   "execution_count": null,
   "metadata": {},
   "outputs": [],
   "source": []
  }
 ],
 "metadata": {
  "kernelspec": {
   "display_name": "Python 3",
   "language": "python",
   "name": "python3"
  },
  "language_info": {
   "codemirror_mode": {
    "name": "ipython",
    "version": 3
   },
   "file_extension": ".py",
   "mimetype": "text/x-python",
   "name": "python",
   "nbconvert_exporter": "python",
   "pygments_lexer": "ipython3",
   "version": "3.7.4"
  }
 },
 "nbformat": 4,
 "nbformat_minor": 2
}
