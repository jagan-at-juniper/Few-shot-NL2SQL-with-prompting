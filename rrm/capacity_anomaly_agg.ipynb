{
 "cells": [
  {
   "cell_type": "code",
   "execution_count": 1,
   "metadata": {},
   "outputs": [
    {
     "name": "stdout",
     "output_type": "stream",
     "text": [
      "s3://mist-secorapp-staging/sle-capacity-anomaly/sle-capacity-anomaly-staging/dt=2020-03-*/hr=*/*.seq\n"
     ]
    }
   ],
   "source": [
    "env = \"production\"\n",
    "env = \"staging\"\n",
    "\n",
    "\n",
    "# s3_bucket = \"s3://mist-aggregated-stats-{env}/entity_event/entity_event-{env}/\".format(env=env)\n",
    "date_day = \"2020-03-1*\"\n",
    "hr = '*'\n",
    "\n",
    "# s3_capacity_path = \"dt={day}/hr={hr}/CapacityAnomalyEvent_*.seq\".format(day=date_day, hr=hr)\n",
    "# s3_coverage_path = \"dt={day}/hr={hr}/CoverageAnomalyEvent_*.seq\".format(day=date_day, hr=hr)\n",
    "# s3_capacity_path = s3_bucket + s3_capacity_path\n",
    "# s3_coverage_path = s3_bucket + s3_coverage_path\n",
    "# print(s3_capacity_path, \"\\n\", s3_coverage_path)\n",
    "\n",
    "s3_bucket = \"s3://mist-secorapp-staging/sle-capacity-anomaly/sle-capacity-anomaly-staging/\".format(env=env)\n",
    "s3_path = s3_bucket + \"dt={day}/hr={hr}/*.seq\".format(day=date_day, hr=hr)\n",
    "\n",
    "print(s3_path)\n"
   ]
  },
  {
   "cell_type": "code",
   "execution_count": 2,
   "metadata": {},
   "outputs": [],
   "source": [
    "# rdd_capacity = spark.sparkContext.sequenceFile(s3_capacity_path)\n",
    "# rdd_coverage = spark.sparkContext.sequenceFile(s3_coverage_path)\n",
    "rdd_capacity = spark.sparkContext.sequenceFile(s3_path)"
   ]
  },
  {
   "cell_type": "code",
   "execution_count": 3,
   "metadata": {},
   "outputs": [
    {
     "data": {
      "text/plain": [
       "(55072,\n",
       " bytearray(b'{\"radio_5s\":1,\"util_nonwifi_std_base\":5.0,\"channel\":6,\"sle_coverage_base\":1.0,\"util_nonwifi_deviation\":0.02180516335405495,\"rssi_mean\":-56.8921568627451,\"rad_id\":\"r24\",\"sle_capacity_anomaly_score\":0.0,\"util_all_mean_base\":90.67844744950943,\"anomaly_score\":2.6348636929746667,\"dev\":\"r0\",\"anomaly_type\":\"cochannel\",\"band\":\"24\",\"util_cochannel_std\":5.0,\"sle_coverage_anomaly\":false,\"util_cochannel_mean\":71.95719744145556,\"util_cochannel_std_base\":5.0,\"events\":[],\"avg_nclients\":1.0,\"sle_capacity_error\":0.14004173596603214,\"interference_anomaly_score\":2.6348636929746667,\"util_nonwifi_mean_base\":18.21812442019059,\"util_ap\":8.588402182795107,\"sle_coverage_error\":0.14004173596603214,\"util_cochannel_deviation\":7.319065813818521,\"ap\":\"5c-5b-35-0e-09-51\",\"rssi_hist\":{\"-53\":62,\"-56\":306,\"-59\":244},\"error_rate\":0.07442706008346021,\"sle_coverage\":1.0,\"user_seconds_util_high\":612,\"sle_coverage_base_std\":0.1,\"sle_coverage_anomaly_score\":0.0,\"interval\":62,\"impacted_wlans\":[\"ab105bbe-e058-445a-949d-25112abaa0fa\"],\"rssi_std_base\":3.0,\"util_cochannel_mean_base\":71.1363998168182,\"interference_type\":\"cochannel\",\"rssi_watermark\":-72,\"sle_capacity_base_std\":0.1,\"anomaly\":\"\",\"user_seconds_rssi_weak\":0,\"util_all_std\":5.0,\"sle_capacity_impacted\":0.8006535947712419,\"user_seconds\":612,\"power\":8,\"user_seconds_util_high_impacted\":122,\"timestamp\":1583020800,\"rssi_std\":3.0,\"org\":\"bf8b581c-eadd-42dc-945c-d278c75f73c5\",\"bandwidth\":20,\"util_nonwifi_mean\":20.065415490062165,\"sle_capacity_anomaly\":false,\"util_nonwifi_std\":5.0,\"rssi_mean_base\":-57.01167133052386,\"util_all_deviation\":0.0,\"sle_capacity\":0.0,\"site\":\"d7c802c4-1d3a-4aa5-90fa-afd14ac7e089\",\"util_all_std_base\":5.0,\"user_seconds_rssi_weak_impacted\":0,\"sle_coverage_impacted\":1.0,\"util_watermark\":20,\"util_all_mean\":90.87679298099282,\"time_since_last_interference_anomaly\":2400,\"max_nclients\":1.0,\"sle_capacity_base\":0.0,\"rssi_deviation\":0.6627762231587132}'))"
      ]
     },
     "execution_count": 3,
     "metadata": {},
     "output_type": "execute_result"
    }
   ],
   "source": [
    "rdd_capacity.first()"
   ]
  },
  {
   "cell_type": "code",
   "execution_count": 4,
   "metadata": {
    "scrolled": false
   },
   "outputs": [
    {
     "name": "stderr",
     "output_type": "stream",
     "text": [
      "/opt/mistsys/ds_incubator/venv/spark-2.4.4-bin-without-hadoop/python/pyspark/sql/session.py:366: UserWarning: Using RDD of dict to inferSchema is deprecated. Use pyspark.sql.Row instead\n",
      "  warnings.warn(\"Using RDD of dict to inferSchema is deprecated. \"\n"
     ]
    }
   ],
   "source": [
    "import json\n",
    "# rdd_site = rdd.map(lambda x: json.loads(x[1])).map(lambda x: (x.get(\"site_id\"), x.get(\"ap_id\"))).groupByKey()\n",
    "# rdd_site = rdd.map(lambda x: json.loads(x[1])).map(lambda x: (x.get(\"site_id\"))).groupBy('site_id')\n",
    "df_capacity = rdd_capacity.map(lambda x: json.loads(x[1])).toDF() #.map(lambda x: json.loads(x[1])).\n",
    "\n"
   ]
  },
  {
   "cell_type": "code",
   "execution_count": 5,
   "metadata": {},
   "outputs": [
    {
     "name": "stdout",
     "output_type": "stream",
     "text": [
      "root\n",
      " |-- anomaly: string (nullable = true)\n",
      " |-- anomaly_score: double (nullable = true)\n",
      " |-- anomaly_type: string (nullable = true)\n",
      " |-- ap: string (nullable = true)\n",
      " |-- avg_nclients: double (nullable = true)\n",
      " |-- band: string (nullable = true)\n",
      " |-- bandwidth: long (nullable = true)\n",
      " |-- channel: long (nullable = true)\n",
      " |-- dev: string (nullable = true)\n",
      " |-- error_rate: double (nullable = true)\n",
      " |-- events: array (nullable = true)\n",
      " |    |-- element: string (containsNull = true)\n",
      " |-- impacted_wlans: array (nullable = true)\n",
      " |    |-- element: string (containsNull = true)\n",
      " |-- interference_anomaly_score: double (nullable = true)\n",
      " |-- interference_type: string (nullable = true)\n",
      " |-- interval: long (nullable = true)\n",
      " |-- max_nclients: double (nullable = true)\n",
      " |-- org: string (nullable = true)\n",
      " |-- power: long (nullable = true)\n",
      " |-- rad_id: string (nullable = true)\n",
      " |-- radio_5s: long (nullable = true)\n",
      " |-- rssi_deviation: double (nullable = true)\n",
      " |-- rssi_hist: map (nullable = true)\n",
      " |    |-- key: string\n",
      " |    |-- value: long (valueContainsNull = true)\n",
      " |-- rssi_mean: double (nullable = true)\n",
      " |-- rssi_mean_base: double (nullable = true)\n",
      " |-- rssi_std: double (nullable = true)\n",
      " |-- rssi_std_base: double (nullable = true)\n",
      " |-- rssi_watermark: long (nullable = true)\n",
      " |-- site: string (nullable = true)\n",
      " |-- sle_capacity: double (nullable = true)\n",
      " |-- sle_capacity_anomaly: boolean (nullable = true)\n",
      " |-- sle_capacity_anomaly_score: double (nullable = true)\n",
      " |-- sle_capacity_base: double (nullable = true)\n",
      " |-- sle_capacity_base_std: double (nullable = true)\n",
      " |-- sle_capacity_error: double (nullable = true)\n",
      " |-- sle_capacity_impacted: double (nullable = true)\n",
      " |-- sle_coverage: double (nullable = true)\n",
      " |-- sle_coverage_anomaly: boolean (nullable = true)\n",
      " |-- sle_coverage_anomaly_score: double (nullable = true)\n",
      " |-- sle_coverage_base: double (nullable = true)\n",
      " |-- sle_coverage_base_std: double (nullable = true)\n",
      " |-- sle_coverage_error: double (nullable = true)\n",
      " |-- sle_coverage_impacted: double (nullable = true)\n",
      " |-- time_since_last_interference_anomaly: long (nullable = true)\n",
      " |-- timestamp: long (nullable = true)\n",
      " |-- user_seconds: long (nullable = true)\n",
      " |-- user_seconds_rssi_weak: long (nullable = true)\n",
      " |-- user_seconds_rssi_weak_impacted: long (nullable = true)\n",
      " |-- user_seconds_util_high: long (nullable = true)\n",
      " |-- user_seconds_util_high_impacted: long (nullable = true)\n",
      " |-- util_all_deviation: double (nullable = true)\n",
      " |-- util_all_mean: double (nullable = true)\n",
      " |-- util_all_mean_base: double (nullable = true)\n",
      " |-- util_all_std: double (nullable = true)\n",
      " |-- util_all_std_base: double (nullable = true)\n",
      " |-- util_ap: double (nullable = true)\n",
      " |-- util_cochannel_deviation: double (nullable = true)\n",
      " |-- util_cochannel_mean: double (nullable = true)\n",
      " |-- util_cochannel_mean_base: double (nullable = true)\n",
      " |-- util_cochannel_std: double (nullable = true)\n",
      " |-- util_cochannel_std_base: double (nullable = true)\n",
      " |-- util_nonwifi_deviation: double (nullable = true)\n",
      " |-- util_nonwifi_mean: double (nullable = true)\n",
      " |-- util_nonwifi_mean_base: double (nullable = true)\n",
      " |-- util_nonwifi_std: double (nullable = true)\n",
      " |-- util_nonwifi_std_base: double (nullable = true)\n",
      " |-- util_watermark: long (nullable = true)\n",
      "\n"
     ]
    }
   ],
   "source": [
    "# df_capacity\n",
    "df_capacity.printSchema()"
   ]
  },
  {
   "cell_type": "code",
   "execution_count": 14,
   "metadata": {},
   "outputs": [],
   "source": [
    "\n",
    "# df_capacity.select(\"org\", \"site\",  \"anomaly\", \"anomaly_score\", \"anomaly_type\", \"sle_capacity_anomaly\", \"util_nonwifi_mean\", \"util_cochannel_mean\").show()\n",
    "\n",
    "df_capacity_g = df_capacity.select(\"org\", \"site\", \"anomaly_type\").groupBy(\"org\", \"site\", \"anomaly_type\").count()"
   ]
  },
  {
   "cell_type": "code",
   "execution_count": 17,
   "metadata": {},
   "outputs": [],
   "source": [
    "# df_capacity_g.show()"
   ]
  },
  {
   "cell_type": "code",
   "execution_count": 16,
   "metadata": {},
   "outputs": [
    {
     "data": {
      "text/plain": [
       "[Row(org='bf8b581c-eadd-42dc-945c-d278c75f73c5', site='d7c802c4-1d3a-4aa5-90fa-afd14ac7e089', anomaly_type='cochannel', count=80),\n",
       " Row(org='2dbab92c-7cc4-11e5-ab8b-1258369c38a9', site='6db15e18-bc94-11e5-91a9-1258369c38a9', anomaly_type='cochannel', count=74),\n",
       " Row(org='7e7ce140-d3ce-4ac2-9f02-9ff914d5b7fe', site='5ff3241a-83fc-4421-89de-82c2d530adda', anomaly_type='nonwifi', count=71),\n",
       " Row(org='828ed216-66ad-4d23-96ea-b7334645b378', site='8a1c65c6-1962-477f-914e-caa80bf79130', anomaly_type='cochannel', count=30),\n",
       " Row(org='6748cfa6-4e12-11e6-9188-0242ac110007', site='67970e46-4e12-11e6-9188-0242ac110007', anomaly_type='nonwifi', count=25),\n",
       " Row(org='7e7ce140-d3ce-4ac2-9f02-9ff914d5b7fe', site='c943d077-1b67-4915-a690-e698543d2790', anomaly_type='cochannel', count=24),\n",
       " Row(org='6748cfa6-4e12-11e6-9188-0242ac110007', site='67970e46-4e12-11e6-9188-0242ac110007', anomaly_type='cochannel', count=23),\n",
       " Row(org='c080ce4d-4e35-4373-bdc4-08df15d257f5', site='27b9fa9e-365e-4d2c-a160-9be781114b9e', anomaly_type='nonwifi', count=12),\n",
       " Row(org='b0b9f142-aaba-11e6-aafc-0242ac110002', site='20325077-2d75-4fa9-b801-7fc2686afb69', anomaly_type='nonwifi', count=11),\n",
       " Row(org='b0b9f142-aaba-11e6-aafc-0242ac110002', site='b0bbfdc0-aaba-11e6-aafc-0242ac110002', anomaly_type='cochannel', count=11)]"
      ]
     },
     "execution_count": 16,
     "metadata": {},
     "output_type": "execute_result"
    }
   ],
   "source": [
    "df_capacity_g.orderBy('count', ascending=False).take(10)\n",
    "\n",
    "# df_capacity_g.sort('count', ascending=False).show() #\n"
   ]
  },
  {
   "cell_type": "code",
   "execution_count": null,
   "metadata": {},
   "outputs": [],
   "source": []
  },
  {
   "cell_type": "code",
   "execution_count": null,
   "metadata": {},
   "outputs": [],
   "source": []
  },
  {
   "cell_type": "code",
   "execution_count": null,
   "metadata": {},
   "outputs": [],
   "source": []
  },
  {
   "cell_type": "code",
   "execution_count": 6,
   "metadata": {},
   "outputs": [],
   "source": [
    "# # rdd_site.take(1)\n",
    "# rdd_capacity_by_site= rdd_capacity.map(lambda x: json.loads(x[1])).map(lambda x: (x.get(\"site_id\"),1)).countByKey()\n",
    "\n",
    "# rdd_coverage_by_site= rdd_coverage.map(lambda x: json.loads(x[1])).map(lambda x: (x.get(\"site_id\"),1)).countByKey()\n",
    "\n",
    "# site_capacity_sorted = sorted(rdd_capacity_by_site.items(), key=lambda v:v[1], reverse=True) #, key=lambda(k, v): v)\n",
    "# site_coverage_sorted = sorted(rdd_coverage_by_site.items(), key=lambda v:v[1], reverse=True) #, key=lambda(k, v): v)\n",
    "\n",
    "\n",
    "# site_capacity_sorted[:10]\n"
   ]
  },
  {
   "cell_type": "code",
   "execution_count": 18,
   "metadata": {},
   "outputs": [],
   "source": [
    "# site_coverage_sorted[:10]"
   ]
  },
  {
   "cell_type": "code",
   "execution_count": 10,
   "metadata": {},
   "outputs": [],
   "source": [
    "# rdd_coverage_by_site.sort()"
   ]
  },
  {
   "cell_type": "code",
   "execution_count": null,
   "metadata": {},
   "outputs": [],
   "source": []
  },
  {
   "cell_type": "code",
   "execution_count": null,
   "metadata": {},
   "outputs": [],
   "source": []
  },
  {
   "cell_type": "code",
   "execution_count": null,
   "metadata": {},
   "outputs": [],
   "source": []
  },
  {
   "cell_type": "code",
   "execution_count": null,
   "metadata": {},
   "outputs": [],
   "source": []
  }
 ],
 "metadata": {
  "kernelspec": {
   "display_name": "Python 3",
   "language": "python",
   "name": "python3"
  },
  "language_info": {
   "codemirror_mode": {
    "name": "ipython",
    "version": 3
   },
   "file_extension": ".py",
   "mimetype": "text/x-python",
   "name": "python",
   "nbconvert_exporter": "python",
   "pygments_lexer": "ipython3",
   "version": "3.7.4"
  }
 },
 "nbformat": 4,
 "nbformat_minor": 2
}
