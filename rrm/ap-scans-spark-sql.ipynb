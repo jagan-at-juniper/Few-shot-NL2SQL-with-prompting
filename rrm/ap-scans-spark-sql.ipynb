{
 "cells": [
  {
   "cell_type": "code",
   "execution_count": 1,
   "metadata": {},
   "outputs": [],
   "source": [
    "from IPython.core.interactiveshell import InteractiveShell\n",
    "InteractiveShell.ast_node_interactivity = \"all\"\n",
    "\n",
    "import pyspark\n",
    "from pyspark.sql import SparkSession, Row\n",
    "from pyspark.sql.types import StringType, IntegerType, ArrayType, FloatType, DataType, LongType\n",
    "import pyspark.sql.functions as fn\n",
    "from pyspark.sql.functions import udf, size, avg, count, col,sum\n",
    "from operator import itemgetter\n",
    "import json, datetime\n"
   ]
  },
  {
   "cell_type": "code",
   "execution_count": 2,
   "metadata": {},
   "outputs": [
    {
     "name": "stdout",
     "output_type": "stream",
     "text": [
      "root\n",
      " |-- ap: string (nullable = true)\n",
      " |-- ap2: string (nullable = true)\n",
      " |-- band: short (nullable = true)\n",
      " |-- channel: short (nullable = true)\n",
      " |-- in_site: boolean (nullable = true)\n",
      " |-- org: string (nullable = true)\n",
      " |-- rssi: float (nullable = true)\n",
      " |-- site: string (nullable = true)\n",
      " |-- time: timestamp (nullable = true)\n",
      " |-- radio_channel: short (nullable = true)\n",
      "\n"
     ]
    }
   ],
   "source": [
    "\n",
    "env = \"staging\"\n",
    "env = \"production\"\n",
    "DATE = '2020-03-13/'\n",
    "file_path ='s3a://mist-secorapp-{env}/cv-ap-scans/cv-ap-scans-multipartition-{env}/dt={date}'.format(env=env, date=DATE)\n",
    "df = spark.read.orc(file_path)\n",
    "df.printSchema()\n"
   ]
  },
  {
   "cell_type": "code",
   "execution_count": 3,
   "metadata": {},
   "outputs": [
    {
     "name": "stdout",
     "output_type": "stream",
     "text": [
      "+------------+------------+----+-------+-------+--------------------+-----+--------------------+-------------------+-------------+\n",
      "|          ap|         ap2|band|channel|in_site|                 org| rssi|                site|               time|radio_channel|\n",
      "+------------+------------+----+-------+-------+--------------------+-----+--------------------+-------------------+-------------+\n",
      "|5c5b352e11bc|5c5b352e1388|  24|      1|  false|56de201d-e63b-431...|-68.0|a40ba08c-5e27-40d...|2020-03-13 15:33:36|           11|\n",
      "|5c5b352e11bc|5c5b352e13a1|  24|     11|  false|56de201d-e63b-431...|-65.0|a40ba08c-5e27-40d...|2020-03-13 15:33:36|           11|\n",
      "|5c5b352e11bc|5c5b352e1199|  24|     11|  false|56de201d-e63b-431...|-68.0|a40ba08c-5e27-40d...|2020-03-13 15:33:36|           11|\n",
      "|5c5b352e11bc|5c5b352e136f|  24|     11|  false|56de201d-e63b-431...|-62.0|a40ba08c-5e27-40d...|2020-03-13 15:33:36|           11|\n",
      "|5c5b352e11bc|5c5b352e1419|  24|     11|  false|56de201d-e63b-431...|-65.0|a40ba08c-5e27-40d...|2020-03-13 15:33:36|           11|\n",
      "|5c5b352e11bc|5c5b352e1365|  24|      1|  false|56de201d-e63b-431...|-57.0|a40ba08c-5e27-40d...|2020-03-13 15:33:36|           11|\n",
      "|5c5b352e11bc|5c5b352e1379|  24|      6|  false|56de201d-e63b-431...|-69.0|a40ba08c-5e27-40d...|2020-03-13 15:33:36|           11|\n",
      "|5c5b352e11bc|5c5b352e140f|  24|     11|  false|56de201d-e63b-431...|-67.0|a40ba08c-5e27-40d...|2020-03-13 15:33:36|           11|\n",
      "|5c5b352e11bc|5c5b352e13dd|  24|     11|  false|56de201d-e63b-431...|-57.0|a40ba08c-5e27-40d...|2020-03-13 15:33:36|           11|\n",
      "|5c5b352e11bc|5c5b352e12f2|  24|      6|  false|56de201d-e63b-431...|-63.0|a40ba08c-5e27-40d...|2020-03-13 15:33:36|           11|\n",
      "|5c5b352e11bc|5c5b352e13b5|  24|      1|  false|56de201d-e63b-431...|-65.0|a40ba08c-5e27-40d...|2020-03-13 15:33:36|           11|\n",
      "|5c5b352e694b|            |   5|     48|  false|f5451dc6-aa80-4d1...|-70.0|c91d5568-e912-4f9...|2020-03-13 15:33:36|           44|\n",
      "|5c5b359f027f|            |  24|      1|  false|2a28c8e5-b65f-44a...|-73.0|f717fe3b-bc9a-45c...|2020-03-13 15:33:35|           11|\n",
      "|5c5b352e11bc|5c5b352e11ee|  24|      1|  false|56de201d-e63b-431...|-68.0|a40ba08c-5e27-40d...|2020-03-13 15:33:36|           11|\n",
      "|5c5b352e11bc|5c5b352e12c5|  24|      6|  false|56de201d-e63b-431...|-69.0|a40ba08c-5e27-40d...|2020-03-13 15:33:36|           11|\n",
      "|5c5b352e11bc|5c5b352e131a|  24|     11|  false|56de201d-e63b-431...|-58.0|a40ba08c-5e27-40d...|2020-03-13 15:33:36|           11|\n",
      "|5c5b352e11bc|5c5b352e137e|  24|      1|  false|56de201d-e63b-431...|-67.0|a40ba08c-5e27-40d...|2020-03-13 15:33:36|           11|\n",
      "|5c5b352e11bc|5c5b352e0c99|  24|     11|  false|56de201d-e63b-431...|-66.0|a40ba08c-5e27-40d...|2020-03-13 15:33:36|           11|\n",
      "|5c5b352e11bc|5c5b352e11e4|  24|     11|  false|56de201d-e63b-431...|-62.0|a40ba08c-5e27-40d...|2020-03-13 15:33:36|           11|\n",
      "|5c5b352e11bc|5c5b352e119e|  24|     11|  false|56de201d-e63b-431...|-68.0|a40ba08c-5e27-40d...|2020-03-13 15:33:36|           11|\n",
      "+------------+------------+----+-------+-------+--------------------+-----+--------------------+-------------------+-------------+\n",
      "only showing top 20 rows\n",
      "\n"
     ]
    }
   ],
   "source": [
    "df.show()"
   ]
  },
  {
   "cell_type": "code",
   "execution_count": null,
   "metadata": {},
   "outputs": [],
   "source": []
  },
  {
   "cell_type": "code",
   "execution_count": null,
   "metadata": {},
   "outputs": [],
   "source": []
  },
  {
   "cell_type": "code",
   "execution_count": null,
   "metadata": {},
   "outputs": [],
   "source": []
  }
 ],
 "metadata": {
  "kernelspec": {
   "display_name": "Python 3",
   "language": "python",
   "name": "python3"
  },
  "language_info": {
   "codemirror_mode": {
    "name": "ipython",
    "version": 3
   },
   "file_extension": ".py",
   "mimetype": "text/x-python",
   "name": "python",
   "nbconvert_exporter": "python",
   "pygments_lexer": "ipython3",
   "version": "3.7.4"
  }
 },
 "nbformat": 4,
 "nbformat_minor": 2
}
