{
 "cells": [
  {
   "cell_type": "code",
   "execution_count": 1,
   "metadata": {},
   "outputs": [
    {
     "name": "stdout",
     "output_type": "stream",
     "text": [
      "Starting Spark application\n"
     ]
    },
    {
     "data": {
      "text/html": [
       "<table>\n",
       "<tr><th>ID</th><th>YARN Application ID</th><th>Kind</th><th>State</th><th>Spark UI</th><th>Driver log</th><th>Current session?</th></tr><tr><td>27</td><td>application_1591015534858_0031</td><td>pyspark3</td><td>idle</td><td><a target=\"_blank\" href=\"http://ip-172-31-6-186.us-west-1.compute.internal:20888/proxy/application_1591015534858_0031/\">Link</a></td><td><a target=\"_blank\" href=\"http://ip-172-31-0-18.us-west-1.compute.internal:8042/node/containerlogs/container_1591015534858_0031_01_000001/livy\">Link</a></td><td>✔</td></tr></table>"
      ],
      "text/plain": [
       "<IPython.core.display.HTML object>"
      ]
     },
     "metadata": {},
     "output_type": "display_data"
    },
    {
     "name": "stdout",
     "output_type": "stream",
     "text": [
      "SparkSession available as 'spark'.\n",
      "s3://mist-aggregated-stats-production/aggregated-stats/rrm_radar_channel_stat/dt=2020-06-*/hr=*/*.csv\n",
      "s3://mist-aggregated-stats-production/aggregated-stats/top_1_time_epoch_by_site_ap_ap2_band/dt=2020-07-10/hr=*/*.csv\n",
      "+--------------------+------------+------------+----+----------+-----+\n",
      "|                site|          ap|         ap2|band|time_epoch| rssi|\n",
      "+--------------------+------------+------------+----+----------+-----+\n",
      "|0000063a-a4ce-409...|d420b000ee6b|d420b000ee61|  24|1594342685|-71.0|\n",
      "|0000063a-a4ce-409...|d420b000ee7f|d420b000ee75|  24|1594342413|-87.0|\n",
      "+--------------------+------------+------------+----+----------+-----+\n",
      "only showing top 2 rows\n",
      "\n",
      "+--------------------+------------+-----------+-------------------+---------------+----------+\n",
      "|             site_id|       ap_id|pre_channel|radar_channel_count|last_radar_time|      time|\n",
      "+--------------------+------------+-----------+-------------------+---------------+----------+\n",
      "|ad1fe7ce-b78d-458...|5c5b352f5707|        132|                  1|     1592678555|1592676000|\n",
      "|1cebf4b4-3b20-4db...|5c5b35bf2fd9|         60|                  1|     1592679386|1592676000|\n",
      "+--------------------+------------+-----------+-------------------+---------------+----------+\n",
      "only showing top 2 rows"
     ]
    }
   ],
   "source": [
    "from pyspark.sql import functions as F\n",
    "# scan_df = df_scan\n",
    "# rrm_radar_df = df_radar\n",
    "from datetime import datetime\n",
    "\n",
    "env = \"staging\"\n",
    "env = \"production\"\n",
    "\n",
    "s3_bucket = \"s3://mist-aggregated-stats-{env}/aggregated-stats/\".format(env=env)\n",
    "date_day = \"2020-06-*\"\n",
    "hr = \"*\" #now().hour-1\n",
    "\n",
    "rrm_radar_path = s3_bucket + \"rrm_radar_channel_stat/dt={day}/hr={hr}/*.csv\".format(env=env, day=date_day, hr=hr)\n",
    "print(rrm_radar_path)\n",
    "\n",
    "\n",
    "date_day = datetime.today().strftime('%Y-%m-%d') #\"2020-05-*\"\n",
    "curr_hr = '*'  # latest \n",
    "ap_neighbors_path = s3_bucket + \"top_1_time_epoch_by_site_ap_ap2_band/dt={day}/hr={hr}/*.csv\".format(env=env, day=date_day, hr=hr)\n",
    "\n",
    "print(ap_neighbors_path)\n",
    "\n",
    "\n",
    "scan_df = spark.read.csv(ap_neighbors_path, header=True)                   \n",
    "rrm_radar_df = spark.read.csv(rrm_radar_path, header=True)    \n",
    "\n",
    "scan_df.show(2)\n",
    "rrm_radar_df.show(2)"
   ]
  },
  {
   "cell_type": "code",
   "execution_count": 2,
   "metadata": {},
   "outputs": [
    {
     "name": "stdout",
     "output_type": "stream",
     "text": [
      "+--------------------+------------+-------------+-------------------+---------------+----------+\n",
      "|             site_id|       ap_id|radar_channel|radar_channel_count|last_radar_time|      time|\n",
      "+--------------------+------------+-------------+-------------------+---------------+----------+\n",
      "|ad1fe7ce-b78d-458...|5c5b352f5707|          132|                  1|     1592678555|1592676000|\n",
      "|1cebf4b4-3b20-4db...|5c5b35bf2fd9|           60|                  1|     1592679386|1592676000|\n",
      "|13d68843-7ebd-42a...|d420b0008b8d|           52|                  1|     1592678522|1592676000|\n",
      "+--------------------+------------+-------------+-------------------+---------------+----------+\n",
      "only showing top 3 rows"
     ]
    }
   ],
   "source": [
    "rrm_radar_df = rrm_radar_df.withColumnRenamed(\"pre_channel\", \"radar_channel\")\n",
    "rrm_radar_df.show(3)"
   ]
  },
  {
   "cell_type": "code",
   "execution_count": 3,
   "metadata": {},
   "outputs": [
    {
     "name": "stdout",
     "output_type": "stream",
     "text": [
      "root\n",
      " |-- site_id: string (nullable = true)\n",
      " |-- ap_id: string (nullable = true)\n",
      " |-- radar_channel: string (nullable = true)\n",
      " |-- radar_channel_count: string (nullable = true)\n",
      " |-- last_radar_time: string (nullable = true)\n",
      " |-- time: string (nullable = true)"
     ]
    }
   ],
   "source": [
    "rrm_radar_df.printSchema()"
   ]
  },
  {
   "cell_type": "markdown",
   "metadata": {},
   "source": [
    "# Radar event counts by Sites"
   ]
  },
  {
   "cell_type": "code",
   "execution_count": null,
   "metadata": {},
   "outputs": [],
   "source": []
  },
  {
   "cell_type": "code",
   "execution_count": 4,
   "metadata": {},
   "outputs": [
    {
     "name": "stdout",
     "output_type": "stream",
     "text": [
      "+--------------------+-----------+\n",
      "|             site_id|site_counts|\n",
      "+--------------------+-----------+\n",
      "|9d81b9a7-93e7-426...|        177|\n",
      "|abb86cde-14ab-432...|        101|\n",
      "|9c85b58d-d433-476...|         18|\n",
      "|cb777830-5c74-430...|          8|\n",
      "|6805fa28-f845-405...|          1|\n",
      "|c51e612c-4139-4ef...|          7|\n",
      "|f420dbd2-559e-453...|          5|\n",
      "|69b07bf8-a809-427...|          1|\n",
      "|2c740d9b-89d5-45a...|          3|\n",
      "|5ff25c03-2b1f-4b9...|          1|\n",
      "+--------------------+-----------+\n",
      "only showing top 10 rows"
     ]
    }
   ],
   "source": [
    "radar_by_site_df = rrm_radar_df.select('site_id')\\\n",
    "                                    .groupBy('site_id')\\\n",
    "                                    .agg(F.count('site_id').alias('site_counts'))\n",
    "radar_by_site_df.show(10)"
   ]
  },
  {
   "cell_type": "code",
   "execution_count": 5,
   "metadata": {
    "scrolled": true
   },
   "outputs": [
    {
     "name": "stdout",
     "output_type": "stream",
     "text": [
      "+------------------------------------+-----------+\n",
      "|site_id                             |site_counts|\n",
      "+------------------------------------+-----------+\n",
      "|a3edc895-aae6-4e40-8ee0-0f7198bdcc0c|2838       |\n",
      "|934d5efe-5e35-48dd-99f9-5c57534708aa|1517       |\n",
      "|866808ba-1ff2-4e99-8e17-34ee1d3c70f4|1418       |\n",
      "|c16dcb76-15ef-43b1-b531-ffe9f52e119e|1140       |\n",
      "|332b319a-aebd-4820-b2b4-645c247cdd79|700        |\n",
      "|0112b19a-f4d4-4f25-ac8b-a2516bb96424|551        |\n",
      "|3cf29ebc-21f1-49e5-9956-25495fe8f41b|487        |\n",
      "|801109d5-f7b3-4818-9447-bfcc221abc2a|437        |\n",
      "|b3c32004-a0dc-4353-b697-1065fbd4f639|416        |\n",
      "|13d68843-7ebd-42a1-8528-495c41ccf8ef|369        |\n",
      "|874a8612-bf55-470d-8edd-e610df55db8e|358        |\n",
      "|d9ea1152-f455-442d-9bb9-5e39906ce0da|318        |\n",
      "|5fe533f6-39f5-431f-90eb-c9083a962e7d|294        |\n",
      "|38b8e0f6-0a87-4c15-909e-1a1d13a395ea|284        |\n",
      "|1b480105-0ae1-41cb-9a81-f28fbbe1d3c6|255        |\n",
      "|5b3926db-e1cc-4ff4-a115-d3271589ab8a|223        |\n",
      "|67c41b47-e8a1-4495-8b96-15c2d33488f8|218        |\n",
      "|f19c1c5d-07b5-4f8d-a6c6-6c98c9e069b4|218        |\n",
      "|308e640a-8ce9-4605-a9b3-bff254300c62|215        |\n",
      "|46d63b06-225d-4c3c-85bb-271fc0a870e3|205        |\n",
      "+------------------------------------+-----------+\n",
      "only showing top 20 rows"
     ]
    }
   ],
   "source": [
    "radar_by_site_df= radar_by_site_df.orderBy(radar_by_site_df[\"site_counts\"].desc())\n",
    "radar_by_site_df.show(20, False)"
   ]
  },
  {
   "cell_type": "code",
   "execution_count": 6,
   "metadata": {},
   "outputs": [],
   "source": [
    "radar_impacted_sites = [ x.site_id for x in radar_by_site_df.select('site_id').limit(10).collect()]"
   ]
  },
  {
   "cell_type": "code",
   "execution_count": 7,
   "metadata": {},
   "outputs": [
    {
     "name": "stdout",
     "output_type": "stream",
     "text": [
      "a3edc895-aae6-4e40-8ee0-0f7198bdcc0c UDoN グラントウキョウサウスタワー\n",
      "934d5efe-5e35-48dd-99f9-5c57534708aa Indeed nrtoff17\n",
      "866808ba-1ff2-4e99-8e17-34ee1d3c70f4 Jumeirah BAA\n",
      "c16dcb76-15ef-43b1-b531-ffe9f52e119e Wild Wadi Wild Wadi\n",
      "332b319a-aebd-4820-b2b4-645c247cdd79 Juniper Networks ME-UA-DUB\n",
      "0112b19a-f4d4-4f25-ac8b-a2516bb96424 AmazonProd DBN2\n",
      "3cf29ebc-21f1-49e5-9956-25495fe8f41b SYSTEMTECH DUBAI SOUTH\n",
      "801109d5-f7b3-4818-9447-bfcc221abc2a Group 1 Automotive TX-Houston-Ford\n",
      "b3c32004-a0dc-4353-b697-1065fbd4f639 SPACEWAY NPCC\n",
      "13d68843-7ebd-42a1-8528-495c41ccf8ef WeWork SFO10"
     ]
    }
   ],
   "source": [
    "import requests\n",
    "papi_site = \"http://papi-{env}.mistsys.net/internal/sites/\".format(env=env)\n",
    "papi_org = \"http://papi-{env}.mistsys.net/internal/orgs/\".format(env=env)\n",
    "for site in radar_impacted_sites:\n",
    "#     print(site)\n",
    "    papi_site_id = papi_site+ site\n",
    "    res= requests.get(papi_site_id)\n",
    "    res = res.json()\n",
    "    org_id = res.get(\"org_id\")\n",
    "    papi_org_id = papi_org+ org_id\n",
    "    res_org= requests.get(papi_org_id)\n",
    "    res_org = res_org.json()\n",
    "    \n",
    "    print(site, res_org.get(\"name\"), res.get(\"name\"))\n",
    " "
   ]
  },
  {
   "cell_type": "code",
   "execution_count": 8,
   "metadata": {},
   "outputs": [],
   "source": [
    "# res.json()\n",
    "\n",
    "site_1 = \"13d68843-7ebd-42a1-8528-495c41ccf8ef\"\n"
   ]
  },
  {
   "cell_type": "markdown",
   "metadata": {},
   "source": [
    "# Radar_last_seen_in_site"
   ]
  },
  {
   "cell_type": "code",
   "execution_count": 9,
   "metadata": {},
   "outputs": [
    {
     "name": "stdout",
     "output_type": "stream",
     "text": [
      "+--------------------+-------------+-----------------+\n",
      "|             site_id|radar_channel|last_seen_in_site|\n",
      "+--------------------+-------------+-----------------+\n",
      "|053bfd85-f7bd-45e...|          134|       1591136988|\n",
      "|0f6f1b85-a702-485...|          104|       1592995648|\n",
      "|11e4c4dd-bc3e-4b1...|          132|       1593117128|\n",
      "|1321bc06-afdf-479...|          132|       1592286507|\n",
      "|1d42aca2-278a-43b...|           60|       1593068460|\n",
      "|1f68eb07-89e9-4c3...|           56|       1591066914|\n",
      "|227e59a8-23c7-4b0...|          124|       1592853954|\n",
      "|325e444a-10e2-4db...|           64|       1591795529|\n",
      "|36d8d839-7e98-491...|           52|       1592679636|\n",
      "|374c790a-a979-429...|          108|       1593154433|\n",
      "+--------------------+-------------+-----------------+\n",
      "only showing top 10 rows"
     ]
    }
   ],
   "source": [
    "# last seen in site\n",
    "\n",
    "last_seen_in_site_df = rrm_radar_df.select('site_id', 'radar_channel', 'last_radar_time')\\\n",
    "                                    .groupBy('site_id', 'radar_channel')\\\n",
    "                                    .agg(F.max('last_radar_time').alias('last_seen_in_site'))\n",
    "last_seen_in_site_df.show(10)"
   ]
  },
  {
   "cell_type": "code",
   "execution_count": 10,
   "metadata": {},
   "outputs": [],
   "source": [
    "# AP's primary hit\n"
   ]
  },
  {
   "cell_type": "code",
   "execution_count": 11,
   "metadata": {},
   "outputs": [
    {
     "name": "stdout",
     "output_type": "stream",
     "text": [
      "+--------------------+------------+-------------+-------------------+----------+\n",
      "|             site_id|       ap_id|radar_channel|radar_channel_count| last_seen|\n",
      "+--------------------+------------+-------------+-------------------+----------+\n",
      "|00272816-8dc2-4f1...|5c5b35ae6e05|          140|                1.0|1592513938|\n",
      "|03ba030e-2a1f-4d5...|5c5b359ed985|          140|                1.0|1593228635|\n",
      "|0b367ea0-0443-417...|5c5b3551a25c|          124|                1.0|1592925185|\n",
      "|13d68843-7ebd-42a...|5c5b35bf2296|          136|                1.0|1592678532|\n",
      "|191f33b1-2271-420...|d420b08102d9|          128|                1.0|1592030622|\n",
      "|1b480105-0ae1-41c...|5c5b355063f6|          128|                2.0|1592380039|\n",
      "|1cebf4b4-3b20-4db...|5c5b35bf2fd9|           60|                1.0|1592679386|\n",
      "|1f484765-a3d2-466...|d420b00101df|           52|                1.0|1591685973|\n",
      "|216d8f81-b5a4-483...|5c5b35538b71|          116|                8.0|1591682457|\n",
      "|2550a4b8-f77b-457...|5c5b354f185f|           60|                1.0|1591129935|\n",
      "+--------------------+------------+-------------+-------------------+----------+\n",
      "only showing top 10 rows"
     ]
    }
   ],
   "source": [
    "rrm_radar_primary_df = rrm_radar_df\\\n",
    "                                .groupBy('site_id', 'ap_id', 'radar_channel')\\\n",
    "                                .agg(F.sum('radar_channel_count').alias('radar_channel_count'),\n",
    "                                 F.max('last_radar_time').alias('last_seen'))\n",
    "rrm_radar_primary_df.show(10)"
   ]
  },
  {
   "cell_type": "code",
   "execution_count": 12,
   "metadata": {},
   "outputs": [
    {
     "name": "stdout",
     "output_type": "stream",
     "text": [
      "+--------------------+------------+-------------+-------------------+----------+\n",
      "|             site_id|       ap_id|radar_channel|radar_channel_count| last_seen|\n",
      "+--------------------+------------+-------------+-------------------+----------+\n",
      "|00272816-8dc2-4f1...|5c5b35ae6e05|          140|                1.0|1592513938|\n",
      "|03ba030e-2a1f-4d5...|5c5b359ed985|          140|                1.0|1593228635|\n",
      "|0b367ea0-0443-417...|5c5b3551a25c|          124|                1.0|1592925185|\n",
      "|13d68843-7ebd-42a...|5c5b35bf2296|          136|                1.0|1592678532|\n",
      "|191f33b1-2271-420...|d420b08102d9|          128|                1.0|1592030622|\n",
      "|1b480105-0ae1-41c...|5c5b355063f6|          128|                2.0|1592380039|\n",
      "|1cebf4b4-3b20-4db...|5c5b35bf2fd9|           60|                1.0|1592679386|\n",
      "|1f484765-a3d2-466...|d420b00101df|           52|                1.0|1591685973|\n",
      "|216d8f81-b5a4-483...|5c5b35538b71|          116|                8.0|1591682457|\n",
      "|2550a4b8-f77b-457...|5c5b354f185f|           60|                1.0|1591129935|\n",
      "+--------------------+------------+-------------+-------------------+----------+\n",
      "only showing top 10 rows"
     ]
    }
   ],
   "source": [
    "rrm_radar_primary_df = rrm_radar_df\\\n",
    "                                .groupBy('site_id', 'ap_id', 'radar_channel')\\\n",
    "                                .agg(F.sum('radar_channel_count').alias('radar_channel_count'),\n",
    "                                 F.max('last_radar_time').alias('last_seen'))\n",
    "rrm_radar_primary_df.show(10)"
   ]
  },
  {
   "cell_type": "code",
   "execution_count": 13,
   "metadata": {},
   "outputs": [
    {
     "name": "stderr",
     "output_type": "stream",
     "text": [
      "name 'col' is not defined\n",
      "Traceback (most recent call last):\n",
      "NameError: name 'col' is not defined\n",
      "\n"
     ]
    }
   ],
   "source": [
    "#for select site\n",
    "rrm_radar_primary_df.filter( col(\"site_id\") == site_1).show()\n",
    "# rrm_radar_primary_df.show()"
   ]
  },
  {
   "cell_type": "markdown",
   "metadata": {},
   "source": [
    "# AP's neighbor impact"
   ]
  },
  {
   "cell_type": "code",
   "execution_count": 14,
   "metadata": {},
   "outputs": [
    {
     "name": "stdout",
     "output_type": "stream",
     "text": [
      "+--------------------+------------+------------+--------+-----------+\n",
      "|                site|          ap|         ap2|max_rssi|scan_counts|\n",
      "+--------------------+------------+------------+--------+-----------+\n",
      "|0000063a-a4ce-409...|d420b000ee7f|d420b000f0be|   -83.0|          4|\n",
      "|0000063a-a4ce-409...|d420b080eb28|d420b080eb69|   -72.0|          8|\n",
      "+--------------------+------------+------------+--------+-----------+\n",
      "only showing top 2 rows"
     ]
    }
   ],
   "source": [
    "#  ap-ap2 neighbor relationship\n",
    "\n",
    "scan_agg_df=  scan_df.groupBy('site', 'ap', 'ap2').agg(F.max('rssi').alias(\"max_rssi\"),\n",
    "                                                     F.count('ap2').alias('scan_counts')) \n",
    "scan_agg_df.show(2) "
   ]
  },
  {
   "cell_type": "code",
   "execution_count": 15,
   "metadata": {},
   "outputs": [
    {
     "name": "stdout",
     "output_type": "stream",
     "text": [
      "+--------------------+------------+------------+--------+-----------+--------------------+------------+-------------+-------------------+----------+\n",
      "|                site|          ap|         ap2|max_rssi|scan_counts|             site_id|       ap_id|radar_channel|radar_channel_count| last_seen|\n",
      "+--------------------+------------+------------+--------+-----------+--------------------+------------+-------------+-------------------+----------+\n",
      "|0009dab3-7a6b-4ac...|5c5b358e2878|5c5b358e297c|   -57.0|          8|0009dab3-7a6b-4ac...|5c5b358e297c|           52|                1.0|1592430500|\n",
      "|00544ad7-df28-4b9...|5c5b358ef9b5|5c5b358f1620|   -65.0|          8|00544ad7-df28-4b9...|5c5b358f1620|           52|                1.0|1592334948|\n",
      "|0112b19a-f4d4-4f2...|5c5b352ec90e|5c5b352ec92c|   -56.0|          8|0112b19a-f4d4-4f2...|5c5b352ec92c|          112|                3.0|1591074919|\n",
      "|0112b19a-f4d4-4f2...|5c5b352ec90e|5c5b352ec92c|   -56.0|          8|0112b19a-f4d4-4f2...|5c5b352ec92c|          140|                4.0|1591052516|\n",
      "|0112b19a-f4d4-4f2...|5c5b352ec90e|5c5b352ec92c|   -56.0|          8|0112b19a-f4d4-4f2...|5c5b352ec92c|          104|                4.0|1591063705|\n",
      "+--------------------+------------+------------+--------+-----------+--------------------+------------+-------------+-------------------+----------+\n",
      "only showing top 5 rows"
     ]
    }
   ],
   "source": [
    "# inner-join with rrm-radar_df\n",
    "ap_neighbor_radar_2 = scan_agg_df\\\n",
    "         .filter('ap2 is not Null and max_rssi >-75')\\\n",
    "         .join(rrm_radar_primary_df, [scan_agg_df.site == rrm_radar_primary_df.site_id,\n",
    "                                      scan_agg_df.ap2 == rrm_radar_df.ap_id], 'inner')\n",
    "\n",
    "ap_neighbor_radar_2.show(5)"
   ]
  },
  {
   "cell_type": "code",
   "execution_count": 16,
   "metadata": {},
   "outputs": [
    {
     "name": "stdout",
     "output_type": "stream",
     "text": [
      "+--------------------+------------+------------+--------+-----------+--------------------+------------+-------------+-------------------+----------+\n",
      "|                site|          ap|         ap2|max_rssi|scan_counts|             site_id|       ap_id|radar_channel|radar_channel_count| last_seen|\n",
      "+--------------------+------------+------------+--------+-----------+--------------------+------------+-------------+-------------------+----------+\n",
      "|0009dab3-7a6b-4ac...|5c5b358e2878|5c5b358e297c|   -57.0|          8|0009dab3-7a6b-4ac...|5c5b358e297c|           52|                1.0|1592430500|\n",
      "|00544ad7-df28-4b9...|5c5b358ef9b5|5c5b358f1620|   -65.0|          8|00544ad7-df28-4b9...|5c5b358f1620|           52|                1.0|1592334948|\n",
      "|0112b19a-f4d4-4f2...|5c5b352ec90e|5c5b352ec92c|   -56.0|          8|0112b19a-f4d4-4f2...|5c5b352ec92c|          112|                3.0|1591074919|\n",
      "|0112b19a-f4d4-4f2...|5c5b352ec90e|5c5b352ec92c|   -56.0|          8|0112b19a-f4d4-4f2...|5c5b352ec92c|          140|                4.0|1591052516|\n",
      "|0112b19a-f4d4-4f2...|5c5b352ec90e|5c5b352ec92c|   -56.0|          8|0112b19a-f4d4-4f2...|5c5b352ec92c|          104|                4.0|1591063705|\n",
      "+--------------------+------------+------------+--------+-----------+--------------------+------------+-------------+-------------------+----------+\n",
      "only showing top 5 rows"
     ]
    }
   ],
   "source": [
    "ap_neighbor_radar_2.filter('radar_channel>0').show(5)\n",
    "# ap_neighbor_radar_2.show()"
   ]
  },
  {
   "cell_type": "code",
   "execution_count": 17,
   "metadata": {},
   "outputs": [
    {
     "name": "stdout",
     "output_type": "stream",
     "text": [
      "+--------------------+------------+------------+-------------+--------+\n",
      "|                site|          ap|         ap2|radar_channel|max_rssi|\n",
      "+--------------------+------------+------------+-------------+--------+\n",
      "|0009dab3-7a6b-4ac...|5c5b358e2878|5c5b358e297c|           52|   -57.0|\n",
      "|00544ad7-df28-4b9...|5c5b358ef9b5|5c5b358f1620|           52|   -65.0|\n",
      "|0112b19a-f4d4-4f2...|5c5b352ec90e|5c5b352ec92c|          100|   -56.0|\n",
      "|0112b19a-f4d4-4f2...|5c5b352ec90e|5c5b352ec92c|          104|   -56.0|\n",
      "|0112b19a-f4d4-4f2...|5c5b352ec90e|5c5b352ec92c|          108|   -56.0|\n",
      "|0112b19a-f4d4-4f2...|5c5b352ec90e|5c5b352ec92c|          112|   -56.0|\n",
      "|0112b19a-f4d4-4f2...|5c5b352ec90e|5c5b352ec92c|          116|   -56.0|\n",
      "|0112b19a-f4d4-4f2...|5c5b352ec90e|5c5b352ec92c|          120|   -56.0|\n",
      "|0112b19a-f4d4-4f2...|5c5b352ec90e|5c5b352ec92c|          124|   -56.0|\n",
      "|0112b19a-f4d4-4f2...|5c5b352ec90e|5c5b352ec92c|          128|   -56.0|\n",
      "|0112b19a-f4d4-4f2...|5c5b352ec90e|5c5b352ec92c|          132|   -56.0|\n",
      "|0112b19a-f4d4-4f2...|5c5b352ec90e|5c5b352ec92c|          136|   -56.0|\n",
      "|0112b19a-f4d4-4f2...|5c5b352ec90e|5c5b352ec92c|          140|   -56.0|\n",
      "|0112b19a-f4d4-4f2...|5c5b352f06a3|5c5b352f06d0|          100|   -70.0|\n",
      "|0112b19a-f4d4-4f2...|5c5b352f06a3|5c5b352f06d0|          104|   -70.0|\n",
      "|0112b19a-f4d4-4f2...|5c5b352f06a3|5c5b352f06d0|          108|   -70.0|\n",
      "|0112b19a-f4d4-4f2...|5c5b352f06a3|5c5b352f06d0|          112|   -70.0|\n",
      "|0112b19a-f4d4-4f2...|5c5b352f06a3|5c5b352f06d0|          116|   -70.0|\n",
      "|0112b19a-f4d4-4f2...|5c5b352f06a3|5c5b352f06d0|          120|   -70.0|\n",
      "|0112b19a-f4d4-4f2...|5c5b352f06a3|5c5b352f06d0|          124|   -70.0|\n",
      "+--------------------+------------+------------+-------------+--------+\n",
      "only showing top 20 rows"
     ]
    }
   ],
   "source": [
    "# ap impacted by ap2's radar_channel\n",
    "ap_neighbor_radar_3 = ap_neighbor_radar_2\\\n",
    "                    .filter('radar_channel>0')\\\n",
    "                    .select('site', 'ap', 'ap2', 'radar_channel', 'radar_channel_count', 'max_rssi')\\\n",
    "                     .groupBy('site', 'ap', 'ap2', 'radar_channel')\\\n",
    "                     .agg(F.max('max_rssi').alias(\"max_rssi\"))\n",
    "ap_neighbor_radar_3.show()"
   ]
  },
  {
   "cell_type": "code",
   "execution_count": 18,
   "metadata": {},
   "outputs": [
    {
     "name": "stdout",
     "output_type": "stream",
     "text": [
      "+--------------------+------------+----------------------+--------------------+--------------------+\n",
      "|                site|          ap|neighbor_radar_channel|        neighbor_aps|      neighbor_rssis|\n",
      "+--------------------+------------+----------------------+--------------------+--------------------+\n",
      "|0112b19a-f4d4-4f2...|5c5b350f1fd7|                   136|[5c5b352f06da, 5c...|[-74.0, -68.0, -7...|\n",
      "|0129e71e-cf17-4ad...|5c5b35ce2c56|                    64|      [5c5b35bf55fe]|             [-64.0]|\n",
      "|0129e71e-cf17-4ad...|5c5b35ce4a1f|                    56|      [5c5b35ce4c04]|             [-67.0]|\n",
      "|01e2e0f1-1238-440...|5c5b358e2418|                    60|      [5c5b358e2413]|             [-53.0]|\n",
      "|020ca1e5-b776-441...|5c5b35bed40d|                   128|      [5c5b35bed359]|             [-65.0]|\n",
      "|0286e436-d197-45b...|5c5b35cea0d7|                   124|[5c5b35cea1a9, 5c...|      [-69.0, -66.0]|\n",
      "|02fd5d4f-556e-4db...|5c5b354f008b|                   108|[5c5b354f02c0, 5c...|      [-70.0, -67.0]|\n",
      "|03ba030e-2a1f-4d5...|5c5b359ed9da|                   116|      [5c5b359ed967]|             [-64.0]|\n",
      "|03e668d2-7c72-445...|5c5b357e5c3f|                    52|      [5c5b354e5faa]|             [-70.0]|\n",
      "|041c9d9a-c719-49f...|5c5b354f0045|                   108|      [5c5b354ef767]|             [-70.0]|\n",
      "|04853e10-1728-404...|5c5b354e7e86|                   108|      [5c5b354e7e4a]|             [-68.0]|\n",
      "|04853e10-1728-404...|5c5b354e8520|                    56|      [5c5b354e7e45]|             [-64.0]|\n",
      "|06a8b067-ff24-478...|d420b000d6a1|                    56|[d420b000d458, d4...|      [-65.0, -64.0]|\n",
      "|07bea549-2127-49f...|5c5b35d0974f|                   124|      [5c5b35d097d1]|             [-74.0]|\n",
      "|08384d7e-62b4-446...|5c5b359ebcc5|                    52|      [5c5b359ebc2a]|             [-69.0]|\n",
      "|0b367ea0-0443-417...|5c5b3551a25c|                   124|      [5c5b3551a4be]|             [-70.0]|\n",
      "|0bba4681-0968-477...|5c5b350ecb9a|                    56|      [5c5b353eca21]|             [-59.0]|\n",
      "|0c70778b-39f5-488...|5c5b359f65f3|                   136|      [5c5b359f6fda]|             [-69.0]|\n",
      "|0e14ccaa-f22c-401...|5c5b359ef0d7|                   140|[5c5b359eee70, 5c...|      [-68.0, -69.0]|\n",
      "|0e7b925b-f31f-4a1...|d420b0013ce5|                    60|      [d420b0013cc2]|             [-69.0]|\n",
      "+--------------------+------------+----------------------+--------------------+--------------------+\n",
      "only showing top 20 rows"
     ]
    }
   ],
   "source": [
    "# aggregated impacted by ap2's radar_channel\n",
    "ap_neighbor_radar_4 = ap_neighbor_radar_3.groupBy('site', 'ap',  'radar_channel')\\\n",
    "         .agg(F.collect_list('ap2').alias('neighbor_aps'), F.collect_list('max_rssi').alias('neighbor_rssis'))\\\n",
    "        .withColumnRenamed('radar_channel', 'neighbor_radar_channel')\n",
    "ap_neighbor_radar_4.show()"
   ]
  },
  {
   "cell_type": "code",
   "execution_count": 19,
   "metadata": {},
   "outputs": [
    {
     "name": "stdout",
     "output_type": "stream",
     "text": [
      "+--------------------+------------+-------------+--------------------+--------------------+-----------------+\n",
      "|                site|          ap|radar_channel|      neighbor_rssis|        neighbor_aps|last_seen_in_site|\n",
      "+--------------------+------------+-------------+--------------------+--------------------+-----------------+\n",
      "|0112b19a-f4d4-4f2...|5c5b350f1fd7|          136|[-68.0, -74.0, -6...|[5c5b352ec90e, 5c...|       1591080620|\n",
      "|0129e71e-cf17-4ad...|5c5b35ce2c56|           64|             [-64.0]|      [5c5b35bf55fe]|       1593544807|\n",
      "|0129e71e-cf17-4ad...|5c5b35ce4a1f|           56|             [-67.0]|      [5c5b35ce4c04]|       1591869233|\n",
      "|01e2e0f1-1238-440...|5c5b358e2418|           60|             [-53.0]|      [5c5b358e2413]|       1591033217|\n",
      "|020ca1e5-b776-441...|5c5b35bed40d|          128|             [-65.0]|      [5c5b35bed359]|       1592297118|\n",
      "|0286e436-d197-45b...|5c5b35cea0d7|          124|      [-66.0, -69.0]|[5c5b35cea159, 5c...|       1593502128|\n",
      "|02fd5d4f-556e-4db...|5c5b354f008b|          108|      [-70.0, -67.0]|[5c5b354f02c0, 5c...|       1591916040|\n",
      "|03ba030e-2a1f-4d5...|5c5b359ed9da|          116|             [-64.0]|      [5c5b359ed967]|       1593228658|\n",
      "|03e668d2-7c72-445...|5c5b357e5c3f|           52|             [-70.0]|      [5c5b354e5faa]|       1592993112|\n",
      "|041c9d9a-c719-49f...|5c5b354f0045|          108|             [-70.0]|      [5c5b354ef767]|       1592693121|\n",
      "|04853e10-1728-404...|5c5b354e7e86|          108|             [-68.0]|      [5c5b354e7e4a]|       1591851302|\n",
      "|04853e10-1728-404...|5c5b354e8520|           56|             [-64.0]|      [5c5b354e7e45]|       1592126688|\n",
      "|06a8b067-ff24-478...|d420b000d6a1|           56|      [-65.0, -64.0]|[d420b000d458, d4...|       1593115374|\n",
      "|07bea549-2127-49f...|5c5b35d0974f|          124|             [-74.0]|      [5c5b35d097d1]|       1593463525|\n",
      "|08384d7e-62b4-446...|5c5b359ebcc5|           52|             [-69.0]|      [5c5b359ebc2a]|       1592012973|\n",
      "|0b367ea0-0443-417...|5c5b3551a25c|          124|             [-70.0]|      [5c5b3551a4be]|       1593278620|\n",
      "|0bba4681-0968-477...|5c5b350ecb9a|           56|             [-59.0]|      [5c5b353eca21]|       1591816658|\n",
      "|0c70778b-39f5-488...|5c5b359f65f3|          136|             [-69.0]|      [5c5b359f6fda]|       1592783176|\n",
      "|0e14ccaa-f22c-401...|5c5b359ef0d7|          140|      [-68.0, -69.0]|[5c5b359eee70, 5c...|       1591212769|\n",
      "|0e7b925b-f31f-4a1...|d420b0013ce5|           60|             [-69.0]|      [d420b0013cc2]|       1592937391|\n",
      "+--------------------+------------+-------------+--------------------+--------------------+-----------------+\n",
      "only showing top 20 rows"
     ]
    }
   ],
   "source": [
    "# join for radar_last_seen_in_site\n",
    "ap_neighbor_radar_5 = ap_neighbor_radar_4\\\n",
    "                .join(last_seen_in_site_df, [ap_neighbor_radar_4.site == last_seen_in_site_df.site_id, \n",
    "                 ap_neighbor_radar_4.neighbor_radar_channel==last_seen_in_site_df.radar_channel], 'inner')\\\n",
    "                .select('site', 'ap', 'radar_channel', 'neighbor_rssis', 'neighbor_aps', 'last_seen_in_site')\n",
    "\n",
    "ap_neighbor_radar_5.show()"
   ]
  },
  {
   "cell_type": "code",
   "execution_count": 20,
   "metadata": {},
   "outputs": [
    {
     "name": "stdout",
     "output_type": "stream",
     "text": [
      "+--------------------+------------+-------------+--------------------+--------------------+-----------------+\n",
      "|                site|          ap|radar_channel|      neighbor_rssis|        neighbor_aps|last_seen_in_site|\n",
      "+--------------------+------------+-------------+--------------------+--------------------+-----------------+\n",
      "|0112b19a-f4d4-4f2...|5c5b350f1fd7|          136|[-67.0, -70.0, -6...|[5c5b352f06df, 5c...|       1591080620|\n",
      "|0129e71e-cf17-4ad...|5c5b35ce2c56|           64|             [-64.0]|      [5c5b35bf55fe]|       1593544807|\n",
      "|0129e71e-cf17-4ad...|5c5b35ce4a1f|           56|             [-67.0]|      [5c5b35ce4c04]|       1591869233|\n",
      "|01e2e0f1-1238-440...|5c5b358e2418|           60|             [-53.0]|      [5c5b358e2413]|       1591033217|\n",
      "|020ca1e5-b776-441...|5c5b35bed40d|          128|             [-65.0]|      [5c5b35bed359]|       1592297118|\n",
      "|0286e436-d197-45b...|5c5b35cea0d7|          124|      [-66.0, -69.0]|[5c5b35cea159, 5c...|       1593502128|\n",
      "|02fd5d4f-556e-4db...|5c5b354f008b|          108|      [-67.0, -70.0]|[5c5b354f02b1, 5c...|       1591916040|\n",
      "|03ba030e-2a1f-4d5...|5c5b359ed9da|          116|             [-64.0]|      [5c5b359ed967]|       1593228658|\n",
      "|03e668d2-7c72-445...|5c5b357e5c3f|           52|             [-70.0]|      [5c5b354e5faa]|       1592993112|\n",
      "|041c9d9a-c719-49f...|5c5b354f0045|          108|             [-70.0]|      [5c5b354ef767]|       1592693121|\n",
      "|04853e10-1728-404...|5c5b354e7e86|          108|             [-68.0]|      [5c5b354e7e4a]|       1591851302|\n",
      "|04853e10-1728-404...|5c5b354e8520|           56|             [-64.0]|      [5c5b354e7e45]|       1592126688|\n",
      "|06a8b067-ff24-478...|d420b000d6a1|           56|      [-64.0, -65.0]|[d420b000d412, d4...|       1593115374|\n",
      "|07bea549-2127-49f...|5c5b35d0974f|          124|             [-74.0]|      [5c5b35d097d1]|       1593463525|\n",
      "|08384d7e-62b4-446...|5c5b359ebcc5|           52|             [-69.0]|      [5c5b359ebc2a]|       1592012973|\n",
      "|0b367ea0-0443-417...|5c5b3551a25c|          124|             [-70.0]|      [5c5b3551a4be]|       1593278620|\n",
      "|0bba4681-0968-477...|5c5b350ecb9a|           56|             [-59.0]|      [5c5b353eca21]|       1591816658|\n",
      "|0c70778b-39f5-488...|5c5b359f65f3|          136|             [-69.0]|      [5c5b359f6fda]|       1592783176|\n",
      "|0e14ccaa-f22c-401...|5c5b359ef0d7|          140|      [-69.0, -68.0]|[5c5b359ee9cf, 5c...|       1591212769|\n",
      "|0e7b925b-f31f-4a1...|d420b0013ce5|           60|             [-69.0]|      [d420b0013cc2]|       1592937391|\n",
      "+--------------------+------------+-------------+--------------------+--------------------+-----------------+\n",
      "only showing top 20 rows"
     ]
    }
   ],
   "source": [
    "\n",
    "scan_final_df = ap_neighbor_radar_5\n",
    "scan_final_df.show()"
   ]
  },
  {
   "cell_type": "code",
   "execution_count": null,
   "metadata": {},
   "outputs": [],
   "source": []
  },
  {
   "cell_type": "code",
   "execution_count": 21,
   "metadata": {},
   "outputs": [],
   "source": [
    "# ap_neighbor_radar_22 = scan_df_2\\\n",
    "#          .filter('ap2 is not Null and max_rssi >-75')\\\n",
    "#          .join(rrm_radar_df, [scan_df_2.site == rrm_radar_df.site_id, scan_df_2.ap2 == rrm_radar_df.ap_id], 'inner')\\\n",
    "#          .select('site', 'ap', 'ap2', 'pre_channel', 'radar_channel_count', 'max_rssi')\\\n",
    "#          .groupBy('site', 'ap', 'ap2', 'pre_channel')\\\n",
    "#          .agg(F.max('max_rssi').alias(\"max_rssi\"))\\\n",
    "#         .groupBy('site', 'ap', 'pre_channel')\\\n",
    "#          .agg(F.collect_list('ap2').alias('neighbor_aps'), F.collect_list('max_rssi').alias('neighbor_rssis'))\\\n",
    "#         .withColumnRenamed('pre_channel', 'neighbor_radar_channel')                                                                                          \n",
    "\n",
    "# ap_neighbor_radar_22.show()  "
   ]
  },
  {
   "cell_type": "code",
   "execution_count": 22,
   "metadata": {},
   "outputs": [],
   "source": [
    "# ap_neighbor_radar_2.select('ap', 'neighbor_radar_channel', 'neighbor_aps', 'neighbor_rssis').show(2, False)  "
   ]
  },
  {
   "cell_type": "code",
   "execution_count": 23,
   "metadata": {},
   "outputs": [],
   "source": [
    "\n",
    "# Goal: \n",
    "\n",
    "#rrm/policy/org/{org}/site/{site}/ap/ { \"116\" : {\"weight_tot\": 0.8, \"radar_detected\":0.5, \"neighbor_radar\": 0.3, \"geolocation\": 0.0, \"last_seen\": 11111}}"
   ]
  },
  {
   "cell_type": "code",
   "execution_count": 24,
   "metadata": {},
   "outputs": [
    {
     "name": "stderr",
     "output_type": "stream",
     "text": [
      "name 'col' is not defined\n",
      "Traceback (most recent call last):\n",
      "NameError: name 'col' is not defined\n",
      "\n"
     ]
    }
   ],
   "source": [
    "scan_final_df_site = scan_final_df.filter(col('site')==site_1)\n",
    "scan_final_df_site.show()\n"
   ]
  },
  {
   "cell_type": "code",
   "execution_count": null,
   "metadata": {},
   "outputs": [],
   "source": []
  },
  {
   "cell_type": "markdown",
   "metadata": {},
   "source": [
    "# channel weight"
   ]
  },
  {
   "cell_type": "code",
   "execution_count": 25,
   "metadata": {},
   "outputs": [],
   "source": [
    "import numpy as np\n",
    "def weight_by_dfs_channel(chn, wt_0=0.4, wt_weather_ch=0.1, count=1 ):\n",
    "    if 116<=chn<132:\n",
    "        wt = wt_0 + wt_weather_ch\n",
    "    else:\n",
    "        wt = wt_0\n",
    "    \n",
    "    wt = 1 - (1-wt)**count\n",
    "    return wt\n",
    "\n",
    "def weight_by_dist(dist_to_airport=100.0, max_wt=0.8):\n",
    "    wt = 0.0\n",
    "    if dist_to_airport< 10:\n",
    "        wt = max_wt * np.exp(-dist_to_airport**2/5**2)\n",
    "    \n",
    "    return wt\n",
    "\n",
    "def weight_impacted_neighbor(rssi, rssi_0 = -65):\n",
    "    wt = 1.0\n",
    "    if rssi < rssi_0:\n",
    "        wt =  np.exp((rssi - rssi_0)/15) \n",
    "    return wt\n",
    "    \n",
    "    \n",
    "def weight_tot(ch, rssi=-40, dist_to_airport=100.0, theta=[0.33, 0.33, 0.33]):\n",
    "    wt=[0, 0, 0]\n",
    "    wt[0] = weight_by_dfs_channel(ch)\n",
    "    wt[1] = weight_by_dist(dist_to_airport)\n",
    "    wt[2] = weight_impacted_neighbor(rssi)\n",
    "    \n",
    "    wt_0 = 0.0\n",
    "    for i in range(2):\n",
    "        wt_0 += wt[i] * theta[i]\n",
    "    \n",
    "#     print(wt_0, wt)\n",
    "#     wt_0 = 1.0/(1.0 + np.exp(-0.6*wt_0))\n",
    "    wt_0 = (wt[0] + wt[1]) * wt[2]\n",
    "\n",
    "    return wt_0\n"
   ]
  },
  {
   "cell_type": "code",
   "execution_count": 26,
   "metadata": {},
   "outputs": [
    {
     "name": "stdout",
     "output_type": "stream",
     "text": [
      "+--------------------+------------+-------------+-------------------+---------------+----------+\n",
      "|             site_id|       ap_id|radar_channel|radar_channel_count|last_radar_time|      time|\n",
      "+--------------------+------------+-------------+-------------------+---------------+----------+\n",
      "|ad1fe7ce-b78d-458...|5c5b352f5707|          132|                  1|     1592678555|1592676000|\n",
      "|1cebf4b4-3b20-4db...|5c5b35bf2fd9|           60|                  1|     1592679386|1592676000|\n",
      "+--------------------+------------+-------------+-------------------+---------------+----------+\n",
      "only showing top 2 rows"
     ]
    }
   ],
   "source": [
    "rrm_radar_df.show(2)"
   ]
  },
  {
   "cell_type": "code",
   "execution_count": 27,
   "metadata": {},
   "outputs": [],
   "source": [
    "# rrm_radar_df.printSchema()"
   ]
  },
  {
   "cell_type": "code",
   "execution_count": 28,
   "metadata": {},
   "outputs": [
    {
     "name": "stdout",
     "output_type": "stream",
     "text": [
      "+--------------------+------------+-------------+-------------------+---------------+----------+------+\n",
      "|             site_id|       ap_id|radar_channel|radar_channel_count|last_radar_time|      time|weight|\n",
      "+--------------------+------------+-------------+-------------------+---------------+----------+------+\n",
      "|ad1fe7ce-b78d-458...|5c5b352f5707|          132|                  1|     1592678555|1592676000|   0.4|\n",
      "|1cebf4b4-3b20-4db...|5c5b35bf2fd9|           60|                  1|     1592679386|1592676000|   0.4|\n",
      "|13d68843-7ebd-42a...|d420b0008b8d|           52|                  1|     1592678522|1592676000|   0.4|\n",
      "|5fe533f6-39f5-431...|5c5b35500622|          108|                  1|     1592677880|1592676000|   0.4|\n",
      "|03ba030e-2a1f-4d5...|5c5b359ed877|          108|                  1|     1592678957|1592676000|   0.4|\n",
      "|7e437c8b-65fe-45d...|5c5b35bf5c52|          132|                  1|     1592678927|1592676000|   0.4|\n",
      "|1b48d79e-a581-41d...|5c5b352e519a|           60|                  1|     1592678453|1592676000|   0.4|\n",
      "|13d68843-7ebd-42a...|5c5b35bf2336|          128|                  1|     1592678373|1592676000|   0.6|\n",
      "|284d7875-8201-489...|5c5b35528f19|          136|                  1|     1592677535|1592676000|   0.4|\n",
      "|1b48d79e-a581-41d...|5c5b350e2855|          100|                  1|     1592678510|1592676000|   0.4|\n",
      "|8a7ae0cc-a5e4-4de...|5c5b35cf3d03|          132|                  1|     1592679113|1592676000|   0.4|\n",
      "|12f7dfb5-f8c6-4b2...|5c5b355030ac|          128|                  1|     1592678762|1592676000|   0.6|\n",
      "|b8bf6783-7a2b-46c...|5c5b3550451f|          104|                  1|     1592678892|1592676000|   0.4|\n",
      "|e9024267-68c2-404...|5c5b357f27ff|          100|                  1|     1592677653|1592676000|   0.4|\n",
      "|7e437c8b-65fe-45d...|5c5b35bf5afe|          124|                  1|     1592678639|1592676000|   0.6|\n",
      "|3cf29ebc-21f1-49e...|5c5b352ee39e|          124|                  1|     1592676260|1592676000|   0.6|\n",
      "|284d7875-8201-489...|5c5b35528f28|          108|                  1|     1592677562|1592676000|   0.4|\n",
      "|1cebf4b4-3b20-4db...|5c5b35bf2cb9|          100|                  1|     1592679455|1592676000|   0.4|\n",
      "|1b48d79e-a581-41d...|5c5b350e2819|          132|                  1|     1592679257|1592676000|   0.4|\n",
      "|46d63b06-225d-4c3...|5c5b355011c6|          120|                  1|     1592678316|1592676000|   0.6|\n",
      "+--------------------+------------+-------------+-------------------+---------------+----------+------+\n",
      "only showing top 20 rows"
     ]
    }
   ],
   "source": [
    "from pyspark.sql.functions import udf, size, avg, count, col,sum, explode\n",
    "\n",
    "from pyspark.sql.types import IntegerType, FloatType\n",
    "\n",
    "\n",
    "import time\n",
    "t0 = int(time.time())\n",
    "\n",
    "wt_0 = 0.4\n",
    "wt_weather_ch = 0.2 \n",
    "def weight_by_dfs_channel(chn, count=1 ):\n",
    "    \n",
    "    if 116<=int(chn)<132:\n",
    "        wt = wt_0 + wt_weather_ch\n",
    "    else:\n",
    "        wt = wt_0\n",
    "    \n",
    "#     time_diff  = (t0 - int(last_radar_time))/3600./24\n",
    "    wt = (1 - (1-wt)**int(count)) #* np.exp(-time_diff)\n",
    "    \n",
    "\n",
    "    return wt\n",
    "\n",
    "primary_weight = udf(weight_by_dfs_channel, FloatType())\n",
    "rrm_radar_wt_df = rrm_radar_df.withColumn(\"weight\",\n",
    "                                          primary_weight(col(\"radar_channel\"),\n",
    "                                                         col(\"radar_channel_count\")\n",
    "#                                                          col(\"last_radar_time\")\n",
    "                                                        )\n",
    "                                         )\n",
    "rrm_radar_wt_df.show()"
   ]
  },
  {
   "cell_type": "code",
   "execution_count": 29,
   "metadata": {},
   "outputs": [],
   "source": [
    "\n",
    "# def weight_impacted_neighbor(chn, neighbor_rssis, rssi_0 = -65):\n",
    "#     if 116<=int(chn)<132:\n",
    "#         wt_ch = wt_0 + wt_weather_ch\n",
    "#     else:\n",
    "#         wt_ch = wt_0\n",
    "    \n",
    "#     wt = 1.0\n",
    "#     for rssi_s in neighbor_rssis:\n",
    "#         rssi = float(rssi_s)\n",
    "#         if rssi < rssi_0:\n",
    "#             wt +=  np.exp((rssi - rssi_0)/15) \n",
    "#         else:\n",
    "#             wt = 1.0\n",
    "    \n",
    "# #     time_diff  = (t0 - int(last_radar_time))/3600./24\n",
    "#     wt = wt* wt_ch  #* np.exp(-time_diff)\n",
    "#     return wt*wt_ch\n",
    "    \n",
    "# neighbor_weight = udf(weight_impacted_neighbor, FloatType())\n",
    "\n",
    "# scan_final_df.show()\n",
    "# scan_final_wt_df = scan_final_df.withColumn(\"weight\", neighbor_weight(col(\"radar_channel\"), col(\"neighbor_rssis\")))\n",
    "# scan_final_wt_df.show()\n"
   ]
  },
  {
   "cell_type": "code",
   "execution_count": 30,
   "metadata": {},
   "outputs": [
    {
     "name": "stdout",
     "output_type": "stream",
     "text": [
      "+--------------------+------------+-------------+-------------------+---------------+----------+------+\n",
      "|             site_id|       ap_id|radar_channel|radar_channel_count|last_radar_time|      time|weight|\n",
      "+--------------------+------------+-------------+-------------------+---------------+----------+------+\n",
      "|13d68843-7ebd-42a...|d420b0008b8d|           52|                  1|     1592678522|1592676000|   0.4|\n",
      "|13d68843-7ebd-42a...|5c5b35bf2336|          128|                  1|     1592678373|1592676000|   0.6|\n",
      "|13d68843-7ebd-42a...|d420b0008da9|          120|                  1|     1592678829|1592676000|   0.6|\n",
      "|13d68843-7ebd-42a...|d420b00090a6|          104|                  1|     1592678438|1592676000|   0.4|\n",
      "|13d68843-7ebd-42a...|d420b0008b33|          136|                  1|     1592678541|1592676000|   0.4|\n",
      "|13d68843-7ebd-42a...|d420b000911e|           60|                  1|     1592678420|1592676000|   0.4|\n",
      "|13d68843-7ebd-42a...|d420b0008ecb|           52|                  1|     1592678522|1592676000|   0.4|\n",
      "|13d68843-7ebd-42a...|d420b0009024|           56|                  1|     1592678591|1592676000|   0.4|\n",
      "|13d68843-7ebd-42a...|d420b00090dd|           56|                  1|     1592678882|1592676000|   0.4|\n",
      "|13d68843-7ebd-42a...|d420b000968c|          128|                  1|     1592678906|1592676000|   0.6|\n",
      "|13d68843-7ebd-42a...|d420b0008ee9|           60|                  1|     1592678962|1592676000|   0.4|\n",
      "|13d68843-7ebd-42a...|5c5b35bf22be|          116|                  1|     1592678939|1592676000|   0.6|\n",
      "|13d68843-7ebd-42a...|5c5b35bf2359|          104|                  1|     1592678465|1592676000|   0.4|\n",
      "|13d68843-7ebd-42a...|5c5b35bf2471|          116|                  1|     1592678894|1592676000|   0.6|\n",
      "|13d68843-7ebd-42a...|d420b0008b6a|          108|                  1|     1592678474|1592676000|   0.4|\n",
      "|13d68843-7ebd-42a...|d420b0008e2b|          116|                  1|     1592678459|1592676000|   0.6|\n",
      "|13d68843-7ebd-42a...|5c5b35bf26ba|           52|                  1|     1592678529|1592676000|   0.4|\n",
      "|13d68843-7ebd-42a...|5c5b35bf2296|          136|                  1|     1592678532|1592676000|   0.4|\n",
      "|13d68843-7ebd-42a...|d420b00096f5|          136|                  1|     1592678468|1592676000|   0.4|\n",
      "|13d68843-7ebd-42a...|d420b000902e|          128|                  1|     1592678813|1592676000|   0.6|\n",
      "+--------------------+------------+-------------+-------------------+---------------+----------+------+\n",
      "only showing top 20 rows"
     ]
    }
   ],
   "source": [
    "rrm_radar_wt_df_site = rrm_radar_wt_df.filter(col(\"site_id\")==site_1)\n",
    "rrm_radar_wt_df_site.show()"
   ]
  },
  {
   "cell_type": "code",
   "execution_count": 31,
   "metadata": {
    "scrolled": false
   },
   "outputs": [
    {
     "name": "stdout",
     "output_type": "stream",
     "text": [
      "+------------+-------------+------+\n",
      "|ap_id       |radar_channel|weight|\n",
      "+------------+-------------+------+\n",
      "|5c5b352f0b76|100          |0.4   |\n",
      "|5c5b352f0b76|108          |0.4   |\n",
      "|5c5b352f0b76|112          |0.4   |\n",
      "|5c5b352f0b76|116          |0.6   |\n",
      "|5c5b352f0b76|60           |0.4   |\n",
      "|5c5b352f0b76|60           |0.4   |\n",
      "|5c5b35bf21d3|120          |0.6   |\n",
      "|5c5b35bf21d3|132          |0.4   |\n",
      "|5c5b35bf220f|116          |0.6   |\n",
      "|5c5b35bf220f|116          |0.6   |\n",
      "|5c5b35bf220f|116          |0.6   |\n",
      "|5c5b35bf2214|100          |0.4   |\n",
      "|5c5b35bf2214|132          |0.4   |\n",
      "|5c5b35bf2214|60           |0.4   |\n",
      "|5c5b35bf2214|64           |0.4   |\n",
      "|5c5b35bf223c|52           |0.4   |\n",
      "|5c5b35bf225f|132          |0.4   |\n",
      "|5c5b35bf2273|116          |0.6   |\n",
      "|5c5b35bf2273|136          |0.4   |\n",
      "|5c5b35bf2273|136          |0.4   |\n",
      "|5c5b35bf2273|64           |0.4   |\n",
      "|5c5b35bf2282|120          |0.6   |\n",
      "|5c5b35bf2282|140          |0.4   |\n",
      "|5c5b35bf2287|120          |0.6   |\n",
      "|5c5b35bf2287|136          |0.4   |\n",
      "|5c5b35bf2287|56           |0.4   |\n",
      "|5c5b35bf2287|60           |0.4   |\n",
      "|5c5b35bf228c|132          |0.4   |\n",
      "|5c5b35bf228c|136          |0.4   |\n",
      "|5c5b35bf228c|140          |0.4   |\n",
      "|5c5b35bf2296|128          |0.6   |\n",
      "|5c5b35bf2296|136          |0.4   |\n",
      "|5c5b35bf2296|52           |0.4   |\n",
      "|5c5b35bf2296|56           |0.4   |\n",
      "|5c5b35bf2296|64           |0.4   |\n",
      "|5c5b35bf22af|104          |0.4   |\n",
      "|5c5b35bf22af|104          |0.4   |\n",
      "|5c5b35bf22af|136          |0.4   |\n",
      "|5c5b35bf22be|116          |0.6   |\n",
      "|5c5b35bf22be|52           |0.4   |\n",
      "|5c5b35bf22c3|100          |0.4   |\n",
      "|5c5b35bf22c3|104          |0.4   |\n",
      "|5c5b35bf22c3|120          |0.6   |\n",
      "|5c5b35bf22c3|132          |0.4   |\n",
      "|5c5b35bf22eb|104          |0.4   |\n",
      "|5c5b35bf22eb|112          |0.4   |\n",
      "|5c5b35bf22f0|128          |0.6   |\n",
      "|5c5b35bf22f0|128          |0.6   |\n",
      "|5c5b35bf22f0|128          |0.6   |\n",
      "|5c5b35bf22f0|128          |0.6   |\n",
      "|5c5b35bf22f0|56           |0.4   |\n",
      "|5c5b35bf22f5|56           |0.4   |\n",
      "|5c5b35bf22f5|60           |0.4   |\n",
      "|5c5b35bf22fa|100          |0.4   |\n",
      "|5c5b35bf22fa|108          |0.4   |\n",
      "|5c5b35bf22fa|108          |0.4   |\n",
      "|5c5b35bf2304|100          |0.4   |\n",
      "|5c5b35bf2304|116          |0.6   |\n",
      "|5c5b35bf2304|140          |0.4   |\n",
      "|5c5b35bf2304|140          |0.4   |\n",
      "|5c5b35bf2318|136          |0.4   |\n",
      "|5c5b35bf2318|56           |0.4   |\n",
      "|5c5b35bf2318|64           |0.4   |\n",
      "|5c5b35bf2336|128          |0.6   |\n",
      "|5c5b35bf2336|140          |0.4   |\n",
      "|5c5b35bf2336|140          |0.4   |\n",
      "|5c5b35bf233b|100          |0.4   |\n",
      "|5c5b35bf233b|56           |0.4   |\n",
      "|5c5b35bf234a|104          |0.4   |\n",
      "|5c5b35bf234a|108          |0.4   |\n",
      "|5c5b35bf234a|108          |0.4   |\n",
      "|5c5b35bf234a|52           |0.4   |\n",
      "|5c5b35bf234f|128          |0.6   |\n",
      "|5c5b35bf234f|128          |0.6   |\n",
      "|5c5b35bf234f|140          |0.4   |\n",
      "|5c5b35bf234f|64           |0.4   |\n",
      "|5c5b35bf2354|112          |0.4   |\n",
      "|5c5b35bf2354|140          |0.4   |\n",
      "|5c5b35bf2354|60           |0.4   |\n",
      "|5c5b35bf2359|104          |0.4   |\n",
      "|5c5b35bf2359|140          |0.4   |\n",
      "|5c5b35bf2368|128          |0.6   |\n",
      "|5c5b35bf2368|140          |0.4   |\n",
      "|5c5b35bf2368|52           |0.4   |\n",
      "|5c5b35bf2426|100          |0.4   |\n",
      "|5c5b35bf2426|112          |0.4   |\n",
      "|5c5b35bf2426|116          |0.6   |\n",
      "|5c5b35bf2426|56           |0.4   |\n",
      "|5c5b35bf2426|56           |0.4   |\n",
      "|5c5b35bf2471|116          |0.6   |\n",
      "|5c5b35bf2471|60           |0.4   |\n",
      "|5c5b35bf2476|104          |0.4   |\n",
      "|5c5b35bf2476|116          |0.6   |\n",
      "|5c5b35bf2476|56           |0.4   |\n",
      "|5c5b35bf2557|108          |0.4   |\n",
      "|5c5b35bf2557|128          |0.6   |\n",
      "|5c5b35bf2557|128          |0.6   |\n",
      "|5c5b35bf2557|128          |0.6   |\n",
      "|5c5b35bf2598|140          |0.4   |\n",
      "|5c5b35bf2598|52           |0.4   |\n",
      "|5c5b35bf263d|100          |0.4   |\n",
      "|5c5b35bf263d|104          |0.4   |\n",
      "|5c5b35bf263d|116          |0.6   |\n",
      "|5c5b35bf263d|140          |0.4   |\n",
      "|5c5b35bf263d|52           |0.4   |\n",
      "|5c5b35bf263d|52           |0.4   |\n",
      "|5c5b35bf263d|56           |0.4   |\n",
      "|5c5b35bf263d|56           |0.4   |\n",
      "|5c5b35bf263d|64           |0.4   |\n",
      "|5c5b35bf265b|112          |0.4   |\n",
      "|5c5b35bf2665|100          |0.4   |\n",
      "|5c5b35bf2665|100          |0.4   |\n",
      "|5c5b35bf2665|100          |0.4   |\n",
      "|5c5b35bf2665|116          |0.6   |\n",
      "|5c5b35bf2665|132          |0.4   |\n",
      "|5c5b35bf2688|100          |0.4   |\n",
      "|5c5b35bf2688|100          |0.4   |\n",
      "|5c5b35bf2688|100          |0.4   |\n",
      "|5c5b35bf2688|116          |0.6   |\n",
      "|5c5b35bf2688|120          |0.6   |\n",
      "|5c5b35bf2688|120          |0.6   |\n",
      "|5c5b35bf2688|132          |0.4   |\n",
      "|5c5b35bf26b5|140          |0.4   |\n",
      "|5c5b35bf26b5|60           |0.4   |\n",
      "|5c5b35bf26b5|64           |0.4   |\n",
      "|5c5b35bf26b5|64           |0.4   |\n",
      "|5c5b35bf26ba|100          |0.4   |\n",
      "|5c5b35bf26ba|100          |0.4   |\n",
      "|5c5b35bf26ba|52           |0.4   |\n",
      "|5c5b35bf26ba|52           |0.4   |\n",
      "|5c5b35bf26ce|100          |0.4   |\n",
      "|5c5b35bf26ce|108          |0.4   |\n",
      "|5c5b35bf26ce|128          |0.6   |\n",
      "|5c5b35bf26ce|64           |0.4   |\n",
      "|5c5b35bf26d3|104          |0.4   |\n",
      "|5c5b35bf26d3|104          |0.4   |\n",
      "|5c5b35bf26d3|108          |0.4   |\n",
      "|5c5b35bf26d3|52           |0.4   |\n",
      "|d420b0008b33|128          |0.6   |\n",
      "|d420b0008b33|136          |0.4   |\n",
      "|d420b0008b33|60           |0.4   |\n",
      "|d420b0008b33|64           |0.4   |\n",
      "|d420b0008b6a|108          |0.4   |\n",
      "|d420b0008b6a|112          |0.4   |\n",
      "|d420b0008b6a|120          |0.6   |\n",
      "|d420b0008b6a|132          |0.4   |\n",
      "|d420b0008b6a|140          |0.4   |\n",
      "|d420b0008b6a|60           |0.4   |\n",
      "|d420b0008b6a|64           |0.4   |\n",
      "|d420b0008b6f|136          |0.4   |\n",
      "|d420b0008b8d|104          |0.4   |\n",
      "|d420b0008b8d|52           |0.4   |\n",
      "|d420b0008b8d|64           |0.4   |\n",
      "|d420b0008b8d|64           |0.4   |\n",
      "|d420b0008ba6|112          |0.4   |\n",
      "|d420b0008ba6|132          |0.4   |\n",
      "|d420b0008d4a|128          |0.6   |\n",
      "|d420b0008d4a|140          |0.4   |\n",
      "|d420b0008d4a|140          |0.4   |\n",
      "|d420b0008d4a|52           |0.4   |\n",
      "|d420b0008d4a|56           |0.4   |\n",
      "|d420b0008d4a|64           |0.4   |\n",
      "|d420b0008d4a|64           |0.64  |\n",
      "|d420b0008d4a|64           |0.4   |\n",
      "|d420b0008da9|120          |0.6   |\n",
      "|d420b0008e2b|108          |0.4   |\n",
      "|d420b0008e2b|116          |0.6   |\n",
      "|d420b0008e2b|128          |0.6   |\n",
      "|d420b0008e6c|112          |0.4   |\n",
      "|d420b0008e6c|112          |0.4   |\n",
      "|d420b0008e6c|112          |0.4   |\n",
      "|d420b0008e85|64           |0.4   |\n",
      "|d420b0008e85|64           |0.4   |\n",
      "|d420b0008ea8|100          |0.4   |\n",
      "|d420b0008ea8|60           |0.4   |\n",
      "|d420b0008ead|100          |0.4   |\n",
      "|d420b0008ead|128          |0.6   |\n",
      "|d420b0008ead|128          |0.6   |\n",
      "|d420b0008ec1|60           |0.4   |\n",
      "|d420b0008ecb|140          |0.4   |\n",
      "|d420b0008ecb|52           |0.4   |\n",
      "|d420b0008ecb|52           |0.4   |\n",
      "|d420b0008ecb|64           |0.4   |\n",
      "|d420b0008ed0|100          |0.4   |\n",
      "|d420b0008ed0|100          |0.4   |\n",
      "|d420b0008ed0|132          |0.4   |\n",
      "|d420b0008ed0|140          |0.4   |\n",
      "|d420b0008ed0|140          |0.4   |\n",
      "|d420b0008ed0|140          |0.4   |\n",
      "|d420b0008edf|136          |0.4   |\n",
      "|d420b0008edf|64           |0.4   |\n",
      "|d420b0008ee9|104          |0.4   |\n",
      "|d420b0008ee9|108          |0.4   |\n",
      "|d420b0008ee9|60           |0.4   |\n",
      "|d420b0008f84|116          |0.6   |\n",
      "|d420b0008f84|52           |0.4   |\n",
      "|d420b0008f84|56           |0.4   |\n",
      "|d420b0008f84|56           |0.4   |\n",
      "|d420b0008f84|56           |0.4   |\n",
      "|d420b0009024|52           |0.4   |\n",
      "|d420b0009024|56           |0.4   |\n",
      "|d420b0009029|104          |0.4   |\n",
      "|d420b0009029|128          |0.6   |\n",
      "|d420b0009029|140          |0.4   |\n",
      "|d420b000902e|100          |0.4   |\n",
      "|d420b000902e|116          |0.6   |\n",
      "|d420b000902e|128          |0.6   |\n",
      "|d420b000902e|60           |0.4   |\n",
      "|d420b000902e|64           |0.4   |\n",
      "|d420b0009033|112          |0.4   |\n",
      "|d420b0009038|116          |0.6   |\n",
      "|d420b0009038|56           |0.4   |\n",
      "|d420b000903d|128          |0.6   |\n",
      "|d420b000903d|60           |0.4   |\n",
      "|d420b000903d|64           |0.4   |\n",
      "|d420b0009042|100          |0.4   |\n",
      "|d420b0009042|52           |0.4   |\n",
      "|d420b0009042|52           |0.4   |\n",
      "|d420b0009042|52           |0.4   |\n",
      "|d420b0009042|64           |0.4   |\n",
      "|d420b0009047|108          |0.4   |\n",
      "|d420b000904c|128          |0.6   |\n",
      "|d420b000904c|60           |0.4   |\n",
      "|d420b0009051|140          |0.4   |\n",
      "|d420b0009056|120          |0.6   |\n",
      "|d420b0009056|56           |0.4   |\n",
      "|d420b0009060|128          |0.6   |\n",
      "|d420b0009060|136          |0.4   |\n",
      "|d420b0009065|128          |0.6   |\n",
      "|d420b0009065|140          |0.4   |\n",
      "|d420b0009065|52           |0.4   |\n",
      "|d420b0009065|56           |0.4   |\n",
      "|d420b0009065|56           |0.4   |\n",
      "|d420b0009065|60           |0.4   |\n",
      "|d420b0009065|60           |0.4   |\n",
      "|d420b000906a|100          |0.4   |\n",
      "|d420b000906a|108          |0.4   |\n",
      "|d420b000906a|116          |0.6   |\n",
      "|d420b000906a|140          |0.4   |\n",
      "|d420b000906f|52           |0.4   |\n",
      "|d420b000906f|52           |0.4   |\n",
      "|d420b0009079|64           |0.4   |\n",
      "|d420b000907e|104          |0.4   |\n",
      "|d420b000907e|108          |0.4   |\n",
      "|d420b000907e|116          |0.6   |\n",
      "|d420b000907e|128          |0.6   |\n",
      "|d420b000907e|56           |0.4   |\n",
      "|d420b0009083|100          |0.4   |\n",
      "|d420b0009083|112          |0.4   |\n",
      "|d420b0009083|120          |0.6   |\n",
      "|d420b0009083|136          |0.4   |\n",
      "|d420b0009083|56           |0.4   |\n",
      "|d420b0009083|56           |0.4   |\n",
      "|d420b0009088|64           |0.4   |\n",
      "|d420b000908d|112          |0.4   |\n",
      "|d420b000908d|64           |0.4   |\n",
      "|d420b0009092|136          |0.4   |\n",
      "|d420b0009092|136          |0.4   |\n",
      "|d420b000909c|140          |0.4   |\n",
      "|d420b000909c|56           |0.4   |\n",
      "|d420b00090a1|108          |0.4   |\n",
      "|d420b00090a1|116          |0.6   |\n",
      "|d420b00090a1|116          |0.6   |\n",
      "|d420b00090a1|120          |0.6   |\n",
      "|d420b00090a1|56           |0.4   |\n",
      "|d420b00090a1|60           |0.4   |\n",
      "|d420b00090a6|100          |0.4   |\n",
      "|d420b00090a6|100          |0.4   |\n",
      "|d420b00090a6|100          |0.4   |\n",
      "|d420b00090a6|104          |0.4   |\n",
      "|d420b00090a6|108          |0.4   |\n",
      "|d420b00090a6|120          |0.6   |\n",
      "|d420b00090a6|132          |0.4   |\n",
      "|d420b00090a6|56           |0.4   |\n",
      "|d420b00090a6|56           |0.4   |\n",
      "|d420b00090a6|56           |0.4   |\n",
      "|d420b00090ab|132          |0.4   |\n",
      "|d420b00090ab|64           |0.4   |\n",
      "|d420b00090b5|100          |0.4   |\n",
      "|d420b00090b5|104          |0.4   |\n",
      "|d420b00090b5|56           |0.4   |\n",
      "|d420b00090b5|56           |0.4   |\n",
      "|d420b00090b5|64           |0.4   |\n",
      "|d420b00090ba|100          |0.4   |\n",
      "|d420b00090ba|100          |0.4   |\n",
      "|d420b00090ba|136          |0.4   |\n",
      "|d420b00090bf|104          |0.4   |\n",
      "|d420b00090c4|100          |0.4   |\n",
      "|d420b00090c4|104          |0.4   |\n",
      "|d420b00090c4|116          |0.6   |\n",
      "|d420b00090c4|120          |0.6   |\n",
      "|d420b00090c4|128          |0.84  |\n",
      "|d420b00090c4|56           |0.4   |\n",
      "|d420b00090c9|108          |0.4   |\n",
      "|d420b00090c9|108          |0.4   |\n",
      "|d420b00090d3|104          |0.4   |\n",
      "|d420b00090d3|64           |0.4   |\n",
      "|d420b00090d8|104          |0.4   |\n",
      "|d420b00090d8|128          |0.6   |\n",
      "|d420b00090d8|128          |0.6   |\n",
      "|d420b00090dd|136          |0.4   |\n",
      "|d420b00090dd|56           |0.4   |\n",
      "|d420b00090e2|112          |0.4   |\n",
      "|d420b00090e2|116          |0.6   |\n",
      "|d420b00090e2|116          |0.6   |\n",
      "|d420b00090e7|100          |0.4   |\n",
      "|d420b00090e7|132          |0.4   |\n",
      "|d420b00090e7|60           |0.4   |\n",
      "|d420b00090ec|116          |0.6   |\n",
      "|d420b00090ec|128          |0.6   |\n",
      "|d420b00090f1|112          |0.4   |\n",
      "|d420b00090f1|120          |0.6   |\n",
      "|d420b00090f6|128          |0.6   |\n",
      "|d420b00090f6|136          |0.4   |\n",
      "|d420b00090f6|52           |0.4   |\n",
      "|d420b00090f6|56           |0.4   |\n",
      "|d420b000910f|112          |0.4   |\n",
      "|d420b000910f|60           |0.4   |\n",
      "|d420b000910f|64           |0.4   |\n",
      "|d420b000911e|100          |0.4   |\n",
      "|d420b000911e|104          |0.4   |\n",
      "|d420b000911e|112          |0.4   |\n",
      "|d420b000911e|56           |0.4   |\n",
      "|d420b000911e|60           |0.4   |\n",
      "|d420b000911e|60           |0.4   |\n",
      "|d420b000911e|60           |0.4   |\n",
      "|d420b000911e|60           |0.4   |\n",
      "|d420b000911e|60           |0.4   |\n",
      "|d420b000911e|64           |0.4   |\n",
      "|d420b000966e|108          |0.4   |\n",
      "|d420b000968c|100          |0.4   |\n",
      "|d420b000968c|116          |0.6   |\n",
      "|d420b000968c|128          |0.6   |\n",
      "|d420b0009691|116          |0.6   |\n",
      "|d420b0009691|128          |0.6   |\n",
      "|d420b0009691|64           |0.4   |\n",
      "|d420b000969b|104          |0.4   |\n",
      "|d420b000969b|128          |0.6   |\n",
      "|d420b000969b|140          |0.4   |\n",
      "|d420b000969b|140          |0.4   |\n",
      "|d420b000969b|52           |0.4   |\n",
      "|d420b000969b|56           |0.4   |\n",
      "|d420b000969b|60           |0.4   |\n",
      "|d420b000969b|64           |0.4   |\n",
      "|d420b00096d2|104          |0.4   |\n",
      "|d420b00096d2|112          |0.4   |\n",
      "|d420b00096d2|112          |0.4   |\n",
      "|d420b00096d2|128          |0.6   |\n",
      "|d420b00096d2|128          |0.6   |\n",
      "|d420b00096d2|128          |0.6   |\n",
      "|d420b00096dc|100          |0.4   |\n",
      "|d420b00096dc|104          |0.4   |\n",
      "|d420b00096dc|104          |0.4   |\n",
      "|d420b00096dc|112          |0.4   |\n",
      "|d420b00096dc|128          |0.6   |\n",
      "|d420b00096dc|136          |0.4   |\n",
      "|d420b00096dc|140          |0.4   |\n",
      "|d420b00096dc|56           |0.4   |\n",
      "|d420b00096dc|60           |0.4   |\n",
      "|d420b00096dc|64           |0.4   |\n",
      "|d420b00096dc|64           |0.4   |\n",
      "|d420b00096f5|100          |0.4   |\n",
      "|d420b00096f5|132          |0.4   |\n",
      "|d420b00096f5|132          |0.4   |\n",
      "|d420b00096f5|136          |0.4   |\n",
      "|d420b00096f5|136          |0.4   |\n",
      "|d420b00096f5|140          |0.4   |\n",
      "|d420b00096f5|56           |0.4   |\n",
      "|d420b00096f5|56           |0.4   |\n",
      "+------------+-------------+------+"
     ]
    }
   ],
   "source": [
    "rrm_radar_wt_df_site\\\n",
    "    .select(\"ap_id\", \"radar_channel\", \"weight\").orderBy(\"ap_id\", \"radar_channel\")\\\n",
    "    .show(rrm_radar_wt_df_site.count(), False)"
   ]
  },
  {
   "cell_type": "code",
   "execution_count": 32,
   "metadata": {},
   "outputs": [
    {
     "name": "stdout",
     "output_type": "stream",
     "text": [
      "369"
     ]
    }
   ],
   "source": [
    "rrm_radar_wt_df_site.count()"
   ]
  },
  {
   "cell_type": "code",
   "execution_count": 33,
   "metadata": {},
   "outputs": [
    {
     "name": "stdout",
     "output_type": "stream",
     "text": [
      "'13d68843-7ebd-42a1-8528-495c41ccf8ef'"
     ]
    }
   ],
   "source": [
    "site_1"
   ]
  },
  {
   "cell_type": "code",
   "execution_count": 34,
   "metadata": {},
   "outputs": [
    {
     "name": "stdout",
     "output_type": "stream",
     "text": [
      "+---------------------+\n",
      "|count(DISTINCT ap_id)|\n",
      "+---------------------+\n",
      "|                  105|\n",
      "+---------------------+"
     ]
    }
   ],
   "source": [
    "# rrm_radar_wt_df_site.select(\"ap\").cou\n",
    "rrm_radar_wt_df_site.select(F.countDistinct(\"ap_id\")).show()"
   ]
  },
  {
   "cell_type": "code",
   "execution_count": 1,
   "metadata": {},
   "outputs": [
    {
     "ename": "NameError",
     "evalue": "name 'rrm_radar_wt_df_site' is not defined",
     "output_type": "error",
     "traceback": [
      "\u001b[0;31m---------------------------------------------------------------------------\u001b[0m",
      "\u001b[0;31mNameError\u001b[0m                                 Traceback (most recent call last)",
      "\u001b[0;32m<ipython-input-1-9cb3350642b5>\u001b[0m in \u001b[0;36m<module>\u001b[0;34m\u001b[0m\n\u001b[0;32m----> 1\u001b[0;31m \u001b[0mrrm_radar_wt_df_site\u001b[0m\u001b[0;34m.\u001b[0m\u001b[0mselect\u001b[0m\u001b[0;34m(\u001b[0m\u001b[0mF\u001b[0m\u001b[0;34m.\u001b[0m\u001b[0mcountDistinct\u001b[0m\u001b[0;34m(\u001b[0m\u001b[0;34m\"ap_id\"\u001b[0m\u001b[0;34m)\u001b[0m\u001b[0;34m)\u001b[0m\u001b[0;34m.\u001b[0m\u001b[0mshow\u001b[0m\u001b[0;34m(\u001b[0m\u001b[0;34m)\u001b[0m\u001b[0;34m\u001b[0m\u001b[0;34m\u001b[0m\u001b[0m\n\u001b[0m",
      "\u001b[0;31mNameError\u001b[0m: name 'rrm_radar_wt_df_site' is not defined"
     ]
    }
   ],
   "source": [
    "rrm_radar_wt_df_site.select(F.countDistinct(\"ap_id\")).show()"
   ]
  },
  {
   "cell_type": "code",
   "execution_count": 36,
   "metadata": {},
   "outputs": [],
   "source": [
    "# redis \n",
    "# rrm/policy/site/{site}/ap/{ap}/channel  {\"116\" : 0.7, '124': 0.8, } \n"
   ]
  },
  {
   "cell_type": "code",
   "execution_count": 37,
   "metadata": {},
   "outputs": [],
   "source": [
    "%ls ~/"
   ]
  },
  {
   "cell_type": "code",
   "execution_count": 38,
   "metadata": {},
   "outputs": [
    {
     "data": {
      "text/plain": [
       "'/home/wenfeng'"
      ]
     },
     "execution_count": 38,
     "metadata": {},
     "output_type": "execute_result"
    }
   ],
   "source": [
    "%pwd"
   ]
  },
  {
   "cell_type": "code",
   "execution_count": 39,
   "metadata": {},
   "outputs": [],
   "source": [
    "%ls /home/wenfeng"
   ]
  },
  {
   "cell_type": "code",
   "execution_count": null,
   "metadata": {},
   "outputs": [],
   "source": []
  }
 ],
 "metadata": {
  "kernelspec": {
   "display_name": "Python 3",
   "language": "python",
   "name": "python3"
  },
  "language_info": {
   "codemirror_mode": {
    "name": "ipython",
    "version": 3
   },
   "file_extension": ".py",
   "mimetype": "text/x-python",
   "name": "python",
   "nbconvert_exporter": "python",
   "pygments_lexer": "ipython3",
   "version": "3.7.4"
  }
 },
 "nbformat": 4,
 "nbformat_minor": 2
}
