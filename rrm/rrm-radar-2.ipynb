{
 "cells": [
  {
   "cell_type": "code",
   "execution_count": 1,
   "metadata": {},
   "outputs": [
    {
     "name": "stdout",
     "output_type": "stream",
     "text": [
      "Starting Spark application\n"
     ]
    },
    {
     "data": {
      "text/html": [
       "<table>\n",
       "<tr><th>ID</th><th>YARN Application ID</th><th>Kind</th><th>State</th><th>Spark UI</th><th>Driver log</th><th>Current session?</th></tr><tr><td>8</td><td>application_1590100141701_0009</td><td>pyspark3</td><td>idle</td><td><a target=\"_blank\" href=\"http://ip-172-31-237-19.ec2.internal:20888/proxy/application_1590100141701_0009/\">Link</a></td><td><a target=\"_blank\" href=\"http://ip-172-31-237-170.ec2.internal:8042/node/containerlogs/container_1590100141701_0009_01_000001/livy\">Link</a></td><td>✔</td></tr></table>"
      ],
      "text/plain": [
       "<IPython.core.display.HTML object>"
      ]
     },
     "metadata": {},
     "output_type": "display_data"
    },
    {
     "name": "stdout",
     "output_type": "stream",
     "text": [
      "SparkSession available as 'spark'.\n",
      "s3://mist-aggregated-stats-staging/aggregated-stats/rrm_radar_channel_stat/dt=2020-05-[1]*/hr=*/*.csv\n",
      "s3://mist-aggregated-stats-staging/aggregated-stats/top_1_time_epoch_by_site_ap_ap2_band/dt=2020-05-22/hr=*/*.csv\n",
      "+--------------------+------------+------------+----+----------+-----+\n",
      "|                site|          ap|         ap2|band|time_epoch| rssi|\n",
      "+--------------------+------------+------------+----+----------+-----+\n",
      "|12c07c11-51a3-495...|5c5b350e4cb8|5c5b350eb3f2|   5|1590108852|-48.0|\n",
      "|276c2659-d2ae-43e...|5c5b358ee097|        null|   5|1590108488|-35.0|\n",
      "+--------------------+------------+------------+----+----------+-----+\n",
      "only showing top 2 rows\n",
      "\n",
      "+--------------------+------------+-----------+-------------------+---------------+----------+\n",
      "|             site_id|       ap_id|pre_channel|radar_channel_count|last_radar_time|      time|\n",
      "+--------------------+------------+-----------+-------------------+---------------+----------+\n",
      "|c943d077-1b67-491...|5c5b35500622|        104|                  1|     1589096727|1589094000|\n",
      "|c943d077-1b67-491...|5c5b35500924|        116|                  1|     1589095299|1589094000|\n",
      "+--------------------+------------+-----------+-------------------+---------------+----------+\n",
      "only showing top 2 rows"
     ]
    }
   ],
   "source": [
    "from pyspark.sql import functions as F\n",
    "# scan_df = df_scan\n",
    "# rrm_radar_df = df_radar\n",
    "from datetime import datetime\n",
    "\n",
    "env = \"staging\"\n",
    "\n",
    "s3_bucket = \"s3://mist-aggregated-stats-{env}/aggregated-stats/\".format(env=env)\n",
    "date_day = \"2020-05-[1]*\"\n",
    "hr = \"*\" #now().hour-1\n",
    "\n",
    "rrm_radar_path = s3_bucket + \"rrm_radar_channel_stat/dt={day}/hr={hr}/*.csv\".format(env=env, day=date_day, hr=hr)\n",
    "print(rrm_radar_path)\n",
    "\n",
    "\n",
    "date_day = datetime.today().strftime('%Y-%m-%d') #\"2020-05-*\"\n",
    "curr_hr = '*'  # latest \n",
    "ap_neighbors_path = s3_bucket + \"top_1_time_epoch_by_site_ap_ap2_band/dt={day}/hr={hr}/*.csv\".format(env=env, day=date_day, hr=hr)\n",
    "\n",
    "print(ap_neighbors_path)\n",
    "\n",
    "\n",
    "scan_df = spark.read.csv(ap_neighbors_path, header=True)                   \n",
    "rrm_radar_df = spark.read.csv(rrm_radar_path, header=True)    \n",
    "\n",
    "scan_df.show(2)\n",
    "rrm_radar_df.show(2)"
   ]
  },
  {
   "cell_type": "code",
   "execution_count": 15,
   "metadata": {},
   "outputs": [
    {
     "name": "stdout",
     "output_type": "stream",
     "text": [
      "+--------------------+------------+-------------+-------------------+---------------+----------+\n",
      "|             site_id|       ap_id|radar_channel|radar_channel_count|last_radar_time|      time|\n",
      "+--------------------+------------+-------------+-------------------+---------------+----------+\n",
      "|c943d077-1b67-491...|5c5b35500622|          104|                  1|     1589096727|1589094000|\n",
      "|c943d077-1b67-491...|5c5b35500924|          116|                  1|     1589095299|1589094000|\n",
      "|c943d077-1b67-491...|5c5b35500686|          104|                  1|     1589095247|1589094000|\n",
      "+--------------------+------------+-------------+-------------------+---------------+----------+\n",
      "only showing top 3 rows"
     ]
    }
   ],
   "source": [
    "rrm_radar_df = rrm_radar_df.withColumnRenamed(\"pre_channel\", \"radar_channel\")\n",
    "rrm_radar_df.show(3)"
   ]
  },
  {
   "cell_type": "markdown",
   "metadata": {},
   "source": [
    "# Radar_last_seen_in_site"
   ]
  },
  {
   "cell_type": "code",
   "execution_count": 16,
   "metadata": {},
   "outputs": [
    {
     "name": "stdout",
     "output_type": "stream",
     "text": [
      "+--------------------+-------------+-----------------+\n",
      "|             site_id|radar_channel|last_seen_in_site|\n",
      "+--------------------+-------------+-----------------+\n",
      "|d23f418c-a5ab-4e3...|          100|       1589343203|\n",
      "|e80749be-963c-4d2...|          100|       1589277749|\n",
      "|c943d077-1b67-491...|          120|       1589236479|\n",
      "|c943d077-1b67-491...|           64|       1589208491|\n",
      "|20325077-2d75-4fa...|            0|       1589468730|\n",
      "|e80749be-963c-4d2...|          132|       1589534658|\n",
      "|96ca2c79-b7db-402...|            0|       1589724186|\n",
      "|f733a5d7-5179-4df...|           52|       1589214561|\n",
      "|c943d077-1b67-491...|          132|       1589436093|\n",
      "|67970e46-4e12-11e...|           52|       1589144494|\n",
      "+--------------------+-------------+-----------------+\n",
      "only showing top 10 rows"
     ]
    }
   ],
   "source": [
    "# last seen in site\n",
    "\n",
    "last_seen_in_site_df = rrm_radar_df.select('site_id', 'radar_channel', 'last_radar_time')\\\n",
    "                                    .groupBy('site_id', 'radar_channel')\\\n",
    "                                    .agg(F.max('last_radar_time').alias('last_seen_in_site'))\n",
    "last_seen_in_site_df.show(10)"
   ]
  },
  {
   "cell_type": "code",
   "execution_count": 17,
   "metadata": {},
   "outputs": [],
   "source": [
    "# AP's primary hit"
   ]
  },
  {
   "cell_type": "code",
   "execution_count": 18,
   "metadata": {},
   "outputs": [
    {
     "name": "stdout",
     "output_type": "stream",
     "text": [
      "+--------------------+------------+-------------+-------------------+----------+\n",
      "|             site_id|       ap_id|radar_channel|radar_channel_count| last_seen|\n",
      "+--------------------+------------+-------------+-------------------+----------+\n",
      "|c943d077-1b67-491...|5c5b35500609|          108|                1.0|1589239583|\n",
      "|c943d077-1b67-491...|5c5b3550082a|          100|                1.0|1589092454|\n",
      "|f733a5d7-5179-4df...|5c5b353eec45|           52|                1.0|1589214561|\n",
      "|35670395-458f-4ec...|5c5b350ec479|          132|                1.0|1589836761|\n",
      "|c943d077-1b67-491...|5c5b35500587|          104|                1.0|1589175184|\n",
      "|d7c802c4-1d3a-4aa...|5c5b350e0951|            0|                2.0|1589835231|\n",
      "|c943d077-1b67-491...|5c5b35500587|           52|                1.0|1589210426|\n",
      "|67970e46-4e12-11e...|5c5b353e4f10|          124|                2.0|1589918847|\n",
      "|c943d077-1b67-491...|5c5b35500730|           56|                1.0|1589079621|\n",
      "|c943d077-1b67-491...|5c5b355008cf|          112|                2.0|1589194140|\n",
      "+--------------------+------------+-------------+-------------------+----------+\n",
      "only showing top 10 rows"
     ]
    }
   ],
   "source": [
    "rrm_radar_primary_df = rrm_radar_df\\\n",
    "                                .groupBy('site_id', 'ap_id', 'radar_channel')\\\n",
    "                                .agg(F.sum('radar_channel_count').alias('radar_channel_count'),\n",
    "                                 F.max('last_radar_time').alias('last_seen'))\n",
    "rrm_radar_primary_df.show(10)"
   ]
  },
  {
   "cell_type": "code",
   "execution_count": null,
   "metadata": {},
   "outputs": [],
   "source": []
  },
  {
   "cell_type": "markdown",
   "metadata": {},
   "source": [
    "# AP's neighbor impact"
   ]
  },
  {
   "cell_type": "code",
   "execution_count": 19,
   "metadata": {},
   "outputs": [
    {
     "name": "stdout",
     "output_type": "stream",
     "text": [
      "+--------------------+------------+------------+--------+-----------+\n",
      "|                site|          ap|         ap2|max_rssi|scan_counts|\n",
      "+--------------------+------------+------------+--------+-----------+\n",
      "|0b77b450-77ec-41f...|5c5b350e141e|5c5b350e0262|   -67.0|          1|\n",
      "|3c9ac798-7ceb-487...|5c5b350e0569|5c5b353f574d|   -67.0|          4|\n",
      "+--------------------+------------+------------+--------+-----------+\n",
      "only showing top 2 rows"
     ]
    }
   ],
   "source": [
    "#  ap-ap2 neighbor relationship\n",
    "\n",
    "scan_agg_df=  scan_df.groupBy('site', 'ap', 'ap2').agg(F.max('rssi').alias(\"max_rssi\"),\n",
    "                                                     F.count('ap2').alias('scan_counts')) \n",
    "scan_agg_df.show(2) "
   ]
  },
  {
   "cell_type": "code",
   "execution_count": 20,
   "metadata": {},
   "outputs": [
    {
     "name": "stdout",
     "output_type": "stream",
     "text": [
      "+--------------------+------------+------------+--------+-----------+--------------------+------------+-------------+-------------------+----------+\n",
      "|                site|          ap|         ap2|max_rssi|scan_counts|             site_id|       ap_id|radar_channel|radar_channel_count| last_seen|\n",
      "+--------------------+------------+------------+--------+-----------+--------------------+------------+-------------+-------------------+----------+\n",
      "|6db15e18-bc94-11e...|5c5b3550036b|5c5b350e070d|   -47.0|          8|6db15e18-bc94-11e...|5c5b350e070d|          100|                1.0|1589389208|\n",
      "|d7c802c4-1d3a-4aa...|5c5b350e0951|5c5b350ec285|   -26.0|          4|d7c802c4-1d3a-4aa...|5c5b350ec285|            0|                1.0|1589816815|\n",
      "|d7c802c4-1d3a-4aa...|5c5b352e20a8|5c5b350ec285|   -35.0|          4|d7c802c4-1d3a-4aa...|5c5b350ec285|            0|                1.0|1589816815|\n",
      "|d7c802c4-1d3a-4aa...|5c5b350ec285|5c5b350ebfe2|   -34.0|          8|d7c802c4-1d3a-4aa...|5c5b350ebfe2|            0|                1.0|1589838450|\n",
      "|d7c802c4-1d3a-4aa...|5c5b350e4cd1|5c5b350e0951|   -58.0|          8|d7c802c4-1d3a-4aa...|5c5b350e0951|            0|                2.0|1589835231|\n",
      "+--------------------+------------+------------+--------+-----------+--------------------+------------+-------------+-------------------+----------+\n",
      "only showing top 5 rows"
     ]
    }
   ],
   "source": [
    "# inner-join with rrm-radar_df\n",
    "ap_neighbor_radar_2 = scan_agg_df\\\n",
    "         .filter('ap2 is not Null and max_rssi >-75')\\\n",
    "         .join(rrm_radar_primary_df, [scan_agg_df.site == rrm_radar_primary_df.site_id,\n",
    "                                      scan_agg_df.ap2 == rrm_radar_df.ap_id], 'inner')\n",
    "\n",
    "ap_neighbor_radar_2.show(5)"
   ]
  },
  {
   "cell_type": "code",
   "execution_count": 5,
   "metadata": {},
   "outputs": [
    {
     "name": "stdout",
     "output_type": "stream",
     "text": [
      "+--------------------+------------+------------+--------+-----------+--------------------+------------+-----------+-------------------+---------------+----------+\n",
      "|                site|          ap|         ap2|max_rssi|scan_counts|             site_id|       ap_id|pre_channel|radar_channel_count|last_radar_time|      time|\n",
      "+--------------------+------------+------------+--------+-----------+--------------------+------------+-----------+-------------------+---------------+----------+\n",
      "|6db15e18-bc94-11e...|5c5b3550036b|5c5b350e070d|   -47.0|          8|6db15e18-bc94-11e...|5c5b350e070d|        100|                  1|     1589389208|1589389200|\n",
      "|57b2f891-09c1-4dc...|5c5b350e02b7|5c5b353e4f47|   -32.0|          4|57b2f891-09c1-4dc...|5c5b353e4f47|         52|                  1|     1589641690|1589641200|\n",
      "|57b2f891-09c1-4dc...|5c5b350e02b7|5c5b353e4f47|   -32.0|          4|57b2f891-09c1-4dc...|5c5b353e4f47|         52|                  1|     1589248902|1589248800|\n",
      "|57b2f891-09c1-4dc...|5c5b350e02b7|5c5b353e4f47|   -32.0|          4|57b2f891-09c1-4dc...|5c5b353e4f47|        100|                  1|     1589459444|1589457600|\n",
      "|57b2f891-09c1-4dc...|5c5b353e4f4c|5c5b353e4f47|   -25.0|          4|57b2f891-09c1-4dc...|5c5b353e4f47|         52|                  1|     1589641690|1589641200|\n",
      "+--------------------+------------+------------+--------+-----------+--------------------+------------+-----------+-------------------+---------------+----------+\n",
      "only showing top 5 rows"
     ]
    }
   ],
   "source": [
    "ap_neighbor_radar_2.filter('pre_channel>0').show(5)"
   ]
  },
  {
   "cell_type": "code",
   "execution_count": 21,
   "metadata": {},
   "outputs": [
    {
     "name": "stdout",
     "output_type": "stream",
     "text": [
      "+--------------------+------------+------------+-------------+--------+\n",
      "|                site|          ap|         ap2|radar_channel|max_rssi|\n",
      "+--------------------+------------+------------+-------------+--------+\n",
      "|6db15e18-bc94-11e...|5c5b3550036b|5c5b350e070d|          100|   -47.0|\n",
      "|57b2f891-09c1-4dc...|5c5b350e02b7|5c5b353e4f47|          100|   -32.0|\n",
      "|57b2f891-09c1-4dc...|5c5b350e02b7|5c5b353e4f47|           52|   -32.0|\n",
      "|57b2f891-09c1-4dc...|5c5b353e4f4c|5c5b353e4f47|          100|   -25.0|\n",
      "|57b2f891-09c1-4dc...|5c5b353e4f4c|5c5b353e4f47|           52|   -25.0|\n",
      "|20325077-2d75-4fa...|5c5b350ee3a5|5c5b355004ec|          116|   -40.0|\n",
      "|57b2f891-09c1-4dc...|5c5b353e4f47|5c5b350e02b7|          124|   -42.0|\n",
      "|12c07c11-51a3-495...|5c5b350e4cb8|5c5b354e318d|          124|   -35.0|\n",
      "|67970e46-4e12-11e...|5c5b353f574d|5c5b350ecfeb|          140|   -64.0|\n",
      "|57b2f891-09c1-4dc...|5c5b35500820|5c5b350e02b7|          124|   -65.0|\n",
      "|67970e46-4e12-11e...|5c5b350ecfeb|5c5b353f574d|           52|   -65.0|\n",
      "|57b2f891-09c1-4dc...|5c5b353e4f4c|5c5b350e02b7|          124|   -50.0|\n",
      "+--------------------+------------+------------+-------------+--------+"
     ]
    }
   ],
   "source": [
    "# ap impacted by ap2's radar_channel\n",
    "ap_neighbor_radar_3 = ap_neighbor_radar_2\\\n",
    "                    .filter('radar_channel>0')\\\n",
    "                    .select('site', 'ap', 'ap2', 'radar_channel', 'radar_channel_count', 'max_rssi')\\\n",
    "                     .groupBy('site', 'ap', 'ap2', 'radar_channel')\\\n",
    "                     .agg(F.max('max_rssi').alias(\"max_rssi\"))\n",
    "ap_neighbor_radar_3.show()"
   ]
  },
  {
   "cell_type": "code",
   "execution_count": 22,
   "metadata": {},
   "outputs": [
    {
     "name": "stdout",
     "output_type": "stream",
     "text": [
      "+--------------------+------------+----------------------+--------------+--------------+\n",
      "|                site|          ap|neighbor_radar_channel|  neighbor_aps|neighbor_rssis|\n",
      "+--------------------+------------+----------------------+--------------+--------------+\n",
      "|67970e46-4e12-11e...|5c5b350ecfeb|                    52|[5c5b353f574d]|       [-65.0]|\n",
      "|20325077-2d75-4fa...|5c5b350ee3a5|                   116|[5c5b355004ec]|       [-40.0]|\n",
      "|57b2f891-09c1-4dc...|5c5b353e4f47|                   124|[5c5b350e02b7]|       [-42.0]|\n",
      "|57b2f891-09c1-4dc...|5c5b35500820|                   124|[5c5b350e02b7]|       [-65.0]|\n",
      "|12c07c11-51a3-495...|5c5b350e4cb8|                   124|[5c5b354e318d]|       [-35.0]|\n",
      "|57b2f891-09c1-4dc...|5c5b353e4f4c|                   100|[5c5b353e4f47]|       [-25.0]|\n",
      "|6db15e18-bc94-11e...|5c5b3550036b|                   100|[5c5b350e070d]|       [-47.0]|\n",
      "|57b2f891-09c1-4dc...|5c5b350e02b7|                   100|[5c5b353e4f47]|       [-32.0]|\n",
      "|57b2f891-09c1-4dc...|5c5b350e02b7|                    52|[5c5b353e4f47]|       [-32.0]|\n",
      "|57b2f891-09c1-4dc...|5c5b353e4f4c|                   124|[5c5b350e02b7]|       [-50.0]|\n",
      "|57b2f891-09c1-4dc...|5c5b353e4f4c|                    52|[5c5b353e4f47]|       [-25.0]|\n",
      "|67970e46-4e12-11e...|5c5b353f574d|                   140|[5c5b350ecfeb]|       [-64.0]|\n",
      "+--------------------+------------+----------------------+--------------+--------------+"
     ]
    }
   ],
   "source": [
    "# aggregated impacted by ap2's radar_channel\n",
    "ap_neighbor_radar_4 = ap_neighbor_radar_3.groupBy('site', 'ap',  'radar_channel')\\\n",
    "         .agg(F.collect_list('ap2').alias('neighbor_aps'), F.collect_list('max_rssi').alias('neighbor_rssis'))\\\n",
    "        .withColumnRenamed('radar_channel', 'neighbor_radar_channel')\n",
    "ap_neighbor_radar_4.show()"
   ]
  },
  {
   "cell_type": "code",
   "execution_count": 28,
   "metadata": {},
   "outputs": [
    {
     "name": "stdout",
     "output_type": "stream",
     "text": [
      "+--------------------+------------+-------------+--------------+--------------+-----------------+\n",
      "|                site|          ap|radar_channel|neighbor_rssis|  neighbor_aps|last_seen_in_site|\n",
      "+--------------------+------------+-------------+--------------+--------------+-----------------+\n",
      "|67970e46-4e12-11e...|5c5b350ecfeb|           52|       [-65.0]|[5c5b353f574d]|       1589144494|\n",
      "|20325077-2d75-4fa...|5c5b350ee3a5|          116|       [-40.0]|[5c5b355004ec]|       1589209277|\n",
      "|57b2f891-09c1-4dc...|5c5b353e4f47|          124|       [-42.0]|[5c5b350e02b7]|       1589924617|\n",
      "|57b2f891-09c1-4dc...|5c5b35500820|          124|       [-65.0]|[5c5b350e02b7]|       1589924617|\n",
      "|12c07c11-51a3-495...|5c5b350e4cb8|          124|       [-35.0]|[5c5b354e318d]|       1589675016|\n",
      "|57b2f891-09c1-4dc...|5c5b353e4f4c|          100|       [-25.0]|[5c5b353e4f47]|       1589459444|\n",
      "|6db15e18-bc94-11e...|5c5b3550036b|          100|       [-47.0]|[5c5b350e070d]|       1589389208|\n",
      "|57b2f891-09c1-4dc...|5c5b350e02b7|          100|       [-32.0]|[5c5b353e4f47]|       1589459444|\n",
      "|57b2f891-09c1-4dc...|5c5b350e02b7|           52|       [-32.0]|[5c5b353e4f47]|       1589641690|\n",
      "|57b2f891-09c1-4dc...|5c5b353e4f4c|          124|       [-50.0]|[5c5b350e02b7]|       1589924617|\n",
      "|57b2f891-09c1-4dc...|5c5b353e4f4c|           52|       [-25.0]|[5c5b353e4f47]|       1589641690|\n",
      "|67970e46-4e12-11e...|5c5b353f574d|          140|       [-64.0]|[5c5b350ecfeb]|       1589924643|\n",
      "+--------------------+------------+-------------+--------------+--------------+-----------------+"
     ]
    }
   ],
   "source": [
    "# join for radar_last_seen_in_site\n",
    "ap_neighbor_radar_5 = ap_neighbor_radar_4\\\n",
    "                .join(last_seen_in_site_df, [ap_neighbor_radar_4.site == last_seen_in_site_df.site_id, \n",
    "                 ap_neighbor_radar_4.neighbor_radar_channel==last_seen_in_site_df.radar_channel], 'inner')\\\n",
    "                .select('site', 'ap', 'radar_channel', 'neighbor_rssis', 'neighbor_aps', 'last_seen_in_site')\n",
    "\n",
    "ap_neighbor_radar_5.show()"
   ]
  },
  {
   "cell_type": "code",
   "execution_count": 29,
   "metadata": {},
   "outputs": [
    {
     "name": "stdout",
     "output_type": "stream",
     "text": [
      "+--------------------+------------+-------------+--------------+--------------+-----------------+\n",
      "|                site|          ap|radar_channel|neighbor_rssis|  neighbor_aps|last_seen_in_site|\n",
      "+--------------------+------------+-------------+--------------+--------------+-----------------+\n",
      "|67970e46-4e12-11e...|5c5b350ecfeb|           52|       [-65.0]|[5c5b353f574d]|       1589144494|\n",
      "|20325077-2d75-4fa...|5c5b350ee3a5|          116|       [-40.0]|[5c5b355004ec]|       1589209277|\n",
      "|57b2f891-09c1-4dc...|5c5b353e4f47|          124|       [-42.0]|[5c5b350e02b7]|       1589924617|\n",
      "|57b2f891-09c1-4dc...|5c5b35500820|          124|       [-65.0]|[5c5b350e02b7]|       1589924617|\n",
      "|12c07c11-51a3-495...|5c5b350e4cb8|          124|       [-35.0]|[5c5b354e318d]|       1589675016|\n",
      "|57b2f891-09c1-4dc...|5c5b353e4f4c|          100|       [-25.0]|[5c5b353e4f47]|       1589459444|\n",
      "|6db15e18-bc94-11e...|5c5b3550036b|          100|       [-47.0]|[5c5b350e070d]|       1589389208|\n",
      "|57b2f891-09c1-4dc...|5c5b350e02b7|          100|       [-32.0]|[5c5b353e4f47]|       1589459444|\n",
      "|57b2f891-09c1-4dc...|5c5b350e02b7|           52|       [-32.0]|[5c5b353e4f47]|       1589641690|\n",
      "|57b2f891-09c1-4dc...|5c5b353e4f4c|          124|       [-50.0]|[5c5b350e02b7]|       1589924617|\n",
      "|57b2f891-09c1-4dc...|5c5b353e4f4c|           52|       [-25.0]|[5c5b353e4f47]|       1589641690|\n",
      "|67970e46-4e12-11e...|5c5b353f574d|          140|       [-64.0]|[5c5b350ecfeb]|       1589924643|\n",
      "+--------------------+------------+-------------+--------------+--------------+-----------------+"
     ]
    }
   ],
   "source": [
    "\n",
    "scan_final_df = ap_neighbor_radar_5\n",
    "scan_final_df.show()"
   ]
  },
  {
   "cell_type": "code",
   "execution_count": null,
   "metadata": {},
   "outputs": [],
   "source": []
  },
  {
   "cell_type": "code",
   "execution_count": 27,
   "metadata": {},
   "outputs": [],
   "source": [
    "# ap_neighbor_radar_22 = scan_df_2\\\n",
    "#          .filter('ap2 is not Null and max_rssi >-75')\\\n",
    "#          .join(rrm_radar_df, [scan_df_2.site == rrm_radar_df.site_id, scan_df_2.ap2 == rrm_radar_df.ap_id], 'inner')\\\n",
    "#          .select('site', 'ap', 'ap2', 'pre_channel', 'radar_channel_count', 'max_rssi')\\\n",
    "#          .groupBy('site', 'ap', 'ap2', 'pre_channel')\\\n",
    "#          .agg(F.max('max_rssi').alias(\"max_rssi\"))\\\n",
    "#         .groupBy('site', 'ap', 'pre_channel')\\\n",
    "#          .agg(F.collect_list('ap2').alias('neighbor_aps'), F.collect_list('max_rssi').alias('neighbor_rssis'))\\\n",
    "#         .withColumnRenamed('pre_channel', 'neighbor_radar_channel')                                                                                          \n",
    "\n",
    "# ap_neighbor_radar_22.show()  "
   ]
  },
  {
   "cell_type": "code",
   "execution_count": 26,
   "metadata": {},
   "outputs": [],
   "source": [
    "# ap_neighbor_radar_2.select('ap', 'neighbor_radar_channel', 'neighbor_aps', 'neighbor_rssis').show(2, False)  "
   ]
  },
  {
   "cell_type": "code",
   "execution_count": 11,
   "metadata": {},
   "outputs": [],
   "source": [
    "\n",
    "# Goal: \n",
    "\n",
    "#rrm/policy/org/{org}/site/{site}/ap/ { \"116\" : {\"weight_tot\": 0.8, \"radar_detected\":0.5, \"neighbor_radar\": 0.3, \"geolocation\": 0.0, \"last_seen\": 11111}}"
   ]
  },
  {
   "cell_type": "code",
   "execution_count": null,
   "metadata": {},
   "outputs": [],
   "source": [
    "\n"
   ]
  },
  {
   "cell_type": "markdown",
   "metadata": {},
   "source": [
    "# channel weight"
   ]
  },
  {
   "cell_type": "code",
   "execution_count": 47,
   "metadata": {},
   "outputs": [],
   "source": [
    "import numpy as np\n",
    "def weight_by_dfs_channel(chn, wt_0=0.4, wt_weather_ch=0.1, count=1 ):\n",
    "    if 116<=chn<132:\n",
    "        wt = wt_0 + wt_weather_ch\n",
    "    else:\n",
    "        wt = wt_0\n",
    "    \n",
    "    wt = 1 - (1-wt)**count\n",
    "    return wt\n",
    "\n",
    "def weight_by_dist(dist_to_airport=100.0, max_wt=0.8):\n",
    "    wt = 0.0\n",
    "    if dist_to_airport< 10:\n",
    "        wt = max_wt * np.exp(-dist_to_airport**2/5**2)\n",
    "    \n",
    "    return wt\n",
    "\n",
    "def weight_impacted_neighbor(rssi, rssi_0 = -65):\n",
    "    wt = 1.0\n",
    "    if rssi < rssi_0:\n",
    "        wt =  np.exp((rssi - rssi_0)/15) \n",
    "    return wt\n",
    "    \n",
    "    \n",
    "def weight_tot(ch, rssi=-40, dist_to_airport=100.0, theta=[0.33, 0.33, 0.33]):\n",
    "    wt=[0, 0, 0]\n",
    "    wt[0] = weight_by_dfs_channel(ch)\n",
    "    wt[1] = weight_by_dist(dist_to_airport)\n",
    "    wt[2] = weight_impacted_neighbor(rssi)\n",
    "    \n",
    "    wt_0 = 0.0\n",
    "    for i in range(2):\n",
    "        wt_0 += wt[i] * theta[i]\n",
    "    \n",
    "#     print(wt_0, wt)\n",
    "#     wt_0 = 1.0/(1.0 + np.exp(-0.6*wt_0))\n",
    "    wt_0 = (wt[0] + wt[1]) * wt[2]\n",
    "\n",
    "    return wt_0\n"
   ]
  },
  {
   "cell_type": "code",
   "execution_count": 50,
   "metadata": {},
   "outputs": [
    {
     "name": "stdout",
     "output_type": "stream",
     "text": [
      "+--------------------+------------+-------------+-------------------+---------------+----------+\n",
      "|             site_id|       ap_id|radar_channel|radar_channel_count|last_radar_time|      time|\n",
      "+--------------------+------------+-------------+-------------------+---------------+----------+\n",
      "|c943d077-1b67-491...|5c5b35500622|          104|                  1|     1589096727|1589094000|\n",
      "|c943d077-1b67-491...|5c5b35500924|          116|                  1|     1589095299|1589094000|\n",
      "+--------------------+------------+-------------+-------------------+---------------+----------+\n",
      "only showing top 2 rows"
     ]
    }
   ],
   "source": [
    "rrm_radar_df.show(2)"
   ]
  },
  {
   "cell_type": "code",
   "execution_count": 51,
   "metadata": {},
   "outputs": [
    {
     "name": "stdout",
     "output_type": "stream",
     "text": [
      "root\n",
      " |-- site_id: string (nullable = true)\n",
      " |-- ap_id: string (nullable = true)\n",
      " |-- radar_channel: string (nullable = true)\n",
      " |-- radar_channel_count: string (nullable = true)\n",
      " |-- last_radar_time: string (nullable = true)\n",
      " |-- time: string (nullable = true)"
     ]
    }
   ],
   "source": [
    "rrm_radar_df.printSchema()"
   ]
  },
  {
   "cell_type": "code",
   "execution_count": 52,
   "metadata": {},
   "outputs": [
    {
     "name": "stdout",
     "output_type": "stream",
     "text": [
      "+--------------------+------------+-------------+-------------------+---------------+----------+------+\n",
      "|             site_id|       ap_id|radar_channel|radar_channel_count|last_radar_time|      time|weight|\n",
      "+--------------------+------------+-------------+-------------------+---------------+----------+------+\n",
      "|c943d077-1b67-491...|5c5b35500622|          104|                  1|     1589096727|1589094000|   0.4|\n",
      "|c943d077-1b67-491...|5c5b35500924|          116|                  1|     1589095299|1589094000|   0.6|\n",
      "|c943d077-1b67-491...|5c5b35500686|          104|                  1|     1589095247|1589094000|   0.4|\n",
      "|c943d077-1b67-491...|5c5b35500587|           64|                  1|     1589096287|1589094000|   0.4|\n",
      "|c943d077-1b67-491...|5c5b355008cf|          112|                  1|     1589136293|1589133600|   0.4|\n",
      "|c943d077-1b67-491...|5c5b3550070d|          124|                  1|     1589136079|1589133600|   0.6|\n",
      "|c943d077-1b67-491...|5c5b35500609|          112|                  1|     1589136493|1589133600|   0.4|\n",
      "|c943d077-1b67-491...|5c5b3550082a|          100|                  1|     1589092454|1589090400|   0.4|\n",
      "|c943d077-1b67-491...|5c5b3550070d|          112|                  1|     1589091270|1589090400|   0.4|\n",
      "|c943d077-1b67-491...|5c5b35500609|           64|                  1|     1589093124|1589090400|   0.4|\n",
      "|c943d077-1b67-491...|5c5b355008cf|          112|                  1|     1589194140|1589191200|   0.4|\n",
      "|c943d077-1b67-491...|5c5b35500852|           64|                  1|     1589191240|1589191200|   0.4|\n",
      "|c943d077-1b67-491...|5c5b35500609|          112|                  1|     1589191285|1589191200|   0.4|\n",
      "|c943d077-1b67-491...|5c5b3550085c|          100|                  1|     1589080870|1589079600|   0.4|\n",
      "|c943d077-1b67-491...|5c5b35500730|           56|                  1|     1589079621|1589079600|   0.4|\n",
      "|c943d077-1b67-491...|5c5b355008d9|           64|                  1|     1589082464|1589079600|   0.4|\n",
      "|ee915a44-b963-11e...|5c5b3550032f|           52|                  1|     1589209332|1589209200|   0.4|\n",
      "|20325077-2d75-4fa...|5c5b355004ec|          116|                  1|     1589209277|1589209200|   0.6|\n",
      "|c943d077-1b67-491...|5c5b35500587|           52|                  1|     1589210426|1589209200|   0.4|\n",
      "|c943d077-1b67-491...|5c5b35500578|          100|                  1|     1589120474|1589119200|   0.4|\n",
      "+--------------------+------------+-------------+-------------------+---------------+----------+------+\n",
      "only showing top 20 rows"
     ]
    }
   ],
   "source": [
    "from pyspark.sql.functions import udf, size, avg, count, col,sum, explode\n",
    "\n",
    "from pyspark.sql.types import IntegerType, FloatType\n",
    "\n",
    "\n",
    "import time\n",
    "t0 = int(time.time())\n",
    "\n",
    "wt_0 = 0.4\n",
    "wt_weather_ch = 0.2 \n",
    "def weight_by_dfs_channel(chn, count=1 ):\n",
    "    \n",
    "    if 116<=int(chn)<132:\n",
    "        wt = wt_0 + wt_weather_ch\n",
    "    else:\n",
    "        wt = wt_0\n",
    "    \n",
    "#     time_diff  = (t0 - int(last_radar_time))/3600./24\n",
    "    wt = (1 - (1-wt)**int(count)) #* np.exp(-time_diff)\n",
    "    \n",
    "\n",
    "    return wt\n",
    "\n",
    "primary_weight = udf(weight_by_dfs_channel, FloatType())\n",
    "rrm_radar_wt_df = rrm_radar_df.withColumn(\"weight\",\n",
    "                                          primary_weight(col(\"radar_channel\"),\n",
    "                                                         col(\"radar_channel_count\")\n",
    "#                                                          col(\"last_radar_time\")\n",
    "                                                        )\n",
    "                                         )\n",
    "rrm_radar_wt_df.show()"
   ]
  },
  {
   "cell_type": "code",
   "execution_count": 53,
   "metadata": {},
   "outputs": [
    {
     "name": "stdout",
     "output_type": "stream",
     "text": [
      "+--------------------+------------+-------------+--------------+--------------+-----------------+\n",
      "|                site|          ap|radar_channel|neighbor_rssis|  neighbor_aps|last_seen_in_site|\n",
      "+--------------------+------------+-------------+--------------+--------------+-----------------+\n",
      "|67970e46-4e12-11e...|5c5b350ecfeb|           52|       [-65.0]|[5c5b353f574d]|       1589144494|\n",
      "|20325077-2d75-4fa...|5c5b350ee3a5|          116|       [-40.0]|[5c5b355004ec]|       1589209277|\n",
      "|57b2f891-09c1-4dc...|5c5b353e4f47|          124|       [-42.0]|[5c5b350e02b7]|       1589924617|\n",
      "|57b2f891-09c1-4dc...|5c5b35500820|          124|       [-65.0]|[5c5b350e02b7]|       1589924617|\n",
      "|12c07c11-51a3-495...|5c5b350e4cb8|          124|       [-35.0]|[5c5b354e318d]|       1589675016|\n",
      "|57b2f891-09c1-4dc...|5c5b353e4f4c|          100|       [-25.0]|[5c5b353e4f47]|       1589459444|\n",
      "|6db15e18-bc94-11e...|5c5b3550036b|          100|       [-47.0]|[5c5b350e070d]|       1589389208|\n",
      "|57b2f891-09c1-4dc...|5c5b350e02b7|          100|       [-32.0]|[5c5b353e4f47]|       1589459444|\n",
      "|57b2f891-09c1-4dc...|5c5b350e02b7|           52|       [-32.0]|[5c5b353e4f47]|       1589641690|\n",
      "|57b2f891-09c1-4dc...|5c5b353e4f4c|          124|       [-50.0]|[5c5b350e02b7]|       1589924617|\n",
      "|57b2f891-09c1-4dc...|5c5b353e4f4c|           52|       [-25.0]|[5c5b353e4f47]|       1589641690|\n",
      "|67970e46-4e12-11e...|5c5b353f574d|          140|       [-64.0]|[5c5b350ecfeb]|       1589924643|\n",
      "+--------------------+------------+-------------+--------------+--------------+-----------------+\n",
      "\n",
      "+--------------------+------------+-------------+--------------+--------------+-----------------+------+\n",
      "|                site|          ap|radar_channel|neighbor_rssis|  neighbor_aps|last_seen_in_site|weight|\n",
      "+--------------------+------------+-------------+--------------+--------------+-----------------+------+\n",
      "|67970e46-4e12-11e...|5c5b350ecfeb|           52|       [-65.0]|[5c5b353f574d]|       1589144494|  0.16|\n",
      "|20325077-2d75-4fa...|5c5b350ee3a5|          116|       [-40.0]|[5c5b355004ec]|       1589209277|  0.36|\n",
      "|57b2f891-09c1-4dc...|5c5b353e4f47|          124|       [-42.0]|[5c5b350e02b7]|       1589924617|  0.36|\n",
      "|57b2f891-09c1-4dc...|5c5b35500820|          124|       [-65.0]|[5c5b350e02b7]|       1589924617|  0.36|\n",
      "|12c07c11-51a3-495...|5c5b350e4cb8|          124|       [-35.0]|[5c5b354e318d]|       1589675016|  0.36|\n",
      "|57b2f891-09c1-4dc...|5c5b353e4f4c|          100|       [-25.0]|[5c5b353e4f47]|       1589459444|  0.16|\n",
      "|6db15e18-bc94-11e...|5c5b3550036b|          100|       [-47.0]|[5c5b350e070d]|       1589389208|  0.16|\n",
      "|57b2f891-09c1-4dc...|5c5b350e02b7|          100|       [-32.0]|[5c5b353e4f47]|       1589459444|  0.16|\n",
      "|57b2f891-09c1-4dc...|5c5b350e02b7|           52|       [-32.0]|[5c5b353e4f47]|       1589641690|  0.16|\n",
      "|57b2f891-09c1-4dc...|5c5b353e4f4c|          124|       [-50.0]|[5c5b350e02b7]|       1589924617|  0.36|\n",
      "|57b2f891-09c1-4dc...|5c5b353e4f4c|           52|       [-25.0]|[5c5b353e4f47]|       1589641690|  0.16|\n",
      "|67970e46-4e12-11e...|5c5b353f574d|          140|       [-64.0]|[5c5b350ecfeb]|       1589924643|  0.16|\n",
      "+--------------------+------------+-------------+--------------+--------------+-----------------+------+"
     ]
    }
   ],
   "source": [
    "\n",
    "def weight_impacted_neighbor(chn, neighbor_rssis, rssi_0 = -65):\n",
    "    if 116<=int(chn)<132:\n",
    "        wt_ch = wt_0 + wt_weather_ch\n",
    "    else:\n",
    "        wt_ch = wt_0\n",
    "    \n",
    "    wt = 1.0\n",
    "    for rssi_s in neighbor_rssis:\n",
    "        rssi = float(rssi_s)\n",
    "        if rssi < rssi_0:\n",
    "            wt +=  np.exp((rssi - rssi_0)/15) \n",
    "        else:\n",
    "            wt = 1.0\n",
    "    \n",
    "#     time_diff  = (t0 - int(last_radar_time))/3600./24\n",
    "    wt = wt* wt_ch  #* np.exp(-time_diff)\n",
    "    return wt*wt_ch\n",
    "    \n",
    "neighbor_weight = udf(weight_impacted_neighbor, FloatType())\n",
    "\n",
    "scan_final_df.show()\n",
    "scan_final_wt_df = scan_final_df.withColumn(\"weight\", neighbor_weight(col(\"radar_channel\"), col(\"neighbor_rssis\")))\n",
    "scan_final_wt_df.show()\n"
   ]
  },
  {
   "cell_type": "code",
   "execution_count": null,
   "metadata": {},
   "outputs": [],
   "source": []
  },
  {
   "cell_type": "code",
   "execution_count": 54,
   "metadata": {},
   "outputs": [],
   "source": [
    "# redis \n",
    "# rrm/policy/site/{site}/ap/{ap}/channel  {\"116\" : 0.7, '124': 0.8, } "
   ]
  },
  {
   "cell_type": "code",
   "execution_count": null,
   "metadata": {},
   "outputs": [],
   "source": [
    "# "
   ]
  }
 ],
 "metadata": {
  "kernelspec": {
   "display_name": "Python 3",
   "language": "python",
   "name": "python3"
  },
  "language_info": {
   "codemirror_mode": {
    "name": "ipython",
    "version": 3
   },
   "file_extension": ".py",
   "mimetype": "text/x-python",
   "name": "python",
   "nbconvert_exporter": "python",
   "pygments_lexer": "ipython3",
   "version": "3.7.4"
  }
 },
 "nbformat": 4,
 "nbformat_minor": 2
}
