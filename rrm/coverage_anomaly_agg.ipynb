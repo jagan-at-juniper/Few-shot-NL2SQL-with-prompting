{
 "cells": [
  {
   "cell_type": "code",
   "execution_count": 1,
   "metadata": {},
   "outputs": [
    {
     "name": "stdout",
     "output_type": "stream",
     "text": [
      "s3://mist-secorapp-staging/sle-coverage-anomaly/sle-coverage-anomaly-staging/dt=2020-03-1*/hr=*/*.seq\n"
     ]
    }
   ],
   "source": [
    "env = \"production\"\n",
    "# env = \"staging\"\n",
    "\n",
    "\n",
    "# s3_bucket = \"s3://mist-aggregated-stats-{env}/entity_event/entity_event-{env}/\".format(env=env)\n",
    "date_day = \"2020-03-1*\"\n",
    "hr = '*'\n",
    "\n",
    "s3_bucket = \"s3://mist-secorapp-staging/sle-coverage-anomaly/sle-coverage-anomaly-staging/\".format(env=env)\n",
    "s3_path = s3_bucket + \"dt={day}/hr={hr}/*.seq\".format(day=date_day, hr=hr)\n",
    "\n",
    "print(s3_path)\n"
   ]
  },
  {
   "cell_type": "code",
   "execution_count": 2,
   "metadata": {},
   "outputs": [
    {
     "data": {
      "text/plain": [
       "(4109,\n",
       " bytearray(b'{\"radio_5s\":1,\"util_nonwifi_std_base\":10.686252287455485,\"channel\":11,\"sle_coverage_base\":0.9739787605262338,\"util_nonwifi_deviation\":-0.953568937864141,\"rssi_mean\":-89.0,\"rad_id\":\"r24\",\"sle_capacity_anomaly_score\":-0.001005110795669877,\"util_all_mean_base\":26.527651431022772,\"anomaly_score\":2.698591450511145,\"dev\":\"r1\",\"anomaly_type\":\"weak_signal\",\"band\":\"24\",\"util_cochannel_std\":5.0,\"sle_coverage_anomaly\":true,\"util_cochannel_mean\":13.068257183736655,\"util_cochannel_std_base\":5.0,\"events\":[],\"avg_nclients\":1.0,\"sle_capacity_error\":0.348010216963685,\"util_nonwifi_mean_base\":14.23794877362038,\"util_ap\":1.971286614351615,\"sle_coverage_error\":0.3517354443316347,\"util_cochannel_deviation\":-3.5514748490356416,\"ap\":\"5c-5b-35-0e-b3-ac\",\"rssi_hist\":{\"-89\":180},\"error_rate\":0.7976085778719924,\"sle_coverage\":0.0,\"user_seconds_util_high\":0,\"sle_coverage_base_std\":0.13839426885618095,\"sle_coverage_anomaly_score\":2.698591450511145,\"interval\":60,\"impacted_wlans\":[\"c43d016e-8de6-407b-a41e-03fd0756f232\"],\"rssi_std_base\":6.996248275043327,\"util_cochannel_mean_base\":10.65140570162021,\"rssi_watermark\":-72,\"sle_capacity_base_std\":0.1,\"anomaly\":\"\",\"user_seconds_rssi_weak\":180,\"util_all_std\":5.0,\"sle_capacity_impacted\":1.0,\"user_seconds\":180,\"power\":17,\"user_seconds_util_high_impacted\":0,\"timestamp\":1583799600,\"rssi_std\":3.0,\"org\":\"7e20d5ce-510c-11e5-997e-1258369c38a9\",\"bandwidth\":20,\"util_nonwifi_mean\":10.46431062135859,\"sle_capacity_anomaly\":false,\"util_nonwifi_std\":5.0,\"rssi_mean_base\":-55.92400520481363,\"util_all_deviation\":0.0,\"sle_capacity\":1.0,\"site\":\"fcea653f-28eb-45f6-9d89-0361eada8ca1\",\"util_all_std_base\":11.92410447225129,\"user_seconds_rssi_weak_impacted\":180,\"sle_coverage_impacted\":0.0,\"util_watermark\":20,\"util_all_mean\":22.477797045313846,\"max_nclients\":1.0,\"sle_capacity_base\":0.9996502111739264,\"rssi_deviation\":5.156477211347004}'))"
      ]
     },
     "execution_count": 2,
     "metadata": {},
     "output_type": "execute_result"
    }
   ],
   "source": [
    "# rdd_capacity = spark.sparkContext.sequenceFile(s3_capacity_path)\n",
    "# rdd_coverage = spark.sparkContext.sequenceFile(s3_coverage_path)\n",
    "rdd_coverage = spark.sparkContext.sequenceFile(s3_path)\n",
    "rdd_coverage.first()"
   ]
  },
  {
   "cell_type": "code",
   "execution_count": null,
   "metadata": {},
   "outputs": [],
   "source": []
  },
  {
   "cell_type": "code",
   "execution_count": 3,
   "metadata": {
    "scrolled": false
   },
   "outputs": [
    {
     "name": "stderr",
     "output_type": "stream",
     "text": [
      "/opt/mistsys/ds_incubator/venv/spark-2.4.4-bin-without-hadoop/python/pyspark/sql/session.py:366: UserWarning: Using RDD of dict to inferSchema is deprecated. Use pyspark.sql.Row instead\n",
      "  warnings.warn(\"Using RDD of dict to inferSchema is deprecated. \"\n"
     ]
    }
   ],
   "source": [
    "import json\n",
    "# rdd_site = rdd.map(lambda x: json.loads(x[1])).map(lambda x: (x.get(\"site_id\"), x.get(\"ap_id\"))).groupByKey()\n",
    "# rdd_site = rdd.map(lambda x: json.loads(x[1])).map(lambda x: (x.get(\"site_id\"))).groupBy('site_id')\n",
    "df_coverage = rdd_coverage.map(lambda x: json.loads(x[1])).toDF() #.map(lambda x: json.loads(x[1])).\n",
    "\n"
   ]
  },
  {
   "cell_type": "code",
   "execution_count": 4,
   "metadata": {},
   "outputs": [
    {
     "name": "stdout",
     "output_type": "stream",
     "text": [
      "root\n",
      " |-- anomaly: string (nullable = true)\n",
      " |-- anomaly_score: double (nullable = true)\n",
      " |-- anomaly_type: string (nullable = true)\n",
      " |-- ap: string (nullable = true)\n",
      " |-- avg_nclients: double (nullable = true)\n",
      " |-- band: string (nullable = true)\n",
      " |-- bandwidth: long (nullable = true)\n",
      " |-- channel: long (nullable = true)\n",
      " |-- dev: string (nullable = true)\n",
      " |-- error_rate: double (nullable = true)\n",
      " |-- events: array (nullable = true)\n",
      " |    |-- element: string (containsNull = true)\n",
      " |-- impacted_wlans: array (nullable = true)\n",
      " |    |-- element: string (containsNull = true)\n",
      " |-- interval: long (nullable = true)\n",
      " |-- max_nclients: double (nullable = true)\n",
      " |-- org: string (nullable = true)\n",
      " |-- power: long (nullable = true)\n",
      " |-- rad_id: string (nullable = true)\n",
      " |-- radio_5s: long (nullable = true)\n",
      " |-- rssi_deviation: double (nullable = true)\n",
      " |-- rssi_hist: map (nullable = true)\n",
      " |    |-- key: string\n",
      " |    |-- value: long (valueContainsNull = true)\n",
      " |-- rssi_mean: double (nullable = true)\n",
      " |-- rssi_mean_base: double (nullable = true)\n",
      " |-- rssi_std: double (nullable = true)\n",
      " |-- rssi_std_base: double (nullable = true)\n",
      " |-- rssi_watermark: long (nullable = true)\n",
      " |-- site: string (nullable = true)\n",
      " |-- sle_capacity: double (nullable = true)\n",
      " |-- sle_capacity_anomaly: boolean (nullable = true)\n",
      " |-- sle_capacity_anomaly_score: double (nullable = true)\n",
      " |-- sle_capacity_base: double (nullable = true)\n",
      " |-- sle_capacity_base_std: double (nullable = true)\n",
      " |-- sle_capacity_error: double (nullable = true)\n",
      " |-- sle_capacity_impacted: double (nullable = true)\n",
      " |-- sle_coverage: double (nullable = true)\n",
      " |-- sle_coverage_anomaly: boolean (nullable = true)\n",
      " |-- sle_coverage_anomaly_score: double (nullable = true)\n",
      " |-- sle_coverage_base: double (nullable = true)\n",
      " |-- sle_coverage_base_std: double (nullable = true)\n",
      " |-- sle_coverage_error: double (nullable = true)\n",
      " |-- sle_coverage_impacted: double (nullable = true)\n",
      " |-- timestamp: long (nullable = true)\n",
      " |-- user_seconds: long (nullable = true)\n",
      " |-- user_seconds_rssi_weak: long (nullable = true)\n",
      " |-- user_seconds_rssi_weak_impacted: long (nullable = true)\n",
      " |-- user_seconds_util_high: long (nullable = true)\n",
      " |-- user_seconds_util_high_impacted: long (nullable = true)\n",
      " |-- util_all_deviation: double (nullable = true)\n",
      " |-- util_all_mean: double (nullable = true)\n",
      " |-- util_all_mean_base: double (nullable = true)\n",
      " |-- util_all_std: double (nullable = true)\n",
      " |-- util_all_std_base: double (nullable = true)\n",
      " |-- util_ap: double (nullable = true)\n",
      " |-- util_cochannel_deviation: double (nullable = true)\n",
      " |-- util_cochannel_mean: double (nullable = true)\n",
      " |-- util_cochannel_mean_base: double (nullable = true)\n",
      " |-- util_cochannel_std: double (nullable = true)\n",
      " |-- util_cochannel_std_base: double (nullable = true)\n",
      " |-- util_nonwifi_deviation: double (nullable = true)\n",
      " |-- util_nonwifi_mean: double (nullable = true)\n",
      " |-- util_nonwifi_mean_base: double (nullable = true)\n",
      " |-- util_nonwifi_std: double (nullable = true)\n",
      " |-- util_nonwifi_std_base: double (nullable = true)\n",
      " |-- util_watermark: long (nullable = true)\n",
      "\n"
     ]
    }
   ],
   "source": [
    "# df_capacity\n",
    "df_coverage.printSchema()"
   ]
  },
  {
   "cell_type": "code",
   "execution_count": 5,
   "metadata": {},
   "outputs": [],
   "source": [
    "\n",
    "# df_capacity.select(\"org\", \"site\",  \"anomaly\", \"anomaly_score\", \"anomaly_type\", \"sle_capacity_anomaly\", \"util_nonwifi_mean\", \"util_cochannel_mean\").show()\n",
    "\n",
    "df_coverage_g = df_coverage.select(\"org\", \"site\", \"anomaly_type\").groupBy(\"org\", \"site\", \"anomaly_type\").count()"
   ]
  },
  {
   "cell_type": "code",
   "execution_count": null,
   "metadata": {},
   "outputs": [],
   "source": []
  },
  {
   "cell_type": "code",
   "execution_count": 7,
   "metadata": {},
   "outputs": [
    {
     "data": {
      "text/plain": [
       "[Row(org='6748cfa6-4e12-11e6-9188-0242ac110007', site='67970e46-4e12-11e6-9188-0242ac110007', anomaly_type='weak_signal', count=48),\n",
       " Row(org='df6a2fdc-5711-11e5-bd84-1258369c38a9', site='ee915a44-b963-11e5-b14c-1258369c38a9', anomaly_type='weak_signal', count=39),\n",
       " Row(org='f4d3653e-4aa3-11e5-8510-1258369c38a9', site='29d2648e-e66b-11e5-a6cd-0242ac110003', anomaly_type='weak_signal', count=25),\n",
       " Row(org='60c27646-e75f-11e6-be92-0242ac110003', site='0a6ceeb3-4b49-4df9-a235-14ac9c85b884', anomaly_type='weak_signal', count=18),\n",
       " Row(org='19163200-4a90-11e5-8b45-1258369c38a9', site='1916d52a-4a90-11e5-8b45-1258369c38a9', anomaly_type='asymmetry_downlink', count=15),\n",
       " Row(org='b0b9f142-aaba-11e6-aafc-0242ac110002', site='fc656275-b157-43fd-b922-5f4f341c19bf', anomaly_type='weak_signal', count=15),\n",
       " Row(org='2dbab92c-7cc4-11e5-ab8b-1258369c38a9', site='dbc8209a-bc93-11e5-9c9b-1258369c38a9', anomaly_type='weak_signal', count=11),\n",
       " Row(org='b425e4f2-ad72-11e6-8a23-0242ac110004', site='c4a51a2c-ad73-11e6-b0cc-0242ac110004', anomaly_type='weak_signal', count=11),\n",
       " Row(org='b687ebd8-5b10-11e5-8a64-1258369c38a9', site='b68899b6-5b10-11e5-8a64-1258369c38a9', anomaly_type='weak_signal', count=10),\n",
       " Row(org='41f579e0-5a00-4164-92f3-662b53ae8c66', site='c475d117-b152-445d-8117-2248046f58f7', anomaly_type='weak_signal', count=9)]"
      ]
     },
     "execution_count": 7,
     "metadata": {},
     "output_type": "execute_result"
    }
   ],
   "source": [
    "df_coverage_g.orderBy('count', ascending=False).take(10)\n",
    "\n",
    "# df_capacity_g.sort('count', ascending=False).show() #\n"
   ]
  },
  {
   "cell_type": "code",
   "execution_count": null,
   "metadata": {},
   "outputs": [],
   "source": []
  },
  {
   "cell_type": "code",
   "execution_count": null,
   "metadata": {},
   "outputs": [],
   "source": []
  },
  {
   "cell_type": "code",
   "execution_count": null,
   "metadata": {},
   "outputs": [],
   "source": []
  },
  {
   "cell_type": "code",
   "execution_count": null,
   "metadata": {},
   "outputs": [],
   "source": []
  },
  {
   "cell_type": "code",
   "execution_count": null,
   "metadata": {},
   "outputs": [],
   "source": []
  },
  {
   "cell_type": "code",
   "execution_count": null,
   "metadata": {},
   "outputs": [],
   "source": []
  },
  {
   "cell_type": "code",
   "execution_count": null,
   "metadata": {},
   "outputs": [],
   "source": []
  }
 ],
 "metadata": {
  "kernelspec": {
   "display_name": "Python 3",
   "language": "python",
   "name": "python3"
  },
  "language_info": {
   "codemirror_mode": {
    "name": "ipython",
    "version": 3
   },
   "file_extension": ".py",
   "mimetype": "text/x-python",
   "name": "python",
   "nbconvert_exporter": "python",
   "pygments_lexer": "ipython3",
   "version": "3.7.4"
  }
 },
 "nbformat": 4,
 "nbformat_minor": 2
}
