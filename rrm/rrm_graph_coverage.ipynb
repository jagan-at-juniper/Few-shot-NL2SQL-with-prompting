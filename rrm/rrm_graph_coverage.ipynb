{
 "cells": [
  {
   "cell_type": "markdown",
   "metadata": {},
   "source": [
    "Notes\n",
    "\n",
    "$ find venv/ -name *graphx*.jar\n",
    "\n",
    "  venv//spark-2.4.4-bin-without-hadoop/jars/spark-graphx_2.11-2.4.4.jar\n",
    "\n",
    "$ ./dev-scripts/okta_spark jupyter-notebook --packages graphframes:graphframes:0.8.0-spark2.4-s_2.11"
   ]
  },
  {
   "cell_type": "code",
   "execution_count": 1,
   "metadata": {},
   "outputs": [
    {
     "name": "stdout",
     "output_type": "stream",
     "text": [
      "s3://mist-aggregated-stats-production/aggregated-stats/top_1_time_epoch_by_site_ap_ap2_band/dt=2020-08-10/hr=20/*.csv\n"
     ]
    }
   ],
   "source": [
    "from pyspark.sql.functions import udf, size, avg, count, col,sum, explode\n",
    "import json\n",
    "\n",
    "env = \"production\"\n",
    "#s3://mist-aggregated-stats-production/aggregated-stats/top_1_time_epoch_by_site_ap_ap2_band/dt=2020-03-14/hr=16/part-00000-76298f84-5414-49c5-88f6-a981ff06d94d-c000.csv .\n",
    "\n",
    "s3_bucket = \"s3://mist-aggregated-stats-{env}/aggregated-stats/\".format(env=env)\n",
    "date_day = \"2020-08-10\"\n",
    "hr = '20'\n",
    "\n",
    "ap_neighbors_path = \"top_1_time_epoch_by_site_ap_ap2_band/dt={day}/hr={hr}/*.csv\".format(env=env, day=date_day, hr=hr)\n",
    "\n",
    "ap_neighbors_path = s3_bucket + ap_neighbors_path\n",
    "print(ap_neighbors_path)\n",
    "\n",
    "\n",
    "\n",
    "# date_day = \"2020-08-11\"\n",
    "# hr = '*'\n",
    "\n",
    "s3_coverage_bucket = \"s3://mist-secorapp-{env}/sle-coverage-anomaly/sle-coverage-anomaly-{env}/\".format(env=env)\n",
    "s3_coverage_path = s3_coverage_bucket + \"dt={day}/hr={hr}/*.seq\".format(day=date_day, hr=hr)\n",
    "print(s3_coverage_path)\n",
    "\n",
    "\n",
    "s3_sticky_bucket = \"s3://mist-secorapp-{env}/sticky-client/sticky-client-{env}/\".format(env=env)\n",
    "s3_sticky_path = s3_sticky_bucket + \"dt={day}/hr={hr}/*.seq\".format(day=date_day, hr=hr)\n",
    "print(s3_sticky_bucket)\n",
    "\n",
    "\n",
    "# user_org_id = \"38a18d4d-1623-4985-86d0-1bb06e5e2a48\"  # UPS\n",
    "# user_site_USNYELE = '9aa6ecdb-ddee-41b4-a8d9-872d7962b3c1'  #UPS USNYELE\n",
    "\n",
    "# # user_org_id = '38a18d4d-1623-4985-86d0-1bb06e5e2a48'  # UPS\n",
    "# user_site_USFLLON = 'c23667f3-47e9-44aa-9761-de49d34ed9f9' # USFLLON\n"
   ]
  },
  {
   "cell_type": "code",
   "execution_count": 2,
   "metadata": {},
   "outputs": [
    {
     "data": {
      "text/plain": [
       "['site,ap,ap2,band,time_epoch,rssi',\n",
       " '0000063a-a4ce-4091-8921-c37560d46e47,d420b000ee16,d420b000ee07,5,1597092510,-68.0',\n",
       " '0000063a-a4ce-4091-8921-c37560d46e47,d420b000ee5c,d420b000ee7f,24,1597092493,-54.0']"
      ]
     },
     "execution_count": 2,
     "metadata": {},
     "output_type": "execute_result"
    }
   ],
   "source": [
    "rdd_ap_neigbhors = spark.sparkContext.textFile(ap_neighbors_path)\n",
    "rdd_ap_neigbhors.take(3)"
   ]
  },
  {
   "cell_type": "code",
   "execution_count": null,
   "metadata": {},
   "outputs": [],
   "source": []
  },
  {
   "cell_type": "code",
   "execution_count": 3,
   "metadata": {},
   "outputs": [],
   "source": [
    "# rdd_rrm_local.map(lambda line: (line.split(',')[0], line.split(',')[1])).collect()"
   ]
  },
  {
   "cell_type": "code",
   "execution_count": null,
   "metadata": {},
   "outputs": [],
   "source": []
  },
  {
   "cell_type": "code",
   "execution_count": 4,
   "metadata": {},
   "outputs": [],
   "source": [
    "\n",
    "df_scan = spark.read.format(\"csv\")\\\n",
    "   .option(\"header\", \"true\")\\\n",
    "   .option(\"inferSchema\", \"true\")\\\n",
    "   .load(ap_neighbors_path)\n",
    "df_scan.createOrReplaceTempView(\"scan_data\")\n",
    "df_Schema = df_scan.schema"
   ]
  },
  {
   "cell_type": "code",
   "execution_count": 5,
   "metadata": {},
   "outputs": [
    {
     "data": {
      "text/plain": [
       "StructType(List(StructField(site,StringType,true),StructField(ap,StringType,true),StructField(ap2,StringType,true),StructField(band,IntegerType,true),StructField(time_epoch,IntegerType,true),StructField(rssi,DoubleType,true)))"
      ]
     },
     "execution_count": 5,
     "metadata": {},
     "output_type": "execute_result"
    }
   ],
   "source": [
    "df_Schema"
   ]
  },
  {
   "cell_type": "code",
   "execution_count": 6,
   "metadata": {},
   "outputs": [
    {
     "name": "stdout",
     "output_type": "stream",
     "text": [
      "+--------------------+------------+------------+----+----------+-----+\n",
      "|                site|          ap|         ap2|band|time_epoch| rssi|\n",
      "+--------------------+------------+------------+----+----------+-----+\n",
      "|0000063a-a4ce-409...|d420b000ee16|d420b000ee07|   5|1597092510|-68.0|\n",
      "|0000063a-a4ce-409...|d420b000ee5c|d420b000ee7f|  24|1597092493|-54.0|\n",
      "|0000063a-a4ce-409...|d420b000ee70|d420b000ee20|  24|1597092511|-56.0|\n",
      "|0000063a-a4ce-409...|d420b080eb69|d420b080eb37|   5|1597092479|-56.0|\n",
      "|000cb16d-91d5-42e...|5c5b35505c85|        null|  24|1597092441|-74.0|\n",
      "|000e9e7e-d400-4b2...|5c5b352e7328|5c5b352e73a0|   5|1597092495|-62.0|\n",
      "|0014d8a6-dfa0-4f3...|d420b0804df3|d420b08030b1|   5|1597092510|-44.0|\n",
      "|00193f17-4e86-476...|5c5b35aed886|5c5b35aed877|   5|1597092481|-74.0|\n",
      "|00226d33-cd80-4b1...|5c5b35502003|5c5b35506d24|  24|1597092473|-61.0|\n",
      "|00272816-8dc2-4f1...|5c5b357f32c7|5c5b35ae6df6|   5|1597092491|-72.0|\n",
      "|00272816-8dc2-4f1...|5c5b357f3308|5c5b35ae6c89|  24|1597092176|-71.0|\n",
      "|00272816-8dc2-4f1...|5c5b35ae6d47|5c5b35ae6c89|   5|1597092472|-68.0|\n",
      "|00272816-8dc2-4f1...|5c5b35ae6d60|5c5b35ae6e46|  24|1597092519|-68.0|\n",
      "|00272816-8dc2-4f1...|5c5b35ae6dab|        null|  24|1597092485|-62.0|\n",
      "|00272816-8dc2-4f1...|5c5b35ae6dd3|5c5b35ae6d79|   5|1597092482|-67.0|\n",
      "|0027af11-eb72-425...|5c5b35bea64f|5c5b35bea528|  24|1597092523|-81.0|\n",
      "|0027af11-eb72-425...|5c5b35beaa2d|5c5b35bea528|  24|1597091884|-44.0|\n",
      "|002a327c-5fe7-465...|5c5b358e92d6|5c5b358e956a|  24|1597092517|-59.0|\n",
      "|002eb842-e20e-48f...|5c5b358e8de5|5c5b358e8df4|  24|1597092526|-68.0|\n",
      "|00458c29-d67b-4cf...|5c5b353e558c|5c5b353e571c|   5|1597092473|-64.0|\n",
      "+--------------------+------------+------------+----+----------+-----+\n",
      "only showing top 20 rows\n",
      "\n"
     ]
    }
   ],
   "source": [
    "df_scan.show()"
   ]
  },
  {
   "cell_type": "code",
   "execution_count": 7,
   "metadata": {},
   "outputs": [
    {
     "name": "stdout",
     "output_type": "stream",
     "text": [
      "+-------+--------------------+------------+------------+------------------+--------------------+------------------+\n",
      "|summary|                site|          ap|         ap2|              band|          time_epoch|              rssi|\n",
      "+-------+--------------------+------------+------------+------------------+--------------------+------------------+\n",
      "|  count|             3555639|     3555639|     3291690|           3555639|             3555639|           3555639|\n",
      "|   mean|                null|        null|        null|16.190116319457626|1.5970923231360433E9|-66.08483763396677|\n",
      "| stddev|                null|        null|        null| 9.348450748950679|   511.4168608160232| 8.199924671641448|\n",
      "|    min|0000063a-a4ce-409...|5c5b350e01c7|5c5b350e0090|                 5|          1597089600|            -112.0|\n",
      "|    max|fffca7ff-4d2f-455...|d420b0c12660|d420b0c12660|                24|          1597092774|             -11.0|\n",
      "+-------+--------------------+------------+------------+------------------+--------------------+------------------+\n",
      "\n"
     ]
    }
   ],
   "source": [
    "df_scan.describe().show()"
   ]
  },
  {
   "cell_type": "code",
   "execution_count": 8,
   "metadata": {},
   "outputs": [
    {
     "data": {
      "text/plain": [
       "3555639"
      ]
     },
     "execution_count": 8,
     "metadata": {},
     "output_type": "execute_result"
    }
   ],
   "source": [
    "df_scan.count()"
   ]
  },
  {
   "cell_type": "code",
   "execution_count": 9,
   "metadata": {},
   "outputs": [],
   "source": [
    "site_id = \"d1ee1d22-4b55-4c97-97c4-9d757144f45b\""
   ]
  },
  {
   "cell_type": "code",
   "execution_count": 10,
   "metadata": {},
   "outputs": [],
   "source": [
    "df_scan_site = df_scan.filter(col('site')==site_id)"
   ]
  },
  {
   "cell_type": "code",
   "execution_count": 11,
   "metadata": {},
   "outputs": [
    {
     "data": {
      "text/plain": [
       "208"
      ]
     },
     "execution_count": 11,
     "metadata": {},
     "output_type": "execute_result"
    }
   ],
   "source": [
    "df_scan_site.count()"
   ]
  },
  {
   "cell_type": "code",
   "execution_count": 12,
   "metadata": {},
   "outputs": [
    {
     "name": "stdout",
     "output_type": "stream",
     "text": [
      "+--------------------+------------+------------+----+----------+-----+\n",
      "|                site|          ap|         ap2|band|time_epoch| rssi|\n",
      "+--------------------+------------+------------+----+----------+-----+\n",
      "|d1ee1d22-4b55-4c9...|5c5b3552b70a|5c5b3552b796|   5|1597092480|-63.0|\n",
      "|d1ee1d22-4b55-4c9...|5c5b3552b94e|5c5b3552b70a|   5|1597092474|-63.0|\n",
      "|d1ee1d22-4b55-4c9...|5c5b3552c2fe|5c5b3552ba70|  24|1597092505|-67.0|\n",
      "|d1ee1d22-4b55-4c9...|5c5b3552b660|5c5b3552b5e3|   5|1597092465|-58.0|\n",
      "|d1ee1d22-4b55-4c9...|5c5b3552b94e|5c5b3552b5e3|  24|1597092474|-46.0|\n",
      "|d1ee1d22-4b55-4c9...|5c5b3552b660|5c5b3552c2bd|  24|1597092465|-53.0|\n",
      "|d1ee1d22-4b55-4c9...|5c5b3552c2bd|5c5b3552bb6f|  24|1597092504|-69.0|\n",
      "|d1ee1d22-4b55-4c9...|5c5b3552b714|5c5b3552b94e|   5|1597092466|-58.0|\n",
      "|d1ee1d22-4b55-4c9...|5c5b3552b94e|5c5b3552c2bd|  24|1597092474|-49.0|\n",
      "|d1ee1d22-4b55-4c9...|5c5b3552b5e3|5c5b3552b7cd|  24|1597092476|-46.0|\n",
      "|d1ee1d22-4b55-4c9...|5c5b3552b7cd|5c5b3552b94e|  24|1597092477|-57.0|\n",
      "|d1ee1d22-4b55-4c9...|5c5b3552ba70|5c5b3552c2bd|  24|1597092467|-40.0|\n",
      "|d1ee1d22-4b55-4c9...|5c5b3552b5e3|5c5b3552b7cd|   5|1597092476|-62.0|\n",
      "|d1ee1d22-4b55-4c9...|5c5b3552b660|5c5b3552b70a|  24|1597092465|-58.0|\n",
      "|d1ee1d22-4b55-4c9...|5c5b3552b70a|5c5b3552b660|   5|1597092480|-58.0|\n",
      "|d1ee1d22-4b55-4c9...|5c5b3552b796|5c5b3552b714|  24|1597092505|-49.0|\n",
      "|d1ee1d22-4b55-4c9...|5c5b3552ba70|5c5b3552b714|   5|1597092467|-68.0|\n",
      "|d1ee1d22-4b55-4c9...|5c5b3552b660|5c5b3552b94e|   5|1597092465|-61.0|\n",
      "|d1ee1d22-4b55-4c9...|5c5b3552c2bd|5c5b3552b5e3|   5|1597092504|-62.0|\n",
      "|d1ee1d22-4b55-4c9...|5c5b3552b660|5c5b3552b714|   5|1597092465|-63.0|\n",
      "+--------------------+------------+------------+----+----------+-----+\n",
      "only showing top 20 rows\n",
      "\n"
     ]
    }
   ],
   "source": [
    "df_scan_site.show()"
   ]
  },
  {
   "cell_type": "code",
   "execution_count": null,
   "metadata": {},
   "outputs": [],
   "source": []
  },
  {
   "cell_type": "markdown",
   "metadata": {},
   "source": [
    "# GraphFrames\n",
    "The following command creates your first GraphFrame. The GraphFrame accepts two DataFrames as inputs—vertices and edges. GraphFrames like to have a naming convention in the column name, which you need to follow. Those rules are defined as follows:\n",
    "* A DataFrame that represents vertices should contain a column named id. Here, personsDf contains a column name \"id\".\n",
    "\n",
    "* A DataFrame that represents edges should contain columns named src and dst. Here, reationshipDf contains the columns \"src\" and \"dst\"."
   ]
  },
  {
   "cell_type": "code",
   "execution_count": 13,
   "metadata": {},
   "outputs": [],
   "source": [
    "vertices= df_scan_site.selectExpr(\"ap as id\").distinct()"
   ]
  },
  {
   "cell_type": "code",
   "execution_count": 14,
   "metadata": {},
   "outputs": [],
   "source": [
    "edges=df_scan_site.selectExpr(\"ap as src\", \"ap2 as dst\", \"rssi as weight\")"
   ]
  },
  {
   "cell_type": "code",
   "execution_count": 15,
   "metadata": {},
   "outputs": [],
   "source": [
    "from graphframes import *\n",
    "g = GraphFrame(vertices, edges)"
   ]
  },
  {
   "cell_type": "code",
   "execution_count": 16,
   "metadata": {},
   "outputs": [
    {
     "name": "stdout",
     "output_type": "stream",
     "text": [
      "+------------+\n",
      "|          id|\n",
      "+------------+\n",
      "|5c5b3552c2fe|\n",
      "|5c5b3552b796|\n",
      "|5c5b3552ba70|\n",
      "|d420b000a866|\n",
      "|5c5b3552c2bd|\n",
      "|5c5b3552bb6f|\n",
      "|5c5b3552b70a|\n",
      "|5c5b3552b714|\n",
      "|5c5b3552b94e|\n",
      "|5c5b3552b5e3|\n",
      "|5c5b3552b7cd|\n",
      "|5c5b3552b660|\n",
      "+------------+\n",
      "\n",
      "+------------+------------+------+\n",
      "|         src|         dst|weight|\n",
      "+------------+------------+------+\n",
      "|5c5b3552b70a|5c5b3552b796| -63.0|\n",
      "|5c5b3552b94e|5c5b3552b70a| -63.0|\n",
      "|5c5b3552c2fe|5c5b3552ba70| -67.0|\n",
      "|5c5b3552b660|5c5b3552b5e3| -58.0|\n",
      "|5c5b3552b94e|5c5b3552b5e3| -46.0|\n",
      "|5c5b3552b660|5c5b3552c2bd| -53.0|\n",
      "|5c5b3552c2bd|5c5b3552bb6f| -69.0|\n",
      "|5c5b3552b714|5c5b3552b94e| -58.0|\n",
      "|5c5b3552b94e|5c5b3552c2bd| -49.0|\n",
      "|5c5b3552b5e3|5c5b3552b7cd| -46.0|\n",
      "|5c5b3552b7cd|5c5b3552b94e| -57.0|\n",
      "|5c5b3552ba70|5c5b3552c2bd| -40.0|\n",
      "|5c5b3552b5e3|5c5b3552b7cd| -62.0|\n",
      "|5c5b3552b660|5c5b3552b70a| -58.0|\n",
      "|5c5b3552b70a|5c5b3552b660| -58.0|\n",
      "|5c5b3552b796|5c5b3552b714| -49.0|\n",
      "|5c5b3552ba70|5c5b3552b714| -68.0|\n",
      "|5c5b3552b660|5c5b3552b94e| -61.0|\n",
      "|5c5b3552c2bd|5c5b3552b5e3| -62.0|\n",
      "|5c5b3552b660|5c5b3552b714| -63.0|\n",
      "+------------+------------+------+\n",
      "only showing top 20 rows\n",
      "\n",
      "+------------+------+\n",
      "|          id|degree|\n",
      "+------------+------+\n",
      "|5c5b3552c2fe|    19|\n",
      "|5c5b3552b796|    36|\n",
      "|        null|    24|\n",
      "|5c5b3552ba70|    40|\n",
      "|d420b000a866|     9|\n",
      "|5c5b3552c2bd|    37|\n",
      "|5c5b3552bb6f|    21|\n",
      "|5c5b3552b70a|    35|\n",
      "|5c5b3552b714|    34|\n",
      "|5c5b3552b94e|    37|\n",
      "|5c5b3552b5e3|    43|\n",
      "|5c5b3552b7cd|    41|\n",
      "|5c5b3552b660|    40|\n",
      "+------------+------+\n",
      "\n"
     ]
    }
   ],
   "source": [
    "g.vertices.show()\n",
    "g.edges.show()\n",
    "## Check the number of edges of each vertex\n",
    "g.degrees.show()"
   ]
  },
  {
   "cell_type": "code",
   "execution_count": 17,
   "metadata": {},
   "outputs": [
    {
     "data": {
      "text/plain": [
       "GraphFrame(v:[id: string], e:[src: string, dst: string ... 1 more field])"
      ]
     },
     "metadata": {},
     "output_type": "display_data"
    }
   ],
   "source": [
    "display(g)"
   ]
  },
  {
   "cell_type": "code",
   "execution_count": 18,
   "metadata": {},
   "outputs": [
    {
     "name": "stdout",
     "output_type": "stream",
     "text": [
      "+------------+------+\n",
      "|          id|degree|\n",
      "+------------+------+\n",
      "|5c5b3552b5e3|    43|\n",
      "+------------+------+\n",
      "\n"
     ]
    }
   ],
   "source": [
    "# The following code gets the number of incoming links to Andrew. This is obtained by calling the inDegrees method.\n",
    "\n",
    "g.degrees.filter(\"id = '5c5b3552b5e3'\").show()"
   ]
  },
  {
   "cell_type": "code",
   "execution_count": 19,
   "metadata": {},
   "outputs": [
    {
     "name": "stdout",
     "output_type": "stream",
     "text": [
      "+------------+---------+\n",
      "|          id|outDegree|\n",
      "+------------+---------+\n",
      "|5c5b3552b5e3|       21|\n",
      "+------------+---------+\n",
      "\n"
     ]
    }
   ],
   "source": [
    "# The following code shows how to get the number of links coming out from Andrew using the outDegrees method .\n",
    "\n",
    "g.outDegrees.filter(\"id = '5c5b3552b5e3'\").show()\n"
   ]
  },
  {
   "cell_type": "code",
   "execution_count": null,
   "metadata": {},
   "outputs": [],
   "source": []
  },
  {
   "cell_type": "code",
   "execution_count": null,
   "metadata": {},
   "outputs": [],
   "source": []
  },
  {
   "cell_type": "code",
   "execution_count": 20,
   "metadata": {},
   "outputs": [],
   "source": [
    "sc.setCheckpointDir('graphframes_cps')\n"
   ]
  },
  {
   "cell_type": "code",
   "execution_count": null,
   "metadata": {},
   "outputs": [],
   "source": []
  },
  {
   "cell_type": "code",
   "execution_count": 21,
   "metadata": {},
   "outputs": [],
   "source": [
    "ranks = g.pageRank(resetProbability=0.10, maxIter=5)\n",
    "# display(ranks.vertices.select(\"id\",\"pagerank\").orderBy(desc(\"pagerank\")))\n"
   ]
  },
  {
   "cell_type": "code",
   "execution_count": 22,
   "metadata": {},
   "outputs": [
    {
     "data": {
      "text/plain": [
       "DataFrame[id: string, pagerank: double]"
      ]
     },
     "metadata": {},
     "output_type": "display_data"
    },
    {
     "data": {
      "text/plain": [
       "DataFrame[src: string, dst: string, weight: double, weight: double]"
      ]
     },
     "metadata": {},
     "output_type": "display_data"
    }
   ],
   "source": [
    "display(ranks.vertices)\n",
    "display(ranks.edges)"
   ]
  },
  {
   "cell_type": "code",
   "execution_count": 23,
   "metadata": {},
   "outputs": [
    {
     "name": "stdout",
     "output_type": "stream",
     "text": [
      "+------------+\n",
      "|          id|\n",
      "+------------+\n",
      "|5c5b3552c2fe|\n",
      "|5c5b3552b796|\n",
      "|5c5b3552ba70|\n",
      "|d420b000a866|\n",
      "|5c5b3552c2bd|\n",
      "|5c5b3552bb6f|\n",
      "|5c5b3552b70a|\n",
      "|5c5b3552b714|\n",
      "|5c5b3552b94e|\n",
      "|5c5b3552b5e3|\n",
      "|5c5b3552b7cd|\n",
      "|5c5b3552b660|\n",
      "+------------+\n",
      "\n"
     ]
    }
   ],
   "source": [
    "vertices.show()"
   ]
  },
  {
   "cell_type": "code",
   "execution_count": 32,
   "metadata": {},
   "outputs": [],
   "source": [
    "# vertices.show()\n",
    "# xap_s"
   ]
  },
  {
   "cell_type": "code",
   "execution_count": null,
   "metadata": {},
   "outputs": [],
   "source": []
  },
  {
   "cell_type": "raw",
   "metadata": {},
   "source": []
  },
  {
   "cell_type": "raw",
   "metadata": {},
   "source": [
    "v"
   ]
  },
  {
   "cell_type": "code",
   "execution_count": 36,
   "metadata": {},
   "outputs": [],
   "source": [
    "# Search from \"Esther\" for users of age < 32.\n",
    "\n",
    "# ap1 = \"5c5b3552b96c\"\n",
    "# ap2 = \"5c5b3552b5e3\"\n",
    "# paths = g.bfs(\"id = ap1\", \"id = ap2\")\n",
    "# paths.show()\n",
    "\n",
    "# # Specify edge filters or max path lengths.\n",
    "# g.bfs(\"id = ap1\", \"id = ap2\",\\\n",
    "#   edgeFilter=\"rssi > -75\", maxPathLength=3)\n"
   ]
  },
  {
   "cell_type": "code",
   "execution_count": null,
   "metadata": {},
   "outputs": [],
   "source": []
  },
  {
   "cell_type": "code",
   "execution_count": 25,
   "metadata": {},
   "outputs": [
    {
     "name": "stdout",
     "output_type": "stream",
     "text": [
      "+------------+------------+\n",
      "|          id|   component|\n",
      "+------------+------------+\n",
      "|5c5b3552b714|249108103168|\n",
      "|5c5b3552b660|249108103168|\n",
      "|5c5b3552b796|249108103168|\n",
      "|5c5b3552b7cd|249108103168|\n",
      "|5c5b3552c2bd|249108103168|\n",
      "|5c5b3552b70a|249108103168|\n",
      "|5c5b3552c2fe|249108103168|\n",
      "|5c5b3552b94e|249108103168|\n",
      "|5c5b3552b5e3|249108103168|\n",
      "|5c5b3552bb6f|249108103168|\n",
      "|5c5b3552ba70|249108103168|\n",
      "|d420b000a866|558345748480|\n",
      "+------------+------------+\n",
      "\n"
     ]
    }
   ],
   "source": [
    "# g.connectedComponents()\n",
    "\n",
    "result1 = g.stronglyConnectedComponents(maxIter=10)\n",
    "result1.select(\"id\", \"component\").orderBy(\"component\").show()"
   ]
  },
  {
   "cell_type": "code",
   "execution_count": 26,
   "metadata": {},
   "outputs": [],
   "source": [
    "# result1."
   ]
  },
  {
   "cell_type": "code",
   "execution_count": null,
   "metadata": {},
   "outputs": [],
   "source": []
  },
  {
   "cell_type": "code",
   "execution_count": 27,
   "metadata": {},
   "outputs": [
    {
     "name": "stdout",
     "output_type": "stream",
     "text": [
      "+------------+------------+\n",
      "|          id|   component|\n",
      "+------------+------------+\n",
      "|5c5b3552b714|249108103168|\n",
      "|5c5b3552b796|249108103168|\n",
      "|5c5b3552c2bd|249108103168|\n",
      "|5c5b3552b660|249108103168|\n",
      "|5c5b3552b7cd|249108103168|\n",
      "|5c5b3552b70a|249108103168|\n",
      "|5c5b3552b94e|249108103168|\n",
      "|5c5b3552c2fe|249108103168|\n",
      "|5c5b3552b5e3|249108103168|\n",
      "|5c5b3552ba70|249108103168|\n",
      "|5c5b3552bb6f|249108103168|\n",
      "|d420b000a866|558345748480|\n",
      "+------------+------------+\n",
      "\n"
     ]
    }
   ],
   "source": [
    "result2 = g.stronglyConnectedComponents(maxIter=10)\n",
    "result2.select(\"id\", \"component\").orderBy(\"component\").show()"
   ]
  },
  {
   "cell_type": "code",
   "execution_count": 28,
   "metadata": {},
   "outputs": [
    {
     "data": {
      "text/plain": [
       "DataFrame[id: string, component: bigint]"
      ]
     },
     "execution_count": 28,
     "metadata": {},
     "output_type": "execute_result"
    }
   ],
   "source": [
    "result2"
   ]
  },
  {
   "cell_type": "code",
   "execution_count": null,
   "metadata": {},
   "outputs": [],
   "source": []
  },
  {
   "cell_type": "code",
   "execution_count": 29,
   "metadata": {},
   "outputs": [
    {
     "data": {
      "text/plain": [
       "'2020-08-1020'"
      ]
     },
     "execution_count": 29,
     "metadata": {},
     "output_type": "execute_result"
    }
   ],
   "source": [
    "date_day + hr"
   ]
  },
  {
   "cell_type": "code",
   "execution_count": 30,
   "metadata": {},
   "outputs": [
    {
     "name": "stdout",
     "output_type": "stream",
     "text": [
      "s3://mist-test-bucket/ s3://mist-test-bucket/\n"
     ]
    },
    {
     "ename": "AnalysisException",
     "evalue": "'path s3://mist-test-bucket/ already exists.;'",
     "output_type": "error",
     "traceback": [
      "\u001b[0;31m---------------------------------------------------------------------------\u001b[0m",
      "\u001b[0;31mPy4JJavaError\u001b[0m                             Traceback (most recent call last)",
      "\u001b[0;32m/opt/mistsys/ds_incubator/venv/spark-2.4.4-bin-without-hadoop/python/pyspark/sql/utils.py\u001b[0m in \u001b[0;36mdeco\u001b[0;34m(*a, **kw)\u001b[0m\n\u001b[1;32m     62\u001b[0m         \u001b[0;32mtry\u001b[0m\u001b[0;34m:\u001b[0m\u001b[0;34m\u001b[0m\u001b[0;34m\u001b[0m\u001b[0m\n\u001b[0;32m---> 63\u001b[0;31m             \u001b[0;32mreturn\u001b[0m \u001b[0mf\u001b[0m\u001b[0;34m(\u001b[0m\u001b[0;34m*\u001b[0m\u001b[0ma\u001b[0m\u001b[0;34m,\u001b[0m \u001b[0;34m**\u001b[0m\u001b[0mkw\u001b[0m\u001b[0;34m)\u001b[0m\u001b[0;34m\u001b[0m\u001b[0;34m\u001b[0m\u001b[0m\n\u001b[0m\u001b[1;32m     64\u001b[0m         \u001b[0;32mexcept\u001b[0m \u001b[0mpy4j\u001b[0m\u001b[0;34m.\u001b[0m\u001b[0mprotocol\u001b[0m\u001b[0;34m.\u001b[0m\u001b[0mPy4JJavaError\u001b[0m \u001b[0;32mas\u001b[0m \u001b[0me\u001b[0m\u001b[0;34m:\u001b[0m\u001b[0;34m\u001b[0m\u001b[0;34m\u001b[0m\u001b[0m\n",
      "\u001b[0;32m/opt/mistsys/ds_incubator/venv/spark-2.4.4-bin-without-hadoop/python/lib/py4j-0.10.7-src.zip/py4j/protocol.py\u001b[0m in \u001b[0;36mget_return_value\u001b[0;34m(answer, gateway_client, target_id, name)\u001b[0m\n\u001b[1;32m    327\u001b[0m                     \u001b[0;34m\"An error occurred while calling {0}{1}{2}.\\n\"\u001b[0m\u001b[0;34m.\u001b[0m\u001b[0;34m\u001b[0m\u001b[0;34m\u001b[0m\u001b[0m\n\u001b[0;32m--> 328\u001b[0;31m                     format(target_id, \".\", name), value)\n\u001b[0m\u001b[1;32m    329\u001b[0m             \u001b[0;32melse\u001b[0m\u001b[0;34m:\u001b[0m\u001b[0;34m\u001b[0m\u001b[0;34m\u001b[0m\u001b[0m\n",
      "\u001b[0;31mPy4JJavaError\u001b[0m: An error occurred while calling o124.parquet.\n: org.apache.spark.sql.AnalysisException: path s3://mist-test-bucket/ already exists.;\n\tat org.apache.spark.sql.execution.datasources.InsertIntoHadoopFsRelationCommand.run(InsertIntoHadoopFsRelationCommand.scala:114)\n\tat org.apache.spark.sql.execution.command.DataWritingCommandExec.sideEffectResult$lzycompute(commands.scala:104)\n\tat org.apache.spark.sql.execution.command.DataWritingCommandExec.sideEffectResult(commands.scala:102)\n\tat org.apache.spark.sql.execution.command.DataWritingCommandExec.doExecute(commands.scala:122)\n\tat org.apache.spark.sql.execution.SparkPlan$$anonfun$execute$1.apply(SparkPlan.scala:131)\n\tat org.apache.spark.sql.execution.SparkPlan$$anonfun$execute$1.apply(SparkPlan.scala:127)\n\tat org.apache.spark.sql.execution.SparkPlan$$anonfun$executeQuery$1.apply(SparkPlan.scala:155)\n\tat org.apache.spark.rdd.RDDOperationScope$.withScope(RDDOperationScope.scala:151)\n\tat org.apache.spark.sql.execution.SparkPlan.executeQuery(SparkPlan.scala:152)\n\tat org.apache.spark.sql.execution.SparkPlan.execute(SparkPlan.scala:127)\n\tat org.apache.spark.sql.execution.QueryExecution.toRdd$lzycompute(QueryExecution.scala:80)\n\tat org.apache.spark.sql.execution.QueryExecution.toRdd(QueryExecution.scala:80)\n\tat org.apache.spark.sql.DataFrameWriter$$anonfun$runCommand$1.apply(DataFrameWriter.scala:676)\n\tat org.apache.spark.sql.DataFrameWriter$$anonfun$runCommand$1.apply(DataFrameWriter.scala:676)\n\tat org.apache.spark.sql.execution.SQLExecution$$anonfun$withNewExecutionId$1.apply(SQLExecution.scala:78)\n\tat org.apache.spark.sql.execution.SQLExecution$.withSQLConfPropagated(SQLExecution.scala:125)\n\tat org.apache.spark.sql.execution.SQLExecution$.withNewExecutionId(SQLExecution.scala:73)\n\tat org.apache.spark.sql.DataFrameWriter.runCommand(DataFrameWriter.scala:676)\n\tat org.apache.spark.sql.DataFrameWriter.saveToV1Source(DataFrameWriter.scala:285)\n\tat org.apache.spark.sql.DataFrameWriter.save(DataFrameWriter.scala:271)\n\tat org.apache.spark.sql.DataFrameWriter.save(DataFrameWriter.scala:229)\n\tat org.apache.spark.sql.DataFrameWriter.parquet(DataFrameWriter.scala:566)\n\tat sun.reflect.NativeMethodAccessorImpl.invoke0(Native Method)\n\tat sun.reflect.NativeMethodAccessorImpl.invoke(NativeMethodAccessorImpl.java:62)\n\tat sun.reflect.DelegatingMethodAccessorImpl.invoke(DelegatingMethodAccessorImpl.java:43)\n\tat java.lang.reflect.Method.invoke(Method.java:498)\n\tat py4j.reflection.MethodInvoker.invoke(MethodInvoker.java:244)\n\tat py4j.reflection.ReflectionEngine.invoke(ReflectionEngine.java:357)\n\tat py4j.Gateway.invoke(Gateway.java:282)\n\tat py4j.commands.AbstractCommand.invokeMethod(AbstractCommand.java:132)\n\tat py4j.commands.CallCommand.execute(CallCommand.java:79)\n\tat py4j.GatewayConnection.run(GatewayConnection.java:238)\n\tat java.lang.Thread.run(Thread.java:748)\n",
      "\nDuring handling of the above exception, another exception occurred:\n",
      "\u001b[0;31mAnalysisException\u001b[0m                         Traceback (most recent call last)",
      "\u001b[0;32m<ipython-input-30-8d8f4c0f296f>\u001b[0m in \u001b[0;36m<module>\u001b[0;34m\u001b[0m\n\u001b[1;32m      4\u001b[0m \u001b[0;34m\u001b[0m\u001b[0m\n\u001b[1;32m      5\u001b[0m \u001b[0mprint\u001b[0m\u001b[0;34m(\u001b[0m\u001b[0ms3_out_bucket_vertices\u001b[0m\u001b[0;34m,\u001b[0m \u001b[0ms3_out_bucket_edges\u001b[0m\u001b[0;34m)\u001b[0m\u001b[0;34m\u001b[0m\u001b[0;34m\u001b[0m\u001b[0m\n\u001b[0;32m----> 6\u001b[0;31m \u001b[0mg\u001b[0m\u001b[0;34m.\u001b[0m\u001b[0mvertices\u001b[0m\u001b[0;34m.\u001b[0m\u001b[0mwrite\u001b[0m\u001b[0;34m.\u001b[0m\u001b[0mparquet\u001b[0m\u001b[0;34m(\u001b[0m\u001b[0ms3_out_bucket_vertices\u001b[0m\u001b[0;34m)\u001b[0m\u001b[0;34m\u001b[0m\u001b[0;34m\u001b[0m\u001b[0m\n\u001b[0m\u001b[1;32m      7\u001b[0m \u001b[0mg\u001b[0m\u001b[0;34m.\u001b[0m\u001b[0medges\u001b[0m\u001b[0;34m.\u001b[0m\u001b[0mwrite\u001b[0m\u001b[0;34m.\u001b[0m\u001b[0mparquet\u001b[0m\u001b[0;34m(\u001b[0m\u001b[0ms3_out_bucket_vertices\u001b[0m\u001b[0;34m)\u001b[0m\u001b[0;34m\u001b[0m\u001b[0;34m\u001b[0m\u001b[0m\n\u001b[1;32m      8\u001b[0m \u001b[0;31m# s3_out_bucket\u001b[0m\u001b[0;34m\u001b[0m\u001b[0;34m\u001b[0m\u001b[0;34m\u001b[0m\u001b[0m\n",
      "\u001b[0;32m/opt/mistsys/ds_incubator/venv/spark-2.4.4-bin-without-hadoop/python/pyspark/sql/readwriter.py\u001b[0m in \u001b[0;36mparquet\u001b[0;34m(self, path, mode, partitionBy, compression)\u001b[0m\n\u001b[1;32m    841\u001b[0m             \u001b[0mself\u001b[0m\u001b[0;34m.\u001b[0m\u001b[0mpartitionBy\u001b[0m\u001b[0;34m(\u001b[0m\u001b[0mpartitionBy\u001b[0m\u001b[0;34m)\u001b[0m\u001b[0;34m\u001b[0m\u001b[0;34m\u001b[0m\u001b[0m\n\u001b[1;32m    842\u001b[0m         \u001b[0mself\u001b[0m\u001b[0;34m.\u001b[0m\u001b[0m_set_opts\u001b[0m\u001b[0;34m(\u001b[0m\u001b[0mcompression\u001b[0m\u001b[0;34m=\u001b[0m\u001b[0mcompression\u001b[0m\u001b[0;34m)\u001b[0m\u001b[0;34m\u001b[0m\u001b[0;34m\u001b[0m\u001b[0m\n\u001b[0;32m--> 843\u001b[0;31m         \u001b[0mself\u001b[0m\u001b[0;34m.\u001b[0m\u001b[0m_jwrite\u001b[0m\u001b[0;34m.\u001b[0m\u001b[0mparquet\u001b[0m\u001b[0;34m(\u001b[0m\u001b[0mpath\u001b[0m\u001b[0;34m)\u001b[0m\u001b[0;34m\u001b[0m\u001b[0;34m\u001b[0m\u001b[0m\n\u001b[0m\u001b[1;32m    844\u001b[0m \u001b[0;34m\u001b[0m\u001b[0m\n\u001b[1;32m    845\u001b[0m     \u001b[0;34m@\u001b[0m\u001b[0msince\u001b[0m\u001b[0;34m(\u001b[0m\u001b[0;36m1.6\u001b[0m\u001b[0;34m)\u001b[0m\u001b[0;34m\u001b[0m\u001b[0;34m\u001b[0m\u001b[0m\n",
      "\u001b[0;32m/opt/mistsys/ds_incubator/venv/spark-2.4.4-bin-without-hadoop/python/lib/py4j-0.10.7-src.zip/py4j/java_gateway.py\u001b[0m in \u001b[0;36m__call__\u001b[0;34m(self, *args)\u001b[0m\n\u001b[1;32m   1255\u001b[0m         \u001b[0manswer\u001b[0m \u001b[0;34m=\u001b[0m \u001b[0mself\u001b[0m\u001b[0;34m.\u001b[0m\u001b[0mgateway_client\u001b[0m\u001b[0;34m.\u001b[0m\u001b[0msend_command\u001b[0m\u001b[0;34m(\u001b[0m\u001b[0mcommand\u001b[0m\u001b[0;34m)\u001b[0m\u001b[0;34m\u001b[0m\u001b[0;34m\u001b[0m\u001b[0m\n\u001b[1;32m   1256\u001b[0m         return_value = get_return_value(\n\u001b[0;32m-> 1257\u001b[0;31m             answer, self.gateway_client, self.target_id, self.name)\n\u001b[0m\u001b[1;32m   1258\u001b[0m \u001b[0;34m\u001b[0m\u001b[0m\n\u001b[1;32m   1259\u001b[0m         \u001b[0;32mfor\u001b[0m \u001b[0mtemp_arg\u001b[0m \u001b[0;32min\u001b[0m \u001b[0mtemp_args\u001b[0m\u001b[0;34m:\u001b[0m\u001b[0;34m\u001b[0m\u001b[0;34m\u001b[0m\u001b[0m\n",
      "\u001b[0;32m/opt/mistsys/ds_incubator/venv/spark-2.4.4-bin-without-hadoop/python/pyspark/sql/utils.py\u001b[0m in \u001b[0;36mdeco\u001b[0;34m(*a, **kw)\u001b[0m\n\u001b[1;32m     67\u001b[0m                                              e.java_exception.getStackTrace()))\n\u001b[1;32m     68\u001b[0m             \u001b[0;32mif\u001b[0m \u001b[0ms\u001b[0m\u001b[0;34m.\u001b[0m\u001b[0mstartswith\u001b[0m\u001b[0;34m(\u001b[0m\u001b[0;34m'org.apache.spark.sql.AnalysisException: '\u001b[0m\u001b[0;34m)\u001b[0m\u001b[0;34m:\u001b[0m\u001b[0;34m\u001b[0m\u001b[0;34m\u001b[0m\u001b[0m\n\u001b[0;32m---> 69\u001b[0;31m                 \u001b[0;32mraise\u001b[0m \u001b[0mAnalysisException\u001b[0m\u001b[0;34m(\u001b[0m\u001b[0ms\u001b[0m\u001b[0;34m.\u001b[0m\u001b[0msplit\u001b[0m\u001b[0;34m(\u001b[0m\u001b[0;34m': '\u001b[0m\u001b[0;34m,\u001b[0m \u001b[0;36m1\u001b[0m\u001b[0;34m)\u001b[0m\u001b[0;34m[\u001b[0m\u001b[0;36m1\u001b[0m\u001b[0;34m]\u001b[0m\u001b[0;34m,\u001b[0m \u001b[0mstackTrace\u001b[0m\u001b[0;34m)\u001b[0m\u001b[0;34m\u001b[0m\u001b[0;34m\u001b[0m\u001b[0m\n\u001b[0m\u001b[1;32m     70\u001b[0m             \u001b[0;32mif\u001b[0m \u001b[0ms\u001b[0m\u001b[0;34m.\u001b[0m\u001b[0mstartswith\u001b[0m\u001b[0;34m(\u001b[0m\u001b[0;34m'org.apache.spark.sql.catalyst.analysis'\u001b[0m\u001b[0;34m)\u001b[0m\u001b[0;34m:\u001b[0m\u001b[0;34m\u001b[0m\u001b[0;34m\u001b[0m\u001b[0m\n\u001b[1;32m     71\u001b[0m                 \u001b[0;32mraise\u001b[0m \u001b[0mAnalysisException\u001b[0m\u001b[0;34m(\u001b[0m\u001b[0ms\u001b[0m\u001b[0;34m.\u001b[0m\u001b[0msplit\u001b[0m\u001b[0;34m(\u001b[0m\u001b[0;34m': '\u001b[0m\u001b[0;34m,\u001b[0m \u001b[0;36m1\u001b[0m\u001b[0;34m)\u001b[0m\u001b[0;34m[\u001b[0m\u001b[0;36m1\u001b[0m\u001b[0;34m]\u001b[0m\u001b[0;34m,\u001b[0m \u001b[0mstackTrace\u001b[0m\u001b[0;34m)\u001b[0m\u001b[0;34m\u001b[0m\u001b[0;34m\u001b[0m\u001b[0m\n",
      "\u001b[0;31mAnalysisException\u001b[0m: 'path s3://mist-test-bucket/ already exists.;'"
     ]
    }
   ],
   "source": [
    "s3_out_bucket = \"s3://mist-test-bucket/\" #top_1_time_epoch_by_site_ap_ap2_band/{}/{}/\".format(date_day, hr)\n",
    "s3_out_bucket_vertices = s3_out_bucket #+ \"vertices/\"\n",
    "s3_out_bucket_edges = s3_out_bucket #+ \"edges/\"\n",
    "\n",
    "print(s3_out_bucket_vertices, s3_out_bucket_edges)\n",
    "g.vertices.write.parquet(s3_out_bucket_vertices)\n",
    "g.edges.write.parquet(s3_out_bucket_vertices)\n",
    "# s3_out_bucket\n"
   ]
  },
  {
   "cell_type": "code",
   "execution_count": null,
   "metadata": {},
   "outputs": [],
   "source": [
    "# s3_out_bucket, rrm_local_path"
   ]
  },
  {
   "cell_type": "code",
   "execution_count": null,
   "metadata": {},
   "outputs": [],
   "source": [
    "import networkx as nx\n",
    "gp = nx.from_pandas_edgelist(edges.toPandas(),'src','dst')\n",
    "nx.draw(gp, with_labels = True)"
   ]
  },
  {
   "cell_type": "code",
   "execution_count": null,
   "metadata": {},
   "outputs": [],
   "source": []
  },
  {
   "cell_type": "code",
   "execution_count": null,
   "metadata": {},
   "outputs": [],
   "source": []
  },
  {
   "cell_type": "code",
   "execution_count": null,
   "metadata": {},
   "outputs": [],
   "source": []
  },
  {
   "cell_type": "code",
   "execution_count": null,
   "metadata": {},
   "outputs": [],
   "source": [
    "g.persist()"
   ]
  },
  {
   "cell_type": "code",
   "execution_count": null,
   "metadata": {},
   "outputs": [],
   "source": []
  },
  {
   "cell_type": "code",
   "execution_count": null,
   "metadata": {},
   "outputs": [],
   "source": [
    "# graph.degrees.filter(\"id = 1\").show()"
   ]
  },
  {
   "cell_type": "code",
   "execution_count": null,
   "metadata": {},
   "outputs": [],
   "source": [
    "# GraphFrame provides the following built-in algorithms:\n",
    "# Connected components\n",
    "\n",
    "# Label propagation\n",
    "\n",
    "# PageRank\n",
    "\n",
    "# SVD++\n",
    "\n",
    "# Shortest Path\n",
    "\n",
    "# Strongly connected components\n",
    "\n",
    "# Triangle count"
   ]
  },
  {
   "cell_type": "code",
   "execution_count": null,
   "metadata": {},
   "outputs": [],
   "source": []
  }
 ],
 "metadata": {
  "kernelspec": {
   "display_name": "Python 3",
   "language": "python",
   "name": "python3"
  },
  "language_info": {
   "codemirror_mode": {
    "name": "ipython",
    "version": 3
   },
   "file_extension": ".py",
   "mimetype": "text/x-python",
   "name": "python",
   "nbconvert_exporter": "python",
   "pygments_lexer": "ipython3",
   "version": "3.7.4"
  }
 },
 "nbformat": 4,
 "nbformat_minor": 4
}
