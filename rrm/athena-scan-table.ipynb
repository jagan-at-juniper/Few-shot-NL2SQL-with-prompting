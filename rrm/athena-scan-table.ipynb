{
 "cells": [
  {
   "cell_type": "code",
   "execution_count": 6,
   "metadata": {},
   "outputs": [
    {
     "name": "stdout",
     "output_type": "stream",
     "text": [
      "/opt/mistsys/ds_incubator/src\n"
     ]
    }
   ],
   "source": [
    "import sys\n",
    "import os\n",
    "\n",
    "\n",
    "dirname = os.path.realpath(\"../src\") #os.path.dirname(os.path.realpath(\"../AP/\"))\n",
    "print(dirname)\n",
    "if dirname not in sys.path:\n",
    "    sys.path.insert(0, dirname )\n",
    "#sys.path.insert(0, \"/Users/wenfengwang/go/src/github.com/mistsys/mist-topologies/resource/resources/mist-rrm-exp\")\n",
    "#print sys.path\n",
    "\n",
    "\n",
    "import time\n",
    "import boto3\n",
    "from botocore.exceptions import ClientError\n",
    "\n",
    "#import boto_utils\n",
    "\n",
    "def run_query(query, database, s3_output):\n",
    "    client = boto3.client('athena')\n",
    "    response = client.start_query_execution(\n",
    "        QueryString=query,\n",
    "        QueryExecutionContext={\n",
    "            'Database': database\n",
    "        },\n",
    "        ResultConfiguration={\n",
    "            'OutputLocation': 's3://mist-{ENV}-athena/results/'.format(ENV=env)\n",
    "        }\n",
    "    )\n",
    "    # print('Execution ID: ' + response['QueryExecutionId'])\n",
    "    print(response)\n",
    "    return response\n"
   ]
  },
  {
   "cell_type": "code",
   "execution_count": 7,
   "metadata": {},
   "outputs": [
    {
     "name": "stdout",
     "output_type": "stream",
     "text": [
      "Requirement already satisfied: boto3 in /opt/mistsys/ds_incubator/venv/lib/python3.7/site-packages (1.12.21)\n",
      "Requirement already satisfied: s3transfer<0.4.0,>=0.3.0 in /opt/mistsys/ds_incubator/venv/lib/python3.7/site-packages (from boto3) (0.3.3)\n",
      "Requirement already satisfied: botocore<1.16.0,>=1.15.21 in /opt/mistsys/ds_incubator/venv/lib/python3.7/site-packages (from boto3) (1.15.21)\n",
      "Requirement already satisfied: jmespath<1.0.0,>=0.7.1 in /opt/mistsys/ds_incubator/venv/lib/python3.7/site-packages (from boto3) (0.9.5)\n",
      "Requirement already satisfied: docutils<0.16,>=0.10 in /opt/mistsys/ds_incubator/venv/lib/python3.7/site-packages (from botocore<1.16.0,>=1.15.21->boto3) (0.15.2)\n",
      "Requirement already satisfied: urllib3<1.26,>=1.20; python_version != \"3.4\" in /opt/mistsys/ds_incubator/venv/lib/python3.7/site-packages (from botocore<1.16.0,>=1.15.21->boto3) (1.25.8)\n",
      "Requirement already satisfied: python-dateutil<3.0.0,>=2.1 in /opt/mistsys/ds_incubator/venv/lib/python3.7/site-packages (from botocore<1.16.0,>=1.15.21->boto3) (2.8.1)\n",
      "Requirement already satisfied: six>=1.5 in /opt/mistsys/ds_incubator/venv/lib/python3.7/site-packages (from python-dateutil<3.0.0,>=2.1->botocore<1.16.0,>=1.15.21->boto3) (1.14.0)\n"
     ]
    }
   ],
   "source": [
    "!pip install boto3"
   ]
  },
  {
   "cell_type": "code",
   "execution_count": 8,
   "metadata": {},
   "outputs": [
    {
     "name": "stdout",
     "output_type": "stream",
     "text": [
      "download_path = ./../downloads/\n"
     ]
    }
   ],
   "source": [
    "env = 'staging'\n",
    "env = \"production\"\n",
    "\n",
    "database = 'secorapp-{ENV}'.format(ENV=env)\n",
    "table = 'cv_ap_scans'\n",
    "# table = 'rrm_apscan'\n",
    "\n",
    "bucket = 'mist-{ENV}-athena'.format(ENV=env)\n",
    "s3_ouput = 's3://%s/results/' % bucket\n",
    "download_path = os.curdir + '/../downloads/'\n",
    "print(\"download_path = {}\".format(download_path))"
   ]
  },
  {
   "cell_type": "code",
   "execution_count": 9,
   "metadata": {},
   "outputs": [
    {
     "name": "stdout",
     "output_type": "stream",
     "text": [
      "SELECT * FROM \"secorapp-{ENV}\".\"{TABLE}\" \n",
      "where site='{SITE}' and band='{BAND}'.format(ENV=env,TABLE=table,SITE=site, BAND=band)\n",
      "\n"
     ]
    },
    {
     "ename": "NoRegionError",
     "evalue": "You must specify a region.",
     "output_type": "error",
     "traceback": [
      "\u001b[0;31m---------------------------------------------------------------------------\u001b[0m",
      "\u001b[0;31mNoRegionError\u001b[0m                             Traceback (most recent call last)",
      "\u001b[0;32m<ipython-input-9-fabd30ce4394>\u001b[0m in \u001b[0;36m<module>\u001b[0;34m\u001b[0m\n\u001b[1;32m     13\u001b[0m \u001b[0mprint\u001b[0m\u001b[0;34m(\u001b[0m\u001b[0mquery\u001b[0m\u001b[0;34m)\u001b[0m\u001b[0;34m\u001b[0m\u001b[0;34m\u001b[0m\u001b[0m\n\u001b[1;32m     14\u001b[0m \u001b[0;34m\u001b[0m\u001b[0m\n\u001b[0;32m---> 15\u001b[0;31m \u001b[0mresponse\u001b[0m \u001b[0;34m=\u001b[0m \u001b[0mrun_query\u001b[0m\u001b[0;34m(\u001b[0m\u001b[0mquery\u001b[0m\u001b[0;34m,\u001b[0m \u001b[0mdatabase\u001b[0m\u001b[0;34m,\u001b[0m \u001b[0ms3_ouput\u001b[0m\u001b[0;34m)\u001b[0m\u001b[0;34m\u001b[0m\u001b[0;34m\u001b[0m\u001b[0m\n\u001b[0m\u001b[1;32m     16\u001b[0m \u001b[0;34m\u001b[0m\u001b[0m\n\u001b[1;32m     17\u001b[0m \u001b[0;32mif\u001b[0m \u001b[0mresponse\u001b[0m\u001b[0;34m.\u001b[0m\u001b[0mget\u001b[0m\u001b[0;34m(\u001b[0m\u001b[0;34m'ResponseMetadata'\u001b[0m\u001b[0;34m)\u001b[0m\u001b[0;34m.\u001b[0m\u001b[0mget\u001b[0m\u001b[0;34m(\u001b[0m\u001b[0;34m'HTTPStatusCode'\u001b[0m\u001b[0;34m)\u001b[0m \u001b[0;34m==\u001b[0m \u001b[0;36m200\u001b[0m\u001b[0;34m:\u001b[0m\u001b[0;34m\u001b[0m\u001b[0;34m\u001b[0m\u001b[0m\n",
      "\u001b[0;32m<ipython-input-6-c885f55f9eae>\u001b[0m in \u001b[0;36mrun_query\u001b[0;34m(query, database, s3_output)\u001b[0m\n\u001b[1;32m     18\u001b[0m \u001b[0;34m\u001b[0m\u001b[0m\n\u001b[1;32m     19\u001b[0m \u001b[0;32mdef\u001b[0m \u001b[0mrun_query\u001b[0m\u001b[0;34m(\u001b[0m\u001b[0mquery\u001b[0m\u001b[0;34m,\u001b[0m \u001b[0mdatabase\u001b[0m\u001b[0;34m,\u001b[0m \u001b[0ms3_output\u001b[0m\u001b[0;34m)\u001b[0m\u001b[0;34m:\u001b[0m\u001b[0;34m\u001b[0m\u001b[0;34m\u001b[0m\u001b[0m\n\u001b[0;32m---> 20\u001b[0;31m     \u001b[0mclient\u001b[0m \u001b[0;34m=\u001b[0m \u001b[0mboto3\u001b[0m\u001b[0;34m.\u001b[0m\u001b[0mclient\u001b[0m\u001b[0;34m(\u001b[0m\u001b[0;34m'athena'\u001b[0m\u001b[0;34m)\u001b[0m\u001b[0;34m\u001b[0m\u001b[0;34m\u001b[0m\u001b[0m\n\u001b[0m\u001b[1;32m     21\u001b[0m     response = client.start_query_execution(\n\u001b[1;32m     22\u001b[0m         \u001b[0mQueryString\u001b[0m\u001b[0;34m=\u001b[0m\u001b[0mquery\u001b[0m\u001b[0;34m,\u001b[0m\u001b[0;34m\u001b[0m\u001b[0;34m\u001b[0m\u001b[0m\n",
      "\u001b[0;32m/opt/mistsys/ds_incubator/venv/lib/python3.7/site-packages/boto3/__init__.py\u001b[0m in \u001b[0;36mclient\u001b[0;34m(*args, **kwargs)\u001b[0m\n\u001b[1;32m     89\u001b[0m     \u001b[0mSee\u001b[0m \u001b[0;34m:\u001b[0m\u001b[0mpy\u001b[0m\u001b[0;34m:\u001b[0m\u001b[0mmeth\u001b[0m\u001b[0;34m:\u001b[0m\u001b[0;31m`\u001b[0m\u001b[0mboto3\u001b[0m\u001b[0;34m.\u001b[0m\u001b[0msession\u001b[0m\u001b[0;34m.\u001b[0m\u001b[0mSession\u001b[0m\u001b[0;34m.\u001b[0m\u001b[0mclient\u001b[0m\u001b[0;31m`\u001b[0m\u001b[0;34m.\u001b[0m\u001b[0;34m\u001b[0m\u001b[0;34m\u001b[0m\u001b[0m\n\u001b[1;32m     90\u001b[0m     \"\"\"\n\u001b[0;32m---> 91\u001b[0;31m     \u001b[0;32mreturn\u001b[0m \u001b[0m_get_default_session\u001b[0m\u001b[0;34m(\u001b[0m\u001b[0;34m)\u001b[0m\u001b[0;34m.\u001b[0m\u001b[0mclient\u001b[0m\u001b[0;34m(\u001b[0m\u001b[0;34m*\u001b[0m\u001b[0margs\u001b[0m\u001b[0;34m,\u001b[0m \u001b[0;34m**\u001b[0m\u001b[0mkwargs\u001b[0m\u001b[0;34m)\u001b[0m\u001b[0;34m\u001b[0m\u001b[0;34m\u001b[0m\u001b[0m\n\u001b[0m\u001b[1;32m     92\u001b[0m \u001b[0;34m\u001b[0m\u001b[0m\n\u001b[1;32m     93\u001b[0m \u001b[0;34m\u001b[0m\u001b[0m\n",
      "\u001b[0;32m/opt/mistsys/ds_incubator/venv/lib/python3.7/site-packages/boto3/session.py\u001b[0m in \u001b[0;36mclient\u001b[0;34m(self, service_name, region_name, api_version, use_ssl, verify, endpoint_url, aws_access_key_id, aws_secret_access_key, aws_session_token, config)\u001b[0m\n\u001b[1;32m    261\u001b[0m             \u001b[0maws_access_key_id\u001b[0m\u001b[0;34m=\u001b[0m\u001b[0maws_access_key_id\u001b[0m\u001b[0;34m,\u001b[0m\u001b[0;34m\u001b[0m\u001b[0;34m\u001b[0m\u001b[0m\n\u001b[1;32m    262\u001b[0m             \u001b[0maws_secret_access_key\u001b[0m\u001b[0;34m=\u001b[0m\u001b[0maws_secret_access_key\u001b[0m\u001b[0;34m,\u001b[0m\u001b[0;34m\u001b[0m\u001b[0;34m\u001b[0m\u001b[0m\n\u001b[0;32m--> 263\u001b[0;31m             aws_session_token=aws_session_token, config=config)\n\u001b[0m\u001b[1;32m    264\u001b[0m \u001b[0;34m\u001b[0m\u001b[0m\n\u001b[1;32m    265\u001b[0m     def resource(self, service_name, region_name=None, api_version=None,\n",
      "\u001b[0;32m/opt/mistsys/ds_incubator/venv/lib/python3.7/site-packages/botocore/session.py\u001b[0m in \u001b[0;36mcreate_client\u001b[0;34m(self, service_name, region_name, api_version, use_ssl, verify, endpoint_url, aws_access_key_id, aws_secret_access_key, aws_session_token, config)\u001b[0m\n\u001b[1;32m    833\u001b[0m             \u001b[0mis_secure\u001b[0m\u001b[0;34m=\u001b[0m\u001b[0muse_ssl\u001b[0m\u001b[0;34m,\u001b[0m \u001b[0mendpoint_url\u001b[0m\u001b[0;34m=\u001b[0m\u001b[0mendpoint_url\u001b[0m\u001b[0;34m,\u001b[0m \u001b[0mverify\u001b[0m\u001b[0;34m=\u001b[0m\u001b[0mverify\u001b[0m\u001b[0;34m,\u001b[0m\u001b[0;34m\u001b[0m\u001b[0;34m\u001b[0m\u001b[0m\n\u001b[1;32m    834\u001b[0m             \u001b[0mcredentials\u001b[0m\u001b[0;34m=\u001b[0m\u001b[0mcredentials\u001b[0m\u001b[0;34m,\u001b[0m \u001b[0mscoped_config\u001b[0m\u001b[0;34m=\u001b[0m\u001b[0mself\u001b[0m\u001b[0;34m.\u001b[0m\u001b[0mget_scoped_config\u001b[0m\u001b[0;34m(\u001b[0m\u001b[0;34m)\u001b[0m\u001b[0;34m,\u001b[0m\u001b[0;34m\u001b[0m\u001b[0;34m\u001b[0m\u001b[0m\n\u001b[0;32m--> 835\u001b[0;31m             client_config=config, api_version=api_version)\n\u001b[0m\u001b[1;32m    836\u001b[0m         \u001b[0mmonitor\u001b[0m \u001b[0;34m=\u001b[0m \u001b[0mself\u001b[0m\u001b[0;34m.\u001b[0m\u001b[0m_get_internal_component\u001b[0m\u001b[0;34m(\u001b[0m\u001b[0;34m'monitor'\u001b[0m\u001b[0;34m)\u001b[0m\u001b[0;34m\u001b[0m\u001b[0;34m\u001b[0m\u001b[0m\n\u001b[1;32m    837\u001b[0m         \u001b[0;32mif\u001b[0m \u001b[0mmonitor\u001b[0m \u001b[0;32mis\u001b[0m \u001b[0;32mnot\u001b[0m \u001b[0;32mNone\u001b[0m\u001b[0;34m:\u001b[0m\u001b[0;34m\u001b[0m\u001b[0;34m\u001b[0m\u001b[0m\n",
      "\u001b[0;32m/opt/mistsys/ds_incubator/venv/lib/python3.7/site-packages/botocore/client.py\u001b[0m in \u001b[0;36mcreate_client\u001b[0;34m(self, service_name, region_name, is_secure, endpoint_url, verify, credentials, scoped_config, api_version, client_config)\u001b[0m\n\u001b[1;32m     83\u001b[0m         client_args = self._get_client_args(\n\u001b[1;32m     84\u001b[0m             \u001b[0mservice_model\u001b[0m\u001b[0;34m,\u001b[0m \u001b[0mregion_name\u001b[0m\u001b[0;34m,\u001b[0m \u001b[0mis_secure\u001b[0m\u001b[0;34m,\u001b[0m \u001b[0mendpoint_url\u001b[0m\u001b[0;34m,\u001b[0m\u001b[0;34m\u001b[0m\u001b[0;34m\u001b[0m\u001b[0m\n\u001b[0;32m---> 85\u001b[0;31m             verify, credentials, scoped_config, client_config, endpoint_bridge)\n\u001b[0m\u001b[1;32m     86\u001b[0m         \u001b[0mservice_client\u001b[0m \u001b[0;34m=\u001b[0m \u001b[0mcls\u001b[0m\u001b[0;34m(\u001b[0m\u001b[0;34m**\u001b[0m\u001b[0mclient_args\u001b[0m\u001b[0;34m)\u001b[0m\u001b[0;34m\u001b[0m\u001b[0;34m\u001b[0m\u001b[0m\n\u001b[1;32m     87\u001b[0m         \u001b[0mself\u001b[0m\u001b[0;34m.\u001b[0m\u001b[0m_register_retries\u001b[0m\u001b[0;34m(\u001b[0m\u001b[0mservice_client\u001b[0m\u001b[0;34m)\u001b[0m\u001b[0;34m\u001b[0m\u001b[0;34m\u001b[0m\u001b[0m\n",
      "\u001b[0;32m/opt/mistsys/ds_incubator/venv/lib/python3.7/site-packages/botocore/client.py\u001b[0m in \u001b[0;36m_get_client_args\u001b[0;34m(self, service_model, region_name, is_secure, endpoint_url, verify, credentials, scoped_config, client_config, endpoint_bridge)\u001b[0m\n\u001b[1;32m    285\u001b[0m         return args_creator.get_client_args(\n\u001b[1;32m    286\u001b[0m             \u001b[0mservice_model\u001b[0m\u001b[0;34m,\u001b[0m \u001b[0mregion_name\u001b[0m\u001b[0;34m,\u001b[0m \u001b[0mis_secure\u001b[0m\u001b[0;34m,\u001b[0m \u001b[0mendpoint_url\u001b[0m\u001b[0;34m,\u001b[0m\u001b[0;34m\u001b[0m\u001b[0;34m\u001b[0m\u001b[0m\n\u001b[0;32m--> 287\u001b[0;31m             verify, credentials, scoped_config, client_config, endpoint_bridge)\n\u001b[0m\u001b[1;32m    288\u001b[0m \u001b[0;34m\u001b[0m\u001b[0m\n\u001b[1;32m    289\u001b[0m     \u001b[0;32mdef\u001b[0m \u001b[0m_create_methods\u001b[0m\u001b[0;34m(\u001b[0m\u001b[0mself\u001b[0m\u001b[0;34m,\u001b[0m \u001b[0mservice_model\u001b[0m\u001b[0;34m)\u001b[0m\u001b[0;34m:\u001b[0m\u001b[0;34m\u001b[0m\u001b[0;34m\u001b[0m\u001b[0m\n",
      "\u001b[0;32m/opt/mistsys/ds_incubator/venv/lib/python3.7/site-packages/botocore/args.py\u001b[0m in \u001b[0;36mget_client_args\u001b[0;34m(self, service_model, region_name, is_secure, endpoint_url, verify, credentials, scoped_config, client_config, endpoint_bridge)\u001b[0m\n\u001b[1;32m     71\u001b[0m         final_args = self.compute_client_args(\n\u001b[1;32m     72\u001b[0m             \u001b[0mservice_model\u001b[0m\u001b[0;34m,\u001b[0m \u001b[0mclient_config\u001b[0m\u001b[0;34m,\u001b[0m \u001b[0mendpoint_bridge\u001b[0m\u001b[0;34m,\u001b[0m \u001b[0mregion_name\u001b[0m\u001b[0;34m,\u001b[0m\u001b[0;34m\u001b[0m\u001b[0;34m\u001b[0m\u001b[0m\n\u001b[0;32m---> 73\u001b[0;31m             endpoint_url, is_secure, scoped_config)\n\u001b[0m\u001b[1;32m     74\u001b[0m \u001b[0;34m\u001b[0m\u001b[0m\n\u001b[1;32m     75\u001b[0m         \u001b[0mservice_name\u001b[0m \u001b[0;34m=\u001b[0m \u001b[0mfinal_args\u001b[0m\u001b[0;34m[\u001b[0m\u001b[0;34m'service_name'\u001b[0m\u001b[0;34m]\u001b[0m\u001b[0;34m\u001b[0m\u001b[0;34m\u001b[0m\u001b[0m\n",
      "\u001b[0;32m/opt/mistsys/ds_incubator/venv/lib/python3.7/site-packages/botocore/args.py\u001b[0m in \u001b[0;36mcompute_client_args\u001b[0;34m(self, service_model, client_config, endpoint_bridge, region_name, endpoint_url, is_secure, scoped_config)\u001b[0m\n\u001b[1;32m    151\u001b[0m             \u001b[0mis_secure\u001b[0m\u001b[0;34m=\u001b[0m\u001b[0mis_secure\u001b[0m\u001b[0;34m,\u001b[0m\u001b[0;34m\u001b[0m\u001b[0;34m\u001b[0m\u001b[0m\n\u001b[1;32m    152\u001b[0m             \u001b[0mendpoint_bridge\u001b[0m\u001b[0;34m=\u001b[0m\u001b[0mendpoint_bridge\u001b[0m\u001b[0;34m,\u001b[0m\u001b[0;34m\u001b[0m\u001b[0;34m\u001b[0m\u001b[0m\n\u001b[0;32m--> 153\u001b[0;31m             \u001b[0ms3_config\u001b[0m\u001b[0;34m=\u001b[0m\u001b[0ms3_config\u001b[0m\u001b[0;34m,\u001b[0m\u001b[0;34m\u001b[0m\u001b[0;34m\u001b[0m\u001b[0m\n\u001b[0m\u001b[1;32m    154\u001b[0m         )\n\u001b[1;32m    155\u001b[0m         \u001b[0;31m# Create a new client config to be passed to the client based\u001b[0m\u001b[0;34m\u001b[0m\u001b[0;34m\u001b[0m\u001b[0;34m\u001b[0m\u001b[0m\n",
      "\u001b[0;32m/opt/mistsys/ds_incubator/venv/lib/python3.7/site-packages/botocore/args.py\u001b[0m in \u001b[0;36m_compute_endpoint_config\u001b[0;34m(self, service_name, region_name, endpoint_url, is_secure, endpoint_bridge, s3_config)\u001b[0m\n\u001b[1;32m    216\u001b[0m         \u001b[0;32mif\u001b[0m \u001b[0mservice_name\u001b[0m \u001b[0;34m==\u001b[0m \u001b[0;34m'sts'\u001b[0m\u001b[0;34m:\u001b[0m\u001b[0;34m\u001b[0m\u001b[0;34m\u001b[0m\u001b[0m\n\u001b[1;32m    217\u001b[0m             \u001b[0;32mreturn\u001b[0m \u001b[0mself\u001b[0m\u001b[0;34m.\u001b[0m\u001b[0m_compute_sts_endpoint_config\u001b[0m\u001b[0;34m(\u001b[0m\u001b[0;34m**\u001b[0m\u001b[0mresolve_endpoint_kwargs\u001b[0m\u001b[0;34m)\u001b[0m\u001b[0;34m\u001b[0m\u001b[0;34m\u001b[0m\u001b[0m\n\u001b[0;32m--> 218\u001b[0;31m         \u001b[0;32mreturn\u001b[0m \u001b[0mself\u001b[0m\u001b[0;34m.\u001b[0m\u001b[0m_resolve_endpoint\u001b[0m\u001b[0;34m(\u001b[0m\u001b[0;34m**\u001b[0m\u001b[0mresolve_endpoint_kwargs\u001b[0m\u001b[0;34m)\u001b[0m\u001b[0;34m\u001b[0m\u001b[0;34m\u001b[0m\u001b[0m\n\u001b[0m\u001b[1;32m    219\u001b[0m \u001b[0;34m\u001b[0m\u001b[0m\n\u001b[1;32m    220\u001b[0m     def _compute_s3_endpoint_config(self, s3_config,\n",
      "\u001b[0;32m/opt/mistsys/ds_incubator/venv/lib/python3.7/site-packages/botocore/args.py\u001b[0m in \u001b[0;36m_resolve_endpoint\u001b[0;34m(self, service_name, region_name, endpoint_url, is_secure, endpoint_bridge)\u001b[0m\n\u001b[1;32m    299\u001b[0m                           endpoint_url, is_secure, endpoint_bridge):\n\u001b[1;32m    300\u001b[0m         return endpoint_bridge.resolve(\n\u001b[0;32m--> 301\u001b[0;31m             service_name, region_name, endpoint_url, is_secure)\n\u001b[0m\u001b[1;32m    302\u001b[0m \u001b[0;34m\u001b[0m\u001b[0m\n\u001b[1;32m    303\u001b[0m     \u001b[0;32mdef\u001b[0m \u001b[0m_compute_socket_options\u001b[0m\u001b[0;34m(\u001b[0m\u001b[0mself\u001b[0m\u001b[0;34m,\u001b[0m \u001b[0mscoped_config\u001b[0m\u001b[0;34m)\u001b[0m\u001b[0;34m:\u001b[0m\u001b[0;34m\u001b[0m\u001b[0;34m\u001b[0m\u001b[0m\n",
      "\u001b[0;32m/opt/mistsys/ds_incubator/venv/lib/python3.7/site-packages/botocore/client.py\u001b[0m in \u001b[0;36mresolve\u001b[0;34m(self, service_name, region_name, endpoint_url, is_secure)\u001b[0m\n\u001b[1;32m    359\u001b[0m         \u001b[0mregion_name\u001b[0m \u001b[0;34m=\u001b[0m \u001b[0mself\u001b[0m\u001b[0;34m.\u001b[0m\u001b[0m_check_default_region\u001b[0m\u001b[0;34m(\u001b[0m\u001b[0mservice_name\u001b[0m\u001b[0;34m,\u001b[0m \u001b[0mregion_name\u001b[0m\u001b[0;34m)\u001b[0m\u001b[0;34m\u001b[0m\u001b[0;34m\u001b[0m\u001b[0m\n\u001b[1;32m    360\u001b[0m         resolved = self.endpoint_resolver.construct_endpoint(\n\u001b[0;32m--> 361\u001b[0;31m             service_name, region_name)\n\u001b[0m\u001b[1;32m    362\u001b[0m         \u001b[0;32mif\u001b[0m \u001b[0mresolved\u001b[0m\u001b[0;34m:\u001b[0m\u001b[0;34m\u001b[0m\u001b[0;34m\u001b[0m\u001b[0m\n\u001b[1;32m    363\u001b[0m             return self._create_endpoint(\n",
      "\u001b[0;32m/opt/mistsys/ds_incubator/venv/lib/python3.7/site-packages/botocore/regions.py\u001b[0m in \u001b[0;36mconstruct_endpoint\u001b[0;34m(self, service_name, region_name)\u001b[0m\n\u001b[1;32m    120\u001b[0m         \u001b[0;32mfor\u001b[0m \u001b[0mpartition\u001b[0m \u001b[0;32min\u001b[0m \u001b[0mself\u001b[0m\u001b[0;34m.\u001b[0m\u001b[0m_endpoint_data\u001b[0m\u001b[0;34m[\u001b[0m\u001b[0;34m'partitions'\u001b[0m\u001b[0;34m]\u001b[0m\u001b[0;34m:\u001b[0m\u001b[0;34m\u001b[0m\u001b[0;34m\u001b[0m\u001b[0m\n\u001b[1;32m    121\u001b[0m             result = self._endpoint_for_partition(\n\u001b[0;32m--> 122\u001b[0;31m                 partition, service_name, region_name)\n\u001b[0m\u001b[1;32m    123\u001b[0m             \u001b[0;32mif\u001b[0m \u001b[0mresult\u001b[0m\u001b[0;34m:\u001b[0m\u001b[0;34m\u001b[0m\u001b[0;34m\u001b[0m\u001b[0m\n\u001b[1;32m    124\u001b[0m                 \u001b[0;32mreturn\u001b[0m \u001b[0mresult\u001b[0m\u001b[0;34m\u001b[0m\u001b[0;34m\u001b[0m\u001b[0m\n",
      "\u001b[0;32m/opt/mistsys/ds_incubator/venv/lib/python3.7/site-packages/botocore/regions.py\u001b[0m in \u001b[0;36m_endpoint_for_partition\u001b[0;34m(self, partition, service_name, region_name)\u001b[0m\n\u001b[1;32m    133\u001b[0m                 \u001b[0mregion_name\u001b[0m \u001b[0;34m=\u001b[0m \u001b[0mservice_data\u001b[0m\u001b[0;34m[\u001b[0m\u001b[0;34m'partitionEndpoint'\u001b[0m\u001b[0;34m]\u001b[0m\u001b[0;34m\u001b[0m\u001b[0;34m\u001b[0m\u001b[0m\n\u001b[1;32m    134\u001b[0m             \u001b[0;32melse\u001b[0m\u001b[0;34m:\u001b[0m\u001b[0;34m\u001b[0m\u001b[0;34m\u001b[0m\u001b[0m\n\u001b[0;32m--> 135\u001b[0;31m                 \u001b[0;32mraise\u001b[0m \u001b[0mNoRegionError\u001b[0m\u001b[0;34m(\u001b[0m\u001b[0;34m)\u001b[0m\u001b[0;34m\u001b[0m\u001b[0;34m\u001b[0m\u001b[0m\n\u001b[0m\u001b[1;32m    136\u001b[0m         \u001b[0;31m# Attempt to resolve the exact region for this partition.\u001b[0m\u001b[0;34m\u001b[0m\u001b[0;34m\u001b[0m\u001b[0;34m\u001b[0m\u001b[0m\n\u001b[1;32m    137\u001b[0m         \u001b[0;32mif\u001b[0m \u001b[0mregion_name\u001b[0m \u001b[0;32min\u001b[0m \u001b[0mservice_data\u001b[0m\u001b[0;34m[\u001b[0m\u001b[0;34m'endpoints'\u001b[0m\u001b[0;34m]\u001b[0m\u001b[0;34m:\u001b[0m\u001b[0;34m\u001b[0m\u001b[0;34m\u001b[0m\u001b[0m\n",
      "\u001b[0;31mNoRegionError\u001b[0m: You must specify a region."
     ]
    }
   ],
   "source": [
    "site='a799e12a-fc28-4ce7-a563-c2dd6d498e2f '\n",
    "site = 'a40ba08c-5e27-40d9-b798-7020ca6e4cae'\n",
    "\n",
    "query = '''SELECT date_trunc('hour', time) as time, org, site, ap, band, channel, ap2,\n",
    " count(ap2) as counts, max(rssi) as max_rssi, max(in_site) as in_site\n",
    " FROM \"secorapp-{ENV}\".\"{TABLE}\"\n",
    " WHERE site=\"{SITE}\" and time > date_add('day',-1,now())\n",
    " GROUP BY time,org,site,ap,band,ap2,channel;'''.format(ENV=env,TABLE=table,SITE=site)\n",
    "\n",
    "query = '''SELECT * FROM \"secorapp-{ENV}\".\"{TABLE}\" \n",
    "where site='{SITE}' and band='{BAND}'.format(ENV=env,TABLE=table,SITE=site, BAND=band)\n",
    "'''\n",
    "print(query)\n",
    "\n",
    "response = run_query(query, database, s3_ouput)\n",
    "\n",
    "if response.get('ResponseMetadata').get('HTTPStatusCode') == 200:\n",
    "    id = response.get('QueryExecutionId')\n",
    "    file = 'results/' + id + '.csv'\n",
    "    while True:\n",
    "        client = boto3.client('s3')\n",
    "        s3_output_response = \"\"\n",
    "        try:\n",
    "            s3_output_response = client.get_object(Bucket=bucket, Key=file)\n",
    "            print(s3_output_response)\n",
    "            client.download_file(Bucket=bucket, Key=file, Filename=download_path + id + '.csv')\n",
    "            break\n",
    "        except ClientError:\n",
    "            print('checking if key exist')\n",
    "        time.sleep(5)"
   ]
  },
  {
   "cell_type": "code",
   "execution_count": 6,
   "metadata": {},
   "outputs": [
    {
     "name": "stdout",
     "output_type": "stream",
     "text": [
      "f92186ad-642b-4ec7-9d3b-7cd4aa33c492.csv\r\n"
     ]
    }
   ],
   "source": [
    "!ls ../downloads/results/\n",
    "#filename = download_path+file"
   ]
  },
  {
   "cell_type": "code",
   "execution_count": 7,
   "metadata": {},
   "outputs": [
    {
     "data": {
      "text/html": [
       "<div>\n",
       "<style scoped>\n",
       "    .dataframe tbody tr th:only-of-type {\n",
       "        vertical-align: middle;\n",
       "    }\n",
       "\n",
       "    .dataframe tbody tr th {\n",
       "        vertical-align: top;\n",
       "    }\n",
       "\n",
       "    .dataframe thead th {\n",
       "        text-align: right;\n",
       "    }\n",
       "</style>\n",
       "<table border=\"1\" class=\"dataframe\">\n",
       "  <thead>\n",
       "    <tr style=\"text-align: right;\">\n",
       "      <th></th>\n",
       "      <th>ap</th>\n",
       "      <th>band</th>\n",
       "      <th>bandwidth</th>\n",
       "      <th>channel</th>\n",
       "      <th>insite_channel_weight</th>\n",
       "      <th>max_tx_power</th>\n",
       "      <th>noise_floor</th>\n",
       "      <th>num_clients</th>\n",
       "      <th>org</th>\n",
       "      <th>radar</th>\n",
       "      <th>...</th>\n",
       "      <th>site</th>\n",
       "      <th>timestamp</th>\n",
       "      <th>tx_power</th>\n",
       "      <th>util_all</th>\n",
       "      <th>util_nonwifi</th>\n",
       "      <th>util_rxinbss</th>\n",
       "      <th>util_rxotherbss</th>\n",
       "      <th>util_tx</th>\n",
       "      <th>partition_0</th>\n",
       "      <th>dt</th>\n",
       "    </tr>\n",
       "  </thead>\n",
       "  <tbody>\n",
       "    <tr>\n",
       "      <th>0</th>\n",
       "      <td>5c5b352e113f</td>\n",
       "      <td>5</td>\n",
       "      <td>20</td>\n",
       "      <td>157</td>\n",
       "      <td>0.459861</td>\n",
       "      <td>11</td>\n",
       "      <td>-87</td>\n",
       "      <td>0</td>\n",
       "      <td>56de201d-e63b-4312-9858-40f4cfe35c7f</td>\n",
       "      <td>0</td>\n",
       "      <td>...</td>\n",
       "      <td>a40ba08c-5e27-40d9-b798-7020ca6e4cae</td>\n",
       "      <td>1970-01-18 20:09:18.158</td>\n",
       "      <td>NaN</td>\n",
       "      <td>0.168678</td>\n",
       "      <td>0.002074</td>\n",
       "      <td>0.000027</td>\n",
       "      <td>0.14389</td>\n",
       "      <td>0.015231</td>\n",
       "      <td>rrm-apscan-production</td>\n",
       "      <td>2018-11-04</td>\n",
       "    </tr>\n",
       "    <tr>\n",
       "      <th>1</th>\n",
       "      <td>5c5b352e113f</td>\n",
       "      <td>5</td>\n",
       "      <td>20</td>\n",
       "      <td>157</td>\n",
       "      <td>0.348852</td>\n",
       "      <td>11</td>\n",
       "      <td>-87</td>\n",
       "      <td>0</td>\n",
       "      <td>56de201d-e63b-4312-9858-40f4cfe35c7f</td>\n",
       "      <td>0</td>\n",
       "      <td>...</td>\n",
       "      <td>a40ba08c-5e27-40d9-b798-7020ca6e4cae</td>\n",
       "      <td>1970-01-18 20:09:18.158</td>\n",
       "      <td>NaN</td>\n",
       "      <td>0.168678</td>\n",
       "      <td>0.002074</td>\n",
       "      <td>0.000027</td>\n",
       "      <td>0.14389</td>\n",
       "      <td>0.015231</td>\n",
       "      <td>rrm-apscan-production</td>\n",
       "      <td>2018-11-04</td>\n",
       "    </tr>\n",
       "  </tbody>\n",
       "</table>\n",
       "<p>2 rows × 35 columns</p>\n",
       "</div>"
      ],
      "text/plain": [
       "             ap  band  bandwidth  channel  insite_channel_weight  \\\n",
       "0  5c5b352e113f     5         20      157               0.459861   \n",
       "1  5c5b352e113f     5         20      157               0.348852   \n",
       "\n",
       "   max_tx_power  noise_floor  num_clients  \\\n",
       "0            11          -87            0   \n",
       "1            11          -87            0   \n",
       "\n",
       "                                    org  radar     ...      \\\n",
       "0  56de201d-e63b-4312-9858-40f4cfe35c7f      0     ...       \n",
       "1  56de201d-e63b-4312-9858-40f4cfe35c7f      0     ...       \n",
       "\n",
       "                                   site                timestamp  tx_power  \\\n",
       "0  a40ba08c-5e27-40d9-b798-7020ca6e4cae  1970-01-18 20:09:18.158       NaN   \n",
       "1  a40ba08c-5e27-40d9-b798-7020ca6e4cae  1970-01-18 20:09:18.158       NaN   \n",
       "\n",
       "   util_all  util_nonwifi  util_rxinbss util_rxotherbss   util_tx  \\\n",
       "0  0.168678      0.002074      0.000027         0.14389  0.015231   \n",
       "1  0.168678      0.002074      0.000027         0.14389  0.015231   \n",
       "\n",
       "             partition_0          dt  \n",
       "0  rrm-apscan-production  2018-11-04  \n",
       "1  rrm-apscan-production  2018-11-04  \n",
       "\n",
       "[2 rows x 35 columns]"
      ]
     },
     "execution_count": 7,
     "metadata": {},
     "output_type": "execute_result"
    }
   ],
   "source": [
    "import pandas as pd\n",
    "\n",
    "filename = \"../downloads/results/f92186ad-642b-4ec7-9d3b-7cd4aa33c492.csv\"\n",
    "df = pd.read_csv(filename)\n",
    "df.head(2)"
   ]
  },
  {
   "cell_type": "code",
   "execution_count": null,
   "metadata": {},
   "outputs": [],
   "source": []
  },
  {
   "cell_type": "code",
   "execution_count": 9,
   "metadata": {},
   "outputs": [
    {
     "name": "stdout",
     "output_type": "stream",
     "text": [
      "Column names are ap, band, bandwidth, channel, insite_channel_weight, max_tx_power, noise_floor, num_clients, org, radar, scan_channel, scan_channel_weight, scan_congest_nonwifi, scan_congest_rxotherbss, scan_external_avg_rssi, scan_external_counts, scan_external_loud_bssid, scan_external_loud_ssid, scan_external_max_rssi, scan_insite_avg_rssi, scan_insite_counts, scan_insite_max_rssi, scan_noise_floor, scan_util_nonwifi, scan_util_rxotherbss, site, timestamp, tx_power, util_all, util_nonwifi, util_rxinbss, util_rxotherbss, util_tx, partition_0, dt\n",
      "['5c5b352e113f', '5', '20', '157', '0.4598612', '11', '-87', '0', '56de201d-e63b-4312-9858-40f4cfe35c7f', '0', '153', '0.46477368', '0.002456248', '0.14768192', '-100', '0', '', '', '-100', '-54', '12', '-54', '-85', '0.0026979418', '0.15481576', 'a40ba08c-5e27-40d9-b798-7020ca6e4cae', '1970-01-18 20:09:18.158', '', '0.16867808', '0.0020744742', '2.6931155E-5', '0.1438904', '0.015231055', 'rrm-apscan-production', '2018-11-04']\n",
      "['5c5b352e113f', '5', '20', '157', '0.34885156', '11', '-87', '0', '56de201d-e63b-4312-9858-40f4cfe35c7f', '0', '36', '0.35003325', '5.908419E-4', '0.1929099', '-100', '0', '', '', '-100', '-62', '14', '-60', '-91', '6.2297814E-4', '0.20269443', 'a40ba08c-5e27-40d9-b798-7020ca6e4cae', '1970-01-18 20:09:18.158', '', '0.16867808', '0.0020744742', '2.6931155E-5', '0.1438904', '0.015231055', 'rrm-apscan-production', '2018-11-04']\n",
      "['5c5b352e113f', '5', '20', '157', '0.18612091', '11', '-87', '0', '56de201d-e63b-4312-9858-40f4cfe35c7f', '0', '40', '0.18612091', '0.0', '0.16710621', '-100', '0', '', '', '-100', '-68', '11', '-64', '-90', '8.005983E-5', '0.16928065', 'a40ba08c-5e27-40d9-b798-7020ca6e4cae', '1970-01-18 20:09:18.158', '', '0.16867808', '0.0020744742', '2.6931155E-5', '0.1438904', '0.015231055', 'rrm-apscan-production', '2018-11-04']\n",
      "['5c5b352e113f', '5', '20', '157', '0.005093432', '11', '-87', '0', '56de201d-e63b-4312-9858-40f4cfe35c7f', '0', '136', '0.005565019', '2.3579344E-4', '0.0033011083', '-100', '0', '', '', '-100', '-100', '0', '-100', '-92', '4.491683E-4', '0.0058635995', 'a40ba08c-5e27-40d9-b798-7020ca6e4cae', '1970-01-18 20:09:18.158', '', '0.16867808', '0.0020744742', '2.6931155E-5', '0.1438904', '0.015231055', 'rrm-apscan-production', '2018-11-04']\n",
      "['5c5b352e113f', '5', '20', '157', '0.0055617644', '11', '-87', '0', '56de201d-e63b-4312-9858-40f4cfe35c7f', '0', '100', '0.0055617644', '0.0', '0.0', '-100', '0', '', '', '-100', '-100', '0', '-100', '-92', '0.0', '0.0', 'a40ba08c-5e27-40d9-b798-7020ca6e4cae', '1970-01-18 20:09:18.158', '', '0.16867808', '0.0020744742', '2.6931155E-5', '0.1438904', '0.015231055', 'rrm-apscan-production', '2018-11-04']\n",
      "['5c5b352e113f', '5', '20', '157', '0.005565241', '11', '-87', '0', '56de201d-e63b-4312-9858-40f4cfe35c7f', '0', '128', '0.005565241', '0.0', '0.004023605', '-100', '0', '', '', '-100', '-100', '0', '-100', '-92', '2.6657188E-4', '0.0071447124', 'a40ba08c-5e27-40d9-b798-7020ca6e4cae', '1970-01-18 20:09:18.158', '', '0.16867808', '0.0020744742', '2.6931155E-5', '0.1438904', '0.015231055', 'rrm-apscan-production', '2018-11-04']\n",
      "['5c5b352e13a6', '5', '20', '161', '0.0056259595', '11', '-90', '0', '56de201d-e63b-4312-9858-40f4cfe35c7f', '0', '52', '0.0056259595', '0.0', '0.053967327', '-100', '0', '', '', '-100', '-100', '0', '-100', '-92', '1.9529076E-5', '0.057908595', 'a40ba08c-5e27-40d9-b798-7020ca6e4cae', '1970-01-18 20:10:18.160', '', '0.2577548', '0.014207915', '0.0', '0.2132222', '0.01401396', 'rrm-apscan-production', '2018-11-05']\n",
      "['5c5b352e13a6', '5', '20', '161', '0.0055617644', '11', '-90', '0', '56de201d-e63b-4312-9858-40f4cfe35c7f', '0', '108', '0.0055617644', '0.0', '0.0', '-100', '0', '', '', '-100', '-100', '0', '-100', '-92', '0.0', '0.0', 'a40ba08c-5e27-40d9-b798-7020ca6e4cae', '1970-01-18 20:10:18.160', '', '0.2577548', '0.014207915', '0.0', '0.2132222', '0.01401396', 'rrm-apscan-production', '2018-11-05']\n",
      "['5c5b352e13a6', '5', '20', '161', '0.0055617644', '11', '-90', '0', '56de201d-e63b-4312-9858-40f4cfe35c7f', '0', '120', '0.0055617644', '0.0', '0.0', '-100', '0', '', '', '-100', '-100', '0', '-100', '-92', '0.0', '4.589333E-5', 'a40ba08c-5e27-40d9-b798-7020ca6e4cae', '1970-01-18 20:10:18.160', '', '0.2577548', '0.014207915', '0.0', '0.2132222', '0.01401396', 'rrm-apscan-production', '2018-11-05']\n",
      "Processed 1874776 lines.\n"
     ]
    }
   ],
   "source": [
    "import csv\n",
    "\n",
    "with open(filename) as csv_file:\n",
    "    csv_reader = csv.reader(csv_file, delimiter=',')\n",
    "    line_count = 0\n",
    "    for row in csv_reader:\n",
    "        if line_count == 0:\n",
    "            print(f'Column names are {\", \".join(row)}')\n",
    "            line_count += 1\n",
    "        else:\n",
    "            if line_count< 10:\n",
    "                 print(row)\n",
    "            line_count += 1\n",
    "    print(f'Processed {line_count} lines.')"
   ]
  },
  {
   "cell_type": "code",
   "execution_count": 23,
   "metadata": {},
   "outputs": [],
   "source": [
    "import mistAPI\n",
    "import mistGraph\n",
    "userSiteID = \"a40ba08c-5e27-40d9-b798-7020ca6e4cae\"\n",
    "userOrgID = \"\"\n",
    "band = \"5\"\n",
    "\n",
    "papi_url = 'http://papi-{ENV}.mistsys.net'.format(ENV=env)"
   ]
  },
  {
   "cell_type": "code",
   "execution_count": 24,
   "metadata": {},
   "outputs": [
    {
     "name": "stdout",
     "output_type": "stream",
     "text": [
      "{\"command\": \"log\", \"msg\": \"getRRMBySite  http://papi-production.mistsys.net/internal/sites/a40ba08c-5e27-40d9-b798-7020ca6e4cae/devices/rrm/5 \", \"level\": 2}\n",
      "end\n",
      "{\"command\": \"log\", \"msg\": \"query http://papi-production.mistsys.net/internal/sites/a40ba08c-5e27-40d9-b798-7020ca6e4cae/devices/rrm/5 None query-status=[200, 'OK', 0.818845] \", \"level\": 2}\n",
      "end\n"
     ]
    }
   ],
   "source": [
    "rrmSiteConfig= mistAPI.getRRMBySite(userSiteID, band, papi_url)\n"
   ]
  },
  {
   "cell_type": "code",
   "execution_count": 25,
   "metadata": {},
   "outputs": [
    {
     "name": "stdout",
     "output_type": "stream",
     "text": [
      "{\"command\": \"log\", \"msg\": \"===== create-graph site=a40ba08c-5e27-40d9-b798-7020ca6e4cae, band=5, bandWidth=20,\\n                    channels= [161, 157, 153, 149, 48, 44, 40, 36], site_power=0, dfs=True\", \"level\": 2}\n",
      "end\n",
      "{\"command\": \"log\", \"msg\": \" site=a40ba08c-5e27-40d9-b798-7020ca6e4cae nAPs = 133 channels[161, 157, 153, 149, 48, 44, 40, 36] \", \"level\": 2}\n",
      "end\n"
     ]
    }
   ],
   "source": [
    "mistG =  mistGraph.createGraphFromSiteConfig(rrmSiteConfig)"
   ]
  },
  {
   "cell_type": "code",
   "execution_count": 26,
   "metadata": {},
   "outputs": [
    {
     "data": {
      "text/plain": [
       "{'org': '56de201d-e63b-4312-9858-40f4cfe35c7f',\n",
       " 'site': 'a40ba08c-5e27-40d9-b798-7020ca6e4cae',\n",
       " 'band': '5',\n",
       " 'channels': [161, 157, 153, 149, 48, 44, 40, 36],\n",
       " 'bandwidth': 20,\n",
       " 'site_power': 0,\n",
       " 'dfs': True,\n",
       " 'ssid': [],\n",
       " 'bssids': [],\n",
       " 'aps': 133,\n",
       " 'channels_chisq': 31.71763324987671,\n",
       " 'naps_by_channel': {161: 11,\n",
       "  153: 17,\n",
       "  48: 14,\n",
       "  157: 17,\n",
       "  40: 14,\n",
       "  36: 16,\n",
       "  149: 14,\n",
       "  44: 13,\n",
       "  64: 5,\n",
       "  60: 4,\n",
       "  56: 4,\n",
       "  52: 4},\n",
       " 'avg_aps_per_channel': 16.625,\n",
       " 'scanned_rssi': [-60, -50, -70],\n",
       " 'when': '2018-11-13T15:23:53',\n",
       " 'rrm_enabled': True,\n",
       " 'reason': ''}"
      ]
     },
     "execution_count": 26,
     "metadata": {},
     "output_type": "execute_result"
    }
   ],
   "source": [
    "mistG.graph"
   ]
  },
  {
   "cell_type": "code",
   "execution_count": 30,
   "metadata": {},
   "outputs": [
    {
     "data": {
      "text/plain": [
       "133"
      ]
     },
     "execution_count": 30,
     "metadata": {},
     "output_type": "execute_result"
    }
   ],
   "source": [
    "len(mistG)"
   ]
  },
  {
   "cell_type": "code",
   "execution_count": 31,
   "metadata": {},
   "outputs": [
    {
     "name": "stdout",
     "output_type": "stream",
     "text": [
      "{\"command\": \"log\", \"msg\": \"WARN tot_entropy=1.1370947768858297 [161, 157, 153, 149, 48, 44, 40, 36] {161: 11, 153: 17, 48: 14, 157: 17, 40: 14, 36: 16, 149: 14, 44: 13, 64: 5, 60: 4, 56: 4, 52: 4}\", \"level\": 3}\n",
      "end\n",
      "{\"command\": \"log\", \"msg\": \" graph-updated=0 naps=133\", \"level\": 2}\n",
      "end\n"
     ]
    },
    {
     "data": {
      "text/plain": [
       "(31.71763324987671,\n",
       " {161: 11,\n",
       "  153: 17,\n",
       "  48: 14,\n",
       "  157: 17,\n",
       "  40: 14,\n",
       "  36: 16,\n",
       "  149: 14,\n",
       "  44: 13,\n",
       "  64: 5,\n",
       "  60: 4,\n",
       "  56: 4,\n",
       "  52: 4})"
      ]
     },
     "execution_count": 31,
     "metadata": {},
     "output_type": "execute_result"
    }
   ],
   "source": [
    "mistGraph.getGraphPerformance(mistG)"
   ]
  },
  {
   "cell_type": "code",
   "execution_count": 32,
   "metadata": {},
   "outputs": [
    {
     "data": {
      "text/plain": [
       "{'org': '56de201d-e63b-4312-9858-40f4cfe35c7f',\n",
       " 'site': 'a40ba08c-5e27-40d9-b798-7020ca6e4cae',\n",
       " 'band': '5',\n",
       " 'channels': [161, 157, 153, 149, 48, 44, 40, 36],\n",
       " 'bandwidth': 20,\n",
       " 'site_power': 0,\n",
       " 'dfs': True,\n",
       " 'ssid': [],\n",
       " 'bssids': [],\n",
       " 'aps': 133,\n",
       " 'channels_chisq': 31.71763324987671,\n",
       " 'naps_by_channel': {161: 11,\n",
       "  153: 17,\n",
       "  48: 14,\n",
       "  157: 17,\n",
       "  40: 14,\n",
       "  36: 16,\n",
       "  149: 14,\n",
       "  44: 13,\n",
       "  64: 5,\n",
       "  60: 4,\n",
       "  56: 4,\n",
       "  52: 4},\n",
       " 'avg_aps_per_channel': 16.625,\n",
       " 'scanned_rssi': [-60, -50, -70],\n",
       " 'when': '2018-11-13T15:23:53',\n",
       " 'rrm_enabled': True,\n",
       " 'reason': '',\n",
       " 'avgNoise': -90.0,\n",
       " 'density': 0,\n",
       " 'avgNeighbors': 0.0,\n",
       " 'avgCochannelNeighbors': 0.0,\n",
       " 'avgLoudNeighbors': 0.0,\n",
       " 'avgLoudCochannelNeighbors': 0.0,\n",
       " 'avgCochannelNeighbors_ref': 1.0,\n",
       " 'aps_off': 0,\n",
       " 'aps_channel_fixed': 20,\n",
       " 'aps_power_fixed': 20,\n",
       " 'naps_by_power': {11: 133},\n",
       " 'channels_chisq_max': 0.004182156133828997,\n",
       " 'channel_max': 153,\n",
       " 'channels_entropy': 1.0,\n",
       " 'isAnomaly': True,\n",
       " 'apscores_mean': 0.40364068064899095,\n",
       " 'apscores_std': 0.11785694218459868,\n",
       " 'aps_updated': 0}"
      ]
     },
     "execution_count": 32,
     "metadata": {},
     "output_type": "execute_result"
    }
   ],
   "source": [
    "mistG.graph"
   ]
  },
  {
   "cell_type": "code",
   "execution_count": null,
   "metadata": {},
   "outputs": [],
   "source": []
  }
 ],
 "metadata": {
  "kernelspec": {
   "display_name": "Python 3",
   "language": "python",
   "name": "python3"
  },
  "language_info": {
   "codemirror_mode": {
    "name": "ipython",
    "version": 3
   },
   "file_extension": ".py",
   "mimetype": "text/x-python",
   "name": "python",
   "nbconvert_exporter": "python",
   "pygments_lexer": "ipython3",
   "version": "3.7.4"
  }
 },
 "nbformat": 4,
 "nbformat_minor": 2
}
