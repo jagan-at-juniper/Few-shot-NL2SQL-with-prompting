{
 "cells": [
  {
   "cell_type": "code",
   "execution_count": 1,
   "metadata": {},
   "outputs": [
    {
     "name": "stdout",
     "output_type": "stream",
     "text": [
      "s3_output= s3://mist-production-athena/results/\n",
      "download_local_path = ../../downloads/\n",
      "SELECT * FROM \"secorapp_production\".\"cv_ap_scans\" where site='a40ba08c-5e27-40d9-b798-7020ca6e4cae' and band=5 and dt='2020-03-20';\n",
      "    \n",
      "{'QueryExecutionId': '0f5a469e-ff07-4819-aeaf-5a34ed2743d4', 'ResponseMetadata': {'RequestId': '07a2b6a3-d3cf-40dc-9d6e-86b20b626e5f', 'HTTPStatusCode': 200, 'HTTPHeaders': {'content-type': 'application/x-amz-json-1.1', 'date': 'Fri, 20 Mar 2020 23:36:22 GMT', 'x-amzn-requestid': '07a2b6a3-d3cf-40dc-9d6e-86b20b626e5f', 'content-length': '59', 'connection': 'keep-alive'}, 'RetryAttempts': 0}}\n",
      "results/0f5a469e-ff07-4819-aeaf-5a34ed2743d4.csv ../../downloads/0f5a469e-ff07-4819-aeaf-5a34ed2743d4.csv\n",
      "checking if key exist\n",
      "checking if key exist\n",
      "{'ResponseMetadata': {'RequestId': '5CC6EDEFC2741603', 'HostId': 'Ynb07BTMgiQkqM4VK5azvNomEWwBqZnmUubcZ5rtnIpMVfiPnsKqGYjQ68Y+b4iuyRcAb4RoDKY=', 'HTTPStatusCode': 200, 'HTTPHeaders': {'x-amz-id-2': 'Ynb07BTMgiQkqM4VK5azvNomEWwBqZnmUubcZ5rtnIpMVfiPnsKqGYjQ68Y+b4iuyRcAb4RoDKY=', 'x-amz-request-id': '5CC6EDEFC2741603', 'date': 'Fri, 20 Mar 2020 23:36:46 GMT', 'last-modified': 'Fri, 20 Mar 2020 23:36:34 GMT', 'etag': '\"b128d88dea0579be75e68d8507c53624-2\"', 'x-amz-server-side-encryption': 'AES256', 'accept-ranges': 'bytes', 'content-type': 'binary/octet-stream', 'content-length': '162902645', 'server': 'AmazonS3'}, 'RetryAttempts': 0}, 'AcceptRanges': 'bytes', 'LastModified': datetime.datetime(2020, 3, 20, 23, 36, 34, tzinfo=tzutc()), 'ContentLength': 162902645, 'ETag': '\"b128d88dea0579be75e68d8507c53624-2\"', 'ContentType': 'binary/octet-stream', 'ServerSideEncryption': 'AES256', 'Metadata': {}, 'Body': <botocore.response.StreamingBody object at 0x117d4e910>}\n",
      "download file size:  162902645\n"
     ]
    }
   ],
   "source": [
    "\n",
    "from s3_athena_api import *\n",
    "\n",
    "env = \"production\"\n",
    "site = 'a40ba08c-5e27-40d9-b798-7020ca6e4cae'\n",
    "band = \"5\"\n",
    "download_file = get_ap_scan(env, site, band)"
   ]
  },
  {
   "cell_type": "code",
   "execution_count": null,
   "metadata": {},
   "outputs": [],
   "source": []
  },
  {
   "cell_type": "code",
   "execution_count": 2,
   "metadata": {},
   "outputs": [],
   "source": [
    "import sys\n",
    "import os\n",
    "import time\n",
    "import boto3\n",
    "from botocore.exceptions import ClientError\n",
    "\n",
    "\n",
    "import datetime\n",
    "\n",
    "def run_query(query, database, s3_output, region_name='us-east-1'):\n",
    "    client = boto3.client('athena', region_name=region_name)\n",
    "    response = client.start_query_execution(\n",
    "        QueryString=query,\n",
    "        QueryExecutionContext={\n",
    "            'Database': database\n",
    "        },\n",
    "        ResultConfiguration={\n",
    "            'OutputLocation': s3_output\n",
    "        }\n",
    "    )\n",
    "    # print('Execution ID: ' + response['QueryExecutionId'])\n",
    "    print(response)\n",
    "    return response\n",
    "\n",
    "def download_s3_file(response, download_path, region_name='us-east-1'):\n",
    "    download_filename= download_path\n",
    "    if response.get('ResponseMetadata').get('HTTPStatusCode') == 200:\n",
    "        id = response.get('QueryExecutionId')\n",
    "        file = 'results/' + id + '.csv'\n",
    "        download_filename= download_path + id + '.csv'\n",
    "        print(file, download_filename)\n",
    "        while True:\n",
    "            client = boto3.client('s3', region_name=region_name)\n",
    "            s3_output_response = \"\"\n",
    "            try:\n",
    "                s3_output_response = client.get_object(Bucket=s3_bucket, Key=file)\n",
    "                print(s3_output_response)\n",
    "                client.download_file(Bucket=bucket, Key=file, Filename=download_filename)\n",
    "                break\n",
    "            except ClientError:\n",
    "                print('checking if key exist')\n",
    "            time.sleep(15)\n",
    "    return download_filename"
   ]
  },
  {
   "cell_type": "code",
   "execution_count": null,
   "metadata": {},
   "outputs": [],
   "source": []
  },
  {
   "cell_type": "code",
   "execution_count": 3,
   "metadata": {
    "scrolled": false
   },
   "outputs": [
    {
     "name": "stdout",
     "output_type": "stream",
     "text": [
      "s3_output= s3://mist-production-athena/results/\n",
      "download_path = ../../downloads/\n",
      "SELECT * FROM \"secorapp_production\".\"cv_ap_scans\" where site='a40ba08c-5e27-40d9-b798-7020ca6e4cae' and band=5 and dt='2020-03-20';\n",
      "\n",
      "{'QueryExecutionId': '904a3442-be1c-45f3-814d-88e48d36a364', 'ResponseMetadata': {'RequestId': '7b3554e2-3e08-49f7-b20d-7160bb7b520f', 'HTTPStatusCode': 200, 'HTTPHeaders': {'content-type': 'application/x-amz-json-1.1', 'date': 'Fri, 20 Mar 2020 23:37:07 GMT', 'x-amzn-requestid': '7b3554e2-3e08-49f7-b20d-7160bb7b520f', 'content-length': '59', 'connection': 'keep-alive'}, 'RetryAttempts': 0}}\n",
      "results/904a3442-be1c-45f3-814d-88e48d36a364.csv ../../downloads/904a3442-be1c-45f3-814d-88e48d36a364.csv\n",
      "checking if key exist\n",
      "{'ResponseMetadata': {'RequestId': 'BA2BAF4F45C8903F', 'HostId': '510hrey34PVM0nRd43gBGtUliEEGBPYol6Lu6430wZxg9116uKe5yketH2v662PsN5VJ12EUTiI=', 'HTTPStatusCode': 200, 'HTTPHeaders': {'x-amz-id-2': '510hrey34PVM0nRd43gBGtUliEEGBPYol6Lu6430wZxg9116uKe5yketH2v662PsN5VJ12EUTiI=', 'x-amz-request-id': 'BA2BAF4F45C8903F', 'date': 'Fri, 20 Mar 2020 23:37:24 GMT', 'last-modified': 'Fri, 20 Mar 2020 23:37:18 GMT', 'etag': '\"83591982e0e828fef8515c347ea1d839-2\"', 'x-amz-server-side-encryption': 'AES256', 'accept-ranges': 'bytes', 'content-type': 'binary/octet-stream', 'content-length': '164029910', 'server': 'AmazonS3'}, 'RetryAttempts': 0}, 'AcceptRanges': 'bytes', 'LastModified': datetime.datetime(2020, 3, 20, 23, 37, 18, tzinfo=tzutc()), 'ContentLength': 164029910, 'ETag': '\"83591982e0e828fef8515c347ea1d839-2\"', 'ContentType': 'binary/octet-stream', 'ServerSideEncryption': 'AES256', 'Metadata': {}, 'Body': <botocore.response.StreamingBody object at 0x117bca950>}\n"
     ]
    },
    {
     "ename": "NameError",
     "evalue": "name 'bucket' is not defined",
     "output_type": "error",
     "traceback": [
      "\u001b[0;31m---------------------------------------------------------------------------\u001b[0m",
      "\u001b[0;31mNameError\u001b[0m                                 Traceback (most recent call last)",
      "\u001b[0;32m<ipython-input-3-3ebe6fa7536f>\u001b[0m in \u001b[0;36m<module>\u001b[0;34m\u001b[0m\n\u001b[1;32m     36\u001b[0m \u001b[0;34m\u001b[0m\u001b[0m\n\u001b[1;32m     37\u001b[0m \u001b[0mresponse\u001b[0m \u001b[0;34m=\u001b[0m \u001b[0mrun_query\u001b[0m\u001b[0;34m(\u001b[0m\u001b[0mquery\u001b[0m\u001b[0;34m,\u001b[0m \u001b[0mdatabase\u001b[0m\u001b[0;34m,\u001b[0m \u001b[0ms3_output\u001b[0m\u001b[0;34m)\u001b[0m\u001b[0;34m\u001b[0m\u001b[0;34m\u001b[0m\u001b[0m\n\u001b[0;32m---> 38\u001b[0;31m \u001b[0mdownload_filename\u001b[0m \u001b[0;34m=\u001b[0m \u001b[0mdownload_s3_file\u001b[0m\u001b[0;34m(\u001b[0m\u001b[0mresponse\u001b[0m\u001b[0;34m,\u001b[0m \u001b[0mdownload_path\u001b[0m\u001b[0;34m)\u001b[0m\u001b[0;34m\u001b[0m\u001b[0;34m\u001b[0m\u001b[0m\n\u001b[0m\u001b[1;32m     39\u001b[0m \u001b[0;34m\u001b[0m\u001b[0m\n\u001b[1;32m     40\u001b[0m \u001b[0mprint\u001b[0m\u001b[0;34m(\u001b[0m\u001b[0;34m\"download file size: \"\u001b[0m\u001b[0;34m,\u001b[0m \u001b[0mos\u001b[0m\u001b[0;34m.\u001b[0m\u001b[0mpath\u001b[0m\u001b[0;34m.\u001b[0m\u001b[0mgetsize\u001b[0m\u001b[0;34m(\u001b[0m\u001b[0mdownload_filename\u001b[0m\u001b[0;34m)\u001b[0m\u001b[0;34m)\u001b[0m\u001b[0;34m\u001b[0m\u001b[0;34m\u001b[0m\u001b[0m\n",
      "\u001b[0;32m<ipython-input-2-1fc9c12e5990>\u001b[0m in \u001b[0;36mdownload_s3_file\u001b[0;34m(response, download_path, region_name)\u001b[0m\n\u001b[1;32m     36\u001b[0m                 \u001b[0ms3_output_response\u001b[0m \u001b[0;34m=\u001b[0m \u001b[0mclient\u001b[0m\u001b[0;34m.\u001b[0m\u001b[0mget_object\u001b[0m\u001b[0;34m(\u001b[0m\u001b[0mBucket\u001b[0m\u001b[0;34m=\u001b[0m\u001b[0ms3_bucket\u001b[0m\u001b[0;34m,\u001b[0m \u001b[0mKey\u001b[0m\u001b[0;34m=\u001b[0m\u001b[0mfile\u001b[0m\u001b[0;34m)\u001b[0m\u001b[0;34m\u001b[0m\u001b[0;34m\u001b[0m\u001b[0m\n\u001b[1;32m     37\u001b[0m                 \u001b[0mprint\u001b[0m\u001b[0;34m(\u001b[0m\u001b[0ms3_output_response\u001b[0m\u001b[0;34m)\u001b[0m\u001b[0;34m\u001b[0m\u001b[0;34m\u001b[0m\u001b[0m\n\u001b[0;32m---> 38\u001b[0;31m                 \u001b[0mclient\u001b[0m\u001b[0;34m.\u001b[0m\u001b[0mdownload_file\u001b[0m\u001b[0;34m(\u001b[0m\u001b[0mBucket\u001b[0m\u001b[0;34m=\u001b[0m\u001b[0mbucket\u001b[0m\u001b[0;34m,\u001b[0m \u001b[0mKey\u001b[0m\u001b[0;34m=\u001b[0m\u001b[0mfile\u001b[0m\u001b[0;34m,\u001b[0m \u001b[0mFilename\u001b[0m\u001b[0;34m=\u001b[0m\u001b[0mdownload_filename\u001b[0m\u001b[0;34m)\u001b[0m\u001b[0;34m\u001b[0m\u001b[0;34m\u001b[0m\u001b[0m\n\u001b[0m\u001b[1;32m     39\u001b[0m                 \u001b[0;32mbreak\u001b[0m\u001b[0;34m\u001b[0m\u001b[0;34m\u001b[0m\u001b[0m\n\u001b[1;32m     40\u001b[0m             \u001b[0;32mexcept\u001b[0m \u001b[0mClientError\u001b[0m\u001b[0;34m:\u001b[0m\u001b[0;34m\u001b[0m\u001b[0;34m\u001b[0m\u001b[0m\n",
      "\u001b[0;31mNameError\u001b[0m: name 'bucket' is not defined"
     ]
    }
   ],
   "source": [
    "\n",
    "today = datetime.datetime.today().strftime(\"%Y-%m-%d\")\n",
    "\n",
    "env = 'staging'\n",
    "env = \"production\"\n",
    "\n",
    "s3_bucket = 'mist-{ENV}-athena'.format(ENV=env)\n",
    "database = 'secorapp_{ENV}'.format(ENV=env)\n",
    "table = 'cv_ap_scans'\n",
    "\n",
    "\n",
    "s3_output = 's3://%s/results/' % s3_bucket\n",
    "print(\"s3_output=\",s3_output)\n",
    "download_path = os.curdir + './../downloads/'\n",
    "if not os.path.isdir(download_path):\n",
    "    os.mkdir(download_path)\n",
    "\n",
    "print(\"download_path = {}\".format(download_path))\n",
    "\n",
    "\n",
    "site='a799e12a-fc28-4ce7-a563-c2dd6d498e2f '\n",
    "site = 'a40ba08c-5e27-40d9-b798-7020ca6e4cae'\n",
    "\n",
    "# #SELECT * FROM \"secorapp_production\".\"cv_ap_scans\" where site='d1ee1d22-4b55-4c97-97c4-9d757144f45b' and ap2!='' and band=5 and tim > #\n",
    "#CAST('2020-03-10 01:00:00' as timestamp) and tim < CAST('2020-03-11 18:00:00' as timestamp) and dt='2020-03-10' order by tim asc, ap2;\n",
    "\n",
    "# query = '''SELECT date_trunc('hour', time) as time, org, site, ap, band, channel, ap2,\n",
    "#  count(ap2) as counts, max(rssi) as max_rssi, max(in_site) as in_site\n",
    "#  FROM \"secorapp-{ENV}\".\"{TABLE}\"\n",
    "#  WHERE site=\"{SITE}\" and time > date_add('day',-1,now())\n",
    "#  GROUP BY time,org,site,ap,band,ap2,channel;'''.format(ENV=env,TABLE=table,SITE=site)\n",
    "\n",
    "band='5'\n",
    "query = '''SELECT * FROM \"secorapp_{ENV}\".\"{TABLE}\" where site='{SITE}' and band={BAND} and dt='{today}';\n",
    "'''.format(ENV=env,TABLE=table,SITE=site, BAND=band, today=today)\n",
    "print(query)\n",
    "\n",
    "response = run_query(query, database, s3_output)\n",
    "download_filename = download_s3_file(response, download_path)\n",
    "\n",
    "print(\"download file size: \", os.path.getsize(download_filename))\n"
   ]
  },
  {
   "cell_type": "code",
   "execution_count": null,
   "metadata": {},
   "outputs": [],
   "source": [
    "\n",
    "#filename = download_path+file"
   ]
  },
  {
   "cell_type": "code",
   "execution_count": null,
   "metadata": {},
   "outputs": [],
   "source": []
  },
  {
   "cell_type": "code",
   "execution_count": null,
   "metadata": {},
   "outputs": [],
   "source": []
  },
  {
   "cell_type": "code",
   "execution_count": null,
   "metadata": {},
   "outputs": [],
   "source": [
    "import pandas as pd\n",
    "\n",
    "# filename = \"../downloads/results/f92186ad-642b-4ec7-9d3b-7cd4aa33c492.csv\"\n",
    "df = pd.read_csv(download_filename)\n",
    "df.head(10)"
   ]
  },
  {
   "cell_type": "code",
   "execution_count": null,
   "metadata": {},
   "outputs": [],
   "source": []
  },
  {
   "cell_type": "code",
   "execution_count": null,
   "metadata": {},
   "outputs": [],
   "source": [
    "# import csv\n",
    "\n",
    "# with open(download_filename) as csv_file:\n",
    "#     csv_reader = csv.reader(csv_file, delimiter=',')\n",
    "#     line_count = 0\n",
    "#     for row in csv_reader:\n",
    "#         if line_count == 0:\n",
    "#             print(f'Column names are {\", \".join(row)}')\n",
    "#             line_count += 1\n",
    "#         else:\n",
    "#             if line_count< 10:\n",
    "#                  print(row)\n",
    "#             line_count += 1\n",
    "#     print(f'Processed {line_count} lines.')"
   ]
  }
 ],
 "metadata": {
  "kernelspec": {
   "display_name": "Python 3",
   "language": "python",
   "name": "python3"
  },
  "language_info": {
   "codemirror_mode": {
    "name": "ipython",
    "version": 3
   },
   "file_extension": ".py",
   "mimetype": "text/x-python",
   "name": "python",
   "nbconvert_exporter": "python",
   "pygments_lexer": "ipython3",
   "version": "3.7.4"
  }
 },
 "nbformat": 4,
 "nbformat_minor": 2
}
