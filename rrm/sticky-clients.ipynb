{
 "cells": [
  {
   "cell_type": "code",
   "execution_count": 1,
   "metadata": {},
   "outputs": [
    {
     "name": "stdout",
     "output_type": "stream",
     "text": [
      "s3://mist-secorapp-production/sticky-client/sticky-client-production/dt=2020-03-0*/hr=*/*.seq\n"
     ]
    }
   ],
   "source": [
    "from pyspark.sql.functions import udf, size, avg, count, col,sum, explode\n",
    "import json\n",
    "\n",
    "env = \"production\"\n",
    "\n",
    "s3_bucket = \"s3://mist-secorapp-{env}/sticky-client/sticky-client-{env}/\".format(env=env)\n",
    "\n",
    "date_day = \"2020-03-0*\"\n",
    "hr = '*'\n",
    "\n",
    "s3_path = \"dt={day}/hr={hr}/*.seq\".format(env=env, day=date_day, hr=hr)\n",
    "\n",
    "s3_path = s3_bucket + s3_path\n",
    "print(s3_path)\n",
    "\n",
    "\n"
   ]
  },
  {
   "cell_type": "code",
   "execution_count": 2,
   "metadata": {},
   "outputs": [],
   "source": [
    "rdd = spark.sparkContext.sequenceFile(s3_path)\n"
   ]
  },
  {
   "cell_type": "code",
   "execution_count": 3,
   "metadata": {},
   "outputs": [
    {
     "data": {
      "text/plain": [
       "(2868370,\n",
       " bytearray(b'{\"Version\":3,\"WC\":\"00-56-cd-1d-96-91\",\"Sticky\":false,\"When\":\"2020-03-01T00:00:09.641772209Z\",\"Assoc\":{\"OrgID\":\"4a7f417d-a4b1-4452-804e-589a29dff85d\",\"SiteID\":\"28a11fdb-7d32-4abc-b8c0-c1eda38b9f92\",\"BSSID\":\"5c-5b-35-9c-16-83\",\"WLAN\":\"fe3e1e10-c7fa-43b2-9a87-486174a05f1b\",\"Band\":\"2.4\",\"AP\":\"5c-5b-35-9f-6d-00\",\"SSID\":\"WPA Prod\",\"AvgRSSI\":-67}}'))"
      ]
     },
     "execution_count": 3,
     "metadata": {},
     "output_type": "execute_result"
    }
   ],
   "source": [
    "rdd.first()"
   ]
  },
  {
   "cell_type": "code",
   "execution_count": 4,
   "metadata": {},
   "outputs": [
    {
     "name": "stderr",
     "output_type": "stream",
     "text": [
      "/opt/mistsys/ds_incubator/venv/spark-2.4.4-bin-without-hadoop/python/pyspark/sql/session.py:366: UserWarning: Using RDD of dict to inferSchema is deprecated. Use pyspark.sql.Row instead\n",
      "  warnings.warn(\"Using RDD of dict to inferSchema is deprecated. \"\n"
     ]
    },
    {
     "name": "stdout",
     "output_type": "stream",
     "text": [
      "+--------------------+------+-------+-----------------+--------------------+\n",
      "|               Assoc|Sticky|Version|               WC|                When|\n",
      "+--------------------+------+-------+-----------------+--------------------+\n",
      "|[OrgID -> 4a7f417...| false|      3|00-56-cd-1d-96-91|2020-03-01T00:00:...|\n",
      "|[OrgID -> 2010156...|  true|      3|0c-dd-24-af-1b-8a|2020-03-01T00:00:...|\n",
      "|[OrgID -> d4d2e00...|  true|      3|88-da-1a-79-b6-be|2020-03-01T00:00:...|\n",
      "|[OrgID -> ee61f48...| false|      3|54-33-cb-e5-fa-9f|2020-03-01T00:00:...|\n",
      "|[OrgID -> d4d2e00...| false|      3|88-da-1a-79-b6-be|2020-03-01T00:00:...|\n",
      "|[OrgID -> 2010156...| false|      3|0c-dd-24-af-1b-8a|2020-03-01T00:00:...|\n",
      "|[OrgID -> b85f42c...| false|      3|08-3a-88-05-cd-8b|2020-03-01T00:00:...|\n",
      "|[OrgID -> 2a28c8e...|  true|      3|00-19-70-98-87-2e|2020-03-01T00:00:...|\n",
      "|[OrgID -> 931df52...| false|      3|b8-53-ac-82-61-de|2020-03-01T00:00:...|\n",
      "|[OrgID -> 2010156...|  true|      3|40-74-e0-0e-8c-ce|2020-03-01T00:01:...|\n",
      "|[OrgID -> d4d2e00...| false|      3|b0-ca-68-c4-67-4b|2020-03-01T00:01:...|\n",
      "|[OrgID -> 2010156...| false|      3|40-74-e0-0e-8c-ce|2020-03-01T00:01:...|\n",
      "|[OrgID -> ee61f48...| false|      3|64-16-66-48-29-2d|2020-03-01T00:03:...|\n",
      "|[OrgID -> 2010156...|  true|      3|e4-02-9b-d4-85-be|2020-03-01T00:03:...|\n",
      "|[OrgID -> d4d2e00...|  true|      3|88-da-1a-79-b6-be|2020-03-01T00:03:...|\n",
      "|[OrgID -> 2010156...| false|      3|e4-02-9b-d4-85-be|2020-03-01T00:03:...|\n",
      "|[OrgID -> d4d2e00...| false|      3|88-da-1a-79-b6-be|2020-03-01T00:03:...|\n",
      "|[OrgID -> 2010156...|  true|      3|0c-dd-24-af-1b-8a|2020-03-01T00:03:...|\n",
      "|[OrgID -> 2a28c8e...| false|      3|00-19-70-98-87-2e|2020-03-01T00:04:...|\n",
      "|[OrgID -> 2010156...| false|      3|0c-dd-24-af-1b-8a|2020-03-01T00:04:...|\n",
      "+--------------------+------+-------+-----------------+--------------------+\n",
      "only showing top 20 rows\n",
      "\n"
     ]
    }
   ],
   "source": [
    "df_sticky = rdd.map(lambda x: json.loads(x[1])).toDF()\n",
    "df_sticky.show()"
   ]
  },
  {
   "cell_type": "code",
   "execution_count": null,
   "metadata": {},
   "outputs": [],
   "source": [
    "# df_USNYELE = df_rrm.filter((col('site_id')==user_site_USNYELE) & (col('band')==5))\n",
    "# df_USFLLON = df_rrm.filter((col('site_id')==user_site_USFLLON) & (col('band')==5))"
   ]
  },
  {
   "cell_type": "code",
   "execution_count": null,
   "metadata": {},
   "outputs": [],
   "source": [
    "df_USNYELE.select(\"command\", \"reason\").groupBy(\"command\", 'reason').count().show()"
   ]
  },
  {
   "cell_type": "code",
   "execution_count": null,
   "metadata": {},
   "outputs": [],
   "source": [
    "df_USFLLON.select(\"command\", \"reason\").groupBy(\"command\", 'reason').count().show()"
   ]
  },
  {
   "cell_type": "code",
   "execution_count": null,
   "metadata": {},
   "outputs": [],
   "source": [
    "df_USFLLON.filter(col(\"command\")==\"rrm-global\").groupBy(\"band\",'when', \"command\", 'reason').count().show()"
   ]
  },
  {
   "cell_type": "code",
   "execution_count": null,
   "metadata": {},
   "outputs": [],
   "source": []
  },
  {
   "cell_type": "code",
   "execution_count": null,
   "metadata": {},
   "outputs": [],
   "source": []
  },
  {
   "cell_type": "code",
   "execution_count": null,
   "metadata": {},
   "outputs": [],
   "source": []
  }
 ],
 "metadata": {
  "kernelspec": {
   "display_name": "Python 3",
   "language": "python",
   "name": "python3"
  },
  "language_info": {
   "codemirror_mode": {
    "name": "ipython",
    "version": 3
   },
   "file_extension": ".py",
   "mimetype": "text/x-python",
   "name": "python",
   "nbconvert_exporter": "python",
   "pygments_lexer": "ipython3",
   "version": "3.7.4"
  }
 },
 "nbformat": 4,
 "nbformat_minor": 4
}
