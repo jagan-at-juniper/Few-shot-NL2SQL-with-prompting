{
 "cells": [
  {
   "cell_type": "code",
   "execution_count": 1,
   "metadata": {},
   "outputs": [],
   "source": [
    "from IPython.core.interactiveshell import InteractiveShell\n",
    "InteractiveShell.ast_node_interactivity = \"all\"\n",
    "\n",
    "import pyspark\n",
    "from pyspark.sql import SparkSession, Row\n",
    "from pyspark.sql.types import StringType, IntegerType, ArrayType, FloatType, DataType, LongType\n",
    "import pyspark.sql.functions as fn\n",
    "from pyspark.sql.functions import udf, size, avg, count, col,sum\n",
    "from operator import itemgetter\n",
    "import json, datetime\n"
   ]
  },
  {
   "cell_type": "code",
   "execution_count": 2,
   "metadata": {},
   "outputs": [
    {
     "name": "stdout",
     "output_type": "stream",
     "text": [
      "root\n",
      " |-- ap: string (nullable = true)\n",
      " |-- ap2: string (nullable = true)\n",
      " |-- band: short (nullable = true)\n",
      " |-- channel: short (nullable = true)\n",
      " |-- in_site: boolean (nullable = true)\n",
      " |-- org: string (nullable = true)\n",
      " |-- rssi: float (nullable = true)\n",
      " |-- site: string (nullable = true)\n",
      " |-- time: timestamp (nullable = true)\n",
      " |-- radio_channel: short (nullable = true)\n",
      "\n"
     ]
    }
   ],
   "source": [
    "\n",
    "env = \"staging\"\n",
    "DATE = '2019-10-27/'\n",
    "file_path ='s3a://mist-secorapp-{env}/cv-ap-scans/cv-ap-scans-multipartition-{env}/dt={date}'.format(env=env, date=DATE)\n",
    "df = spark.read.orc(file_path)\n",
    "df.printSchema()\n"
   ]
  },
  {
   "cell_type": "code",
   "execution_count": 3,
   "metadata": {},
   "outputs": [
    {
     "name": "stdout",
     "output_type": "stream",
     "text": [
      "+------------+------------+----+-------+-------+--------------------+-----+--------------------+-------------------+-------------+\n",
      "|          ap|         ap2|band|channel|in_site|                 org| rssi|                site|               time|radio_channel|\n",
      "+------------+------------+----+-------+-------+--------------------+-----+--------------------+-------------------+-------------+\n",
      "|5c5b350e75c7|            |  24|      1|  false|b92b876a-3861-45a...|-69.0|a2d78a29-41b7-420...|2019-10-27 17:44:51|            6|\n",
      "|5c5b350e57a8|            |  24|      3|  false|b425e4f2-ad72-11e...|-56.0|c4a51a2c-ad73-11e...|2019-10-27 17:46:04|            7|\n",
      "|5c5b350e57a8|5c5b350e0519|  24|      1|  false|b425e4f2-ad72-11e...|-45.0|c4a51a2c-ad73-11e...|2019-10-27 17:46:04|            7|\n",
      "|5c5b350e57a8|            |  24|      6|  false|b425e4f2-ad72-11e...|-61.0|c4a51a2c-ad73-11e...|2019-10-27 17:46:04|            7|\n",
      "|5c5b350e57a8|            |  24|      3|  false|b425e4f2-ad72-11e...|-57.0|c4a51a2c-ad73-11e...|2019-10-27 17:46:04|            7|\n",
      "|5c5b350e57a8|            |  24|      9|  false|b425e4f2-ad72-11e...|-46.0|c4a51a2c-ad73-11e...|2019-10-27 17:46:04|            7|\n",
      "|5c5b350e57a8|            |  24|      6|  false|b425e4f2-ad72-11e...|-50.0|c4a51a2c-ad73-11e...|2019-10-27 17:46:04|            7|\n",
      "|5c5b350e57a8|5c5b350e12ed|  24|      7|  false|b425e4f2-ad72-11e...|-44.0|c4a51a2c-ad73-11e...|2019-10-27 17:46:04|            7|\n",
      "|5c5b350e57a8|5c5b353e2693|  24|      7|  false|b425e4f2-ad72-11e...|-48.0|c4a51a2c-ad73-11e...|2019-10-27 17:46:04|            7|\n",
      "|5c5b350e57a8|            |  24|     11|  false|b425e4f2-ad72-11e...|-36.0|c4a51a2c-ad73-11e...|2019-10-27 17:46:04|            7|\n",
      "|5c5b350e57a8|            |  24|      1|  false|b425e4f2-ad72-11e...|-48.0|c4a51a2c-ad73-11e...|2019-10-27 17:46:04|            7|\n",
      "|5c5b350e57a8|            |  24|      1|  false|b425e4f2-ad72-11e...|-37.0|c4a51a2c-ad73-11e...|2019-10-27 17:46:04|            7|\n",
      "|5c5b350e57a8|5c5b350e0744|  24|      5|  false|b425e4f2-ad72-11e...|-40.0|c4a51a2c-ad73-11e...|2019-10-27 17:46:04|            7|\n",
      "|5c5b350e57a8|5c5b350e5a0f|  24|      9|  false|b425e4f2-ad72-11e...|-46.0|c4a51a2c-ad73-11e...|2019-10-27 17:46:04|            7|\n",
      "|5c5b350e57a8|            |  24|      5|  false|b425e4f2-ad72-11e...|-68.0|c4a51a2c-ad73-11e...|2019-10-27 17:46:04|            7|\n",
      "|5c5b350e57a8|            |  24|     13|  false|b425e4f2-ad72-11e...|-38.0|c4a51a2c-ad73-11e...|2019-10-27 17:46:04|            7|\n",
      "|5c5b350e57a8|5c5b350ebac9|  24|      5|  false|b425e4f2-ad72-11e...|-31.0|c4a51a2c-ad73-11e...|2019-10-27 17:46:04|            7|\n",
      "|5c5b350e57a8|            |  24|     11|  false|b425e4f2-ad72-11e...|-56.0|c4a51a2c-ad73-11e...|2019-10-27 17:46:04|            7|\n",
      "|5c5b350e57a8|5c5b353e2698|  24|      7|  false|b425e4f2-ad72-11e...|-60.0|c4a51a2c-ad73-11e...|2019-10-27 17:46:04|            7|\n",
      "|5c5b350e57a8|5c5b350e531b|  24|      5|  false|b425e4f2-ad72-11e...|-30.0|c4a51a2c-ad73-11e...|2019-10-27 17:46:04|            7|\n",
      "+------------+------------+----+-------+-------+--------------------+-----+--------------------+-------------------+-------------+\n",
      "only showing top 20 rows\n",
      "\n"
     ]
    }
   ],
   "source": [
    "df.show()"
   ]
  },
  {
   "cell_type": "code",
   "execution_count": null,
   "metadata": {},
   "outputs": [],
   "source": []
  }
 ],
 "metadata": {
  "kernelspec": {
   "display_name": "Python 3",
   "language": "python",
   "name": "python3"
  },
  "language_info": {
   "codemirror_mode": {
    "name": "ipython",
    "version": 3
   },
   "file_extension": ".py",
   "mimetype": "text/x-python",
   "name": "python",
   "nbconvert_exporter": "python",
   "pygments_lexer": "ipython3",
   "version": "3.7.4"
  }
 },
 "nbformat": 4,
 "nbformat_minor": 2
}
