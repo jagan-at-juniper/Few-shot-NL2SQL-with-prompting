{
 "cells": [
  {
   "cell_type": "code",
   "execution_count": 1,
   "metadata": {},
   "outputs": [
    {
     "ename": "NameError",
     "evalue": "name 'ap_stats_df' is not defined",
     "output_type": "error",
     "traceback": [
      "\u001b[0;31m---------------------------------------------------------------------------\u001b[0m",
      "\u001b[0;31mNameError\u001b[0m                                 Traceback (most recent call last)",
      "\u001b[0;32m<ipython-input-1-1137ff9a5356>\u001b[0m in \u001b[0;36m<module>\u001b[0;34m\u001b[0m\n\u001b[1;32m     14\u001b[0m \u001b[0;34m\u001b[0m\u001b[0m\n\u001b[1;32m     15\u001b[0m \u001b[0;34m\u001b[0m\u001b[0m\n\u001b[0;32m---> 16\u001b[0;31m \u001b[0mtop_sorted\u001b[0m \u001b[0;34m=\u001b[0m \u001b[0maggregated_data\u001b[0m\u001b[0;34m(\u001b[0m\u001b[0map_stats_df\u001b[0m\u001b[0;34m)\u001b[0m\u001b[0;34m\u001b[0m\u001b[0;34m\u001b[0m\u001b[0m\n\u001b[0m",
      "\u001b[0;31mNameError\u001b[0m: name 'ap_stats_df' is not defined"
     ]
    }
   ],
   "source": [
    "from pyspark.sql import functions as sqf\n",
    "from pyspark.sql import Window\n",
    "from pyspark.sql.functions import col\n",
    "\n",
    "def aggregated_data(df, top = 100):\n",
    "    df_exploded = df.select('ap_id', 'site_id', 'when', sqf.explode('switchports').alias('tmp'))\\\n",
    "                    .select('ap_id', 'site_id', 'when', 'tmp.name', 'tmp.rx_peakbps', 'tmp.tx_peakbps')\n",
    "    window_clients = Window.partitionBy(\"site_id\", \"ap_id\").orderBy(sqf.col(\"rx_peakbps\").desc())\n",
    "    top_sorted = df_exploded.where(col('rx_peakbps') > 0)\\\n",
    "                            .select('ap_id', 'site_id', 'when', 'name', 'rx_peakbps',\n",
    "                                              sqf.dense_rank().over(window_clients).alias('index'))\\\n",
    "                            .where(sqf.col('index') < top)\n",
    "    return top_sorted\n",
    "\n",
    "\n",
    "top_sorted = aggregated_data(ap_stats_df)"
   ]
  },
  {
   "cell_type": "code",
   "execution_count": 2,
   "metadata": {},
   "outputs": [],
   "source": [
    "\n",
    "paths = ['s3a://mist-secor-production/ap-stats-analytics/ap-stats-analytics-production/dt=2019-10-21/*']\n",
    "ap_stats_df = spark.read.option(\"basePath\",\"s3a://mist-secor-production\").parquet(*paths)\n"
   ]
  },
  {
   "cell_type": "code",
   "execution_count": null,
   "metadata": {},
   "outputs": [],
   "source": []
  }
 ],
 "metadata": {
  "kernelspec": {
   "display_name": "Python 3",
   "language": "python",
   "name": "python3"
  },
  "language_info": {
   "codemirror_mode": {
    "name": "ipython",
    "version": 3
   },
   "file_extension": ".py",
   "mimetype": "text/x-python",
   "name": "python",
   "nbconvert_exporter": "python",
   "pygments_lexer": "ipython3",
   "version": "3.7.4"
  }
 },
 "nbformat": 4,
 "nbformat_minor": 2
}
